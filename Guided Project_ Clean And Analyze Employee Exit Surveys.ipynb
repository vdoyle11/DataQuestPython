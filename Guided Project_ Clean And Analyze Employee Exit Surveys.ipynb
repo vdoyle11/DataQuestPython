/0000777000175000000000000000000013660573620010545 5ustar  dqroot00000000000000.ipynb_checkpoints/0000755000175000017500000000000013660564027013712 5ustar  dqdq00000000000000.ipynb_checkpoints/Basics-checkpoint.ipynb0000777000175000017500000000110513660564027020312 0ustar  dqdq00000000000000{
 "cells": [
  {
   "cell_type": "code",
   "execution_count": null,
   "metadata": {
    "collapsed": true
   },
   "outputs": [],
   "source": []
  }
 ],
 "metadata": {
  "kernelspec": {
   "display_name": "Python 3",
   "language": "python",
   "name": "python3"
  },
  "language_info": {
   "codemirror_mode": {
    "name": "ipython",
    "version": 3
   },
   "file_extension": ".py",
   "mimetype": "text/x-python",
   "name": "python",
   "nbconvert_exporter": "python",
   "pygments_lexer": "ipython3",
   "version": "3.4.3"
  }
 },
 "nbformat": 4,
 "nbformat_minor": 2
}
Basics.ipynb0000777000175000000000000052165613660573620012757 0ustar  dqroot00000000000000{
 "cells": [
  {
   "cell_type": "markdown",
   "metadata": {
    "collapsed": true
   },
   "source": [
    "# Clean and Analyze Employee Exit Surveys\n",
    "\n",
    "In this project, I will clean and analyze exit surveys from employees of the Department of Education, Training and Employment (DETE) and the Technical and Further Education (TAKE) body of the Queensland government in Australia. \n",
    "\n",
    "Pretend the stakeholders want me to combine the results for both surveys to answer the following question:\n",
    "* Are employees who only worked for the institutes for a short period of time resigining due to some kind of dissatisfaction? What about employees who have been there longer?"
   ]
  },
  {
   "cell_type": "markdown",
   "metadata": {},
   "source": [
    "# Introduction\n",
    "\n",
    "Read datasets and do some initial exploration. "
   ]
  },
  {
   "cell_type": "code",
   "execution_count": 1,
   "metadata": {
    "collapsed": false
   },
   "outputs": [
    {
     "data": {
      "text/html": [
       "<div>\n",
       "<style scoped>\n",
       "    .dataframe tbody tr th:only-of-type {\n",
       "        vertical-align: middle;\n",
       "    }\n",
       "\n",
       "    .dataframe tbody tr th {\n",
       "        vertical-align: top;\n",
       "    }\n",
       "\n",
       "    .dataframe thead th {\n",
       "        text-align: right;\n",
       "    }\n",
       "</style>\n",
       "<table border=\"1\" class=\"dataframe\">\n",
       "  <thead>\n",
       "    <tr style=\"text-align: right;\">\n",
       "      <th></th>\n",
       "      <th>ID</th>\n",
       "      <th>SeparationType</th>\n",
       "      <th>Cease Date</th>\n",
       "      <th>DETE Start Date</th>\n",
       "      <th>Role Start Date</th>\n",
       "      <th>Position</th>\n",
       "      <th>Classification</th>\n",
       "      <th>Region</th>\n",
       "      <th>Business Unit</th>\n",
       "      <th>Employment Status</th>\n",
       "      <th>Career move to public sector</th>\n",
       "      <th>Career move to private sector</th>\n",
       "      <th>Interpersonal conflicts</th>\n",
       "      <th>Job dissatisfaction</th>\n",
       "      <th>Dissatisfaction with the department</th>\n",
       "      <th>Physical work environment</th>\n",
       "      <th>Lack of recognition</th>\n",
       "      <th>Lack of job security</th>\n",
       "      <th>Work location</th>\n",
       "      <th>Employment conditions</th>\n",
       "      <th>Maternity/family</th>\n",
       "      <th>Relocation</th>\n",
       "      <th>Study/Travel</th>\n",
       "      <th>Ill Health</th>\n",
       "      <th>Traumatic incident</th>\n",
       "      <th>Work life balance</th>\n",
       "      <th>Workload</th>\n",
       "      <th>None of the above</th>\n",
       "      <th>Professional Development</th>\n",
       "      <th>Opportunities for promotion</th>\n",
       "      <th>Staff morale</th>\n",
       "      <th>Workplace issue</th>\n",
       "      <th>Physical environment</th>\n",
       "      <th>Worklife balance</th>\n",
       "      <th>Stress and pressure support</th>\n",
       "      <th>Performance of supervisor</th>\n",
       "      <th>Peer support</th>\n",
       "      <th>Initiative</th>\n",
       "      <th>Skills</th>\n",
       "      <th>Coach</th>\n",
       "      <th>Career Aspirations</th>\n",
       "      <th>Feedback</th>\n",
       "      <th>Further PD</th>\n",
       "      <th>Communication</th>\n",
       "      <th>My say</th>\n",
       "      <th>Information</th>\n",
       "      <th>Kept informed</th>\n",
       "      <th>Wellness programs</th>\n",
       "      <th>Health &amp; Safety</th>\n",
       "      <th>Gender</th>\n",
       "      <th>Age</th>\n",
       "      <th>Aboriginal</th>\n",
       "      <th>Torres Strait</th>\n",
       "      <th>South Sea</th>\n",
       "      <th>Disability</th>\n",
       "      <th>NESB</th>\n",
       "    </tr>\n",
       "  </thead>\n",
       "  <tbody>\n",
       "    <tr>\n",
       "      <th>0</th>\n",
       "      <td>1</td>\n",
       "      <td>Ill Health Retirement</td>\n",
       "      <td>08/2012</td>\n",
       "      <td>1984</td>\n",
       "      <td>2004</td>\n",
       "      <td>Public Servant</td>\n",
       "      <td>A01-A04</td>\n",
       "      <td>Central Office</td>\n",
       "      <td>Corporate Strategy and Peformance</td>\n",
       "      <td>Permanent Full-time</td>\n",
       "      <td>True</td>\n",
       "      <td>False</td>\n",
       "      <td>False</td>\n",
       "      <td>True</td>\n",
       "      <td>False</td>\n",
       "      <td>False</td>\n",
       "      <td>True</td>\n",
       "      <td>False</td>\n",
       "      <td>False</td>\n",
       "      <td>False</td>\n",
       "      <td>False</td>\n",
       "      <td>False</td>\n",
       "      <td>False</td>\n",
       "      <td>False</td>\n",
       "      <td>False</td>\n",
       "      <td>False</td>\n",
       "      <td>False</td>\n",
       "      <td>True</td>\n",
       "      <td>A</td>\n",
       "      <td>A</td>\n",
       "      <td>N</td>\n",
       "      <td>N</td>\n",
       "      <td>N</td>\n",
       "      <td>A</td>\n",
       "      <td>A</td>\n",
       "      <td>A</td>\n",
       "      <td>A</td>\n",
       "      <td>N</td>\n",
       "      <td>N</td>\n",
       "      <td>N</td>\n",
       "      <td>A</td>\n",
       "      <td>A</td>\n",
       "      <td>A</td>\n",
       "      <td>N</td>\n",
       "      <td>A</td>\n",
       "      <td>A</td>\n",
       "      <td>N</td>\n",
       "      <td>N</td>\n",
       "      <td>N</td>\n",
       "      <td>Male</td>\n",
       "      <td>56-60</td>\n",
       "      <td>NaN</td>\n",
       "      <td>NaN</td>\n",
       "      <td>NaN</td>\n",
       "      <td>NaN</td>\n",
       "      <td>Yes</td>\n",
       "    </tr>\n",
       "    <tr>\n",
       "      <th>1</th>\n",
       "      <td>2</td>\n",
       "      <td>Voluntary Early Retirement (VER)</td>\n",
       "      <td>08/2012</td>\n",
       "      <td>Not Stated</td>\n",
       "      <td>Not Stated</td>\n",
       "      <td>Public Servant</td>\n",
       "      <td>AO5-AO7</td>\n",
       "      <td>Central Office</td>\n",
       "      <td>Corporate Strategy and Peformance</td>\n",
       "      <td>Permanent Full-time</td>\n",
       "      <td>False</td>\n",
       "      <td>False</td>\n",
       "      <td>False</td>\n",
       "      <td>False</td>\n",
       "      <td>False</td>\n",
       "      <td>False</td>\n",
       "      <td>False</td>\n",
       "      <td>False</td>\n",
       "      <td>False</td>\n",
       "      <td>False</td>\n",
       "      <td>False</td>\n",
       "      <td>False</td>\n",
       "      <td>False</td>\n",
       "      <td>False</td>\n",
       "      <td>False</td>\n",
       "      <td>False</td>\n",
       "      <td>False</td>\n",
       "      <td>False</td>\n",
       "      <td>A</td>\n",
       "      <td>A</td>\n",
       "      <td>N</td>\n",
       "      <td>N</td>\n",
       "      <td>N</td>\n",
       "      <td>N</td>\n",
       "      <td>A</td>\n",
       "      <td>A</td>\n",
       "      <td>A</td>\n",
       "      <td>N</td>\n",
       "      <td>N</td>\n",
       "      <td>N</td>\n",
       "      <td>A</td>\n",
       "      <td>A</td>\n",
       "      <td>A</td>\n",
       "      <td>N</td>\n",
       "      <td>A</td>\n",
       "      <td>A</td>\n",
       "      <td>N</td>\n",
       "      <td>N</td>\n",
       "      <td>N</td>\n",
       "      <td>Male</td>\n",
       "      <td>56-60</td>\n",
       "      <td>NaN</td>\n",
       "      <td>NaN</td>\n",
       "      <td>NaN</td>\n",
       "      <td>NaN</td>\n",
       "      <td>NaN</td>\n",
       "    </tr>\n",
       "    <tr>\n",
       "      <th>2</th>\n",
       "      <td>3</td>\n",
       "      <td>Voluntary Early Retirement (VER)</td>\n",
       "      <td>05/2012</td>\n",
       "      <td>2011</td>\n",
       "      <td>2011</td>\n",
       "      <td>Schools Officer</td>\n",
       "      <td>NaN</td>\n",
       "      <td>Central Office</td>\n",
       "      <td>Education Queensland</td>\n",
       "      <td>Permanent Full-time</td>\n",
       "      <td>False</td>\n",
       "      <td>False</td>\n",
       "      <td>False</td>\n",
       "      <td>False</td>\n",
       "      <td>False</td>\n",
       "      <td>False</td>\n",
       "      <td>False</td>\n",
       "      <td>False</td>\n",
       "      <td>False</td>\n",
       "      <td>False</td>\n",
       "      <td>False</td>\n",
       "      <td>False</td>\n",
       "      <td>False</td>\n",
       "      <td>False</td>\n",
       "      <td>False</td>\n",
       "      <td>False</td>\n",
       "      <td>False</td>\n",
       "      <td>True</td>\n",
       "      <td>N</td>\n",
       "      <td>N</td>\n",
       "      <td>N</td>\n",
       "      <td>N</td>\n",
       "      <td>N</td>\n",
       "      <td>N</td>\n",
       "      <td>N</td>\n",
       "      <td>N</td>\n",
       "      <td>N</td>\n",
       "      <td>N</td>\n",
       "      <td>N</td>\n",
       "      <td>N</td>\n",
       "      <td>N</td>\n",
       "      <td>N</td>\n",
       "      <td>N</td>\n",
       "      <td>A</td>\n",
       "      <td>A</td>\n",
       "      <td>N</td>\n",
       "      <td>N</td>\n",
       "      <td>N</td>\n",
       "      <td>N</td>\n",
       "      <td>Male</td>\n",
       "      <td>61 or older</td>\n",
       "      <td>NaN</td>\n",
       "      <td>NaN</td>\n",
       "      <td>NaN</td>\n",
       "      <td>NaN</td>\n",
       "      <td>NaN</td>\n",
       "    </tr>\n",
       "    <tr>\n",
       "      <th>3</th>\n",
       "      <td>4</td>\n",
       "      <td>Resignation-Other reasons</td>\n",
       "      <td>05/2012</td>\n",
       "      <td>2005</td>\n",
       "      <td>2006</td>\n",
       "      <td>Teacher</td>\n",
       "      <td>Primary</td>\n",
       "      <td>Central Queensland</td>\n",
       "      <td>NaN</td>\n",
       "      <td>Permanent Full-time</td>\n",
       "      <td>False</td>\n",
       "      <td>True</td>\n",
       "      <td>False</td>\n",
       "      <td>False</td>\n",
       "      <td>False</td>\n",
       "      <td>False</td>\n",
       "      <td>False</td>\n",
       "      <td>False</td>\n",
       "      <td>False</td>\n",
       "      <td>False</td>\n",
       "      <td>False</td>\n",
       "      <td>False</td>\n",
       "      <td>False</td>\n",
       "      <td>False</td>\n",
       "      <td>False</td>\n",
       "      <td>False</td>\n",
       "      <td>False</td>\n",
       "      <td>False</td>\n",
       "      <td>A</td>\n",
       "      <td>N</td>\n",
       "      <td>N</td>\n",
       "      <td>N</td>\n",
       "      <td>A</td>\n",
       "      <td>A</td>\n",
       "      <td>N</td>\n",
       "      <td>N</td>\n",
       "      <td>A</td>\n",
       "      <td>A</td>\n",
       "      <td>A</td>\n",
       "      <td>A</td>\n",
       "      <td>A</td>\n",
       "      <td>A</td>\n",
       "      <td>A</td>\n",
       "      <td>A</td>\n",
       "      <td>A</td>\n",
       "      <td>A</td>\n",
       "      <td>A</td>\n",
       "      <td>N</td>\n",
       "      <td>A</td>\n",
       "      <td>Female</td>\n",
       "      <td>36-40</td>\n",
       "      <td>NaN</td>\n",
       "      <td>NaN</td>\n",
       "      <td>NaN</td>\n",
       "      <td>NaN</td>\n",
       "      <td>NaN</td>\n",
       "    </tr>\n",
       "    <tr>\n",
       "      <th>4</th>\n",
       "      <td>5</td>\n",
       "      <td>Age Retirement</td>\n",
       "      <td>05/2012</td>\n",
       "      <td>1970</td>\n",
       "      <td>1989</td>\n",
       "      <td>Head of Curriculum/Head of Special Education</td>\n",
       "      <td>NaN</td>\n",
       "      <td>South East</td>\n",
       "      <td>NaN</td>\n",
       "      <td>Permanent Full-time</td>\n",
       "      <td>False</td>\n",
       "      <td>False</td>\n",
       "      <td>False</td>\n",
       "      <td>False</td>\n",
       "      <td>False</td>\n",
       "      <td>False</td>\n",
       "      <td>False</td>\n",
       "      <td>False</td>\n",
       "      <td>False</td>\n",
       "      <td>False</td>\n",
       "      <td>False</td>\n",
       "      <td>False</td>\n",
       "      <td>False</td>\n",
       "      <td>False</td>\n",
       "      <td>False</td>\n",
       "      <td>True</td>\n",
       "      <td>False</td>\n",
       "      <td>False</td>\n",
       "      <td>A</td>\n",
       "      <td>A</td>\n",
       "      <td>N</td>\n",
       "      <td>N</td>\n",
       "      <td>D</td>\n",
       "      <td>D</td>\n",
       "      <td>N</td>\n",
       "      <td>A</td>\n",
       "      <td>A</td>\n",
       "      <td>A</td>\n",
       "      <td>A</td>\n",
       "      <td>A</td>\n",
       "      <td>A</td>\n",
       "      <td>SA</td>\n",
       "      <td>SA</td>\n",
       "      <td>D</td>\n",
       "      <td>D</td>\n",
       "      <td>A</td>\n",
       "      <td>N</td>\n",
       "      <td>A</td>\n",
       "      <td>M</td>\n",
       "      <td>Female</td>\n",
       "      <td>61 or older</td>\n",
       "      <td>NaN</td>\n",
       "      <td>NaN</td>\n",
       "      <td>NaN</td>\n",
       "      <td>NaN</td>\n",
       "      <td>NaN</td>\n",
       "    </tr>\n",
       "  </tbody>\n",
       "</table>\n",
       "</div>"
      ],
      "text/plain": [
       "   ID                    SeparationType Cease Date DETE Start Date  \\\n",
       "0   1             Ill Health Retirement    08/2012            1984   \n",
       "1   2  Voluntary Early Retirement (VER)    08/2012      Not Stated   \n",
       "2   3  Voluntary Early Retirement (VER)    05/2012            2011   \n",
       "3   4         Resignation-Other reasons    05/2012            2005   \n",
       "4   5                    Age Retirement    05/2012            1970   \n",
       "\n",
       "  Role Start Date                                      Position  \\\n",
       "0            2004                                Public Servant   \n",
       "1      Not Stated                                Public Servant   \n",
       "2            2011                               Schools Officer   \n",
       "3            2006                                       Teacher   \n",
       "4            1989  Head of Curriculum/Head of Special Education   \n",
       "\n",
       "  Classification              Region                      Business Unit  \\\n",
       "0        A01-A04      Central Office  Corporate Strategy and Peformance   \n",
       "1        AO5-AO7      Central Office  Corporate Strategy and Peformance   \n",
       "2            NaN      Central Office               Education Queensland   \n",
       "3        Primary  Central Queensland                                NaN   \n",
       "4            NaN          South East                                NaN   \n",
       "\n",
       "     Employment Status  Career move to public sector  \\\n",
       "0  Permanent Full-time                          True   \n",
       "1  Permanent Full-time                         False   \n",
       "2  Permanent Full-time                         False   \n",
       "3  Permanent Full-time                         False   \n",
       "4  Permanent Full-time                         False   \n",
       "\n",
       "   Career move to private sector  Interpersonal conflicts  \\\n",
       "0                          False                    False   \n",
       "1                          False                    False   \n",
       "2                          False                    False   \n",
       "3                           True                    False   \n",
       "4                          False                    False   \n",
       "\n",
       "   Job dissatisfaction  Dissatisfaction with the department  \\\n",
       "0                 True                                False   \n",
       "1                False                                False   \n",
       "2                False                                False   \n",
       "3                False                                False   \n",
       "4                False                                False   \n",
       "\n",
       "   Physical work environment  Lack of recognition  Lack of job security  \\\n",
       "0                      False                 True                 False   \n",
       "1                      False                False                 False   \n",
       "2                      False                False                 False   \n",
       "3                      False                False                 False   \n",
       "4                      False                False                 False   \n",
       "\n",
       "   Work location  Employment conditions  Maternity/family  Relocation  \\\n",
       "0          False                  False             False       False   \n",
       "1          False                  False             False       False   \n",
       "2          False                  False             False       False   \n",
       "3          False                  False             False       False   \n",
       "4          False                  False             False       False   \n",
       "\n",
       "   Study/Travel  Ill Health  Traumatic incident  Work life balance  Workload  \\\n",
       "0         False       False               False              False     False   \n",
       "1         False       False               False              False     False   \n",
       "2         False       False               False              False     False   \n",
       "3         False       False               False              False     False   \n",
       "4         False       False               False               True     False   \n",
       "\n",
       "   None of the above Professional Development Opportunities for promotion  \\\n",
       "0               True                        A                           A   \n",
       "1              False                        A                           A   \n",
       "2               True                        N                           N   \n",
       "3              False                        A                           N   \n",
       "4              False                        A                           A   \n",
       "\n",
       "  Staff morale Workplace issue Physical environment Worklife balance  \\\n",
       "0            N               N                    N                A   \n",
       "1            N               N                    N                N   \n",
       "2            N               N                    N                N   \n",
       "3            N               N                    A                A   \n",
       "4            N               N                    D                D   \n",
       "\n",
       "  Stress and pressure support Performance of supervisor Peer support  \\\n",
       "0                           A                         A            A   \n",
       "1                           A                         A            A   \n",
       "2                           N                         N            N   \n",
       "3                           N                         N            A   \n",
       "4                           N                         A            A   \n",
       "\n",
       "  Initiative Skills Coach Career Aspirations Feedback Further PD  \\\n",
       "0          N      N     N                  A        A          A   \n",
       "1          N      N     N                  A        A          A   \n",
       "2          N      N     N                  N        N          N   \n",
       "3          A      A     A                  A        A          A   \n",
       "4          A      A     A                  A       SA         SA   \n",
       "\n",
       "  Communication My say Information Kept informed Wellness programs  \\\n",
       "0             N      A           A             N                 N   \n",
       "1             N      A           A             N                 N   \n",
       "2             A      A           N             N                 N   \n",
       "3             A      A           A             A                 N   \n",
       "4             D      D           A             N                 A   \n",
       "\n",
       "  Health & Safety  Gender          Age Aboriginal Torres Strait South Sea  \\\n",
       "0               N    Male        56-60        NaN           NaN       NaN   \n",
       "1               N    Male        56-60        NaN           NaN       NaN   \n",
       "2               N    Male  61 or older        NaN           NaN       NaN   \n",
       "3               A  Female        36-40        NaN           NaN       NaN   \n",
       "4               M  Female  61 or older        NaN           NaN       NaN   \n",
       "\n",
       "  Disability NESB  \n",
       "0        NaN  Yes  \n",
       "1        NaN  NaN  \n",
       "2        NaN  NaN  \n",
       "3        NaN  NaN  \n",
       "4        NaN  NaN  "
      ]
     },
     "execution_count": 1,
     "metadata": {},
     "output_type": "execute_result"
    }
   ],
   "source": [
    "# read in the data\n",
    "import pandas as pd\n",
    "import numpy as np\n",
    "dete_survey = pd.read_csv('dete_survey.csv')\n",
    "\n",
    "# quick exploration of the data\n",
    "pd.options.display.max_columns = 150 # avoids truncated output\n",
    "dete_survey.head()"
   ]
  },
  {
   "cell_type": "code",
   "execution_count": 2,
   "metadata": {
    "collapsed": false
   },
   "outputs": [
    {
     "name": "stdout",
     "output_type": "stream",
     "text": [
      "<class 'pandas.core.frame.DataFrame'>\n",
      "RangeIndex: 822 entries, 0 to 821\n",
      "Data columns (total 56 columns):\n",
      "ID                                     822 non-null int64\n",
      "SeparationType                         822 non-null object\n",
      "Cease Date                             822 non-null object\n",
      "DETE Start Date                        822 non-null object\n",
      "Role Start Date                        822 non-null object\n",
      "Position                               817 non-null object\n",
      "Classification                         455 non-null object\n",
      "Region                                 822 non-null object\n",
      "Business Unit                          126 non-null object\n",
      "Employment Status                      817 non-null object\n",
      "Career move to public sector           822 non-null bool\n",
      "Career move to private sector          822 non-null bool\n",
      "Interpersonal conflicts                822 non-null bool\n",
      "Job dissatisfaction                    822 non-null bool\n",
      "Dissatisfaction with the department    822 non-null bool\n",
      "Physical work environment              822 non-null bool\n",
      "Lack of recognition                    822 non-null bool\n",
      "Lack of job security                   822 non-null bool\n",
      "Work location                          822 non-null bool\n",
      "Employment conditions                  822 non-null bool\n",
      "Maternity/family                       822 non-null bool\n",
      "Relocation                             822 non-null bool\n",
      "Study/Travel                           822 non-null bool\n",
      "Ill Health                             822 non-null bool\n",
      "Traumatic incident                     822 non-null bool\n",
      "Work life balance                      822 non-null bool\n",
      "Workload                               822 non-null bool\n",
      "None of the above                      822 non-null bool\n",
      "Professional Development               808 non-null object\n",
      "Opportunities for promotion            735 non-null object\n",
      "Staff morale                           816 non-null object\n",
      "Workplace issue                        788 non-null object\n",
      "Physical environment                   817 non-null object\n",
      "Worklife balance                       815 non-null object\n",
      "Stress and pressure support            810 non-null object\n",
      "Performance of supervisor              813 non-null object\n",
      "Peer support                           812 non-null object\n",
      "Initiative                             813 non-null object\n",
      "Skills                                 811 non-null object\n",
      "Coach                                  767 non-null object\n",
      "Career Aspirations                     746 non-null object\n",
      "Feedback                               792 non-null object\n",
      "Further PD                             768 non-null object\n",
      "Communication                          814 non-null object\n",
      "My say                                 812 non-null object\n",
      "Information                            816 non-null object\n",
      "Kept informed                          813 non-null object\n",
      "Wellness programs                      766 non-null object\n",
      "Health & Safety                        793 non-null object\n",
      "Gender                                 798 non-null object\n",
      "Age                                    811 non-null object\n",
      "Aboriginal                             16 non-null object\n",
      "Torres Strait                          3 non-null object\n",
      "South Sea                              7 non-null object\n",
      "Disability                             23 non-null object\n",
      "NESB                                   32 non-null object\n",
      "dtypes: bool(18), int64(1), object(37)\n",
      "memory usage: 258.6+ KB\n"
     ]
    }
   ],
   "source": [
    "dete_survey.info()"
   ]
  },
  {
   "cell_type": "code",
   "execution_count": 3,
   "metadata": {
    "collapsed": false
   },
   "outputs": [
    {
     "data": {
      "text/html": [
       "<div>\n",
       "<style scoped>\n",
       "    .dataframe tbody tr th:only-of-type {\n",
       "        vertical-align: middle;\n",
       "    }\n",
       "\n",
       "    .dataframe tbody tr th {\n",
       "        vertical-align: top;\n",
       "    }\n",
       "\n",
       "    .dataframe thead th {\n",
       "        text-align: right;\n",
       "    }\n",
       "</style>\n",
       "<table border=\"1\" class=\"dataframe\">\n",
       "  <thead>\n",
       "    <tr style=\"text-align: right;\">\n",
       "      <th></th>\n",
       "      <th>Record ID</th>\n",
       "      <th>Institute</th>\n",
       "      <th>WorkArea</th>\n",
       "      <th>CESSATION YEAR</th>\n",
       "      <th>Reason for ceasing employment</th>\n",
       "      <th>Contributing Factors. Career Move - Public Sector</th>\n",
       "      <th>Contributing Factors. Career Move - Private Sector</th>\n",
       "      <th>Contributing Factors. Career Move - Self-employment</th>\n",
       "      <th>Contributing Factors. Ill Health</th>\n",
       "      <th>Contributing Factors. Maternity/Family</th>\n",
       "      <th>Contributing Factors. Dissatisfaction</th>\n",
       "      <th>Contributing Factors. Job Dissatisfaction</th>\n",
       "      <th>Contributing Factors. Interpersonal Conflict</th>\n",
       "      <th>Contributing Factors. Study</th>\n",
       "      <th>Contributing Factors. Travel</th>\n",
       "      <th>Contributing Factors. Other</th>\n",
       "      <th>Contributing Factors. NONE</th>\n",
       "      <th>Main Factor. Which of these was the main factor for leaving?</th>\n",
       "      <th>InstituteViews. Topic:1. I feel the senior leadership had a clear vision and direction</th>\n",
       "      <th>InstituteViews. Topic:2. I was given access to skills training to help me do my job better</th>\n",
       "      <th>InstituteViews. Topic:3. I was given adequate opportunities for personal development</th>\n",
       "      <th>InstituteViews. Topic:4. I was given adequate opportunities for promotion within %Institute]Q25LBL%</th>\n",
       "      <th>InstituteViews. Topic:5. I felt the salary for the job was right for the responsibilities I had</th>\n",
       "      <th>InstituteViews. Topic:6. The organisation recognised when staff did good work</th>\n",
       "      <th>InstituteViews. Topic:7. Management was generally supportive of me</th>\n",
       "      <th>InstituteViews. Topic:8. Management was generally supportive of my team</th>\n",
       "      <th>InstituteViews. Topic:9. I was kept informed of the changes in the organisation which would affect me</th>\n",
       "      <th>InstituteViews. Topic:10. Staff morale was positive within the Institute</th>\n",
       "      <th>InstituteViews. Topic:11. If I had a workplace issue it was dealt with quickly</th>\n",
       "      <th>InstituteViews. Topic:12. If I had a workplace issue it was dealt with efficiently</th>\n",
       "      <th>InstituteViews. Topic:13. If I had a workplace issue it was dealt with discreetly</th>\n",
       "      <th>WorkUnitViews. Topic:14. I was satisfied with the quality of the management and supervision within my work unit</th>\n",
       "      <th>WorkUnitViews. Topic:15. I worked well with my colleagues</th>\n",
       "      <th>WorkUnitViews. Topic:16. My job was challenging and interesting</th>\n",
       "      <th>WorkUnitViews. Topic:17. I was encouraged to use my initiative in the course of my work</th>\n",
       "      <th>WorkUnitViews. Topic:18. I had sufficient contact with other people in my job</th>\n",
       "      <th>WorkUnitViews. Topic:19. I was given adequate support and co-operation by my peers to enable me to do my job</th>\n",
       "      <th>WorkUnitViews. Topic:20. I was able to use the full range of my skills in my job</th>\n",
       "      <th>WorkUnitViews. Topic:21. I was able to use the full range of my abilities in my job. ; Category:Level of Agreement; Question:YOUR VIEWS ABOUT YOUR WORK UNIT]</th>\n",
       "      <th>WorkUnitViews. Topic:22. I was able to use the full range of my knowledge in my job</th>\n",
       "      <th>WorkUnitViews. Topic:23. My job provided sufficient variety</th>\n",
       "      <th>WorkUnitViews. Topic:24. I was able to cope with the level of stress and pressure in my job</th>\n",
       "      <th>WorkUnitViews. Topic:25. My job allowed me to balance the demands of work and family to my satisfaction</th>\n",
       "      <th>WorkUnitViews. Topic:26. My supervisor gave me adequate personal recognition and feedback on my performance</th>\n",
       "      <th>WorkUnitViews. Topic:27. My working environment was satisfactory e.g. sufficient space, good lighting, suitable seating and working area</th>\n",
       "      <th>WorkUnitViews. Topic:28. I was given the opportunity to mentor and coach others in order for me to pass on my skills and knowledge prior to my cessation date</th>\n",
       "      <th>WorkUnitViews. Topic:29. There was adequate communication between staff in my unit</th>\n",
       "      <th>WorkUnitViews. Topic:30. Staff morale was positive within my work unit</th>\n",
       "      <th>Induction. Did you undertake Workplace Induction?</th>\n",
       "      <th>InductionInfo. Topic:Did you undertake a Corporate Induction?</th>\n",
       "      <th>InductionInfo. Topic:Did you undertake a Institute Induction?</th>\n",
       "      <th>InductionInfo. Topic: Did you undertake Team Induction?</th>\n",
       "      <th>InductionInfo. Face to Face Topic:Did you undertake a Corporate Induction; Category:How it was conducted?</th>\n",
       "      <th>InductionInfo. On-line Topic:Did you undertake a Corporate Induction; Category:How it was conducted?</th>\n",
       "      <th>InductionInfo. Induction Manual Topic:Did you undertake a Corporate Induction?</th>\n",
       "      <th>InductionInfo. Face to Face Topic:Did you undertake a Institute Induction?</th>\n",
       "      <th>InductionInfo. On-line Topic:Did you undertake a Institute Induction?</th>\n",
       "      <th>InductionInfo. Induction Manual Topic:Did you undertake a Institute Induction?</th>\n",
       "      <th>InductionInfo. Face to Face Topic: Did you undertake Team Induction; Category?</th>\n",
       "      <th>InductionInfo. On-line Topic: Did you undertake Team Induction?process you undertook and how it was conducted.]</th>\n",
       "      <th>InductionInfo. Induction Manual Topic: Did you undertake Team Induction?</th>\n",
       "      <th>Workplace. Topic:Did you and your Manager develop a Performance and Professional Development Plan (PPDP)?</th>\n",
       "      <th>Workplace. Topic:Does your workplace promote a work culture free from all forms of unlawful discrimination?</th>\n",
       "      <th>Workplace. Topic:Does your workplace promote and practice the principles of employment equity?</th>\n",
       "      <th>Workplace. Topic:Does your workplace value the diversity of its employees?</th>\n",
       "      <th>Workplace. Topic:Would you recommend the Institute as an employer to others?</th>\n",
       "      <th>Gender. What is your Gender?</th>\n",
       "      <th>CurrentAge. Current Age</th>\n",
       "      <th>Employment Type. Employment Type</th>\n",
       "      <th>Classification. Classification</th>\n",
       "      <th>LengthofServiceOverall. Overall Length of Service at Institute (in years)</th>\n",
       "      <th>LengthofServiceCurrent. Length of Service at current workplace (in years)</th>\n",
       "    </tr>\n",
       "  </thead>\n",
       "  <tbody>\n",
       "    <tr>\n",
       "      <th>0</th>\n",
       "      <td>6.341330e+17</td>\n",
       "      <td>Southern Queensland Institute of TAFE</td>\n",
       "      <td>Non-Delivery (corporate)</td>\n",
       "      <td>2010.0</td>\n",
       "      <td>Contract Expired</td>\n",
       "      <td>NaN</td>\n",
       "      <td>NaN</td>\n",
       "      <td>NaN</td>\n",
       "      <td>NaN</td>\n",
       "      <td>NaN</td>\n",
       "      <td>NaN</td>\n",
       "      <td>NaN</td>\n",
       "      <td>NaN</td>\n",
       "      <td>NaN</td>\n",
       "      <td>NaN</td>\n",
       "      <td>NaN</td>\n",
       "      <td>NaN</td>\n",
       "      <td>NaN</td>\n",
       "      <td>Agree</td>\n",
       "      <td>Agree</td>\n",
       "      <td>Agree</td>\n",
       "      <td>Neutral</td>\n",
       "      <td>Agree</td>\n",
       "      <td>Agree</td>\n",
       "      <td>Agree</td>\n",
       "      <td>Agree</td>\n",
       "      <td>Agree</td>\n",
       "      <td>Agree</td>\n",
       "      <td>Agree</td>\n",
       "      <td>Agree</td>\n",
       "      <td>Agree</td>\n",
       "      <td>Agree</td>\n",
       "      <td>Agree</td>\n",
       "      <td>Agree</td>\n",
       "      <td>Strongly Agree</td>\n",
       "      <td>Agree</td>\n",
       "      <td>Agree</td>\n",
       "      <td>Agree</td>\n",
       "      <td>Agree</td>\n",
       "      <td>Agree</td>\n",
       "      <td>Agree</td>\n",
       "      <td>Agree</td>\n",
       "      <td>Agree</td>\n",
       "      <td>Agree</td>\n",
       "      <td>Agree</td>\n",
       "      <td>Neutral</td>\n",
       "      <td>Agree</td>\n",
       "      <td>Agree</td>\n",
       "      <td>Yes</td>\n",
       "      <td>Yes</td>\n",
       "      <td>Yes</td>\n",
       "      <td>Yes</td>\n",
       "      <td>Face to Face</td>\n",
       "      <td>-</td>\n",
       "      <td>-</td>\n",
       "      <td>Face to Face</td>\n",
       "      <td>-</td>\n",
       "      <td>-</td>\n",
       "      <td>Face to Face</td>\n",
       "      <td>-</td>\n",
       "      <td>-</td>\n",
       "      <td>Yes</td>\n",
       "      <td>Yes</td>\n",
       "      <td>Yes</td>\n",
       "      <td>Yes</td>\n",
       "      <td>Yes</td>\n",
       "      <td>Female</td>\n",
       "      <td>26  30</td>\n",
       "      <td>Temporary Full-time</td>\n",
       "      <td>Administration (AO)</td>\n",
       "      <td>1-2</td>\n",
       "      <td>1-2</td>\n",
       "    </tr>\n",
       "    <tr>\n",
       "      <th>1</th>\n",
       "      <td>6.341337e+17</td>\n",
       "      <td>Mount Isa Institute of TAFE</td>\n",
       "      <td>Non-Delivery (corporate)</td>\n",
       "      <td>2010.0</td>\n",
       "      <td>Retirement</td>\n",
       "      <td>-</td>\n",
       "      <td>-</td>\n",
       "      <td>-</td>\n",
       "      <td>-</td>\n",
       "      <td>-</td>\n",
       "      <td>-</td>\n",
       "      <td>-</td>\n",
       "      <td>-</td>\n",
       "      <td>-</td>\n",
       "      <td>Travel</td>\n",
       "      <td>-</td>\n",
       "      <td>-</td>\n",
       "      <td>NaN</td>\n",
       "      <td>Agree</td>\n",
       "      <td>Agree</td>\n",
       "      <td>Agree</td>\n",
       "      <td>Agree</td>\n",
       "      <td>Agree</td>\n",
       "      <td>Strongly Agree</td>\n",
       "      <td>Strongly Agree</td>\n",
       "      <td>Agree</td>\n",
       "      <td>Strongly Agree</td>\n",
       "      <td>Agree</td>\n",
       "      <td>Agree</td>\n",
       "      <td>Agree</td>\n",
       "      <td>Disagree</td>\n",
       "      <td>Strongly Agree</td>\n",
       "      <td>Strongly Agree</td>\n",
       "      <td>Strongly Agree</td>\n",
       "      <td>Agree</td>\n",
       "      <td>Agree</td>\n",
       "      <td>Agree</td>\n",
       "      <td>Strongly Agree</td>\n",
       "      <td>Agree</td>\n",
       "      <td>Agree</td>\n",
       "      <td>Agree</td>\n",
       "      <td>Strongly Agree</td>\n",
       "      <td>Agree</td>\n",
       "      <td>Strongly Agree</td>\n",
       "      <td>Strongly Agree</td>\n",
       "      <td>Agree</td>\n",
       "      <td>Agree</td>\n",
       "      <td>Strongly Agree</td>\n",
       "      <td>No</td>\n",
       "      <td>NaN</td>\n",
       "      <td>NaN</td>\n",
       "      <td>NaN</td>\n",
       "      <td>NaN</td>\n",
       "      <td>NaN</td>\n",
       "      <td>NaN</td>\n",
       "      <td>NaN</td>\n",
       "      <td>NaN</td>\n",
       "      <td>NaN</td>\n",
       "      <td>NaN</td>\n",
       "      <td>NaN</td>\n",
       "      <td>NaN</td>\n",
       "      <td>Yes</td>\n",
       "      <td>Yes</td>\n",
       "      <td>Yes</td>\n",
       "      <td>Yes</td>\n",
       "      <td>Yes</td>\n",
       "      <td>NaN</td>\n",
       "      <td>NaN</td>\n",
       "      <td>NaN</td>\n",
       "      <td>NaN</td>\n",
       "      <td>NaN</td>\n",
       "      <td>NaN</td>\n",
       "    </tr>\n",
       "    <tr>\n",
       "      <th>2</th>\n",
       "      <td>6.341388e+17</td>\n",
       "      <td>Mount Isa Institute of TAFE</td>\n",
       "      <td>Delivery (teaching)</td>\n",
       "      <td>2010.0</td>\n",
       "      <td>Retirement</td>\n",
       "      <td>-</td>\n",
       "      <td>-</td>\n",
       "      <td>-</td>\n",
       "      <td>-</td>\n",
       "      <td>-</td>\n",
       "      <td>-</td>\n",
       "      <td>-</td>\n",
       "      <td>-</td>\n",
       "      <td>-</td>\n",
       "      <td>-</td>\n",
       "      <td>-</td>\n",
       "      <td>NONE</td>\n",
       "      <td>NaN</td>\n",
       "      <td>Agree</td>\n",
       "      <td>Agree</td>\n",
       "      <td>Agree</td>\n",
       "      <td>Agree</td>\n",
       "      <td>Agree</td>\n",
       "      <td>Agree</td>\n",
       "      <td>Strongly Agree</td>\n",
       "      <td>Agree</td>\n",
       "      <td>Agree</td>\n",
       "      <td>Agree</td>\n",
       "      <td>Agree</td>\n",
       "      <td>Neutral</td>\n",
       "      <td>Neutral</td>\n",
       "      <td>Strongly Agree</td>\n",
       "      <td>Strongly Agree</td>\n",
       "      <td>Agree</td>\n",
       "      <td>Agree</td>\n",
       "      <td>Agree</td>\n",
       "      <td>Agree</td>\n",
       "      <td>Agree</td>\n",
       "      <td>Agree</td>\n",
       "      <td>Agree</td>\n",
       "      <td>Agree</td>\n",
       "      <td>Agree</td>\n",
       "      <td>Agree</td>\n",
       "      <td>Agree</td>\n",
       "      <td>Agree</td>\n",
       "      <td>Agree</td>\n",
       "      <td>Agree</td>\n",
       "      <td>Agree</td>\n",
       "      <td>No</td>\n",
       "      <td>NaN</td>\n",
       "      <td>NaN</td>\n",
       "      <td>NaN</td>\n",
       "      <td>NaN</td>\n",
       "      <td>NaN</td>\n",
       "      <td>NaN</td>\n",
       "      <td>NaN</td>\n",
       "      <td>NaN</td>\n",
       "      <td>NaN</td>\n",
       "      <td>NaN</td>\n",
       "      <td>NaN</td>\n",
       "      <td>NaN</td>\n",
       "      <td>Yes</td>\n",
       "      <td>Yes</td>\n",
       "      <td>Yes</td>\n",
       "      <td>Yes</td>\n",
       "      <td>Yes</td>\n",
       "      <td>NaN</td>\n",
       "      <td>NaN</td>\n",
       "      <td>NaN</td>\n",
       "      <td>NaN</td>\n",
       "      <td>NaN</td>\n",
       "      <td>NaN</td>\n",
       "    </tr>\n",
       "    <tr>\n",
       "      <th>3</th>\n",
       "      <td>6.341399e+17</td>\n",
       "      <td>Mount Isa Institute of TAFE</td>\n",
       "      <td>Non-Delivery (corporate)</td>\n",
       "      <td>2010.0</td>\n",
       "      <td>Resignation</td>\n",
       "      <td>-</td>\n",
       "      <td>-</td>\n",
       "      <td>-</td>\n",
       "      <td>-</td>\n",
       "      <td>-</td>\n",
       "      <td>-</td>\n",
       "      <td>-</td>\n",
       "      <td>-</td>\n",
       "      <td>-</td>\n",
       "      <td>Travel</td>\n",
       "      <td>-</td>\n",
       "      <td>-</td>\n",
       "      <td>NaN</td>\n",
       "      <td>Agree</td>\n",
       "      <td>Agree</td>\n",
       "      <td>Agree</td>\n",
       "      <td>Agree</td>\n",
       "      <td>Agree</td>\n",
       "      <td>Agree</td>\n",
       "      <td>Agree</td>\n",
       "      <td>Agree</td>\n",
       "      <td>Agree</td>\n",
       "      <td>Agree</td>\n",
       "      <td>Agree</td>\n",
       "      <td>Agree</td>\n",
       "      <td>Agree</td>\n",
       "      <td>Strongly Agree</td>\n",
       "      <td>Strongly Agree</td>\n",
       "      <td>Strongly Agree</td>\n",
       "      <td>Strongly Agree</td>\n",
       "      <td>Strongly Agree</td>\n",
       "      <td>Strongly Agree</td>\n",
       "      <td>Strongly Agree</td>\n",
       "      <td>Strongly Agree</td>\n",
       "      <td>Strongly Agree</td>\n",
       "      <td>Strongly Agree</td>\n",
       "      <td>Strongly Agree</td>\n",
       "      <td>Strongly Agree</td>\n",
       "      <td>Strongly Agree</td>\n",
       "      <td>Strongly Agree</td>\n",
       "      <td>Strongly Agree</td>\n",
       "      <td>Strongly Agree</td>\n",
       "      <td>Strongly Agree</td>\n",
       "      <td>Yes</td>\n",
       "      <td>No</td>\n",
       "      <td>Yes</td>\n",
       "      <td>Yes</td>\n",
       "      <td>-</td>\n",
       "      <td>-</td>\n",
       "      <td>-</td>\n",
       "      <td>NaN</td>\n",
       "      <td>-</td>\n",
       "      <td>-</td>\n",
       "      <td>-</td>\n",
       "      <td>-</td>\n",
       "      <td>-</td>\n",
       "      <td>Yes</td>\n",
       "      <td>Yes</td>\n",
       "      <td>Yes</td>\n",
       "      <td>Yes</td>\n",
       "      <td>Yes</td>\n",
       "      <td>NaN</td>\n",
       "      <td>NaN</td>\n",
       "      <td>NaN</td>\n",
       "      <td>NaN</td>\n",
       "      <td>NaN</td>\n",
       "      <td>NaN</td>\n",
       "    </tr>\n",
       "    <tr>\n",
       "      <th>4</th>\n",
       "      <td>6.341466e+17</td>\n",
       "      <td>Southern Queensland Institute of TAFE</td>\n",
       "      <td>Delivery (teaching)</td>\n",
       "      <td>2010.0</td>\n",
       "      <td>Resignation</td>\n",
       "      <td>-</td>\n",
       "      <td>Career Move - Private Sector</td>\n",
       "      <td>-</td>\n",
       "      <td>-</td>\n",
       "      <td>-</td>\n",
       "      <td>-</td>\n",
       "      <td>-</td>\n",
       "      <td>-</td>\n",
       "      <td>-</td>\n",
       "      <td>-</td>\n",
       "      <td>-</td>\n",
       "      <td>-</td>\n",
       "      <td>NaN</td>\n",
       "      <td>Agree</td>\n",
       "      <td>Agree</td>\n",
       "      <td>Strongly Agree</td>\n",
       "      <td>Agree</td>\n",
       "      <td>Strongly Agree</td>\n",
       "      <td>Strongly Agree</td>\n",
       "      <td>Strongly Agree</td>\n",
       "      <td>Strongly Agree</td>\n",
       "      <td>Agree</td>\n",
       "      <td>Strongly Agree</td>\n",
       "      <td>Strongly Agree</td>\n",
       "      <td>Agree</td>\n",
       "      <td>Strongly Agree</td>\n",
       "      <td>Strongly Agree</td>\n",
       "      <td>Strongly Agree</td>\n",
       "      <td>Strongly Agree</td>\n",
       "      <td>Strongly Agree</td>\n",
       "      <td>Strongly Agree</td>\n",
       "      <td>Strongly Agree</td>\n",
       "      <td>Strongly Agree</td>\n",
       "      <td>Strongly Agree</td>\n",
       "      <td>Strongly Agree</td>\n",
       "      <td>Strongly Agree</td>\n",
       "      <td>Strongly Agree</td>\n",
       "      <td>Strongly Agree</td>\n",
       "      <td>Strongly Agree</td>\n",
       "      <td>Strongly Agree</td>\n",
       "      <td>Strongly Agree</td>\n",
       "      <td>Strongly Agree</td>\n",
       "      <td>Strongly Agree</td>\n",
       "      <td>Yes</td>\n",
       "      <td>Yes</td>\n",
       "      <td>Yes</td>\n",
       "      <td>Yes</td>\n",
       "      <td>-</td>\n",
       "      <td>-</td>\n",
       "      <td>Induction Manual</td>\n",
       "      <td>Face to Face</td>\n",
       "      <td>-</td>\n",
       "      <td>-</td>\n",
       "      <td>Face to Face</td>\n",
       "      <td>-</td>\n",
       "      <td>-</td>\n",
       "      <td>Yes</td>\n",
       "      <td>Yes</td>\n",
       "      <td>Yes</td>\n",
       "      <td>Yes</td>\n",
       "      <td>Yes</td>\n",
       "      <td>Male</td>\n",
       "      <td>41  45</td>\n",
       "      <td>Permanent Full-time</td>\n",
       "      <td>Teacher (including LVT)</td>\n",
       "      <td>3-4</td>\n",
       "      <td>3-4</td>\n",
       "    </tr>\n",
       "  </tbody>\n",
       "</table>\n",
       "</div>"
      ],
      "text/plain": [
       "      Record ID                              Institute  \\\n",
       "0  6.341330e+17  Southern Queensland Institute of TAFE   \n",
       "1  6.341337e+17            Mount Isa Institute of TAFE   \n",
       "2  6.341388e+17            Mount Isa Institute of TAFE   \n",
       "3  6.341399e+17            Mount Isa Institute of TAFE   \n",
       "4  6.341466e+17  Southern Queensland Institute of TAFE   \n",
       "\n",
       "                   WorkArea  CESSATION YEAR Reason for ceasing employment  \\\n",
       "0  Non-Delivery (corporate)          2010.0              Contract Expired   \n",
       "1  Non-Delivery (corporate)          2010.0                    Retirement   \n",
       "2       Delivery (teaching)          2010.0                    Retirement   \n",
       "3  Non-Delivery (corporate)          2010.0                   Resignation   \n",
       "4       Delivery (teaching)          2010.0                   Resignation   \n",
       "\n",
       "  Contributing Factors. Career Move - Public Sector   \\\n",
       "0                                                NaN   \n",
       "1                                                  -   \n",
       "2                                                  -   \n",
       "3                                                  -   \n",
       "4                                                  -   \n",
       "\n",
       "  Contributing Factors. Career Move - Private Sector   \\\n",
       "0                                                NaN    \n",
       "1                                                  -    \n",
       "2                                                  -    \n",
       "3                                                  -    \n",
       "4                       Career Move - Private Sector    \n",
       "\n",
       "  Contributing Factors. Career Move - Self-employment  \\\n",
       "0                                                NaN    \n",
       "1                                                  -    \n",
       "2                                                  -    \n",
       "3                                                  -    \n",
       "4                                                  -    \n",
       "\n",
       "  Contributing Factors. Ill Health Contributing Factors. Maternity/Family  \\\n",
       "0                              NaN                                    NaN   \n",
       "1                                -                                      -   \n",
       "2                                -                                      -   \n",
       "3                                -                                      -   \n",
       "4                                -                                      -   \n",
       "\n",
       "  Contributing Factors. Dissatisfaction  \\\n",
       "0                                   NaN   \n",
       "1                                     -   \n",
       "2                                     -   \n",
       "3                                     -   \n",
       "4                                     -   \n",
       "\n",
       "  Contributing Factors. Job Dissatisfaction  \\\n",
       "0                                       NaN   \n",
       "1                                         -   \n",
       "2                                         -   \n",
       "3                                         -   \n",
       "4                                         -   \n",
       "\n",
       "  Contributing Factors. Interpersonal Conflict Contributing Factors. Study  \\\n",
       "0                                          NaN                         NaN   \n",
       "1                                            -                           -   \n",
       "2                                            -                           -   \n",
       "3                                            -                           -   \n",
       "4                                            -                           -   \n",
       "\n",
       "  Contributing Factors. Travel Contributing Factors. Other  \\\n",
       "0                          NaN                         NaN   \n",
       "1                       Travel                           -   \n",
       "2                            -                           -   \n",
       "3                       Travel                           -   \n",
       "4                            -                           -   \n",
       "\n",
       "  Contributing Factors. NONE  \\\n",
       "0                        NaN   \n",
       "1                          -   \n",
       "2                       NONE   \n",
       "3                          -   \n",
       "4                          -   \n",
       "\n",
       "  Main Factor. Which of these was the main factor for leaving?  \\\n",
       "0                                                NaN             \n",
       "1                                                NaN             \n",
       "2                                                NaN             \n",
       "3                                                NaN             \n",
       "4                                                NaN             \n",
       "\n",
       "  InstituteViews. Topic:1. I feel the senior leadership had a clear vision and direction  \\\n",
       "0                                              Agree                                       \n",
       "1                                              Agree                                       \n",
       "2                                              Agree                                       \n",
       "3                                              Agree                                       \n",
       "4                                              Agree                                       \n",
       "\n",
       "  InstituteViews. Topic:2. I was given access to skills training to help me do my job better  \\\n",
       "0                                              Agree                                           \n",
       "1                                              Agree                                           \n",
       "2                                              Agree                                           \n",
       "3                                              Agree                                           \n",
       "4                                              Agree                                           \n",
       "\n",
       "  InstituteViews. Topic:3. I was given adequate opportunities for personal development  \\\n",
       "0                                              Agree                                     \n",
       "1                                              Agree                                     \n",
       "2                                              Agree                                     \n",
       "3                                              Agree                                     \n",
       "4                                     Strongly Agree                                     \n",
       "\n",
       "  InstituteViews. Topic:4. I was given adequate opportunities for promotion within %Institute]Q25LBL%  \\\n",
       "0                                            Neutral                                                    \n",
       "1                                              Agree                                                    \n",
       "2                                              Agree                                                    \n",
       "3                                              Agree                                                    \n",
       "4                                              Agree                                                    \n",
       "\n",
       "  InstituteViews. Topic:5. I felt the salary for the job was right for the responsibilities I had  \\\n",
       "0                                              Agree                                                \n",
       "1                                              Agree                                                \n",
       "2                                              Agree                                                \n",
       "3                                              Agree                                                \n",
       "4                                     Strongly Agree                                                \n",
       "\n",
       "  InstituteViews. Topic:6. The organisation recognised when staff did good work  \\\n",
       "0                                              Agree                              \n",
       "1                                     Strongly Agree                              \n",
       "2                                              Agree                              \n",
       "3                                              Agree                              \n",
       "4                                     Strongly Agree                              \n",
       "\n",
       "  InstituteViews. Topic:7. Management was generally supportive of me  \\\n",
       "0                                              Agree                   \n",
       "1                                     Strongly Agree                   \n",
       "2                                     Strongly Agree                   \n",
       "3                                              Agree                   \n",
       "4                                     Strongly Agree                   \n",
       "\n",
       "  InstituteViews. Topic:8. Management was generally supportive of my team  \\\n",
       "0                                              Agree                        \n",
       "1                                              Agree                        \n",
       "2                                              Agree                        \n",
       "3                                              Agree                        \n",
       "4                                     Strongly Agree                        \n",
       "\n",
       "  InstituteViews. Topic:9. I was kept informed of the changes in the organisation which would affect me  \\\n",
       "0                                              Agree                                                      \n",
       "1                                     Strongly Agree                                                      \n",
       "2                                              Agree                                                      \n",
       "3                                              Agree                                                      \n",
       "4                                              Agree                                                      \n",
       "\n",
       "  InstituteViews. Topic:10. Staff morale was positive within the Institute  \\\n",
       "0                                              Agree                         \n",
       "1                                              Agree                         \n",
       "2                                              Agree                         \n",
       "3                                              Agree                         \n",
       "4                                     Strongly Agree                         \n",
       "\n",
       "  InstituteViews. Topic:11. If I had a workplace issue it was dealt with quickly  \\\n",
       "0                                              Agree                               \n",
       "1                                              Agree                               \n",
       "2                                              Agree                               \n",
       "3                                              Agree                               \n",
       "4                                     Strongly Agree                               \n",
       "\n",
       "  InstituteViews. Topic:12. If I had a workplace issue it was dealt with efficiently  \\\n",
       "0                                              Agree                                   \n",
       "1                                              Agree                                   \n",
       "2                                            Neutral                                   \n",
       "3                                              Agree                                   \n",
       "4                                              Agree                                   \n",
       "\n",
       "  InstituteViews. Topic:13. If I had a workplace issue it was dealt with discreetly  \\\n",
       "0                                              Agree                                  \n",
       "1                                           Disagree                                  \n",
       "2                                            Neutral                                  \n",
       "3                                              Agree                                  \n",
       "4                                     Strongly Agree                                  \n",
       "\n",
       "  WorkUnitViews. Topic:14. I was satisfied with the quality of the management and supervision within my work unit  \\\n",
       "0                                              Agree                                                                \n",
       "1                                     Strongly Agree                                                                \n",
       "2                                     Strongly Agree                                                                \n",
       "3                                     Strongly Agree                                                                \n",
       "4                                     Strongly Agree                                                                \n",
       "\n",
       "  WorkUnitViews. Topic:15. I worked well with my colleagues  \\\n",
       "0                                              Agree          \n",
       "1                                     Strongly Agree          \n",
       "2                                     Strongly Agree          \n",
       "3                                     Strongly Agree          \n",
       "4                                     Strongly Agree          \n",
       "\n",
       "  WorkUnitViews. Topic:16. My job was challenging and interesting  \\\n",
       "0                                              Agree                \n",
       "1                                     Strongly Agree                \n",
       "2                                              Agree                \n",
       "3                                     Strongly Agree                \n",
       "4                                     Strongly Agree                \n",
       "\n",
       "  WorkUnitViews. Topic:17. I was encouraged to use my initiative in the course of my work  \\\n",
       "0                                     Strongly Agree                                        \n",
       "1                                              Agree                                        \n",
       "2                                              Agree                                        \n",
       "3                                     Strongly Agree                                        \n",
       "4                                     Strongly Agree                                        \n",
       "\n",
       "  WorkUnitViews. Topic:18. I had sufficient contact with other people in my job  \\\n",
       "0                                              Agree                              \n",
       "1                                              Agree                              \n",
       "2                                              Agree                              \n",
       "3                                     Strongly Agree                              \n",
       "4                                     Strongly Agree                              \n",
       "\n",
       "  WorkUnitViews. Topic:19. I was given adequate support and co-operation by my peers to enable me to do my job  \\\n",
       "0                                              Agree                                                             \n",
       "1                                              Agree                                                             \n",
       "2                                              Agree                                                             \n",
       "3                                     Strongly Agree                                                             \n",
       "4                                     Strongly Agree                                                             \n",
       "\n",
       "  WorkUnitViews. Topic:20. I was able to use the full range of my skills in my job  \\\n",
       "0                                              Agree                                 \n",
       "1                                     Strongly Agree                                 \n",
       "2                                              Agree                                 \n",
       "3                                     Strongly Agree                                 \n",
       "4                                     Strongly Agree                                 \n",
       "\n",
       "  WorkUnitViews. Topic:21. I was able to use the full range of my abilities in my job. ; Category:Level of Agreement; Question:YOUR VIEWS ABOUT YOUR WORK UNIT]  \\\n",
       "0                                              Agree                                                                                                              \n",
       "1                                              Agree                                                                                                              \n",
       "2                                              Agree                                                                                                              \n",
       "3                                     Strongly Agree                                                                                                              \n",
       "4                                     Strongly Agree                                                                                                              \n",
       "\n",
       "  WorkUnitViews. Topic:22. I was able to use the full range of my knowledge in my job  \\\n",
       "0                                              Agree                                    \n",
       "1                                              Agree                                    \n",
       "2                                              Agree                                    \n",
       "3                                     Strongly Agree                                    \n",
       "4                                     Strongly Agree                                    \n",
       "\n",
       "  WorkUnitViews. Topic:23. My job provided sufficient variety  \\\n",
       "0                                              Agree            \n",
       "1                                              Agree            \n",
       "2                                              Agree            \n",
       "3                                     Strongly Agree            \n",
       "4                                     Strongly Agree            \n",
       "\n",
       "  WorkUnitViews. Topic:24. I was able to cope with the level of stress and pressure in my job  \\\n",
       "0                                              Agree                                            \n",
       "1                                     Strongly Agree                                            \n",
       "2                                              Agree                                            \n",
       "3                                     Strongly Agree                                            \n",
       "4                                     Strongly Agree                                            \n",
       "\n",
       "  WorkUnitViews. Topic:25. My job allowed me to balance the demands of work and family to my satisfaction  \\\n",
       "0                                              Agree                                                        \n",
       "1                                              Agree                                                        \n",
       "2                                              Agree                                                        \n",
       "3                                     Strongly Agree                                                        \n",
       "4                                     Strongly Agree                                                        \n",
       "\n",
       "  WorkUnitViews. Topic:26. My supervisor gave me adequate personal recognition and feedback on my performance  \\\n",
       "0                                              Agree                                                            \n",
       "1                                     Strongly Agree                                                            \n",
       "2                                              Agree                                                            \n",
       "3                                     Strongly Agree                                                            \n",
       "4                                     Strongly Agree                                                            \n",
       "\n",
       "  WorkUnitViews. Topic:27. My working environment was satisfactory e.g. sufficient space, good lighting, suitable seating and working area  \\\n",
       "0                                              Agree                                                                                         \n",
       "1                                     Strongly Agree                                                                                         \n",
       "2                                              Agree                                                                                         \n",
       "3                                     Strongly Agree                                                                                         \n",
       "4                                     Strongly Agree                                                                                         \n",
       "\n",
       "  WorkUnitViews. Topic:28. I was given the opportunity to mentor and coach others in order for me to pass on my skills and knowledge prior to my cessation date  \\\n",
       "0                                            Neutral                                                                                                              \n",
       "1                                              Agree                                                                                                              \n",
       "2                                              Agree                                                                                                              \n",
       "3                                     Strongly Agree                                                                                                              \n",
       "4                                     Strongly Agree                                                                                                              \n",
       "\n",
       "  WorkUnitViews. Topic:29. There was adequate communication between staff in my unit  \\\n",
       "0                                              Agree                                   \n",
       "1                                              Agree                                   \n",
       "2                                              Agree                                   \n",
       "3                                     Strongly Agree                                   \n",
       "4                                     Strongly Agree                                   \n",
       "\n",
       "  WorkUnitViews. Topic:30. Staff morale was positive within my work unit  \\\n",
       "0                                              Agree                       \n",
       "1                                     Strongly Agree                       \n",
       "2                                              Agree                       \n",
       "3                                     Strongly Agree                       \n",
       "4                                     Strongly Agree                       \n",
       "\n",
       "  Induction. Did you undertake Workplace Induction?  \\\n",
       "0                                               Yes   \n",
       "1                                                No   \n",
       "2                                                No   \n",
       "3                                               Yes   \n",
       "4                                               Yes   \n",
       "\n",
       "  InductionInfo. Topic:Did you undertake a Corporate Induction?  \\\n",
       "0                                                Yes              \n",
       "1                                                NaN              \n",
       "2                                                NaN              \n",
       "3                                                 No              \n",
       "4                                                Yes              \n",
       "\n",
       "  InductionInfo. Topic:Did you undertake a Institute Induction?  \\\n",
       "0                                                Yes              \n",
       "1                                                NaN              \n",
       "2                                                NaN              \n",
       "3                                                Yes              \n",
       "4                                                Yes              \n",
       "\n",
       "  InductionInfo. Topic: Did you undertake Team Induction?  \\\n",
       "0                                                Yes        \n",
       "1                                                NaN        \n",
       "2                                                NaN        \n",
       "3                                                Yes        \n",
       "4                                                Yes        \n",
       "\n",
       "  InductionInfo. Face to Face Topic:Did you undertake a Corporate Induction; Category:How it was conducted?  \\\n",
       "0                                       Face to Face                                                          \n",
       "1                                                NaN                                                          \n",
       "2                                                NaN                                                          \n",
       "3                                                  -                                                          \n",
       "4                                                  -                                                          \n",
       "\n",
       "  InductionInfo. On-line Topic:Did you undertake a Corporate Induction; Category:How it was conducted?  \\\n",
       "0                                                  -                                                     \n",
       "1                                                NaN                                                     \n",
       "2                                                NaN                                                     \n",
       "3                                                  -                                                     \n",
       "4                                                  -                                                     \n",
       "\n",
       "  InductionInfo. Induction Manual Topic:Did you undertake a Corporate Induction?  \\\n",
       "0                                                  -                               \n",
       "1                                                NaN                               \n",
       "2                                                NaN                               \n",
       "3                                                  -                               \n",
       "4                                   Induction Manual                               \n",
       "\n",
       "  InductionInfo. Face to Face Topic:Did you undertake a Institute Induction?  \\\n",
       "0                                       Face to Face                           \n",
       "1                                                NaN                           \n",
       "2                                                NaN                           \n",
       "3                                                NaN                           \n",
       "4                                       Face to Face                           \n",
       "\n",
       "  InductionInfo. On-line Topic:Did you undertake a Institute Induction?  \\\n",
       "0                                                  -                      \n",
       "1                                                NaN                      \n",
       "2                                                NaN                      \n",
       "3                                                  -                      \n",
       "4                                                  -                      \n",
       "\n",
       "  InductionInfo. Induction Manual Topic:Did you undertake a Institute Induction?  \\\n",
       "0                                                  -                               \n",
       "1                                                NaN                               \n",
       "2                                                NaN                               \n",
       "3                                                  -                               \n",
       "4                                                  -                               \n",
       "\n",
       "  InductionInfo. Face to Face Topic: Did you undertake Team Induction; Category?  \\\n",
       "0                                       Face to Face                               \n",
       "1                                                NaN                               \n",
       "2                                                NaN                               \n",
       "3                                                  -                               \n",
       "4                                       Face to Face                               \n",
       "\n",
       "  InductionInfo. On-line Topic: Did you undertake Team Induction?process you undertook and how it was conducted.]  \\\n",
       "0                                                  -                                                                \n",
       "1                                                NaN                                                                \n",
       "2                                                NaN                                                                \n",
       "3                                                  -                                                                \n",
       "4                                                  -                                                                \n",
       "\n",
       "  InductionInfo. Induction Manual Topic: Did you undertake Team Induction?  \\\n",
       "0                                                  -                         \n",
       "1                                                NaN                         \n",
       "2                                                NaN                         \n",
       "3                                                  -                         \n",
       "4                                                  -                         \n",
       "\n",
       "  Workplace. Topic:Did you and your Manager develop a Performance and Professional Development Plan (PPDP)?  \\\n",
       "0                                                Yes                                                          \n",
       "1                                                Yes                                                          \n",
       "2                                                Yes                                                          \n",
       "3                                                Yes                                                          \n",
       "4                                                Yes                                                          \n",
       "\n",
       "  Workplace. Topic:Does your workplace promote a work culture free from all forms of unlawful discrimination?  \\\n",
       "0                                                Yes                                                            \n",
       "1                                                Yes                                                            \n",
       "2                                                Yes                                                            \n",
       "3                                                Yes                                                            \n",
       "4                                                Yes                                                            \n",
       "\n",
       "  Workplace. Topic:Does your workplace promote and practice the principles of employment equity?  \\\n",
       "0                                                Yes                                               \n",
       "1                                                Yes                                               \n",
       "2                                                Yes                                               \n",
       "3                                                Yes                                               \n",
       "4                                                Yes                                               \n",
       "\n",
       "  Workplace. Topic:Does your workplace value the diversity of its employees?  \\\n",
       "0                                                Yes                           \n",
       "1                                                Yes                           \n",
       "2                                                Yes                           \n",
       "3                                                Yes                           \n",
       "4                                                Yes                           \n",
       "\n",
       "  Workplace. Topic:Would you recommend the Institute as an employer to others?  \\\n",
       "0                                                Yes                             \n",
       "1                                                Yes                             \n",
       "2                                                Yes                             \n",
       "3                                                Yes                             \n",
       "4                                                Yes                             \n",
       "\n",
       "  Gender. What is your Gender? CurrentAge. Current Age  \\\n",
       "0                       Female                  26  30   \n",
       "1                          NaN                     NaN   \n",
       "2                          NaN                     NaN   \n",
       "3                          NaN                     NaN   \n",
       "4                         Male                  41  45   \n",
       "\n",
       "  Employment Type. Employment Type Classification. Classification  \\\n",
       "0              Temporary Full-time            Administration (AO)   \n",
       "1                              NaN                            NaN   \n",
       "2                              NaN                            NaN   \n",
       "3                              NaN                            NaN   \n",
       "4              Permanent Full-time        Teacher (including LVT)   \n",
       "\n",
       "  LengthofServiceOverall. Overall Length of Service at Institute (in years)  \\\n",
       "0                                                1-2                          \n",
       "1                                                NaN                          \n",
       "2                                                NaN                          \n",
       "3                                                NaN                          \n",
       "4                                                3-4                          \n",
       "\n",
       "  LengthofServiceCurrent. Length of Service at current workplace (in years)  \n",
       "0                                                1-2                         \n",
       "1                                                NaN                         \n",
       "2                                                NaN                         \n",
       "3                                                NaN                         \n",
       "4                                                3-4                         "
      ]
     },
     "execution_count": 3,
     "metadata": {},
     "output_type": "execute_result"
    }
   ],
   "source": [
    "# read in the data\n",
    "tafe_survey = pd.read_csv('tafe_survey.csv')\n",
    "\n",
    "# quick exploration of data\n",
    "tafe_survey.head()"
   ]
  },
  {
   "cell_type": "code",
   "execution_count": 4,
   "metadata": {
    "collapsed": false
   },
   "outputs": [
    {
     "name": "stdout",
     "output_type": "stream",
     "text": [
      "<class 'pandas.core.frame.DataFrame'>\n",
      "RangeIndex: 702 entries, 0 to 701\n",
      "Data columns (total 72 columns):\n",
      "Record ID                                                                                                                                                        702 non-null float64\n",
      "Institute                                                                                                                                                        702 non-null object\n",
      "WorkArea                                                                                                                                                         702 non-null object\n",
      "CESSATION YEAR                                                                                                                                                   695 non-null float64\n",
      "Reason for ceasing employment                                                                                                                                    701 non-null object\n",
      "Contributing Factors. Career Move - Public Sector                                                                                                                437 non-null object\n",
      "Contributing Factors. Career Move - Private Sector                                                                                                               437 non-null object\n",
      "Contributing Factors. Career Move - Self-employment                                                                                                              437 non-null object\n",
      "Contributing Factors. Ill Health                                                                                                                                 437 non-null object\n",
      "Contributing Factors. Maternity/Family                                                                                                                           437 non-null object\n",
      "Contributing Factors. Dissatisfaction                                                                                                                            437 non-null object\n",
      "Contributing Factors. Job Dissatisfaction                                                                                                                        437 non-null object\n",
      "Contributing Factors. Interpersonal Conflict                                                                                                                     437 non-null object\n",
      "Contributing Factors. Study                                                                                                                                      437 non-null object\n",
      "Contributing Factors. Travel                                                                                                                                     437 non-null object\n",
      "Contributing Factors. Other                                                                                                                                      437 non-null object\n",
      "Contributing Factors. NONE                                                                                                                                       437 non-null object\n",
      "Main Factor. Which of these was the main factor for leaving?                                                                                                     113 non-null object\n",
      "InstituteViews. Topic:1. I feel the senior leadership had a clear vision and direction                                                                           608 non-null object\n",
      "InstituteViews. Topic:2. I was given access to skills training to help me do my job better                                                                       613 non-null object\n",
      "InstituteViews. Topic:3. I was given adequate opportunities for personal development                                                                             610 non-null object\n",
      "InstituteViews. Topic:4. I was given adequate opportunities for promotion within %Institute]Q25LBL%                                                              608 non-null object\n",
      "InstituteViews. Topic:5. I felt the salary for the job was right for the responsibilities I had                                                                  615 non-null object\n",
      "InstituteViews. Topic:6. The organisation recognised when staff did good work                                                                                    607 non-null object\n",
      "InstituteViews. Topic:7. Management was generally supportive of me                                                                                               614 non-null object\n",
      "InstituteViews. Topic:8. Management was generally supportive of my team                                                                                          608 non-null object\n",
      "InstituteViews. Topic:9. I was kept informed of the changes in the organisation which would affect me                                                            610 non-null object\n",
      "InstituteViews. Topic:10. Staff morale was positive within the Institute                                                                                         602 non-null object\n",
      "InstituteViews. Topic:11. If I had a workplace issue it was dealt with quickly                                                                                   601 non-null object\n",
      "InstituteViews. Topic:12. If I had a workplace issue it was dealt with efficiently                                                                               597 non-null object\n",
      "InstituteViews. Topic:13. If I had a workplace issue it was dealt with discreetly                                                                                601 non-null object\n",
      "WorkUnitViews. Topic:14. I was satisfied with the quality of the management and supervision within my work unit                                                  609 non-null object\n",
      "WorkUnitViews. Topic:15. I worked well with my colleagues                                                                                                        605 non-null object\n",
      "WorkUnitViews. Topic:16. My job was challenging and interesting                                                                                                  607 non-null object\n",
      "WorkUnitViews. Topic:17. I was encouraged to use my initiative in the course of my work                                                                          610 non-null object\n",
      "WorkUnitViews. Topic:18. I had sufficient contact with other people in my job                                                                                    613 non-null object\n",
      "WorkUnitViews. Topic:19. I was given adequate support and co-operation by my peers to enable me to do my job                                                     609 non-null object\n",
      "WorkUnitViews. Topic:20. I was able to use the full range of my skills in my job                                                                                 609 non-null object\n",
      "WorkUnitViews. Topic:21. I was able to use the full range of my abilities in my job. ; Category:Level of Agreement; Question:YOUR VIEWS ABOUT YOUR WORK UNIT]    608 non-null object\n",
      "WorkUnitViews. Topic:22. I was able to use the full range of my knowledge in my job                                                                              608 non-null object\n",
      "WorkUnitViews. Topic:23. My job provided sufficient variety                                                                                                      611 non-null object\n",
      "WorkUnitViews. Topic:24. I was able to cope with the level of stress and pressure in my job                                                                      610 non-null object\n",
      "WorkUnitViews. Topic:25. My job allowed me to balance the demands of work and family to my satisfaction                                                          611 non-null object\n",
      "WorkUnitViews. Topic:26. My supervisor gave me adequate personal recognition and feedback on my performance                                                      606 non-null object\n",
      "WorkUnitViews. Topic:27. My working environment was satisfactory e.g. sufficient space, good lighting, suitable seating and working area                         610 non-null object\n",
      "WorkUnitViews. Topic:28. I was given the opportunity to mentor and coach others in order for me to pass on my skills and knowledge prior to my cessation date    609 non-null object\n",
      "WorkUnitViews. Topic:29. There was adequate communication between staff in my unit                                                                               603 non-null object\n",
      "WorkUnitViews. Topic:30. Staff morale was positive within my work unit                                                                                           606 non-null object\n",
      "Induction. Did you undertake Workplace Induction?                                                                                                                619 non-null object\n",
      "InductionInfo. Topic:Did you undertake a Corporate Induction?                                                                                                    432 non-null object\n",
      "InductionInfo. Topic:Did you undertake a Institute Induction?                                                                                                    483 non-null object\n",
      "InductionInfo. Topic: Did you undertake Team Induction?                                                                                                          440 non-null object\n",
      "InductionInfo. Face to Face Topic:Did you undertake a Corporate Induction; Category:How it was conducted?                                                        555 non-null object\n",
      "InductionInfo. On-line Topic:Did you undertake a Corporate Induction; Category:How it was conducted?                                                             555 non-null object\n",
      "InductionInfo. Induction Manual Topic:Did you undertake a Corporate Induction?                                                                                   555 non-null object\n",
      "InductionInfo. Face to Face Topic:Did you undertake a Institute Induction?                                                                                       530 non-null object\n",
      "InductionInfo. On-line Topic:Did you undertake a Institute Induction?                                                                                            555 non-null object\n",
      "InductionInfo. Induction Manual Topic:Did you undertake a Institute Induction?                                                                                   553 non-null object\n",
      "InductionInfo. Face to Face Topic: Did you undertake Team Induction; Category?                                                                                   555 non-null object\n",
      "InductionInfo. On-line Topic: Did you undertake Team Induction?process you undertook and how it was conducted.]                                                  555 non-null object\n",
      "InductionInfo. Induction Manual Topic: Did you undertake Team Induction?                                                                                         555 non-null object\n",
      "Workplace. Topic:Did you and your Manager develop a Performance and Professional Development Plan (PPDP)?                                                        608 non-null object\n",
      "Workplace. Topic:Does your workplace promote a work culture free from all forms of unlawful discrimination?                                                      594 non-null object\n",
      "Workplace. Topic:Does your workplace promote and practice the principles of employment equity?                                                                   587 non-null object\n",
      "Workplace. Topic:Does your workplace value the diversity of its employees?                                                                                       586 non-null object\n",
      "Workplace. Topic:Would you recommend the Institute as an employer to others?                                                                                     581 non-null object\n",
      "Gender. What is your Gender?                                                                                                                                     596 non-null object\n",
      "CurrentAge. Current Age                                                                                                                                          596 non-null object\n",
      "Employment Type. Employment Type                                                                                                                                 596 non-null object\n",
      "Classification. Classification                                                                                                                                   596 non-null object\n",
      "LengthofServiceOverall. Overall Length of Service at Institute (in years)                                                                                        596 non-null object\n",
      "LengthofServiceCurrent. Length of Service at current workplace (in years)                                                                                        596 non-null object\n",
      "dtypes: float64(2), object(70)\n",
      "memory usage: 395.0+ KB\n"
     ]
    }
   ],
   "source": [
    "tafe_survey.info()"
   ]
  },
  {
   "cell_type": "markdown",
   "metadata": {},
   "source": [
    "Make the following observations based on the exploration above:\n",
    "* the dete_survey dataframe contains 'Not Stated' values that indicate values are missing, but they aren't represented as NaN\n",
    "* both the dete_survey and tafe_survey contain many columns that we don't need to complete our analysis\n",
    "* each dataframe contains many of the same columns, but the column names are different\n",
    "* there are multiple columns/answers that indicate an employee resigned because they were dissatisfied"
   ]
  },
  {
   "cell_type": "markdown",
   "metadata": {},
   "source": [
    "# Identify Missing Values and Drop Unnecessary Columns\n",
    "First, I'll correct the Not Stated values and drop some of the columns I don't need for analysis. "
   ]
  },
  {
   "cell_type": "code",
   "execution_count": 5,
   "metadata": {
    "collapsed": false
   },
   "outputs": [
    {
     "data": {
      "text/html": [
       "<div>\n",
       "<style scoped>\n",
       "    .dataframe tbody tr th:only-of-type {\n",
       "        vertical-align: middle;\n",
       "    }\n",
       "\n",
       "    .dataframe tbody tr th {\n",
       "        vertical-align: top;\n",
       "    }\n",
       "\n",
       "    .dataframe thead th {\n",
       "        text-align: right;\n",
       "    }\n",
       "</style>\n",
       "<table border=\"1\" class=\"dataframe\">\n",
       "  <thead>\n",
       "    <tr style=\"text-align: right;\">\n",
       "      <th></th>\n",
       "      <th>ID</th>\n",
       "      <th>SeparationType</th>\n",
       "      <th>Cease Date</th>\n",
       "      <th>DETE Start Date</th>\n",
       "      <th>Role Start Date</th>\n",
       "      <th>Position</th>\n",
       "      <th>Classification</th>\n",
       "      <th>Region</th>\n",
       "      <th>Business Unit</th>\n",
       "      <th>Employment Status</th>\n",
       "      <th>Career move to public sector</th>\n",
       "      <th>Career move to private sector</th>\n",
       "      <th>Interpersonal conflicts</th>\n",
       "      <th>Job dissatisfaction</th>\n",
       "      <th>Dissatisfaction with the department</th>\n",
       "      <th>Physical work environment</th>\n",
       "      <th>Lack of recognition</th>\n",
       "      <th>Lack of job security</th>\n",
       "      <th>Work location</th>\n",
       "      <th>Employment conditions</th>\n",
       "      <th>Maternity/family</th>\n",
       "      <th>Relocation</th>\n",
       "      <th>Study/Travel</th>\n",
       "      <th>Ill Health</th>\n",
       "      <th>Traumatic incident</th>\n",
       "      <th>Work life balance</th>\n",
       "      <th>Workload</th>\n",
       "      <th>None of the above</th>\n",
       "      <th>Professional Development</th>\n",
       "      <th>Opportunities for promotion</th>\n",
       "      <th>Staff morale</th>\n",
       "      <th>Workplace issue</th>\n",
       "      <th>Physical environment</th>\n",
       "      <th>Worklife balance</th>\n",
       "      <th>Stress and pressure support</th>\n",
       "      <th>Performance of supervisor</th>\n",
       "      <th>Peer support</th>\n",
       "      <th>Initiative</th>\n",
       "      <th>Skills</th>\n",
       "      <th>Coach</th>\n",
       "      <th>Career Aspirations</th>\n",
       "      <th>Feedback</th>\n",
       "      <th>Further PD</th>\n",
       "      <th>Communication</th>\n",
       "      <th>My say</th>\n",
       "      <th>Information</th>\n",
       "      <th>Kept informed</th>\n",
       "      <th>Wellness programs</th>\n",
       "      <th>Health &amp; Safety</th>\n",
       "      <th>Gender</th>\n",
       "      <th>Age</th>\n",
       "      <th>Aboriginal</th>\n",
       "      <th>Torres Strait</th>\n",
       "      <th>South Sea</th>\n",
       "      <th>Disability</th>\n",
       "      <th>NESB</th>\n",
       "    </tr>\n",
       "  </thead>\n",
       "  <tbody>\n",
       "    <tr>\n",
       "      <th>0</th>\n",
       "      <td>1</td>\n",
       "      <td>Ill Health Retirement</td>\n",
       "      <td>08/2012</td>\n",
       "      <td>1984.0</td>\n",
       "      <td>2004.0</td>\n",
       "      <td>Public Servant</td>\n",
       "      <td>A01-A04</td>\n",
       "      <td>Central Office</td>\n",
       "      <td>Corporate Strategy and Peformance</td>\n",
       "      <td>Permanent Full-time</td>\n",
       "      <td>True</td>\n",
       "      <td>False</td>\n",
       "      <td>False</td>\n",
       "      <td>True</td>\n",
       "      <td>False</td>\n",
       "      <td>False</td>\n",
       "      <td>True</td>\n",
       "      <td>False</td>\n",
       "      <td>False</td>\n",
       "      <td>False</td>\n",
       "      <td>False</td>\n",
       "      <td>False</td>\n",
       "      <td>False</td>\n",
       "      <td>False</td>\n",
       "      <td>False</td>\n",
       "      <td>False</td>\n",
       "      <td>False</td>\n",
       "      <td>True</td>\n",
       "      <td>A</td>\n",
       "      <td>A</td>\n",
       "      <td>N</td>\n",
       "      <td>N</td>\n",
       "      <td>N</td>\n",
       "      <td>A</td>\n",
       "      <td>A</td>\n",
       "      <td>A</td>\n",
       "      <td>A</td>\n",
       "      <td>N</td>\n",
       "      <td>N</td>\n",
       "      <td>N</td>\n",
       "      <td>A</td>\n",
       "      <td>A</td>\n",
       "      <td>A</td>\n",
       "      <td>N</td>\n",
       "      <td>A</td>\n",
       "      <td>A</td>\n",
       "      <td>N</td>\n",
       "      <td>N</td>\n",
       "      <td>N</td>\n",
       "      <td>Male</td>\n",
       "      <td>56-60</td>\n",
       "      <td>NaN</td>\n",
       "      <td>NaN</td>\n",
       "      <td>NaN</td>\n",
       "      <td>NaN</td>\n",
       "      <td>Yes</td>\n",
       "    </tr>\n",
       "    <tr>\n",
       "      <th>1</th>\n",
       "      <td>2</td>\n",
       "      <td>Voluntary Early Retirement (VER)</td>\n",
       "      <td>08/2012</td>\n",
       "      <td>NaN</td>\n",
       "      <td>NaN</td>\n",
       "      <td>Public Servant</td>\n",
       "      <td>AO5-AO7</td>\n",
       "      <td>Central Office</td>\n",
       "      <td>Corporate Strategy and Peformance</td>\n",
       "      <td>Permanent Full-time</td>\n",
       "      <td>False</td>\n",
       "      <td>False</td>\n",
       "      <td>False</td>\n",
       "      <td>False</td>\n",
       "      <td>False</td>\n",
       "      <td>False</td>\n",
       "      <td>False</td>\n",
       "      <td>False</td>\n",
       "      <td>False</td>\n",
       "      <td>False</td>\n",
       "      <td>False</td>\n",
       "      <td>False</td>\n",
       "      <td>False</td>\n",
       "      <td>False</td>\n",
       "      <td>False</td>\n",
       "      <td>False</td>\n",
       "      <td>False</td>\n",
       "      <td>False</td>\n",
       "      <td>A</td>\n",
       "      <td>A</td>\n",
       "      <td>N</td>\n",
       "      <td>N</td>\n",
       "      <td>N</td>\n",
       "      <td>N</td>\n",
       "      <td>A</td>\n",
       "      <td>A</td>\n",
       "      <td>A</td>\n",
       "      <td>N</td>\n",
       "      <td>N</td>\n",
       "      <td>N</td>\n",
       "      <td>A</td>\n",
       "      <td>A</td>\n",
       "      <td>A</td>\n",
       "      <td>N</td>\n",
       "      <td>A</td>\n",
       "      <td>A</td>\n",
       "      <td>N</td>\n",
       "      <td>N</td>\n",
       "      <td>N</td>\n",
       "      <td>Male</td>\n",
       "      <td>56-60</td>\n",
       "      <td>NaN</td>\n",
       "      <td>NaN</td>\n",
       "      <td>NaN</td>\n",
       "      <td>NaN</td>\n",
       "      <td>NaN</td>\n",
       "    </tr>\n",
       "    <tr>\n",
       "      <th>2</th>\n",
       "      <td>3</td>\n",
       "      <td>Voluntary Early Retirement (VER)</td>\n",
       "      <td>05/2012</td>\n",
       "      <td>2011.0</td>\n",
       "      <td>2011.0</td>\n",
       "      <td>Schools Officer</td>\n",
       "      <td>NaN</td>\n",
       "      <td>Central Office</td>\n",
       "      <td>Education Queensland</td>\n",
       "      <td>Permanent Full-time</td>\n",
       "      <td>False</td>\n",
       "      <td>False</td>\n",
       "      <td>False</td>\n",
       "      <td>False</td>\n",
       "      <td>False</td>\n",
       "      <td>False</td>\n",
       "      <td>False</td>\n",
       "      <td>False</td>\n",
       "      <td>False</td>\n",
       "      <td>False</td>\n",
       "      <td>False</td>\n",
       "      <td>False</td>\n",
       "      <td>False</td>\n",
       "      <td>False</td>\n",
       "      <td>False</td>\n",
       "      <td>False</td>\n",
       "      <td>False</td>\n",
       "      <td>True</td>\n",
       "      <td>N</td>\n",
       "      <td>N</td>\n",
       "      <td>N</td>\n",
       "      <td>N</td>\n",
       "      <td>N</td>\n",
       "      <td>N</td>\n",
       "      <td>N</td>\n",
       "      <td>N</td>\n",
       "      <td>N</td>\n",
       "      <td>N</td>\n",
       "      <td>N</td>\n",
       "      <td>N</td>\n",
       "      <td>N</td>\n",
       "      <td>N</td>\n",
       "      <td>N</td>\n",
       "      <td>A</td>\n",
       "      <td>A</td>\n",
       "      <td>N</td>\n",
       "      <td>N</td>\n",
       "      <td>N</td>\n",
       "      <td>N</td>\n",
       "      <td>Male</td>\n",
       "      <td>61 or older</td>\n",
       "      <td>NaN</td>\n",
       "      <td>NaN</td>\n",
       "      <td>NaN</td>\n",
       "      <td>NaN</td>\n",
       "      <td>NaN</td>\n",
       "    </tr>\n",
       "    <tr>\n",
       "      <th>3</th>\n",
       "      <td>4</td>\n",
       "      <td>Resignation-Other reasons</td>\n",
       "      <td>05/2012</td>\n",
       "      <td>2005.0</td>\n",
       "      <td>2006.0</td>\n",
       "      <td>Teacher</td>\n",
       "      <td>Primary</td>\n",
       "      <td>Central Queensland</td>\n",
       "      <td>NaN</td>\n",
       "      <td>Permanent Full-time</td>\n",
       "      <td>False</td>\n",
       "      <td>True</td>\n",
       "      <td>False</td>\n",
       "      <td>False</td>\n",
       "      <td>False</td>\n",
       "      <td>False</td>\n",
       "      <td>False</td>\n",
       "      <td>False</td>\n",
       "      <td>False</td>\n",
       "      <td>False</td>\n",
       "      <td>False</td>\n",
       "      <td>False</td>\n",
       "      <td>False</td>\n",
       "      <td>False</td>\n",
       "      <td>False</td>\n",
       "      <td>False</td>\n",
       "      <td>False</td>\n",
       "      <td>False</td>\n",
       "      <td>A</td>\n",
       "      <td>N</td>\n",
       "      <td>N</td>\n",
       "      <td>N</td>\n",
       "      <td>A</td>\n",
       "      <td>A</td>\n",
       "      <td>N</td>\n",
       "      <td>N</td>\n",
       "      <td>A</td>\n",
       "      <td>A</td>\n",
       "      <td>A</td>\n",
       "      <td>A</td>\n",
       "      <td>A</td>\n",
       "      <td>A</td>\n",
       "      <td>A</td>\n",
       "      <td>A</td>\n",
       "      <td>A</td>\n",
       "      <td>A</td>\n",
       "      <td>A</td>\n",
       "      <td>N</td>\n",
       "      <td>A</td>\n",
       "      <td>Female</td>\n",
       "      <td>36-40</td>\n",
       "      <td>NaN</td>\n",
       "      <td>NaN</td>\n",
       "      <td>NaN</td>\n",
       "      <td>NaN</td>\n",
       "      <td>NaN</td>\n",
       "    </tr>\n",
       "    <tr>\n",
       "      <th>4</th>\n",
       "      <td>5</td>\n",
       "      <td>Age Retirement</td>\n",
       "      <td>05/2012</td>\n",
       "      <td>1970.0</td>\n",
       "      <td>1989.0</td>\n",
       "      <td>Head of Curriculum/Head of Special Education</td>\n",
       "      <td>NaN</td>\n",
       "      <td>South East</td>\n",
       "      <td>NaN</td>\n",
       "      <td>Permanent Full-time</td>\n",
       "      <td>False</td>\n",
       "      <td>False</td>\n",
       "      <td>False</td>\n",
       "      <td>False</td>\n",
       "      <td>False</td>\n",
       "      <td>False</td>\n",
       "      <td>False</td>\n",
       "      <td>False</td>\n",
       "      <td>False</td>\n",
       "      <td>False</td>\n",
       "      <td>False</td>\n",
       "      <td>False</td>\n",
       "      <td>False</td>\n",
       "      <td>False</td>\n",
       "      <td>False</td>\n",
       "      <td>True</td>\n",
       "      <td>False</td>\n",
       "      <td>False</td>\n",
       "      <td>A</td>\n",
       "      <td>A</td>\n",
       "      <td>N</td>\n",
       "      <td>N</td>\n",
       "      <td>D</td>\n",
       "      <td>D</td>\n",
       "      <td>N</td>\n",
       "      <td>A</td>\n",
       "      <td>A</td>\n",
       "      <td>A</td>\n",
       "      <td>A</td>\n",
       "      <td>A</td>\n",
       "      <td>A</td>\n",
       "      <td>SA</td>\n",
       "      <td>SA</td>\n",
       "      <td>D</td>\n",
       "      <td>D</td>\n",
       "      <td>A</td>\n",
       "      <td>N</td>\n",
       "      <td>A</td>\n",
       "      <td>M</td>\n",
       "      <td>Female</td>\n",
       "      <td>61 or older</td>\n",
       "      <td>NaN</td>\n",
       "      <td>NaN</td>\n",
       "      <td>NaN</td>\n",
       "      <td>NaN</td>\n",
       "      <td>NaN</td>\n",
       "    </tr>\n",
       "  </tbody>\n",
       "</table>\n",
       "</div>"
      ],
      "text/plain": [
       "   ID                    SeparationType Cease Date  DETE Start Date  \\\n",
       "0   1             Ill Health Retirement    08/2012           1984.0   \n",
       "1   2  Voluntary Early Retirement (VER)    08/2012              NaN   \n",
       "2   3  Voluntary Early Retirement (VER)    05/2012           2011.0   \n",
       "3   4         Resignation-Other reasons    05/2012           2005.0   \n",
       "4   5                    Age Retirement    05/2012           1970.0   \n",
       "\n",
       "   Role Start Date                                      Position  \\\n",
       "0           2004.0                                Public Servant   \n",
       "1              NaN                                Public Servant   \n",
       "2           2011.0                               Schools Officer   \n",
       "3           2006.0                                       Teacher   \n",
       "4           1989.0  Head of Curriculum/Head of Special Education   \n",
       "\n",
       "  Classification              Region                      Business Unit  \\\n",
       "0        A01-A04      Central Office  Corporate Strategy and Peformance   \n",
       "1        AO5-AO7      Central Office  Corporate Strategy and Peformance   \n",
       "2            NaN      Central Office               Education Queensland   \n",
       "3        Primary  Central Queensland                                NaN   \n",
       "4            NaN          South East                                NaN   \n",
       "\n",
       "     Employment Status  Career move to public sector  \\\n",
       "0  Permanent Full-time                          True   \n",
       "1  Permanent Full-time                         False   \n",
       "2  Permanent Full-time                         False   \n",
       "3  Permanent Full-time                         False   \n",
       "4  Permanent Full-time                         False   \n",
       "\n",
       "   Career move to private sector  Interpersonal conflicts  \\\n",
       "0                          False                    False   \n",
       "1                          False                    False   \n",
       "2                          False                    False   \n",
       "3                           True                    False   \n",
       "4                          False                    False   \n",
       "\n",
       "   Job dissatisfaction  Dissatisfaction with the department  \\\n",
       "0                 True                                False   \n",
       "1                False                                False   \n",
       "2                False                                False   \n",
       "3                False                                False   \n",
       "4                False                                False   \n",
       "\n",
       "   Physical work environment  Lack of recognition  Lack of job security  \\\n",
       "0                      False                 True                 False   \n",
       "1                      False                False                 False   \n",
       "2                      False                False                 False   \n",
       "3                      False                False                 False   \n",
       "4                      False                False                 False   \n",
       "\n",
       "   Work location  Employment conditions  Maternity/family  Relocation  \\\n",
       "0          False                  False             False       False   \n",
       "1          False                  False             False       False   \n",
       "2          False                  False             False       False   \n",
       "3          False                  False             False       False   \n",
       "4          False                  False             False       False   \n",
       "\n",
       "   Study/Travel  Ill Health  Traumatic incident  Work life balance  Workload  \\\n",
       "0         False       False               False              False     False   \n",
       "1         False       False               False              False     False   \n",
       "2         False       False               False              False     False   \n",
       "3         False       False               False              False     False   \n",
       "4         False       False               False               True     False   \n",
       "\n",
       "   None of the above Professional Development Opportunities for promotion  \\\n",
       "0               True                        A                           A   \n",
       "1              False                        A                           A   \n",
       "2               True                        N                           N   \n",
       "3              False                        A                           N   \n",
       "4              False                        A                           A   \n",
       "\n",
       "  Staff morale Workplace issue Physical environment Worklife balance  \\\n",
       "0            N               N                    N                A   \n",
       "1            N               N                    N                N   \n",
       "2            N               N                    N                N   \n",
       "3            N               N                    A                A   \n",
       "4            N               N                    D                D   \n",
       "\n",
       "  Stress and pressure support Performance of supervisor Peer support  \\\n",
       "0                           A                         A            A   \n",
       "1                           A                         A            A   \n",
       "2                           N                         N            N   \n",
       "3                           N                         N            A   \n",
       "4                           N                         A            A   \n",
       "\n",
       "  Initiative Skills Coach Career Aspirations Feedback Further PD  \\\n",
       "0          N      N     N                  A        A          A   \n",
       "1          N      N     N                  A        A          A   \n",
       "2          N      N     N                  N        N          N   \n",
       "3          A      A     A                  A        A          A   \n",
       "4          A      A     A                  A       SA         SA   \n",
       "\n",
       "  Communication My say Information Kept informed Wellness programs  \\\n",
       "0             N      A           A             N                 N   \n",
       "1             N      A           A             N                 N   \n",
       "2             A      A           N             N                 N   \n",
       "3             A      A           A             A                 N   \n",
       "4             D      D           A             N                 A   \n",
       "\n",
       "  Health & Safety  Gender          Age Aboriginal Torres Strait South Sea  \\\n",
       "0               N    Male        56-60        NaN           NaN       NaN   \n",
       "1               N    Male        56-60        NaN           NaN       NaN   \n",
       "2               N    Male  61 or older        NaN           NaN       NaN   \n",
       "3               A  Female        36-40        NaN           NaN       NaN   \n",
       "4               M  Female  61 or older        NaN           NaN       NaN   \n",
       "\n",
       "  Disability NESB  \n",
       "0        NaN  Yes  \n",
       "1        NaN  NaN  \n",
       "2        NaN  NaN  \n",
       "3        NaN  NaN  \n",
       "4        NaN  NaN  "
      ]
     },
     "execution_count": 5,
     "metadata": {},
     "output_type": "execute_result"
    }
   ],
   "source": [
    "# read in the data, this time read 'Not Stated' as 'NaN'\n",
    "dete_survey = pd.read_csv('dete_survey.csv', na_values='Not Stated')\n",
    "\n",
    "# quick exploration of data\n",
    "dete_survey.head()"
   ]
  },
  {
   "cell_type": "code",
   "execution_count": 6,
   "metadata": {
    "collapsed": false
   },
   "outputs": [
    {
     "name": "stdout",
     "output_type": "stream",
     "text": [
      "Index(['ID', 'SeparationType', 'Cease Date', 'DETE Start Date',\n",
      "       'Role Start Date', 'Position', 'Classification', 'Region',\n",
      "       'Business Unit', 'Employment Status', 'Career move to public sector',\n",
      "       'Career move to private sector', 'Interpersonal conflicts',\n",
      "       'Job dissatisfaction', 'Dissatisfaction with the department',\n",
      "       'Physical work environment', 'Lack of recognition',\n",
      "       'Lack of job security', 'Work location', 'Employment conditions',\n",
      "       'Maternity/family', 'Relocation', 'Study/Travel', 'Ill Health',\n",
      "       'Traumatic incident', 'Work life balance', 'Workload',\n",
      "       'None of the above', 'Gender', 'Age', 'Aboriginal', 'Torres Strait',\n",
      "       'South Sea', 'Disability', 'NESB'],\n",
      "      dtype='object')\n",
      "Index(['Record ID', 'Institute', 'WorkArea', 'CESSATION YEAR',\n",
      "       'Reason for ceasing employment',\n",
      "       'Contributing Factors. Career Move - Public Sector ',\n",
      "       'Contributing Factors. Career Move - Private Sector ',\n",
      "       'Contributing Factors. Career Move - Self-employment',\n",
      "       'Contributing Factors. Ill Health',\n",
      "       'Contributing Factors. Maternity/Family',\n",
      "       'Contributing Factors. Dissatisfaction',\n",
      "       'Contributing Factors. Job Dissatisfaction',\n",
      "       'Contributing Factors. Interpersonal Conflict',\n",
      "       'Contributing Factors. Study', 'Contributing Factors. Travel',\n",
      "       'Contributing Factors. Other', 'Contributing Factors. NONE',\n",
      "       'Gender. What is your Gender?', 'CurrentAge. Current Age',\n",
      "       'Employment Type. Employment Type', 'Classification. Classification',\n",
      "       'LengthofServiceOverall. Overall Length of Service at Institute (in years)',\n",
      "       'LengthofServiceCurrent. Length of Service at current workplace (in years)'],\n",
      "      dtype='object')\n"
     ]
    }
   ],
   "source": [
    "# remove unnecessary columns \n",
    "dete_survey_updated = dete_survey.drop(dete_survey.columns[28:49], axis=1)\n",
    "tafe_survey_updated = tafe_survey.drop(tafe_survey.columns[17:66], axis=1)\n",
    "\n",
    "# check that columns were dropped\n",
    "print(dete_survey_updated.columns)\n",
    "print(tafe_survey_updated.columns)"
   ]
  },
  {
   "cell_type": "markdown",
   "metadata": {},
   "source": [
    "# Rename Columns\n",
    "\n",
    "Standardize the names of columns I am working with, as we eventually want to combine dataframes."
   ]
  },
  {
   "cell_type": "code",
   "execution_count": 7,
   "metadata": {
    "collapsed": false
   },
   "outputs": [
    {
     "data": {
      "text/plain": [
       "Index(['id', 'separationtype', 'cease_date', 'dete_start_date',\n",
       "       'role_start_date', 'position', 'classification', 'region',\n",
       "       'business_unit', 'employment_status', 'career_move_to_public_sector',\n",
       "       'career_move_to_private_sector', 'interpersonal_conflicts',\n",
       "       'job_dissatisfaction', 'dissatisfaction_with_the_department',\n",
       "       'physical_work_environment', 'lack_of_recognition',\n",
       "       'lack_of_job_security', 'work_location', 'employment_conditions',\n",
       "       'maternity/family', 'relocation', 'study/travel', 'ill_health',\n",
       "       'traumatic_incident', 'work_life_balance', 'workload',\n",
       "       'none_of_the_above', 'gender', 'age', 'aboriginal', 'torres_strait',\n",
       "       'south_sea', 'disability', 'nesb'],\n",
       "      dtype='object')"
      ]
     },
     "execution_count": 7,
     "metadata": {},
     "output_type": "execute_result"
    }
   ],
   "source": [
    "# clean column names\n",
    "dete_survey_updated.columns = dete_survey_updated.columns.str.lower().str.strip().str.replace(' ', '_')\n",
    "\n",
    "# check that the column names were updated correctly\n",
    "dete_survey_updated.columns"
   ]
  },
  {
   "cell_type": "code",
   "execution_count": 8,
   "metadata": {
    "collapsed": false
   },
   "outputs": [
    {
     "data": {
      "text/plain": [
       "Index(['id', 'Institute', 'WorkArea', 'cease_date', 'separationtype',\n",
       "       'Contributing Factors. Career Move - Public Sector ',\n",
       "       'Contributing Factors. Career Move - Private Sector ',\n",
       "       'Contributing Factors. Career Move - Self-employment',\n",
       "       'Contributing Factors. Ill Health',\n",
       "       'Contributing Factors. Maternity/Family',\n",
       "       'Contributing Factors. Dissatisfaction',\n",
       "       'Contributing Factors. Job Dissatisfaction',\n",
       "       'Contributing Factors. Interpersonal Conflict',\n",
       "       'Contributing Factors. Study', 'Contributing Factors. Travel',\n",
       "       'Contributing Factors. Other', 'Contributing Factors. NONE', 'gender',\n",
       "       'age', 'employment_status', 'position', 'institute_service',\n",
       "       'role_service'],\n",
       "      dtype='object')"
      ]
     },
     "execution_count": 8,
     "metadata": {},
     "output_type": "execute_result"
    }
   ],
   "source": [
    "# update column names to match the names in dete_survey_updated\n",
    "mapping = {'Record ID': 'id', 'CESSATION YEAR': 'cease_date', 'Reason for ceasing employment': 'separationtype',\n",
    "          'Gender. What is your Gender?': 'gender', 'CurrentAge. Current Age': 'age',\n",
    "          'Employment Type. Employment Type': 'employment_status',\n",
    "          'Classification. Classification': 'position',\n",
    "          'LengthofServiceOverall. Overall Length of Service at Institute (in years)': 'institute_service',\n",
    "          'LengthofServiceCurrent. Length of Service at current workplace (in years)': 'role_service'}\n",
    "tafe_survey_updated = tafe_survey_updated.rename(mapping,axis=1)\n",
    "\n",
    "# check that the specified column names were updated\n",
    "tafe_survey_updated.columns"
   ]
  },
  {
   "cell_type": "markdown",
   "metadata": {},
   "source": [
    "# Filter the Data\n",
    "\n",
    "Only analyzing survey respondents who resigned, so only select separation types containing the string 'Resignation'."
   ]
  },
  {
   "cell_type": "code",
   "execution_count": 9,
   "metadata": {
    "collapsed": false
   },
   "outputs": [
    {
     "data": {
      "text/plain": [
       "Resignation                 340\n",
       "Contract Expired            127\n",
       "Retrenchment/ Redundancy    104\n",
       "Retirement                   82\n",
       "Transfer                     25\n",
       "Termination                  23\n",
       "Name: separationtype, dtype: int64"
      ]
     },
     "execution_count": 9,
     "metadata": {},
     "output_type": "execute_result"
    }
   ],
   "source": [
    "# check the unique values for the separationtype column\n",
    "tafe_survey_updated['separationtype'].value_counts()"
   ]
  },
  {
   "cell_type": "code",
   "execution_count": 10,
   "metadata": {
    "collapsed": false
   },
   "outputs": [
    {
     "data": {
      "text/plain": [
       "Age Retirement                          285\n",
       "Resignation-Other reasons               150\n",
       "Resignation-Other employer               91\n",
       "Resignation-Move overseas/interstate     70\n",
       "Voluntary Early Retirement (VER)         67\n",
       "Ill Health Retirement                    61\n",
       "Other                                    49\n",
       "Contract Expired                         34\n",
       "Termination                              15\n",
       "Name: separationtype, dtype: int64"
      ]
     },
     "execution_count": 10,
     "metadata": {},
     "output_type": "execute_result"
    }
   ],
   "source": [
    "# check the unique values for the separationtype column\n",
    "dete_survey_updated['separationtype'].value_counts()"
   ]
  },
  {
   "cell_type": "code",
   "execution_count": 11,
   "metadata": {
    "collapsed": false
   },
   "outputs": [
    {
     "data": {
      "text/plain": [
       "Resignation                         311\n",
       "Age Retirement                      285\n",
       "Voluntary Early Retirement (VER)     67\n",
       "Ill Health Retirement                61\n",
       "Other                                49\n",
       "Contract Expired                     34\n",
       "Termination                          15\n",
       "Name: separationtype, dtype: int64"
      ]
     },
     "execution_count": 11,
     "metadata": {},
     "output_type": "execute_result"
    }
   ],
   "source": [
    "# update all separation types containing the word \"resignation\" to 'Resignation'\n",
    "dete_survey_updated['separationtype'] = dete_survey_updated['separationtype'].str.split('-').str[0]\n",
    "\n",
    "# check the values in the separationtype column were updated correctly\n",
    "dete_survey_updated['separationtype'].value_counts()"
   ]
  },
  {
   "cell_type": "code",
   "execution_count": 12,
   "metadata": {
    "collapsed": true
   },
   "outputs": [],
   "source": [
    "# select only the resignation separation types from each dataframe\n",
    "dete_resignations = dete_survey_updated[dete_survey_updated['separationtype'] == 'Resignation'].copy()\n",
    "tafe_resignations = tafe_survey_updated[tafe_survey_updated['separationtype'] == 'Resignation'].copy()"
   ]
  },
  {
   "cell_type": "markdown",
   "metadata": {},
   "source": [
    "# Verify the Data\n",
    "\n",
    "Below, I clean and explore the cease_date and dete_start_date columns to make sure all of the years make sense.  Use the following criteria:\n",
    "* since the cease_date is the last year of the person's employment and the dete_start_date is the person's first year of employment, it wouldn't make sense to have years after the current date\n",
    "* given that most people in this field start working in their 20s, it's also unlikely that the dete_start_date was before the year 1940"
   ]
  },
  {
   "cell_type": "code",
   "execution_count": 13,
   "metadata": {
    "collapsed": false
   },
   "outputs": [
    {
     "data": {
      "text/plain": [
       "2012       126\n",
       "2013        74\n",
       "01/2014     22\n",
       "12/2013     17\n",
       "06/2013     14\n",
       "09/2013     11\n",
       "11/2013      9\n",
       "07/2013      9\n",
       "10/2013      6\n",
       "08/2013      4\n",
       "05/2013      2\n",
       "05/2012      2\n",
       "2010         1\n",
       "09/2010      1\n",
       "07/2012      1\n",
       "07/2006      1\n",
       "Name: cease_date, dtype: int64"
      ]
     },
     "execution_count": 13,
     "metadata": {},
     "output_type": "execute_result"
    }
   ],
   "source": [
    "# check the unique values\n",
    "dete_resignations['cease_date'].value_counts()"
   ]
  },
  {
   "cell_type": "code",
   "execution_count": 14,
   "metadata": {
    "collapsed": false
   },
   "outputs": [
    {
     "data": {
      "text/plain": [
       "2013.0    146\n",
       "2012.0    129\n",
       "2014.0     22\n",
       "2010.0      2\n",
       "2006.0      1\n",
       "Name: cease_date, dtype: int64"
      ]
     },
     "execution_count": 14,
     "metadata": {},
     "output_type": "execute_result"
    }
   ],
   "source": [
    "# extract the years and convert them to a float type\n",
    "dete_resignations['cease_date'] = dete_resignations['cease_date'].str.split('/').str[-1]\n",
    "dete_resignations['cease_date'] = dete_resignations['cease_date'].astype(\"float\")\n",
    "\n",
    "# check the values again and look for outliers\n",
    "dete_resignations['cease_date'].value_counts()"
   ]
  },
  {
   "cell_type": "code",
   "execution_count": 15,
   "metadata": {
    "collapsed": false
   },
   "outputs": [
    {
     "data": {
      "text/plain": [
       "1963.0     1\n",
       "1971.0     1\n",
       "1972.0     1\n",
       "1984.0     1\n",
       "1977.0     1\n",
       "1987.0     1\n",
       "1975.0     1\n",
       "1973.0     1\n",
       "1982.0     1\n",
       "1974.0     2\n",
       "1983.0     2\n",
       "1976.0     2\n",
       "1986.0     3\n",
       "1985.0     3\n",
       "2001.0     3\n",
       "1995.0     4\n",
       "1988.0     4\n",
       "1989.0     4\n",
       "1991.0     4\n",
       "1997.0     5\n",
       "1980.0     5\n",
       "1993.0     5\n",
       "1990.0     5\n",
       "1994.0     6\n",
       "2003.0     6\n",
       "1998.0     6\n",
       "1992.0     6\n",
       "2002.0     6\n",
       "1996.0     6\n",
       "1999.0     8\n",
       "2000.0     9\n",
       "2013.0    10\n",
       "2009.0    13\n",
       "2006.0    13\n",
       "2004.0    14\n",
       "2005.0    15\n",
       "2010.0    17\n",
       "2012.0    21\n",
       "2007.0    21\n",
       "2008.0    22\n",
       "2011.0    24\n",
       "Name: dete_start_date, dtype: int64"
      ]
     },
     "execution_count": 15,
     "metadata": {},
     "output_type": "execute_result"
    }
   ],
   "source": [
    "# check the unique values and look for outliers\n",
    "dete_resignations['dete_start_date'].value_counts().sort_values()"
   ]
  },
  {
   "cell_type": "code",
   "execution_count": 16,
   "metadata": {
    "collapsed": false
   },
   "outputs": [
    {
     "data": {
      "text/plain": [
       "2009.0      2\n",
       "2013.0     55\n",
       "2010.0     68\n",
       "2012.0     94\n",
       "2011.0    116\n",
       "Name: cease_date, dtype: int64"
      ]
     },
     "execution_count": 16,
     "metadata": {},
     "output_type": "execute_result"
    }
   ],
   "source": [
    "# check the unique values\n",
    "tafe_resignations['cease_date'].value_counts().sort_values()"
   ]
  },
  {
   "cell_type": "markdown",
   "metadata": {},
   "source": [
    "Below are our findings:\n",
    "\n",
    "The years in both dataframes don't completely align. The tafe_survey_updated dataframe contains some cease dates in 2009, but the dete_survey_updated dataframe does not. The tafe_survey_updated dataframe also contains many more cease dates in 2010 than the dete_survey_updated dataframe. Since I'm not concerned with analyzing the results by year, I'll leave them as is"
   ]
  },
  {
   "cell_type": "markdown",
   "metadata": {},
   "source": [
    "# Create a New Column\n",
    "\n",
    "Since the end goal is to answer: \"Are employees who have only worked for the institutes for a short period of time resigning due to some kind of dissatisfaction? What about employees who have been at the job longer?\", I need a column containing the length of time an employee spent in their workplace, or years of service, in both dataframes. \n",
    "\n",
    "The tafe_resignations dataframe already contains a \"service\" column, which is renamed as \"institute_service\".\n",
    "\n",
    "Below, I calculate the years of service in the dete_survey_updated dataframe by subtracting the dete_start_date from the cease_date and create a new column named institute_service. "
   ]
  },
  {
   "cell_type": "code",
   "execution_count": 17,
   "metadata": {
    "collapsed": false
   },
   "outputs": [
    {
     "data": {
      "text/plain": [
       "3      7.0\n",
       "5     18.0\n",
       "8      3.0\n",
       "9     15.0\n",
       "11     3.0\n",
       "Name: institute_service, dtype: float64"
      ]
     },
     "execution_count": 17,
     "metadata": {},
     "output_type": "execute_result"
    }
   ],
   "source": [
    "# calculate the length of time an employee spent in their respective workplace and createa a new column\n",
    "dete_resignations['institute_service'] = dete_resignations['cease_date'] - dete_resignations['dete_start_date']\n",
    "\n",
    "# check result\n",
    "dete_resignations['institute_service'].head()"
   ]
  },
  {
   "cell_type": "markdown",
   "metadata": {},
   "source": [
    "# Identify Dissatisfied Employees\n",
    "\n",
    "Next, I'll identify any employees who resigned because they were dissatisfied. Below are the columns I'll use to categorize employees as \"dissatisfied\" from each dataframe:\n",
    "\n",
    "1. tafe_survey_updated:\n",
    "    * Contributing Factors. Dissatisfaction\n",
    "    * Contributing Factors. Job Dissatisfaction\n",
    "2. dafe_survey_updated:\n",
    "    * job_dissatisfaction\n",
    "    * dissatisfaction_with_the_department\n",
    "    * physical_work_environment\n",
    "    * lack_of_recognition\n",
    "    * lack_of_job_security\n",
    "    * work_location\n",
    "    * employment_conditions\n",
    "    * work_life_balance\n",
    "    * workload\n",
    "    \n",
    "If the employee indicated any of the factors above caused them to resign, I'll mark them as dissatisfied in a new column. After the changes, the new dissatisfied column will contain just the following values:\n",
    "* True: indicates a person resigned because they were dissatisfied in some way\n",
    "* False: indicates a person resigned because of a reason other than dissatisfaction with the job\n",
    "* NaN: indicates the value is missing"
   ]
  },
  {
   "cell_type": "code",
   "execution_count": 18,
   "metadata": {
    "collapsed": false
   },
   "outputs": [
    {
     "data": {
      "text/plain": [
       "-                                         277\n",
       "Contributing Factors. Dissatisfaction      55\n",
       "Name: Contributing Factors. Dissatisfaction, dtype: int64"
      ]
     },
     "execution_count": 18,
     "metadata": {},
     "output_type": "execute_result"
    }
   ],
   "source": [
    "# check the unique values\n",
    "tafe_resignations['Contributing Factors. Dissatisfaction'].value_counts()"
   ]
  },
  {
   "cell_type": "code",
   "execution_count": 19,
   "metadata": {
    "collapsed": false
   },
   "outputs": [
    {
     "data": {
      "text/plain": [
       "-                      270\n",
       "Job Dissatisfaction     62\n",
       "Name: Contributing Factors. Job Dissatisfaction, dtype: int64"
      ]
     },
     "execution_count": 19,
     "metadata": {},
     "output_type": "execute_result"
    }
   ],
   "source": [
    "# check the unique values\n",
    "tafe_resignations['Contributing Factors. Job Dissatisfaction'].value_counts()"
   ]
  },
  {
   "cell_type": "code",
   "execution_count": 20,
   "metadata": {
    "collapsed": false
   },
   "outputs": [
    {
     "data": {
      "text/plain": [
       "False    241\n",
       "True      91\n",
       "NaN        8\n",
       "Name: dissatisfied, dtype: int64"
      ]
     },
     "execution_count": 20,
     "metadata": {},
     "output_type": "execute_result"
    }
   ],
   "source": [
    "# update the values in the contributing factors columns to either be True, False, or NaN\n",
    "def update_vals(x):\n",
    "    if x == '-':\n",
    "        return False\n",
    "    elif pd.isnull(x):\n",
    "        return np.nan\n",
    "    else:\n",
    "        return True\n",
    "tafe_resignations['dissatisfied'] = tafe_resignations[['Contributing Factors. Dissatisfaction',\n",
    "                                                      'Contributing Factors. Job Dissatisfaction']].applymap(update_vals).any(1, skipna=False)\n",
    "tafe_resignations_up = tafe_resignations.copy()\n",
    "\n",
    "# check unique values after the updates\n",
    "tafe_resignations_up['dissatisfied'].value_counts(dropna=False)"
   ]
  },
  {
   "cell_type": "code",
   "execution_count": 21,
   "metadata": {
    "collapsed": false
   },
   "outputs": [
    {
     "data": {
      "text/plain": [
       "False    162\n",
       "True     149\n",
       "Name: dissatisfied, dtype: int64"
      ]
     },
     "execution_count": 21,
     "metadata": {},
     "output_type": "execute_result"
    }
   ],
   "source": [
    "# update the values in columns related to dissatisfaction to be either True, False or NaN\n",
    "dete_resignations['dissatisfied'] = dete_resignations[['job_dissatisfaction',\n",
    "                                                      'dissatisfaction_with_the_department',\n",
    "                                                      'physical_work_environment',\n",
    "                                                      'lack_of_recognition', 'lack_of_job_security',\n",
    "                                                      'work_location', 'employment_conditions',\n",
    "                                                      'work_life_balance', 'workload']].any(1, skipna=False)\n",
    "dete_resignations_up = dete_resignations.copy()\n",
    "dete_resignations_up['dissatisfied'].value_counts(dropna=False)"
   ]
  },
  {
   "cell_type": "markdown",
   "metadata": {},
   "source": [
    "# Combining the Data\n",
    "\n",
    "Below, I'll add an institute column so that I can differentiate the data from each survey after they are combined. Then, I'll combine the dataframes and drop any remaining unnecessary columns."
   ]
  },
  {
   "cell_type": "code",
   "execution_count": 22,
   "metadata": {
    "collapsed": true
   },
   "outputs": [],
   "source": [
    "# add an institute column\n",
    "dete_resignations_up['institute'] = 'DETE'\n",
    "tafe_resignations_up['institute'] = 'TAFE'"
   ]
  },
  {
   "cell_type": "code",
   "execution_count": 23,
   "metadata": {
    "collapsed": false
   },
   "outputs": [
    {
     "data": {
      "text/plain": [
       "torres_strait                                            0\n",
       "south_sea                                                3\n",
       "aboriginal                                               7\n",
       "disability                                               8\n",
       "nesb                                                     9\n",
       "business_unit                                           32\n",
       "classification                                         161\n",
       "region                                                 265\n",
       "role_start_date                                        271\n",
       "dete_start_date                                        283\n",
       "role_service                                           290\n",
       "career_move_to_public_sector                           311\n",
       "employment_conditions                                  311\n",
       "work_location                                          311\n",
       "lack_of_job_security                                   311\n",
       "job_dissatisfaction                                    311\n",
       "dissatisfaction_with_the_department                    311\n",
       "workload                                               311\n",
       "lack_of_recognition                                    311\n",
       "interpersonal_conflicts                                311\n",
       "maternity/family                                       311\n",
       "none_of_the_above                                      311\n",
       "physical_work_environment                              311\n",
       "relocation                                             311\n",
       "study/travel                                           311\n",
       "traumatic_incident                                     311\n",
       "work_life_balance                                      311\n",
       "career_move_to_private_sector                          311\n",
       "ill_health                                             311\n",
       "Contributing Factors. Career Move - Private Sector     332\n",
       "Contributing Factors. Other                            332\n",
       "Contributing Factors. Career Move - Public Sector      332\n",
       "Contributing Factors. Career Move - Self-employment    332\n",
       "Contributing Factors. Travel                           332\n",
       "Contributing Factors. Study                            332\n",
       "Contributing Factors. Dissatisfaction                  332\n",
       "Contributing Factors. Ill Health                       332\n",
       "Contributing Factors. NONE                             332\n",
       "Contributing Factors. Maternity/Family                 332\n",
       "Contributing Factors. Job Dissatisfaction              332\n",
       "Contributing Factors. Interpersonal Conflict           332\n",
       "WorkArea                                               340\n",
       "Institute                                              340\n",
       "institute_service                                      563\n",
       "gender                                                 592\n",
       "age                                                    596\n",
       "employment_status                                      597\n",
       "position                                               598\n",
       "cease_date                                             635\n",
       "dissatisfied                                           643\n",
       "id                                                     651\n",
       "separationtype                                         651\n",
       "institute                                              651\n",
       "dtype: int64"
      ]
     },
     "execution_count": 23,
     "metadata": {},
     "output_type": "execute_result"
    }
   ],
   "source": [
    "# combine dataframes\n",
    "combined = pd.concat([dete_resignations_up, tafe_resignations_up], ignore_index=True)\n",
    "\n",
    "# verify the number of non null values in each column\n",
    "combined.notnull().sum().sort_values()"
   ]
  },
  {
   "cell_type": "code",
   "execution_count": 24,
   "metadata": {
    "collapsed": true
   },
   "outputs": [],
   "source": [
    "# drop columns with less than 500 non null values\n",
    "combined_updated = combined.dropna(thresh = 500, axis=1).copy()"
   ]
  },
  {
   "cell_type": "markdown",
   "metadata": {},
   "source": [
    "# Clean the Service Column\n",
    "\n",
    "Next, I'll clean the institute_service column and categorize employees according to the following definitions:\n",
    "* New: less than 3 years in the workplace\n",
    "* Experienced: 3-6 years in the workplace\n",
    "* Established: 7-10 years in the workplace\n",
    "* Veteran: 11 or more years in the workplace\n",
    "\n",
    "The analysis is based on an article which makes the argument that understanding employee's needs according to career stage instead of age is more effective. "
   ]
  },
  {
   "cell_type": "code",
   "execution_count": 25,
   "metadata": {
    "collapsed": false
   },
   "outputs": [
    {
     "data": {
      "text/plain": [
       "NaN                   88\n",
       "Less than 1 year      73\n",
       "1-2                   64\n",
       "3-4                   63\n",
       "5-6                   33\n",
       "11-20                 26\n",
       "5.0                   23\n",
       "1.0                   22\n",
       "7-10                  21\n",
       "0.0                   20\n",
       "3.0                   20\n",
       "6.0                   17\n",
       "4.0                   16\n",
       "2.0                   14\n",
       "9.0                   14\n",
       "7.0                   13\n",
       "More than 20 years    10\n",
       "8.0                    8\n",
       "13.0                   8\n",
       "15.0                   7\n",
       "20.0                   7\n",
       "14.0                   6\n",
       "10.0                   6\n",
       "12.0                   6\n",
       "17.0                   6\n",
       "22.0                   6\n",
       "16.0                   5\n",
       "18.0                   5\n",
       "24.0                   4\n",
       "11.0                   4\n",
       "23.0                   4\n",
       "19.0                   3\n",
       "39.0                   3\n",
       "21.0                   3\n",
       "32.0                   3\n",
       "25.0                   2\n",
       "26.0                   2\n",
       "36.0                   2\n",
       "28.0                   2\n",
       "30.0                   2\n",
       "33.0                   1\n",
       "38.0                   1\n",
       "35.0                   1\n",
       "34.0                   1\n",
       "31.0                   1\n",
       "49.0                   1\n",
       "29.0                   1\n",
       "27.0                   1\n",
       "42.0                   1\n",
       "41.0                   1\n",
       "Name: institute_service, dtype: int64"
      ]
     },
     "execution_count": 25,
     "metadata": {},
     "output_type": "execute_result"
    }
   ],
   "source": [
    "# check the unique values\n",
    "combined_updated['institute_service'].value_counts(dropna=False)"
   ]
  },
  {
   "cell_type": "code",
   "execution_count": 26,
   "metadata": {
    "collapsed": false
   },
   "outputs": [
    {
     "name": "stderr",
     "output_type": "stream",
     "text": [
      "/dataquest/system/env/python3/lib/python3.4/site-packages/ipykernel/__main__.py:2: FutureWarning: currently extract(expand=None) means expand=False (return Index/Series/DataFrame) but in a future version of pandas this will be changed to expand=True (return DataFrame)\n",
      "  from ipykernel import kernelapp as app\n"
     ]
    },
    {
     "data": {
      "text/plain": [
       "1.0     159\n",
       "3.0      83\n",
       "5.0      56\n",
       "7.0      34\n",
       "11.0     30\n",
       "0.0      20\n",
       "20.0     17\n",
       "6.0      17\n",
       "4.0      16\n",
       "9.0      14\n",
       "2.0      14\n",
       "13.0      8\n",
       "8.0       8\n",
       "15.0      7\n",
       "17.0      6\n",
       "10.0      6\n",
       "12.0      6\n",
       "14.0      6\n",
       "22.0      6\n",
       "16.0      5\n",
       "18.0      5\n",
       "24.0      4\n",
       "23.0      4\n",
       "39.0      3\n",
       "19.0      3\n",
       "21.0      3\n",
       "32.0      3\n",
       "28.0      2\n",
       "36.0      2\n",
       "25.0      2\n",
       "30.0      2\n",
       "26.0      2\n",
       "29.0      1\n",
       "38.0      1\n",
       "42.0      1\n",
       "27.0      1\n",
       "41.0      1\n",
       "35.0      1\n",
       "49.0      1\n",
       "34.0      1\n",
       "33.0      1\n",
       "31.0      1\n",
       "Name: institute_service_up, dtype: int64"
      ]
     },
     "execution_count": 26,
     "metadata": {},
     "output_type": "execute_result"
    }
   ],
   "source": [
    "# extract the years of service and convert the type to float\n",
    "combined_updated['institute_service_up'] = combined_updated['institute_service'].astype('str').str.extract(r'(\\d+)')\n",
    "combined_updated['institute_service_up'] = combined_updated['institute_service_up'].astype('float')\n",
    "\n",
    "# check the years extracted are correct\n",
    "combined_updated['institute_service_up'].value_counts()"
   ]
  },
  {
   "cell_type": "code",
   "execution_count": 27,
   "metadata": {
    "collapsed": false
   },
   "outputs": [
    {
     "data": {
      "text/plain": [
       "New            281\n",
       "Experienced    172\n",
       "Veteran        136\n",
       "Established     62\n",
       "Name: service_cat, dtype: int64"
      ]
     },
     "execution_count": 27,
     "metadata": {},
     "output_type": "execute_result"
    }
   ],
   "source": [
    "# convert years of service to categories\n",
    "def transform_service(val):\n",
    "    if val >= 11:\n",
    "        return \"Veteran\"\n",
    "    elif 7 <= val < 11:\n",
    "        return \"Established\"\n",
    "    elif 3 <= val < 7:\n",
    "        return \"Experienced\"\n",
    "    else:\n",
    "        return \"New\"\n",
    "combined_updated['service_cat'] = combined_updated['institute_service_up'].apply(transform_service)\n",
    "\n",
    "# check the update\n",
    "combined_updated['service_cat'].value_counts()"
   ]
  },
  {
   "cell_type": "markdown",
   "metadata": {},
   "source": [
    "# Perform Initial Analysis\n",
    "\n",
    "Finally, I'll replace the missing values in the dissatisfied column with the most frequent value, False. Then, I'll calculate the percentage of employees who resigned due to dissatisfaction in each service_cat group and plot the results. \n",
    "\n",
    "Note that since there are still outstanding missing values to deal with, this is meant to be an initial intro to the analysis, not final."
   ]
  },
  {
   "cell_type": "code",
   "execution_count": 28,
   "metadata": {
    "collapsed": false
   },
   "outputs": [
    {
     "data": {
      "text/plain": [
       "False    403\n",
       "True     240\n",
       "NaN        8\n",
       "Name: dissatisfied, dtype: int64"
      ]
     },
     "execution_count": 28,
     "metadata": {},
     "output_type": "execute_result"
    }
   ],
   "source": [
    "# verify unique values\n",
    "combined_updated['dissatisfied'].value_counts(dropna=False)"
   ]
  },
  {
   "cell_type": "code",
   "execution_count": 29,
   "metadata": {
    "collapsed": true
   },
   "outputs": [],
   "source": [
    "# replace missing values with False\n",
    "combined_updated['dissatisfied'] = combined_updated['dissatisfied'].fillna(False)"
   ]
  },
  {
   "cell_type": "code",
   "execution_count": 30,
   "metadata": {
    "collapsed": false
   },
   "outputs": [
    {
     "data": {
      "text/plain": [
       "<matplotlib.axes._subplots.AxesSubplot at 0x7f3f80552a20>"
      ]
     },
     "execution_count": 30,
     "metadata": {},
     "output_type": "execute_result"
    },
    {
     "data": {
      "image/png": "iVBORw0KGgoAAAANSUhEUgAAAXEAAAEuCAYAAAB4XyKGAAAABHNCSVQICAgIfAhkiAAAAAlwSFlz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\njCFORCRhDHEiIgljiBMRSRhDnIhIwv4fRRtnNv0uITUAAAAASUVORK5CYII=\n",
      "text/plain": [
       "<matplotlib.figure.Figure at 0x7f3f8054bf60>"
      ]
     },
     "metadata": {},
     "output_type": "display_data"
    }
   ],
   "source": [
    "# calculate the percentage of employees who resigned due to dissatisfaction in each category\n",
    "dis_pct = combined_updated.pivot_table(index='service_cat', values='dissatisfied')\n",
    "\n",
    "# plot results\n",
    "%matplotlib inline\n",
    "dis_pct.plot(kind='bar', rot=30)"
   ]
  },
  {
   "cell_type": "code",
   "execution_count": null,
   "metadata": {
    "collapsed": true
   },
   "outputs": [],
   "source": []
  }
 ],
 "metadata": {
  "kernelspec": {
   "display_name": "Python 3",
   "language": "python",
   "name": "python3"
  },
  "language_info": {
   "codemirror_mode": {
    "name": "ipython",
    "version": 3
   },
   "file_extension": ".py",
   "mimetype": "text/x-python",
   "name": "python",
   "nbconvert_exporter": "python",
   "pygments_lexer": "ipython3",
   "version": "3.4.3"
  }
 },
 "nbformat": 4,
 "nbformat_minor": 2
}
dete_survey.csv0000777000175000000000000071227300000000000013511 0ustar  dqroot00000000000000ID,SeparationType,Cease Date,DETE Start Date,Role Start Date,Position,Classification,Region,Business Unit,Employment Status,Career move to public sector,Career move to private sector,Interpersonal conflicts,Job dissatisfaction,Dissatisfaction with the department,Physical work environment,Lack of recognition,Lack of job security,Work location,Employment conditions,Maternity/family,Relocation,Study/Travel,Ill Health,Traumatic incident,Work life balance,Workload,None of the above,Professional Development,Opportunities for promotion,Staff morale,Workplace issue,Physical environment,Worklife balance,Stress and pressure support,Performance of supervisor,Peer support,Initiative,Skills,Coach,Career Aspirations,Feedback,Further PD,Communication,My say,Information,Kept informed,Wellness programs,Health & Safety,Gender,Age,Aboriginal,Torres Strait,South Sea,Disability,NESB
1,Ill Health Retirement,08/2012,1984,2004,Public Servant,A01-A04,Central Office,Corporate Strategy and Peformance,Permanent Full-time,TRUE,FALSE,FALSE,TRUE,FALSE,FALSE,TRUE,FALSE,FALSE,FALSE,FALSE,FALSE,FALSE,FALSE,FALSE,FALSE,FALSE,TRUE,A,A,N,N,N,A,A,A,A,N,N,N,A,A,A,N,A,A,N,N,N,Male,56-60,N/A,N/A,N/A,N/A,Yes
2,Voluntary Early Retirement (VER),08/2012,Not Stated,Not Stated,Public Servant,AO5-AO7,Central Office,Corporate Strategy and Peformance,Permanent Full-time,FALSE,FALSE,FALSE,FALSE,FALSE,FALSE,FALSE,FALSE,FALSE,FALSE,FALSE,FALSE,FALSE,FALSE,FALSE,FALSE,FALSE,FALSE,A,A,N,N,N,N,A,A,A,N,N,N,A,A,A,N,A,A,N,N,N,Male,56-60,N/A,N/A,N/A,N/A,N/A
3,Voluntary Early Retirement (VER),05/2012,2011,2011,Schools Officer,,Central Office,Education Queensland,Permanent Full-time,FALSE,FALSE,FALSE,FALSE,FALSE,FALSE,FALSE,FALSE,FALSE,FALSE,FALSE,FALSE,FALSE,FALSE,FALSE,FALSE,FALSE,TRUE,N,N,N,N,N,N,N,N,N,N,N,N,N,N,N,A,A,N,N,N,N,Male,61 or older,N/A,N/A,N/A,N/A,N/A
4,Resignation-Other reasons,05/2012,2005,2006,Teacher,Primary,Central Queensland,,Permanent Full-time,FALSE,TRUE,FALSE,FALSE,FALSE,FALSE,FALSE,FALSE,FALSE,FALSE,FALSE,FALSE,FALSE,FALSE,FALSE,FALSE,FALSE,FALSE,A,N,N,N,A,A,N,N,A,A,A,A,A,A,A,A,A,A,A,N,A,Female,36-40,N/A,N/A,N/A,N/A,N/A
5,Age Retirement,05/2012,1970,1989,Head of Curriculum/Head of Special Education,,South East,,Permanent Full-time,FALSE,FALSE,FALSE,FALSE,FALSE,FALSE,FALSE,FALSE,FALSE,FALSE,FALSE,FALSE,FALSE,FALSE,FALSE,TRUE,FALSE,FALSE,A,A,N,N,D,D,N,A,A,A,A,A,A,SA,SA,D,D,A,N,A,M,Female,61 or older,N/A,N/A,N/A,N/A,N/A
6,Resignation-Other reasons,05/2012,1994,1997,Guidance Officer,,Central Office,Education Queensland,Permanent Full-time,FALSE,TRUE,FALSE,FALSE,FALSE,FALSE,FALSE,FALSE,FALSE,TRUE,TRUE,FALSE,FALSE,FALSE,FALSE,FALSE,FALSE,FALSE,SD,SD,SD,D,SD,D,D,A,N/A,SA,A,A,N,N,D,A,D,D,D,D,N/A,Female,41-45,N/A,N/A,N/A,N/A,N/A
7,Age Retirement,05/2012,1972,2007,Teacher,Secondary,Darling Downs South West,,Permanent Part-time,FALSE,FALSE,FALSE,TRUE,TRUE,FALSE,FALSE,FALSE,FALSE,FALSE,FALSE,FALSE,FALSE,FALSE,FALSE,FALSE,FALSE,FALSE,SD,N,SD,D,A,A,D,D,SA,D,N,N,D,D,N,N,D,D,D,D,SD,Female,56-60,N/A,N/A,N/A,N/A,N/A
8,Age Retirement,05/2012,1988,1990,Teacher Aide,,North Coast,,Permanent Part-time,FALSE,FALSE,FALSE,FALSE,FALSE,FALSE,FALSE,FALSE,FALSE,FALSE,FALSE,FALSE,FALSE,FALSE,FALSE,FALSE,FALSE,FALSE,A,N/A,A,A,SA,SA,SA,SA,A,SA,SA,A,N/A,A,N,A,SA,A,SA,N/A,SA,Female,61 or older,N/A,N/A,N/A,N/A,N/A
9,Resignation-Other reasons,07/2012,2009,2009,Teacher,Secondary,North Queensland,,Permanent Full-time,FALSE,TRUE,FALSE,FALSE,FALSE,FALSE,FALSE,FALSE,FALSE,FALSE,FALSE,FALSE,FALSE,FALSE,FALSE,FALSE,FALSE,FALSE,D,N,D,D,N,SD,SD,D,D,N,A,N/A,SD,SD,N,D,SD,D,A,D,N,Female,31-35,N/A,N/A,N/A,N/A,N/A
10,Resignation-Other employer,2012,1997,2008,Teacher Aide,,Not Stated,,Permanent Part-time,FALSE,FALSE,TRUE,TRUE,TRUE,FALSE,FALSE,FALSE,FALSE,FALSE,FALSE,FALSE,FALSE,FALSE,FALSE,FALSE,FALSE,FALSE,SD,SD,SD,SD,A,SD,SD,SD,SD,SD,SD,SD,SD,SD,SD,SD,SD,SD,SD,SD,SD,Female,46-50,N/A,N/A,N/A,N/A,N/A
11,Age Retirement,2012,1999,1999,Teacher,Primary,Central Office,Education Queensland,Permanent Full-time,FALSE,FALSE,FALSE,TRUE,FALSE,FALSE,FALSE,FALSE,FALSE,FALSE,FALSE,FALSE,FALSE,FALSE,FALSE,FALSE,FALSE,FALSE,SD,SD,A,A,A,A,D,A,SD,A,A,A,A,A,A,D,A,SD,A,N/A,A,Male,61 or older,N/A,N/A,N/A,N/A,N/A
12,Resignation-Move overseas/interstate,2012,2009,2009,Teacher,Secondary,Far North Queensland,,Permanent Full-time,FALSE,FALSE,FALSE,FALSE,FALSE,FALSE,FALSE,FALSE,FALSE,FALSE,TRUE,TRUE,FALSE,FALSE,FALSE,FALSE,FALSE,FALSE,N,N,N,D,N,N,N,N,A,N,N,N,N,N,N,N,N,N,N,N,N,Male,31-35,N/A,N/A,N/A,N/A,N/A
13,Resignation-Other reasons,2012,1998,1998,Teacher,Primary,Far North Queensland,,Permanent Full-time,FALSE,FALSE,FALSE,FALSE,FALSE,FALSE,FALSE,FALSE,FALSE,FALSE,TRUE,FALSE,FALSE,FALSE,FALSE,FALSE,FALSE,FALSE,A,A,A,A,SA,SA,SA,A,A,SA,SA,SA,A,A,SA,A,A,SA,SA,A,A,Female,36-40,N/A,N/A,N/A,N/A,N/A
14,Age Retirement,2012,1967,2000,Teacher,Primary,Metropolitan,,Permanent Part-time,FALSE,FALSE,FALSE,FALSE,FALSE,FALSE,FALSE,FALSE,FALSE,FALSE,FALSE,FALSE,FALSE,FALSE,FALSE,TRUE,FALSE,FALSE,A,N,A,N,N,A,A,A,A,A,A,A,N,N,A,A,A,A,A,D,A,Female,61 or older,N/A,N/A,N/A,N/A,N/A
15,Resignation-Other employer,2012,2007,2010,Teacher,Secondary,Central Queensland,,Permanent Full-time,FALSE,FALSE,FALSE,TRUE,TRUE,FALSE,FALSE,FALSE,FALSE,FALSE,FALSE,FALSE,FALSE,FALSE,FALSE,FALSE,FALSE,FALSE,SA,N,SA,SA,A,A,A,SA,SA,SA,SA,N,N,A,SA,SA,SA,SA,SA,N,SA,Male,31-35,N/A,N/A,N/A,N/A,N/A
16,Voluntary Early Retirement (VER),2012,1995,2004,Teacher,Secondary,Central Queensland,,Permanent Full-time,FALSE,FALSE,FALSE,FALSE,FALSE,FALSE,FALSE,FALSE,FALSE,FALSE,FALSE,FALSE,FALSE,TRUE,FALSE,FALSE,FALSE,FALSE,A,A,D,A,D,D,D,D,A,A,A,A,A,A,A,N,A,N,A,N,A,Male,61 or older,N/A,N/A,N/A,N/A,N/A
17,Resignation-Other reasons,2012,Not Stated,Not Stated,Teacher Aide,,South East,,Permanent Part-time,FALSE,FALSE,FALSE,FALSE,FALSE,FALSE,TRUE,FALSE,FALSE,FALSE,FALSE,TRUE,FALSE,FALSE,FALSE,FALSE,FALSE,FALSE,M,M,D,SD,M,M,SD,SD,M,M,A,M,M,M,M,SD,A,A,M,M,M,Male,61 or older,N/A,N/A,N/A,N/A,N/A
18,Age Retirement,2012,1996,1996,Teacher,Primary,Central Queensland,,Permanent Full-time,FALSE,FALSE,FALSE,FALSE,FALSE,FALSE,FALSE,FALSE,FALSE,FALSE,TRUE,FALSE,FALSE,FALSE,FALSE,FALSE,FALSE,FALSE,A,N,A,N/A,A,D,A,A,SA,A,A,SA,A,A,N/A,A,A,A,A,A,A,Female,56-60,N/A,N/A,N/A,N/A,N/A
19,Age Retirement,2012,2006,2006,Cleaner,,Central Office,Education Queensland,Permanent Full-time,FALSE,FALSE,FALSE,FALSE,FALSE,FALSE,FALSE,FALSE,FALSE,FALSE,FALSE,FALSE,FALSE,FALSE,FALSE,FALSE,FALSE,TRUE,A,N/A,A,A,A,A,A,A,A,A,A,N/A,N/A,A,A,A,A,A,A,A,A,Female,61 or older,N/A,N/A,N/A,N/A,N/A
20,Age Retirement,2012,1989,1989,Cleaner,,Central Office,Education Queensland,Permanent Full-time,FALSE,FALSE,FALSE,FALSE,FALSE,FALSE,FALSE,FALSE,FALSE,FALSE,FALSE,FALSE,FALSE,FALSE,FALSE,FALSE,FALSE,TRUE,A,N/A,A,A,A,A,A,A,A,A,A,N/A,N/A,A,A,A,A,A,A,A,A,Male,61 or older,N/A,N/A,N/A,N/A,N/A
21,Resignation-Other employer,2012,1982,1982,Teacher,Secondary,Central Queensland,,Permanent Full-time,FALSE,FALSE,FALSE,FALSE,FALSE,FALSE,FALSE,FALSE,FALSE,FALSE,FALSE,FALSE,FALSE,FALSE,FALSE,FALSE,FALSE,TRUE,A,A,N,A,A,D,D,A,A,A,N,SD,D,A,A,D,SA,N,A,SD,A,Male,56-60,N/A,N/A,N/A,N/A,N/A
22,Resignation-Other reasons,2012,1980,2009,Cleaner,,Darling Downs South West,,Permanent Part-time,FALSE,FALSE,TRUE,FALSE,FALSE,FALSE,FALSE,FALSE,FALSE,FALSE,FALSE,FALSE,FALSE,FALSE,FALSE,FALSE,FALSE,FALSE,SA,N/A,D,SA,SA,SA,A,SA,D,SA,SA,A,SA,SA,SA,SA,SA,SA,SA,N/A,SA,Female,51-55,N/A,N/A,N/A,N/A,N/A
23,Resignation-Other reasons,2012,1997,1998,School Administrative Staff,,Metropolitan,,Permanent Part-time,FALSE,FALSE,FALSE,FALSE,TRUE,FALSE,TRUE,FALSE,FALSE,FALSE,FALSE,FALSE,FALSE,FALSE,FALSE,TRUE,FALSE,FALSE,D,N,N,D,A,A,A,D,A,A,A,N,N,A,N,D,D,N,N,D,D,Female,46-50,N/A,N/A,N/A,N/A,N/A
24,Resignation-Other reasons,2012,1973,2012,Teacher,Primary,North Queensland,,Permanent Full-time,FALSE,FALSE,FALSE,TRUE,FALSE,FALSE,FALSE,FALSE,TRUE,FALSE,TRUE,FALSE,FALSE,FALSE,FALSE,TRUE,FALSE,FALSE,M,SD,D,M,SD,SD,D,D,A,D,D,M,SD,SD,SD,A,SD,SD,D,SD,SD,Female,61 or older,N/A,N/A,N/A,N/A,N/A
25,Age Retirement,2012,1981,1981,Teacher Aide,,North Coast,,Permanent Part-time,FALSE,FALSE,FALSE,FALSE,FALSE,FALSE,FALSE,FALSE,FALSE,FALSE,FALSE,FALSE,FALSE,FALSE,FALSE,FALSE,FALSE,TRUE,A,A,SA,A,A,SA,A,A,SA,SA,SA,A,A,N,N,A,A,SA,A,N,A,Female,61 or older,N/A,N/A,N/A,N/A,N/A
26,Resignation-Other reasons,2012,1995,2002,Teacher,Primary,South East,,Permanent Part-time,FALSE,FALSE,FALSE,FALSE,FALSE,FALSE,FALSE,FALSE,FALSE,FALSE,FALSE,FALSE,FALSE,FALSE,FALSE,TRUE,FALSE,FALSE,N,A,SD,D,D,SD,SD,N,N,A,N,N,SD,SD,A,N,N,N,A,SD,A,Female,41-45,N/A,N/A,N/A,N/A,N/A
27,Age Retirement,2012,1974,1977,Teacher,Primary,Central Office,Education Queensland,Permanent Full-time,FALSE,FALSE,FALSE,FALSE,FALSE,FALSE,FALSE,FALSE,FALSE,FALSE,FALSE,FALSE,FALSE,FALSE,FALSE,TRUE,TRUE,FALSE,A,A,A,A,A,N,N,A,A,A,A,A,A,A,A,A,A,A,A,D,A,Male,56-60,N/A,N/A,N/A,N/A,N/A
28,Resignation-Other employer,2012,2005,2011,Public Servant,AO5-AO7,Central Office,Information and Technologies,Permanent Full-time,TRUE,FALSE,FALSE,FALSE,FALSE,FALSE,FALSE,FALSE,FALSE,FALSE,FALSE,FALSE,FALSE,FALSE,FALSE,FALSE,FALSE,FALSE,N,A,A,A,A,A,A,A,A,A,A,A,N,N,N,A,A,A,A,A,A,Female,21-25,Yes,N/A,N/A,N/A,N/A
29,Age Retirement,2012,1989,1989,Teacher Aide,,Darling Downs South West,,Permanent Part-time,FALSE,FALSE,FALSE,FALSE,FALSE,FALSE,FALSE,FALSE,FALSE,FALSE,FALSE,FALSE,TRUE,FALSE,FALSE,FALSE,FALSE,FALSE,SA,SA,A,A,SA,SA,A,SA,SA,SA,SA,SA,SA,SA,SA,A,SA,SA,SA,SA,SA,Female,56-60,N/A,N/A,N/A,N/A,N/A
30,Age Retirement,2012,1975,2003,Teacher,Special Education,South East,,Permanent Full-time,FALSE,FALSE,FALSE,FALSE,FALSE,FALSE,FALSE,FALSE,FALSE,FALSE,FALSE,FALSE,FALSE,FALSE,FALSE,FALSE,FALSE,TRUE,A,A,A,A,A,SA,A,A,A,A,A,A,A,A,A,A,A,SA,SA,A,A,Female,56-60,N/A,N/A,N/A,N/A,N/A
31,Age Retirement,2012,1989,1989,Teacher,Primary,North Coast,,Permanent Full-time,FALSE,FALSE,FALSE,TRUE,TRUE,FALSE,FALSE,FALSE,FALSE,FALSE,FALSE,FALSE,FALSE,TRUE,FALSE,FALSE,FALSE,FALSE,D,N/A,SD,SD,SD,D,D,SD,A,SA,A,N/A,SD,A,D,D,A,M,A,SD,SA,Female,56-60,N/A,N/A,N/A,N/A,N/A
32,Age Retirement,2012,1978,1978,Teacher,Secondary,Metropolitan,,Permanent Part-time,FALSE,FALSE,FALSE,FALSE,FALSE,FALSE,FALSE,FALSE,FALSE,FALSE,FALSE,FALSE,FALSE,FALSE,FALSE,FALSE,FALSE,TRUE,SD,D,A,N,N,A,D,A,A,A,D,N,SD,N,SD,A,A,N,A,D,A,Female,51-55,N/A,N/A,N/A,N/A,N/A
33,Age Retirement,2012,1975,1992,Head of Curriculum/Head of Special Education,,Not Stated,,Permanent Full-time,FALSE,FALSE,TRUE,FALSE,FALSE,FALSE,FALSE,FALSE,FALSE,FALSE,FALSE,FALSE,FALSE,TRUE,FALSE,TRUE,FALSE,FALSE,A,A,A,A,A,N,N,A,A,A,A,A,A,A,A,A,A,A,A,D,A,Male,56-60,N/A,N/A,N/A,N/A,N/A
34,Resignation-Other reasons,2012,2003,2003,Teacher,Secondary,Not Stated,,Permanent Full-time,FALSE,FALSE,TRUE,FALSE,FALSE,FALSE,TRUE,FALSE,FALSE,FALSE,FALSE,FALSE,FALSE,FALSE,TRUE,FALSE,FALSE,FALSE,SD,SD,SD,D,N,N,SD,SD,SD,SD,SD,N,SD,D,N,N,N,D,N,D,N,Male,36-40,N/A,N/A,N/A,Yes,N/A
35,Resignation-Other reasons,2012,2006,2009,Cleaner,,Central Office,Education Queensland,Permanent Part-time,FALSE,FALSE,FALSE,FALSE,FALSE,FALSE,FALSE,FALSE,FALSE,FALSE,FALSE,FALSE,FALSE,FALSE,FALSE,TRUE,FALSE,FALSE,A,A,SA,A,A,A,A,A,A,A,A,A,N,A,A,A,A,A,A,A,A,Male,61 or older,N/A,N/A,N/A,N/A,N/A
36,Ill Health Retirement,2012,2000,2000,Teacher,Special Education,Not Stated,,Permanent Full-time,FALSE,FALSE,FALSE,FALSE,TRUE,FALSE,FALSE,FALSE,FALSE,FALSE,FALSE,FALSE,FALSE,TRUE,FALSE,FALSE,FALSE,FALSE,SD,N,D,D,A,D,D,SD,SA,D,D,D,SD,A,SD,D,D,D,SD,SD,D,Female,51-55,N/A,N/A,N/A,N/A,N/A
37,Age Retirement,2012,Not Stated,1997,Schools Officer,,Metropolitan,,Permanent Full-time,FALSE,FALSE,FALSE,FALSE,FALSE,FALSE,FALSE,FALSE,FALSE,FALSE,FALSE,FALSE,FALSE,FALSE,FALSE,FALSE,FALSE,TRUE,SA,M,SA,A,A,SA,SA,A,SA,SA,SA,A,N/A,SA,SA,SA,SA,SA,SA,N,SA,Male,61 or older,N/A,N/A,N/A,N/A,N/A
38,Resignation-Other reasons,2012,2011,2011,Teacher Aide,,Central Queensland,,Temporary Part-time,FALSE,FALSE,FALSE,FALSE,FALSE,FALSE,FALSE,FALSE,FALSE,FALSE,FALSE,FALSE,FALSE,FALSE,FALSE,FALSE,FALSE,TRUE,A,N,SA,A,SA,SA,SA,SA,SA,SA,SA,SA,N,N,N,SA,SA,SA,SA,N,N,Female,21-25,N/A,N/A,N/A,N/A,N/A
39,Other,2012,1998,1998,Teacher Aide,,Metropolitan,,Permanent Part-time,FALSE,FALSE,FALSE,FALSE,FALSE,FALSE,FALSE,FALSE,FALSE,FALSE,FALSE,FALSE,FALSE,FALSE,FALSE,FALSE,FALSE,TRUE,A,N,D,D,A,A,A,D,A,N,D,A,SD,SD,N,D,A,N,N,SD,A,Female,51-55,N/A,N/A,N/A,N/A,N/A
40,Resignation-Move overseas/interstate,2012,Not Stated,Not Stated,Teacher,,Central Queensland,,Permanent Full-time,FALSE,FALSE,FALSE,TRUE,FALSE,FALSE,TRUE,FALSE,FALSE,TRUE,FALSE,FALSE,FALSE,FALSE,FALSE,TRUE,FALSE,FALSE,A,N,N,N,D,SD,SD,N,D,SA,SA,SD,D,SA,SA,N,N,N,N,SD,N,Female,21-25,N/A,N/A,N/A,N/A,N/A
41,Resignation-Other employer,2012,1977,1980,Teacher,Primary,South East,,Permanent Full-time,TRUE,FALSE,FALSE,FALSE,FALSE,FALSE,FALSE,FALSE,FALSE,FALSE,FALSE,FALSE,FALSE,FALSE,FALSE,FALSE,FALSE,FALSE,A,SA,A,N,A,A,A,SA,SA,SA,SA,SA,SA,A,A,A,SA,A,SA,A,SA,Male,56-60,N/A,N/A,N/A,N/A,N/A
42,Resignation-Other reasons,2012,1974,1994,Head of Curriculum/Head of Special Education,,Metropolitan,,Permanent Full-time,FALSE,FALSE,TRUE,FALSE,FALSE,FALSE,FALSE,FALSE,FALSE,FALSE,FALSE,FALSE,FALSE,FALSE,FALSE,TRUE,FALSE,FALSE,SA,SA,N,N,SA,A,N,N,SA,SA,A,SA,N,N,SA,N,A,A,N,N,SA,Female,51-55,N/A,N/A,N/A,N/A,N/A
43,Resignation-Move overseas/interstate,2012,2011,2011,Cleaner,,North Coast,,Permanent Part-time,FALSE,FALSE,FALSE,FALSE,FALSE,FALSE,FALSE,FALSE,FALSE,FALSE,FALSE,FALSE,FALSE,FALSE,FALSE,FALSE,FALSE,TRUE,SA,N/A,SA,N/A,SA,SA,SA,SA,SA,SA,SA,N/A,N/A,N/A,N/A,A,A,SA,SA,N/A,N/A,Female,41-45,N/A,N/A,N/A,N/A,N/A
44,Resignation-Other reasons,2012,1976,1976,Teacher,Primary,North Coast,,Permanent Full-time,FALSE,FALSE,FALSE,TRUE,FALSE,FALSE,FALSE,FALSE,FALSE,FALSE,FALSE,FALSE,FALSE,FALSE,FALSE,TRUE,TRUE,FALSE,SA,A,N,A,A,D,N,SA,A,SA,A,SA,SA,SA,SA,SA,SA,SA,SA,N,A,Male,51-55,N/A,N/A,N/A,N/A,N/A
45,Age Retirement,2012,1985,1991,Teacher,Primary,Metropolitan,,Permanent Part-time,FALSE,TRUE,FALSE,FALSE,TRUE,FALSE,FALSE,FALSE,FALSE,FALSE,FALSE,FALSE,FALSE,FALSE,FALSE,FALSE,TRUE,FALSE,A,N,D,A,N,D,SD,A,A,A,N,D,N,A,A,A,N,A,A,N,N,Female,51-55,N/A,N/A,N/A,N/A,N/A
46,Voluntary Early Retirement (VER),2012,1999,2001,Teacher,Primary,Central Queensland,,Permanent Full-time,FALSE,FALSE,FALSE,FALSE,FALSE,FALSE,FALSE,FALSE,FALSE,FALSE,FALSE,FALSE,FALSE,TRUE,FALSE,TRUE,TRUE,FALSE,A,N,A,A,A,SD,D,A,A,A,A,N,N,N,N,A,A,A,A,D,N,Female,46-50,N/A,N/A,N/A,N/A,N/A
47,Voluntary Early Retirement (VER),2012,2008,2008,Cleaner,,South East,,Permanent Full-time,FALSE,FALSE,FALSE,FALSE,FALSE,FALSE,FALSE,FALSE,FALSE,FALSE,FALSE,FALSE,FALSE,FALSE,FALSE,FALSE,FALSE,TRUE,N,N/A,N,N,N,N,N,A,A,A,A,N,D,D,N,N,A,N,N,N,N,Male,56-60,N/A,N/A,N/A,N/A,N/A
48,Age Retirement,2012,1980,1993,Teacher,Secondary,Not Stated,,Permanent Full-time,FALSE,FALSE,FALSE,FALSE,FALSE,FALSE,FALSE,FALSE,FALSE,FALSE,FALSE,FALSE,FALSE,FALSE,FALSE,TRUE,FALSE,FALSE,A,D,A,D,A,D,D,D,A,A,D,A,N,D,D,A,D,A,A,D,A,Female,56-60,N/A,N/A,N/A,N/A,N/A
49,Resignation-Move overseas/interstate,2012,2009,2010,Cleaner,,South East,,Permanent Full-time,FALSE,FALSE,FALSE,FALSE,FALSE,FALSE,FALSE,FALSE,FALSE,FALSE,FALSE,TRUE,FALSE,FALSE,FALSE,FALSE,FALSE,FALSE,A,A,A,A,A,A,A,A,A,A,A,A,A,A,A,A,A,A,A,A,A,Male,21-25,N/A,N/A,N/A,N/A,N/A
50,Age Retirement,2012,1963,2007,Teacher,Primary,Darling Downs South West,,Permanent Full-time,FALSE,FALSE,FALSE,FALSE,FALSE,FALSE,FALSE,FALSE,FALSE,FALSE,FALSE,FALSE,FALSE,FALSE,FALSE,TRUE,FALSE,FALSE,SA,N/A,D,N,A,D,D,A,N,SA,A,A,A,A,A,A,SA,A,A,D,A,Female,61 or older,N/A,N/A,N/A,N/A,N/A
51,Resignation-Move overseas/interstate,2012,2009,2010,Cleaner,,South East,,Permanent Full-time,FALSE,FALSE,FALSE,FALSE,FALSE,FALSE,FALSE,FALSE,FALSE,FALSE,FALSE,TRUE,FALSE,FALSE,FALSE,FALSE,FALSE,FALSE,A,A,A,A,A,A,A,A,A,A,A,A,A,A,A,A,A,A,A,A,A,Male,21-25,N/A,N/A,N/A,N/A,N/A
52,Resignation-Other reasons,2012,1993,1993,Cleaner,,South East,,Permanent Full-time,FALSE,FALSE,FALSE,FALSE,FALSE,FALSE,FALSE,FALSE,FALSE,FALSE,FALSE,FALSE,FALSE,FALSE,FALSE,FALSE,FALSE,TRUE,SA,A,N,SD,SA,A,SD,N,D,N,SA,N,N,A,N,N,N,A,A,A,D,Female,61 or older,N/A,N/A,N/A,N/A,N/A
53,Other,2012,1982,1983,Teacher,Secondary,South East,,Permanent Full-time,FALSE,FALSE,FALSE,FALSE,FALSE,FALSE,FALSE,FALSE,FALSE,FALSE,FALSE,FALSE,FALSE,FALSE,FALSE,FALSE,FALSE,TRUE,A,A,A,A,A,A,A,A,A,SA,A,SA,SA,SA,SA,A,A,A,A,A,SA,Female,61 or older,N/A,N/A,N/A,N/A,N/A
54,Ill Health Retirement,2012,Not Stated,Not Stated,Teacher Aide,,North Queensland,,Permanent Part-time,FALSE,FALSE,FALSE,FALSE,FALSE,FALSE,FALSE,FALSE,FALSE,FALSE,FALSE,FALSE,FALSE,TRUE,FALSE,FALSE,FALSE,FALSE,SA,SD,SA,SA,N,A,N,A,A,N,A,D,D,D,N,N,N,N,A,SD,A,Female,56-60,N/A,N/A,N/A,N/A,N/A
55,Age Retirement,2012,1979,2008,Teacher,Special Education,Metropolitan,,Permanent Full-time,FALSE,FALSE,FALSE,TRUE,FALSE,FALSE,TRUE,FALSE,FALSE,FALSE,FALSE,FALSE,FALSE,TRUE,FALSE,FALSE,FALSE,FALSE,A,D,D,D,D,A,D,SD,A,SD,SD,A,SD,SD,SD,SD,SD,A,A,N,A,Female,56-60,N/A,N/A,N/A,N/A,N/A
56,Resignation-Other employer,2012,2008,2008,Teacher Aide,,Metropolitan,,Permanent Part-time,FALSE,FALSE,FALSE,FALSE,FALSE,FALSE,FALSE,FALSE,FALSE,FALSE,FALSE,FALSE,FALSE,FALSE,FALSE,FALSE,FALSE,TRUE,SA,SA,A,A,N,A,SA,SA,N,A,N,N/A,A,N,SA,N,A,A,SA,A,A,Female,26-30,N/A,N/A,N/A,N/A,N/A
57,Age Retirement,2012,1990,1990,Teacher Aide,,Central Queensland,,Permanent Part-time,FALSE,FALSE,FALSE,TRUE,FALSE,FALSE,FALSE,FALSE,FALSE,FALSE,FALSE,FALSE,FALSE,FALSE,FALSE,TRUE,FALSE,FALSE,N,N,N,D,A,A,A,N,A,A,D,A,N,N,N,A,A,A,A,N,A,Female,61 or older,N/A,N/A,N/A,N/A,N/A
58,Resignation-Other employer,2012,2003,2012,Teacher,Secondary,Darling Downs South West,,Permanent Full-time,FALSE,TRUE,FALSE,FALSE,FALSE,FALSE,FALSE,FALSE,FALSE,FALSE,FALSE,FALSE,FALSE,FALSE,FALSE,FALSE,FALSE,FALSE,A,A,A,A,N,N,N,N,A,A,A,A,N,N,N,D,N,N,N,N,N,Male,46-50,N/A,N/A,N/A,N/A,N/A
59,Ill Health Retirement,2012,1980,2012,Teacher,Primary,North Queensland,,Permanent Full-time,FALSE,FALSE,FALSE,TRUE,FALSE,FALSE,FALSE,FALSE,FALSE,FALSE,FALSE,FALSE,FALSE,TRUE,FALSE,FALSE,TRUE,FALSE,A,D,D,SD,A,SD,SD,D,D,D,D,D,D,A,A,D,A,D,D,D,A,Female,51-55,N/A,N/A,N/A,N/A,N/A
60,Age Retirement,2012,Not Stated,Not Stated,Teacher,Primary,Metropolitan,,Permanent Full-time,FALSE,FALSE,FALSE,FALSE,FALSE,FALSE,FALSE,FALSE,FALSE,FALSE,FALSE,FALSE,FALSE,FALSE,FALSE,FALSE,FALSE,TRUE,SA,SA,SA,SA,SA,SA,SA,SA,SA,SA,SA,SA,A,SA,SA,SA,SA,SA,SA,A,SA,,61 or older,N/A,N/A,N/A,N/A,N/A
61,Age Retirement,2012,1977,1987,Teacher,Primary,Not Stated,,Permanent Full-time,FALSE,FALSE,FALSE,FALSE,FALSE,FALSE,FALSE,FALSE,FALSE,FALSE,FALSE,FALSE,FALSE,FALSE,FALSE,TRUE,FALSE,FALSE,A,A,N,A,A,A,N,A,A,A,A,A,A,N,A,A,A,A,A,A,A,Male,46-50,N/A,N/A,N/A,N/A,N/A
62,Resignation-Other reasons,2012,2011,2011,Schools Officer,,Central Queensland,,Temporary Part-time,FALSE,FALSE,FALSE,FALSE,FALSE,FALSE,FALSE,FALSE,FALSE,FALSE,FALSE,TRUE,FALSE,FALSE,FALSE,FALSE,FALSE,FALSE,A,N,SA,A,A,SA,SA,SA,SA,SA,SA,SA,A,A,A,A,SA,SA,SA,A,A,Female,31-35,N/A,N/A,N/A,N/A,N/A
63,Age Retirement,2012,1990,1990,Teacher Aide,,Central Office,Education Queensland,Permanent Part-time,FALSE,FALSE,FALSE,FALSE,FALSE,FALSE,FALSE,FALSE,FALSE,FALSE,FALSE,FALSE,FALSE,FALSE,FALSE,FALSE,FALSE,TRUE,A,N,A,A,A,A,A,A,A,A,A,N,N,N,N,N,A,A,N,N,N,Female,61 or older,N/A,N/A,N/A,N/A,N/A
64,Ill Health Retirement,2012,1989,1989,Schools Officer,,Metropolitan,,Permanent Full-time,FALSE,FALSE,FALSE,FALSE,FALSE,TRUE,FALSE,FALSE,FALSE,FALSE,FALSE,FALSE,FALSE,TRUE,FALSE,FALSE,TRUE,FALSE,N,D,A,A,D,A,N,N,N,SA,A,A,D,A,SD,D,A,N,D,N,A,Male,56-60,N/A,N/A,N/A,N/A,N/A
65,Age Retirement,2012,1969,1985,Teacher,Primary,North Coast,,Permanent Full-time,FALSE,FALSE,FALSE,TRUE,FALSE,FALSE,FALSE,FALSE,FALSE,FALSE,FALSE,FALSE,FALSE,FALSE,FALSE,FALSE,TRUE,FALSE,N,A,D,D,A,A,D,D,A,A,SA,SA,D,D,A,D,A,A,A,D,A,Male,61 or older,N/A,N/A,N/A,N/A,N/A
66,Age Retirement,2012,1966,1985,Head of Curriculum/Head of Special Education,,South East,,Permanent Full-time,FALSE,FALSE,FALSE,FALSE,FALSE,FALSE,FALSE,FALSE,FALSE,FALSE,FALSE,FALSE,FALSE,FALSE,TRUE,FALSE,FALSE,FALSE,D,A,N,A,A,N,D,A,N,A,N,N,D,D,N,A,N,N,N,A,A,Female,61 or older,N/A,N/A,N/A,N/A,N/A
67,Other,2012,1969,2007,Teacher,Secondary,Not Stated,,Permanent Full-time,FALSE,FALSE,FALSE,FALSE,FALSE,FALSE,FALSE,FALSE,FALSE,FALSE,FALSE,FALSE,FALSE,FALSE,FALSE,TRUE,FALSE,FALSE,A,A,N,N/A,A,N,N,A,SA,SA,SA,SD,N,D,N/A,A,A,A,N,N/A,N/A,Male,61 or older,N/A,N/A,N/A,N/A,N/A
68,Other,2012,Not Stated,Not Stated,Teacher Aide,,Central Office,Education Queensland,Temporary Part-time,FALSE,FALSE,FALSE,FALSE,FALSE,FALSE,FALSE,FALSE,FALSE,FALSE,FALSE,TRUE,TRUE,FALSE,FALSE,FALSE,FALSE,FALSE,D,D,N,A,A,A,A,A,A,A,A,A,N,A,N,N,A,A,N,N,A,Female,26-30,N/A,N/A,N/A,N/A,N/A
69,Age Retirement,2012,1980,2006,Teacher,Primary,Metropolitan,,Permanent Part-time,FALSE,FALSE,FALSE,TRUE,FALSE,FALSE,TRUE,FALSE,TRUE,FALSE,FALSE,FALSE,FALSE,FALSE,FALSE,FALSE,FALSE,FALSE,D,D,D,D,A,D,D,D,N,D,SD,SD,D,D,D,D,D,D,D,D,D,,61 or older,N/A,N/A,N/A,N/A,N/A
70,Resignation-Other reasons,2012,2006,Not Stated,Public Servant,AO5-AO7,Central Office,Information and Technologies,Permanent Full-time,FALSE,FALSE,FALSE,TRUE,FALSE,FALSE,FALSE,FALSE,TRUE,FALSE,FALSE,FALSE,FALSE,FALSE,FALSE,FALSE,FALSE,FALSE,SD,SD,D,SD,D,D,SD,SD,D,SD,SD,D,SD,SD,SD,N,SD,A,N,SD,N,Female,36-40,N/A,N/A,N/A,N/A,N/A
71,Age Retirement,2012,1975,1975,Teacher,Secondary,Metropolitan,,Permanent Full-time,FALSE,FALSE,FALSE,FALSE,FALSE,TRUE,FALSE,FALSE,FALSE,TRUE,FALSE,FALSE,FALSE,FALSE,FALSE,FALSE,TRUE,FALSE,SD,A,D,D,SD,D,D,D,A,A,A,A,A,A,A,A,A,N,A,D,D,Female,56-60,N/A,N/A,N/A,N/A,N/A
72,Resignation-Other reasons,2012,2011,2011,Teacher Aide,,Far North Queensland,,Permanent Part-time,FALSE,FALSE,FALSE,FALSE,FALSE,FALSE,FALSE,FALSE,FALSE,FALSE,FALSE,TRUE,FALSE,FALSE,FALSE,FALSE,FALSE,FALSE,SA,SA,N,A,SA,SA,SA,A,A,A,A,A,SA,N,SA,D,N,SD,D,A,A,Female,36-40,N/A,N/A,N/A,N/A,N/A
73,Age Retirement,2012,Not Stated,Not Stated,Head of Curriculum/Head of Special Education,,South East,,Permanent Full-time,FALSE,FALSE,FALSE,FALSE,FALSE,FALSE,FALSE,FALSE,FALSE,FALSE,TRUE,FALSE,FALSE,FALSE,FALSE,TRUE,FALSE,FALSE,SA,SA,A,A,A,D,A,SA,A,A,A,A,N,A,N,A,A,SA,A,N/A,A,Female,56-60,N/A,N/A,N/A,N/A,N/A
74,Contract Expired,2012,2009,2011,Public Servant,AO5-AO7,Central Office,Information and Technologies,Temporary Full-time,FALSE,FALSE,FALSE,FALSE,FALSE,FALSE,FALSE,FALSE,FALSE,FALSE,FALSE,FALSE,FALSE,FALSE,FALSE,FALSE,FALSE,TRUE,A,SA,A,N,SA,SA,SA,SA,SA,SA,SA,SA,SA,SA,SA,SA,SA,SA,SA,N,M,Male,26-30,N/A,N/A,N/A,N/A,N/A
75,Age Retirement,2012,1975,1975,Teacher,Primary,North Coast,,Permanent Full-time,FALSE,FALSE,FALSE,FALSE,TRUE,FALSE,FALSE,FALSE,FALSE,FALSE,FALSE,FALSE,FALSE,FALSE,FALSE,TRUE,FALSE,FALSE,A,A,SD,SD,SD,SD,SD,SD,N,A,A,N,A,SD,N,SD,SD,N,N,SD,SD,Female,56-60,N/A,N/A,N/A,N/A,N/A
76,Contract Expired,2012,2010,2012,Public Servant,A01-A04,Central Office,Information and Technologies,Temporary Full-time,FALSE,FALSE,FALSE,FALSE,FALSE,FALSE,FALSE,FALSE,FALSE,FALSE,FALSE,FALSE,FALSE,FALSE,FALSE,FALSE,FALSE,TRUE,A,A,N,A,A,A,A,A,A,SA,A,N,A,A,A,A,A,A,A,A,A,Male,26-30,N/A,N/A,N/A,N/A,Yes
77,Ill Health Retirement,2012,1984,2010,Teacher,Primary,Darling Downs South West,,Permanent Full-time,FALSE,FALSE,FALSE,FALSE,FALSE,FALSE,FALSE,FALSE,FALSE,FALSE,FALSE,FALSE,FALSE,TRUE,FALSE,FALSE,FALSE,FALSE,SA,SA,A,A,N,A,A,SA,SA,SA,SA,SA,SA,A,SA,A,A,A,A,N,N,Female,56-60,N/A,N/A,N/A,N/A,N/A
78,Termination,2012,2007,2007,Public Servant,AO5-AO7,Central Office,Information and Technologies,Temporary Full-time,FALSE,FALSE,FALSE,FALSE,FALSE,FALSE,FALSE,FALSE,FALSE,FALSE,FALSE,FALSE,FALSE,FALSE,FALSE,FALSE,FALSE,TRUE,N,SD,N,N,A,A,A,SA,A,SD,SD,D,A,A,D,A,A,A,A,N,N,Male,51-55,N/A,N/A,N/A,N/A,N/A
79,Contract Expired,2012,2008,2012,Public Servant,AO5-AO7,Central Office,Information and Technologies,Temporary Full-time,FALSE,FALSE,FALSE,FALSE,FALSE,FALSE,FALSE,FALSE,FALSE,FALSE,FALSE,FALSE,FALSE,FALSE,FALSE,FALSE,FALSE,TRUE,A,A,N,A,A,SA,SA,A,SA,SA,SA,A,SA,SA,SA,SA,SA,A,A,A,SA,Male,21-25,N/A,N/A,N/A,N/A,N/A
80,Termination,2012,2007,2011,Public Servant,AO5-AO7,Central Office,Information and Technologies,Temporary Full-time,FALSE,FALSE,FALSE,FALSE,FALSE,FALSE,FALSE,FALSE,FALSE,FALSE,FALSE,FALSE,FALSE,FALSE,TRUE,FALSE,FALSE,FALSE,A,A,A,A,SA,A,A,A,A,A,SA,D,A,A,A,A,A,A,A,N,N,Male,26-30,N/A,N/A,N/A,N/A,N/A
81,Contract Expired,2012,1968,2004,Public Servant,AO5-AO7,Central Office,Other,Temporary Part-time,FALSE,FALSE,FALSE,FALSE,FALSE,FALSE,FALSE,FALSE,FALSE,FALSE,FALSE,FALSE,FALSE,FALSE,FALSE,FALSE,FALSE,TRUE,N,N,N,D,N,N,N,D,A,N,N,D,D,D,D,D,N,N,D,N,D,Female,61 or older,N/A,N/A,N/A,N/A,N/A
82,Contract Expired,2012,2011,2011,Technical Officer,,Central Office,Education Queensland,Temporary Full-time,FALSE,FALSE,FALSE,FALSE,FALSE,FALSE,FALSE,FALSE,FALSE,FALSE,FALSE,FALSE,FALSE,FALSE,FALSE,FALSE,FALSE,TRUE,N,N,SA,N,SA,A,D,SA,SA,A,SA,SA,N,A,N,A,N,A,N,N,N/A,Female,21-25,N/A,N/A,N/A,Yes,N/A
83,Voluntary Early Retirement (VER),2012,1991,2010,Deputy Principal,,Not Stated,,Permanent Full-time,FALSE,FALSE,TRUE,TRUE,FALSE,FALSE,TRUE,FALSE,FALSE,FALSE,FALSE,FALSE,FALSE,FALSE,FALSE,FALSE,FALSE,FALSE,N,N,SD,SD,A,D,SD,SD,SD,SD,SD,SD,N,SD,N,SD,SD,SD,SD,N,A,Female,51-55,Yes,N/A,N/A,N/A,N/A
84,Contract Expired,2012,2011,2012,Public Servant,A01-A04,Metropolitan,,Temporary Full-time,FALSE,FALSE,FALSE,FALSE,FALSE,FALSE,FALSE,FALSE,FALSE,FALSE,FALSE,FALSE,FALSE,FALSE,FALSE,FALSE,FALSE,FALSE,SA,N,SA,SA,SA,SA,SA,SA,SA,SA,SA,SA,SA,SA,SA,SA,SA,SA,SA,D,A,Female,41-45,N/A,N/A,N/A,N/A,Yes
85,Termination,2012,2010,2010,Public Servant,AO5-AO7,Not Stated,,Temporary Full-time,FALSE,FALSE,FALSE,FALSE,FALSE,FALSE,FALSE,FALSE,FALSE,FALSE,FALSE,FALSE,FALSE,FALSE,FALSE,FALSE,FALSE,TRUE,SA,A,A,A,A,SA,SA,A,SA,SA,SA,A,A,A,A,A,A,A,A,A,M,Female,56-60,N/A,N/A,N/A,N/A,N/A
86,Age Retirement,2012,1971,1975,School Principal,,Metropolitan,,Permanent Full-time,FALSE,FALSE,FALSE,FALSE,TRUE,FALSE,TRUE,FALSE,FALSE,FALSE,FALSE,FALSE,FALSE,FALSE,FALSE,FALSE,TRUE,FALSE,D,D,SD,D,SD,D,SD,SD,D,SD,D,A,SD,SD,SD,SA,SD,SD,D,SA,SA,Male,56-60,N/A,N/A,N/A,N/A,N/A
87,Termination,2012,2011,2011,Public Servant,A01-A04,South East,,Temporary Full-time,FALSE,FALSE,FALSE,FALSE,FALSE,FALSE,FALSE,FALSE,FALSE,FALSE,FALSE,FALSE,FALSE,FALSE,TRUE,FALSE,FALSE,FALSE,N,N,A,A,A,A,A,A,A,A,N,D,A,A,A,A,A,A,A,A,A,Female,56-60,N/A,N/A,N/A,N/A,N/A
88,Resignation-Move overseas/interstate,2012,2007,2007,Teacher,Secondary,Central Queensland,,Permanent Full-time,FALSE,FALSE,FALSE,FALSE,FALSE,FALSE,FALSE,FALSE,FALSE,FALSE,FALSE,TRUE,TRUE,FALSE,FALSE,FALSE,FALSE,FALSE,A,A,A,A,A,A,A,A,A,A,A,A,A,A,A,A,A,A,A,N/A,A,Female,26-30,N/A,N/A,N/A,N/A,N/A
89,Termination,2012,2002,2011,Public Servant,AO5-AO7,Metropolitan,,Temporary Full-time,FALSE,FALSE,FALSE,FALSE,FALSE,FALSE,FALSE,FALSE,FALSE,FALSE,FALSE,FALSE,FALSE,FALSE,FALSE,FALSE,FALSE,TRUE,D,SA,SA,SA,SA,D,M,SA,SA,SA,SA,N/A,SA,SA,D,SA,SA,SA,A,SA,SA,Male,46-50,N/A,N/A,N/A,N/A,N/A
90,Age Retirement,2013,1972,1975,Teacher,Primary,Central Queensland,,Permanent Part-time,FALSE,FALSE,FALSE,FALSE,FALSE,FALSE,FALSE,FALSE,FALSE,FALSE,FALSE,FALSE,FALSE,TRUE,FALSE,TRUE,FALSE,FALSE,SA,SA,A,A,A,D,D,A,A,A,A,N/A,A,A,A,A,A,A,A,SA,SA,Female,56-60,N/A,N/A,N/A,N/A,N/A
91,Resignation-Other employer,2012,1986,1986,Teacher Aide,,North Coast,,Permanent Part-time,TRUE,FALSE,FALSE,FALSE,FALSE,FALSE,FALSE,FALSE,FALSE,FALSE,FALSE,FALSE,FALSE,FALSE,FALSE,FALSE,FALSE,FALSE,N,N,N,N,N,N,N,N,SA,SA,N,N,SA,SA,SA,SA,SA,SA,SA,A,A,Female,41-45,N/A,N/A,N/A,N/A,N/A
92,Age Retirement,2012,1975,1978,Teacher,Primary,North Coast,,Permanent Full-time,FALSE,FALSE,FALSE,FALSE,FALSE,FALSE,FALSE,FALSE,FALSE,FALSE,FALSE,FALSE,FALSE,TRUE,FALSE,TRUE,FALSE,FALSE,A,D,N,A,A,A,A,D,A,A,A,D,D,A,A,A,D,A,A,D,A,Male,56-60,N/A,N/A,N/A,N/A,N/A
93,Age Retirement,2012,1972,2008,Head of Curriculum/Head of Special Education,,Darling Downs South West,,Permanent Full-time,FALSE,FALSE,FALSE,FALSE,FALSE,FALSE,FALSE,FALSE,FALSE,FALSE,FALSE,FALSE,FALSE,FALSE,FALSE,TRUE,FALSE,FALSE,A,SA,A,A,SA,A,A,A,A,A,A,A,A,A,A,A,A,A,A,A,A,Female,56-60,N/A,N/A,N/A,N/A,N/A
94,Resignation-Move overseas/interstate,2012,2002,2002,Teacher,Secondary,South East,,Permanent Full-time,FALSE,FALSE,FALSE,TRUE,FALSE,FALSE,TRUE,FALSE,FALSE,FALSE,FALSE,FALSE,FALSE,FALSE,FALSE,TRUE,FALSE,FALSE,N,N,SD,SD,A,SD,SD,SD,A,N,N,D,A,A,A,A,N,N,N,N,N,Female,41-45,N/A,N/A,N/A,N/A,N/A
95,Voluntary Early Retirement (VER),2012,1973,1976,Teacher,Primary,South East,,Permanent Full-time,FALSE,FALSE,FALSE,FALSE,FALSE,FALSE,FALSE,FALSE,FALSE,FALSE,FALSE,FALSE,FALSE,FALSE,FALSE,TRUE,TRUE,FALSE,A,N,SD,D,N,SD,SD,D,N,N,N,N,D,N,N,D,D,N,N,D,D,Female,51-55,N/A,N/A,N/A,N/A,Yes
96,Age Retirement,2012,1979,2008,Teacher,Primary,Central Queensland,,Permanent Full-time,FALSE,FALSE,FALSE,TRUE,TRUE,FALSE,FALSE,FALSE,FALSE,FALSE,FALSE,FALSE,FALSE,FALSE,FALSE,FALSE,FALSE,FALSE,A,A,D,A,D,A,N,D,A,A,A,D,D,D,N,A,D,N,A,D,A,Male,51-55,N/A,N/A,N/A,N/A,N/A
97,Age Retirement,2012,1971,2008,Teacher,Primary,North Coast,,Permanent Full-time,FALSE,FALSE,FALSE,FALSE,FALSE,FALSE,FALSE,FALSE,FALSE,FALSE,FALSE,FALSE,FALSE,FALSE,FALSE,TRUE,FALSE,FALSE,N,A,D,D,A,A,N,A,SA,N,A,A,N,N/A,A,A,A,A,N,N,A,Male,56-60,N/A,N/A,N/A,N/A,N/A
98,Age Retirement,2012,1978,1996,,,North Coast,,Permanent Full-time,FALSE,FALSE,FALSE,FALSE,FALSE,FALSE,FALSE,FALSE,FALSE,FALSE,FALSE,FALSE,FALSE,FALSE,FALSE,FALSE,FALSE,TRUE,A,SA,A,A,A,A,A,SA,SA,SA,A,A,A,SA,A,A,SA,SA,SA,A,A,Male,56-60,N/A,N/A,N/A,N/A,N/A
99,Age Retirement,2012,2002,2004,Schools Officer,,North Queensland,,Permanent Full-time,FALSE,FALSE,FALSE,FALSE,FALSE,FALSE,FALSE,FALSE,FALSE,FALSE,FALSE,FALSE,FALSE,FALSE,FALSE,FALSE,TRUE,FALSE,D,D,D,A,A,A,N,A,D,SA,SA,D,N,A,N,SD,SD,SD,SD,A,D,Male,61 or older,N/A,N/A,N/A,N/A,N/A
100,Resignation-Move overseas/interstate,2012,2011,2011,Teacher,Secondary,Darling Downs South West,,Permanent Full-time,FALSE,FALSE,FALSE,FALSE,FALSE,FALSE,FALSE,FALSE,FALSE,FALSE,TRUE,FALSE,FALSE,FALSE,FALSE,TRUE,FALSE,FALSE,D,N/A,N,N/A,D,N,N,N,N,SA,A,N,N,N,N,N,A,A,A,D,N,Male,31-35,N/A,N/A,N/A,N/A,N/A
101,Resignation-Other reasons,2012,2006,2008,Teacher Aide,,Not Stated,,Permanent Part-time,FALSE,FALSE,FALSE,TRUE,TRUE,FALSE,FALSE,FALSE,FALSE,FALSE,FALSE,FALSE,FALSE,FALSE,FALSE,TRUE,FALSE,FALSE,A,N,N,D,A,D,D,D,N,N,A,A,D,SD,N,SD,N,N,D,D,D,Female,36-40,N/A,N/A,N/A,N/A,N/A
102,Age Retirement,2012,1978,2001,Teacher,Primary,Metropolitan,,Permanent Full-time,FALSE,FALSE,FALSE,FALSE,FALSE,FALSE,FALSE,FALSE,FALSE,FALSE,FALSE,FALSE,FALSE,FALSE,FALSE,FALSE,FALSE,TRUE,SA,SA,SD,SA,A,A,A,A,N,SA,SA,A,SA,N,SA,A,A,A,A,A,A,Female,51-55,N/A,N/A,N/A,N/A,N/A
103,Resignation-Other reasons,2012,2002,2007,Teacher,Primary,Darling Downs South West,,Permanent Part-time,FALSE,FALSE,FALSE,FALSE,FALSE,FALSE,FALSE,FALSE,FALSE,FALSE,FALSE,FALSE,FALSE,FALSE,FALSE,FALSE,FALSE,TRUE,D,D,SD,SD,N,SD,SD,SD,A,SD,SD,N,SD,SD,SD,SD,SD,SD,SD,SD,SD,Female,51-55,N/A,N/A,N/A,N/A,N/A
104,Resignation-Other reasons,2012,2004,2008,,,Metropolitan,,Permanent Part-time,FALSE,FALSE,FALSE,TRUE,TRUE,FALSE,TRUE,FALSE,FALSE,FALSE,FALSE,FALSE,FALSE,FALSE,FALSE,FALSE,FALSE,FALSE,D,SD,SD,SD,A,A,M,SD,A,SD,SD,SD,D,SD,SD,SD,SD,SD,SD,SD,SD,Female,51-55,N/A,N/A,N/A,N/A,N/A
105,Age Retirement,2012,1979,1979,Cleaner,,Not Stated,,Permanent Part-time,FALSE,FALSE,FALSE,FALSE,FALSE,FALSE,FALSE,FALSE,FALSE,FALSE,FALSE,FALSE,FALSE,FALSE,FALSE,FALSE,FALSE,TRUE,A,N/A,A,A,A,SA,A,SA,A,A,A,N/A,N/A,N/A,N/A,A,A,A,A,N/A,A,Female,61 or older,N/A,N/A,N/A,N/A,N/A
106,Age Retirement,2012,2000,2000,Teacher Aide,,North Coast,,Permanent Part-time,FALSE,FALSE,FALSE,TRUE,FALSE,FALSE,FALSE,FALSE,FALSE,FALSE,FALSE,FALSE,FALSE,FALSE,FALSE,TRUE,FALSE,FALSE,N/A,N/A,D,D,N,A,D,N,A,A,A,SD,N/A,A,N/A,D,D,D,D,N/A,N/A,Female,56-60,N/A,N/A,N/A,N/A,N/A
107,Resignation-Other reasons,2012,Not Stated,Not Stated,Teacher Aide,,Central Office,Training and Tertiary Education Queensland,Temporary Part-time,FALSE,FALSE,FALSE,FALSE,FALSE,FALSE,FALSE,TRUE,FALSE,TRUE,FALSE,FALSE,FALSE,FALSE,FALSE,TRUE,FALSE,FALSE,SA,SD,A,A,A,SD,A,A,A,A,D,A,D,D,D,A,A,N,N,A,A,Female,46-50,N/A,N/A,Yes,N/A,N/A
108,Ill Health Retirement,2012,1998,2002,Teacher,Special Education,Metropolitan,,Permanent Part-time,FALSE,FALSE,FALSE,FALSE,FALSE,FALSE,FALSE,FALSE,FALSE,FALSE,FALSE,FALSE,FALSE,TRUE,FALSE,TRUE,FALSE,FALSE,N,N,D,N,N,SD,D,D,D,A,D,N,D,N,N,D,N,N,N,N,A,Female,56-60,N/A,N/A,N/A,N/A,N/A
109,Resignation-Other reasons,2012,2008,2009,Technical Officer,,Central Queensland,,Permanent Part-time,FALSE,FALSE,FALSE,FALSE,FALSE,FALSE,FALSE,FALSE,FALSE,FALSE,FALSE,FALSE,FALSE,FALSE,FALSE,FALSE,FALSE,FALSE,A,M,N,N,A,A,SA,D,A,A,SA,A,D,A,N,N,A,N,A,A,A,Female,31-35,N/A,N/A,N/A,N/A,N/A
110,Age Retirement,2012,1990,Not Stated,Public Servant,A01-A04,Metropolitan,,Permanent Full-time,FALSE,FALSE,FALSE,FALSE,FALSE,FALSE,FALSE,FALSE,FALSE,FALSE,FALSE,FALSE,FALSE,FALSE,FALSE,TRUE,FALSE,FALSE,A,A,A,A,A,A,A,A,A,A,A,A,A,A,A,A,A,A,A,A,A,Female,61 or older,N/A,N/A,N/A,N/A,N/A
111,Ill Health Retirement,2012,1991,1996,Teacher,Primary,Not Stated,,Permanent Part-time,FALSE,FALSE,FALSE,TRUE,FALSE,FALSE,FALSE,FALSE,FALSE,FALSE,FALSE,FALSE,FALSE,TRUE,FALSE,TRUE,FALSE,FALSE,A,N,D,A,A,N,D,N,N,N,A,A,D,A,D,N,A,A,A,D,N,Female,61 or older,N/A,N/A,N/A,N/A,N/A
112,Resignation-Other reasons,2012,2004,2004,Teacher,Special Education,Far North Queensland,,Permanent Full-time,TRUE,FALSE,FALSE,FALSE,FALSE,FALSE,FALSE,FALSE,FALSE,FALSE,FALSE,FALSE,FALSE,FALSE,FALSE,FALSE,FALSE,FALSE,N,N,N,N,N,N,N,N,N,N,N,N,N,N,N,N,N,N,N,N,N,Female,26-30,N/A,N/A,N/A,N/A,N/A
113,Resignation-Other reasons,2012,2007,2007,Cleaner,,North Queensland,,Permanent Part-time,FALSE,FALSE,FALSE,FALSE,FALSE,TRUE,FALSE,FALSE,FALSE,FALSE,FALSE,FALSE,FALSE,FALSE,FALSE,FALSE,FALSE,FALSE,SA,SA,SA,SA,SA,SA,SA,SA,SA,SA,SA,SA,SA,SA,SA,SA,SA,SA,SA,N/A,N/A,Female,56-60,N/A,N/A,N/A,N/A,N/A
114,Age Retirement,2012,2009,2009,Schools Officer,,Not Stated,,Temporary Full-time,FALSE,FALSE,FALSE,FALSE,FALSE,FALSE,FALSE,FALSE,FALSE,FALSE,FALSE,FALSE,FALSE,FALSE,FALSE,FALSE,FALSE,TRUE,M,M,M,M,M,M,M,M,M,M,SA,M,M,A,M,SA,SA,N,SA,M,M,Male,56-60,Yes,N/A,N/A,N/A,N/A
115,Resignation-Move overseas/interstate,2012,1997,2004,Guidance Officer,,Darling Downs South West,,Permanent Full-time,FALSE,FALSE,FALSE,FALSE,TRUE,FALSE,FALSE,FALSE,FALSE,FALSE,FALSE,FALSE,FALSE,FALSE,FALSE,FALSE,FALSE,FALSE,N,D,N,SD,M,A,N,N,A,A,A,D,SA,SA,SA,SA,SA,SA,A,A,A,Female,41-45,N/A,N/A,N/A,N/A,N/A
116,Age Retirement,2012,1974,Not Stated,Teacher,Secondary,Metropolitan,,Permanent Full-time,FALSE,FALSE,FALSE,FALSE,FALSE,FALSE,FALSE,FALSE,FALSE,FALSE,FALSE,FALSE,FALSE,FALSE,FALSE,TRUE,FALSE,FALSE,A,A,A,A,A,A,A,A,A,A,A,A,SA,SA,SA,A,A,A,A,A,A,Female,56-60,N/A,N/A,N/A,N/A,N/A
117,Resignation-Other reasons,2012,1976,1976,,,South East,,Permanent Full-time,FALSE,FALSE,TRUE,FALSE,TRUE,FALSE,TRUE,FALSE,FALSE,FALSE,FALSE,FALSE,FALSE,FALSE,FALSE,FALSE,FALSE,FALSE,D,SD,SD,SD,A,A,SD,SD,D,D,SD,SD,SD,SD,SD,D,D,D,D,N,A,Male,56-60,N/A,N/A,N/A,N/A,N/A
118,Ill Health Retirement,2012,1986,1986,Teacher Aide,,Metropolitan,,Permanent Part-time,FALSE,FALSE,FALSE,TRUE,FALSE,FALSE,FALSE,FALSE,FALSE,FALSE,FALSE,FALSE,FALSE,FALSE,FALSE,FALSE,FALSE,FALSE,D,D,SD,SD,SD,A,SD,SD,SD,SD,SD,SD,N/A,N,N,SD,SD,SD,SD,SD,SD,Female,56-60,N/A,N/A,N/A,N/A,N/A
119,Resignation-Other employer,2012,2010,2010,Teacher,Secondary,Not Stated,,Permanent Full-time,TRUE,FALSE,FALSE,FALSE,FALSE,FALSE,FALSE,FALSE,FALSE,FALSE,FALSE,FALSE,FALSE,FALSE,FALSE,TRUE,TRUE,FALSE,SA,N,A,N,D,D,N,A,SA,SA,SA,SA,N,A,SA,A,A,SA,A,N,N,Female,46-50,N/A,N/A,N/A,N/A,N/A
120,Contract Expired,2012,2008,2011,Public Servant,AO5-AO7,Central Office,Information and Technologies,Temporary Full-time,FALSE,FALSE,FALSE,FALSE,FALSE,FALSE,FALSE,FALSE,FALSE,FALSE,FALSE,FALSE,FALSE,FALSE,FALSE,FALSE,FALSE,TRUE,N,A,N,A,A,A,A,A,A,A,N,A,A,A,A,A,A,A,A,D,N,Male,31-35,N/A,N/A,N/A,N/A,N/A
121,Termination,2012,2009,2009,Public Servant,AO5-AO7,Central Office,Education Queensland,Temporary Full-time,FALSE,FALSE,FALSE,TRUE,FALSE,FALSE,TRUE,FALSE,FALSE,TRUE,FALSE,FALSE,FALSE,FALSE,FALSE,FALSE,FALSE,FALSE,N,D,SD,SD,A,N,N,SD,SD,D,SD,N,SD,SD,SD,D,SD,SD,SD,SD,D,Female,26-30,N/A,N/A,N/A,N/A,N/A
122,Contract Expired,2012,Not Stated,Not Stated,Public Servant,A01-A04,South East,,Temporary Full-time,FALSE,FALSE,FALSE,FALSE,FALSE,FALSE,FALSE,FALSE,FALSE,FALSE,FALSE,FALSE,FALSE,FALSE,FALSE,FALSE,FALSE,TRUE,SD,D,SD,SD,D,D,D,SD,D,D,SA,SD,N,D,D,SD,SD,SD,SD,SD,SD,Male,31-35,N/A,N/A,N/A,N/A,N/A
123,Age Retirement,2012,1979,1979,Teacher,Secondary,Metropolitan,,Permanent Full-time,FALSE,FALSE,FALSE,FALSE,FALSE,FALSE,FALSE,FALSE,FALSE,FALSE,FALSE,FALSE,FALSE,FALSE,FALSE,FALSE,FALSE,TRUE,N,N,N,N,N,N,N,N,N,N,N,N,N,N,N,N,N,N,N,N,N,Male,61 or older,N/A,N/A,N/A,N/A,N/A
124,Ill Health Retirement,2012,Not Stated,Not Stated,Schools Officer,,Not Stated,,Permanent Part-time,FALSE,FALSE,FALSE,FALSE,FALSE,FALSE,FALSE,FALSE,FALSE,FALSE,FALSE,FALSE,FALSE,TRUE,FALSE,FALSE,FALSE,FALSE,A,SD,SD,A,SD,A,A,N,N,N,N,N,D,N,N,M,M,M,M,M,M,,,N/A,N/A,N/A,N/A,N/A
125,Resignation-Other employer,2012,2012,2012,Public Servant,A01-A04,Darling Downs South West,,Permanent Part-time,FALSE,TRUE,FALSE,FALSE,FALSE,TRUE,FALSE,FALSE,FALSE,TRUE,FALSE,FALSE,FALSE,FALSE,FALSE,FALSE,FALSE,FALSE,N,N,A,SA,D,SA,SA,SA,SA,SA,SA,N,N,N,D,A,A,A,SA,N,SA,Female,36-40,N/A,N/A,N/A,N/A,N/A
126,Age Retirement,2012,1991,1991,Cleaner,,Far North Queensland,,Permanent Part-time,FALSE,FALSE,FALSE,FALSE,FALSE,FALSE,FALSE,FALSE,FALSE,FALSE,FALSE,FALSE,FALSE,FALSE,FALSE,FALSE,FALSE,TRUE,SA,A,A,SA,SA,SA,A,SA,A,N,A,A,M,M,SA,A,SA,SA,SA,M,A,Male,61 or older,N/A,N/A,N/A,N/A,Yes
127,Resignation-Other reasons,2012,1980,1989,Teacher,Secondary,South East,,Permanent Full-time,FALSE,FALSE,FALSE,TRUE,TRUE,FALSE,FALSE,FALSE,FALSE,FALSE,FALSE,FALSE,FALSE,FALSE,FALSE,FALSE,FALSE,FALSE,A,N,D,D,A,A,A,D,N,D,D,N,D,D,D,A,D,A,A,D,A,Male,51-55,N/A,N/A,N/A,N/A,N/A
128,Age Retirement,2013,1989,1989,Teacher,Primary,Not Stated,,Permanent Full-time,FALSE,FALSE,FALSE,FALSE,FALSE,FALSE,FALSE,FALSE,FALSE,FALSE,FALSE,FALSE,FALSE,FALSE,FALSE,TRUE,FALSE,FALSE,SA,SA,SA,SA,A,D,A,SA,SA,A,SA,SA,SA,SA,SA,SA,SA,SA,SA,A,SA,Female,51-55,N/A,N/A,N/A,N/A,N/A
129,Age Retirement,2012,1977,2001,Teacher,,Metropolitan,,Permanent Full-time,FALSE,FALSE,FALSE,FALSE,FALSE,FALSE,FALSE,FALSE,FALSE,FALSE,FALSE,FALSE,FALSE,FALSE,FALSE,FALSE,FALSE,TRUE,A,N,N,N,A,A,N,A,A,A,N,N,A,N,A,N,A,A,A,N,A,Male,56-60,N/A,N/A,N/A,N/A,N/A
130,Voluntary Early Retirement (VER),2012,1975,1996,Head of Curriculum/Head of Special Education,,North Queensland,,Permanent Part-time,FALSE,FALSE,FALSE,FALSE,FALSE,FALSE,FALSE,FALSE,FALSE,FALSE,FALSE,FALSE,FALSE,FALSE,TRUE,TRUE,FALSE,FALSE,A,N/A,N,A,A,SD,N,A,A,A,A,SA,A,A,N/A,A,SA,A,A,N,SA,Female,56-60,N/A,N/A,N/A,N/A,N/A
131,Resignation-Other employer,2012,2012,2012,Public Servant,AO5-AO7,Central Office,Information and Technologies,Temporary Full-time,TRUE,FALSE,FALSE,TRUE,FALSE,FALSE,FALSE,TRUE,FALSE,FALSE,FALSE,FALSE,FALSE,FALSE,FALSE,FALSE,FALSE,FALSE,D,SD,D,N/A,A,A,A,D,N,D,SD,D,D,D,SD,D,N,N,D,N/A,N/A,Male,51-55,N/A,N/A,N/A,N/A,N/A
132,Age Retirement,2012,1990,1992,Teacher Aide,,North Coast,,Permanent Part-time,FALSE,FALSE,FALSE,FALSE,FALSE,FALSE,FALSE,FALSE,FALSE,FALSE,FALSE,FALSE,FALSE,FALSE,FALSE,FALSE,FALSE,TRUE,A,N,A,A,A,A,A,A,A,A,A,A,A,A,A,A,A,A,A,N,A,Female,61 or older,N/A,N/A,N/A,N/A,N/A
133,Resignation-Other reasons,2012,2007,2010,Cleaner,,North Queensland,,Permanent Part-time,FALSE,FALSE,FALSE,FALSE,FALSE,FALSE,FALSE,FALSE,FALSE,FALSE,FALSE,FALSE,FALSE,FALSE,FALSE,TRUE,FALSE,FALSE,N/A,N/A,N,D,N,A,D,N,D,A,A,A,N/A,N/A,N/A,N,N,A,A,N/A,D,Female,41-45,N/A,N/A,N/A,N/A,N/A
134,Age Retirement,2012,Not Stated,Not Stated,Teacher Aide,,Central Queensland,,Permanent Part-time,FALSE,FALSE,FALSE,FALSE,FALSE,FALSE,FALSE,FALSE,FALSE,FALSE,FALSE,FALSE,FALSE,FALSE,FALSE,FALSE,FALSE,TRUE,D,N,D,A,N,A,D,D,A,A,A,A,N,A,A,N,A,A,N,D,N,Female,61 or older,N/A,N/A,N/A,N/A,N/A
135,Voluntary Early Retirement (VER),2012,1983,1988,Business Service Manager,,Far North Queensland,,Permanent Full-time,FALSE,TRUE,FALSE,FALSE,FALSE,FALSE,FALSE,FALSE,FALSE,FALSE,FALSE,FALSE,FALSE,FALSE,FALSE,TRUE,TRUE,FALSE,A,N,SA,A,A,SD,N,A,A,SA,SA,SA,A,SA,A,A,A,A,SA,A,SA,Male,46-50,N/A,N/A,N/A,N/A,N/A
136,Resignation-Other reasons,2012,1994,1994,Teacher Aide,,Metropolitan,,Permanent Part-time,FALSE,FALSE,FALSE,FALSE,FALSE,FALSE,FALSE,FALSE,FALSE,FALSE,FALSE,FALSE,FALSE,FALSE,FALSE,TRUE,FALSE,FALSE,A,M,N,N,A,A,A,A,SA,A,A,A,A,A,A,N,A,N,A,N,A,Female,56-60,N/A,N/A,N/A,N/A,N/A
137,Ill Health Retirement,2012,Not Stated,Not Stated,Head of Curriculum/Head of Special Education,,Central Office,Education Queensland,Permanent Part-time,FALSE,FALSE,FALSE,FALSE,FALSE,FALSE,FALSE,FALSE,FALSE,FALSE,FALSE,FALSE,FALSE,TRUE,FALSE,FALSE,FALSE,FALSE,A,N,M,D,N,D,N,N,SA,N,SA,SA,D,A,A,N,N,N,N,N,N,Female,56-60,N/A,N/A,N/A,N/A,N/A
138,Age Retirement,2012,2001,2001,Teacher,,Far North Queensland,,Permanent Full-time,FALSE,FALSE,FALSE,FALSE,FALSE,FALSE,FALSE,FALSE,FALSE,FALSE,FALSE,FALSE,FALSE,FALSE,FALSE,TRUE,FALSE,FALSE,A,A,N,N,A,N,A,A,A,A,A,A,N,D,A,A,A,A,A,N,A,Female,56-60,N/A,N/A,N/A,N/A,N/A
139,Resignation-Other employer,2012,2004,2005,Teacher Aide,,Darling Downs South West,,Permanent Part-time,FALSE,TRUE,FALSE,FALSE,FALSE,FALSE,FALSE,FALSE,FALSE,FALSE,FALSE,FALSE,FALSE,FALSE,FALSE,FALSE,FALSE,FALSE,N,N,N,N,SA,SA,A,A,SA,A,A,SD,N,A,N,N,A,A,A,N,N,Female,41-45,N/A,N/A,N/A,N/A,N/A
140,Ill Health Retirement,2012,1974,1995,Teacher,Secondary,Darling Downs South West,,Permanent Full-time,FALSE,FALSE,FALSE,FALSE,FALSE,FALSE,FALSE,FALSE,FALSE,FALSE,FALSE,FALSE,FALSE,TRUE,FALSE,FALSE,FALSE,FALSE,A,A,N,N,D,N,N,N,N,N,A,A,N,N,N,N,N,N,N,N,N,Male,56-60,N/A,N/A,N/A,N/A,N/A
141,Resignation-Other employer,2012,Not Stated,Not Stated,Teacher Aide,,Metropolitan,,Permanent Part-time,FALSE,TRUE,FALSE,FALSE,FALSE,FALSE,FALSE,FALSE,FALSE,FALSE,FALSE,FALSE,FALSE,FALSE,FALSE,FALSE,FALSE,FALSE,A,N/A,A,N,A,SA,SA,A,SA,A,N,A,N,N,N,A,A,A,A,M,M,Female,51-55,N/A,N/A,N/A,N/A,N/A
142,Age Retirement,2012,1973,Not Stated,Teacher,Primary,South East,,Permanent Full-time,FALSE,FALSE,FALSE,FALSE,FALSE,FALSE,FALSE,FALSE,FALSE,FALSE,FALSE,FALSE,FALSE,TRUE,FALSE,TRUE,TRUE,FALSE,A,A,A,A,D,D,D,A,SA,A,A,A,N,D,N,A,A,A,A,N,A,Male,56-60,N/A,N/A,N/A,N/A,N/A
143,Ill Health Retirement,2012,1983,2008,Head of Curriculum/Head of Special Education,,Darling Downs South West,,Permanent Full-time,FALSE,FALSE,FALSE,FALSE,FALSE,FALSE,FALSE,FALSE,FALSE,FALSE,FALSE,FALSE,FALSE,TRUE,FALSE,FALSE,FALSE,FALSE,SA,SA,SA,SA,SA,SA,SA,SA,SA,SA,SA,SA,SA,SA,SA,SA,SA,SA,SA,SA,SA,Female,61 or older,N/A,N/A,N/A,N/A,N/A
144,Ill Health Retirement,2012,Not Stated,Not Stated,Teacher Aide,,North Queensland,,Permanent Part-time,FALSE,FALSE,FALSE,FALSE,FALSE,FALSE,FALSE,FALSE,FALSE,FALSE,FALSE,FALSE,FALSE,TRUE,FALSE,FALSE,FALSE,FALSE,A,A,A,A,A,A,A,A,A,A,A,SA,A,A,A,A,A,A,A,A,A,Female,61 or older,N/A,N/A,N/A,N/A,N/A
145,Age Retirement,2012,1971,1982,Teacher,Primary,Not Stated,,Permanent Full-time,FALSE,FALSE,FALSE,FALSE,FALSE,FALSE,FALSE,FALSE,FALSE,FALSE,FALSE,FALSE,FALSE,FALSE,FALSE,FALSE,TRUE,FALSE,N,N,A,N,N,SD,N,N,A,SA,SA,SA,SA,SA,A,A,A,A,A,N,SA,Female,56-60,N/A,N/A,N/A,N/A,N/A
146,Resignation-Other reasons,2012,2007,2007,Cleaner,,Not Stated,,Permanent Part-time,FALSE,FALSE,FALSE,FALSE,FALSE,FALSE,FALSE,FALSE,FALSE,FALSE,FALSE,FALSE,FALSE,TRUE,FALSE,FALSE,FALSE,FALSE,A,N/A,A,A,A,A,A,A,A,A,A,A,N/A,A,N/A,A,A,A,A,N/A,N/A,Male,61 or older,N/A,N/A,N/A,N/A,N/A
147,Age Retirement,2012,Not Stated,Not Stated,Teacher,Primary,Darling Downs South West,,Temporary Part-time,FALSE,FALSE,FALSE,FALSE,FALSE,FALSE,FALSE,FALSE,FALSE,FALSE,FALSE,FALSE,FALSE,FALSE,FALSE,FALSE,FALSE,TRUE,N,A,A,SA,SA,SA,SA,SA,SA,SA,SA,N/A,N,A,A,SA,SA,SA,SA,A,SA,Female,61 or older,N/A,N/A,N/A,N/A,N/A
148,Resignation-Other employer,2012,2003,2003,Public Servant,A01-A04,Metropolitan,,Permanent Full-time,FALSE,TRUE,FALSE,FALSE,FALSE,FALSE,FALSE,TRUE,FALSE,TRUE,FALSE,FALSE,FALSE,FALSE,FALSE,FALSE,FALSE,FALSE,N,A,A,A,A,SA,A,SA,A,A,A,A,A,A,A,SA,SA,SA,SA,A,SA,Male,26-30,N/A,N/A,N/A,N/A,N/A
149,Age Retirement,2012,1997,1997,Cleaner,,Not Stated,,Permanent Part-time,FALSE,FALSE,FALSE,FALSE,FALSE,FALSE,FALSE,FALSE,FALSE,FALSE,FALSE,FALSE,FALSE,FALSE,FALSE,FALSE,FALSE,TRUE,SA,A,SA,SA,SA,SA,SA,A,A,SA,A,A,A,A,A,A,SA,SA,A,M,SA,Female,61 or older,N/A,N/A,N/A,N/A,N/A
150,Other,2012,2008,2008,Public Servant,A01-A04,Central Office,Training and Tertiary Education Queensland,Permanent Full-time,FALSE,TRUE,FALSE,TRUE,TRUE,FALSE,FALSE,FALSE,FALSE,FALSE,FALSE,FALSE,FALSE,FALSE,FALSE,FALSE,FALSE,FALSE,A,D,N,N,N,N,N,A,N,N,D,N,A,A,A,A,A,A,A,N,N,Female,26-30,N/A,N/A,N/A,N/A,N/A
151,Termination,2012,1996,2009,Public Servant,A01-A04,Central Office,Training and Tertiary Education Queensland,Permanent Full-time,FALSE,FALSE,FALSE,FALSE,FALSE,FALSE,FALSE,FALSE,FALSE,FALSE,FALSE,FALSE,FALSE,FALSE,FALSE,FALSE,FALSE,TRUE,N,N,A,N/A,N,A,A,A,A,A,A,A,N,A,N,A,N,A,A,N,N,Female,61 or older,N/A,N/A,N/A,N/A,N/A
152,Age Retirement,2012,Not Stated,Not Stated,Guidance Officer,,Metropolitan,,Temporary Part-time,FALSE,FALSE,FALSE,TRUE,FALSE,FALSE,FALSE,FALSE,FALSE,FALSE,FALSE,FALSE,FALSE,FALSE,FALSE,FALSE,FALSE,FALSE,N,N/A,A,A,N,N,N,A,N,A,D,D,N,A,D,A,A,N,A,A,A,Male,61 or older,N/A,N/A,N/A,N/A,N/A
153,Other,2012,1993,2012,Public Servant,AO5-AO7,Central Office,Training and Tertiary Education Queensland,Permanent Full-time,FALSE,FALSE,FALSE,TRUE,FALSE,FALSE,FALSE,TRUE,TRUE,FALSE,FALSE,FALSE,FALSE,FALSE,FALSE,FALSE,FALSE,FALSE,SA,N,D,D,SA,A,A,SD,A,SA,N,A,D,N,N,SD,N,D,D,N,SD,Female,36-40,N/A,N/A,N/A,N/A,Yes
154,Termination,2012,2002,2008,Public Servant,AO5-AO7,Central Office,Education Queensland,Permanent Full-time,FALSE,FALSE,FALSE,FALSE,FALSE,FALSE,FALSE,FALSE,FALSE,FALSE,FALSE,FALSE,FALSE,FALSE,FALSE,FALSE,FALSE,TRUE,A,A,A,A,A,SA,SA,A,A,A,A,A,A,A,A,A,A,A,A,D,A,Female,36-40,N/A,N/A,N/A,N/A,Yes
155,Voluntary Early Retirement (VER),2012,1971,2005,Public Servant,AO5-AO7,Central Office,Training and Tertiary Education Queensland,Permanent Full-time,FALSE,FALSE,FALSE,FALSE,FALSE,FALSE,FALSE,TRUE,FALSE,FALSE,FALSE,FALSE,FALSE,FALSE,FALSE,FALSE,FALSE,FALSE,A,N,SD,A,A,N,N,N,N,N,N,N,SD,N,N,A,A,A,A,N,N,Male,61 or older,N/A,N/A,N/A,N/A,N/A
156,Voluntary Early Retirement (VER),2012,2006,2010,Public Servant,A01-A04,Central Office,Education Queensland,Permanent Full-time,FALSE,FALSE,FALSE,TRUE,FALSE,FALSE,FALSE,TRUE,FALSE,FALSE,FALSE,FALSE,FALSE,FALSE,FALSE,FALSE,FALSE,FALSE,A,N,A,A,A,A,A,A,A,A,N,A,N,A,N,A,A,A,A,A,A,Female,21-25,N/A,N/A,N/A,N/A,N/A
157,Other,2012,2007,2010,Technical Officer,,Central Office,Information and Technologies,Temporary Full-time,FALSE,FALSE,FALSE,FALSE,FALSE,FALSE,FALSE,FALSE,FALSE,FALSE,FALSE,FALSE,FALSE,FALSE,FALSE,FALSE,FALSE,TRUE,A,A,A,A,A,SA,A,A,N,SA,SA,SA,SA,SA,SA,N,SA,SA,A,SA,SA,Male,26-30,N/A,N/A,N/A,N/A,N/A
158,Other,2012,2009,2011,Public Servant,AO5-AO7,Central Office,Information and Technologies,Temporary Full-time,FALSE,FALSE,FALSE,FALSE,FALSE,FALSE,FALSE,FALSE,FALSE,FALSE,FALSE,FALSE,FALSE,FALSE,FALSE,FALSE,FALSE,TRUE,N,SA,SA,A,A,SA,SA,A,SA,SA,SA,A,A,A,SA,A,SA,N,N,A,A,Male,21-25,N/A,N/A,N/A,N/A,N/A
159,Resignation-Other employer,2012,2011,2011,Public Servant,A01-A04,Central Office,Other,Temporary Part-time,TRUE,FALSE,FALSE,FALSE,FALSE,FALSE,FALSE,FALSE,FALSE,FALSE,FALSE,FALSE,FALSE,FALSE,FALSE,FALSE,FALSE,FALSE,A,N,A,N,SA,SA,SA,SA,SA,A,N,N,A,SA,A,A,A,A,A,N,N,Male,21-25,N/A,N/A,N/A,N/A,N/A
160,Age Retirement,2012,1970,1970,Teacher,Primary,Metropolitan,,Permanent Full-time,FALSE,FALSE,FALSE,FALSE,FALSE,FALSE,FALSE,FALSE,FALSE,FALSE,FALSE,FALSE,FALSE,FALSE,FALSE,FALSE,FALSE,TRUE,A,A,A,A,A,A,A,A,SA,A,A,A,A,A,A,A,A,A,A,N,A,Female,61 or older,N/A,N/A,N/A,N/A,N/A
161,Resignation-Other reasons,2012,2003,2003,Cleaner,,South East,,Permanent Part-time,FALSE,FALSE,FALSE,FALSE,FALSE,FALSE,TRUE,FALSE,FALSE,FALSE,FALSE,FALSE,FALSE,FALSE,FALSE,FALSE,FALSE,FALSE,A,SD,SD,SD,N,N,N,SD,SD,N,N,SD,SD,SD,SD,SD,SD,N,N,SD,N,Female,41-45,N/A,N/A,N/A,N/A,N/A
162,Voluntary Early Retirement (VER),2012,1980,2004,Public Servant,AO5-AO7,Central Office,Education Queensland,Permanent Full-time,FALSE,FALSE,FALSE,FALSE,FALSE,FALSE,FALSE,FALSE,FALSE,FALSE,FALSE,FALSE,FALSE,FALSE,FALSE,FALSE,FALSE,TRUE,D,A,N,A,A,A,A,A,A,A,A,A,N,A,N,A,A,A,A,N,A,Female,56-60,N/A,N/A,N/A,N/A,N/A
163,Other,2012,2007,2008,Public Servant,A01-A04,Metropolitan,,Permanent Full-time,FALSE,FALSE,FALSE,FALSE,FALSE,FALSE,FALSE,FALSE,FALSE,FALSE,FALSE,FALSE,FALSE,FALSE,FALSE,FALSE,FALSE,TRUE,SD,SD,D,D,SD,SA,A,D,A,D,D,D,SD,SD,SD,SD,SD,D,SD,SA,SA,Female,36-40,N/A,N/A,N/A,N/A,N/A
164,Voluntary Early Retirement (VER),2012,1969,2002,Professional Officer,PO1-PO4,Central Office,Education Queensland,Permanent Full-time,FALSE,FALSE,FALSE,FALSE,FALSE,FALSE,FALSE,FALSE,FALSE,FALSE,FALSE,FALSE,FALSE,FALSE,FALSE,FALSE,FALSE,TRUE,A,A,A,A,A,A,A,A,A,N,A,N,N,A,A,A,A,A,A,N,A,Male,61 or older,N/A,N/A,N/A,N/A,N/A
165,Resignation-Other employer,2012,2005,2009,Teacher Aide,,Central Queensland,,Permanent Full-time,FALSE,TRUE,FALSE,FALSE,FALSE,FALSE,FALSE,FALSE,FALSE,FALSE,FALSE,FALSE,FALSE,FALSE,FALSE,TRUE,FALSE,FALSE,SA,N,A,SA,A,N,N,A,A,SA,SA,SA,SA,N,A,SA,SA,SA,A,A,A,Female,41-45,N/A,N/A,N/A,N/A,N/A
166,Voluntary Early Retirement (VER),2012,2005,2008,Public Servant,AO5-AO7,Central Office,Human Resources,Permanent Full-time,FALSE,FALSE,FALSE,FALSE,FALSE,FALSE,FALSE,TRUE,FALSE,FALSE,FALSE,FALSE,FALSE,FALSE,FALSE,FALSE,FALSE,FALSE,N,D,SA,A,SA,SA,SA,SA,SA,SA,A,A,A,A,N,SA,SA,SA,SA,A,SA,Male,26-30,Yes,N/A,N/A,N/A,N/A
167,Other,2012,1997,2005,Public Servant,AO5-AO7,Central Office,,Permanent Full-time,FALSE,FALSE,FALSE,FALSE,FALSE,FALSE,FALSE,FALSE,FALSE,FALSE,FALSE,FALSE,FALSE,FALSE,FALSE,FALSE,FALSE,TRUE,D,D,SD,N,N,A,A,D,N,A,D,D,D,D,SD,N,N,A,SD,A,A,Female,46-50,N/A,N/A,N/A,N/A,N/A
168,Other,2012,2004,2010,Public Servant,AO5-AO7,Central Office,Training and Tertiary Education Queensland,Permanent Full-time,FALSE,FALSE,FALSE,FALSE,FALSE,FALSE,FALSE,FALSE,FALSE,FALSE,FALSE,FALSE,FALSE,FALSE,FALSE,FALSE,FALSE,TRUE,A,A,N,N,A,A,A,A,A,A,N,A,SA,SA,SA,A,A,A,A,N,A,Female,36-40,N/A,N/A,N/A,N/A,N/A
169,Other,2012,2008,2008,Public Servant,AO5-AO7,Central Office,Human Resources,Permanent Full-time,FALSE,FALSE,FALSE,FALSE,TRUE,FALSE,FALSE,FALSE,FALSE,FALSE,FALSE,FALSE,FALSE,FALSE,FALSE,FALSE,FALSE,FALSE,A,N,A,N/A,N,A,A,N,A,A,A,N,N,A,N,N,N,A,D,A,N,Female,61 or older,N/A,N/A,N/A,N/A,N/A
170,Ill Health Retirement,2012,Not Stated,Not Stated,Teacher,Secondary,Not Stated,,Permanent Part-time,FALSE,FALSE,FALSE,FALSE,FALSE,FALSE,FALSE,FALSE,FALSE,FALSE,FALSE,FALSE,FALSE,TRUE,FALSE,FALSE,FALSE,FALSE,D,M,SA,SA,SA,A,N,N,SA,SA,SA,SA,D,SA,D,A,A,A,A,D,N,Male,56-60,N/A,N/A,N/A,N/A,N/A
171,Other,2012,2009,2009,Public Servant,AO8 and Above,Central Office,,Permanent Full-time,FALSE,FALSE,TRUE,TRUE,FALSE,FALSE,FALSE,FALSE,FALSE,FALSE,FALSE,FALSE,FALSE,FALSE,FALSE,TRUE,TRUE,FALSE,SD,N,SD,D,A,SD,D,D,N,A,D,A,D,D,SD,D,D,D,SD,SD,N,Female,46-50,N/A,N/A,N/A,N/A,N/A
172,Voluntary Early Retirement (VER),2012,1987,1992,Professional Officer,PO1-PO4,Central Office,Education Queensland,Permanent Full-time,FALSE,FALSE,FALSE,TRUE,FALSE,FALSE,TRUE,FALSE,FALSE,FALSE,FALSE,FALSE,FALSE,FALSE,FALSE,FALSE,FALSE,FALSE,D,N,D,N,N,A,N,N,A,SD,SD,D,N,N,D,N,N,A,A,D,D,Male,46-50,N/A,N/A,N/A,N/A,N/A
173,Other,2012,1975,2008,Public Servant,A01-A04,Central Office,Education Queensland,Permanent Full-time,FALSE,FALSE,FALSE,FALSE,FALSE,FALSE,TRUE,FALSE,FALSE,FALSE,FALSE,FALSE,FALSE,FALSE,FALSE,FALSE,FALSE,FALSE,N,D,N,N,A,A,N,A,N,N,A,A,N,A,N,A,N,A,A,N,N,Female,,N/A,N/A,N/A,N/A,N/A
174,Other,2012,2002,2007,Public Servant,AO8 and Above,Central Office,Other,Permanent Full-time,FALSE,FALSE,FALSE,FALSE,FALSE,FALSE,FALSE,FALSE,FALSE,FALSE,FALSE,FALSE,FALSE,FALSE,FALSE,FALSE,FALSE,TRUE,A,SA,A,A,A,A,A,A,A,N,A,SA,SA,SA,SA,A,SA,A,A,N,N,Male,56-60,N/A,N/A,N/A,N/A,N/A
175,Voluntary Early Retirement (VER),2012,2007,2007,Public Servant,A01-A04,Central Office,Other,Permanent Full-time,FALSE,TRUE,FALSE,FALSE,FALSE,FALSE,FALSE,FALSE,FALSE,FALSE,FALSE,FALSE,FALSE,FALSE,FALSE,FALSE,FALSE,FALSE,SA,A,A,N,A,A,A,A,A,A,A,A,A,N,N,A,N,N,N,N,N,Female,31-35,N/A,N/A,N/A,N/A,Yes
176,Voluntary Early Retirement (VER),2012,2005,2007,Public Servant,A01-A04,Central Office,Education Queensland,Permanent Part-time,FALSE,FALSE,FALSE,FALSE,FALSE,FALSE,FALSE,TRUE,TRUE,FALSE,TRUE,FALSE,FALSE,FALSE,FALSE,FALSE,FALSE,FALSE,A,N,D,N,A,A,A,A,A,A,A,N,N,A,N,A,A,A,A,A,N/A,Female,26-30,N/A,N/A,N/A,N/A,N/A
177,Voluntary Early Retirement (VER),2012,2004,2009,Public Servant,A01-A04,Central Office,,Permanent Full-time,FALSE,TRUE,FALSE,FALSE,FALSE,FALSE,FALSE,FALSE,FALSE,FALSE,FALSE,FALSE,FALSE,FALSE,FALSE,FALSE,FALSE,FALSE,N,A,A,A,A,SA,A,A,A,A,A,A,A,A,A,A,A,A,A,A,A,,26-30,N/A,N/A,N/A,Yes,N/A
178,Voluntary Early Retirement (VER),2012,1997,2012,Public Servant,AO5-AO7,Central Office,,Permanent Full-time,FALSE,FALSE,FALSE,TRUE,FALSE,FALSE,FALSE,FALSE,TRUE,FALSE,FALSE,FALSE,FALSE,FALSE,FALSE,FALSE,FALSE,FALSE,A,A,A,A,A,SA,A,SA,SA,A,A,A,A,A,A,A,A,A,A,A,A,Female,26-30,N/A,N/A,N/A,N/A,N/A
179,Voluntary Early Retirement (VER),2012,1996,2011,Public Servant,A01-A04,Central Office,Corporate Procurement,Permanent Full-time,FALSE,FALSE,FALSE,FALSE,TRUE,FALSE,FALSE,TRUE,FALSE,FALSE,FALSE,FALSE,FALSE,FALSE,FALSE,FALSE,FALSE,FALSE,A,A,A,SA,A,A,A,SA,SA,A,N,A,A,A,A,A,A,A,A,A,A,Male,41-45,Yes,N/A,N/A,N/A,N/A
180,Resignation-Other reasons,2012,2012,2012,Cleaner,,Central Queensland,,Permanent Full-time,FALSE,FALSE,FALSE,FALSE,FALSE,FALSE,FALSE,FALSE,FALSE,FALSE,FALSE,FALSE,FALSE,FALSE,FALSE,TRUE,FALSE,FALSE,SA,SA,SA,N,A,N,A,A,SA,SA,SA,SA,A,M,N,A,SA,A,N,SA,SA,Female,36-40,N/A,N/A,N/A,N/A,N/A
181,Voluntary Early Retirement (VER),2012,2010,2012,Public Servant,AO5-AO7,Central Office,Corporate Strategy and Peformance,Permanent Full-time,FALSE,FALSE,FALSE,TRUE,FALSE,FALSE,FALSE,FALSE,FALSE,FALSE,FALSE,FALSE,FALSE,FALSE,FALSE,FALSE,FALSE,FALSE,SD,A,N,SD,A,A,A,SD,A,A,SD,N,SA,SA,A,SA,SA,SA,SA,D,N,Female,26-30,N/A,N/A,N/A,N/A,N/A
182,Voluntary Early Retirement (VER),2012,2006,2011,Public Servant,A01-A04,Central Office,Information and Technologies,Permanent Part-time,FALSE,FALSE,FALSE,FALSE,FALSE,FALSE,FALSE,FALSE,FALSE,TRUE,FALSE,FALSE,FALSE,FALSE,FALSE,FALSE,FALSE,FALSE,A,N,A,SA,A,A,A,A,A,A,A,A,A,A,A,A,A,A,A,A,M,Female,31-35,N/A,N/A,Yes,N/A,N/A
183,Other,2012,2010,2010,Professional Officer,PO1-PO4,Metropolitan,,Temporary Full-time,FALSE,FALSE,FALSE,FALSE,FALSE,FALSE,FALSE,FALSE,FALSE,FALSE,FALSE,FALSE,FALSE,FALSE,FALSE,FALSE,FALSE,TRUE,A,A,D,A,A,A,SA,SA,SA,SA,SA,SA,SA,A,A,A,A,A,A,M,N,Female,51-55,N/A,N/A,N/A,N/A,N/A
184,Resignation-Other reasons,2012,1998,1998,Cleaner,,Far North Queensland,,Permanent Part-time,FALSE,FALSE,FALSE,FALSE,FALSE,FALSE,FALSE,FALSE,FALSE,FALSE,FALSE,FALSE,FALSE,FALSE,FALSE,TRUE,FALSE,FALSE,A,N,A,A,A,A,D,N,A,A,A,A,A,A,N,A,A,D,A,M,A,Female,61 or older,N/A,N/A,Yes,N/A,N/A
185,Other,2012,2006,2006,Public Servant,A01-A04,Central Office,Human Resources,Permanent Part-time,FALSE,FALSE,FALSE,FALSE,FALSE,FALSE,FALSE,FALSE,FALSE,FALSE,FALSE,FALSE,FALSE,FALSE,FALSE,FALSE,FALSE,TRUE,N,SD,SD,SD,A,N,D,SD,D,A,A,N,D,A,N,D,SD,N,D,SD,D,Female,41-45,N/A,N/A,N/A,N/A,N/A
186,Resignation-Other reasons,2012,2005,2005,Cleaner,,Not Stated,,Permanent Part-time,FALSE,FALSE,FALSE,FALSE,FALSE,FALSE,FALSE,FALSE,FALSE,FALSE,TRUE,FALSE,FALSE,FALSE,FALSE,TRUE,FALSE,FALSE,N,N,N,N,N,N,N,N,N,N,N,N,N,N,N,N,N,N,N,N,N,Female,31-35,N/A,N/A,N/A,N/A,N/A
187,Other,2012,1992,2007,Public Servant,AO5-AO7,Central Office,Training and Tertiary Education Queensland,Permanent Full-time,FALSE,FALSE,FALSE,FALSE,FALSE,FALSE,FALSE,FALSE,FALSE,FALSE,FALSE,FALSE,FALSE,FALSE,FALSE,FALSE,FALSE,TRUE,A,N,D,N,N,N,N,A,A,A,A,SA,D,A,D,A,A,A,A,N,D,Female,61 or older,N/A,N/A,N/A,N/A,N/A
188,Voluntary Early Retirement (VER),2012,2007,2009,Public Servant,AO5-AO7,Central Office,Training and Tertiary Education Queensland,Permanent Full-time,FALSE,TRUE,FALSE,FALSE,FALSE,FALSE,FALSE,FALSE,FALSE,FALSE,FALSE,FALSE,FALSE,FALSE,FALSE,FALSE,FALSE,FALSE,N,A,A,N,A,SA,A,A,A,SA,SA,SA,D,A,D,SD,SD,A,SD,N,N,Female,26-30,N/A,N/A,N/A,N/A,N/A
189,Other,2012,2006,2009,Public Servant,AO5-AO7,Central Office,,Permanent Full-time,FALSE,TRUE,FALSE,FALSE,FALSE,FALSE,FALSE,FALSE,FALSE,FALSE,FALSE,FALSE,FALSE,FALSE,FALSE,FALSE,FALSE,FALSE,D,A,N,N,A,SA,SA,N,SA,D,D,N,D,D,D,D,D,N,SD,A,N,Female,26-30,N/A,N/A,N/A,N/A,N/A
190,Resignation-Other employer,2012,2006,2007,Public Servant,AO8 and Above,Central Office,Other,Permanent Full-time,FALSE,FALSE,FALSE,FALSE,FALSE,FALSE,FALSE,TRUE,TRUE,FALSE,FALSE,FALSE,FALSE,FALSE,FALSE,TRUE,FALSE,FALSE,SA,SA,SA,SA,SA,N,A,SA,SA,SA,SA,SA,SA,SA,SA,SA,SA,SA,SA,SA,SA,Female,41-45,Yes,N/A,N/A,N/A,N/A
191,Voluntary Early Retirement (VER),2012,1971,2004,Public Servant,AO5-AO7,Central Office,Other,Permanent Full-time,FALSE,FALSE,FALSE,TRUE,FALSE,FALSE,TRUE,FALSE,FALSE,FALSE,FALSE,FALSE,FALSE,FALSE,FALSE,FALSE,FALSE,FALSE,SD,SD,N,D,A,A,N,SD,N,N,D,A,SD,D,SD,N,N,N,N,N,N,Female,56-60,N/A,N/A,N/A,N/A,N/A
192,Other,2012,1995,2009,Public Servant,A01-A04,Central Office,Education Queensland,Permanent Full-time,FALSE,FALSE,FALSE,FALSE,FALSE,FALSE,FALSE,FALSE,FALSE,FALSE,FALSE,FALSE,FALSE,FALSE,FALSE,FALSE,FALSE,TRUE,D,D,D,D,A,N,A,SA,SA,SA,SA,A,N,A,N,D,D,D,SD,N,N,Female,56-60,N/A,N/A,N/A,N/A,N/A
193,Resignation-Other reasons,2012,1995,2001,Teacher Aide,,Far North Queensland,,Permanent Full-time,FALSE,FALSE,TRUE,FALSE,FALSE,FALSE,FALSE,FALSE,FALSE,FALSE,FALSE,FALSE,FALSE,FALSE,TRUE,FALSE,FALSE,FALSE,SA,A,SD,SD,N,A,SD,SD,A,SA,SA,SA,SD,SD,SD,N,D,A,D,SD,N,Female,46-50,N/A,N/A,N/A,N/A,N/A
194,Voluntary Early Retirement (VER),2012,2001,2012,Public Servant,AO8 and Above,Central Office,Education Queensland,Permanent Full-time,FALSE,FALSE,FALSE,FALSE,FALSE,FALSE,FALSE,FALSE,FALSE,FALSE,FALSE,FALSE,FALSE,FALSE,FALSE,FALSE,FALSE,TRUE,A,A,D,D,SA,SA,A,N,N,A,A,A,SD,SD,SD,A,A,A,A,A,A,Male,31-35,N/A,N/A,N/A,N/A,N/A
195,Age Retirement,2013,1963,1984,Teacher,Primary,Not Stated,,Permanent Part-time,FALSE,FALSE,FALSE,FALSE,FALSE,FALSE,FALSE,FALSE,FALSE,FALSE,TRUE,FALSE,FALSE,FALSE,FALSE,TRUE,TRUE,FALSE,D,N,A,N,D,D,D,A,SA,A,A,SA,D,A,N,A,A,A,A,D,A,Female,61 or older,N/A,N/A,N/A,N/A,N/A
196,Resignation-Other employer,2012,1989,2010,Technical Officer,,North Coast,,Permanent Full-time,TRUE,FALSE,FALSE,FALSE,FALSE,FALSE,FALSE,FALSE,FALSE,FALSE,FALSE,FALSE,FALSE,FALSE,FALSE,FALSE,FALSE,FALSE,SA,A,SA,SA,SA,SA,SA,SA,SA,SA,SA,N/A,A,SA,SA,SA,SA,SA,SA,SA,SA,Female,46-50,N/A,N/A,N/A,N/A,N/A
197,Resignation-Other reasons,2012,Not Stated,Not Stated,Teacher Aide,,North Queensland,,Permanent Part-time,FALSE,FALSE,FALSE,FALSE,FALSE,FALSE,FALSE,FALSE,FALSE,FALSE,FALSE,FALSE,FALSE,FALSE,FALSE,FALSE,FALSE,TRUE,SA,SD,N,N,A,A,A,A,A,N,M,SD,A,A,A,A,A,A,A,N,N,Female,46-50,N/A,N/A,N/A,N/A,N/A
198,Resignation-Other employer,2012,2005,2005,Public Servant,A01-A04,South East,,Permanent Full-time,FALSE,FALSE,FALSE,TRUE,FALSE,FALSE,TRUE,FALSE,FALSE,FALSE,FALSE,FALSE,FALSE,FALSE,FALSE,FALSE,FALSE,FALSE,D,SD,N,D,A,A,N,D,N,D,SD,A,D,N,D,D,D,N,D,N,D,Female,31-35,N/A,N/A,N/A,N/A,N/A
199,Ill Health Retirement,2012,1984,1995,Teacher,Primary,Darling Downs South West,,Permanent Part-time,FALSE,FALSE,FALSE,FALSE,FALSE,FALSE,FALSE,FALSE,FALSE,FALSE,FALSE,FALSE,FALSE,TRUE,FALSE,FALSE,FALSE,FALSE,A,A,A,A,A,D,D,A,SA,SA,SA,A,D,A,N,A,A,A,A,D,A,Female,46-50,N/A,N/A,N/A,N/A,N/A
200,Age Retirement,2012,2003,2006,Cleaner,,Central Queensland,,Permanent Part-time,FALSE,FALSE,FALSE,FALSE,FALSE,FALSE,FALSE,FALSE,FALSE,FALSE,FALSE,FALSE,FALSE,FALSE,FALSE,FALSE,FALSE,TRUE,M,M,M,M,M,SA,M,M,M,M,M,M,M,M,M,SA,M,M,M,M,M,Female,61 or older,N/A,N/A,N/A,N/A,N/A
201,Voluntary Early Retirement (VER),2012,1993,2010,Public Servant,AO8 and Above,Central Office,Education Queensland,Permanent Full-time,FALSE,FALSE,FALSE,FALSE,FALSE,FALSE,FALSE,FALSE,FALSE,FALSE,FALSE,FALSE,FALSE,FALSE,FALSE,FALSE,FALSE,TRUE,SA,SA,SA,SA,SA,SA,SA,SA,SA,SA,SA,SA,SA,SA,SA,SA,SA,SA,SA,SA,SA,Female,51-55,N/A,N/A,N/A,N/A,N/A
202,Voluntary Early Retirement (VER),2012,1991,Not Stated,Teacher Aide,,North Queensland,,Permanent Part-time,FALSE,FALSE,FALSE,FALSE,FALSE,FALSE,FALSE,FALSE,FALSE,FALSE,FALSE,FALSE,FALSE,FALSE,FALSE,FALSE,FALSE,TRUE,SA,N,A,A,A,A,A,A,A,A,A,A,N,A,SA,A,SA,A,A,SA,SA,Female,56-60,N/A,N/A,N/A,N/A,N/A
203,Ill Health Retirement,2012,Not Stated,2003,Teacher Aide,,Metropolitan,,Permanent Part-time,FALSE,FALSE,FALSE,FALSE,FALSE,TRUE,FALSE,FALSE,FALSE,FALSE,FALSE,FALSE,FALSE,TRUE,TRUE,FALSE,FALSE,FALSE,N,D,N,SD,D,SD,SD,SD,A,SA,SA,A,SD,N,D,SD,N,D,SD,SD,SD,Female,46-50,N/A,N/A,N/A,N/A,N/A
204,Other,2012,1974,1995,Other,,South East,,Permanent Full-time,FALSE,FALSE,FALSE,FALSE,FALSE,TRUE,FALSE,FALSE,FALSE,TRUE,FALSE,FALSE,FALSE,FALSE,TRUE,FALSE,FALSE,FALSE,A,SD,N,SD,SD,N,N,D,N,N,N,D,D,D,D,N,D,N,SD,N/A,SD,Female,61 or older,N/A,N/A,N/A,N/A,N/A
205,Resignation-Other employer,2012,2008,2010,Public Servant,A01-A04,Central Office,Finance,Permanent Part-time,FALSE,TRUE,FALSE,FALSE,FALSE,FALSE,FALSE,FALSE,FALSE,FALSE,FALSE,FALSE,FALSE,FALSE,FALSE,FALSE,FALSE,FALSE,A,N,A,A,A,A,A,A,A,A,A,A,A,A,A,A,A,A,A,N,N,Female,21-25,N/A,N/A,N/A,N/A,N/A
206,Resignation-Other reasons,2012,2006,2006,Teacher Aide,,North Queensland,,Permanent Part-time,FALSE,FALSE,FALSE,FALSE,FALSE,FALSE,FALSE,FALSE,FALSE,FALSE,FALSE,FALSE,FALSE,FALSE,FALSE,TRUE,FALSE,FALSE,A,A,A,A,A,D,A,A,A,A,A,A,D,D,D,A,N,A,N,D,A,Female,36-40,N/A,N/A,N/A,N/A,N/A
207,Termination,2012,1970,2005,Public Servant,AO5-AO7,Central Office,Information and Technologies,Permanent Full-time,FALSE,FALSE,FALSE,TRUE,FALSE,FALSE,TRUE,TRUE,FALSE,FALSE,FALSE,FALSE,FALSE,FALSE,FALSE,FALSE,FALSE,FALSE,A,A,SD,N,A,A,N,D,A,N,SD,A,A,N,D,A,D,D,D,N,A,Male,51-55,N/A,N/A,N/A,N/A,N/A
208,Ill Health Retirement,2012,Not Stated,Not Stated,Teacher,Special Education,North Coast,,Permanent Part-time,FALSE,FALSE,FALSE,FALSE,FALSE,FALSE,FALSE,FALSE,FALSE,FALSE,FALSE,FALSE,FALSE,TRUE,FALSE,FALSE,FALSE,FALSE,A,N,D,N,D,N,D,D,A,A,A,A,D,A,D,SA,A,A,SA,,A,Female,56-60,N/A,N/A,N/A,N/A,N/A
209,Age Retirement,2012,1993,1993,Teacher Aide,,Metropolitan,,Permanent Full-time,FALSE,FALSE,FALSE,FALSE,FALSE,FALSE,FALSE,FALSE,FALSE,FALSE,FALSE,FALSE,FALSE,FALSE,FALSE,FALSE,FALSE,TRUE,A,,A,A,A,A,A,A,A,A,A,A,A,A,A,A,A,A,A,A,A,Female,61 or older,N/A,N/A,N/A,N/A,N/A
210,Ill Health Retirement,2012,1996,2002,Teacher,Primary,Central Office,Early Childhood Education and Care,Permanent Part-time,FALSE,FALSE,FALSE,FALSE,FALSE,TRUE,FALSE,FALSE,FALSE,FALSE,FALSE,FALSE,FALSE,TRUE,FALSE,FALSE,FALSE,FALSE,A,N,A,A,A,A,N,SA,SA,SA,A,N,A,A,N,SA,SA,SA,SA,SA,SA,Female,46-50,N/A,N/A,N/A,N/A,N/A
211,Resignation-Move overseas/interstate,2012,2007,2007,Professional Officer,PO1-PO4,North Coast,,Permanent Part-time,FALSE,FALSE,FALSE,FALSE,FALSE,FALSE,FALSE,FALSE,FALSE,FALSE,FALSE,TRUE,FALSE,FALSE,FALSE,FALSE,FALSE,FALSE,SA,N,A,A,N,A,A,A,A,A,A,A,SA,A,A,A,A,A,A,N,A,Female,51-55,N/A,N/A,N/A,N/A,N/A
212,Voluntary Early Retirement (VER),2012,1986,1986,Teacher Aide,,North Queensland,,Permanent Part-time,FALSE,FALSE,FALSE,FALSE,FALSE,FALSE,FALSE,FALSE,FALSE,FALSE,FALSE,FALSE,FALSE,FALSE,FALSE,TRUE,FALSE,FALSE,A,N/A,N,A,A,A,A,D,A,A,A,A,N/A,A,A,A,A,A,A,N,N,Female,61 or older,N/A,N/A,N/A,N/A,N/A
213,Resignation-Other reasons,2012,1986,1997,Teacher,Secondary,Metropolitan,,Permanent Part-time,FALSE,FALSE,FALSE,TRUE,FALSE,FALSE,FALSE,FALSE,FALSE,FALSE,FALSE,FALSE,FALSE,FALSE,FALSE,FALSE,TRUE,FALSE,A,SA,SD,SA,SA,SA,SA,SA,N,D,D,N,SA,SA,N,SD,A,N,N,A,SA,Male,61 or older,N/A,N/A,N/A,N/A,N/A
214,Other,2012,Not Stated,Not Stated,Cleaner,,Central Queensland,,Permanent Full-time,FALSE,FALSE,FALSE,FALSE,FALSE,FALSE,FALSE,FALSE,FALSE,FALSE,FALSE,FALSE,FALSE,FALSE,FALSE,FALSE,FALSE,TRUE,A,A,A,A,A,A,A,SA,A,A,A,A,A,SA,A,A,A,A,A,,A,Female,56-60,N/A,N/A,N/A,N/A,N/A
215,Resignation-Other reasons,2012,1999,2011,School Administrative Staff,,Darling Downs South West,,Permanent Part-time,FALSE,FALSE,FALSE,FALSE,FALSE,FALSE,FALSE,FALSE,FALSE,FALSE,FALSE,FALSE,FALSE,FALSE,FALSE,FALSE,FALSE,FALSE,D,D,A,A,A,A,A,D,A,A,A,N,D,A,D,A,A,A,A,N,N,Female,,N/A,N/A,N/A,N/A,N/A
216,Termination,2012,1987,2010,Public Servant,AO8 and Above,Central Office,Training and Tertiary Education Queensland,Permanent Full-time,FALSE,FALSE,FALSE,FALSE,FALSE,FALSE,FALSE,TRUE,FALSE,FALSE,FALSE,FALSE,FALSE,FALSE,FALSE,FALSE,FALSE,FALSE,A,A,A,N,SA,A,N,A,A,N,A,A,A,A,A,N,A,A,N,A,A,Male,51-55,N/A,N/A,N/A,N/A,N/A
217,Age Retirement,2013,1979,1979,Teacher,Primary,North Queensland,,Permanent Full-time,FALSE,FALSE,FALSE,TRUE,FALSE,FALSE,FALSE,FALSE,FALSE,FALSE,FALSE,FALSE,FALSE,FALSE,FALSE,TRUE,TRUE,FALSE,A,A,A,A,A,D,A,A,A,A,A,SA,A,A,A,A,A,A,A,A,A,Female,51-55,N/A,N/A,N/A,N/A,N/A
218,Voluntary Early Retirement (VER),2013,1995,1995,Teacher,Secondary,South East,,Permanent Part-time,FALSE,FALSE,FALSE,FALSE,FALSE,FALSE,FALSE,FALSE,FALSE,FALSE,FALSE,FALSE,FALSE,FALSE,FALSE,FALSE,FALSE,TRUE,A,A,A,A,A,A,A,A,A,A,A,A,N,A,A,A,A,A,A,A,A,Male,56-60,N/A,N/A,N/A,N/A,Yes
219,Age Retirement,2012,1999,1999,Teacher,Special Education,Central Queensland,,Permanent Part-time,FALSE,FALSE,FALSE,FALSE,FALSE,TRUE,FALSE,FALSE,FALSE,FALSE,FALSE,FALSE,FALSE,TRUE,FALSE,FALSE,FALSE,FALSE,A,A,A,A,A,A,A,A,A,A,A,A,A,A,A,A,A,A,A,A,A,Female,51-55,N/A,N/A,N/A,N/A,N/A
220,Age Retirement,2012,1999,1999,Teacher,Primary,Far North Queensland,,Permanent Part-time,FALSE,FALSE,FALSE,FALSE,FALSE,FALSE,TRUE,FALSE,FALSE,FALSE,FALSE,FALSE,FALSE,FALSE,FALSE,TRUE,FALSE,FALSE,SA,N,N,SD,N,A,D,SD,A,A,A,A,N/A,SD,N/A,D,N,A,A,D,A,Female,61 or older,N/A,N/A,N/A,N/A,N/A
221,Ill Health Retirement,2012,2007,2010,Cleaner,,Central Office,Education Queensland,Permanent Part-time,FALSE,FALSE,FALSE,FALSE,FALSE,FALSE,FALSE,FALSE,FALSE,FALSE,FALSE,FALSE,FALSE,TRUE,FALSE,FALSE,FALSE,FALSE,A,N/A,D,D,D,A,N,D,A,D,D,D,N/A,N/A,N/A,A,A,A,A,A,A,Female,56-60,N/A,N/A,N/A,N/A,N/A
222,Age Retirement,2012,1977,1988,Teacher,Primary,South East,,Permanent Part-time,FALSE,FALSE,FALSE,FALSE,FALSE,FALSE,FALSE,FALSE,FALSE,FALSE,FALSE,FALSE,FALSE,FALSE,FALSE,FALSE,FALSE,TRUE,A,D,N,D,N,D,D,D,A,D,D,A,SD,SD,D,A,D,D,D,SD,A,Female,51-55,N/A,N/A,N/A,N/A,N/A
223,Contract Expired,2012,2011,2011,Public Servant,AO5-AO7,Central Office,Education Queensland,Temporary Full-time,FALSE,FALSE,FALSE,FALSE,FALSE,FALSE,FALSE,FALSE,FALSE,FALSE,FALSE,FALSE,FALSE,FALSE,FALSE,FALSE,FALSE,TRUE,A,A,A,A,A,N,A,A,A,A,A,A,A,A,SA,A,A,A,N,N,N,Female,36-40,N/A,N/A,N/A,N/A,N/A
224,Resignation-Other reasons,2012,1996,2006,Teacher,Primary,Metropolitan,,Permanent Full-time,FALSE,FALSE,TRUE,FALSE,TRUE,FALSE,FALSE,TRUE,FALSE,FALSE,FALSE,FALSE,FALSE,FALSE,FALSE,FALSE,FALSE,FALSE,A,N,SD,SD,A,D,D,SD,D,SD,SD,SD,SD,SD,SD,SD,SD,SD,D,SD,SD,,51-55,N/A,N/A,N/A,N/A,N/A
225,Resignation-Other reasons,2012,2009,2009,Teacher,Secondary,Not Stated,,Permanent Full-time,FALSE,FALSE,FALSE,FALSE,FALSE,FALSE,FALSE,FALSE,FALSE,FALSE,FALSE,FALSE,FALSE,FALSE,FALSE,TRUE,TRUE,FALSE,A,A,D,N,A,SD,SD,D,A,A,A,A,D,D,A,A,A,A,A,D,D,Female,36-40,N/A,N/A,N/A,N/A,N/A
226,Age Retirement,2012,1997,1997,Cleaner,,South East,,Permanent Part-time,FALSE,FALSE,FALSE,FALSE,FALSE,FALSE,FALSE,FALSE,FALSE,FALSE,FALSE,FALSE,FALSE,FALSE,FALSE,TRUE,FALSE,FALSE,N,D,N,N,N,N,N,N,N,N,N,D,N,N,N,N,N,N,N,D,D,Female,56-60,N/A,N/A,N/A,N/A,N/A
227,Contract Expired,2012,2010,2011,Public Servant,A01-A04,Central Office,,Temporary Full-time,FALSE,FALSE,FALSE,FALSE,FALSE,FALSE,FALSE,FALSE,FALSE,FALSE,FALSE,FALSE,FALSE,FALSE,FALSE,FALSE,FALSE,TRUE,N,D,A,A,SA,SA,SA,A,SA,A,A,N/A,D,A,D,A,A,A,A,D,D,Female,26-30,N/A,N/A,N/A,N/A,N/A
228,Voluntary Early Retirement (VER),2012,1992,2008,Public Servant,AO8 and Above,Central Office,Human Resources,Permanent Full-time,FALSE,FALSE,FALSE,FALSE,TRUE,FALSE,FALSE,FALSE,TRUE,FALSE,FALSE,FALSE,FALSE,FALSE,FALSE,TRUE,FALSE,FALSE,D,N,N,A,N,D,A,N,A,A,N,A,N,N,N,A,A,A,A,D,D,Male,46-50,N/A,N/A,N/A,N/A,N/A
229,Resignation-Other reasons,2012,1994,2012,Cleaner,Primary,South East,,Permanent Part-time,FALSE,FALSE,FALSE,FALSE,FALSE,FALSE,FALSE,FALSE,FALSE,FALSE,TRUE,TRUE,FALSE,FALSE,FALSE,TRUE,FALSE,FALSE,SA,N/A,N,A,N,SD,D,SA,D,A,A,A,N/A,A,N/A,SA,A,A,A,A,SA,Male,56-60,N/A,N/A,N/A,N/A,N/A
230,Age Retirement,2012,2008,2012,Teacher,Secondary,Darling Downs South West,,Temporary Part-time,FALSE,FALSE,FALSE,FALSE,FALSE,FALSE,FALSE,FALSE,FALSE,FALSE,TRUE,FALSE,FALSE,FALSE,FALSE,TRUE,FALSE,FALSE,N,D,A,N,D,N,A,A,SA,A,D,N,N,N,N,A,A,A,A,A,A,Female,56-60,N/A,N/A,N/A,N/A,N/A
231,Voluntary Early Retirement (VER),2012,1995,2012,Public Servant,AO5-AO7,North Coast,,Permanent Full-time,FALSE,FALSE,FALSE,FALSE,FALSE,FALSE,FALSE,FALSE,FALSE,FALSE,FALSE,FALSE,FALSE,FALSE,FALSE,FALSE,FALSE,TRUE,A,SA,N,A,SA,A,A,A,SA,SA,SA,A,SA,SA,SA,N,A,A,N,SA,A,Female,61 or older,N/A,N/A,N/A,N/A,N/A
232,Voluntary Early Retirement (VER),2012,1970,2002,Public Servant,AO5-AO7,North Coast,,Permanent Full-time,FALSE,FALSE,FALSE,FALSE,FALSE,FALSE,FALSE,FALSE,FALSE,FALSE,FALSE,FALSE,TRUE,FALSE,FALSE,TRUE,FALSE,FALSE,A,D,N,N,SA,A,A,N,A,A,A,A,D,D,A,A,A,N,N,N,A,Male,56-60,N/A,N/A,N/A,N/A,N/A
233,Other,2012,1979,2005,Public Servant,A01-A04,Central Office,Education Queensland,Permanent Full-time,FALSE,FALSE,FALSE,FALSE,FALSE,FALSE,FALSE,FALSE,FALSE,FALSE,FALSE,FALSE,FALSE,FALSE,FALSE,FALSE,FALSE,TRUE,N,SD,SD,M,N,N,N,SD,N,N,N,A,SD,SD,SD,N,N,N,N,A,N,Female,36-40,n/a,N/A,N/A,N/A,N/A
234,Voluntary Early Retirement (VER),2012,1985,1998,Public Servant,A01-A04,Central Queensland,,Permanent Full-time,FALSE,FALSE,FALSE,FALSE,FALSE,FALSE,FALSE,FALSE,FALSE,FALSE,FALSE,FALSE,FALSE,FALSE,FALSE,TRUE,FALSE,FALSE,A,N,A,A,SA,SA,A,N,A,SA,SA,A,N,A,N,N,A,SA,SA,A,A,Female,46-50,N/A,N/A,N/A,N/A,N/A
235,Age Retirement,2012,2000,2000,Cleaner,,Central Office,Education Queensland,Permanent Full-time,FALSE,FALSE,FALSE,FALSE,FALSE,FALSE,FALSE,FALSE,FALSE,FALSE,FALSE,FALSE,FALSE,FALSE,FALSE,FALSE,FALSE,TRUE,A,N/A,A,A,A,A,A,A,A,A,A,N/A,N/A,N/A,N/A,A,A,A,A,N/A,A,Female,61 or older,N/A,N/A,N/A,N/A,N/A
236,Resignation-Move overseas/interstate,2012,2009,2009,Technical Officer,,Central Queensland,,Permanent Full-time,FALSE,FALSE,FALSE,FALSE,FALSE,FALSE,FALSE,FALSE,FALSE,FALSE,FALSE,TRUE,TRUE,FALSE,FALSE,FALSE,FALSE,FALSE,SD,SD,A,D,D,D,N/A,D,A,SA,SA,N/A,N/A,N/A,SD,A,D,D,N,A,D,Female,21-25,N/A,N/A,N/A,N/A,N/A
237,Age Retirement,2012,1979,1979,Teacher,Secondary,Not Stated,,Permanent Full-time,FALSE,FALSE,FALSE,FALSE,FALSE,FALSE,FALSE,FALSE,FALSE,FALSE,FALSE,FALSE,FALSE,FALSE,FALSE,TRUE,FALSE,FALSE,A,N,A,A,N,D,N,A,A,A,A,A,N,N,A,A,A,A,A,D,A,Female,51-55,N/A,N/A,N/A,N/A,N/A
238,Age Retirement,2012,1994,1998,Cleaner,,South East,,Permanent Full-time,FALSE,FALSE,FALSE,FALSE,FALSE,FALSE,FALSE,FALSE,FALSE,FALSE,FALSE,FALSE,FALSE,FALSE,FALSE,FALSE,FALSE,TRUE,A,A,A,A,A,A,A,A,A,A,A,M,A,N,A,D,A,N,SD,SD,N,Male,61 or older,N/A,N/A,N/A,N/A,N/A
239,Voluntary Early Retirement (VER),2012,1976,2003,Public Servant,AO5-AO7,North Coast,Human Resources,Permanent Part-time,FALSE,TRUE,FALSE,FALSE,FALSE,FALSE,FALSE,FALSE,FALSE,FALSE,FALSE,FALSE,FALSE,FALSE,FALSE,TRUE,FALSE,FALSE,A,SA,A,A,A,A,A,A,A,A,SA,SA,A,A,A,SA,SA,SA,SA,SA,SA,Male,51-55,N/A,N/A,N/A,N/A,N/A
240,Age Retirement,2012,1970,1995,Teacher,Primary,Metropolitan,,Permanent Full-time,FALSE,FALSE,FALSE,FALSE,FALSE,FALSE,FALSE,FALSE,FALSE,FALSE,FALSE,FALSE,FALSE,FALSE,FALSE,TRUE,FALSE,FALSE,SA,N,A,A,D,SD,N,A,A,A,A,A,N,N,N,D,D,A,A,D,A,Female,61 or older,N/A,N/A,N/A,N/A,N/A
241,Age Retirement,2013,1970,2001,School Principal,,Central Office,Education Queensland,Permanent Full-time,FALSE,FALSE,FALSE,FALSE,FALSE,FALSE,FALSE,FALSE,FALSE,FALSE,FALSE,FALSE,FALSE,FALSE,FALSE,FALSE,FALSE,TRUE,A,A,A,N,A,N,A,D,A,N,A,SA,N,A,A,A,N,M,A,D,A,Female,61 or older,N/A,N/A,N/A,N/A,N/A
242,Ill Health Retirement,2012,1993,1993,Schools Officer,,South East,Pacific Pines SHS,Permanent Full-time,FALSE,FALSE,FALSE,FALSE,FALSE,FALSE,FALSE,FALSE,FALSE,FALSE,FALSE,FALSE,FALSE,TRUE,FALSE,FALSE,FALSE,FALSE,SD,SD,SD,SD,D,N,D,SD,SD,SD,SD,SD,SD,SD,SD,SD,SD,SD,SD,SD,A,Male,56-60,N/A,N/A,N/A,Yes,N/A
243,Age Retirement,2013,1980,1995,Public Servant,A01-A04,Metropolitan,,Permanent Full-time,FALSE,FALSE,FALSE,FALSE,FALSE,FALSE,FALSE,FALSE,FALSE,FALSE,FALSE,FALSE,FALSE,FALSE,FALSE,TRUE,FALSE,FALSE,A,N,N,A,N,A,D,N,N,A,A,N,D,D,N,A,A,A,A,A,A,Male,51-55,N/A,N/A,N/A,N/A,N/A
244,Age Retirement,2012,1981,1981,Teacher Aide,,Central Queensland,Calliope State School,Permanent Part-time,FALSE,FALSE,FALSE,FALSE,FALSE,FALSE,FALSE,FALSE,FALSE,FALSE,FALSE,FALSE,FALSE,FALSE,FALSE,FALSE,FALSE,TRUE,A,A,A,A,A,A,A,A,A,A,A,M,M,M,A,A,A,A,A,A,M,Female,61 or older,N/A,N/A,N/A,N/A,N/A
245,Voluntary Early Retirement (VER),2012,1967,Not Stated,Public Servant,AO5-AO7,North Coast,,Permanent Full-time,FALSE,FALSE,FALSE,FALSE,FALSE,FALSE,FALSE,FALSE,FALSE,FALSE,FALSE,FALSE,FALSE,FALSE,FALSE,FALSE,FALSE,TRUE,N,A,A,A,A,A,A,A,A,A,SD,A,A,A,N,A,A,A,A,A,A,Female,61 or older,N/A,N/A,N/A,N/A,N/A
246,Voluntary Early Retirement (VER),2012,1990,1992,Public Servant,A01-A04,Central Queensland,,Permanent Part-time,FALSE,FALSE,FALSE,FALSE,FALSE,FALSE,FALSE,FALSE,FALSE,FALSE,FALSE,FALSE,FALSE,FALSE,FALSE,FALSE,FALSE,TRUE,A,A,A,A,A,A,A,A,A,A,A,A,N,N,A,N,A,N,N,A,A,Female,61 or older,N/A,N/A,N/A,N/A,N/A
247,Voluntary Early Retirement (VER),2012,1975,1988,Public Servant,A01-A04,South East,,Permanent Full-time,FALSE,FALSE,FALSE,FALSE,FALSE,FALSE,FALSE,FALSE,FALSE,FALSE,FALSE,FALSE,FALSE,FALSE,FALSE,TRUE,FALSE,FALSE,A,N,SA,N,A,A,A,A,A,A,A,D,A,A,A,A,A,A,A,A,N,Female,51-55,N/A,N/A,N/A,N/A,Yes
248,Resignation-Move overseas/interstate,2013,2007,2007,"School Based Professional Staff (Therapist, nurse, etc)",PO1-PO4,South East,,Permanent Full-time,FALSE,FALSE,FALSE,FALSE,FALSE,FALSE,FALSE,FALSE,FALSE,FALSE,FALSE,TRUE,TRUE,FALSE,FALSE,FALSE,FALSE,FALSE,A,D,D,A,A,N,A,A,A,A,A,A,A,A,A,A,A,A,A,A,N,Female,26-30,N/A,N/A,N/A,N/A,N/A
249,Resignation-Move overseas/interstate,2012,2011,2011,Teacher,Primary,Far North Queensland,,Temporary Full-time,FALSE,FALSE,FALSE,FALSE,FALSE,FALSE,FALSE,FALSE,FALSE,FALSE,FALSE,TRUE,FALSE,FALSE,FALSE,FALSE,FALSE,FALSE,A,SD,D,SA,SA,N,SA,SA,A,SA,SA,SA,SA,SA,SA,N,SA,A,N,A,N,Male,31-35,N/A,N/A,N/A,N/A,N/A
250,Contract Expired,2012,2011,2012,Teacher Aide,,Central Queensland,,Permanent Full-time,FALSE,FALSE,FALSE,FALSE,FALSE,FALSE,FALSE,FALSE,FALSE,FALSE,FALSE,FALSE,FALSE,FALSE,FALSE,FALSE,FALSE,TRUE,A,D,A,N,A,A,A,A,A,A,A,N,N,N,N,A,A,A,N,A,A,Female,46-50,Yes,N/A,N/A,N/A,N/A
251,Resignation-Other reasons,2013,2006,2006,Teacher,Primary,Not Stated,,Permanent Full-time,FALSE,FALSE,FALSE,FALSE,FALSE,FALSE,FALSE,FALSE,TRUE,FALSE,FALSE,FALSE,TRUE,FALSE,FALSE,FALSE,FALSE,FALSE,SA,A,D,A,SA,A,A,SA,SA,SA,SA,SA,A,A,A,A,A,A,A,N,SA,Male,26-30,N/A,N/A,N/A,N/A,N/A
252,Age Retirement,2012,1989,2008,Teacher,Primary,North Queensland,,Permanent Part-time,FALSE,FALSE,FALSE,FALSE,FALSE,FALSE,FALSE,FALSE,FALSE,FALSE,FALSE,FALSE,FALSE,TRUE,FALSE,FALSE,FALSE,FALSE,A,N,A,N,A,SA,A,SA,A,A,A,N,N,A,A,A,A,A,A,N,SA,Female,61 or older,N/A,N/A,N/A,N/A,Yes
253,Age Retirement,2012,2011,2011,Teacher,Secondary,Far North Queensland,,Permanent Full-time,FALSE,FALSE,FALSE,FALSE,FALSE,FALSE,FALSE,FALSE,FALSE,FALSE,FALSE,FALSE,FALSE,FALSE,FALSE,FALSE,TRUE,FALSE,A,N,N,A,A,N,N,A,A,A,A,N,N,N,N,A,A,A,A,A,A,Male,61 or older,N/A,N/A,N/A,N/A,N/A
254,Age Retirement,2012,1996,1996,Cleaner,,North Coast,,Permanent Part-time,FALSE,FALSE,FALSE,FALSE,FALSE,TRUE,FALSE,FALSE,FALSE,FALSE,FALSE,FALSE,FALSE,FALSE,FALSE,FALSE,TRUE,FALSE,A,N,N,N,A,A,N,A,A,A,A,A,N,N,N,N,A,A,A,D,D,Female,51-55,N/A,N/A,N/A,N/A,N/A
255,Resignation-Other reasons,2012,2000,2012,Teacher,Secondary,Central Queensland,,Permanent Part-time,FALSE,TRUE,FALSE,FALSE,FALSE,FALSE,FALSE,FALSE,FALSE,FALSE,TRUE,FALSE,FALSE,FALSE,FALSE,TRUE,FALSE,FALSE,A,A,A,A,M,D,A,A,A,A,A,A,A,N,A,A,A,A,A,A,A,Female,31-35,N/A,N/A,N/A,N/A,N/A
256,Resignation-Other employer,2012,2008,2012,Cleaner,,South East,,Permanent Part-time,FALSE,TRUE,FALSE,FALSE,FALSE,FALSE,FALSE,TRUE,FALSE,FALSE,FALSE,FALSE,FALSE,FALSE,FALSE,FALSE,FALSE,FALSE,N,N,N,N,N,N,N,N,N,N,N,N,SD,SD,SD,SD,SD,SD,SD,A,A,Female,46-50,N/A,N/A,N/A,N/A,N/A
257,Resignation-Move overseas/interstate,2012,2005,2005,Teacher Aide,,Not Stated,,Permanent Part-time,FALSE,FALSE,FALSE,FALSE,FALSE,FALSE,FALSE,FALSE,TRUE,FALSE,FALSE,FALSE,FALSE,FALSE,FALSE,FALSE,FALSE,FALSE,SA,SA,A,A,A,SA,SA,SA,SA,SA,SA,SA,A,A,A,N,SA,A,SA,D,D,Female,46-50,N/A,N/A,N/A,N/A,N/A
258,Resignation-Other reasons,2012,2012,2012,Public Servant,A01-A04,Darling Downs South West,,Temporary Part-time,FALSE,FALSE,FALSE,FALSE,FALSE,FALSE,FALSE,FALSE,FALSE,FALSE,FALSE,FALSE,FALSE,FALSE,FALSE,FALSE,FALSE,TRUE,A,N,SA,N/A,A,A,A,A,SA,SA,A,N/A,SA,A,A,SA,SA,A,N,N,SA,Female,21-25,N/A,N/A,N/A,N/A,N/A
259,Resignation-Other employer,2012,2007,2007,Teacher,Secondary,Central Office,Education Queensland,Permanent Full-time,FALSE,TRUE,FALSE,FALSE,FALSE,FALSE,TRUE,FALSE,FALSE,TRUE,FALSE,FALSE,FALSE,FALSE,FALSE,FALSE,FALSE,FALSE,A,D,D,D,N,N,SD,SD,SA,A,SA,A,D,D,A,A,A,A,A,D,N,Female,26-30,N/A,N/A,N/A,N/A,N/A
260,Resignation-Move overseas/interstate,2012,2008,2008,Schools Officer,,Metropolitan,,Permanent Full-time,FALSE,FALSE,FALSE,TRUE,FALSE,FALSE,TRUE,FALSE,FALSE,TRUE,FALSE,FALSE,FALSE,FALSE,FALSE,FALSE,FALSE,FALSE,D,SD,N,N,A,SA,D,D,D,SA,SA,SD,SD,A,D,A,A,D,D,A,SD,Male,41-45,N/A,N/A,N/A,N/A,N/A
261,Age Retirement,2012,1996,1996,Cleaner,,South East,,Permanent Full-time,FALSE,FALSE,FALSE,FALSE,FALSE,FALSE,FALSE,FALSE,FALSE,FALSE,FALSE,FALSE,FALSE,FALSE,FALSE,FALSE,FALSE,TRUE,N/A,N/A,A,A,A,A,A,A,A,A,A,N/A,N/A,N/A,N/A,A,A,A,A,N/A,A,Female,61 or older,N/A,N/A,N/A,N/A,N/A
262,Ill Health Retirement,2012,2011,2011,Schools Officer,,Central Queensland,,Permanent Full-time,FALSE,FALSE,FALSE,FALSE,FALSE,FALSE,FALSE,FALSE,FALSE,FALSE,FALSE,FALSE,FALSE,TRUE,FALSE,FALSE,FALSE,FALSE,A,A,A,A,A,A,A,A,A,A,A,A,A,A,A,A,A,A,A,A,A,Male,56-60,N/A,N/A,N/A,N/A,N/A
263,Resignation-Move overseas/interstate,2013,2011,2011,Teacher,Secondary,South East,,Permanent Full-time,FALSE,TRUE,FALSE,FALSE,FALSE,FALSE,FALSE,FALSE,FALSE,FALSE,FALSE,TRUE,FALSE,FALSE,FALSE,TRUE,FALSE,FALSE,A,D,N,N,A,A,N,A,SA,A,SA,A,SA,A,A,N,N,A,A,D,N,Male,36-40,N/A,N/A,N/A,N/A,N/A
264,Resignation-Move overseas/interstate,2013,2009,2012,Teacher,Special Education,North Queensland,,Permanent Full-time,FALSE,FALSE,FALSE,FALSE,FALSE,FALSE,FALSE,FALSE,FALSE,FALSE,FALSE,TRUE,FALSE,FALSE,FALSE,FALSE,FALSE,FALSE,SA,SA,SA,SA,SA,A,SA,SA,SA,SA,A,SA,A,SA,A,A,A,A,SA,A,A,Female,21-25,N/A,N/A,N/A,N/A,N/A
265,Resignation-Other reasons,2012,2011,2011,School Administrative Staff,,Darling Downs South West,,Permanent Part-time,FALSE,FALSE,FALSE,FALSE,FALSE,FALSE,FALSE,FALSE,FALSE,FALSE,TRUE,FALSE,FALSE,FALSE,FALSE,FALSE,FALSE,FALSE,A,A,A,A,A,A,A,A,A,A,A,A,A,A,A,A,A,A,A,A,A,Female,20 or younger,Yes,N/A,N/A,N/A,N/A
266,Age Retirement,2012,2007,2007,Schools Officer,,Not Stated,,Permanent Part-time,FALSE,FALSE,FALSE,FALSE,FALSE,FALSE,FALSE,FALSE,FALSE,FALSE,FALSE,FALSE,FALSE,FALSE,FALSE,FALSE,FALSE,TRUE,A,N,A,A,A,A,A,A,A,SA,A,N,N,A,N,A,SA,A,A,A,SA,Male,61 or older,N/A,N/A,N/A,N/A,N/A
267,Age Retirement,2013,1989,1989,Cleaner,,Not Stated,,Permanent Part-time,FALSE,FALSE,FALSE,FALSE,FALSE,FALSE,FALSE,FALSE,FALSE,FALSE,FALSE,FALSE,FALSE,FALSE,FALSE,TRUE,FALSE,FALSE,A,N/A,A,A,M,A,A,A,A,A,A,A,N/A,A,N/A,A,A,A,A,M,A,Female,56-60,N/A,N/A,N/A,N/A,N/A
268,Resignation-Other employer,2012,2011,2011,Cleaner,,Darling Downs South West,,Permanent Part-time,FALSE,FALSE,FALSE,FALSE,FALSE,FALSE,FALSE,FALSE,FALSE,FALSE,TRUE,FALSE,FALSE,FALSE,FALSE,FALSE,FALSE,FALSE,SA,SA,SA,SA,SA,SA,SA,SA,SA,SA,SA,SA,N/A,SA,SA,SA,SA,SA,SA,SA,SA,Female,36-40,N/A,N/A,N/A,N/A,N/A
269,Resignation-Move overseas/interstate,2012,2011,2012,Teacher,Secondary,Central Queensland,,Permanent Full-time,FALSE,FALSE,FALSE,FALSE,FALSE,FALSE,FALSE,FALSE,FALSE,FALSE,TRUE,TRUE,TRUE,FALSE,FALSE,FALSE,FALSE,FALSE,A,A,A,A,A,A,SA,A,A,SA,A,A,A,A,A,A,A,A,A,N,SA,Female,31-35,N/A,N/A,N/A,N/A,N/A
270,Resignation-Other reasons,2012,2010,2010,Teacher,Secondary,Central Queensland,,Permanent Full-time,FALSE,FALSE,FALSE,FALSE,FALSE,FALSE,FALSE,FALSE,FALSE,FALSE,FALSE,FALSE,FALSE,FALSE,FALSE,FALSE,FALSE,TRUE,A,A,A,A,A,A,N,A,A,A,A,N,A,A,A,A,A,A,A,N,N,Female,26-30,N/A,N/A,N/A,N/A,N/A
271,Age Retirement,2012,1981,1981,Teacher Aide,,Metropolitan,,Permanent Part-time,FALSE,FALSE,FALSE,FALSE,FALSE,FALSE,FALSE,FALSE,FALSE,FALSE,FALSE,FALSE,FALSE,FALSE,FALSE,FALSE,FALSE,TRUE,N,M,A,A,A,A,N,N,N,N,A,N,D,D,D,N,N,A,N,A,A,Female,61 or older,N/A,N/A,N/A,N/A,N/A
272,Termination,2012,1970,2005,Public Servant,AO8 and Above,Central Office,Training and Tertiary Education Queensland,Permanent Full-time,FALSE,FALSE,FALSE,TRUE,FALSE,FALSE,TRUE,FALSE,FALSE,FALSE,FALSE,FALSE,FALSE,FALSE,FALSE,FALSE,FALSE,FALSE,D,SD,SD,SD,D,N,SD,SD,SD,SD,SD,SD,SD,SD,SD,SD,SD,D,SD,N,D,Male,61 or older,N/A,N/A,N/A,N/A,N/A
273,Ill Health Retirement,2012,1972,1978,Head of Curriculum/Head of Special Education,,Metropolitan,,Permanent Full-time,FALSE,FALSE,FALSE,FALSE,FALSE,FALSE,FALSE,FALSE,FALSE,FALSE,FALSE,FALSE,FALSE,TRUE,FALSE,FALSE,TRUE,FALSE,A,A,A,N,A,A,N,N,A,A,A,A,N,A,A,A,A,A,A,N,A,Male,61 or older,N/A,N/A,N/A,N/A,N/A
274,Resignation-Other reasons,2012,1991,2007,Teacher,Primary,Central Queensland,,Permanent Part-time,FALSE,FALSE,FALSE,FALSE,FALSE,FALSE,FALSE,FALSE,FALSE,FALSE,FALSE,FALSE,FALSE,FALSE,FALSE,FALSE,FALSE,TRUE,SA,A,A,A,A,A,A,A,A,A,N/A,A,A,A,A,A,A,A,A,A,A,Female,56-60,N/A,N/A,N/A,N/A,N/A
275,Resignation-Other employer,2013,2011,2011,Public Servant,A01-A04,Not Stated,,Temporary Part-time,FALSE,TRUE,FALSE,FALSE,FALSE,FALSE,FALSE,FALSE,FALSE,FALSE,FALSE,FALSE,FALSE,FALSE,FALSE,FALSE,FALSE,FALSE,SA,SD,A,SA,A,SA,SA,SA,SA,SA,SA,A,SA,SA,SA,A,A,A,N,SA,SA,Female,36-40,N/A,N/A,N/A,N/A,N/A
276,Other,2012,2001,2005,Public Servant,AO5-AO7,Central Office,"Policy, Research, Legislation",Permanent Full-time,FALSE,FALSE,FALSE,FALSE,FALSE,FALSE,FALSE,FALSE,FALSE,FALSE,FALSE,FALSE,FALSE,FALSE,FALSE,FALSE,FALSE,TRUE,A,SD,SD,SA,SA,A,A,A,SA,D,SD,A,SA,SA,N,A,A,A,A,SA,SA,Female,51-55,N/A,N/A,N/A,N/A,Yes
277,Age Retirement,2012,1986,1986,Teacher Aide,,Central Office,Education Queensland,Permanent Part-time,FALSE,FALSE,FALSE,FALSE,FALSE,FALSE,FALSE,FALSE,FALSE,FALSE,FALSE,FALSE,FALSE,FALSE,FALSE,TRUE,FALSE,FALSE,SA,N/A,A,A,A,SA,A,A,A,SA,SA,SA,A,A,A,A,A,A,A,A,A,Female,61 or older,N/A,N/A,N/A,N/A,N/A
278,Voluntary Early Retirement (VER),2012,1992,1998,School Administrative Staff,,Darling Downs South West,,Permanent Part-time,FALSE,FALSE,FALSE,TRUE,TRUE,FALSE,FALSE,FALSE,FALSE,FALSE,FALSE,FALSE,FALSE,FALSE,FALSE,FALSE,FALSE,FALSE,N,D,SD,SD,SD,SA,A,SD,D,SD,D,D,D,D,D,SD,SD,D,SD,D,SD,Female,56-60,N/A,N/A,N/A,N/A,N/A
279,Voluntary Early Retirement (VER),2012,2009,2010,Public Servant,A01-A04,North Coast,,Permanent Full-time,FALSE,FALSE,FALSE,FALSE,FALSE,FALSE,FALSE,FALSE,FALSE,FALSE,FALSE,FALSE,FALSE,FALSE,FALSE,FALSE,FALSE,TRUE,A,N,D,A,A,A,A,M,A,A,D,A,A,A,A,A,A,A,A,D,D,Female,31-35,N/A,N/A,N/A,N/A,N/A
280,Resignation-Other reasons,2012,1992,1992,Cleaner,,Not Stated,,Permanent Part-time,FALSE,FALSE,TRUE,FALSE,TRUE,FALSE,FALSE,FALSE,FALSE,FALSE,FALSE,FALSE,FALSE,TRUE,FALSE,FALSE,FALSE,FALSE,SA,D,SD,SD,D,A,SD,SD,SD,D,A,D,SD,SD,SD,SD,D,SD,D,SD,SD,Female,61 or older,N/A,N/A,N/A,N/A,N/A
281,Age Retirement,2012,1997,1997,Cleaner,,North Coast,,Permanent Full-time,FALSE,FALSE,FALSE,FALSE,FALSE,FALSE,FALSE,FALSE,FALSE,FALSE,FALSE,FALSE,FALSE,FALSE,FALSE,FALSE,FALSE,FALSE,SA,SA,A,A,A,A,A,A,A,A,A,A,SA,SA,A,SA,A,A,A,A,A,Female,51-55,N/A,N/A,N/A,N/A,N/A
282,Age Retirement,2013,1978,1978,Teacher,Primary,Metropolitan,,Permanent Full-time,FALSE,FALSE,TRUE,TRUE,TRUE,FALSE,FALSE,FALSE,FALSE,FALSE,FALSE,FALSE,FALSE,FALSE,FALSE,FALSE,FALSE,FALSE,A,N,SD,SD,SA,A,SD,SD,SA,N,N,D,SD,A,N,SD,SD,A,N,SD,D,Female,51-55,N/A,N/A,N/A,N/A,N/A
283,Voluntary Early Retirement (VER),2012,2003,2012,Public Servant,AO5-AO7,Central Office,Infrastructure,Permanent Full-time,FALSE,TRUE,FALSE,FALSE,FALSE,FALSE,FALSE,TRUE,FALSE,TRUE,FALSE,FALSE,FALSE,FALSE,FALSE,FALSE,FALSE,FALSE,N,A,N,A,A,A,A,A,A,A,A,N/A,N,A,A,N,A,N,N,N,N,Female,26-30,N/A,N/A,N/A,N/A,N/A
284,Resignation-Other employer,2012,2007,2007,Teacher,Secondary,North Coast,,Permanent Full-time,FALSE,TRUE,FALSE,FALSE,FALSE,FALSE,FALSE,FALSE,FALSE,TRUE,FALSE,FALSE,FALSE,FALSE,FALSE,FALSE,FALSE,FALSE,N,N,A,A,N,D,A,D,SA,SA,SA,SA,A,A,N,A,A,A,N,A,A,Female,26-30,N/A,N/A,N/A,N/A,N/A
285,Resignation-Other employer,2012,2007,2008,Teacher,Secondary,North Coast,,Permanent Full-time,FALSE,TRUE,FALSE,FALSE,FALSE,FALSE,FALSE,FALSE,TRUE,FALSE,FALSE,FALSE,FALSE,FALSE,FALSE,FALSE,FALSE,FALSE,A,D,D,D,D,D,D,A,SA,SA,SD,D,A,SA,A,D,A,A,A,A,A,Female,31-35,N/A,N/A,N/A,N/A,N/A
286,Resignation-Move overseas/interstate,2012,2012,2012,Cleaner,,Not Stated,,Permanent Full-time,FALSE,FALSE,FALSE,FALSE,FALSE,FALSE,FALSE,FALSE,FALSE,FALSE,FALSE,TRUE,FALSE,FALSE,FALSE,FALSE,FALSE,FALSE,A,N/A,A,N/A,A,A,A,SA,SA,A,A,N/A,N/A,N/A,N/A,A,A,A,A,N/A,A,Female,,N/A,N/A,N/A,N/A,N/A
287,Resignation-Other employer,2012,2012,2012,Teacher Aide,,Not Stated,,Permanent Part-time,FALSE,TRUE,FALSE,FALSE,FALSE,FALSE,FALSE,FALSE,FALSE,FALSE,FALSE,FALSE,FALSE,FALSE,FALSE,FALSE,FALSE,FALSE,SA,SA,SA,SA,SA,SA,SA,SA,SA,SA,SA,SA,SA,SA,SA,SA,SA,SA,SA,SA,SA,Female,36-40,N/A,N/A,N/A,N/A,N/A
288,Age Retirement,2012,2003,2003,Cleaner,,South East,,Permanent Full-time,FALSE,FALSE,FALSE,FALSE,FALSE,FALSE,FALSE,FALSE,FALSE,FALSE,FALSE,FALSE,FALSE,FALSE,FALSE,FALSE,FALSE,TRUE,N/A,N/A,A,A,A,A,A,A,A,A,A,N/A,N/A,N/A,N/A,A,A,A,A,N/A,A,Male,61 or older,N/A,N/A,N/A,N/A,N/A
289,Resignation-Move overseas/interstate,2013,Not Stated,Not Stated,Public Servant,AO5-AO7,Central Office,Education Queensland,Permanent Full-time,FALSE,FALSE,FALSE,TRUE,FALSE,FALSE,TRUE,FALSE,FALSE,FALSE,FALSE,FALSE,TRUE,FALSE,FALSE,FALSE,TRUE,FALSE,D,N,D,N,N,N,SD,N,N,A,N,A,N,N,D,D,N,D,N,N,N,Female,26-30,N/A,N/A,N/A,N/A,N/A
290,Age Retirement,2012,1974,1989,Teacher,Primary,North Queensland,,Permanent Part-time,FALSE,FALSE,FALSE,FALSE,FALSE,FALSE,FALSE,FALSE,FALSE,FALSE,FALSE,FALSE,FALSE,FALSE,FALSE,TRUE,TRUE,FALSE,A,N,A,A,A,N,N,N,A,A,A,A,A,A,N,A,A,A,A,N,N,Female,61 or older,N/A,N/A,N/A,N/A,N/A
291,Age Retirement,2013,1994,1996,Cleaner,,Metropolitan,,Permanent Part-time,FALSE,FALSE,FALSE,FALSE,FALSE,FALSE,FALSE,FALSE,FALSE,FALSE,FALSE,FALSE,FALSE,FALSE,FALSE,TRUE,FALSE,FALSE,A,A,D,N,A,A,A,N,N,N,A,N,N,N,N,D,A,A,A,N,A,Male,61 or older,N/A,N/A,N/A,N/A,N/A
292,Resignation-Other employer,2013,Not Stated,Not Stated,Teacher Aide,,Not Stated,,Permanent Part-time,FALSE,TRUE,FALSE,FALSE,FALSE,FALSE,FALSE,FALSE,FALSE,FALSE,FALSE,FALSE,FALSE,FALSE,FALSE,FALSE,FALSE,FALSE,A,N/A,A,A,A,A,A,A,A,A,A,A,N/A,A,A,N,A,N,A,N/A,SA,Female,56-60,N/A,N/A,N/A,N/A,N/A
293,Age Retirement,2013,1983,1983,Teacher,Primary,Not Stated,,Permanent Full-time,FALSE,FALSE,FALSE,FALSE,FALSE,FALSE,FALSE,FALSE,FALSE,FALSE,FALSE,FALSE,FALSE,FALSE,FALSE,FALSE,FALSE,TRUE,A,A,A,A,A,A,N,A,N,N,N,N,N,N,N,N,N,N,N,N,N,,56-60,N/A,N/A,N/A,N/A,N/A
294,Resignation-Move overseas/interstate,2012,Not Stated,Not Stated,Schools Officer,,South East,,Permanent Part-time,FALSE,FALSE,FALSE,FALSE,FALSE,FALSE,FALSE,FALSE,FALSE,FALSE,TRUE,TRUE,TRUE,FALSE,FALSE,FALSE,FALSE,FALSE,A,SA,SA,SA,SA,SA,SA,SA,SA,SA,SA,SA,M,SA,M,SA,SA,SA,SA,SA,SA,,61 or older,N/A,N/A,N/A,N/A,N/A
295,Voluntary Early Retirement (VER),2013,1992,1992,Professional Officer,PO1-PO4,South East,,Permanent Full-time,FALSE,FALSE,FALSE,FALSE,FALSE,FALSE,FALSE,FALSE,FALSE,FALSE,FALSE,FALSE,FALSE,FALSE,FALSE,FALSE,FALSE,TRUE,A,SD,A,N,SA,SA,D,A,A,SA,A,A,SD,N,N,A,D,N,N,D,SD,Male,56-60,N/A,N/A,N/A,N/A,N/A
296,Resignation-Move overseas/interstate,2012,1980,2003,Teacher,Special Education,Central Office,,Permanent Full-time,FALSE,FALSE,FALSE,FALSE,FALSE,FALSE,FALSE,FALSE,FALSE,FALSE,FALSE,FALSE,TRUE,FALSE,FALSE,TRUE,FALSE,FALSE,A,N,A,A,A,A,A,A,A,N,N,N,D,D,D,N,N,N,N,N,N,Female,51-55,N/A,N/A,N/A,N/A,N/A
297,Resignation-Other employer,2012,2006,2009,Technical Officer,,North Coast,,Permanent Part-time,FALSE,TRUE,FALSE,FALSE,FALSE,FALSE,FALSE,FALSE,FALSE,FALSE,FALSE,FALSE,FALSE,FALSE,FALSE,FALSE,FALSE,FALSE,A,D,A,A,A,SA,A,SA,A,A,N,A,A,A,A,A,A,A,A,A,A,Male,41-45,N/A,N/A,N/A,N/A,N/A
298,Age Retirement,2012,1997,1997,Teacher Aide,,Darling Downs South West,,Permanent Full-time,FALSE,FALSE,FALSE,FALSE,FALSE,FALSE,FALSE,FALSE,FALSE,FALSE,FALSE,FALSE,TRUE,FALSE,FALSE,FALSE,FALSE,FALSE,A,SD,N,A,A,A,A,A,A,A,N,D,N,N,A,A,A,A,A,A,A,Female,61 or older,N/A,N/A,N/A,N/A,N/A
299,Other,2013,2012,2012,Teacher,Primary,Central Queensland,,Permanent Full-time,FALSE,FALSE,FALSE,FALSE,FALSE,FALSE,FALSE,FALSE,FALSE,FALSE,FALSE,FALSE,FALSE,TRUE,TRUE,FALSE,FALSE,FALSE,SA,SA,SA,SA,SA,SA,SA,SA,SA,SA,SA,SA,SA,SA,SA,SA,SA,SA,SA,SA,SA,Female,21-25,N/A,N/A,N/A,N/A,N/A
300,Age Retirement,2012,1990,1997,Public Servant,A01-A04,Central Queensland,,Permanent Full-time,FALSE,FALSE,FALSE,FALSE,FALSE,FALSE,FALSE,FALSE,FALSE,FALSE,FALSE,FALSE,FALSE,FALSE,FALSE,FALSE,FALSE,TRUE,SA,SA,A,A,A,A,A,A,A,SA,SA,SA,A,A,A,A,A,A,A,N,A,Female,56-60,N/A,N/A,N/A,N/A,N/A
301,Resignation-Move overseas/interstate,2012,1996,1996,Teacher,Primary,Darling Downs South West,,Permanent Part-time,FALSE,TRUE,FALSE,FALSE,FALSE,FALSE,FALSE,FALSE,FALSE,TRUE,FALSE,FALSE,TRUE,FALSE,FALSE,TRUE,FALSE,FALSE,N,D,D,N,D,A,D,D,A,N,SD,A,A,A,SA,D,N,A,A,D,A,Female,51-55,N/A,N/A,N/A,N/A,N/A
302,Resignation-Other employer,2012,Not Stated,Not Stated,School Administrative Staff,,Not Stated,,Permanent Part-time,FALSE,TRUE,FALSE,FALSE,FALSE,FALSE,FALSE,FALSE,FALSE,FALSE,FALSE,FALSE,FALSE,FALSE,FALSE,FALSE,FALSE,FALSE,N,N,D,A,A,SA,N,A,A,SA,SA,A,A,A,A,A,SA,A,A,A,A,Female,46-50,N/A,N/A,N/A,N/A,N/A
303,Age Retirement,2013,1988,1988,Cleaner,,Central Queensland,,Permanent Full-time,FALSE,FALSE,FALSE,FALSE,FALSE,FALSE,FALSE,FALSE,FALSE,FALSE,FALSE,FALSE,FALSE,FALSE,FALSE,TRUE,FALSE,FALSE,A,A,A,A,A,SA,A,A,A,A,A,A,N,N,N,A,A,A,A,A,D,Female,56-60,N/A,N/A,N/A,N/A,N/A
304,Resignation-Other reasons,2012,2005,2011,Cleaner,,South East,,Permanent Part-time,FALSE,FALSE,FALSE,TRUE,FALSE,FALSE,TRUE,FALSE,FALSE,FALSE,FALSE,FALSE,FALSE,FALSE,FALSE,FALSE,FALSE,FALSE,N,SD,SD,SD,D,N,SD,SD,SD,SD,D,SD,SD,SD,SD,SD,SD,D,SD,SD,SD,Male,51-55,N/A,N/A,N/A,N/A,N/A
305,Resignation-Other employer,2013,2009,2009,Teacher,Secondary,Central Queensland,,Permanent Full-time,FALSE,FALSE,FALSE,FALSE,FALSE,FALSE,FALSE,FALSE,FALSE,FALSE,FALSE,TRUE,FALSE,FALSE,FALSE,FALSE,FALSE,FALSE,A,A,SA,A,A,N,A,SA,A,A,A,A,A,A,A,A,A,A,A,A,A,Male,46-50,N/A,N/A,N/A,N/A,N/A
306,Contract Expired,2012,2011,2011,Public Servant,AO5-AO7,Central Office,Information and Technologies,Temporary Full-time,FALSE,FALSE,FALSE,FALSE,FALSE,FALSE,FALSE,FALSE,FALSE,FALSE,FALSE,FALSE,FALSE,FALSE,FALSE,FALSE,FALSE,TRUE,A,D,N,N/A,A,SA,A,N,SA,SA,A,A,A,A,SA,A,A,SA,SA,A,SD,Male,41-45,N/A,N/A,N/A,N/A,N/A
307,Contract Expired,2012,2011,2011,Public Servant,A01-A04,Central Office,Information and Technologies,Casual,FALSE,FALSE,FALSE,FALSE,FALSE,FALSE,FALSE,FALSE,FALSE,FALSE,FALSE,FALSE,FALSE,FALSE,FALSE,FALSE,FALSE,TRUE,A,N,A,A,A,A,A,A,A,A,A,A,N,A,A,A,A,A,A,N,N,Male,21-25,N/A,N/A,N/A,N/A,N/A
308,Age Retirement,2012,2007,2007,Cleaner,,Far North Queensland,,Permanent Full-time,FALSE,FALSE,FALSE,FALSE,FALSE,FALSE,FALSE,FALSE,FALSE,FALSE,FALSE,FALSE,FALSE,FALSE,FALSE,FALSE,FALSE,TRUE,SA,A,SA,SA,SA,SA,SA,SA,SA,A,A,A,SA,A,SA,SA,A,SA,SA,A,A,Female,61 or older,N/A,N/A,N/A,N/A,N/A
309,Age Retirement,2013,1988,1988,Teacher,Secondary,Not Stated,,Permanent Full-time,FALSE,FALSE,FALSE,FALSE,FALSE,FALSE,TRUE,TRUE,FALSE,FALSE,FALSE,FALSE,FALSE,FALSE,FALSE,FALSE,TRUE,FALSE,D,D,A,D,A,A,SD,SD,SD,D,D,A,D,A,SD,D,SD,D,D,A,A,Male,51-55,N/A,N/A,N/A,N/A,N/A
310,Age Retirement,2012,1988,2008,Teacher,Special Education,South East,,Permanent Full-time,FALSE,FALSE,TRUE,FALSE,FALSE,FALSE,FALSE,FALSE,FALSE,FALSE,FALSE,FALSE,FALSE,FALSE,FALSE,TRUE,TRUE,FALSE,SA,SA,SA,SA,SA,SA,SA,SA,SA,SA,SA,SA,SA,SA,SA,SA,SA,SA,SA,SA,SA,Female,51-55,N/A,N/A,N/A,N/A,N/A
311,Age Retirement,2013,1972,1989,Guidance Officer,,North Coast,,Permanent Full-time,FALSE,FALSE,FALSE,FALSE,FALSE,FALSE,FALSE,FALSE,FALSE,FALSE,FALSE,FALSE,FALSE,FALSE,FALSE,FALSE,FALSE,TRUE,A,A,SD,D,D,D,SD,SD,A,N,N,N,D,SD,D,SD,D,N,N,D,D,Male,61 or older,N/A,N/A,N/A,N/A,N/A
312,Resignation-Other employer,2013,2001,2007,Teacher,Secondary,North Queensland,,Permanent Full-time,FALSE,FALSE,FALSE,TRUE,TRUE,FALSE,FALSE,FALSE,FALSE,FALSE,FALSE,FALSE,FALSE,FALSE,FALSE,FALSE,FALSE,FALSE,A,N,D,N,A,N,N,SD,A,N,D,N,N,N,N,N,N,A,N,N,N,Male,36-40,N/A,N/A,N/A,N/A,N/A
313,Resignation-Other reasons,2013,1999,2012,Teacher,Primary,North Coast,,Permanent Part-time,FALSE,FALSE,FALSE,FALSE,FALSE,TRUE,FALSE,FALSE,FALSE,FALSE,TRUE,FALSE,FALSE,FALSE,FALSE,FALSE,TRUE,FALSE,D,N,D,D,A,D,SD,D,D,N,D,D,N/A,N/A,N/A,D,D,SD,N,SD,SD,Female,36-40,N/A,N/A,N/A,N/A,N/A
314,Age Retirement,2013,1969,1995,Guidance Officer,,Metropolitan,,Permanent Part-time,FALSE,FALSE,FALSE,FALSE,FALSE,FALSE,FALSE,FALSE,FALSE,FALSE,FALSE,FALSE,FALSE,FALSE,FALSE,FALSE,FALSE,TRUE,A,N,A,N,SA,A,N,A,A,A,A,N,N,A,A,A,A,A,A,N,A,Female,61 or older,N/A,N/A,N/A,N/A,N/A
315,Resignation-Other employer,2013,2001,2006,Teacher,Primary,Not Stated,,Permanent Full-time,FALSE,TRUE,FALSE,FALSE,FALSE,FALSE,FALSE,FALSE,FALSE,FALSE,FALSE,FALSE,FALSE,FALSE,FALSE,FALSE,FALSE,FALSE,A,N,N,N,D,SA,A,N,A,A,A,SA,D,D,D,N,A,A,A,N,A,Female,36-40,N/A,N/A,N/A,N/A,N/A
316,Other,2012,Not Stated,Not Stated,Cleaner,,South East,,Permanent Full-time,FALSE,FALSE,FALSE,FALSE,FALSE,FALSE,FALSE,FALSE,FALSE,FALSE,FALSE,TRUE,FALSE,FALSE,FALSE,FALSE,FALSE,FALSE,A,N,N,A,A,A,A,A,A,A,A,A,A,A,A,A,A,A,A,D,M,Female,61 or older,N/A,N/A,N/A,N/A,N/A
317,Age Retirement,2012,Not Stated,Not Stated,Cleaner,,South East,,Permanent Part-time,FALSE,FALSE,FALSE,FALSE,FALSE,FALSE,FALSE,FALSE,FALSE,FALSE,FALSE,FALSE,FALSE,FALSE,FALSE,FALSE,FALSE,TRUE,A,N/A,N,A,A,A,A,A,A,A,A,N/A,N/A,A,N/A,A,A,A,A,N/A,A,Female,61 or older,N/A,N/A,N/A,N/A,N/A
318,Resignation-Other employer,2012,1989,1989,Teacher,,Metropolitan,,Permanent Full-time,FALSE,TRUE,TRUE,FALSE,FALSE,FALSE,FALSE,FALSE,FALSE,FALSE,FALSE,FALSE,FALSE,FALSE,FALSE,FALSE,FALSE,FALSE,A,D,N,N,A,N,N,D,A,A,SA,SA,D,D,A,D,SD,N,SD,A,A,Male,41-45,N/A,N/A,N/A,N/A,N/A
319,Resignation-Other reasons,2012,2012,2012,School Administrative Staff,,North Queensland,,Permanent Part-time,FALSE,FALSE,FALSE,TRUE,FALSE,FALSE,FALSE,FALSE,FALSE,FALSE,FALSE,FALSE,FALSE,FALSE,FALSE,TRUE,TRUE,FALSE,D,N/A,SD,D,D,SD,SD,N,SD,N,SD,N/A,D,A,D,A,N,SD,N,D,D,Female,46-50,N/A,N/A,N/A,N/A,N/A
320,Age Retirement,2013,1979,1992,Teacher,Secondary,Metropolitan,,Permanent Full-time,FALSE,FALSE,FALSE,FALSE,FALSE,FALSE,FALSE,FALSE,FALSE,FALSE,FALSE,FALSE,FALSE,FALSE,FALSE,TRUE,FALSE,FALSE,A,A,D,N,A,N,D,A,A,A,A,A,A,A,A,A,A,A,A,A,A,Male,61 or older,N/A,N/A,N/A,N/A,N/A
321,Resignation-Other reasons,2012,2011,2011,Cleaner,,Metropolitan,,Permanent Part-time,FALSE,FALSE,FALSE,FALSE,FALSE,FALSE,FALSE,FALSE,FALSE,FALSE,FALSE,FALSE,FALSE,FALSE,FALSE,TRUE,FALSE,FALSE,A,A,SD,N,SA,D,D,SA,D,A,D,D,SA,N,N,D,N,A,A,N,M,Female,26-30,N/A,N/A,N/A,N/A,N/A
322,Age Retirement,2013,1987,1987,Teacher,Primary,North Coast,,Permanent Full-time,FALSE,FALSE,FALSE,FALSE,FALSE,FALSE,FALSE,FALSE,FALSE,FALSE,FALSE,FALSE,FALSE,FALSE,FALSE,FALSE,FALSE,TRUE,A,A,A,A,A,A,A,A,A,A,A,A,A,D,A,A,A,A,A,D,A,Female,61 or older,N/A,N/A,N/A,N/A,N/A
323,Resignation-Other employer,2013,2007,2007,Teacher,Middle,Metropolitan,,Permanent Full-time,FALSE,TRUE,FALSE,FALSE,TRUE,FALSE,FALSE,FALSE,TRUE,FALSE,FALSE,FALSE,FALSE,FALSE,FALSE,FALSE,FALSE,FALSE,A,A,D,A,A,A,A,A,A,A,A,A,D,A,A,A,D,A,D,SD,A,Male,26-30,N/A,N/A,N/A,N/A,N/A
324,Voluntary Early Retirement (VER),2012,2000,2000,Cleaner,,Darling Downs South West,,Permanent Part-time,FALSE,FALSE,FALSE,FALSE,FALSE,FALSE,FALSE,FALSE,FALSE,FALSE,FALSE,FALSE,FALSE,FALSE,FALSE,FALSE,FALSE,TRUE,A,N/A,A,A,A,A,A,A,A,A,A,A,A,A,N/A,A,A,A,A,A,A,Male,61 or older,N/A,N/A,N/A,N/A,N/A
325,Resignation-Other reasons,2012,2011,2011,Teacher Aide,,South East,,Permanent Part-time,FALSE,FALSE,FALSE,FALSE,FALSE,FALSE,FALSE,FALSE,FALSE,FALSE,FALSE,FALSE,TRUE,FALSE,FALSE,FALSE,FALSE,FALSE,A,SD,A,A,SD,SA,A,A,A,SA,A,D,A,A,A,A,SA,A,D,A,SA,Female,21-25,N/A,N/A,N/A,N/A,N/A
326,Resignation-Other employer,2012,2000,2004,Teacher Aide,,Darling Downs South West,,Permanent Part-time,FALSE,FALSE,FALSE,FALSE,FALSE,FALSE,FALSE,FALSE,FALSE,FALSE,FALSE,FALSE,FALSE,FALSE,FALSE,FALSE,FALSE,TRUE,A,N/A,A,A,A,A,A,A,A,A,A,N/A,N/A,A,A,A,A,A,A,A,A,Female,46-50,N/A,N/A,N/A,N/A,N/A
327,Resignation-Other reasons,2012,2008,2008,Cleaner,,North Queensland,,Permanent Full-time,FALSE,FALSE,FALSE,FALSE,FALSE,FALSE,FALSE,FALSE,FALSE,FALSE,FALSE,FALSE,FALSE,FALSE,FALSE,FALSE,FALSE,TRUE,A,A,A,A,A,A,A,A,A,A,A,A,SA,SA,A,A,A,A,SA,SA,SA,Female,36-40,N/A,N/A,N/A,N/A,Yes
328,Age Retirement,2012,1975,1975,Teacher Aide,,South East,,Permanent Part-time,FALSE,FALSE,FALSE,FALSE,FALSE,FALSE,FALSE,FALSE,FALSE,FALSE,FALSE,FALSE,FALSE,FALSE,FALSE,FALSE,FALSE,TRUE,D,D,A,N,A,A,A,D,A,A,N,D,D,N,D,A,A,D,N,N,N,Female,61 or older,N/A,N/A,N/A,N/A,N/A
329,Age Retirement,2013,1973,2009,Teacher,Special Education,South East,,Permanent Full-time,FALSE,FALSE,FALSE,FALSE,FALSE,FALSE,FALSE,FALSE,FALSE,FALSE,TRUE,TRUE,FALSE,FALSE,FALSE,FALSE,FALSE,FALSE,A,D,SA,N,A,A,D,D,SA,A,A,D,N,D,D,D,A,D,D,SD,A,Female,56-60,N/A,N/A,N/A,N/A,N/A
330,Voluntary Early Retirement (VER),2013,1971,Not Stated,Teacher,Secondary,Metropolitan,,Permanent Full-time,FALSE,FALSE,FALSE,FALSE,FALSE,FALSE,FALSE,FALSE,FALSE,FALSE,FALSE,FALSE,FALSE,FALSE,FALSE,FALSE,FALSE,TRUE,M,M,M,M,M,M,M,M,M,M,M,M,M,M,M,M,M,M,M,M,M,,,,,,,
331,Age Retirement,2012,1973,1986,Teacher,Secondary,Central Queensland,,Permanent Full-time,FALSE,FALSE,FALSE,FALSE,FALSE,FALSE,FALSE,FALSE,FALSE,FALSE,FALSE,FALSE,FALSE,FALSE,FALSE,FALSE,FALSE,TRUE,SA,N/A,A,N,SA,A,A,A,A,SA,A,A,N/A,SA,SA,A,A,A,A,A,SA,Female,61 or older,N/A,N/A,N/A,N/A,N/A
332,Age Retirement,2012,1995,1999,School Principal,,Not Stated,,Permanent Full-time,FALSE,FALSE,FALSE,FALSE,FALSE,FALSE,FALSE,FALSE,TRUE,FALSE,FALSE,FALSE,FALSE,FALSE,FALSE,TRUE,TRUE,FALSE,A,A,D,N/A,A,D,A,N/A,SA,SA,SA,SA,N/A,D,N,SA,A,D,A,A,SA,Female,61 or older,N/A,N/A,N/A,N/A,N/A
333,Resignation-Other reasons,2012,2011,2011,Cleaner,,Not Stated,,Permanent Full-time,FALSE,FALSE,TRUE,FALSE,FALSE,FALSE,FALSE,FALSE,FALSE,FALSE,FALSE,TRUE,FALSE,FALSE,FALSE,TRUE,FALSE,FALSE,SA,M,N,N,SA,N,N,N,N,SA,SA,N,A,M,A,D,N,SA,A,N,SA,Female,21-25,N/A,N/A,N/A,N/A,N/A
334,Resignation-Other employer,2012,2012,2012,School Administrative Staff,,South East,,Temporary Part-time,FALSE,FALSE,FALSE,FALSE,FALSE,FALSE,FALSE,TRUE,FALSE,FALSE,FALSE,FALSE,FALSE,FALSE,FALSE,FALSE,FALSE,FALSE,N/A,N/A,SA,SA,SA,SA,SA,SA,SA,SA,SA,N/A,N/A,SA,N/A,SA,SA,SA,SA,N/A,SA,Female,51-55,N/A,N/A,N/A,N/A,N/A
335,Age Retirement,2013,1979,Not Stated,Teacher,Secondary,North Coast,,Permanent Full-time,FALSE,FALSE,FALSE,TRUE,FALSE,FALSE,FALSE,FALSE,FALSE,TRUE,FALSE,FALSE,FALSE,FALSE,FALSE,TRUE,FALSE,FALSE,A,A,D,N,A,N,SD,SD,A,N,A,A,A,N,D,A,A,D,SD,A,A,Male,51-55,N/A,N/A,N/A,N/A,N/A
336,Contract Expired,2012,2012,2012,Teacher,Primary,Far North Queensland,,Temporary Full-time,FALSE,FALSE,FALSE,FALSE,FALSE,FALSE,FALSE,FALSE,FALSE,FALSE,FALSE,FALSE,FALSE,FALSE,FALSE,FALSE,FALSE,TRUE,A,N,SA,N,A,D,N,N,SA,N,A,N/A,N,N,N,SA,A,A,A,N,N,Female,21-25,N/A,N/A,N/A,N/A,N/A
337,Other,2012,Not Stated,Not Stated,School Administrative Staff,,Not Stated,,Permanent Part-time,FALSE,FALSE,FALSE,FALSE,FALSE,FALSE,FALSE,FALSE,FALSE,FALSE,FALSE,FALSE,FALSE,FALSE,FALSE,TRUE,FALSE,FALSE,A,N/A,N,A,A,N,A,A,A,A,A,A,SA,SA,SA,A,A,A,A,M,M,,,,,,,
338,Age Retirement,2013,1988,2001,Teacher,Secondary,Metropolitan,,Permanent Full-time,FALSE,FALSE,FALSE,FALSE,FALSE,FALSE,FALSE,FALSE,FALSE,FALSE,FALSE,FALSE,FALSE,FALSE,FALSE,FALSE,FALSE,TRUE,A,A,A,A,A,A,A,A,SA,SA,SA,SA,A,A,A,N,A,A,A,SA,A,Male,51-55,N/A,N/A,N/A,N/A,Yes
339,Age Retirement,2012,1984,1985,Teacher Aide,,Not Stated,,Permanent Part-time,FALSE,FALSE,FALSE,FALSE,FALSE,FALSE,FALSE,FALSE,FALSE,FALSE,FALSE,FALSE,FALSE,FALSE,FALSE,FALSE,FALSE,TRUE,N,D,A,A,A,A,A,A,A,A,A,A,D,N,D,A,A,A,A,N,A,Female,61 or older,N/A,N/A,N/A,N/A,N/A
340,Age Retirement,2013,Not Stated,Not Stated,Head of Curriculum/Head of Special Education,,North Coast,,Permanent Full-time,FALSE,FALSE,FALSE,FALSE,FALSE,FALSE,FALSE,FALSE,FALSE,FALSE,TRUE,FALSE,FALSE,FALSE,FALSE,TRUE,TRUE,FALSE,A,A,D,A,A,SD,SA,N,A,A,A,A,N,A,N,D,D,N,D,A,A,Male,56-60,N/A,N/A,N/A,N/A,N/A
341,Resignation-Other reasons,2013,2005,2012,Teacher,Primary,North Coast,,Permanent Full-time,FALSE,FALSE,FALSE,FALSE,FALSE,FALSE,FALSE,FALSE,TRUE,FALSE,TRUE,FALSE,FALSE,FALSE,FALSE,TRUE,FALSE,FALSE,SA,SA,N,SA,D,D,A,A,A,SA,A,A,SA,A,SA,A,A,A,A,N,A,Male,26-30,N/A,N/A,N/A,N/A,N/A
342,Voluntary Early Retirement (VER),2013,1972,1996,Teacher,Primary,Far North Queensland,,Permanent Full-time,FALSE,FALSE,FALSE,FALSE,FALSE,FALSE,FALSE,FALSE,FALSE,FALSE,FALSE,FALSE,FALSE,FALSE,FALSE,FALSE,FALSE,TRUE,SA,SA,SA,SA,SA,SA,SA,SA,SA,SA,SA,SA,SA,SA,SA,SA,SA,SA,SA,SA,SA,Female,61 or older,N/A,N/A,N/A,N/A,N/A
343,Age Retirement,2012,1999,2012,Teacher Aide,,Central Queensland,,Permanent Part-time,FALSE,FALSE,FALSE,FALSE,FALSE,FALSE,FALSE,FALSE,FALSE,FALSE,FALSE,FALSE,FALSE,FALSE,FALSE,FALSE,FALSE,TRUE,SA,SA,SA,SA,SA,SA,SA,SA,SA,SA,SA,SA,SA,SA,SA,SA,SA,SA,SA,SA,SA,Female,56-60,N/A,N/A,N/A,N/A,N/A
344,Resignation-Other employer,2012,Not Stated,Not Stated,School Administrative Staff,,Metropolitan,,Permanent Part-time,FALSE,FALSE,FALSE,FALSE,FALSE,FALSE,FALSE,FALSE,FALSE,FALSE,FALSE,FALSE,FALSE,FALSE,FALSE,FALSE,FALSE,TRUE,N,D,A,A,A,A,N,A,A,SA,SA,A,N,N,N,N,A,A,A,A,A,Female,41-45,N/A,N/A,N/A,N/A,Yes
345,Age Retirement,2013,1981,1996,Teacher Aide,,South East,,Permanent Part-time,FALSE,FALSE,FALSE,FALSE,FALSE,FALSE,FALSE,FALSE,FALSE,FALSE,FALSE,FALSE,FALSE,FALSE,FALSE,FALSE,FALSE,TRUE,N/A,N/A,A,SA,A,SA,SA,D,A,A,SA,SA,A,A,N/A,A,SA,SA,SA,N/A,N,Female,61 or older,N/A,N/A,N/A,N/A,N/A
346,Resignation-Other employer,2012,1988,1988,Teacher,Primary,Metropolitan,,Permanent Full-time,FALSE,FALSE,FALSE,FALSE,FALSE,FALSE,FALSE,FALSE,FALSE,FALSE,FALSE,FALSE,FALSE,FALSE,FALSE,TRUE,FALSE,FALSE,A,A,A,A,A,A,A,A,A,A,A,A,A,A,A,A,A,A,A,A,A,Female,41-45,N/A,N/A,N/A,N/A,N/A
347,Age Retirement,2013,Not Stated,Not Stated,Teacher,Primary,Not Stated,,Permanent Full-time,FALSE,FALSE,FALSE,FALSE,FALSE,FALSE,FALSE,FALSE,FALSE,FALSE,FALSE,FALSE,FALSE,FALSE,FALSE,FALSE,FALSE,TRUE,N,N,N,N,N,A,N,N,N,A,N,A,A,N,A,N,N,A,N,N,A,Female,56-60,N/A,N/A,N/A,N/A,N/A
348,Resignation-Other employer,2012,2008,2008,Head of Curriculum/Head of Special Education,,North Queensland,,Permanent Full-time,FALSE,TRUE,FALSE,FALSE,FALSE,FALSE,FALSE,FALSE,FALSE,FALSE,FALSE,FALSE,FALSE,FALSE,FALSE,FALSE,FALSE,FALSE,A,A,A,A,A,A,A,A,A,A,A,A,A,A,A,A,A,A,A,A,A,Female,36-40,N/A,N/A,N/A,N/A,Yes
349,Resignation-Other reasons,2013,1980,1999,Teacher,Secondary,Not Stated,,Permanent Part-time,FALSE,FALSE,FALSE,FALSE,FALSE,FALSE,FALSE,FALSE,FALSE,FALSE,FALSE,FALSE,FALSE,FALSE,FALSE,TRUE,TRUE,FALSE,A,N/A,D,A,A,D,D,N,A,A,A,D,A,A,A,A,N,A,A,D,A,Male,56-60,N/A,N/A,N/A,N/A,N/A
350,Age Retirement,2013,Not Stated,Not Stated,Teacher,Primary,Darling Downs South West,,Permanent Full-time,FALSE,FALSE,FALSE,FALSE,FALSE,FALSE,FALSE,FALSE,FALSE,FALSE,FALSE,FALSE,FALSE,FALSE,FALSE,TRUE,TRUE,FALSE,A,A,SA,A,A,D,A,SA,SA,SA,SA,A,SA,SA,SA,SA,SA,SA,SA,N,A,Female,51-55,N/A,N/A,N/A,N/A,N/A
351,Age Retirement,2013,1974,1983,Teacher,Primary,Darling Downs South West,,Permanent Part-time,FALSE,FALSE,FALSE,FALSE,FALSE,FALSE,FALSE,FALSE,FALSE,FALSE,FALSE,FALSE,FALSE,FALSE,FALSE,TRUE,TRUE,FALSE,A,A,N,A,A,SD,N,A,A,A,A,A,A,A,A,A,A,A,A,N,A,Female,56-60,N/A,N/A,N/A,N/A,N/A
352,Age Retirement,2012,1986,1986,Teacher Aide,,Not Stated,,Permanent Part-time,FALSE,FALSE,FALSE,FALSE,FALSE,FALSE,FALSE,FALSE,FALSE,FALSE,FALSE,FALSE,FALSE,FALSE,FALSE,FALSE,FALSE,TRUE,A,N/A,A,N/A,A,A,A,A,A,SA,A,A,N/A,A,N/A,A,A,A,A,N,A,Female,61 or older,N/A,N/A,N/A,N/A,N/A
353,Age Retirement,2013,Not Stated,Not Stated,Teacher,Primary,Not Stated,,Permanent Full-time,FALSE,FALSE,FALSE,FALSE,FALSE,FALSE,FALSE,FALSE,FALSE,FALSE,FALSE,FALSE,FALSE,FALSE,FALSE,FALSE,FALSE,TRUE,N,N,N,N,N,A,N,N,N,A,N,A,A,N,A,N,N,A,N,N,A,Female,56-60,N/A,N/A,N/A,N/A,N/A
354,Other,2012,2004,2011,Teacher Aide,,Not Stated,,Permanent Part-time,FALSE,FALSE,FALSE,FALSE,FALSE,FALSE,FALSE,FALSE,FALSE,FALSE,FALSE,FALSE,FALSE,FALSE,FALSE,FALSE,FALSE,TRUE,SA,A,A,A,A,A,A,SA,A,A,A,N/A,SA,SA,SA,A,A,A,A,N,N,Female,56-60,N/A,N/A,N/A,N/A,N/A
355,Resignation-Other employer,2013,2007,2007,Teacher,Secondary,Metropolitan,,Permanent Full-time,FALSE,TRUE,FALSE,FALSE,FALSE,FALSE,FALSE,FALSE,FALSE,FALSE,FALSE,TRUE,FALSE,FALSE,FALSE,FALSE,TRUE,FALSE,A,A,N,A,A,A,A,N,SA,SA,A,SA,N,N,N,A,A,A,A,A,A,Male,26-30,N/A,N/A,N/A,N/A,N/A
356,Resignation-Other reasons,2013,1992,1992,Teacher Aide,,Not Stated,,Permanent Part-time,FALSE,FALSE,FALSE,FALSE,FALSE,FALSE,FALSE,FALSE,FALSE,FALSE,FALSE,FALSE,FALSE,FALSE,FALSE,FALSE,FALSE,TRUE,A,N,N,A,N,A,N,N,A,A,A,A,A,A,N,N,A,A,N,N,N,Female,56-60,N/A,N/A,N/A,N/A,N/A
357,Resignation-Move overseas/interstate,2013,2003,2011,Teacher,Secondary,North Queensland,,Permanent Part-time,FALSE,FALSE,FALSE,FALSE,FALSE,FALSE,FALSE,FALSE,FALSE,FALSE,FALSE,FALSE,TRUE,FALSE,FALSE,FALSE,FALSE,FALSE,SA,SA,A,SA,SA,A,A,SA,SA,SA,SA,SA,SA,SA,SA,SA,SA,SA,SA,A,A,Female,31-35,N/A,N/A,N/A,N/A,N/A
358,Age Retirement,2013,1978,2006,Head of Curriculum/Head of Special Education,,North Queensland,,Permanent Full-time,FALSE,FALSE,FALSE,FALSE,FALSE,FALSE,FALSE,FALSE,FALSE,FALSE,FALSE,FALSE,FALSE,FALSE,FALSE,FALSE,FALSE,TRUE,SA,SA,SA,SA,A,SA,SA,SA,SA,SA,SA,SA,SA,SA,SA,SA,SA,SA,SA,N,SA,Male,56-60,N/A,N/A,N/A,N/A,N/A
359,Age Retirement,2013,1975,1975,Teacher,Secondary,Metropolitan,,Permanent Full-time,FALSE,FALSE,FALSE,FALSE,FALSE,FALSE,FALSE,FALSE,FALSE,FALSE,FALSE,FALSE,FALSE,FALSE,FALSE,TRUE,FALSE,FALSE,A,N,D,D,D,D,D,M,A,A,D,A,N,A,A,A,A,A,A,N,A,Female,56-60,N/A,N/A,N/A,N/A,N/A
360,Age Retirement,2013,1990,1990,Public Servant,A01-A04,Darling Downs South West,,Permanent Part-time,FALSE,FALSE,FALSE,FALSE,FALSE,FALSE,FALSE,FALSE,FALSE,FALSE,FALSE,FALSE,FALSE,FALSE,FALSE,FALSE,FALSE,TRUE,SA,N/A,SA,N/A,SA,D,D,SA,SA,SA,SA,N/A,N/A,D,A,SA,A,A,A,D,A,Female,61 or older,N/A,N/A,N/A,N/A,N/A
361,Contract Expired,2012,2006,2012,Teacher Aide,,South East,,Temporary Part-time,FALSE,FALSE,FALSE,FALSE,FALSE,FALSE,FALSE,TRUE,FALSE,FALSE,FALSE,FALSE,FALSE,FALSE,FALSE,FALSE,FALSE,FALSE,N/A,N/A,SA,N/A,SA,SA,SA,A,SA,SA,SA,A,N/A,SA,N/A,N,A,SA,N/A,N/A,N/A,Female,46-50,N/A,N/A,N/A,N/A,N/A
362,Age Retirement,2013,1975,1981,Teacher,Secondary,Not Stated,,Permanent Full-time,FALSE,FALSE,FALSE,FALSE,FALSE,FALSE,FALSE,FALSE,FALSE,FALSE,FALSE,FALSE,FALSE,FALSE,FALSE,FALSE,FALSE,TRUE,SA,A,A,A,A,D,A,A,SA,A,A,A,N,A,A,A,A,A,A,N,A,Female,56-60,N/A,N/A,N/A,N/A,N/A
363,Age Retirement,2013,1994,1998,Teacher,Primary,North Queensland,,Permanent Part-time,FALSE,FALSE,FALSE,FALSE,FALSE,FALSE,FALSE,FALSE,FALSE,FALSE,FALSE,FALSE,FALSE,FALSE,FALSE,TRUE,TRUE,FALSE,A,N,A,A,D,D,D,D,A,A,A,D,N/A,N/A,N/A,D,A,A,A,N,D,Female,56-60,N/A,N/A,N/A,N/A,N/A
364,Age Retirement,2013,1984,2006,Public Servant,AO8 and Above,Central Office,Infrastructure,Permanent Full-time,FALSE,FALSE,FALSE,FALSE,FALSE,FALSE,FALSE,FALSE,FALSE,FALSE,FALSE,FALSE,FALSE,FALSE,FALSE,FALSE,FALSE,TRUE,N,A,A,N,SA,N,A,A,A,SA,A,A,N,D,N,N,A,A,A,A,A,Male,61 or older,N/A,N/A,N/A,N/A,N/A
365,Other,2012,Not Stated,Not Stated,Teacher,Primary,Not Stated,,Permanent Full-time,FALSE,FALSE,FALSE,FALSE,FALSE,FALSE,FALSE,FALSE,FALSE,FALSE,FALSE,FALSE,FALSE,TRUE,FALSE,FALSE,FALSE,FALSE,M,M,M,M,M,M,M,M,M,M,M,M,M,M,M,M,M,M,M,M,M,Male,46-50,N/A,N/A,N/A,Yes,N/A
366,Resignation-Other reasons,2012,Not Stated,Not Stated,Teacher,Secondary,Metropolitan,,Permanent Full-time,FALSE,FALSE,FALSE,FALSE,FALSE,FALSE,FALSE,FALSE,FALSE,FALSE,FALSE,FALSE,FALSE,FALSE,FALSE,FALSE,FALSE,TRUE,M,M,M,M,M,M,M,M,M,M,M,M,M,M,M,M,M,M,M,M,M,Male,26-30,,,,,
367,Resignation-Move overseas/interstate,2013,2010,2010,Teacher,Secondary,South East,,Permanent Full-time,FALSE,TRUE,FALSE,FALSE,FALSE,FALSE,TRUE,FALSE,FALSE,FALSE,FALSE,FALSE,FALSE,FALSE,FALSE,FALSE,FALSE,FALSE,A,N,N,D,A,A,N,N,A,A,N,A,N,A,A,A,N,A,A,D,A,Male,21-25,N/A,N/A,N/A,N/A,N/A
368,Resignation-Move overseas/interstate,2013,2012,2012,Teacher,Secondary,Darling Downs South West,,Permanent Full-time,FALSE,FALSE,FALSE,FALSE,FALSE,FALSE,FALSE,FALSE,FALSE,FALSE,FALSE,TRUE,TRUE,FALSE,FALSE,TRUE,FALSE,FALSE,A,N,A,N,A,D,A,A,SA,SA,A,A,A,SA,SA,SA,SA,SA,A,A,A,Female,21-25,N/A,N/A,N/A,N/A,N/A
369,Voluntary Early Retirement (VER),2013,1994,1994,Teacher Aide,,Far North Queensland,,Permanent Full-time,FALSE,FALSE,FALSE,FALSE,FALSE,FALSE,FALSE,FALSE,FALSE,FALSE,FALSE,FALSE,FALSE,FALSE,FALSE,FALSE,FALSE,TRUE,A,N,A,A,A,A,A,A,A,A,A,N,A,A,A,A,N,A,A,A,A,Female,51-55,N/A,N/A,N/A,N/A,N/A
370,Age Retirement,2013,1970,1976,Teacher,Secondary,Darling Downs South West,,Permanent Full-time,FALSE,FALSE,FALSE,FALSE,FALSE,FALSE,FALSE,FALSE,FALSE,FALSE,FALSE,FALSE,FALSE,FALSE,FALSE,FALSE,FALSE,TRUE,A,A,N,N/A,SD,SD,N,N,A,A,N,A,N/A,A,A,N,N,N,N,N,A,Male,56-60,N/A,N/A,N/A,N/A,N/A
371,Contract Expired,2012,2012,2012,Teacher,Secondary,Darling Downs South West,,Temporary Full-time,FALSE,FALSE,FALSE,FALSE,FALSE,FALSE,FALSE,FALSE,FALSE,FALSE,FALSE,FALSE,FALSE,FALSE,FALSE,FALSE,FALSE,TRUE,N,N,N,N,N,N,N,N,N,N,N,N,N,N,N,N,N,N,N,N,N,Female,26-30,N/A,N/A,N/A,N/A,N/A
372,Resignation-Other reasons,2012,2012,2012,Teacher Aide,,Central Queensland,,Permanent Full-time,FALSE,FALSE,FALSE,FALSE,FALSE,FALSE,FALSE,FALSE,FALSE,FALSE,FALSE,FALSE,TRUE,FALSE,FALSE,FALSE,FALSE,FALSE,SA,N,A,A,A,SA,N,A,A,A,SA,N,N/A,SA,A,A,A,A,A,N/A,A,Female,36-40,N/A,N/A,N/A,N/A,N/A
373,Age Retirement,2012,Not Stated,Not Stated,Teacher,Primary,Not Stated,,Permanent Full-time,FALSE,FALSE,FALSE,FALSE,FALSE,FALSE,FALSE,FALSE,FALSE,FALSE,FALSE,FALSE,FALSE,FALSE,FALSE,FALSE,FALSE,TRUE,M,M,M,M,M,M,M,M,M,M,M,M,M,M,M,M,M,M,M,M,M,Female,56-60,N/A,N/A,N/A,N/A,N/A
374,Age Retirement,2012,1988,2012,Teacher,Special Education,South East,,Permanent Full-time,FALSE,FALSE,FALSE,FALSE,FALSE,FALSE,FALSE,FALSE,FALSE,FALSE,FALSE,FALSE,FALSE,TRUE,FALSE,FALSE,FALSE,FALSE,N,SD,N,SA,SA,N,A,SA,SA,A,D,D,A,A,D,A,A,A,A,N,A,Female,61 or older,N/A,N/A,N/A,N/A,N/A
375,Resignation-Other employer,2012,1992,1992,Teacher,Secondary,Darling Downs South West,,Permanent Full-time,FALSE,FALSE,FALSE,FALSE,FALSE,FALSE,FALSE,FALSE,FALSE,FALSE,TRUE,FALSE,FALSE,FALSE,FALSE,FALSE,FALSE,FALSE,SA,SA,SA,SA,SA,A,SA,SA,SA,SA,SA,N,SA,A,N,SA,SA,SA,SA,A,SA,Female,41-45,N/A,N/A,N/A,N/A,N/A
376,Resignation-Other reasons,2012,1999,1999,Teacher Aide,,Not Stated,,Permanent Full-time,FALSE,FALSE,FALSE,FALSE,FALSE,FALSE,FALSE,TRUE,FALSE,FALSE,FALSE,FALSE,FALSE,FALSE,FALSE,FALSE,FALSE,FALSE,SD,N/A,N,N,N,A,A,N,A,A,N,N,SD,SD,SD,N,N,N,N,N,N,Female,46-50,N/A,N/A,N/A,N/A,N/A
377,Resignation-Move overseas/interstate,2012,2007,2007,Teacher Aide,,Not Stated,,Permanent Part-time,FALSE,FALSE,FALSE,FALSE,FALSE,FALSE,FALSE,FALSE,FALSE,FALSE,TRUE,FALSE,FALSE,FALSE,FALSE,FALSE,FALSE,FALSE,D,N,SD,D,A,SA,A,N,A,SA,A,A,N,A,N,N,A,A,N,N,A,Female,46-50,N/A,N/A,N/A,N/A,N/A
378,Resignation-Other employer,2012,1990,Not Stated,Teacher Aide,,Not Stated,,Permanent Part-time,FALSE,FALSE,FALSE,TRUE,FALSE,FALSE,TRUE,TRUE,FALSE,FALSE,FALSE,FALSE,FALSE,FALSE,FALSE,FALSE,FALSE,FALSE,SD,N/A,SD,D,A,A,A,SD,SA,D,D,N/A,N/A,SD,SD,SD,SD,N,D,M,M,Female,46-50,N/A,N/A,N/A,N/A,N/A
379,Age Retirement,2013,1975,1978,Teacher,,South East,,Permanent Full-time,FALSE,FALSE,FALSE,TRUE,FALSE,FALSE,FALSE,FALSE,FALSE,FALSE,FALSE,FALSE,FALSE,FALSE,FALSE,TRUE,FALSE,FALSE,A,A,D,N,A,A,A,A,SA,A,A,A,N,A,A,A,N,A,A,SD,A,Male,51-55,N/A,N/A,N/A,N/A,Yes
380,Resignation-Move overseas/interstate,2012,Not Stated,Not Stated,Teacher,Primary,Darling Downs South West,,Permanent Part-time,FALSE,TRUE,FALSE,FALSE,FALSE,FALSE,FALSE,FALSE,FALSE,FALSE,FALSE,FALSE,FALSE,FALSE,FALSE,FALSE,FALSE,FALSE,SA,SA,SA,SA,SA,SA,SA,SA,SA,SA,SA,SA,SA,SA,SA,SA,SA,SA,SA,SA,SA,Female,26-30,N/A,N/A,N/A,N/A,N/A
381,Age Retirement,2013,1978,2004,Teacher,Primary,Metropolitan,,Permanent Full-time,FALSE,FALSE,FALSE,FALSE,FALSE,FALSE,FALSE,FALSE,FALSE,FALSE,FALSE,FALSE,FALSE,FALSE,FALSE,FALSE,FALSE,TRUE,A,N,A,A,A,A,A,A,A,N,N,A,A,A,A,A,A,A,A,A,A,Female,51-55,N/A,N/A,N/A,N/A,N/A
382,Resignation-Other employer,2013,2008,2008,Teacher,Secondary,Not Stated,,Permanent Full-time,FALSE,TRUE,FALSE,FALSE,FALSE,TRUE,TRUE,FALSE,FALSE,FALSE,FALSE,FALSE,FALSE,FALSE,FALSE,FALSE,FALSE,FALSE,N,D,SD,D,D,A,A,D,N,A,D,N,D,D,D,SD,N,N,A,D,A,Female,26-30,N/A,N/A,N/A,N/A,N/A
383,Voluntary Early Retirement (VER),2012,2003,2009,Public Servant,AO8 and Above,Central Office,Other,Permanent Full-time,FALSE,FALSE,FALSE,FALSE,FALSE,FALSE,FALSE,FALSE,TRUE,FALSE,FALSE,FALSE,FALSE,TRUE,FALSE,TRUE,FALSE,FALSE,N,D,A,N,A,N,A,A,N,SA,SA,SA,N,A,N,A,SA,A,A,A,N,Male,56-60,N/A,N/A,N/A,N/A,N/A
384,Resignation-Move overseas/interstate,2012,1994,1996,Teacher,Special Education,Metropolitan,,Permanent Full-time,FALSE,FALSE,FALSE,FALSE,FALSE,FALSE,FALSE,FALSE,FALSE,FALSE,FALSE,TRUE,FALSE,FALSE,FALSE,FALSE,FALSE,FALSE,A,A,A,A,A,A,A,A,A,A,A,N,A,A,A,SA,SA,SA,SA,A,A,Female,56-60,N/A,N/A,N/A,N/A,N/A
385,Contract Expired,2013,2012,2012,Public Servant,AO5-AO7,Central Office,Information and Technologies,Temporary Full-time,FALSE,FALSE,FALSE,TRUE,FALSE,FALSE,FALSE,FALSE,FALSE,FALSE,FALSE,FALSE,FALSE,FALSE,FALSE,FALSE,TRUE,FALSE,N,D,D,A,A,A,N/A,N,A,N,SD,A,N,D,A,N,D,A,A,N,N,Male,36-40,N/A,N/A,N/A,N/A,N/A
386,Age Retirement,2013,1986,1995,Teacher,Special Education,Not Stated,,Permanent Full-time,FALSE,FALSE,FALSE,FALSE,FALSE,FALSE,FALSE,FALSE,FALSE,FALSE,FALSE,FALSE,FALSE,FALSE,FALSE,FALSE,FALSE,TRUE,A,A,A,A,A,A,A,SA,SA,A,A,A,A,SA,SA,A,SA,A,A,A,SA,Female,61 or older,N/A,N/A,N/A,N/A,N/A
387,Ill Health Retirement,2013,1976,1988,Guidance Officer,,Darling Downs South West,,Permanent Part-time,FALSE,FALSE,FALSE,FALSE,FALSE,FALSE,FALSE,FALSE,FALSE,FALSE,FALSE,FALSE,FALSE,TRUE,FALSE,FALSE,FALSE,FALSE,SA,SA,SA,SA,SA,SA,SA,SA,SA,SA,SA,SA,SA,SA,SA,SA,SA,SA,SA,SA,SA,Male,51-55,N/A,N/A,N/A,N/A,N/A
388,Age Retirement,2013,1978,1990,Teacher,Primary,Not Stated,,Permanent Full-time,FALSE,FALSE,FALSE,FALSE,FALSE,FALSE,FALSE,FALSE,FALSE,FALSE,FALSE,FALSE,FALSE,FALSE,FALSE,TRUE,FALSE,FALSE,A,A,A,A,SA,A,A,A,A,A,A,A,A,A,A,A,N,A,N,A,A,Female,51-55,N/A,N/A,N/A,N/A,N/A
389,Resignation-Move overseas/interstate,2013,2007,2007,Teacher,Secondary,Not Stated,,Permanent Full-time,TRUE,FALSE,FALSE,FALSE,FALSE,FALSE,FALSE,FALSE,FALSE,FALSE,FALSE,FALSE,FALSE,FALSE,FALSE,FALSE,FALSE,FALSE,A,SA,SA,SA,SA,SA,SA,SA,A,SA,SA,SA,A,SA,N/A,A,SA,SA,SA,SA,SA,Female,46-50,N/A,N/A,N/A,N/A,N/A
390,Resignation-Other employer,2013,1985,1999,Teacher,Secondary,Central Queensland,,Permanent Full-time,TRUE,FALSE,FALSE,FALSE,FALSE,FALSE,FALSE,FALSE,FALSE,FALSE,FALSE,FALSE,FALSE,FALSE,FALSE,TRUE,FALSE,FALSE,N,A,D,N,A,A,D,N,A,A,D,N,D,N,A,A,A,N,N,D,A,Female,46-50,N/A,N/A,N/A,N/A,N/A
391,Resignation-Other employer,2013,2000,200,Teacher,Secondary,Central Queensland,,Permanent Full-time,FALSE,TRUE,FALSE,FALSE,FALSE,FALSE,FALSE,FALSE,FALSE,FALSE,FALSE,FALSE,FALSE,FALSE,FALSE,FALSE,FALSE,FALSE,N,N,A,A,A,A,A,A,SA,SA,SA,A,A,A,N,N,A,N,N,N,N,Female,46-50,N/A,N/A,N/A,N/A,N/A
392,Resignation-Other employer,2012,2007,2007,Teacher,Secondary,Darling Downs South West,,Permanent Full-time,FALSE,TRUE,TRUE,TRUE,FALSE,FALSE,FALSE,FALSE,FALSE,FALSE,FALSE,FALSE,FALSE,FALSE,FALSE,FALSE,FALSE,FALSE,N,A,D,SD,N,D,D,SD,N,SD,D,N,N,D,SD,SD,SD,N,SD,SD,SD,Female,31-35,N/A,N/A,N/A,N/A,N/A
393,Age Retirement,2013,1973,1988,Teacher,Primary,Darling Downs South West,,Permanent Full-time,FALSE,FALSE,FALSE,FALSE,FALSE,FALSE,FALSE,FALSE,FALSE,FALSE,FALSE,FALSE,FALSE,FALSE,FALSE,TRUE,FALSE,FALSE,A,A,N,N,N,A,A,N,N,A,A,N,N,N,N,N,N,A,A,N,N,Male,56-60,N/A,N/A,N/A,N/A,N/A
394,Other,2012,2008,2008,Teacher,Secondary,North Queensland,,Permanent Full-time,FALSE,FALSE,FALSE,FALSE,FALSE,FALSE,FALSE,FALSE,FALSE,FALSE,FALSE,FALSE,FALSE,FALSE,TRUE,FALSE,FALSE,FALSE,A,A,D,D,D,SD,SD,N/A,SD,N/A,N/A,N,SD,SD,SD,N/A,N/A,N/A,SD,N/A,D,Male,46-50,N/A,N/A,N/A,N/A,N/A
395,Age Retirement,2013,1980,1980,Teacher,Primary,Darling Downs South West,,Permanent Full-time,FALSE,FALSE,FALSE,FALSE,FALSE,FALSE,FALSE,FALSE,FALSE,FALSE,FALSE,FALSE,FALSE,FALSE,FALSE,FALSE,FALSE,TRUE,SA,A,A,SA,SA,A,A,SA,SA,SA,A,A,SA,SA,A,SA,SA,A,A,A,A,Male,56-60,N/A,N/A,N/A,N/A,N/A
396,Age Retirement,2013,1989,1990,Teacher,Secondary,Metropolitan,,Permanent Part-time,FALSE,FALSE,FALSE,FALSE,FALSE,FALSE,FALSE,FALSE,FALSE,FALSE,FALSE,FALSE,FALSE,FALSE,FALSE,FALSE,FALSE,TRUE,A,A,N,N,N,A,N,A,SA,A,N,N,N,N,A,A,A,A,A,N,A,Male,56-60,N/A,N/A,N/A,N/A,N/A
397,Age Retirement,2013,1979,1991,Teacher,Secondary,Far North Queensland,,Permanent Part-time,FALSE,FALSE,FALSE,FALSE,FALSE,FALSE,FALSE,FALSE,FALSE,FALSE,FALSE,FALSE,TRUE,FALSE,FALSE,TRUE,FALSE,FALSE,N,A,A,A,A,SA,A,A,A,SA,A,A,A,A,A,SA,SA,A,A,SA,SA,Female,51-55,N/A,N/A,N/A,N/A,N/A
398,Age Retirement,2013,1996,1996,Teacher Aide,,Not Stated,,Permanent Part-time,FALSE,FALSE,FALSE,FALSE,FALSE,FALSE,FALSE,FALSE,FALSE,FALSE,FALSE,FALSE,FALSE,FALSE,FALSE,FALSE,FALSE,TRUE,SA,SA,A,A,A,A,A,SA,SA,SA,SA,SA,SA,SA,SA,A,SA,SA,SA,M,SA,Female,61 or older,N/A,N/A,N/A,N/A,N/A
399,Resignation-Other reasons,2012,1993,2011,Guidance Officer,,Darling Downs South West,,Permanent Part-time,FALSE,FALSE,FALSE,FALSE,FALSE,FALSE,FALSE,FALSE,TRUE,FALSE,TRUE,TRUE,FALSE,FALSE,FALSE,FALSE,FALSE,FALSE,A,A,D,A,A,A,A,A,A,A,A,A,A,A,A,A,A,A,A,N,A,Female,41-45,N/A,N/A,N/A,N/A,N/A
400,Resignation-Other employer,2013,Not Stated,Not Stated,Cleaner,,Not Stated,,,FALSE,FALSE,FALSE,TRUE,FALSE,FALSE,FALSE,FALSE,FALSE,TRUE,FALSE,FALSE,FALSE,FALSE,FALSE,FALSE,FALSE,FALSE,N,N,N,D,N,N,N/A,SD,N/A,SA,N,N,D,A,N,N/A,N,N,N/A,N,N/A,Male,56-60,N/A,N/A,N/A,N/A,N/A
401,Age Retirement,2013,1971,1974,Teacher,Primary,South East,,Permanent Full-time,FALSE,FALSE,FALSE,FALSE,TRUE,FALSE,FALSE,FALSE,FALSE,FALSE,FALSE,FALSE,FALSE,FALSE,FALSE,TRUE,FALSE,FALSE,A,A,SD,A,A,SD,D,SA,SA,D,D,A,N,D,A,A,D,A,D,SD,A,Female,56-60,N/A,N/A,N/A,N/A,N/A
402,Age Retirement,2013,1998,2011,Teacher,Primary,Metropolitan,,Permanent Part-time,FALSE,FALSE,FALSE,TRUE,FALSE,FALSE,FALSE,FALSE,FALSE,FALSE,FALSE,FALSE,FALSE,FALSE,FALSE,TRUE,FALSE,FALSE,A,A,A,A,A,A,A,A,A,A,A,N,SD,SD,N,D,A,A,A,D,D,Female,56-60,N/A,N/A,N/A,N/A,N/A
403,Voluntary Early Retirement (VER),2013,1976,1989,Teacher,Primary,Metropolitan,,Permanent Full-time,FALSE,FALSE,FALSE,FALSE,FALSE,FALSE,FALSE,FALSE,FALSE,FALSE,FALSE,FALSE,FALSE,FALSE,FALSE,TRUE,FALSE,FALSE,A,N,A,A,N,D,N,N,A,A,N,A,N/A,A,A,N,N,N,A,D,N,Female,56-60,N/A,N/A,N/A,N/A,N/A
404,Termination,2013,2008,2008,Cleaner,,North Coast,,Permanent Part-time,FALSE,FALSE,FALSE,FALSE,FALSE,FALSE,FALSE,FALSE,FALSE,FALSE,TRUE,FALSE,FALSE,FALSE,FALSE,FALSE,FALSE,FALSE,SA,N/A,SA,SA,SA,SA,SA,SA,SA,SA,SA,SA,N/A,SA,SA,SA,SA,SA,SA,SA,SA,Female,46-50,N/A,N/A,N/A,N/A,N/A
405,Age Retirement,2013,1999,1999,Teacher,Primary,Central Queensland,,Permanent Full-time,FALSE,FALSE,FALSE,FALSE,FALSE,FALSE,FALSE,FALSE,FALSE,FALSE,FALSE,FALSE,FALSE,FALSE,FALSE,TRUE,FALSE,FALSE,A,A,A,A,A,A,A,A,A,A,A,A,A,A,A,A,SA,SA,SA,A,A,Female,51-55,N/A,N/A,N/A,N/A,N/A
406,Resignation-Other reasons,2012,Not Stated,Not Stated,Teacher,Primary,Not Stated,,,FALSE,FALSE,TRUE,FALSE,FALSE,FALSE,FALSE,FALSE,FALSE,FALSE,TRUE,FALSE,FALSE,FALSE,FALSE,FALSE,FALSE,FALSE,M,M,M,M,M,M,M,M,M,M,M,M,M,M,M,M,M,M,M,M,M,,,N/A,N/A,N/A,N/A,N/A
407,Resignation-Other reasons,2013,1991,1992,Teacher Aide,,Darling Downs South West,,Permanent Part-time,FALSE,FALSE,FALSE,FALSE,FALSE,FALSE,TRUE,FALSE,FALSE,FALSE,FALSE,FALSE,FALSE,TRUE,TRUE,FALSE,FALSE,FALSE,A,D,SD,SD,A,A,SD,SD,A,N,SD,SD,SD,SD,N,SD,N,D,SD,SD,N,Female,56-60,N/A,N/A,N/A,N/A,N/A
408,Resignation-Move overseas/interstate,2013,Not Stated,2011,Technical Officer,,Central Queensland,,Temporary Part-time,FALSE,FALSE,FALSE,FALSE,FALSE,FALSE,FALSE,FALSE,FALSE,FALSE,FALSE,TRUE,FALSE,FALSE,FALSE,FALSE,FALSE,FALSE,M,M,SA,SA,A,SA,SA,SA,SA,SA,SA,SA,N,A,N,A,A,A,A,A,N,Male,61 or older,N/A,N/A,N/A,N/A,N/A
409,Resignation-Other reasons,2012,2006,2006,Teacher,Primary,Not Stated,,Permanent Full-time,FALSE,TRUE,TRUE,TRUE,TRUE,TRUE,TRUE,FALSE,TRUE,TRUE,TRUE,TRUE,FALSE,FALSE,FALSE,TRUE,FALSE,FALSE,A,D,D,N/A,D,SD,D,N,N,N,N,N,D,N,N,D,D,D,D,SD,SD,Female,26-30,N/A,N/A,N/A,N/A,N/A
410,Resignation-Other reasons,2012,Not Stated,Not Stated,Teacher Aide,,Not Stated,,Permanent Part-time,FALSE,FALSE,FALSE,FALSE,FALSE,FALSE,FALSE,FALSE,FALSE,FALSE,TRUE,FALSE,FALSE,FALSE,FALSE,FALSE,FALSE,FALSE,D,SD,SD,A,A,D,SA,SD,SD,N,D,N,D,D,D,SD,SD,D,D,M,A,Female,36-40,N/A,N/A,N/A,N/A,N/A
411,Resignation-Other reasons,2013,2008,2008,Teacher,Primary,Central Queensland,,Permanent Full-time,FALSE,FALSE,FALSE,FALSE,FALSE,FALSE,FALSE,FALSE,FALSE,FALSE,FALSE,FALSE,FALSE,FALSE,FALSE,FALSE,FALSE,TRUE,A,N,A,A,A,A,A,A,SA,A,SA,A,A,SA,N,A,A,A,A,M,A,Female,26-30,N/A,N/A,N/A,N/A,N/A
412,Age Retirement,2012,Not Stated,Not Stated,School Administrative Staff,Primary,Not Stated,,Permanent Part-time,FALSE,FALSE,FALSE,FALSE,FALSE,FALSE,FALSE,FALSE,FALSE,FALSE,FALSE,FALSE,FALSE,FALSE,FALSE,FALSE,FALSE,FALSE,M,M,M,M,M,M,M,M,M,M,M,M,M,M,M,M,M,M,M,M,M,Female,61 or older,N/A,N/A,N/A,N/A,Yes
413,Resignation-Other reasons,2013,2008,2009,Cleaner,,Not Stated,,Permanent Full-time,FALSE,FALSE,FALSE,FALSE,FALSE,FALSE,FALSE,FALSE,FALSE,FALSE,FALSE,FALSE,FALSE,TRUE,FALSE,FALSE,FALSE,FALSE,A,A,A,A,A,A,A,A,A,A,A,A,N/A,A,N/A,A,A,A,A,N/A,A,Female,41-45,N/A,N/A,N/A,N/A,N/A
414,Age Retirement,2012,1988,1988,Teacher,Primary,Metropolitan,,Permanent Part-time,FALSE,FALSE,FALSE,FALSE,FALSE,FALSE,FALSE,FALSE,FALSE,FALSE,FALSE,FALSE,FALSE,FALSE,FALSE,FALSE,FALSE,TRUE,A,A,N,N,A,A,N,N,A,N,N,N/A,N,N,N,A,A,N,N,SD,A,Female,61 or older,N/A,N/A,N/A,N/A,Yes
415,Resignation-Other employer,2013,1997,2009,Teacher,Primary,Darling Downs South West,,Permanent Full-time,TRUE,FALSE,FALSE,FALSE,FALSE,FALSE,FALSE,FALSE,FALSE,FALSE,FALSE,FALSE,FALSE,FALSE,FALSE,FALSE,FALSE,FALSE,SA,SA,A,A,A,A,A,A,A,A,A,A,N,N,N,A,A,A,A,A,A,Female,41-45,N/A,N/A,N/A,N/A,N/A
416,Resignation-Move overseas/interstate,2013,2011,2013,Teacher,Primary,Central Queensland,,Permanent Full-time,TRUE,FALSE,TRUE,FALSE,FALSE,FALSE,FALSE,FALSE,FALSE,FALSE,FALSE,FALSE,FALSE,FALSE,FALSE,FALSE,FALSE,FALSE,SA,SA,A,SA,SA,A,A,SA,SA,SA,SA,A,SA,SA,SA,SA,A,A,A,A,N/A,Male,26-30,N/A,N/A,N/A,N/A,N/A
417,Resignation-Other reasons,2012,1963,1989,Teacher,Special Education,Metropolitan,,Permanent Full-time,FALSE,FALSE,FALSE,FALSE,FALSE,FALSE,FALSE,FALSE,FALSE,FALSE,FALSE,FALSE,FALSE,TRUE,TRUE,FALSE,FALSE,FALSE,A,A,A,A,A,A,A,A,A,A,A,A,A,A,A,A,A,A,A,A,A,Female,61 or older,N/A,N/A,N/A,N/A,N/A
418,Resignation-Other reasons,2013,2008,2011,Teacher Aide,Primary,South East,,Permanent Part-time,FALSE,TRUE,FALSE,FALSE,FALSE,FALSE,FALSE,FALSE,FALSE,FALSE,FALSE,FALSE,FALSE,FALSE,FALSE,TRUE,TRUE,FALSE,SA,N,A,N,A,N,N,SA,SA,SA,SA,SA,N,N,A,A,A,A,N,N,SA,Female,41-45,N/A,N/A,N/A,N/A,N/A
419,Age Retirement,2013,Not Stated,Not Stated,Head of Curriculum/Head of Special Education,,North Coast,,Permanent Full-time,FALSE,FALSE,FALSE,FALSE,FALSE,FALSE,FALSE,FALSE,FALSE,FALSE,TRUE,FALSE,FALSE,FALSE,FALSE,TRUE,TRUE,FALSE,A,A,D,A,A,SD,SA,N,A,A,A,A,N,A,N,D,D,N,D,A,A,Male,56-60,N/A,N/A,N/A,N/A,N/A
420,Resignation-Other reasons,2013,2012,2012,Teacher Aide,,North Queensland,,Temporary Part-time,FALSE,FALSE,FALSE,FALSE,FALSE,FALSE,FALSE,FALSE,TRUE,FALSE,FALSE,FALSE,FALSE,FALSE,FALSE,FALSE,FALSE,FALSE,SA,N,SA,SA,A,A,A,SA,SA,A,SA,SA,SA,A,SA,SA,A,SA,SA,A,A,Female,41-45,N/A,N/A,N/A,Yes,N/A
421,Age Retirement,2013,1970,1970,Teacher,Primary,Metropolitan,,Permanent Full-time,FALSE,FALSE,FALSE,FALSE,FALSE,FALSE,FALSE,FALSE,FALSE,FALSE,TRUE,FALSE,FALSE,FALSE,FALSE,TRUE,FALSE,FALSE,SA,SA,SA,SA,SA,SA,A,SA,SA,SA,SA,SA,A,A,SA,SA,SA,SA,SA,M,A,Female,61 or older,N/A,N/A,N/A,N/A,N/A
422,Age Retirement,2013,1972,1984,Teacher,Secondary,South East,,Permanent Full-time,FALSE,FALSE,FALSE,FALSE,FALSE,FALSE,FALSE,FALSE,FALSE,FALSE,FALSE,FALSE,FALSE,FALSE,FALSE,FALSE,FALSE,TRUE,SA,SA,SA,SA,SA,SA,SA,SA,SA,SA,SA,SA,SA,SA,SA,SA,SA,SA,SA,SA,SA,Male,61 or older,N/A,N/A,N/A,N/A,N/A
423,Age Retirement,2013,2005,2006,Cleaner,,North Coast,,Permanent Part-time,FALSE,FALSE,FALSE,FALSE,FALSE,FALSE,FALSE,FALSE,FALSE,FALSE,FALSE,FALSE,FALSE,FALSE,FALSE,FALSE,FALSE,TRUE,SA,N/A,SA,SA,SA,SA,N,SA,SA,SA,D,A,A,SA,D,A,SA,SA,SA,SD,SA,Male,61 or older,N/A,N/A,N/A,N/A,N/A
424,Resignation-Other employer,2013,2008,2012,Head of Curriculum/Head of Special Education,,North Queensland,,Permanent Full-time,FALSE,FALSE,FALSE,FALSE,FALSE,FALSE,FALSE,FALSE,FALSE,FALSE,FALSE,TRUE,FALSE,FALSE,FALSE,FALSE,FALSE,FALSE,SA,A,SA,SA,A,N,N,A,A,SA,SA,SA,N,N,A,A,A,A,A,A,A,Male,31-35,N/A,N/A,N/A,N/A,N/A
425,Other,2013,2000,2006,Teacher Aide,,Not Stated,,Permanent Part-time,FALSE,FALSE,FALSE,FALSE,FALSE,FALSE,FALSE,FALSE,FALSE,FALSE,FALSE,FALSE,FALSE,FALSE,FALSE,FALSE,FALSE,TRUE,A,N,SD,SD,SD,N,SD,N,A,N,N,M,N,A,N,D,D,D,N,N,N,Female,51-55,N/A,N/A,N/A,N/A,N/A
426,Other,2013,2009,2009,Teacher Aide,,Not Stated,,,FALSE,FALSE,FALSE,FALSE,FALSE,FALSE,FALSE,FALSE,FALSE,FALSE,FALSE,FALSE,FALSE,FALSE,FALSE,TRUE,FALSE,FALSE,A,A,N,N,A,A,M,N,A,A,N,A,A,A,SA,N,SA,A,N,N,A,Male,26-30,N/A,N/A,N/A,N/A,N/A
427,Other,2013,2010,2012,Teacher Aide,,Darling Downs South West,,Permanent Full-time,FALSE,FALSE,FALSE,FALSE,FALSE,FALSE,FALSE,FALSE,FALSE,FALSE,FALSE,TRUE,FALSE,FALSE,FALSE,FALSE,FALSE,FALSE,A,A,A,A,A,A,SA,A,SA,A,A,A,SA,SA,SA,A,A,SA,SA,A,A,Female,46-50,N/A,N/A,N/A,N/A,N/A
428,Age Retirement,2013,1993,2003,Teacher Aide,,Central Queensland,,Permanent Part-time,FALSE,FALSE,FALSE,FALSE,FALSE,FALSE,FALSE,FALSE,FALSE,FALSE,FALSE,FALSE,FALSE,FALSE,FALSE,FALSE,FALSE,TRUE,A,N,D,N,N,A,N,A,A,N,M,N,N,N,N,N,N,A,A,N,N,Female,61 or older,N/A,N/A,N/A,N/A,N/A
429,Ill Health Retirement,2013,1984,1984,Cleaner,,Metropolitan,,Permanent Full-time,FALSE,FALSE,FALSE,FALSE,FALSE,FALSE,FALSE,FALSE,FALSE,FALSE,FALSE,FALSE,FALSE,FALSE,FALSE,FALSE,TRUE,FALSE,A,N/A,SD,N,D,N/A,SD,D,A,SD,A,N,SD,D,N/A,SD,N,D,D,SD,N,Female,61 or older,N/A,N/A,N/A,N/A,Yes
430,Ill Health Retirement,2013,1976,1976,Teacher Aide,,Darling Downs South West,,Permanent Part-time,FALSE,FALSE,FALSE,FALSE,FALSE,FALSE,FALSE,FALSE,FALSE,FALSE,FALSE,FALSE,FALSE,TRUE,FALSE,FALSE,FALSE,FALSE,A,M,A,A,SA,SA,A,A,A,A,N,N,N,N,A,A,N,A,N,M,M,Female,61 or older,N/A,N/A,N/A,N/A,N/A
431,Other,2012,2003,2004,Teacher Aide,,Metropolitan,,Permanent Part-time,FALSE,FALSE,FALSE,FALSE,FALSE,FALSE,FALSE,FALSE,FALSE,TRUE,FALSE,FALSE,FALSE,FALSE,FALSE,FALSE,FALSE,FALSE,SD,N,D,SD,A,D,D,SD,D,A,SD,A,D,SD,D,SD,SD,D,SD,SD,D,Female,41-45,,,,,
432,Age Retirement,2013,2002,2002,Cleaner,,North Queensland,,Permanent Part-time,FALSE,FALSE,FALSE,FALSE,FALSE,FALSE,FALSE,FALSE,FALSE,FALSE,FALSE,FALSE,FALSE,FALSE,FALSE,FALSE,FALSE,TRUE,SA,SA,SA,SA,SA,SA,SA,SA,SA,SA,SA,SA,SA,SA,SA,SA,SA,SA,SA,SA,SA,Male,61 or older,N/A,N/A,N/A,N/A,N/A
433,Resignation-Move overseas/interstate,2013,2008,2010,Technical Officer,,Central Office,,Permanent Full-time,FALSE,FALSE,FALSE,TRUE,TRUE,FALSE,TRUE,TRUE,FALSE,TRUE,FALSE,FALSE,FALSE,FALSE,FALSE,FALSE,TRUE,FALSE,D,N,D,D,A,A,A,N,A,A,N,A,N,N,N,N,N,D,D,N,N,Female,26-30,N/A,N/A,N/A,N/A,N/A
434,Resignation-Other reasons,2013,1993,2002,Teacher,Primary,North Queensland,,Permanent Part-time,FALSE,FALSE,FALSE,FALSE,TRUE,FALSE,FALSE,FALSE,FALSE,TRUE,FALSE,FALSE,FALSE,FALSE,FALSE,FALSE,TRUE,FALSE,D,SD,SD,A,D,A,SD,D,N,A,SA,N,SD,D,SD,A,A,A,SD,N,N,Female,46-50,N/A,N/A,N/A,N/A,N/A
435,Resignation-Other reasons,2013,2006,2010,Head of Curriculum/Head of Special Education,,Central Queensland,,Permanent Full-time,FALSE,TRUE,FALSE,FALSE,FALSE,FALSE,FALSE,FALSE,FALSE,FALSE,FALSE,TRUE,FALSE,FALSE,FALSE,FALSE,TRUE,FALSE,A,A,N,A,D,SD,D,A,A,A,SA,A,A,A,A,SA,N,N,D,SD,D,Female,26-30,N/A,N/A,N/A,N/A,N/A
436,Age Retirement,2013,2003,2003,Cleaner,,South East,,Permanent Part-time,FALSE,FALSE,FALSE,FALSE,FALSE,FALSE,FALSE,FALSE,FALSE,FALSE,FALSE,FALSE,FALSE,FALSE,FALSE,FALSE,FALSE,TRUE,A,N,A,A,A,A,A,A,A,A,A,A,N,A,N,A,A,A,A,A,M,Female,51-55,N/A,N/A,N/A,N/A,N/A
437,Ill Health Retirement,2013,1986,2000,Teacher,Secondary,Metropolitan,,Permanent Part-time,FALSE,FALSE,FALSE,FALSE,FALSE,FALSE,FALSE,FALSE,FALSE,FALSE,FALSE,FALSE,FALSE,TRUE,FALSE,FALSE,FALSE,FALSE,SA,SA,SA,SA,A,SD,SD,SA,SA,SA,SA,SA,A,A,A,SA,SA,SA,SA,SD,SA,Female,46-50,N/A,N/A,N/A,Yes,N/A
438,Resignation-Other reasons,2013,2002,2002,Teacher,Special Education,Darling Downs South West,,Permanent Full-time,FALSE,FALSE,FALSE,TRUE,FALSE,FALSE,FALSE,FALSE,FALSE,FALSE,FALSE,FALSE,TRUE,TRUE,FALSE,FALSE,FALSE,FALSE,SA,N,A,A,A,A,A,A,A,A,A,A,D,D,SA,A,A,A,A,N,A,Female,31-35,N/A,N/A,N/A,Yes,N/A
439,Resignation-Other employer,2013,Not Stated,Not Stated,Teacher,Secondary,North Queensland,,Permanent Full-time,TRUE,FALSE,FALSE,FALSE,FALSE,FALSE,FALSE,FALSE,FALSE,FALSE,FALSE,TRUE,FALSE,FALSE,FALSE,FALSE,FALSE,FALSE,A,A,N,D,N,N,D,N,N,A,N,A,N,N,N,N,N,N,N,D,D,Female,21-25,N/A,N/A,N/A,N/A,N/A
440,Resignation-Other reasons,2012,1992,2009,Teacher Aide,,South East,,Permanent Full-time,FALSE,FALSE,FALSE,FALSE,TRUE,FALSE,TRUE,FALSE,FALSE,FALSE,FALSE,FALSE,FALSE,FALSE,TRUE,FALSE,FALSE,FALSE,A,A,D,SD,A,N,N,D,A,A,D,N,D,SD,N,D,N,N,N,A,A,Female,56-60,N/A,N/A,N/A,N/A,N/A
441,Age Retirement,2012,1993,1993,Guidance Officer,,South East,,Permanent Part-time,FALSE,FALSE,FALSE,FALSE,FALSE,FALSE,FALSE,FALSE,FALSE,FALSE,FALSE,FALSE,FALSE,FALSE,FALSE,TRUE,FALSE,FALSE,A,N,A,A,A,N,A,A,A,A,A,N,A,A,D,A,A,A,N,D,D,Female,61 or older,N/A,N/A,N/A,N/A,Yes
442,Resignation-Other reasons,2013,2010,2010,Teacher Aide,,North Queensland,,Permanent Part-time,FALSE,FALSE,FALSE,FALSE,FALSE,FALSE,FALSE,FALSE,FALSE,FALSE,FALSE,FALSE,FALSE,FALSE,FALSE,FALSE,FALSE,TRUE,A,N,N,SA,SA,SA,SA,SA,A,SA,A,N,N,N,D,N,N,A,N,A,A,Female,31-35,N/A,N/A,N/A,N/A,N/A
443,Ill Health Retirement,2013,Not Stated,Not Stated,Schools Officer,,South East,,Permanent Full-time,FALSE,FALSE,FALSE,FALSE,FALSE,FALSE,FALSE,FALSE,FALSE,FALSE,FALSE,FALSE,FALSE,TRUE,FALSE,FALSE,FALSE,FALSE,SA,A,SA,SA,N,SA,SA,SA,SA,SA,SA,A,SA,SA,SA,SA,SA,SA,SA,SA,SA,Male,56-60,N/A,N/A,N/A,N/A,N/A
444,Age Retirement,2013,1977,1999,Deputy Principal,,Central Queensland,,Permanent Full-time,FALSE,FALSE,FALSE,FALSE,FALSE,FALSE,FALSE,FALSE,FALSE,FALSE,FALSE,FALSE,FALSE,FALSE,FALSE,TRUE,FALSE,FALSE,A,A,A,A,A,D,N,SA,A,SA,SA,SA,SA,SA,A,A,SA,SA,SA,N,A,Female,56-60,N/A,N/A,N/A,N/A,N/A
445,Age Retirement,2013,1986,2006,Teacher,Secondary,Metropolitan,,Permanent Full-time,FALSE,FALSE,FALSE,TRUE,FALSE,FALSE,FALSE,FALSE,FALSE,FALSE,FALSE,FALSE,FALSE,FALSE,FALSE,FALSE,FALSE,FALSE,SA,N,D,N,D,N,A,N,A,A,D,N,N,A,A,A,N,N,A,N,A,Female,61 or older,N/A,N/A,N/A,N/A,N/A
446,Ill Health Retirement,2012,1999,2009,Teacher Aide,,North Coast,,Permanent Part-time,FALSE,FALSE,TRUE,FALSE,TRUE,FALSE,TRUE,FALSE,FALSE,FALSE,FALSE,FALSE,FALSE,FALSE,TRUE,TRUE,FALSE,FALSE,N,N,SD,A,SA,A,SD,SD,SA,SA,SA,N,N,A,N,SA,SD,SD,SD,N,N,Male,61 or older,N/A,N/A,N/A,Yes,N/A
447,Age Retirement,2013,1987,2000,Teacher,Primary,Metropolitan,,Permanent Full-time,FALSE,FALSE,FALSE,FALSE,FALSE,FALSE,FALSE,FALSE,FALSE,FALSE,FALSE,FALSE,FALSE,FALSE,FALSE,FALSE,FALSE,TRUE,SA,SA,SA,SA,SA,A,SA,SA,SA,SA,SA,SA,A,SA,SA,SA,SA,SA,SA,A,SA,Female,61 or older,N/A,N/A,N/A,N/A,N/A
448,Termination,2012,2010,2010,Public Servant,AO8 and Above,Central Office,Information and Technologies,Temporary Full-time,FALSE,TRUE,FALSE,FALSE,TRUE,FALSE,FALSE,FALSE,FALSE,FALSE,FALSE,FALSE,FALSE,FALSE,FALSE,FALSE,FALSE,FALSE,D,N,D,A,A,A,A,A,SA,A,SA,SA,A,SA,SA,A,A,N,N,N,A,Male,31-35,Yes,N/A,N/A,N/A,N/A
449,Ill Health Retirement,2013,2003,2003,Cleaner,,Metropolitan,,Permanent Part-time,FALSE,FALSE,FALSE,FALSE,FALSE,FALSE,FALSE,FALSE,FALSE,FALSE,FALSE,FALSE,FALSE,TRUE,FALSE,FALSE,FALSE,FALSE,N,N,A,A,A,A,A,A,A,A,A,N,A,N,N,A,A,A,N,N,A,Female,61 or older,N/A,N/A,N/A,N/A,N/A
450,Resignation-Other employer,2012,Not Stated,Not Stated,Teacher,Primary,South East,,Permanent Full-time,FALSE,FALSE,FALSE,FALSE,TRUE,FALSE,FALSE,FALSE,FALSE,TRUE,FALSE,FALSE,FALSE,FALSE,FALSE,FALSE,FALSE,FALSE,A,SA,D,A,N,SA,SA,SA,SA,A,A,SA,SA,SA,SA,SA,SA,SA,SA,D,N,Male,36-40,N/A,N/A,N/A,N/A,N/A
451,Age Retirement,2013,1970,1992,Teacher,Primary,North Coast,,Permanent Full-time,FALSE,FALSE,FALSE,FALSE,FALSE,FALSE,FALSE,FALSE,FALSE,FALSE,FALSE,FALSE,FALSE,FALSE,FALSE,TRUE,TRUE,FALSE,A,A,N,A,D,D,N,A,A,A,A,A,A,A,A,A,A,A,A,D,A,Female,61 or older,N/A,N/A,N/A,N/A,N/A
452,Resignation-Other reasons,2013,2009,2012,Teacher Aide,,Metropolitan,,Permanent Part-time,FALSE,FALSE,FALSE,FALSE,FALSE,FALSE,FALSE,FALSE,FALSE,FALSE,FALSE,TRUE,FALSE,FALSE,FALSE,FALSE,FALSE,FALSE,SA,SA,SA,SA,SA,SA,SA,SA,SA,SA,SA,SA,SA,SA,SA,SA,SA,SA,SA,SA,SA,Female,21-25,N/A,N/A,N/A,N/A,N/A
453,Resignation-Move overseas/interstate,2013,1991,2007,Head of Curriculum/Head of Special Education,,Not Stated,,Permanent Full-time,FALSE,FALSE,FALSE,FALSE,FALSE,FALSE,FALSE,FALSE,FALSE,FALSE,FALSE,FALSE,FALSE,FALSE,FALSE,FALSE,FALSE,TRUE,N,A,A,A,A,D,A,SA,A,A,A,A,A,A,N,A,A,A,A,D,N,Female,41-45,N/A,N/A,N/A,N/A,N/A
454,Age Retirement,2013,Not Stated,Not Stated,Cleaner,,Darling Downs South West,,Permanent Full-time,FALSE,FALSE,FALSE,FALSE,FALSE,FALSE,FALSE,FALSE,FALSE,FALSE,FALSE,FALSE,FALSE,FALSE,FALSE,FALSE,FALSE,TRUE,A,N/A,A,A,A,A,A,A,A,A,A,A,N/A,A,A,A,A,A,A,N,A,Male,61 or older,N/A,N/A,N/A,N/A,N/A
455,Resignation-Move overseas/interstate,2013,2013,2013,Public Servant,A01-A04,Central Office,Human Resources,Permanent Full-time,FALSE,FALSE,FALSE,FALSE,FALSE,FALSE,FALSE,FALSE,FALSE,FALSE,FALSE,TRUE,FALSE,FALSE,FALSE,TRUE,FALSE,FALSE,A,N/A,A,N/A,A,N,N,A,A,SA,SA,A,N,N/A,N/A,A,A,A,A,A,A,Female,56-60,N/A,N/A,N/A,N/A,N/A
456,Other,2013,2009,2009,Teacher,Secondary,Central Queensland,,Permanent Full-time,FALSE,FALSE,FALSE,TRUE,FALSE,FALSE,FALSE,FALSE,FALSE,FALSE,FALSE,FALSE,FALSE,TRUE,FALSE,TRUE,TRUE,FALSE,A,N,N,A,N,SD,SD,A,A,A,SA,N/A,A,N,D,SD,N,N,N,A,A,Female,26-30,N/A,N/A,N/A,N/A,N/A
457,Resignation-Other reasons,2013,2013,2013,Teacher,Primary,Not Stated,,Permanent Full-time,FALSE,FALSE,FALSE,FALSE,FALSE,FALSE,FALSE,FALSE,FALSE,FALSE,FALSE,FALSE,FALSE,FALSE,FALSE,TRUE,FALSE,FALSE,A,N,A,N,A,D,SD,A,A,N,A,SD,M,A,A,A,N,A,A,N,N,Female,21-25,N/A,N/A,N/A,N/A,N/A
458,Voluntary Early Retirement (VER),2013,1974,1982,Teacher,Primary,Not Stated,,Permanent Full-time,FALSE,FALSE,FALSE,TRUE,FALSE,FALSE,FALSE,FALSE,FALSE,FALSE,FALSE,FALSE,FALSE,TRUE,FALSE,FALSE,TRUE,FALSE,A,N,N/A,SD,SD,D,SD,N/A,A,SD,A,A,SD,SD,SD,SD,N/A,A,SD,SD,N/A,Female,56-60,N/A,N/A,N/A,N/A,N/A
459,Age Retirement,2013,1972,1989,Public Servant,A01-A04,Metropolitan,,Permanent Full-time,FALSE,FALSE,FALSE,FALSE,FALSE,FALSE,FALSE,FALSE,FALSE,FALSE,FALSE,FALSE,FALSE,FALSE,FALSE,TRUE,TRUE,FALSE,A,N,A,N,N,N,A,A,SA,A,A,A,N,A,A,A,A,A,A,A,A,Female,56-60,N/A,N/A,N/A,N/A,N/A
460,Resignation-Move overseas/interstate,2012,2011,2013,Public Servant,AO5-AO7,Central Office,Information and Technologies,Temporary Full-time,FALSE,TRUE,FALSE,FALSE,FALSE,FALSE,FALSE,FALSE,FALSE,FALSE,FALSE,FALSE,FALSE,FALSE,FALSE,FALSE,FALSE,FALSE,A,N,N,A,A,N,A,SA,A,SA,A,A,SA,SA,SA,N,A,A,N,N,N,Female,36-40,N/A,N/A,N/A,N/A,N/A
461,Termination,2013,2009,2009,School Administrative Staff,,Darling Downs South West,,Permanent Part-time,FALSE,FALSE,FALSE,FALSE,FALSE,FALSE,FALSE,FALSE,FALSE,FALSE,FALSE,FALSE,FALSE,FALSE,FALSE,FALSE,FALSE,TRUE,A,SA,N,A,A,SA,A,A,A,A,A,SD,N,A,N,A,A,A,A,N,SA,Female,51-55,N/A,N/A,N/A,N/A,N/A
462,Resignation-Other reasons,2013,2010,2010,Teacher Aide,,Not Stated,,Permanent Part-time,FALSE,TRUE,FALSE,FALSE,FALSE,FALSE,FALSE,FALSE,FALSE,FALSE,FALSE,FALSE,FALSE,FALSE,FALSE,FALSE,FALSE,FALSE,SA,SA,SA,SA,SA,SA,SA,SA,SA,SA,SA,SA,SA,SA,SA,SA,SA,SA,SA,SA,SA,Female,51-55,N/A,N/A,N/A,N/A,N/A
463,Voluntary Early Retirement (VER),2013,1981,1981,Teacher,Primary,North Queensland,,Permanent Full-time,FALSE,FALSE,FALSE,FALSE,FALSE,FALSE,FALSE,FALSE,FALSE,FALSE,FALSE,FALSE,FALSE,FALSE,FALSE,FALSE,FALSE,TRUE,A,A,A,A,SA,A,A,A,SA,SA,SA,SA,A,A,A,A,A,A,A,N,SA,Female,51-55,N/A,N/A,N/A,N/A,N/A
464,Ill Health Retirement,2013,1991,Not Stated,Teacher,Primary,Central Queensland,,Permanent Part-time,FALSE,FALSE,FALSE,FALSE,FALSE,FALSE,FALSE,FALSE,FALSE,FALSE,FALSE,FALSE,FALSE,TRUE,FALSE,TRUE,TRUE,FALSE,A,N/A,SA,A,A,D,SD,A,SA,A,A,A,D,D,A,SA,A,A,D,SD,A,Female,41-45,N/A,N/A,N/A,Yes,N/A
465,Resignation-Other employer,2013,2002,2002,Teacher,Primary,Not Stated,,Permanent Part-time,FALSE,FALSE,FALSE,FALSE,FALSE,FALSE,FALSE,TRUE,FALSE,FALSE,FALSE,FALSE,FALSE,FALSE,FALSE,FALSE,FALSE,FALSE,A,N,N,A,A,SA,A,A,SA,SA,A,N/A,SA,SA,N/A,SA,A,SA,SA,N,N/A,Female,36-40,N/A,N/A,N/A,N/A,N/A
466,Age Retirement,2013,1991,2008,Teacher,Special Education,Not Stated,,Permanent Part-time,FALSE,FALSE,FALSE,FALSE,FALSE,FALSE,FALSE,FALSE,FALSE,FALSE,FALSE,FALSE,FALSE,TRUE,FALSE,TRUE,FALSE,FALSE,A,N,A,N,A,A,A,SA,SA,SA,D,SA,SA,SA,SA,SA,SA,SA,SA,A,A,Female,56-60,N/A,N/A,N/A,N/A,N/A
467,Resignation-Other reasons,2013,2000,2013,Teacher,Secondary,Metropolitan,,Permanent Part-time,FALSE,FALSE,FALSE,FALSE,FALSE,FALSE,FALSE,FALSE,FALSE,FALSE,TRUE,FALSE,FALSE,FALSE,FALSE,TRUE,FALSE,FALSE,A,A,A,A,A,D,A,A,A,A,A,A,A,A,A,A,A,A,A,N,N,Female,41-45,N/A,N/A,N/A,N/A,N/A
468,Age Retirement,2012,Not Stated,Not Stated,Teacher Aide,,Darling Downs South West,,Permanent Part-time,FALSE,FALSE,FALSE,FALSE,FALSE,FALSE,FALSE,FALSE,FALSE,FALSE,FALSE,FALSE,FALSE,FALSE,FALSE,FALSE,FALSE,TRUE,SA,N,A,N,A,SA,SA,A,A,A,A,N,A,A,A,A,A,A,A,A,A,Female,61 or older,N/A,N/A,N/A,N/A,N/A
469,Ill Health Retirement,2013,1999,1999,Cleaner,,Not Stated,,Permanent Part-time,FALSE,FALSE,FALSE,FALSE,FALSE,FALSE,FALSE,FALSE,FALSE,FALSE,FALSE,FALSE,FALSE,TRUE,FALSE,FALSE,FALSE,FALSE,SA,A,A,A,A,A,A,A,A,A,A,A,SA,SA,A,A,A,A,A,SA,M,Female,61 or older,N/A,N/A,N/A,N/A,N/A
470,Other,2013,2010,2013,Teacher,Primary,Darling Downs South West,,Permanent Full-time,FALSE,TRUE,FALSE,FALSE,FALSE,FALSE,FALSE,FALSE,FALSE,FALSE,FALSE,FALSE,FALSE,FALSE,FALSE,TRUE,FALSE,FALSE,A,A,N,A,A,N,A,A,A,A,A,A,A,A,A,A,A,A,A,N,A,Female,21-25,N/A,N/A,N/A,N/A,N/A
471,Resignation-Other reasons,2013,1990,2013,Teacher,Primary,North Queensland,,Permanent Full-time,FALSE,FALSE,FALSE,FALSE,FALSE,FALSE,FALSE,FALSE,FALSE,FALSE,FALSE,FALSE,FALSE,TRUE,TRUE,TRUE,FALSE,FALSE,SA,D,SD,A,SD,SD,SD,SD,A,A,SA,A,SA,,SA,SA,SA,SA,SA,SD,SA,Female,46-50,N/A,N/A,N/A,Yes,N/A
472,Resignation-Other reasons,2013,Not Stated,Not Stated,Teacher,Secondary,South East,,Permanent Part-time,FALSE,FALSE,TRUE,FALSE,FALSE,FALSE,FALSE,FALSE,FALSE,FALSE,FALSE,FALSE,FALSE,FALSE,FALSE,FALSE,TRUE,FALSE,A,M,M,SD,A,M,SD,SD,SD,N,SD,N,N/A,SD,N/A,SD,SD,SD,SD,M,SD,Female,56-60,N/A,N/A,N/A,N/A,N/A
473,Age Retirement,2013,1970,1998,Head of Curriculum/Head of Special Education,,North Queensland,,Permanent Full-time,FALSE,FALSE,FALSE,TRUE,FALSE,FALSE,FALSE,FALSE,FALSE,FALSE,FALSE,FALSE,FALSE,FALSE,FALSE,TRUE,TRUE,FALSE,D,A,SD,D,A,SD,SD,SD,D,A,SA,A,SD,SD,A,A,A,A,A,D,SD,Female,61 or older,N/A,N/A,N/A,N/A,N/A
474,Resignation-Other reasons,2013,1997,1997,Teacher,Primary,North Queensland,,Permanent Part-time,FALSE,FALSE,FALSE,TRUE,TRUE,FALSE,TRUE,FALSE,FALSE,FALSE,FALSE,FALSE,FALSE,FALSE,FALSE,TRUE,FALSE,FALSE,N,N,SD,N,A,D,N,D,D,A,N,D,D,D,N,N,N,N,SD,SD,N,Female,51-55,N/A,N/A,N/A,N/A,N/A
475,Age Retirement,2013,2002,2009,Teacher Aide,,Darling Downs South West,,Permanent Part-time,FALSE,FALSE,FALSE,FALSE,FALSE,FALSE,FALSE,FALSE,TRUE,FALSE,FALSE,TRUE,FALSE,FALSE,FALSE,FALSE,FALSE,FALSE,A,N,A,A,A,A,A,A,A,A,A,N,N,A,N,N,A,N,N,N,A,,61 or older,N/A,N/A,N/A,N/A,N/A
476,Ill Health Retirement,2013,2005,2005,Cleaner,,Darling Downs South West,,Permanent Part-time,FALSE,FALSE,FALSE,FALSE,FALSE,FALSE,FALSE,FALSE,FALSE,FALSE,FALSE,FALSE,FALSE,TRUE,FALSE,FALSE,FALSE,FALSE,A,N,A,A,A,A,A,A,N,N,A,N,N,N,N,A,A,N,N,M,A,Female,61 or older,N/A,N/A,N/A,N/A,N/A
477,Resignation-Other reasons,2013,2008,2011,Teacher,Secondary,Metropolitan,,Casual,FALSE,FALSE,FALSE,FALSE,FALSE,FALSE,FALSE,FALSE,FALSE,FALSE,FALSE,FALSE,FALSE,FALSE,FALSE,TRUE,FALSE,FALSE,A,N/A,SD,N,N,SD,N/A,SD,N/A,SD,N/A,N/A,N/A,N,N/A,SD,N/A,SD,N/A,N/A,A,Male,51-55,N/A,N/A,N/A,N/A,Yes
478,Resignation-Move overseas/interstate,2013,2004,2004,Cleaner,,South East,,Permanent Full-time,FALSE,FALSE,FALSE,FALSE,FALSE,FALSE,FALSE,FALSE,FALSE,FALSE,FALSE,FALSE,FALSE,FALSE,FALSE,FALSE,FALSE,TRUE,A,N,A,A,A,A,A,A,A,A,A,A,N,A,N,A,A,A,A,N,A,Male,46-50,N/A,N/A,N/A,N/A,N/A
479,Resignation-Other reasons,2013,2000,Not Stated,Teacher,Primary,Darling Downs South West,,Permanent Part-time,FALSE,FALSE,FALSE,FALSE,FALSE,FALSE,FALSE,FALSE,FALSE,FALSE,FALSE,FALSE,FALSE,FALSE,FALSE,FALSE,FALSE,TRUE,SA,SA,SA,SA,SA,SA,SA,SA,SA,SA,SA,SA,SA,SA,SA,SA,SA,SA,A,SA,SA,Female,51-55,N/A,N/A,N/A,N/A,N/A
480,Resignation-Other reasons,2013,2013,2013,Teacher,Primary,Metropolitan,,Permanent Part-time,FALSE,FALSE,FALSE,FALSE,FALSE,FALSE,FALSE,FALSE,FALSE,FALSE,TRUE,FALSE,FALSE,FALSE,FALSE,TRUE,FALSE,FALSE,N,N,SA,N,SA,N,N,SA,SA,N,N,N/A,N/A,N/A,N/A,SA,SA,SA,SA,N/A,N/A,Female,26-30,Yes,N/A,N/A,N/A,N/A
481,Age Retirement,2013,1976,1976,Teacher Aide,,South East,,Permanent Part-time,FALSE,FALSE,FALSE,FALSE,FALSE,FALSE,FALSE,FALSE,FALSE,FALSE,FALSE,TRUE,FALSE,FALSE,FALSE,FALSE,FALSE,FALSE,SA,SA,A,A,A,A,A,A,A,A,A,A,SA,SA,SA,A,N,N,N,A,A,Female,61 or older,N/A,N/A,N/A,N/A,N/A
482,Resignation-Other reasons,2012,1990,1990,Teacher Aide,,Central Queensland,,Permanent Part-time,FALSE,FALSE,FALSE,FALSE,FALSE,FALSE,FALSE,FALSE,FALSE,FALSE,FALSE,FALSE,FALSE,FALSE,FALSE,TRUE,FALSE,FALSE,SA,N,N,N,A,N,N,N,N,N,N,A,N,A,A,N,A,A,A,N,N,Male,41-45,N/A,N/A,N/A,N/A,N/A
483,Age Retirement,2013,1999,2008,Teacher Aide,,South East,,Permanent Part-time,FALSE,FALSE,FALSE,FALSE,FALSE,FALSE,FALSE,FALSE,FALSE,FALSE,FALSE,FALSE,FALSE,FALSE,FALSE,FALSE,FALSE,TRUE,A,N,A,N,N,A,SA,A,A,SA,SA,A,N/A,SA,SA,N,A,SA,A,N/A,A,Female,56-60,N/A,N/A,N/A,N/A,N/A
484,Age Retirement,2013,1975,2009,Head of Curriculum/Head of Special Education,,Far North Queensland,,Permanent Part-time,FALSE,FALSE,FALSE,FALSE,FALSE,FALSE,FALSE,FALSE,FALSE,FALSE,FALSE,FALSE,FALSE,FALSE,FALSE,FALSE,TRUE,TRUE,A,A,A,A,D,A,A,A,SA,SA,SA,SA,D,D,N,A,A,A,D,A,A,Female,61 or older,N/A,N/A,N/A,N/A,N/A
485,Age Retirement,2013,1988,1988,Guidance Officer,,North Queensland,,Permanent Part-time,FALSE,FALSE,FALSE,FALSE,FALSE,FALSE,FALSE,FALSE,FALSE,FALSE,FALSE,FALSE,FALSE,FALSE,FALSE,TRUE,FALSE,FALSE,SA,N,N,N,SD,N,N,N,A,A,D,A,D,D,N,D,A,N,D,SD,A,Female,61 or older,N/A,N/A,N/A,N/A,N/A
486,Resignation-Move overseas/interstate,2012,2005,2010,Teacher Aide,,South East,,Permanent Part-time,FALSE,FALSE,FALSE,FALSE,FALSE,FALSE,FALSE,FALSE,FALSE,FALSE,FALSE,TRUE,FALSE,FALSE,FALSE,FALSE,FALSE,FALSE,SA,N,D,A,A,A,A,N,A,A,SA,A,A,A,A,N,A,A,A,N,A,Female,46-50,N/A,N/A,N/A,N/A,N/A
487,Resignation-Other reasons,2013,1993,1993,Teacher,Primary,Darling Downs South West,,Permanent Part-time,FALSE,FALSE,FALSE,FALSE,FALSE,FALSE,FALSE,FALSE,FALSE,FALSE,TRUE,FALSE,FALSE,FALSE,FALSE,FALSE,FALSE,FALSE,A,A,A,A,A,D,A,A,A,A,A,A,N/A,N/A,N/A,A,A,A,A,A,A,Female,41-45,N/A,N/A,N/A,N/A,N/A
488,Ill Health Retirement,2012,1993,2010,Teacher Aide,,North Coast,,Permanent Part-time,FALSE,FALSE,TRUE,FALSE,FALSE,FALSE,FALSE,FALSE,FALSE,FALSE,FALSE,FALSE,FALSE,TRUE,TRUE,FALSE,FALSE,FALSE,SD,SD,SD,SD,A,A,SD,SD,D,D,SD,SD,SD,M,SD,SD,SD,SD,D,SD,D,Female,61 or older,N/A,N/A,N/A,N/A,N/A
489,Age Retirement,2013,1987,1992,Guidance Officer,,Metropolitan,,Permanent Part-time,FALSE,FALSE,FALSE,FALSE,FALSE,FALSE,FALSE,FALSE,FALSE,FALSE,FALSE,FALSE,FALSE,TRUE,FALSE,TRUE,FALSE,FALSE,SA,SA,A,SA,SA,A,A,SA,SA,SA,SA,A,SA,SA,SA,SA,SA,SA,SA,A,SA,Female,61 or older,N/A,N/A,N/A,N/A,N/A
490,Resignation-Other reasons,2012,Not Stated,Not Stated,Cleaner,,Not Stated,,,FALSE,FALSE,FALSE,FALSE,FALSE,FALSE,FALSE,FALSE,FALSE,FALSE,FALSE,FALSE,FALSE,FALSE,FALSE,FALSE,FALSE,TRUE,N,N/A,A,N/A,N,N/A,N/A,A,N,A,N/A,N/A,N/A,SA,N/A,N/A,A,A,A,N,N,Female,46-50,N/A,N/A,N/A,N/A,N/A
491,Age Retirement,2013,1970,2012,Head of Curriculum/Head of Special Education,,South East,,Permanent Full-time,FALSE,FALSE,FALSE,FALSE,FALSE,FALSE,FALSE,FALSE,FALSE,FALSE,FALSE,FALSE,FALSE,FALSE,FALSE,TRUE,TRUE,FALSE,A,SA,A,A,A,A,A,SA,SA,SA,SA,SA,A,SA,SA,A,SA,SA,SA,N,A,Female,61 or older,N/A,N/A,N/A,N/A,N/A
492,Ill Health Retirement,2013,1989,2005,Professional Officer,PO1-PO4,North Coast,,Permanent Full-time,FALSE,FALSE,FALSE,FALSE,FALSE,FALSE,FALSE,FALSE,FALSE,FALSE,FALSE,FALSE,FALSE,TRUE,FALSE,TRUE,FALSE,FALSE,A,A,A,A,A,N,N,A,A,A,A,A,A,A,A,A,SA,A,SA,SA,A,Female,61 or older,N/A,N/A,N/A,N/A,N/A
493,Resignation-Other reasons,2013,1974,2008,Teacher,Special Education,Central Queensland,,Permanent Part-time,FALSE,FALSE,FALSE,TRUE,FALSE,FALSE,FALSE,FALSE,FALSE,FALSE,FALSE,FALSE,FALSE,FALSE,FALSE,FALSE,FALSE,FALSE,N,A,SD,SD,N,A,D,SD,A,SA,SA,SA,SD,SD,SD,D,SD,SD,SD,SD,SD,,61 or older,N/A,N/A,N/A,N/A,N/A
494,Other,2013,1996,1996,Teacher Aide,,Not Stated,,Permanent Part-time,FALSE,FALSE,FALSE,FALSE,FALSE,FALSE,FALSE,FALSE,FALSE,FALSE,FALSE,FALSE,FALSE,FALSE,FALSE,FALSE,FALSE,TRUE,A,A,A,A,SA,SA,A,A,SA,SA,SA,A,N,N,A,A,SA,A,N,N,A,Female,56-60,N/A,N/A,N/A,N/A,N/A
495,Resignation-Other employer,2012,1988,1988,Cleaner,,Central Queensland,,Permanent Part-time,FALSE,TRUE,FALSE,TRUE,FALSE,FALSE,FALSE,FALSE,FALSE,FALSE,FALSE,FALSE,FALSE,FALSE,FALSE,FALSE,TRUE,FALSE,A,SD,D,A,SD,N,D,N,D,A,N,A,N,D,D,N,A,A,A,N,N,Female,56-60,N/A,N/A,N/A,N/A,N/A
496,Resignation-Other reasons,2013,2012,2012,Cleaner,,Central Queensland,,Permanent Part-time,FALSE,TRUE,FALSE,FALSE,FALSE,FALSE,FALSE,FALSE,FALSE,FALSE,FALSE,FALSE,FALSE,FALSE,FALSE,FALSE,FALSE,FALSE,A,A,A,A,A,A,A,A,A,A,A,N,N,A,N,A,A,A,A,N,N,Female,46-50,N/A,N/A,N/A,Yes,N/A
497,Ill Health Retirement,2013,2011,2012,Teacher,Secondary,Central Queensland,,Permanent Full-time,FALSE,FALSE,FALSE,FALSE,FALSE,FALSE,FALSE,FALSE,FALSE,FALSE,FALSE,FALSE,FALSE,TRUE,FALSE,TRUE,TRUE,FALSE,A,N,A,N,A,SD,D,A,N,A,SD,A,A,A,A,A,A,A,A,N,A,Male,51-55,,,,,
498,Resignation-Move overseas/interstate,2013,2009,2009,Teacher,Primary,Far North Queensland,,Permanent Full-time,FALSE,FALSE,FALSE,FALSE,FALSE,FALSE,FALSE,FALSE,FALSE,FALSE,FALSE,TRUE,FALSE,FALSE,FALSE,TRUE,FALSE,FALSE,D,N,D,N,A,D,N,N,N,A,A,N,D,A,D,N,N,A,A,D,A,Male,36-40,,,,,
499,Age Retirement,2013,1995,2010,Public Servant,A01-A04,Metropolitan,,Permanent Part-time,FALSE,FALSE,FALSE,FALSE,FALSE,FALSE,FALSE,FALSE,FALSE,FALSE,FALSE,FALSE,FALSE,FALSE,FALSE,TRUE,FALSE,FALSE,A,N,A,A,A,SD,N,N,A,A,A,A,SA,SA,SA,A,A,A,A,A,A,Male,51-55,,,,,
500,Resignation-Move overseas/interstate,2013,2013,2013,Public Servant,A01-A04,Central Office,Other,Temporary Full-time,FALSE,FALSE,FALSE,FALSE,FALSE,FALSE,FALSE,FALSE,FALSE,FALSE,TRUE,TRUE,FALSE,FALSE,FALSE,FALSE,FALSE,FALSE,SA,N/A,A,SA,SA,SA,SA,SA,SA,A,A,N,SA,SA,SA,SA,SA,SA,SA,N,N,Female,26-30,,,,,
501,Resignation-Other employer,2013,2002,2002,Teacher,Primary,Central Queensland,Education Queensland,Permanent Full-time,FALSE,TRUE,FALSE,FALSE,FALSE,FALSE,FALSE,FALSE,FALSE,FALSE,FALSE,FALSE,FALSE,FALSE,FALSE,FALSE,FALSE,FALSE,SA,A,SA,SA,SA,A,A,A,SA,A,SA,A,A,A,N,SA,SA,SA,SA,A,A,Female,31-35,,,,,
502,Ill Health Retirement,2013,1971,1971,Teacher,Secondary,Central Queensland,,Permanent Part-time,FALSE,FALSE,FALSE,FALSE,FALSE,FALSE,FALSE,FALSE,FALSE,FALSE,FALSE,FALSE,FALSE,TRUE,FALSE,FALSE,TRUE,FALSE,A,N,N,D,A,D,N,D,N,A,A,A,D,D,N,A,D,N,N,A,A,,61 or older,,,,,
503,Ill Health Retirement,2013,1977,1978,School Principal,,Darling Downs South West,,Permanent Full-time,FALSE,FALSE,FALSE,FALSE,FALSE,FALSE,FALSE,FALSE,FALSE,FALSE,FALSE,FALSE,FALSE,TRUE,TRUE,FALSE,FALSE,FALSE,SA,SA,SA,SA,SA,D,D,SA,SA,SA,SA,SA,SA,SA,SA,SA,SA,SA,SA,SA,SA,Female,56-60,,,,,
504,Resignation-Other reasons,2013,1972,2013,Teacher,Secondary,North Queensland,,Permanent Full-time,FALSE,FALSE,FALSE,TRUE,FALSE,FALSE,FALSE,FALSE,FALSE,TRUE,FALSE,FALSE,FALSE,FALSE,FALSE,FALSE,TRUE,FALSE,N,N,N,N/A,D,D,D,SD,N,SD,D,N,D,D,N,N,D,D,D,D,D,Male,61 or older,,,,,
505,Resignation-Move overseas/interstate,2013,2008,2011,Teacher,Secondary,South East,,Permanent Full-time,FALSE,TRUE,FALSE,FALSE,FALSE,FALSE,FALSE,FALSE,FALSE,FALSE,FALSE,FALSE,FALSE,FALSE,FALSE,FALSE,FALSE,FALSE,A,A,A,N,SA,A,N,A,SA,SA,A,N,A,A,SA,A,A,A,A,D,A,Male,36-40,,,,,
506,Resignation-Other reasons,2013,1989,Not Stated,Teacher,Special Education,Not Stated,,Permanent Full-time,FALSE,FALSE,FALSE,FALSE,FALSE,FALSE,FALSE,FALSE,FALSE,FALSE,TRUE,FALSE,FALSE,FALSE,FALSE,TRUE,FALSE,FALSE,SA,N,SA,SA,A,D,A,SA,SA,SA,SA,N,SA,SA,SA,SA,SA,SA,SA,N,N,Female,46-50,,,,,
507,Resignation-Other reasons,2013,2009,2010,Public Servant,A01-A04,North Coast,,Permanent Full-time,TRUE,FALSE,FALSE,FALSE,TRUE,FALSE,FALSE,FALSE,FALSE,FALSE,FALSE,FALSE,FALSE,TRUE,FALSE,FALSE,FALSE,FALSE,A,D,D,D,SA,A,D,N,N,A,A,A,A,A,A,D,A,N,N,SD,A,Female,21-25,,,,,
508,Ill Health Retirement,2013,1992,1994,Public Servant,A01-A04,Not Stated,,Permanent Full-time,FALSE,FALSE,FALSE,FALSE,FALSE,FALSE,FALSE,FALSE,FALSE,FALSE,FALSE,FALSE,FALSE,TRUE,FALSE,FALSE,FALSE,FALSE,A,N,A,A,A,A,A,A,A,A,A,A,N,N,A,A,A,A,A,N,A,Female,46-50,,,,,
509,Ill Health Retirement,2013,Not Stated,Not Stated,Teacher Aide,Primary,Central Office,Early Childhood Education and Care,Permanent Full-time,FALSE,FALSE,FALSE,FALSE,FALSE,FALSE,FALSE,FALSE,FALSE,FALSE,FALSE,FALSE,FALSE,TRUE,FALSE,FALSE,FALSE,FALSE,A,SA,SA,A,SA,SA,SA,SA,SA,SA,SA,N/A,N/A,A,N/A,SA,SA,SA,SA,N/A,A,Female,56-60,,,,,
510,Age Retirement,2013,1995,1995,Teacher,Primary,South East,,Permanent Full-time,FALSE,FALSE,FALSE,FALSE,FALSE,FALSE,FALSE,FALSE,FALSE,FALSE,FALSE,FALSE,FALSE,TRUE,FALSE,FALSE,FALSE,FALSE,N,SA,SD,A,A,SD,A,SA,N,A,SA,SA,SA,N,SA,A,SA,SA,SA,M,N,Male,51-55,,,,,
511,Other,2013,2013,2013,Other,,South East,,Permanent Part-time,FALSE,FALSE,FALSE,FALSE,FALSE,FALSE,FALSE,FALSE,FALSE,FALSE,FALSE,TRUE,FALSE,FALSE,FALSE,FALSE,FALSE,FALSE,SA,SA,SA,N/A,SA,SA,SA,SA,SA,SA,SA,SA,SA,SA,SA,SA,SA,SA,SA,N,N,Male,36-40,,,,,
512,Age Retirement,2013,1970,1975,Teacher,Secondary,Darling Downs South West,,Permanent Full-time,FALSE,FALSE,FALSE,FALSE,FALSE,FALSE,FALSE,FALSE,FALSE,FALSE,FALSE,FALSE,FALSE,FALSE,FALSE,FALSE,FALSE,TRUE,A,A,A,N,D,N,N,N,SA,A,A,A,A,A,A,A,N,N,N,N,A,Male,61 or older,,,,,
513,Age Retirement,2014,1977,1977,Teacher,Secondary,Darling Downs South West,,Permanent Part-time,FALSE,FALSE,FALSE,FALSE,FALSE,FALSE,FALSE,FALSE,FALSE,FALSE,FALSE,FALSE,FALSE,FALSE,FALSE,TRUE,TRUE,FALSE,D,N,N,A,D,D,N,A,SA,A,A,N,N,D,D,N,A,A,A,D,A,Female,56-60,,,,,
514,Age Retirement,2013,1965,1975,Teacher,Secondary,Central Office,Education Queensland,Permanent Full-time,FALSE,FALSE,FALSE,FALSE,FALSE,FALSE,FALSE,FALSE,FALSE,FALSE,FALSE,FALSE,FALSE,FALSE,FALSE,FALSE,FALSE,TRUE,SA,N,A,N,A,A,A,A,A,SA,A,SA,N/A,A,A,A,A,A,A,A,A,Female,61 or older,N/A,N/A,N/A,N/A,N/A
515,Age Retirement,2013,2004,2004,Schools Officer,,Metropolitan,,Permanent Full-time,FALSE,FALSE,FALSE,FALSE,FALSE,FALSE,FALSE,FALSE,FALSE,FALSE,FALSE,FALSE,FALSE,FALSE,FALSE,FALSE,FALSE,TRUE,A,A,SA,A,A,A,A,A,A,A,A,A,A,A,A,A,A,A,A,A,A,Male,61 or older,,,,,
516,Age Retirement,2013,1989,1999,Business Service Manager,,North Coast,,Permanent Full-time,FALSE,FALSE,FALSE,FALSE,FALSE,FALSE,FALSE,FALSE,FALSE,FALSE,FALSE,FALSE,FALSE,FALSE,FALSE,TRUE,FALSE,FALSE,A,A,A,A,A,A,A,A,A,A,A,A,A,A,A,A,A,A,A,A,SA,Female,56-60,N/A,N/A,N/A,N/A,N/A
517,Age Retirement,2012,1963,1984,Teacher,Primary,Metropolitan,,Permanent Part-time,FALSE,FALSE,FALSE,FALSE,FALSE,FALSE,FALSE,FALSE,FALSE,FALSE,FALSE,FALSE,FALSE,FALSE,FALSE,FALSE,FALSE,TRUE,A,A,SD,D,A,D,D,N,A,A,A,A,A,A,A,D,A,N,D,N,A,Female,61 or older,,,,,
518,Resignation-Move overseas/interstate,2010,2007,2007,Teacher Aide,,Metropolitan,,Permanent Full-time,FALSE,FALSE,FALSE,FALSE,FALSE,FALSE,FALSE,FALSE,FALSE,FALSE,FALSE,TRUE,FALSE,FALSE,FALSE,FALSE,FALSE,FALSE,SA,SA,SA,SA,SA,SA,SA,SA,SA,SA,SA,SA,N,N,SA,A,SA,SA,SA,SA,SA,,31-35,,,,,
519,Age Retirement,2012,1977,1988,Teacher,Primary,South East,,Permanent Full-time,FALSE,FALSE,FALSE,FALSE,FALSE,FALSE,FALSE,FALSE,FALSE,FALSE,FALSE,FALSE,FALSE,FALSE,FALSE,TRUE,TRUE,FALSE,A,A,SA,M,A,A,D,A,SA,SA,A,N,A,A,SA,A,SA,SA,SA,A,SA,Male,56-60,,,,,
520,Age Retirement,2013,1970,1978,Teacher,Primary,Central Queensland,,Permanent Full-time,FALSE,FALSE,FALSE,FALSE,FALSE,FALSE,FALSE,FALSE,FALSE,FALSE,FALSE,FALSE,FALSE,FALSE,FALSE,TRUE,FALSE,FALSE,A,A,A,A,A,A,A,A,A,SA,SA,A,M,SA,SA,A,A,A,A,A,A,,56-60,,,,,
521,Ill Health Retirement,2013,1996,2000,Teacher Aide,,Not Stated,,Permanent Part-time,FALSE,FALSE,FALSE,FALSE,FALSE,FALSE,FALSE,FALSE,FALSE,FALSE,FALSE,FALSE,FALSE,TRUE,FALSE,FALSE,FALSE,FALSE,A,N,N,N,N,A,N,N,A,A,A,A,N,N,N,N,A,A,N,N,N,Female,51-55,N/A,N/A,N/A,Yes,N/A
522,Age Retirement,2013,1971,1986,Head of Curriculum/Head of Special Education,,Darling Downs South West,,Permanent Full-time,FALSE,FALSE,FALSE,FALSE,FALSE,FALSE,FALSE,FALSE,FALSE,FALSE,FALSE,FALSE,FALSE,FALSE,FALSE,FALSE,FALSE,TRUE,A,A,N,A,A,D,N,N,A,A,A,A,N,A,A,N,A,N,A,N,SA,Male,56-60,,,,,
523,Age Retirement,2013,1999,1999,Schools Officer,,North Coast,,Permanent Full-time,FALSE,FALSE,FALSE,FALSE,FALSE,FALSE,FALSE,FALSE,FALSE,FALSE,FALSE,FALSE,FALSE,FALSE,FALSE,TRUE,FALSE,FALSE,A,N/A,N,A,A,N,A,A,N,A,A,N/A,N,N,A,N,A,A,A,D,A,Male,61 or older,N/A,N/A,N/A,N/A,N/A
524,Age Retirement,2013,1974,1999,Teacher,Primary,Metropolitan,,Permanent Part-time,FALSE,FALSE,FALSE,FALSE,FALSE,FALSE,FALSE,FALSE,FALSE,FALSE,FALSE,FALSE,FALSE,FALSE,FALSE,FALSE,FALSE,FALSE,SA,SA,A,SA,A,SA,SA,SA,SA,SA,SA,SA,SA,SA,SA,A,SA,SA,SA,SA,SA,Female,56-60,,,,,
525,Age Retirement,2012,1985,2008,Teacher,Secondary,Far North Queensland,,Permanent Full-time,FALSE,FALSE,FALSE,FALSE,FALSE,FALSE,TRUE,FALSE,FALSE,FALSE,FALSE,FALSE,FALSE,FALSE,FALSE,TRUE,TRUE,FALSE,SA,D,SA,D,A,SD,SD,N,A,SA,SA,SD,D,D,D,D,D,N,A,SD,D,Female,61 or older,,,,,
526,Age Retirement,2013,1992,1995,Teacher Aide,,Metropolitan,,Permanent Part-time,FALSE,FALSE,FALSE,FALSE,FALSE,FALSE,FALSE,FALSE,FALSE,FALSE,FALSE,FALSE,FALSE,FALSE,FALSE,TRUE,FALSE,FALSE,D,N/A,SD,SD,A,N,N,N,N,N,A,N/A,N/A,A,D,SD,SD,SD,SD,SD,N/A,Female,61 or older,,,,,
527,Age Retirement,2013,1970,2012,,,Metropolitan,,Permanent Full-time,FALSE,FALSE,FALSE,FALSE,FALSE,FALSE,FALSE,FALSE,FALSE,FALSE,FALSE,FALSE,FALSE,FALSE,FALSE,TRUE,FALSE,FALSE,A,A,A,N,A,A,A,A,N,SA,SA,A,SA,SA,SA,SA,SA,SA,SA,A,A,Female,61 or older,,,,,
528,Age Retirement,2012,1986,1986,Teacher Aide,,Central Queensland,,Permanent Part-time,FALSE,FALSE,FALSE,FALSE,FALSE,FALSE,FALSE,FALSE,FALSE,FALSE,FALSE,FALSE,FALSE,FALSE,FALSE,TRUE,FALSE,FALSE,A,N,A,SA,A,SA,N,A,A,A,D,N,N,A,N,A,A,A,A,N,A,Female,61 or older,Yes,Yes,Yes,Yes,Yes
529,Ill Health Retirement,2012,1969,1990,Teacher,Primary,North Queensland,,Permanent Part-time,FALSE,FALSE,FALSE,TRUE,TRUE,FALSE,FALSE,FALSE,FALSE,FALSE,FALSE,FALSE,FALSE,TRUE,FALSE,FALSE,FALSE,FALSE,SA,SA,SA,SA,SA,SA,SA,SA,SA,SA,SA,SA,A,A,A,A,A,A,A,A,A,Male,61 or older,,,,,
530,Age Retirement,2013,Not Stated,Not Stated,Schools Officer,,Central Office,Education Queensland,Permanent Full-time,FALSE,FALSE,FALSE,TRUE,FALSE,FALSE,FALSE,FALSE,FALSE,FALSE,FALSE,FALSE,FALSE,FALSE,FALSE,FALSE,FALSE,FALSE,N,N,N,N,N,N,N,N,N,N,N,M,D,D,D,D,D,N,N,N,N,Male,61 or older,,,,,
531,Age Retirement,2013,1975,1975,Teacher,Primary,Metropolitan,,Permanent Full-time,FALSE,FALSE,FALSE,FALSE,FALSE,FALSE,FALSE,FALSE,FALSE,FALSE,FALSE,FALSE,FALSE,FALSE,FALSE,FALSE,FALSE,TRUE,SA,SA,SA,SA,SA,SA,SA,SA,SA,SA,SA,SA,SA,SA,SA,SA,SA,SA,SA,SA,SA,,61 or older,N/A,N/A,N/A,N/A,N/A
532,Resignation-Other reasons,2013,Not Stated,Not Stated,Cleaner,,Central Office,Education Queensland,Permanent Part-time,FALSE,FALSE,FALSE,FALSE,FALSE,FALSE,FALSE,FALSE,FALSE,FALSE,TRUE,FALSE,FALSE,FALSE,TRUE,TRUE,FALSE,FALSE,A,A,N,SD,A,A,N,N,N,A,SA,SA,SD,SD,A,SD,A,A,A,N,N,Female,56-60,,,,,
533,Voluntary Early Retirement (VER),2013,1990,1995,Teacher,Secondary,Central Office,Education Queensland,Permanent Full-time,FALSE,FALSE,FALSE,FALSE,FALSE,FALSE,FALSE,FALSE,FALSE,FALSE,FALSE,FALSE,FALSE,FALSE,FALSE,TRUE,TRUE,FALSE,A,N,SA,A,A,D,D,A,A,A,A,A,N,A,A,SA,SA,A,A,A,SA,Female,56-60,,,,,
534,Resignation-Move overseas/interstate,2013,1999,2012,Public Servant,AO8 and Above,Central Office,Indigenous Education and Training Futures,Permanent Full-time,FALSE,TRUE,FALSE,FALSE,FALSE,FALSE,FALSE,FALSE,FALSE,FALSE,FALSE,FALSE,FALSE,FALSE,FALSE,FALSE,FALSE,FALSE,A,A,A,N,SA,A,A,SA,SA,SA,SA,A,SA,SA,SA,A,SA,A,SA,A,A,Male,36-40,Yes,N/A,Yes,N/A,N/A
535,Resignation-Other reasons,2012,2008,2008,Cleaner,,North Coast,,Permanent Part-time,FALSE,FALSE,FALSE,FALSE,FALSE,FALSE,FALSE,FALSE,FALSE,FALSE,FALSE,FALSE,FALSE,TRUE,FALSE,FALSE,FALSE,FALSE,A,A,N,D,A,D,D,A,A,A,A,N,A,A,A,A,A,A,A,M,M,Female,56-60,N/A,N/A,N/A,Yes,Yes
536,Age Retirement,2013,1974,1997,Teacher,Primary,North Coast,,Permanent Full-time,FALSE,FALSE,FALSE,FALSE,TRUE,FALSE,FALSE,FALSE,FALSE,FALSE,TRUE,FALSE,FALSE,FALSE,TRUE,FALSE,FALSE,FALSE,SA,A,A,A,A,A,A,SA,A,A,A,A,A,A,A,A,A,A,A,N,A,Female,56-60,,,,,
537,Resignation-Other reasons,2013,2007,2012,Teacher Aide,,Metropolitan,Education Queensland,Permanent Full-time,FALSE,FALSE,FALSE,FALSE,FALSE,FALSE,TRUE,FALSE,FALSE,FALSE,FALSE,TRUE,FALSE,FALSE,FALSE,FALSE,FALSE,FALSE,A,D,N,N,SA,A,N,N,N,A,SA,D,N,A,N,A,N,N,A,A,A,Female,46-50,,,,,
538,Voluntary Early Retirement (VER),2013,1995,1996,Teacher Aide,,Far North Queensland,,Permanent Part-time,FALSE,FALSE,FALSE,FALSE,FALSE,FALSE,FALSE,FALSE,FALSE,FALSE,FALSE,FALSE,FALSE,FALSE,FALSE,TRUE,FALSE,FALSE,SA,SA,SA,SA,SA,SA,SA,SA,SA,SA,SA,SA,SA,SA,SA,SA,SA,SA,SA,A,SA,Female,56-60,,,,,
539,Resignation-Other reasons,2013,Not Stated,Not Stated,Teacher,Primary,Darling Downs South West,,Permanent Full-time,FALSE,FALSE,FALSE,FALSE,FALSE,FALSE,FALSE,FALSE,FALSE,FALSE,FALSE,FALSE,FALSE,FALSE,FALSE,TRUE,FALSE,FALSE,A,A,N,A,A,N,N,A,A,A,A,A,A,A,A,A,A,A,A,A,A,Male,26-30,,,,,
540,Resignation-Other reasons,2013,2007,2009,Public Servant,A01-A04,North Coast,,Permanent Full-time,FALSE,FALSE,FALSE,FALSE,FALSE,FALSE,FALSE,FALSE,FALSE,FALSE,FALSE,TRUE,FALSE,FALSE,FALSE,FALSE,FALSE,FALSE,SA,SA,SA,SA,SA,SA,SA,SA,SA,SA,SA,M,A,A,A,SA,SA,SA,SA,SA,SA,Female,51-55,,,,,
541,Ill Health Retirement,2013,1998,2006,Teacher Aide,,Central Office,Education Queensland,Permanent Part-time,FALSE,FALSE,FALSE,FALSE,FALSE,FALSE,FALSE,FALSE,FALSE,FALSE,FALSE,FALSE,FALSE,TRUE,FALSE,FALSE,FALSE,FALSE,A,A,A,A,A,A,A,A,A,A,A,A,A,A,A,A,A,A,A,A,A,Female,46-50,N/A,N/A,N/A,Yes,N/A
542,Resignation-Other reasons,2013,1996,2012,Public Servant,A01-A04,South East,,Permanent Part-time,FALSE,FALSE,FALSE,TRUE,FALSE,FALSE,TRUE,FALSE,FALSE,TRUE,FALSE,FALSE,FALSE,FALSE,FALSE,FALSE,FALSE,FALSE,D,D,D,N,N,A,M,SD,D,A,SD,D,D,D,D,N,N,N,SD,N,N,Female,41-45,,,,,
543,Age Retirement,2013,2006,2007,Cleaner,,Central Queensland,,Permanent Part-time,FALSE,FALSE,FALSE,FALSE,FALSE,FALSE,FALSE,FALSE,FALSE,FALSE,FALSE,FALSE,FALSE,FALSE,FALSE,FALSE,FALSE,TRUE,A,N/A,A,A,A,A,N/A,N/A,A,A,A,M,N/A,N/A,N/A,A,A,A,A,M,A,Female,61 or older,,,,,
544,Resignation-Other employer,2013,2011,2011,Professional Officer,PO1-PO4,South East,,Permanent Full-time,TRUE,FALSE,FALSE,FALSE,FALSE,FALSE,FALSE,FALSE,FALSE,FALSE,TRUE,FALSE,FALSE,FALSE,FALSE,FALSE,FALSE,FALSE,SA,N,A,N/A,D,N,SA,A,SA,SA,SA,A,A,N,SA,SA,A,A,SA,A,N,Female,21-25,,,,,
545,Age Retirement,2013,1991,2009,Cleaner,,South East,,Permanent Part-time,FALSE,FALSE,FALSE,FALSE,FALSE,FALSE,FALSE,FALSE,FALSE,FALSE,FALSE,FALSE,FALSE,FALSE,FALSE,FALSE,FALSE,TRUE,A,N,D,N,N,N,D,N,D,A,N,N,A,A,N,N,A,A,A,A,A,Female,51-55,,,,,
546,Age Retirement,2013,1975,2001,Teacher,Primary,Central Queensland,,Permanent Full-time,FALSE,FALSE,FALSE,FALSE,FALSE,FALSE,FALSE,FALSE,FALSE,FALSE,FALSE,FALSE,FALSE,FALSE,FALSE,FALSE,TRUE,FALSE,N,SA,A,SA,SA,SA,A,SA,SA,SA,SA,SA,N,A,A,SA,SA,SA,SA,SA,SA,Male,56-60,,,,,
547,Other,2013,2009,2009,Cleaner,,Darling Downs South West,,Permanent Part-time,FALSE,FALSE,FALSE,FALSE,FALSE,FALSE,FALSE,FALSE,FALSE,FALSE,TRUE,FALSE,FALSE,TRUE,FALSE,FALSE,FALSE,FALSE,A,A,A,A,A,A,A,SA,SA,SA,SA,A,SA,SA,SA,SA,SA,SA,SA,SA,SA,Male,61 or older,,,,,
548,Resignation-Other employer,2013,2010,2012,Teacher Aide,,Metropolitan,,Permanent Full-time,TRUE,FALSE,FALSE,TRUE,TRUE,FALSE,FALSE,FALSE,FALSE,FALSE,FALSE,FALSE,FALSE,FALSE,FALSE,FALSE,FALSE,FALSE,D,SD,D,N,A,A,SA,A,A,D,SD,D,D,D,D,SD,SD,A,D,D,A,Female,41-45,,,,,
549,Age Retirement,2013,1974,1986,Teacher,Secondary,Central Queensland,,Permanent Part-time,FALSE,FALSE,FALSE,FALSE,FALSE,FALSE,FALSE,FALSE,FALSE,FALSE,FALSE,FALSE,FALSE,FALSE,FALSE,TRUE,FALSE,FALSE,A,A,A,A,A,N,N,SA,SA,SA,SA,SA,A,A,A,A,SA,SA,SA,A,A,Female,61 or older,,,,,
550,Age Retirement,2013,1979,1979,Teacher,Secondary,Darling Downs South West,,Permanent Full-time,FALSE,FALSE,FALSE,FALSE,FALSE,FALSE,FALSE,FALSE,FALSE,FALSE,FALSE,FALSE,FALSE,FALSE,FALSE,FALSE,FALSE,TRUE,N,A,A,A,A,N,N,A,A,A,A,D,N,N,N,A,A,A,A,D,A,Male,51-55,,,,,
551,Resignation-Other reasons,2013,2000,2005,Teacher,Primary,South East,,Permanent Full-time,FALSE,FALSE,FALSE,FALSE,FALSE,FALSE,FALSE,FALSE,FALSE,FALSE,TRUE,FALSE,FALSE,FALSE,FALSE,FALSE,FALSE,FALSE,A,A,A,A,A,SA,SA,A,A,A,A,SA,SA,SA,SA,SA,A,A,A,A,A,Male,36-40,,,,,
552,Resignation-Move overseas/interstate,2013,2011,2011,Schools Officer,,Central Office,Education Queensland,Permanent Full-time,FALSE,FALSE,FALSE,FALSE,FALSE,FALSE,FALSE,FALSE,FALSE,FALSE,FALSE,TRUE,FALSE,FALSE,FALSE,FALSE,FALSE,FALSE,N,D,N,N,N,N,N,N,N,N,N,D,N,N,N,N,N,N,N,N,N,Male,41-45,,,,,
553,Resignation-Other reasons,2013,2005,2013,Teacher,Special Education,Central Queensland,,Permanent Part-time,FALSE,FALSE,FALSE,FALSE,TRUE,FALSE,FALSE,FALSE,FALSE,FALSE,FALSE,FALSE,FALSE,FALSE,FALSE,TRUE,TRUE,FALSE,SA,N,SD,D,D,SD,SD,D,A,N,A,A,A,A,A,N,A,A,A,M,A,Female,56-60,N/A,N/A,N/A,N/A,N/A
554,Age Retirement,2013,1968,1998,Teacher,Special Education,Darling Downs South West,,Permanent Full-time,FALSE,FALSE,FALSE,FALSE,FALSE,FALSE,FALSE,FALSE,FALSE,FALSE,FALSE,FALSE,FALSE,FALSE,FALSE,FALSE,FALSE,TRUE,A,A,A,A,A,A,A,A,A,A,A,A,N,N,N,N,N,N,N,N,A,Female,61 or older,,,,,
555,Age Retirement,2012,Not Stated,Not Stated,Teacher,Secondary,Darling Downs South West,,Permanent Part-time,FALSE,FALSE,FALSE,FALSE,FALSE,FALSE,FALSE,FALSE,FALSE,FALSE,FALSE,FALSE,FALSE,FALSE,FALSE,TRUE,FALSE,FALSE,D,N,N,N,A,A,A,A,A,A,A,N,N,A,N,A,A,A,A,D,A,Female,61 or older,,,,,
556,Age Retirement,09/2013,1975,1975,Teacher Aide,Primary,Not Stated,,Permanent Part-time,FALSE,FALSE,FALSE,FALSE,FALSE,FALSE,FALSE,FALSE,FALSE,FALSE,FALSE,FALSE,FALSE,FALSE,FALSE,FALSE,FALSE,TRUE,SA,N/A,A,A,A,SA,A,SA,SA,SA,SA,SA,A,SA,A,SA,SA,SA,SA,A,SA,Female,61 or older,,,,,
557,Age Retirement,09/2013,1978,2010,Head of Curriculum/Head of Special Education,,Central Queensland,,Permanent Full-time,FALSE,FALSE,FALSE,FALSE,FALSE,FALSE,FALSE,FALSE,FALSE,FALSE,FALSE,FALSE,FALSE,TRUE,FALSE,TRUE,FALSE,FALSE,SA,A,A,A,A,D,D,A,SA,SA,SA,SA,SA,SA,A,A,A,A,A,A,A,Female,56-60,,,,,
558,Resignation-Move overseas/interstate,07/2013,2011,2011,Teacher,Middle,North Queensland,,Permanent Full-time,FALSE,FALSE,FALSE,FALSE,FALSE,FALSE,TRUE,FALSE,FALSE,FALSE,FALSE,FALSE,FALSE,FALSE,FALSE,TRUE,TRUE,FALSE,SD,SD,SD,SD,A,SD,SD,SD,N,D,D,D,A,A,A,D,SD,SD,SD,SD,SD,Female,21-25,,,,,
559,Age Retirement,08/2013,2006,2006,Teacher,Primary,South East,,Permanent Part-time,FALSE,FALSE,FALSE,FALSE,TRUE,FALSE,FALSE,TRUE,FALSE,FALSE,FALSE,FALSE,FALSE,FALSE,FALSE,FALSE,FALSE,FALSE,D,D,N,D,A,A,A,N,A,A,SA,N,D,A,D,A,N,A,A,D,N,Male,61 or older,,,,,
560,Voluntary Early Retirement (VER),09/2013,2001,2001,Teacher Aide,,Metropolitan,,Permanent Part-time,FALSE,FALSE,TRUE,FALSE,FALSE,FALSE,FALSE,FALSE,FALSE,FALSE,FALSE,FALSE,FALSE,FALSE,FALSE,FALSE,FALSE,FALSE,SA,N/A,SA,SA,SA,SA,SA,SA,SA,SA,SA,N/A,N/A,SA,SA,SA,SA,SA,SA,SA,SA,Female,61 or older,,,,,
561,Age Retirement,07/2013,1989,2012,Public Servant,AO5-AO7,Darling Downs South West,,Permanent Full-time,FALSE,FALSE,FALSE,FALSE,FALSE,FALSE,FALSE,FALSE,FALSE,FALSE,FALSE,FALSE,FALSE,FALSE,FALSE,FALSE,FALSE,TRUE,A,SD,N,N,A,SA,N,N,N,N,A,N,D,A,A,A,A,A,A,A,N,Female,56-60,,,,,
562,Voluntary Early Retirement (VER),08/2013,1979,2000,Head of Curriculum/Head of Special Education,,North Coast,,Permanent Full-time,FALSE,FALSE,TRUE,FALSE,FALSE,FALSE,TRUE,FALSE,FALSE,TRUE,FALSE,FALSE,FALSE,FALSE,FALSE,TRUE,TRUE,FALSE,A,A,D,SD,D,D,SD,D,A,N,D,A,A,A,N,D,N,N,N,N,A,Male,56-60,,,,,
563,Resignation-Move overseas/interstate,06/2013,2012,2012,Cleaner,,Central Office,Education Queensland,Permanent Part-time,FALSE,TRUE,FALSE,FALSE,FALSE,FALSE,FALSE,FALSE,FALSE,FALSE,FALSE,FALSE,FALSE,FALSE,FALSE,FALSE,FALSE,FALSE,A,D,A,A,A,A,A,A,A,A,A,A,A,A,A,A,A,A,A,A,A,Female,41-45,,,,,
564,Resignation-Other reasons,06/2013,1990,2011,Teacher,Secondary,North Queensland,,Permanent Full-time,FALSE,FALSE,FALSE,FALSE,TRUE,FALSE,TRUE,FALSE,FALSE,FALSE,FALSE,FALSE,FALSE,FALSE,FALSE,TRUE,TRUE,FALSE,SD,N/A,SD,N/A,D,SD,SD,SD,SA,SA,A,SA,A,A,D,SA,SD,A,D,N,N,Female,41-45,,,,,
565,Voluntary Early Retirement (VER),09/2013,1981,1996,Teacher,Secondary,Central Office,Education Queensland,Permanent Part-time,FALSE,FALSE,FALSE,FALSE,FALSE,FALSE,FALSE,FALSE,FALSE,FALSE,FALSE,FALSE,FALSE,FALSE,FALSE,TRUE,FALSE,FALSE,SA,SA,SA,A,A,A,SA,SA,SA,SA,SA,SA,N/A,A,A,A,A,A,A,N/A,A,Female,51-55,,,,,
566,Age Retirement,07/2013,1978,1996,Teacher,Secondary,Central Queensland,,Permanent Full-time,FALSE,FALSE,FALSE,FALSE,FALSE,FALSE,FALSE,FALSE,FALSE,FALSE,FALSE,FALSE,FALSE,FALSE,FALSE,TRUE,TRUE,FALSE,SA,A,A,A,A,D,A,SA,SA,A,A,SA,A,A,A,A,A,A,A,A,SA,Female,51-55,,,,,
567,Age Retirement,04/2013,1980,1985,Head of Curriculum/Head of Special Education,,Not Stated,,Permanent Full-time,FALSE,FALSE,FALSE,TRUE,FALSE,FALSE,FALSE,FALSE,FALSE,FALSE,FALSE,FALSE,FALSE,FALSE,FALSE,TRUE,FALSE,FALSE,N,A,A,D,SA,A,A,D,SA,D,D,SA,N,A,N,D,A,N,A,N,A,Male,56-60,,,,,
568,Age Retirement,07/2013,Not Stated,2011,Teacher,Primary,Metropolitan,,Permanent Part-time,FALSE,FALSE,FALSE,FALSE,FALSE,FALSE,FALSE,FALSE,FALSE,FALSE,FALSE,FALSE,FALSE,TRUE,FALSE,FALSE,FALSE,FALSE,A,M,M,A,A,SA,A,SA,SA,SA,SA,SA,SA,SA,SA,A,SA,A,SA,A,A,Male,61 or older,,,,,
569,Resignation-Other reasons,06/2013,2000,Not Stated,Teacher Aide,,Central Office,Education Queensland,Permanent Part-time,FALSE,TRUE,FALSE,FALSE,FALSE,FALSE,FALSE,FALSE,FALSE,FALSE,TRUE,FALSE,FALSE,FALSE,FALSE,TRUE,FALSE,FALSE,A,N,A,A,A,N,A,A,A,A,A,A,A,A,A,A,A,A,A,N,A,Female,46-50,,,,,
570,Resignation-Other reasons,07/2013,2010,2010,Schools Officer,,North Queensland,,Permanent Full-time,FALSE,FALSE,FALSE,FALSE,FALSE,FALSE,FALSE,FALSE,FALSE,FALSE,FALSE,FALSE,FALSE,FALSE,FALSE,TRUE,FALSE,FALSE,A,D,N,N,A,N,N,A,A,A,N,D,N,A,N,N,N,N,N,N,A,Male,31-35,,,,,
571,Other,06/2013,2005,2005,Teacher Aide,,Central Queensland,,Permanent Part-time,FALSE,FALSE,FALSE,FALSE,FALSE,FALSE,FALSE,FALSE,FALSE,FALSE,FALSE,FALSE,FALSE,FALSE,FALSE,TRUE,FALSE,FALSE,A,A,SA,SA,SA,SA,SA,SA,SA,SA,SA,N/A,A,SA,A,SA,SA,SA,SA,A,SA,Female,41-45,,,,,
572,Resignation-Other reasons,07/2013,1998,2008,Business Service Manager,,Darling Downs South West,,Permanent Full-time,TRUE,FALSE,FALSE,FALSE,FALSE,FALSE,FALSE,FALSE,FALSE,FALSE,FALSE,FALSE,FALSE,FALSE,FALSE,FALSE,FALSE,FALSE,SA,SA,A,SA,SA,N,N,A,N,SA,SA,N,SA,SA,SA,SA,SA,SA,SA,N,N,Female,41-45,,,,,
573,Termination,09/2013,Not Stated,Not Stated,Cleaner,,Central Office,,Permanent Part-time,FALSE,FALSE,FALSE,FALSE,FALSE,FALSE,FALSE,FALSE,FALSE,FALSE,FALSE,FALSE,FALSE,FALSE,FALSE,FALSE,FALSE,TRUE,SD,SD,SD,SD,SD,SD,SD,SD,SD,SD,SD,SD,SD,SD,SD,SD,SD,SD,SD,N/A,N/A,Male,56-60,,,,,
574,Ill Health Retirement,06/2013,2009,2011,Cleaner,,Not Stated,,Permanent Part-time,FALSE,FALSE,FALSE,FALSE,TRUE,TRUE,FALSE,FALSE,FALSE,FALSE,FALSE,FALSE,FALSE,TRUE,FALSE,FALSE,FALSE,FALSE,A,N/A,SD,SD,SD,A,SD,SD,D,D,N,N/A,D,D,D,SD,SD,SD,SD,SD,SD,Female,41-45,,,,,
575,Voluntary Early Retirement (VER),06/2013,1990,2007,Public Servant,AO5-AO7,Central Office,Education Queensland,Permanent Full-time,FALSE,FALSE,FALSE,FALSE,FALSE,FALSE,FALSE,FALSE,FALSE,FALSE,FALSE,FALSE,FALSE,FALSE,FALSE,FALSE,FALSE,TRUE,A,A,A,A,A,A,A,SA,A,SA,SA,SA,A,SA,SA,A,SA,SA,SA,A,A,Female,51-55,N/A,N/A,N/A,N/A,N/A
576,Resignation-Other reasons,07/2013,2004,2005,Public Servant,AO5-AO7,Central Office,Education Queensland,Permanent Full-time,FALSE,FALSE,FALSE,FALSE,FALSE,FALSE,FALSE,FALSE,TRUE,FALSE,TRUE,FALSE,FALSE,FALSE,FALSE,TRUE,FALSE,FALSE,D,D,SA,D,A,SA,D,D,A,A,A,A,D,A,D,D,A,A,D,A,D,Female,31-35,,,,,
577,Resignation-Other reasons,06/2013,2004,Not Stated,Teacher Aide,,Not Stated,,Permanent Part-time,FALSE,TRUE,FALSE,FALSE,FALSE,FALSE,FALSE,FALSE,TRUE,FALSE,TRUE,FALSE,FALSE,FALSE,FALSE,FALSE,FALSE,FALSE,A,A,SA,A,A,SA,SA,A,SA,A,N,N,SA,SA,SA,SA,SA,SA,SA,SA,SA,Female,26-30,,,,,
578,Resignation-Other employer,09/2013,1994,1998,Teacher,Primary,North Queensland,,Permanent Full-time,FALSE,FALSE,FALSE,FALSE,FALSE,FALSE,FALSE,FALSE,FALSE,FALSE,FALSE,FALSE,FALSE,FALSE,FALSE,FALSE,FALSE,TRUE,A,N,A,A,A,N,N,A,A,A,A,A,N,A,N,N,N,A,A,N,A,Female,36-40,,,,,
579,Age Retirement,07/2013,1998,2003,Teacher,Secondary,Darling Downs South West,,Permanent Part-time,FALSE,FALSE,FALSE,FALSE,TRUE,FALSE,TRUE,FALSE,FALSE,TRUE,FALSE,FALSE,FALSE,FALSE,FALSE,FALSE,FALSE,FALSE,D,D,SA,SD,A,A,SA,SD,SA,SA,SA,SA,D,SD,SD,D,SD,SA,D,D,D,Male,61 or older,,,,,
580,Ill Health Retirement,07/2013,1997,2003,Schools Officer,,Not Stated,,Permanent Full-time,FALSE,FALSE,FALSE,FALSE,FALSE,FALSE,FALSE,FALSE,FALSE,FALSE,FALSE,FALSE,FALSE,TRUE,FALSE,FALSE,FALSE,FALSE,SA,SD,A,A,A,A,A,A,A,N,A,D,N,A,A,A,A,A,A,A,A,Male,56-60,,,,,
581,Age Retirement,07/2013,1985,1987,Schools Officer,,Far North Queensland,,Permanent Full-time,FALSE,FALSE,FALSE,FALSE,FALSE,FALSE,FALSE,FALSE,FALSE,FALSE,FALSE,FALSE,FALSE,FALSE,FALSE,FALSE,FALSE,TRUE,A,N,A,SA,A,A,N,A,N,SA,SA,D,N,N,N,A,A,SA,SA,N,N,Male,61 or older,,,,,
582,Age Retirement,05/2013,1996,1996,Teacher Aide,,Metropolitan,,Permanent Part-time,FALSE,FALSE,FALSE,FALSE,FALSE,FALSE,FALSE,FALSE,FALSE,FALSE,FALSE,FALSE,FALSE,FALSE,FALSE,FALSE,FALSE,TRUE,A,D,N,M,A,A,A,A,A,A,A,A,N,N,N,A,A,N,N,A,A,Female,61 or older,,,,,
583,Age Retirement,05/2013,2000,2000,Teacher,Secondary,Darling Downs South West,,Permanent Full-time,FALSE,FALSE,FALSE,FALSE,FALSE,FALSE,FALSE,FALSE,FALSE,FALSE,FALSE,FALSE,FALSE,TRUE,FALSE,TRUE,FALSE,FALSE,N,A,A,N,N,D,D,N,N,N,A,N,N,N,N,N,N,N,A,N,N,Female,56-60,,,,,
584,Age Retirement,09/2013,1992,1992,Cleaner,,Darling Downs South West,,Permanent Full-time,FALSE,FALSE,TRUE,TRUE,FALSE,FALSE,FALSE,FALSE,FALSE,FALSE,FALSE,FALSE,FALSE,FALSE,FALSE,FALSE,FALSE,FALSE,A,N,D,D,A,A,A,A,N,A,A,N,A,D,D,D,N,A,A,A,A,Female,61 or older,,,,,
585,Resignation-Other employer,07/2013,2008,2008,School Administrative Staff,,Not Stated,,Permanent Part-time,FALSE,FALSE,FALSE,FALSE,FALSE,FALSE,FALSE,FALSE,FALSE,FALSE,TRUE,TRUE,FALSE,FALSE,FALSE,FALSE,FALSE,FALSE,A,N,A,A,A,A,A,A,A,A,A,A,N,N,N,A,A,A,A,N,A,Female,51-55,,,,,
586,Resignation-Move overseas/interstate,06/2013,2012,2013,Teacher Aide,,Not Stated,,Temporary Full-time,FALSE,FALSE,FALSE,FALSE,FALSE,FALSE,FALSE,FALSE,FALSE,FALSE,FALSE,FALSE,TRUE,FALSE,FALSE,FALSE,FALSE,FALSE,A,N,SA,SA,SA,SA,SA,SA,SA,SA,SA,N/A,N,N,N,A,SA,SA,SA,N/A,N/A,Female,21-25,,,,,
587,Resignation-Move overseas/interstate,09/2010,1999,2000,Teacher,Special Education,Darling Downs South West,,Permanent Part-time,FALSE,FALSE,FALSE,FALSE,FALSE,FALSE,FALSE,FALSE,FALSE,FALSE,FALSE,TRUE,TRUE,FALSE,FALSE,FALSE,FALSE,FALSE,A,N,A,A,A,SA,D,N,A,SA,A,A,N,N,A,A,N,A,A,D,M,Female,51-55,,,,,
588,Age Retirement,06/2013,1998,1998,Teacher,Secondary,South East,,Permanent Part-time,FALSE,FALSE,FALSE,FALSE,FALSE,FALSE,FALSE,FALSE,FALSE,FALSE,FALSE,FALSE,FALSE,FALSE,FALSE,TRUE,FALSE,FALSE,A,A,A,A,A,N,A,A,A,A,A,A,N,N,A,A,A,A,A,A,N/A,Female,61 or older,,,,,
589,Resignation-Other employer,06/2013,2011,2011,Other,,South East,,Temporary Part-time,FALSE,FALSE,FALSE,FALSE,FALSE,FALSE,FALSE,FALSE,FALSE,TRUE,FALSE,FALSE,FALSE,FALSE,FALSE,FALSE,FALSE,FALSE,SA,N,SA,SA,SA,SA,SA,SA,SA,SA,SA,SA,SA,SA,SA,SA,SA,SA,SA,SA,SA,Male,31-35,N/A,N/A,N/A,N/A,Yes
590,Resignation-Other reasons,09/2013,1985,1989,Other,,Metropolitan,,Permanent Full-time,FALSE,FALSE,TRUE,FALSE,FALSE,FALSE,FALSE,FALSE,FALSE,FALSE,FALSE,FALSE,FALSE,FALSE,TRUE,FALSE,TRUE,FALSE,N/A,N/A,SD,SD,A,A,N,SD,N,N,SA,SA,SD,SD,SD,SD,SD,N,N/A,N/A,SD,Male,61 or older,N/A,N/A,N/A,N/A,Yes
591,Resignation-Other employer,01/2014,2005,2012,Public Servant,,Metropolitan,,Permanent Full-time,FALSE,FALSE,FALSE,FALSE,TRUE,FALSE,TRUE,FALSE,FALSE,FALSE,FALSE,FALSE,FALSE,FALSE,FALSE,FALSE,TRUE,FALSE,A,D,SD,SD,N,D,A,D,A,A,SA,SA,D,N,N,N,N,A,N,D,A,Female,31-35,,,,,
592,Ill Health Retirement,06/2013,2002,2002,Cleaner,,Darling Downs South West,,Permanent Part-time,FALSE,FALSE,FALSE,FALSE,FALSE,FALSE,FALSE,FALSE,FALSE,FALSE,FALSE,FALSE,FALSE,TRUE,FALSE,FALSE,TRUE,FALSE,SA,N,A,A,A,A,N,N,N,A,A,N,A,A,A,A,A,A,A,A,A,Female,51-55,,,,,
593,Resignation-Other reasons,06/2013,2001,2010,Cleaner,,North Queensland,,Permanent Part-time,FALSE,FALSE,FALSE,FALSE,FALSE,FALSE,FALSE,FALSE,FALSE,FALSE,FALSE,FALSE,FALSE,FALSE,FALSE,FALSE,FALSE,TRUE,A,N/A,A,A,A,A,A,A,A,A,A,N/A,A,A,N,A,A,A,A,N,N,Female,56-60,,,,,
594,Resignation-Other reasons,06/2013,2005,2009,Teacher,Secondary,Not Stated,,Permanent Full-time,FALSE,FALSE,FALSE,TRUE,FALSE,FALSE,FALSE,FALSE,TRUE,FALSE,TRUE,FALSE,TRUE,TRUE,FALSE,TRUE,TRUE,FALSE,D,N,D,N,A,D,N,N,A,A,N,N,N,A,A,N,A,A,N,D,N,Female,36-40,,,,,
595,Ill Health Retirement,06/2013,Not Stated,Not Stated,Cleaner,,Central Office,Education Queensland,Permanent Part-time,FALSE,FALSE,FALSE,FALSE,FALSE,FALSE,FALSE,FALSE,FALSE,FALSE,FALSE,FALSE,FALSE,TRUE,FALSE,FALSE,FALSE,FALSE,A,N/A,A,A,A,A,A,A,A,A,A,N/A,A,A,A,A,A,A,A,A,A,Female,56-60,,,,,
596,Age Retirement,06/2013,1990,2004,Head of Curriculum/Head of Special Education,,Central Office,Education Queensland,Permanent Full-time,FALSE,FALSE,FALSE,FALSE,FALSE,FALSE,FALSE,FALSE,FALSE,FALSE,FALSE,FALSE,FALSE,FALSE,FALSE,TRUE,FALSE,FALSE,SA,SA,A,A,A,N,A,N,N,A,SA,SA,A,A,A,A,SA,A,SA,N,SA,Female,56-60,,,,,
597,Voluntary Early Retirement (VER),09/2013,1988,2000,Cleaner,,Central Office,Education Queensland,Permanent Full-time,FALSE,FALSE,FALSE,FALSE,FALSE,FALSE,FALSE,FALSE,FALSE,FALSE,FALSE,FALSE,FALSE,FALSE,FALSE,FALSE,FALSE,TRUE,N/A,N/A,N/A,N/A,N/A,N/A,N/A,N/A,N/A,N/A,N/A,N/A,N/A,N/A,N/A,N/A,N/A,N/A,N/A,N/A,N/A,Female,61 or older,N/A,N/A,Yes,N/A,N/A
598,Voluntary Early Retirement (VER),06/2013,1978,1986,Head of Curriculum/Head of Special Education,,North Queensland,,Permanent Full-time,FALSE,FALSE,FALSE,FALSE,FALSE,FALSE,FALSE,FALSE,FALSE,FALSE,FALSE,FALSE,FALSE,FALSE,FALSE,FALSE,TRUE,FALSE,A,A,A,N,A,SD,D,A,N,A,A,SA,N/A,A,N,A,A,N,N,SD,A,Male,56-60,,,,,
599,Age Retirement,07/2013,1984,1986,Teacher,Primary,Central Office,Education Queensland,Permanent Full-time,FALSE,FALSE,FALSE,FALSE,FALSE,FALSE,FALSE,FALSE,FALSE,FALSE,FALSE,FALSE,FALSE,FALSE,FALSE,FALSE,FALSE,TRUE,A,A,A,SA,SA,SA,SA,SA,SA,SA,SA,A,A,A,A,A,A,A,A,SA,SA,Female,56-60,,,,,
600,Voluntary Early Retirement (VER),09/2013,1970,1998,Teacher,Secondary,Not Stated,,Permanent Part-time,FALSE,FALSE,FALSE,FALSE,FALSE,FALSE,FALSE,FALSE,FALSE,FALSE,FALSE,FALSE,FALSE,FALSE,FALSE,TRUE,FALSE,FALSE,M,M,M,M,M,M,M,M,M,M,M,M,A,A,A,A,A,A,A,SA,A,Female,61 or older,,,,,
601,Age Retirement,07/2013,1990,Not Stated,Teacher Aide,,North Queensland,,Permanent Part-time,FALSE,FALSE,FALSE,FALSE,FALSE,FALSE,FALSE,FALSE,FALSE,FALSE,FALSE,FALSE,FALSE,FALSE,FALSE,FALSE,FALSE,TRUE,A,N,A,N,A,SA,A,A,A,A,A,A,N,A,N,A,N,A,A,N/A,A,Female,61 or older,,,,,
602,Resignation-Other employer,07/2013,2010,2010,Public Servant,AO5-AO7,Central Office,Other,Permanent Full-time,FALSE,FALSE,TRUE,TRUE,FALSE,FALSE,FALSE,FALSE,FALSE,FALSE,FALSE,FALSE,TRUE,FALSE,FALSE,FALSE,FALSE,FALSE,SA,A,SD,SD,N,SA,A,A,D,A,SA,A,SA,SA,SA,N,N,A,A,A,A,Female,26-30,,,,,
603,Age Retirement,06/2013,2007,2007,Cleaner,,Metropolitan,,Permanent Part-time,FALSE,FALSE,FALSE,FALSE,FALSE,FALSE,FALSE,FALSE,FALSE,FALSE,FALSE,FALSE,FALSE,FALSE,FALSE,FALSE,FALSE,TRUE,SA,N,SA,N,SA,SA,N,A,SA,SA,SA,SA,N,A,N,A,SA,A,A,N,A,Female,61 or older,N/A,N/A,N/A,N/A,Yes
604,Contract Expired,09/2013,2013,2013,Public Servant,A01-A04,South East,,Temporary Full-time,FALSE,FALSE,FALSE,FALSE,FALSE,FALSE,FALSE,FALSE,FALSE,FALSE,FALSE,FALSE,FALSE,FALSE,FALSE,FALSE,FALSE,TRUE,SA,SA,SA,SA,SA,SA,SA,SA,SA,SA,SA,SA,SA,SA,SA,SA,SA,SA,SA,SA,SA,Female,36-40,N/A,N/A,N/A,N/A,N/A
605,Resignation-Other reasons,07/2013,1996,1996,Schools Officer,,Not Stated,,Permanent Part-time,FALSE,FALSE,FALSE,FALSE,FALSE,FALSE,FALSE,FALSE,FALSE,FALSE,FALSE,FALSE,FALSE,TRUE,FALSE,FALSE,FALSE,FALSE,SA,SA,SA,SA,SA,SA,SA,SA,SA,SA,SA,SA,SA,SA,SA,SA,SA,SA,SA,SA,SA,Female,61 or older,,,,,
606,Age Retirement,07/2013,1991,2010,School Administrative Staff,,Metropolitan,,Permanent Part-time,FALSE,FALSE,FALSE,FALSE,FALSE,FALSE,FALSE,FALSE,FALSE,FALSE,FALSE,FALSE,FALSE,FALSE,FALSE,FALSE,FALSE,TRUE,A,D,A,A,A,A,N,D,N,A,N,A,N,N,N,N,N,N,N,D,N,Female,61 or older,,,,,
607,Age Retirement,07/2013,1980,2000,Teacher,Secondary,Far North Queensland,,Permanent Part-time,FALSE,FALSE,FALSE,FALSE,FALSE,FALSE,FALSE,FALSE,FALSE,FALSE,FALSE,FALSE,FALSE,FALSE,FALSE,TRUE,FALSE,FALSE,A,A,D,N,N,A,N,D,A,A,N,D,N,N,A,N,A,N,A,A,N,Female,61 or older,,,,,
608,Resignation-Other reasons,06/2013,2004,2011,Teacher,Primary,Not Stated,,Permanent Part-time,FALSE,FALSE,FALSE,TRUE,TRUE,FALSE,FALSE,FALSE,FALSE,FALSE,FALSE,TRUE,FALSE,FALSE,FALSE,FALSE,FALSE,FALSE,A,A,A,A,N,A,D,A,N,N,D,D,N,D,N,D,N,A,N,D,N,Female,31-35,,,,,
609,Resignation-Other reasons,07/2013,2004,2012,Teacher,Secondary,Far North Queensland,,Permanent Full-time,FALSE,FALSE,FALSE,FALSE,TRUE,FALSE,FALSE,FALSE,TRUE,TRUE,FALSE,FALSE,FALSE,FALSE,FALSE,TRUE,FALSE,FALSE,A,D,N,A,A,D,N,A,A,A,N,N,N,N,N,A,A,A,N,N,N,Female,31-35,,,,,
610,Ill Health Retirement,11/2012,1968,2012,Teacher,Secondary,South East,,Temporary Part-time,FALSE,FALSE,FALSE,FALSE,FALSE,FALSE,FALSE,FALSE,FALSE,FALSE,FALSE,FALSE,FALSE,TRUE,FALSE,FALSE,FALSE,FALSE,SD,A,SD,SD,N,N,N,SD,N,SD,SD,N,D,D,SD,SD,N,N,N,SD,SD,Male,61 or older,,,,,
611,Resignation-Other reasons,06/2013,1989,1989,Teacher Aide,,South East,,Permanent Part-time,FALSE,FALSE,FALSE,TRUE,FALSE,FALSE,FALSE,FALSE,FALSE,TRUE,FALSE,FALSE,FALSE,FALSE,FALSE,FALSE,FALSE,FALSE,D,N/A,A,A,A,A,A,SD,A,SA,SA,A,A,A,D,D,A,A,N,A,A,Female,61 or older,,,,,
612,Ill Health Retirement,05/2013,1990,1990,Teacher,Secondary,South East,,Permanent Full-time,FALSE,FALSE,FALSE,FALSE,FALSE,FALSE,FALSE,FALSE,FALSE,FALSE,FALSE,FALSE,FALSE,TRUE,FALSE,FALSE,FALSE,FALSE,M,SD,D,D,N,D,N,D,D,A,D,A,SD,D,D,A,D,N,A,N,A,Male,61 or older,,,,,
613,Resignation-Other reasons,06/2013,1993,1999,Teacher,Primary,South East,,Permanent Part-time,FALSE,FALSE,FALSE,FALSE,FALSE,FALSE,FALSE,FALSE,FALSE,FALSE,FALSE,FALSE,FALSE,TRUE,FALSE,FALSE,FALSE,FALSE,SA,A,A,A,A,A,A,A,A,A,A,A,A,A,A,A,A,A,A,A,A,Female,51-55,,,,,
614,Resignation-Move overseas/interstate,06/2013,2010,2010,Teacher Aide,,Not Stated,,Permanent Part-time,FALSE,FALSE,FALSE,FALSE,FALSE,FALSE,FALSE,FALSE,FALSE,FALSE,FALSE,TRUE,FALSE,FALSE,FALSE,FALSE,FALSE,FALSE,A,N,A,A,A,A,A,A,A,A,A,N,A,A,A,A,A,A,A,A,A,Female,26-30,,,,,
615,Voluntary Early Retirement (VER),07/2013,1991,2000,Teacher Aide,,South East,,Permanent Full-time,FALSE,FALSE,FALSE,FALSE,FALSE,FALSE,FALSE,FALSE,FALSE,FALSE,FALSE,FALSE,FALSE,FALSE,FALSE,FALSE,FALSE,TRUE,A,N/A,N,A,A,A,N,A,A,A,A,A,A,A,N,N,N,A,A,A,A,Female,56-60,,,,,
616,Ill Health Retirement,06/2013,2000,2000,Teacher,Secondary,Not Stated,,Permanent Full-time,FALSE,FALSE,FALSE,FALSE,FALSE,FALSE,FALSE,FALSE,FALSE,FALSE,FALSE,FALSE,FALSE,TRUE,FALSE,FALSE,FALSE,FALSE,D,N,D,D,SD,SD,SD,D,D,D,D,D,D,N,SD,SD,N,D,D,M,M,Male,51-55,N/A,N/A,N/A,Yes,N/A
617,Age Retirement,05/2013,1973,1973,Teacher,Secondary,Metropolitan,,Permanent Full-time,FALSE,FALSE,FALSE,FALSE,FALSE,TRUE,FALSE,FALSE,FALSE,FALSE,FALSE,FALSE,FALSE,FALSE,FALSE,TRUE,FALSE,FALSE,A,A,N,A,N,D,N,A,A,A,A,A,A,A,A,A,A,A,A,N,A,Female,56-60,N/A,N/A,N/A,N/A,N/A
618,Resignation-Other reasons,09/2013,1996,2008,Teacher,Secondary,North Queensland,,Permanent Part-time,FALSE,FALSE,FALSE,TRUE,FALSE,FALSE,TRUE,FALSE,FALSE,TRUE,FALSE,FALSE,FALSE,FALSE,TRUE,FALSE,TRUE,FALSE,SD,SD,SD,SD,SD,D,SD,SD,N,SD,SD,SD,D,SD,SD,SD,SD,SD,SD,SD,SD,Female,51-55,,,,,
619,Age Retirement,07/2013,1987,2000,Teacher,Secondary,Metropolitan,,Permanent Full-time,FALSE,FALSE,FALSE,FALSE,FALSE,FALSE,FALSE,FALSE,FALSE,FALSE,FALSE,FALSE,FALSE,FALSE,FALSE,FALSE,FALSE,TRUE,SA,SA,D,SA,SA,SA,SA,SA,SA,SA,SA,SA,SA,SA,SA,SA,SA,SA,SA,A,SA,Female,56-60,,,,,
620,Resignation-Other employer,06/2013,2003,2004,Teacher,Special Education,South East,,Permanent Part-time,FALSE,TRUE,FALSE,FALSE,FALSE,FALSE,FALSE,FALSE,FALSE,FALSE,FALSE,FALSE,FALSE,FALSE,FALSE,FALSE,FALSE,FALSE,A,N,A,N,A,A,A,A,A,A,A,SA,A,A,A,A,A,A,A,N,N,Female,36-40,,,,,
621,Age Retirement,08/2013,1984,1994,Public Servant,A01-A04,South East,,Permanent Full-time,FALSE,FALSE,FALSE,FALSE,FALSE,FALSE,FALSE,FALSE,FALSE,FALSE,FALSE,FALSE,FALSE,FALSE,FALSE,FALSE,FALSE,TRUE,M,M,M,M,M,M,M,M,M,M,M,M,M,M,M,M,M,M,M,M,M,Female,61 or older,,,,,
622,Resignation-Other reasons,06/2013,1983,2012,Teacher,Primary,Central Queensland,,Permanent Part-time,FALSE,FALSE,FALSE,FALSE,TRUE,FALSE,FALSE,FALSE,FALSE,FALSE,TRUE,FALSE,FALSE,FALSE,FALSE,FALSE,FALSE,FALSE,N,N,N,N,A,M,A,A,A,M,A,A,N,N,N,N,N,N,N,N,N,Female,51-55,,,,,
623,Age Retirement,06/2013,2001,2008,Teacher Aide,,South East,,Permanent Part-time,FALSE,FALSE,FALSE,FALSE,FALSE,FALSE,FALSE,FALSE,FALSE,FALSE,FALSE,FALSE,FALSE,FALSE,FALSE,FALSE,FALSE,TRUE,SA,N/A,A,D,A,A,A,A,A,SA,A,N/A,N/A,N/A,N/A,A,A,A,A,N,A,Male,61 or older,,,,,
624,Resignation-Move overseas/interstate,07/2013,2004,2007,Teacher,Special Education,Metropolitan,,Permanent Full-time,FALSE,FALSE,FALSE,FALSE,FALSE,FALSE,FALSE,FALSE,FALSE,FALSE,FALSE,FALSE,FALSE,FALSE,FALSE,FALSE,FALSE,TRUE,SA,N/A,A,A,SA,A,A,SA,SA,SA,SA,A,SA,SA,SA,SA,A,A,SA,A,A,Female,56-60,,,,,
625,Age Retirement,07/2013,1996,2003,Head of Curriculum/Head of Special Education,,Central Office,Education Queensland,Permanent Full-time,FALSE,FALSE,FALSE,FALSE,TRUE,FALSE,FALSE,FALSE,FALSE,FALSE,FALSE,FALSE,FALSE,FALSE,FALSE,FALSE,FALSE,FALSE,SA,N,SA,SA,SA,SD,N,SA,SA,SA,SA,SD,SA,SA,SA,SA,SA,SA,SA,N,SD,Female,56-60,,,,,
626,Resignation-Other reasons,05/2013,2011,2011,Cleaner,,Central Queensland,,Permanent Part-time,FALSE,FALSE,FALSE,FALSE,FALSE,FALSE,FALSE,FALSE,FALSE,FALSE,FALSE,FALSE,FALSE,FALSE,FALSE,TRUE,FALSE,FALSE,A,N,A,A,A,A,A,SA,D,N/A,A,N,A,A,A,A,A,A,A,A,A,Female,41-45,,,,,
627,Resignation-Other reasons,05/2013,2010,2010,Public Servant,A01-A04,Central Office,Other,Permanent Part-time,FALSE,TRUE,FALSE,TRUE,FALSE,FALSE,FALSE,FALSE,FALSE,FALSE,FALSE,FALSE,TRUE,FALSE,FALSE,FALSE,FALSE,FALSE,D,A,D,N,A,A,N,D,D,D,N,D,D,D,D,D,A,D,N,N,A,Female,26-30,,,,,
628,Ill Health Retirement,05/2013,2000,2000,Teacher Aide,,Not Stated,,Permanent Part-time,FALSE,FALSE,FALSE,FALSE,FALSE,FALSE,FALSE,FALSE,FALSE,FALSE,FALSE,FALSE,FALSE,TRUE,FALSE,FALSE,FALSE,FALSE,N,D,D,D,A,A,N,SD,N,A,D,N/A,SD,D,D,D,SD,D,N,N/A,N,Female,61 or older,,,,,
629,Age Retirement,04/2014,1976,2007,Teacher,Primary,Darling Downs South West,,Permanent Full-time,FALSE,FALSE,FALSE,FALSE,FALSE,FALSE,FALSE,FALSE,FALSE,FALSE,FALSE,FALSE,FALSE,FALSE,FALSE,FALSE,FALSE,TRUE,SA,N,A,SA,M,SD,A,SA,SA,A,SA,A,SA,SA,SA,SA,SA,SA,SA,A,A,Male,61 or older,N/A,N/A,N/A,N/A,Yes
630,Age Retirement,09/2013,1991,1992,Teacher Aide,,Metropolitan,,Permanent Part-time,FALSE,FALSE,TRUE,FALSE,TRUE,FALSE,TRUE,FALSE,FALSE,FALSE,FALSE,FALSE,FALSE,FALSE,FALSE,FALSE,FALSE,FALSE,A,SD,SD,SD,A,N,N,SD,N,N,D,D,D,SD,D,SD,SD,SD,SD,SD,N,Female,56-60,,,,,
631,Age Retirement,12/2013,2007,2007,Cleaner,,Darling Downs South West,,Permanent Full-time,FALSE,FALSE,FALSE,FALSE,FALSE,FALSE,FALSE,FALSE,FALSE,FALSE,FALSE,FALSE,TRUE,TRUE,FALSE,TRUE,FALSE,FALSE,A,N,N,A,A,A,N,A,N,A,A,A,A,A,A,N,A,A,A,SA,SA,Female,61 or older,,,,,
632,Resignation-Other reasons,08/2013,2006,2008,Teacher Aide,,South East,,Permanent Part-time,FALSE,FALSE,FALSE,FALSE,FALSE,TRUE,FALSE,FALSE,FALSE,TRUE,FALSE,FALSE,FALSE,TRUE,FALSE,FALSE,FALSE,FALSE,SD,SD,D,SD,SD,SD,N,SD,SD,SD,SD,N,SD,SA,N,SD,SD,SD,N,SD,D,Male,41-45,N/A,N/A,N/A,Yes,N/A
633,Contract Expired,08/2013,2012,2013,Teacher Aide,,Darling Downs South West,,Temporary Part-time,FALSE,FALSE,FALSE,FALSE,FALSE,FALSE,FALSE,FALSE,FALSE,FALSE,FALSE,FALSE,FALSE,FALSE,FALSE,FALSE,FALSE,TRUE,A,A,SA,A,SA,SA,A,SA,SA,SA,A,N,N,SA,SA,SA,A,SA,A,A,SA,Female,61 or older,,,,,
634,Ill Health Retirement,06/2013,1991,1991,Cleaner,,North Coast,,Permanent Part-time,FALSE,FALSE,FALSE,FALSE,FALSE,FALSE,FALSE,FALSE,FALSE,FALSE,FALSE,FALSE,FALSE,TRUE,FALSE,FALSE,FALSE,FALSE,A,A,A,A,A,A,A,A,A,A,A,A,A,A,A,A,A,A,A,A,A,Female,56-60,,,,,
635,Age Retirement,08/2013,1982,1982,Cleaner,,Far North Queensland,,Permanent Part-time,FALSE,FALSE,FALSE,FALSE,FALSE,FALSE,FALSE,FALSE,FALSE,FALSE,FALSE,FALSE,FALSE,FALSE,FALSE,FALSE,FALSE,TRUE,SA,N/A,SA,SA,SA,SA,SA,SA,SA,SA,SA,SA,SA,SA,SA,SA,SA,SA,SA,SA,SA,Female,61 or older,,,,,
636,Age Retirement,08/2013,1976,1979,Teacher,Primary,North Coast,,Permanent Full-time,FALSE,FALSE,FALSE,FALSE,FALSE,FALSE,FALSE,FALSE,FALSE,FALSE,FALSE,FALSE,FALSE,FALSE,TRUE,TRUE,TRUE,FALSE,N,N,D,A,A,D,D,D,SA,N,A,A,N,N,N,N,D,N,N,N/A,N,Female,51-55,,,,,
637,Age Retirement,01/2014,2000,2000,Cleaner,,Far North Queensland,,Permanent Part-time,FALSE,FALSE,FALSE,FALSE,FALSE,FALSE,FALSE,FALSE,FALSE,FALSE,FALSE,FALSE,FALSE,FALSE,FALSE,TRUE,FALSE,FALSE,A,N/A,A,A,A,A,A,A,A,A,A,A,N/A,A,N/A,A,A,A,A,A,A,Female,61 or older,,,,,
638,Resignation-Other reasons,09/2013,2013,2013,Teacher Aide,,Darling Downs South West,,Casual,FALSE,FALSE,FALSE,FALSE,FALSE,FALSE,FALSE,FALSE,FALSE,FALSE,FALSE,FALSE,TRUE,FALSE,FALSE,FALSE,FALSE,FALSE,SA,N,SA,SA,SA,SA,SA,SA,SA,SA,SA,SA,SA,SA,SA,SA,SA,SA,SA,N,N,Female,36-40,,,,,
639,Age Retirement,07/2014,1972,1972,Teacher,Secondary,Central Office,Education Queensland,Permanent Part-time,FALSE,FALSE,FALSE,FALSE,FALSE,FALSE,FALSE,FALSE,FALSE,FALSE,FALSE,FALSE,FALSE,FALSE,FALSE,TRUE,FALSE,FALSE,A,A,N,A,A,A,A,A,A,A,A,A,A,A,A,A,A,A,A,N,N,Male,61 or older,,,,,
640,Age Retirement,09/2013,1973,2004,Deputy Principal,,Metropolitan,,Permanent Full-time,FALSE,FALSE,FALSE,FALSE,FALSE,FALSE,FALSE,FALSE,FALSE,FALSE,FALSE,FALSE,FALSE,FALSE,FALSE,FALSE,FALSE,TRUE,A,A,A,A,A,A,A,A,A,A,A,A,SA,SA,SA,SA,SA,SA,SA,SA,SA,Female,56-60,,,,,
641,Other,08/2013,2007,2007,Teacher Aide,,North Coast,,Permanent Part-time,FALSE,FALSE,FALSE,FALSE,FALSE,FALSE,FALSE,FALSE,FALSE,FALSE,FALSE,FALSE,FALSE,TRUE,FALSE,FALSE,FALSE,FALSE,A,N,D,A,A,A,A,A,A,A,A,A,A,A,A,A,A,A,A,A,A,Female,41-45,,,,,
642,Resignation-Move overseas/interstate,09/2013,2010,2010,"School Based Professional Staff (Therapist, nurse, etc)",,North Coast,,Permanent Part-time,FALSE,FALSE,FALSE,FALSE,FALSE,FALSE,FALSE,FALSE,FALSE,FALSE,FALSE,TRUE,FALSE,FALSE,FALSE,FALSE,FALSE,FALSE,A,D,D,N/A,A,A,A,A,SA,SA,N,A,A,A,A,A,A,A,A,N,N/A,Female,36-40,,,,,
643,Resignation-Move overseas/interstate,09/2013,2010,2010,Teacher Aide,,Metropolitan,,Permanent Part-time,FALSE,FALSE,FALSE,FALSE,FALSE,FALSE,FALSE,FALSE,FALSE,FALSE,FALSE,TRUE,FALSE,FALSE,FALSE,FALSE,FALSE,FALSE,SA,SA,SA,SA,SA,SA,SA,SA,SA,SA,SA,SA,SA,SA,SA,SA,SA,SA,SA,SA,SA,Female,31-35,N/A,N/A,N/A,N/A,Yes
644,Voluntary Early Retirement (VER),08/2013,1982,2009,Teacher,Secondary,Far North Queensland,,Permanent Full-time,FALSE,FALSE,FALSE,FALSE,FALSE,FALSE,FALSE,FALSE,FALSE,FALSE,FALSE,FALSE,FALSE,TRUE,FALSE,FALSE,FALSE,FALSE,A,A,A,A,SA,SA,A,A,SA,A,SA,N/A,D,D,D,SA,SA,SA,SA,A,A,Female,56-60,N/A,Yes,N/A,N/A,N/A
645,Voluntary Early Retirement (VER),10/2013,1976,2008,Teacher,Special Education,Darling Downs South West,,Permanent Part-time,FALSE,FALSE,FALSE,FALSE,FALSE,FALSE,FALSE,FALSE,FALSE,FALSE,FALSE,FALSE,FALSE,FALSE,FALSE,TRUE,FALSE,FALSE,N,A,A,A,A,A,N,A,A,SA,SA,A,N,N,N,A,A,N,A,N,N,Female,56-60,,,,,
646,Age Retirement,12/2013,1993,1993,Cleaner,,Not Stated,,Permanent Full-time,FALSE,FALSE,FALSE,FALSE,FALSE,FALSE,FALSE,FALSE,FALSE,FALSE,FALSE,FALSE,FALSE,FALSE,FALSE,FALSE,FALSE,TRUE,A,N/A,A,A,A,A,A,A,A,A,A,M,A,A,A,A,A,A,A,N,A,Female,61 or older,,,,,
647,Age Retirement,09/2013,1981,1997,Public Servant,AO5-AO7,Central Office,Corporate Strategy and Peformance,Permanent Full-time,FALSE,FALSE,FALSE,TRUE,TRUE,FALSE,TRUE,FALSE,FALSE,FALSE,FALSE,FALSE,FALSE,FALSE,FALSE,FALSE,FALSE,FALSE,SD,SD,N,D,A,A,A,SD,A,N,A,A,SD,SD,SD,D,N,A,D,N/A,N/A,Male,51-55,N/A,N/A,N/A,Yes,N/A
648,Resignation-Other reasons,09/2013,1992,1997,Technical Officer,,Darling Downs South West,,Permanent Full-time,FALSE,FALSE,FALSE,FALSE,FALSE,FALSE,FALSE,FALSE,FALSE,FALSE,FALSE,FALSE,FALSE,TRUE,FALSE,FALSE,FALSE,FALSE,SD,SD,N,D,N,A,N,A,A,SA,SA,SA,A,A,SD,D,N,D,SD,N,N,Female,51-55,,,,,
649,Other,10/2013,2010,2010,Cleaner,,Not Stated,,Permanent Part-time,FALSE,TRUE,FALSE,TRUE,TRUE,FALSE,FALSE,FALSE,FALSE,FALSE,FALSE,FALSE,FALSE,FALSE,FALSE,FALSE,FALSE,TRUE,SA,M,SA,SA,SA,SA,SA,SA,SA,M,SA,M,M,SA,M,SA,SA,SA,SA,SA,SA,Female,51-55,,,,,
650,Resignation-Other employer,09/2013,1995,2008,Teacher Aide,,South East,,Permanent Full-time,FALSE,TRUE,FALSE,FALSE,FALSE,FALSE,FALSE,FALSE,FALSE,FALSE,FALSE,FALSE,FALSE,FALSE,FALSE,FALSE,FALSE,FALSE,N,N/A,N,N,A,N,N,A,A,A,A,A,N/A,A,A,A,A,A,A,A,A,Female,51-55,,,,,
651,Resignation-Other employer,10/2013,1996,2003,Head of Curriculum/Head of Special Education,,North Coast,,Permanent Full-time,FALSE,TRUE,TRUE,FALSE,FALSE,FALSE,FALSE,FALSE,TRUE,FALSE,FALSE,FALSE,FALSE,FALSE,FALSE,FALSE,FALSE,FALSE,A,SD,N,SD,SD,D,SD,SD,A,D,SD,A,D,A,A,SD,D,A,N,A,A,Female,61 or older,,,,,
652,Resignation-Other reasons,09/2013,2010,2012,Teacher,Primary,Central Queensland,,Permanent Full-time,FALSE,FALSE,FALSE,FALSE,FALSE,FALSE,FALSE,FALSE,FALSE,FALSE,FALSE,FALSE,FALSE,FALSE,FALSE,TRUE,TRUE,FALSE,A,N/A,N,A,A,D,D,N,A,A,A,A,A,SA,SA,N,A,N,A,D,D,Female,51-55,,,,,
653,Resignation-Move overseas/interstate,08/2013,1986,1993,Head of Curriculum/Head of Special Education,,South East,,Permanent Full-time,FALSE,FALSE,FALSE,FALSE,FALSE,FALSE,FALSE,FALSE,FALSE,FALSE,TRUE,TRUE,FALSE,FALSE,FALSE,FALSE,FALSE,FALSE,SA,SA,SA,SA,SA,A,SA,SA,SA,SA,SA,SA,SA,SA,SA,SA,SA,SA,SA,SA,SA,Female,61 or older,N/A,N/A,N/A,N/A,Yes
654,Age Retirement,09/2013,1970,2013,Teacher,,Central Office,Early Childhood Education and Care,Permanent Full-time,FALSE,FALSE,FALSE,FALSE,FALSE,FALSE,FALSE,FALSE,FALSE,FALSE,FALSE,FALSE,FALSE,TRUE,FALSE,FALSE,FALSE,FALSE,D,A,A,D,A,D,A,D,A,A,A,A,A,A,A,D,A,A,D,A,A,Female,56-60,,,,,
655,Age Retirement,01/2014,1974,1995,Teacher,Special Education,Darling Downs South West,,Permanent Part-time,FALSE,FALSE,FALSE,FALSE,FALSE,FALSE,FALSE,FALSE,FALSE,FALSE,FALSE,FALSE,FALSE,FALSE,FALSE,TRUE,FALSE,FALSE,SA,N,A,N,N,A,N,A,A,A,A,A,N,N,A,A,A,A,A,A,A,Female,56-60,,,,,
656,Age Retirement,09/2013,1970,1994,School Principal,,South East,,Permanent Full-time,FALSE,FALSE,FALSE,FALSE,FALSE,FALSE,FALSE,FALSE,FALSE,FALSE,FALSE,FALSE,FALSE,TRUE,TRUE,TRUE,FALSE,FALSE,A,D,A,A,A,D,D,A,A,A,D,A,D,D,D,A,A,D,D,A,A,Male,56-60,,,,,
657,Other,10/2013,2011,2011,Teacher Aide,,Not Stated,,Temporary Part-time,FALSE,FALSE,FALSE,FALSE,FALSE,FALSE,FALSE,FALSE,FALSE,FALSE,TRUE,FALSE,FALSE,FALSE,FALSE,FALSE,FALSE,FALSE,N,D,SA,SA,SA,A,A,A,A,N,N,N,N,A,D,A,A,A,A,D,N,Female,26-30,,,,,
658,Age Retirement,10/2013,1978,1978,Teacher,Primary,Metropolitan,,Permanent Part-time,FALSE,FALSE,FALSE,FALSE,FALSE,FALSE,FALSE,FALSE,FALSE,FALSE,TRUE,FALSE,FALSE,TRUE,FALSE,TRUE,FALSE,FALSE,A,N,A,A,A,A,A,A,SA,A,A,A,D,A,A,SA,A,A,A,A,A,Female,51-55,,,,,
659,Resignation-Move overseas/interstate,09/2013,1971,2002,Teacher,Secondary,Metropolitan,,Temporary Full-time,FALSE,FALSE,FALSE,FALSE,FALSE,FALSE,FALSE,FALSE,FALSE,FALSE,FALSE,TRUE,FALSE,FALSE,FALSE,FALSE,FALSE,FALSE,A,N/A,SA,A,A,A,A,SA,A,SA,A,A,N,A,A,A,A,A,A,A,A,,61 or older,,,,,
660,Resignation-Other reasons,08/2013,1998,Not Stated,Teacher Aide,Primary,Not Stated,,Permanent Full-time,FALSE,FALSE,FALSE,FALSE,FALSE,FALSE,FALSE,FALSE,FALSE,FALSE,FALSE,FALSE,FALSE,FALSE,FALSE,FALSE,FALSE,FALSE,SA,N,A,SA,A,SA,A,N,SA,SA,SA,N,N,N,SA,N,A,A,SA,N,A,Female,41-45,Yes,N/A,N/A,N/A,N/A
661,Age Retirement,09/2013,Not Stated,Not Stated,Cleaner,,Metropolitan,,Permanent Part-time,FALSE,FALSE,FALSE,FALSE,FALSE,FALSE,FALSE,FALSE,FALSE,FALSE,FALSE,FALSE,FALSE,FALSE,FALSE,FALSE,FALSE,TRUE,A,N/A,SA,A,A,N,A,A,A,A,A,N/A,N/A,A,N,A,A,A,A,N/A,A,Male,61 or older,,,,,
662,Age Retirement,01/2014,1970,2010,Teacher,Secondary,Metropolitan,,Permanent Part-time,FALSE,FALSE,FALSE,FALSE,FALSE,FALSE,FALSE,FALSE,FALSE,FALSE,FALSE,FALSE,FALSE,FALSE,FALSE,FALSE,FALSE,TRUE,A,A,A,A,N,N,A,SA,SA,SA,SA,A,N/A,A,A,A,SA,A,A,N,N,Male,61 or older,,,,,
663,Resignation-Other reasons,09/2013,Not Stated,Not Stated,Teacher,Primary,Central Queensland,,Permanent Part-time,FALSE,FALSE,FALSE,FALSE,FALSE,FALSE,FALSE,FALSE,FALSE,FALSE,TRUE,FALSE,FALSE,FALSE,FALSE,FALSE,FALSE,FALSE,SA,D,A,A,SA,A,A,A,A,A,D,D,A,N,A,SA,SA,SA,SA,A,SA,Female,46-50,,,,,
665,Voluntary Early Retirement (VER),06/2013,1969,Not Stated,Public Servant,A01-A04,South East,,Permanent Part-time,FALSE,FALSE,FALSE,FALSE,FALSE,FALSE,FALSE,FALSE,FALSE,FALSE,FALSE,FALSE,TRUE,FALSE,FALSE,TRUE,FALSE,FALSE,A,N,A,N,N,D,N,N,SA,A,SA,A,A,SA,A,A,SA,SA,A,A,A,Female,61 or older,,,,,
666,Resignation-Other employer,01/2014,1999,2013,Head of Curriculum/Head of Special Education,,North Coast,,Permanent Full-time,TRUE,FALSE,FALSE,FALSE,FALSE,FALSE,FALSE,FALSE,FALSE,FALSE,FALSE,FALSE,TRUE,FALSE,FALSE,TRUE,FALSE,FALSE,A,A,A,SA,A,A,A,SA,A,SA,SA,A,SA,SA,A,A,SA,A,A,N,A,Male,46-50,,,,,
667,Age Retirement,07/2014,1991,2001,Teacher,Special Education,Darling Downs South West,,Permanent Full-time,FALSE,FALSE,FALSE,TRUE,TRUE,FALSE,TRUE,FALSE,FALSE,FALSE,FALSE,FALSE,TRUE,FALSE,FALSE,TRUE,FALSE,FALSE,SA,D,SD,SD,A,A,SD,SD,SD,A,A,SD,A,N/A,SD,A,SD,A,A,SD,SD,Female,,,,,,
668,Resignation-Other employer,01/2014,2012,2013,Public Servant,A01-A04,Central Office,Information and Technologies,Temporary Full-time,FALSE,TRUE,FALSE,FALSE,FALSE,FALSE,FALSE,FALSE,FALSE,FALSE,FALSE,FALSE,FALSE,FALSE,FALSE,FALSE,FALSE,FALSE,N,A,N,N/A,N,A,A,A,SA,A,A,A,A,A,A,A,A,A,A,N,N,Male,21-25,,,,,
669,Resignation-Other reasons,12/2013,2011,2011,Teacher Aide,,South East,,Permanent Part-time,FALSE,FALSE,FALSE,FALSE,FALSE,FALSE,FALSE,FALSE,FALSE,FALSE,FALSE,TRUE,FALSE,FALSE,FALSE,FALSE,FALSE,FALSE,A,N,D,A,A,A,A,A,A,A,N,N,A,A,A,D,M,A,A,D,A,Female,41-45,,,,,
670,Age Retirement,01/2014,1983,2002,Guidance Officer,,South East,,Permanent Full-time,FALSE,FALSE,FALSE,FALSE,FALSE,FALSE,FALSE,FALSE,FALSE,FALSE,FALSE,FALSE,FALSE,FALSE,FALSE,FALSE,FALSE,TRUE,SA,SA,A,N,N,A,A,A,SA,SA,SA,SA,A,N,A,A,SA,SA,SA,A,A,,61 or older,,,,,
671,Resignation-Move overseas/interstate,12/2013,2013,2013,"School Based Professional Staff (Therapist, nurse, etc)",,Metropolitan,,Temporary Full-time,FALSE,TRUE,FALSE,TRUE,FALSE,FALSE,FALSE,FALSE,FALSE,FALSE,FALSE,FALSE,FALSE,FALSE,FALSE,FALSE,FALSE,FALSE,A,N,A,A,A,SA,SA,A,A,SA,SD,A,SD,D,SD,A,SA,N,A,N,A,Female,26-30,,,,,
672,Resignation-Move overseas/interstate,12/2013,2013,2013,"School Based Professional Staff (Therapist, nurse, etc)",,Metropolitan,,Temporary Full-time,FALSE,FALSE,FALSE,FALSE,FALSE,FALSE,FALSE,FALSE,FALSE,FALSE,FALSE,FALSE,TRUE,FALSE,FALSE,FALSE,FALSE,FALSE,N,N,A,A,A,A,A,A,N,A,N,N,A,N,A,A,A,A,A,N,N,Female,21-25,,,,,
673,Resignation-Other employer,12/2013,2009,2009,Teacher,Primary,North Coast,,Permanent Full-time,FALSE,TRUE,FALSE,FALSE,FALSE,FALSE,FALSE,FALSE,FALSE,FALSE,FALSE,FALSE,FALSE,FALSE,FALSE,FALSE,FALSE,FALSE,SA,SA,SA,SA,SA,SA,SA,SA,SA,SA,SA,SA,SA,SA,SA,SA,SA,SA,SA,A,SA,Female,41-45,,,,,
674,Age Retirement,01/2014,1969,2001,Teacher,Primary,North Coast,,Permanent Full-time,FALSE,FALSE,FALSE,FALSE,TRUE,FALSE,FALSE,FALSE,TRUE,FALSE,FALSE,FALSE,FALSE,FALSE,FALSE,TRUE,TRUE,FALSE,N,N,D,N,A,D,D,D,N,A,N,SD,SD,SD,N,N,D,N,N,M,M,Female,61 or older,N/A,N/A,N/A,N/A,N/A
675,Contract Expired,12/2013,2012,2013,School Administrative Staff,,Metropolitan,,Temporary Part-time,FALSE,FALSE,FALSE,FALSE,FALSE,FALSE,FALSE,FALSE,FALSE,FALSE,FALSE,FALSE,FALSE,FALSE,FALSE,FALSE,FALSE,TRUE,A,A,A,A,A,A,A,A,SA,A,A,M,N/A,N,A,N/A,N/A,N,N,N/A,A,Female,56-60,N/A,N/A,N/A,N/A,N/A
676,Age Retirement,11/2013,1991,1998,Cleaner,,North Coast,,Permanent Full-time,FALSE,FALSE,FALSE,FALSE,FALSE,FALSE,FALSE,FALSE,FALSE,FALSE,FALSE,FALSE,FALSE,TRUE,FALSE,FALSE,FALSE,FALSE,SA,N/A,N,A,A,A,A,A,SD,N,A,N/A,N/A,A,N/A,D,A,A,A,N/A,A,Female,51-55,,,,,
677,Voluntary Early Retirement (VER),09/2013,1988,1988,Public Servant,AO8 and Above,Central Office,Education Queensland,Permanent Part-time,FALSE,FALSE,FALSE,FALSE,FALSE,FALSE,FALSE,FALSE,FALSE,FALSE,FALSE,FALSE,FALSE,FALSE,FALSE,FALSE,FALSE,TRUE,A,D,A,A,A,A,A,A,A,A,A,D,D,A,D,A,A,A,A,D,A,Female,61 or older,,,,,
678,Resignation-Other employer,01/2014,2010,2011,Teacher,Secondary,Far North Queensland,,Permanent Full-time,FALSE,TRUE,FALSE,FALSE,FALSE,FALSE,TRUE,FALSE,FALSE,FALSE,FALSE,FALSE,FALSE,FALSE,FALSE,FALSE,FALSE,FALSE,SA,A,N,N,A,D,SD,D,A,SA,A,A,SA,A,SA,SD,SD,A,D,D,A,Female,26-30,,,,,
679,Ill Health Retirement,12/2013,1991,1991,Teacher,Secondary,Metropolitan,,Permanent Part-time,FALSE,FALSE,FALSE,FALSE,FALSE,FALSE,FALSE,FALSE,FALSE,FALSE,FALSE,FALSE,FALSE,TRUE,FALSE,FALSE,FALSE,FALSE,A,A,A,A,N,D,A,SD,A,A,SD,N,A,A,SA,A,SA,SA,SA,A,A,Female,56-60,,,,,
680,Resignation-Move overseas/interstate,12/2013,2012,2012,,,Central Queensland,,Casual,FALSE,FALSE,FALSE,FALSE,FALSE,FALSE,FALSE,FALSE,FALSE,FALSE,FALSE,TRUE,FALSE,FALSE,FALSE,FALSE,FALSE,FALSE,A,A,A,A,A,A,A,A,A,A,A,A,A,A,A,A,A,A,A,A,A,Female,36-40,,,,,
681,Age Retirement,12/2013,2001,2001,Cleaner,,Metropolitan,,Permanent Part-time,FALSE,FALSE,FALSE,FALSE,FALSE,FALSE,FALSE,FALSE,FALSE,FALSE,FALSE,FALSE,FALSE,FALSE,FALSE,FALSE,FALSE,FALSE,A,N/A,A,A,A,A,A,A,A,N/A,N/A,A,N/A,A,N/A,A,A,A,A,N/A,A,Female,61 or older,,,,,
682,Contract Expired,12/2013,2013,2013,Public Servant,A01-A04,Central Office,Other,Temporary Part-time,FALSE,FALSE,FALSE,FALSE,FALSE,FALSE,FALSE,FALSE,FALSE,FALSE,FALSE,FALSE,FALSE,FALSE,FALSE,FALSE,FALSE,FALSE,M,D,A,A,A,SA,A,SA,SA,A,A,D,A,A,A,A,A,A,A,A,A,Female,21-25,Yes,Yes,Yes,,
683,Age Retirement,04/2014,1978,1994,Teacher,,Darling Downs South West,,Permanent Part-time,FALSE,FALSE,FALSE,FALSE,FALSE,FALSE,FALSE,FALSE,FALSE,FALSE,FALSE,FALSE,FALSE,TRUE,FALSE,FALSE,FALSE,FALSE,A,A,N,A,D,A,A,N,A,N,A,SA,N,A,SA,SA,N,D,A,D,A,Female,51-55,,,,,
684,Resignation-Other employer,11/2013,1988,1991,Teacher,Secondary,North Coast,,Permanent Full-time,FALSE,FALSE,FALSE,FALSE,FALSE,FALSE,FALSE,FALSE,FALSE,FALSE,FALSE,FALSE,FALSE,FALSE,FALSE,FALSE,FALSE,FALSE,N,N,A,A,A,A,A,A,A,A,A,A,A,A,A,A,A,A,A,A,A,,46-50,,,,,
685,Resignation-Other employer,Not Stated,2011,2012,Teacher,Primary,Central Queensland,,Permanent Full-time,FALSE,TRUE,FALSE,FALSE,FALSE,FALSE,TRUE,FALSE,TRUE,FALSE,FALSE,FALSE,FALSE,FALSE,FALSE,FALSE,FALSE,FALSE,N,N,A,A,SA,N,D,N,SA,A,A,N,A,N,N,D,N,N,N,N,N,Male,21-25,,,,,
686,Resignation-Other employer,11/2013,2004,2004,Schools Officer,,South East,,Permanent Full-time,FALSE,FALSE,TRUE,FALSE,FALSE,FALSE,FALSE,FALSE,FALSE,TRUE,FALSE,FALSE,FALSE,FALSE,TRUE,FALSE,FALSE,FALSE,N,D,SD,SD,A,D,N,SD,A,N,N,SD,N,D,SD,N,N,N,SD,D,D,Female,46-50,,,,,
687,Resignation-Other employer,01/2014,1985,2010,Public Servant,AO8 and Above,Central Office,Corporate Strategy and Peformance,Permanent Full-time,FALSE,FALSE,FALSE,FALSE,FALSE,FALSE,FALSE,FALSE,FALSE,FALSE,FALSE,FALSE,FALSE,FALSE,FALSE,FALSE,FALSE,FALSE,A,A,A,N/A,A,A,SA,SA,A,SA,SA,N/A,SA,SA,SA,A,SA,SA,A,SA,SA,Male,56-60,,,,,
688,Ill Health Retirement,12/2013,Not Stated,Not Stated,Teacher,Primary,South East,,Permanent Part-time,FALSE,FALSE,FALSE,FALSE,FALSE,FALSE,FALSE,FALSE,FALSE,FALSE,FALSE,FALSE,FALSE,TRUE,FALSE,FALSE,FALSE,FALSE,SA,A,A,SA,SA,A,A,SA,A,A,A,N,A,A,A,A,A,A,A,A,N,Female,56-60,,,,Yes,
689,Resignation-Other reasons,11/2013,2013,2013,Teacher Aide,,Darling Downs South West,,Permanent Part-time,TRUE,FALSE,FALSE,FALSE,FALSE,FALSE,FALSE,FALSE,FALSE,FALSE,FALSE,FALSE,FALSE,FALSE,FALSE,FALSE,FALSE,FALSE,A,N,A,A,A,A,A,A,A,A,A,A,N,N,N,A,A,A,A,A,N,Female,46-50,,,,,
690,Age Retirement,12/2013,2002,2002,Other,,South East,,Permanent Full-time,FALSE,FALSE,FALSE,FALSE,FALSE,FALSE,FALSE,FALSE,FALSE,FALSE,FALSE,FALSE,FALSE,FALSE,FALSE,TRUE,FALSE,FALSE,SA,N,A,N,A,A,SA,SA,SA,SA,SA,SA,D,D,A,A,SA,SA,SA,SD,A,Female,61 or older,,,,,
691,Age Retirement,Not Stated,1975,1975,Teacher,Secondary,Metropolitan,,Permanent Part-time,FALSE,FALSE,FALSE,FALSE,FALSE,FALSE,FALSE,FALSE,FALSE,FALSE,FALSE,FALSE,FALSE,FALSE,FALSE,TRUE,FALSE,FALSE,SA,A,A,SA,A,N,N,SA,A,N,A,A,A,A,A,SA,SA,SA,A,A,A,Female,56-60,,,,,
692,Resignation-Move overseas/interstate,01/2014,2004,2004,Teacher,Secondary,South East,,Permanent Full-time,FALSE,TRUE,FALSE,FALSE,FALSE,FALSE,FALSE,FALSE,FALSE,FALSE,FALSE,TRUE,TRUE,FALSE,FALSE,FALSE,FALSE,FALSE,A,D,D,A,A,A,D,N,N,A,A,A,A,A,A,A,A,A,A,A,A,Female,31-35,,,,,
693,Resignation-Other employer,01/2014,1998,2013,Teacher,,Darling Downs South West,,Permanent Full-time,FALSE,TRUE,FALSE,FALSE,FALSE,FALSE,FALSE,FALSE,FALSE,FALSE,FALSE,FALSE,FALSE,FALSE,FALSE,FALSE,FALSE,FALSE,SA,SA,N,A,A,N,N,N,A,A,A,A,SA,SA,SA,A,SA,SA,SA,N,A,Female,36-40,,,,,
694,Resignation-Other reasons,12/2013,2012,2012,Teacher,Secondary,North Queensland,,Permanent Part-time,FALSE,FALSE,FALSE,FALSE,FALSE,FALSE,FALSE,FALSE,FALSE,FALSE,FALSE,TRUE,FALSE,FALSE,FALSE,FALSE,FALSE,FALSE,A,N,SA,N,A,A,N,A,A,N,D,D,D,D,D,A,N,A,A,N,A,Female,21-25,,,,,
695,Resignation-Move overseas/interstate,01/2014,2010,2010,Teacher,Secondary,South East,,Permanent Full-time,FALSE,FALSE,FALSE,FALSE,FALSE,FALSE,FALSE,FALSE,FALSE,FALSE,FALSE,TRUE,FALSE,FALSE,FALSE,FALSE,FALSE,FALSE,SA,SA,N,D,N,D,D,A,A,A,A,A,A,A,A,N,N,N,A,SD,N,Male,41-45,,,,,
696,Resignation-Other reasons,Not Stated,2012,Not Stated,Teacher Aide,,Metropolitan,,Casual,FALSE,FALSE,FALSE,FALSE,FALSE,FALSE,FALSE,FALSE,FALSE,FALSE,TRUE,FALSE,FALSE,FALSE,FALSE,FALSE,FALSE,FALSE,N/A,N/A,N/A,N/A,N/A,N/A,N/A,N/A,N/A,N/A,N/A,N/A,N/A,N/A,N/A,N/A,N/A,N/A,N/A,N/A,N/A,Female,46-50,,,,,
697,Age Retirement,10/2013,2011,2011,Teacher,Primary,South East,,Permanent Part-time,FALSE,FALSE,FALSE,FALSE,FALSE,FALSE,FALSE,FALSE,FALSE,FALSE,FALSE,FALSE,FALSE,FALSE,FALSE,FALSE,FALSE,FALSE,A,N,A,A,A,SA,A,SA,D,SA,SA,N,SA,SA,SA,SA,SA,SA,SA,A,A,Male,61 or older,,,,,
698,Resignation-Move overseas/interstate,10/2013,2008,2008,Teacher Aide,,Darling Downs South West,,Permanent Full-time,FALSE,FALSE,FALSE,FALSE,FALSE,FALSE,FALSE,FALSE,FALSE,FALSE,FALSE,FALSE,FALSE,FALSE,FALSE,FALSE,FALSE,FALSE,SA,SA,SA,SA,A,A,SA,A,SA,A,A,SA,SA,A,SA,SA,SA,A,A,A,A,Male,26-30,Yes,,,,
699,Age Retirement,10/2013,1974,1989,School Administrative Staff,,North Coast,,Permanent Full-time,FALSE,FALSE,FALSE,FALSE,FALSE,FALSE,TRUE,FALSE,FALSE,FALSE,FALSE,FALSE,FALSE,FALSE,FALSE,TRUE,TRUE,FALSE,SA,A,N,N,N,D,N,N,SA,N,N,D,N,D,A,D,N,N,D,N,A,Female,51-55,,,,,
700,Resignation-Other reasons,11/2013,2010,2010,Cleaner,,Central Queensland,,Permanent Part-time,FALSE,FALSE,FALSE,FALSE,FALSE,FALSE,FALSE,FALSE,FALSE,FALSE,FALSE,FALSE,FALSE,FALSE,FALSE,TRUE,FALSE,FALSE,SA,SA,A,A,SA,SA,SA,SA,SA,SA,SA,SA,SA,SA,SA,SA,SA,SA,SA,A,A,Female,41-45,,,,,
701,Age Retirement,Not Stated,2006,2006,Schools Officer,,Metropolitan,,Permanent Full-time,FALSE,FALSE,FALSE,FALSE,FALSE,FALSE,FALSE,FALSE,FALSE,FALSE,FALSE,FALSE,FALSE,FALSE,FALSE,FALSE,FALSE,FALSE,A,M,N,N,A,A,N,N,N,N,N,N,D,D,D,N,N,N,N,D,D,Male,61 or older,,,,,
702,Resignation-Other employer,11/2013,2007,2013,Other,,Central Office,Information and Technologies,Casual,TRUE,FALSE,FALSE,FALSE,FALSE,FALSE,FALSE,FALSE,FALSE,FALSE,FALSE,FALSE,FALSE,FALSE,FALSE,FALSE,FALSE,FALSE,N,D,N,A,SA,SA,SA,SA,SA,A,D,N,SA,SA,A,SA,SA,SA,SA,SA,N/A,Male,21-25,,,,,
703,Resignation-Other reasons,08/2013,1988,1988,Teacher,Primary,Central Queensland,,Permanent Part-time,FALSE,TRUE,FALSE,FALSE,FALSE,FALSE,FALSE,FALSE,FALSE,FALSE,FALSE,FALSE,FALSE,FALSE,FALSE,FALSE,FALSE,FALSE,A,A,A,A,A,A,A,D,SA,SA,SA,A,A,A,A,A,A,A,A,D,A,Female,46-50,,,,,
704,Other,09/2013,1998,2006,Cleaner,,Far North Queensland,,Permanent Part-time,FALSE,FALSE,FALSE,FALSE,FALSE,FALSE,FALSE,FALSE,FALSE,FALSE,FALSE,FALSE,FALSE,FALSE,FALSE,FALSE,FALSE,FALSE,A,N,SA,SA,A,SA,SA,SA,SA,SA,SA,SA,N,N,N,SA,SA,A,A,SA,SA,Female,56-60,,,,,
705,Resignation-Move overseas/interstate,10/2013,2013,2013,Public Servant,A01-A04,Central Office,"Policy, Research, Legislation",Permanent Full-time,FALSE,FALSE,TRUE,FALSE,TRUE,FALSE,FALSE,FALSE,FALSE,FALSE,FALSE,FALSE,FALSE,FALSE,FALSE,FALSE,FALSE,FALSE,SD,N/A,SD,SD,A,A,D,D,SD,A,A,N/A,N/A,N/A,N/A,SD,D,SD,SD,N/A,N/A,Female,51-55,,,,,
706,Resignation-Other reasons,Not Stated,2006,2007,Teacher Aide,,Darling Downs South West,,Permanent Full-time,FALSE,FALSE,FALSE,FALSE,FALSE,FALSE,FALSE,FALSE,FALSE,FALSE,FALSE,TRUE,TRUE,FALSE,FALSE,FALSE,FALSE,FALSE,SA,N,A,SA,SA,SA,SA,SA,A,SA,A,A,A,A,SA,SA,SA,A,A,A,A,Female,41-45,,,,,
707,Age Retirement,11/2013,1984,Not Stated,Teacher Aide,,Metropolitan,,Permanent Part-time,FALSE,FALSE,FALSE,FALSE,FALSE,FALSE,FALSE,FALSE,FALSE,FALSE,FALSE,FALSE,FALSE,FALSE,FALSE,FALSE,FALSE,FALSE,A,M,A,A,A,A,A,A,A,A,A,M,M,M,M,A,A,A,A,A,A,Female,61 or older,,,,,
708,Age Retirement,12/2013,1976,1976,Teacher Aide,,Metropolitan,,Permanent Part-time,FALSE,FALSE,FALSE,FALSE,FALSE,FALSE,FALSE,FALSE,FALSE,FALSE,FALSE,FALSE,FALSE,FALSE,FALSE,FALSE,FALSE,FALSE,A,A,A,A,A,SA,A,A,A,A,SA,A,A,A,A,A,A,A,A,A,A,Female,61 or older,,,,,
709,Ill Health Retirement,11/2013,2007,2008,Other,,Central Office,Education Queensland,Permanent Part-time,FALSE,FALSE,FALSE,FALSE,FALSE,FALSE,FALSE,FALSE,FALSE,FALSE,FALSE,FALSE,FALSE,TRUE,FALSE,FALSE,FALSE,FALSE,SA,A,A,A,A,SA,SA,SA,SA,SA,SA,A,SA,SA,A,A,A,A,SA,SA,SA,Female,41-45,,,,,Yes
710,Ill Health Retirement,Not Stated,Not Stated,Not Stated,Cleaner,,Far North Queensland,,Permanent Full-time,FALSE,FALSE,FALSE,FALSE,FALSE,FALSE,FALSE,FALSE,FALSE,FALSE,FALSE,FALSE,FALSE,TRUE,FALSE,FALSE,FALSE,FALSE,A,N/A,A,A,A,A,N/A,A,A,A,A,A,N/A,A,N/A,A,A,A,A,N/A,A,Female,,Yes,,,,
711,Resignation-Other employer,Not Stated,Not Stated,Not Stated,Teacher,Primary,Central Office,Education Queensland,Permanent Full-time,FALSE,TRUE,FALSE,FALSE,FALSE,FALSE,FALSE,FALSE,FALSE,FALSE,FALSE,FALSE,FALSE,FALSE,FALSE,TRUE,TRUE,FALSE,A,D,N,A,SA,D,N,N,SA,SA,A,N,A,N,A,A,A,SA,A,N,A,Female,51-55,,,,,
712,Other,12/2013,1990,1990,Teacher Aide,,South East,,Permanent Full-time,FALSE,FALSE,FALSE,FALSE,FALSE,FALSE,FALSE,FALSE,FALSE,FALSE,TRUE,FALSE,TRUE,FALSE,FALSE,FALSE,FALSE,FALSE,SA,D,A,D,D,A,A,A,SA,N,A,D,D,N,D,D,D,N,D,A,N,Female,56-60,,,,,
713,Age Retirement,01/2014,1978,1978,Teacher,,Central Queensland,,Permanent Full-time,FALSE,FALSE,FALSE,FALSE,FALSE,FALSE,FALSE,FALSE,FALSE,FALSE,FALSE,FALSE,FALSE,FALSE,FALSE,FALSE,FALSE,FALSE,SA,N,A,SA,SA,SA,SA,SA,SA,SA,SA,A,A,SA,N,SA,SA,SA,SA,N,N,Male,61 or older,,,,,
714,Resignation-Other reasons,12/2013,Not Stated,Not Stated,Teacher Aide,,Metropolitan,,Permanent Part-time,FALSE,FALSE,FALSE,FALSE,FALSE,FALSE,FALSE,FALSE,FALSE,FALSE,TRUE,FALSE,FALSE,FALSE,FALSE,FALSE,FALSE,FALSE,A,N,A,N,A,A,A,A,A,A,A,A,N,A,A,A,A,A,A,A,A,Female,61 or older,,,,,
715,Age Retirement,12/2013,1976,2001,Teacher,Special Education,Metropolitan,,Permanent Part-time,FALSE,FALSE,FALSE,FALSE,FALSE,FALSE,FALSE,FALSE,FALSE,FALSE,FALSE,FALSE,FALSE,FALSE,FALSE,FALSE,FALSE,FALSE,A,A,A,A,A,N,N,N,A,A,A,A,A,A,A,N,A,A,A,A,A,Female,56-60,,,,,
716,Age Retirement,11/2013,1979,1979,Teacher,Primary,South East,,Permanent Part-time,FALSE,FALSE,FALSE,FALSE,FALSE,FALSE,FALSE,FALSE,FALSE,FALSE,FALSE,FALSE,FALSE,FALSE,FALSE,TRUE,FALSE,FALSE,SA,SA,A,SA,A,A,SA,SA,SA,SA,SA,A,A,SA,A,SA,SA,SA,SA,A,SA,Male,56-60,,,,,
717,Contract Expired,12/2013,2010,2013,Teacher Aide,,North Queensland,,Temporary Part-time,FALSE,FALSE,FALSE,FALSE,FALSE,FALSE,FALSE,FALSE,FALSE,FALSE,FALSE,FALSE,FALSE,FALSE,FALSE,FALSE,FALSE,FALSE,A,N,A,A,A,SA,SA,SA,SA,SA,A,N,A,A,A,A,A,A,A,A,A,Female,36-40,,,,,
718,Resignation-Other reasons,12/2013,2000,2001,Teacher Aide,,Metropolitan,,Permanent Part-time,FALSE,FALSE,FALSE,FALSE,FALSE,FALSE,FALSE,FALSE,FALSE,FALSE,FALSE,FALSE,FALSE,FALSE,FALSE,TRUE,FALSE,FALSE,A,N,N,A,A,A,N,N,A,N,A,A,N,N,A,A,A,A,A,A,A,Female,51-55,,,,,
719,Age Retirement,10/2013,1992,2003,Public Servant,A01-A04,North Coast,,Permanent Full-time,FALSE,FALSE,FALSE,FALSE,FALSE,FALSE,FALSE,FALSE,FALSE,FALSE,FALSE,FALSE,TRUE,FALSE,FALSE,TRUE,FALSE,FALSE,A,SD,D,SD,A,D,D,D,A,D,D,SD,SD,SD,SD,D,SD,N,D,A,A,Female,61 or older,,,,,
720,Contract Expired,Not Stated,2013,2013,Technical Officer,,Central Office,Training and Tertiary Education Queensland,Temporary Full-time,FALSE,FALSE,FALSE,FALSE,FALSE,FALSE,FALSE,FALSE,FALSE,FALSE,FALSE,FALSE,FALSE,FALSE,FALSE,FALSE,FALSE,FALSE,A,N,D,A,A,A,A,A,A,A,A,A,N,N,N,A,A,A,A,A,N,Male,41-45,,,,,
721,Contract Expired,09/2013,2013,2013,Public Servant,A01-A04,Central Office,Information and Technologies,Casual,FALSE,FALSE,TRUE,FALSE,FALSE,FALSE,TRUE,TRUE,FALSE,FALSE,FALSE,FALSE,FALSE,FALSE,FALSE,FALSE,FALSE,FALSE,N,D,N,D,N,D,N,D,N,D,N,D,A,A,A,A,A,A,A,D,D,Male,26-30,,,,,
722,Contract Expired,09/2013,2013,2013,Public Servant,A01-A04,Central Office,Information and Technologies,Temporary Full-time,FALSE,FALSE,FALSE,FALSE,FALSE,FALSE,FALSE,FALSE,FALSE,FALSE,FALSE,FALSE,FALSE,FALSE,FALSE,FALSE,FALSE,FALSE,SA,SA,SA,SA,SA,SA,SA,SA,SA,SA,SA,SA,SA,SA,SA,SA,SA,SA,SA,A,SA,Male,31-35,,,,,Yes
723,Contract Expired,09/2013,2013,2013,Public Servant,A01-A04,Central Office,Information and Technologies,Casual,FALSE,TRUE,FALSE,FALSE,FALSE,FALSE,FALSE,TRUE,FALSE,FALSE,FALSE,FALSE,TRUE,FALSE,FALSE,FALSE,FALSE,FALSE,D,SD,A,A,A,SA,A,SA,SA,SA,A,N,N,A,N,A,N,A,N,N,N,Male,21-25,,,,,
724,Contract Expired,09/2013,2013,2013,Public Servant,A01-A04,Central Office,Information and Technologies,Casual,FALSE,FALSE,FALSE,FALSE,FALSE,FALSE,FALSE,FALSE,FALSE,FALSE,FALSE,FALSE,FALSE,FALSE,FALSE,FALSE,FALSE,TRUE,A,N/A,A,N,N,A,A,A,A,A,N,N/A,N/A,N,N/A,N,N,A,A,A,A,Male,51-55,,,,,
725,Contract Expired,09/2013,2013,2013,Public Servant,A01-A04,Central Office,Information and Technologies,Casual,FALSE,FALSE,FALSE,FALSE,FALSE,FALSE,FALSE,FALSE,FALSE,FALSE,FALSE,FALSE,FALSE,FALSE,FALSE,FALSE,FALSE,TRUE,A,N,A,A,A,A,A,A,A,A,A,N,N,A,N,A,A,A,A,A,A,Male,31-35,,,,,
726,Resignation-Other reasons,Not Stated,1984,Not Stated,Teacher,Primary,Darling Downs South West,,Permanent Full-time,FALSE,FALSE,FALSE,FALSE,FALSE,FALSE,FALSE,FALSE,FALSE,FALSE,FALSE,FALSE,TRUE,FALSE,FALSE,FALSE,FALSE,FALSE,SD,N,SD,SD,A,SA,A,SD,A,SD,SD,SD,SD,SD,SD,A,SD,N,N,SD,N,Female,46-50,,,,,
727,Contract Expired,Not Stated,2013,2013,Public Servant,A01-A04,Metropolitan,,Temporary Full-time,FALSE,FALSE,FALSE,FALSE,FALSE,FALSE,FALSE,FALSE,FALSE,FALSE,FALSE,FALSE,FALSE,FALSE,FALSE,FALSE,FALSE,TRUE,A,N,A,A,A,A,A,A,SA,N,N,N,A,A,A,A,A,A,A,N,N,Male,26-30,,,,,
728,Resignation-Other employer,01/2014,1975,1987,Head of Curriculum/Head of Special Education,,Far North Queensland,,Permanent Full-time,FALSE,FALSE,FALSE,FALSE,FALSE,FALSE,FALSE,TRUE,FALSE,FALSE,FALSE,FALSE,FALSE,FALSE,FALSE,TRUE,FALSE,FALSE,A,A,A,N,A,SD,D,A,SA,A,A,N,N,A,A,A,A,A,A,N,N,Male,56-60,,,,,
729,Resignation-Other reasons,01/2014,1980,2003,Teacher,Secondary,North Queensland,,Permanent Full-time,FALSE,FALSE,FALSE,FALSE,FALSE,FALSE,FALSE,FALSE,FALSE,FALSE,FALSE,TRUE,FALSE,FALSE,FALSE,TRUE,FALSE,FALSE,A,A,A,A,A,N,N,N,A,A,A,A,N,N,N,N,N,A,A,N,A,Female,51-55,,,,,
730,Age Retirement,01/2014,1975,2013,Teacher,Primary,North Coast,,Permanent Full-time,FALSE,FALSE,FALSE,FALSE,FALSE,FALSE,FALSE,FALSE,FALSE,FALSE,FALSE,FALSE,FALSE,FALSE,TRUE,TRUE,TRUE,FALSE,A,D,N,A,A,D,N,A,A,A,N,N,A,A,A,A,A,A,A,N,N,Female,56-60,,,,,
731,Age Retirement,Not Stated,1978,2004,Deputy Principal,,North Coast,,Permanent Full-time,FALSE,FALSE,TRUE,FALSE,TRUE,FALSE,FALSE,FALSE,FALSE,FALSE,FALSE,FALSE,FALSE,FALSE,FALSE,TRUE,FALSE,FALSE,SA,A,SA,A,A,D,A,N,A,A,A,SA,SA,SA,SA,SA,SA,SA,SA,SA,SA,Male,56-60,,,,,
732,Resignation-Other employer,12/2013,1999,1999,Teacher Aide,,Not Stated,,Permanent Part-time,FALSE,FALSE,FALSE,FALSE,FALSE,FALSE,FALSE,TRUE,FALSE,FALSE,FALSE,FALSE,FALSE,FALSE,FALSE,FALSE,FALSE,FALSE,A,A,A,A,A,A,A,A,A,A,A,A,A,A,A,A,A,A,A,A,A,Female,46-50,,,,,
733,Resignation-Other reasons,01/2014,1992,1997,Technical Officer,,Central Queensland,,Permanent Full-time,FALSE,FALSE,FALSE,FALSE,TRUE,FALSE,TRUE,FALSE,FALSE,FALSE,FALSE,FALSE,FALSE,FALSE,FALSE,FALSE,TRUE,FALSE,SD,N,D,D,D,A,SD,D,A,A,A,N,SD,SD,N,A,A,A,A,A,A,Male,56-60,,,,,
734,Age Retirement,01/2014,1969,1985,Head of Curriculum/Head of Special Education,,Metropolitan,,Permanent Full-time,FALSE,FALSE,FALSE,FALSE,FALSE,FALSE,FALSE,FALSE,FALSE,FALSE,FALSE,FALSE,FALSE,FALSE,FALSE,TRUE,FALSE,FALSE,N,A,D,N,A,D,A,A,SA,A,SA,SA,D,D,A,N,A,A,A,N,SA,Male,61 or older,,,,,
735,Age Retirement,Not Stated,1976,1976,Teacher Aide,,Not Stated,,Permanent Part-time,FALSE,FALSE,FALSE,FALSE,FALSE,FALSE,FALSE,FALSE,FALSE,FALSE,FALSE,FALSE,FALSE,FALSE,FALSE,FALSE,FALSE,TRUE,A,A,A,A,SA,SA,SA,SA,SA,SA,SA,SA,SA,SA,SA,SA,SA,SA,SA,SA,SA,Female,61 or older,,,,,
736,Voluntary Early Retirement (VER),10/2013,1989,1989,Teacher Aide,,Metropolitan,,Permanent Part-time,FALSE,FALSE,FALSE,FALSE,FALSE,FALSE,FALSE,FALSE,FALSE,FALSE,FALSE,FALSE,FALSE,FALSE,FALSE,FALSE,FALSE,TRUE,SA,SA,SA,SA,SA,SA,SA,SA,SA,SA,SA,SA,SA,SA,SA,SA,SA,SA,SA,SA,SA,Female,61 or older,,,,,
737,Resignation-Move overseas/interstate,10/2013,2006,Not Stated,Cleaner,,Darling Downs South West,,Permanent Full-time,FALSE,FALSE,FALSE,FALSE,FALSE,FALSE,FALSE,FALSE,FALSE,FALSE,TRUE,TRUE,FALSE,TRUE,FALSE,FALSE,FALSE,FALSE,SA,SA,SA,SA,SA,SA,SA,SA,SA,SA,SA,SA,SA,SA,SA,SA,SA,SA,SA,SA,SA,Female,61 or older,,,,,
738,Age Retirement,10/2013,1999,2002,Head of Curriculum/Head of Special Education,,South East,,Permanent Full-time,FALSE,FALSE,FALSE,FALSE,FALSE,FALSE,FALSE,FALSE,FALSE,FALSE,FALSE,FALSE,FALSE,TRUE,FALSE,TRUE,FALSE,FALSE,A,A,A,N,A,D,N,A,N,A,A,A,A,A,A,N,A,A,A,N,N,Female,56-60,,,,,
739,Resignation-Other reasons,10/2013,1999,2004,Teacher,Special Education,South East,,Permanent Part-time,FALSE,FALSE,FALSE,FALSE,FALSE,FALSE,FALSE,FALSE,FALSE,FALSE,FALSE,FALSE,FALSE,TRUE,FALSE,FALSE,FALSE,FALSE,A,A,A,A,A,N,N,A,SA,A,A,A,A,A,A,A,A,A,A,A,A,Male,56-60,,,,,
740,Ill Health Retirement,10/2013,1997,2000,Teacher Aide,,North Queensland,,Permanent Part-time,FALSE,FALSE,FALSE,FALSE,FALSE,FALSE,FALSE,FALSE,FALSE,FALSE,FALSE,FALSE,FALSE,TRUE,FALSE,FALSE,FALSE,FALSE,A,A,N,A,A,A,A,A,A,A,A,A,A,A,N,N,A,A,A,D,D,Female,61 or older,,,,,
741,Age Retirement,Not Stated,1975,1999,Teacher,Secondary,South East,,Permanent Full-time,FALSE,FALSE,FALSE,FALSE,FALSE,FALSE,FALSE,FALSE,FALSE,FALSE,TRUE,FALSE,FALSE,FALSE,FALSE,TRUE,FALSE,FALSE,SA,SA,A,A,A,N,SA,SA,SA,SA,A,A,SA,A,N,A,A,SA,SA,A,SA,Female,56-60,,,,,
742,Age Retirement,Not Stated,1985,1985,Teacher,Primary,North Queensland,,Permanent Full-time,FALSE,FALSE,FALSE,FALSE,FALSE,FALSE,FALSE,FALSE,FALSE,FALSE,FALSE,FALSE,FALSE,FALSE,FALSE,TRUE,FALSE,FALSE,N,N,N,N,N,N,N,N,N,N,N,N,A,A,SD,SD,D,SD,SD,SD,SD,,61 or older,,,,,
743,Contract Expired,01/2014,1983,2001,Teacher,Primary,Not Stated,,Permanent Part-time,FALSE,FALSE,FALSE,FALSE,FALSE,FALSE,FALSE,FALSE,FALSE,FALSE,FALSE,FALSE,FALSE,FALSE,FALSE,FALSE,FALSE,TRUE,A,N,SA,A,D,A,A,N,SA,N,A,A,N,A,A,A,A,A,A,N,A,Female,61 or older,,,,,
744,Age Retirement,01/2014,1995,2003,Teacher,Primary,Metropolitan,,Permanent Full-time,FALSE,FALSE,FALSE,FALSE,FALSE,FALSE,FALSE,FALSE,FALSE,FALSE,FALSE,TRUE,FALSE,FALSE,FALSE,FALSE,FALSE,FALSE,A,N,A,A,A,A,A,A,A,A,A,A,A,A,A,A,A,A,A,A,A,Female,51-55,,,,,
745,Age Retirement,09/2014,1986,2012,Teacher,Primary,North Coast,,Permanent Full-time,FALSE,FALSE,FALSE,FALSE,FALSE,FALSE,FALSE,FALSE,FALSE,FALSE,FALSE,FALSE,FALSE,FALSE,FALSE,FALSE,FALSE,TRUE,A,A,N,N,A,A,D,N,A,A,SA,SA,A,A,N,SA,SA,SA,SA,SD,D,Female,61 or older,,,,,
746,Resignation-Other employer,12/2013,1991,2004,Public Servant,A01-A04,Central Office,Information and Technologies,Permanent Full-time,FALSE,FALSE,FALSE,FALSE,FALSE,FALSE,FALSE,FALSE,TRUE,FALSE,FALSE,FALSE,FALSE,FALSE,FALSE,FALSE,FALSE,FALSE,N,N,A,A,A,A,A,A,A,A,A,A,A,A,A,A,A,A,A,D,D,Female,41-45,,,,,
747,Age Retirement,Not Stated,Not Stated,Not Stated,Guidance Officer,,Darling Downs South West,,Permanent Full-time,FALSE,FALSE,FALSE,FALSE,FALSE,FALSE,FALSE,FALSE,FALSE,FALSE,FALSE,FALSE,FALSE,FALSE,FALSE,FALSE,FALSE,TRUE,SD,SD,D,SD,D,SD,SD,SD,N/A,N/A,SD,SD,SD,SD,SD,SD,D,SD,D,D,SD,Male,56-60,,,,,
748,Age Retirement,01/2014,2003,2003,Teacher,Middle,North Coast,,Permanent Full-time,FALSE,FALSE,FALSE,FALSE,FALSE,FALSE,FALSE,FALSE,FALSE,FALSE,TRUE,TRUE,FALSE,FALSE,TRUE,FALSE,FALSE,FALSE,SA,N,SA,N/A,A,A,A,SA,SA,A,A,A,D,D,N/A,SA,SA,SA,SA,SA,SA,Female,56-60,,,,,
749,Resignation-Move overseas/interstate,01/2014,2008,2008,Teacher,Primary,North Coast,,Permanent Full-time,FALSE,FALSE,FALSE,FALSE,FALSE,FALSE,FALSE,FALSE,FALSE,FALSE,TRUE,TRUE,FALSE,FALSE,FALSE,FALSE,FALSE,FALSE,SA,SA,SA,SA,SA,SA,SA,SA,SA,SA,SA,SA,SA,SA,SA,SA,SA,SA,SA,SA,SA,Female,41-45,,,,,
750,Age Retirement,12/2013,1996,1996,Teacher,Special Education,Central Queensland,,Permanent Part-time,FALSE,FALSE,FALSE,FALSE,FALSE,FALSE,FALSE,FALSE,FALSE,FALSE,FALSE,FALSE,FALSE,FALSE,FALSE,FALSE,FALSE,TRUE,A,A,A,A,A,A,A,A,A,A,A,A,SA,A,A,A,A,A,A,A,A,Female,61 or older,,,,,
751,Voluntary Early Retirement (VER),Not Stated,Not Stated,Not Stated,Teacher,Primary,North Queensland,,Permanent Part-time,FALSE,FALSE,FALSE,FALSE,FALSE,FALSE,FALSE,FALSE,FALSE,FALSE,FALSE,FALSE,FALSE,FALSE,TRUE,FALSE,FALSE,FALSE,A,N,D,N/A,A,D,SD,D,D,A,A,D,N/A,A,N/A,A,A,A,A,M,A,Female,51-55,,,,,
752,Age Retirement,01/2014,1983,1983,Teacher,Primary,North Coast,,Temporary Full-time,FALSE,FALSE,FALSE,FALSE,FALSE,FALSE,FALSE,FALSE,FALSE,FALSE,FALSE,FALSE,FALSE,FALSE,FALSE,FALSE,FALSE,TRUE,A,N,N,A,A,A,A,A,SA,N,N,A,D,A,A,A,A,SA,SA,SA,SA,Female,61 or older,,,,,
753,Resignation-Other reasons,12/2013,2005,2005,Cleaner,,Central Office,Education Queensland,Permanent Part-time,FALSE,FALSE,FALSE,TRUE,FALSE,FALSE,FALSE,FALSE,FALSE,FALSE,FALSE,FALSE,FALSE,FALSE,FALSE,FALSE,FALSE,FALSE,N,SD,D,SD,A,A,SD,SD,SD,SD,SD,SD,SD,SD,SD,SD,SD,SD,SD,SD,SD,Male,61 or older,,,,,
754,Resignation-Other reasons,11/2013,1998,Not Stated,Teacher Aide,,Darling Downs South West,,Permanent Part-time,FALSE,FALSE,FALSE,FALSE,FALSE,FALSE,FALSE,FALSE,FALSE,FALSE,FALSE,FALSE,FALSE,TRUE,TRUE,FALSE,FALSE,FALSE,A,N,N,A,A,A,A,A,SA,SA,SA,SA,N,A,A,N,A,A,A,N,N,Female,46-50,,,,Yes,
755,Resignation-Other employer,11/2013,2004,2011,Teacher,Primary,Central Queensland,,Permanent Full-time,FALSE,FALSE,FALSE,TRUE,FALSE,FALSE,FALSE,FALSE,FALSE,FALSE,FALSE,FALSE,FALSE,TRUE,FALSE,TRUE,FALSE,FALSE,SA,SA,D,N,SA,SD,N,N,SA,SA,SA,SD,A,A,A,N,A,A,A,A,A,Female,31-35,,,,,
756,Age Retirement,Not Stated,1988,2013,Public Servant,A01-A04,Far North Queensland,,Permanent Full-time,FALSE,FALSE,FALSE,FALSE,FALSE,FALSE,FALSE,FALSE,FALSE,FALSE,FALSE,FALSE,FALSE,FALSE,FALSE,FALSE,FALSE,TRUE,A,A,A,A,D,A,A,SA,SA,SA,SA,SA,N/A,N/A,N/A,A,A,A,A,A,A,,61 or older,,,,,
757,Resignation-Other employer,12/2013,2012,2013,Teacher,Primary,Central Queensland,,Permanent Part-time,FALSE,FALSE,FALSE,FALSE,FALSE,FALSE,FALSE,FALSE,FALSE,FALSE,FALSE,FALSE,FALSE,FALSE,FALSE,FALSE,FALSE,TRUE,N,N,A,A,A,A,A,A,A,A,N,N,N,A,N,A,A,A,A,A,A,Female,41-45,,,,,
758,Age Retirement,11/2013,1970,2000,Public Servant,A01-A04,Metropolitan,,Permanent Full-time,FALSE,FALSE,FALSE,FALSE,FALSE,FALSE,FALSE,FALSE,FALSE,FALSE,FALSE,FALSE,FALSE,FALSE,FALSE,TRUE,FALSE,FALSE,SA,A,A,A,A,A,A,A,A,SA,SA,SA,SA,SA,SA,A,SA,A,A,A,SA,Female,56-60,,,,,
759,Age Retirement,01/2014,1975,1991,Head of Curriculum/Head of Special Education,,Darling Downs South West,,Permanent Full-time,FALSE,FALSE,FALSE,TRUE,TRUE,FALSE,FALSE,FALSE,FALSE,FALSE,FALSE,FALSE,FALSE,FALSE,FALSE,TRUE,FALSE,FALSE,A,A,A,N,D,N,D,N,A,A,N,A,D,N,D,A,A,A,A,SD,N,Male,56-60,,,,,
760,Age Retirement,12/2013,1976,1999,Head of Curriculum/Head of Special Education,,North Queensland,,Permanent Full-time,FALSE,FALSE,FALSE,FALSE,FALSE,FALSE,FALSE,FALSE,FALSE,FALSE,FALSE,FALSE,FALSE,FALSE,FALSE,TRUE,FALSE,FALSE,A,SA,D,N,A,D,D,N,SD,N,A,D,SD,N/A,D,D,A,SD,N,D,N,Male,56-60,,,,,
761,Voluntary Early Retirement (VER),12/2013,1981,1998,Teacher,Secondary,Darling Downs South West,,Permanent Part-time,FALSE,FALSE,FALSE,TRUE,TRUE,FALSE,FALSE,FALSE,FALSE,FALSE,FALSE,FALSE,FALSE,FALSE,FALSE,FALSE,FALSE,FALSE,A,A,D,D,A,A,D,D,A,A,A,A,N,A,A,A,D,A,A,A,A,Female,51-55,,,,,
762,Contract Expired,Not Stated,2011,2012,Teacher,Special Education,Darling Downs South West,,Temporary Full-time,FALSE,FALSE,FALSE,FALSE,FALSE,FALSE,FALSE,FALSE,FALSE,FALSE,FALSE,FALSE,FALSE,FALSE,FALSE,FALSE,FALSE,TRUE,A,N,SA,SA,SA,SA,SA,SA,SA,SA,SA,SA,SA,SA,N,SA,A,SA,SA,SA,SA,Female,51-55,,,,,
763,Other,12/2013,Not Stated,Not Stated,Teacher,Secondary,Darling Downs South West,,Permanent Part-time,FALSE,FALSE,FALSE,FALSE,FALSE,FALSE,FALSE,FALSE,FALSE,FALSE,TRUE,FALSE,FALSE,FALSE,FALSE,FALSE,FALSE,FALSE,A,A,A,A,D,A,D,A,D,D,A,A,A,A,SD,SD,SD,SD,SD,A,A,Female,51-55,,,,,
764,Resignation-Other employer,07/2006,2006,2006,Teacher,Primary,Metropolitan,,Permanent Part-time,FALSE,TRUE,FALSE,FALSE,FALSE,FALSE,FALSE,FALSE,FALSE,FALSE,FALSE,FALSE,FALSE,FALSE,FALSE,FALSE,FALSE,FALSE,D,N,A,A,A,A,A,A,A,A,A,A,D,N,N,N,N,A,A,N,A,Female,41-45,,,,,
765,Age Retirement,12/2013,1997,2005,Teacher Aide,,Central Queensland,,Permanent Part-time,FALSE,FALSE,FALSE,FALSE,FALSE,FALSE,FALSE,FALSE,FALSE,FALSE,FALSE,FALSE,FALSE,FALSE,FALSE,TRUE,FALSE,FALSE,SA,SA,SA,SA,SA,SA,SA,SA,SA,SA,SA,SA,SA,SA,SA,SA,SA,SA,SA,SA,SA,Female,56-60,,,,,
766,Age Retirement,Not Stated,1978,1995,Teacher,Primary,Far North Queensland,,Permanent Full-time,FALSE,FALSE,FALSE,FALSE,FALSE,FALSE,FALSE,FALSE,FALSE,FALSE,FALSE,FALSE,FALSE,FALSE,FALSE,TRUE,FALSE,FALSE,A,A,N,N,A,D,N,N,A,A,A,A,N,N,A,A,A,A,N,A,A,Female,51-55,,,,,
767,Age Retirement,01/2014,1983,1983,Teacher,Secondary,Metropolitan,,Permanent Full-time,FALSE,FALSE,FALSE,TRUE,FALSE,FALSE,TRUE,FALSE,FALSE,FALSE,FALSE,FALSE,FALSE,FALSE,FALSE,TRUE,FALSE,FALSE,SA,A,SD,SD,A,N,N,SD,A,SD,SD,N,SD,SD,SD,A,SD,A,SD,SD,SA,Male,51-55,,,,,
768,Resignation-Other employer,01/2014,2007,2007,Teacher,Primary,Metropolitan,,Permanent Full-time,FALSE,TRUE,FALSE,FALSE,FALSE,FALSE,FALSE,FALSE,FALSE,FALSE,FALSE,FALSE,FALSE,FALSE,FALSE,FALSE,FALSE,FALSE,A,D,A,A,D,SA,A,N,A,SA,A,N,D,N,A,A,A,A,A,A,N,Male,26-30,,,,,
769,Age Retirement,12/2013,1992,1992,Teacher,Primary,North Coast,,Permanent Part-time,FALSE,FALSE,FALSE,FALSE,FALSE,FALSE,FALSE,FALSE,FALSE,FALSE,FALSE,FALSE,FALSE,FALSE,FALSE,FALSE,FALSE,FALSE,A,N,D,N,N,A,D,D,N,A,A,A,D,N,N,SD,N,D,D,A,A,Female,61 or older,,,,,
770,Ill Health Retirement,02/2014,1976,1993,Head of Curriculum/Head of Special Education,,South East,,Permanent Full-time,FALSE,FALSE,FALSE,TRUE,TRUE,TRUE,FALSE,FALSE,FALSE,TRUE,FALSE,FALSE,FALSE,TRUE,FALSE,TRUE,TRUE,FALSE,SD,SD,SD,SD,SD,SD,SD,SD,SD,SD,SD,SA,SD,SD,SD,SA,N,N,D,N,A,Male,56-60,,,,,
771,Resignation-Other reasons,11/2013,2008,Not Stated,Teacher Aide,,South East,,Permanent Full-time,FALSE,FALSE,FALSE,FALSE,FALSE,FALSE,FALSE,FALSE,FALSE,FALSE,FALSE,FALSE,FALSE,TRUE,FALSE,FALSE,FALSE,FALSE,N,N/A,N,N,A,SD,N,A,SA,N,N,SD,N/A,N,N,SD,SD,SD,D,N,N,Female,46-50,,,,,
772,Resignation-Other reasons,Not Stated,1987,1987,Cleaner,,Darling Downs South West,,Permanent Part-time,FALSE,FALSE,FALSE,FALSE,FALSE,FALSE,FALSE,FALSE,FALSE,FALSE,FALSE,FALSE,FALSE,FALSE,FALSE,FALSE,FALSE,TRUE,SA,N/A,SA,N/A,A,A,A,SA,SA,SA,SA,SA,N/A,SA,N/A,SA,SA,SA,SA,N/A,A,Female,61 or older,,,,,
773,Resignation-Other employer,01/2014,2002,2007,Head of Curriculum/Head of Special Education,,Central Queensland,,Permanent Full-time,FALSE,TRUE,FALSE,FALSE,FALSE,FALSE,FALSE,FALSE,FALSE,FALSE,FALSE,FALSE,FALSE,FALSE,FALSE,FALSE,FALSE,FALSE,SA,SA,SA,SA,SA,SA,SA,SA,SA,SA,SA,SA,SA,SA,SA,SA,SA,SA,SA,SA,SA,Male,36-40,,,,,
774,Age Retirement,04/2013,1969,2006,Head of Curriculum/Head of Special Education,,Metropolitan,,Permanent Full-time,FALSE,FALSE,FALSE,FALSE,FALSE,FALSE,FALSE,FALSE,FALSE,FALSE,FALSE,FALSE,FALSE,FALSE,FALSE,TRUE,TRUE,FALSE,N,A,A,D,A,SD,SD,A,SA,A,A,A,N/A,A,A,SA,SA,SA,SA,SD,A,Female,61 or older,,,,,
775,Age Retirement,Not Stated,2006,2006,Public Servant,A01-A04,Metropolitan,,Permanent Full-time,FALSE,FALSE,FALSE,FALSE,FALSE,FALSE,FALSE,FALSE,FALSE,FALSE,FALSE,FALSE,FALSE,FALSE,FALSE,FALSE,FALSE,TRUE,A,,N,N,A,A,N,N,N,N,N,N,D,D,D,N,N,N,N,D,D,Male,61 or older,,,,,
776,Resignation-Other employer,Not Stated,2005,2005,Teacher Aide,,Central Queensland,,Permanent Part-time,FALSE,FALSE,FALSE,FALSE,FALSE,FALSE,FALSE,FALSE,FALSE,FALSE,FALSE,FALSE,FALSE,FALSE,FALSE,FALSE,FALSE,TRUE,,,,,,,,,,,,,,,,,,,,,,Female,41-45,,,,,
777,Age Retirement,12/2013,Not Stated,Not Stated,Cleaner,,South East,Training and Tertiary Education Queensland,Permanent Full-time,FALSE,FALSE,FALSE,FALSE,FALSE,FALSE,FALSE,FALSE,FALSE,FALSE,FALSE,FALSE,FALSE,FALSE,FALSE,FALSE,FALSE,TRUE,N/A,,,,,,,,,,,,,,,N,,,,,,Female,61 or older,,,,,
778,Contract Expired,Not Stated,2011,2012,Public Servant,A01-A04,Central Office,,Temporary Full-time,FALSE,FALSE,FALSE,FALSE,FALSE,FALSE,FALSE,FALSE,FALSE,FALSE,FALSE,FALSE,FALSE,FALSE,FALSE,FALSE,FALSE,TRUE,A,A,N,A,A,SA,A,A,A,A,A,A,A,N,A,A,A,A,A,A,A,Male,31-35,,,,,
779,Age Retirement,Not Stated,1990,1990,Cleaner,,South East,,Permanent Part-time,FALSE,FALSE,FALSE,FALSE,FALSE,FALSE,FALSE,FALSE,FALSE,FALSE,FALSE,FALSE,FALSE,FALSE,FALSE,FALSE,FALSE,TRUE,A,A,A,A,A,A,A,A,A,A,A,A,N/A,N/A,A,A,A,A,A,N/A,A,,56-60,,,,,
780,Age Retirement,10/2013,1992,1992,Cleaner,,North Coast,,Permanent Full-time,FALSE,FALSE,FALSE,FALSE,FALSE,FALSE,FALSE,FALSE,FALSE,FALSE,FALSE,FALSE,FALSE,FALSE,FALSE,FALSE,FALSE,TRUE,A,A,A,A,A,A,A,N,N,SA,,A,A,N,A,A,A,A,N,N,A,Female,61 or older,,,,,
781,Age Retirement,10/2013,1992,1992,Schools Officer,,North Coast,,Permanent Full-time,FALSE,FALSE,FALSE,FALSE,FALSE,FALSE,FALSE,FALSE,FALSE,FALSE,FALSE,FALSE,FALSE,FALSE,FALSE,FALSE,FALSE,TRUE,SA,SD,SA,N,SA,SA,SA,SA,SA,SA,SA,SA,N,N,N,A,A,A,A,SA,SA,Male,61 or older,,,,,
782,Age Retirement,12/2013,2002,Not Stated,Cleaner,,North Coast,,Permanent Part-time,FALSE,FALSE,FALSE,FALSE,FALSE,FALSE,FALSE,FALSE,FALSE,FALSE,FALSE,FALSE,FALSE,FALSE,FALSE,FALSE,FALSE,TRUE,A,N,N,A,N,A,A,SA,A,A,A,A,N,A,N,A,A,N,N,A,A,Male,61 or older,,,,,
783,Age Retirement,10/2013,1989,Not Stated,Business Service Manager,,Metropolitan,,Permanent Full-time,FALSE,FALSE,FALSE,FALSE,FALSE,FALSE,FALSE,FALSE,FALSE,FALSE,FALSE,FALSE,FALSE,FALSE,FALSE,TRUE,TRUE,FALSE,A,A,A,A,A,A,A,A,A,A,A,A,A,A,A,A,A,A,A,N,A,Female,61 or older,,,,,
784,Voluntary Early Retirement (VER),10/2013,1969,2008,Teacher,Special Education,North Coast,,Permanent Part-time,FALSE,FALSE,FALSE,FALSE,FALSE,FALSE,FALSE,FALSE,FALSE,FALSE,FALSE,FALSE,FALSE,FALSE,FALSE,FALSE,FALSE,TRUE,SA,SA,SA,SA,A,A,SA,SA,SA,SA,SA,SA,SA,SA,SA,SA,SA,SA,SA,A,SA,Male,61 or older,,,,,
785,Contract Expired,09/2013,2013,Not Stated,Teacher Aide,,Not Stated,,Temporary Part-time,FALSE,FALSE,FALSE,FALSE,FALSE,FALSE,FALSE,FALSE,FALSE,FALSE,FALSE,FALSE,FALSE,FALSE,FALSE,FALSE,FALSE,TRUE,SA,N,A,N,SA,SA,N,A,N,SA,SA,SA,N/A,N/A,N/A,SA,N/A,SA,SA,N/A,,Female,61 or older,,,,,
786,Resignation-Other reasons,10/2013,2013,2013,Teacher,Secondary,Central Queensland,,Permanent Full-time,FALSE,TRUE,FALSE,TRUE,FALSE,FALSE,TRUE,FALSE,FALSE,FALSE,FALSE,FALSE,FALSE,FALSE,FALSE,TRUE,FALSE,FALSE,D,N/A,D,A,A,SD,D,D,SA,D,D,D,D,A,A,D,D,D,N,D,A,Female,21-25,,,,,
787,Age Retirement,01/2014,1992,Not Stated,Teacher Aide,,Metropolitan,,Permanent Part-time,FALSE,FALSE,FALSE,FALSE,FALSE,FALSE,FALSE,FALSE,FALSE,FALSE,FALSE,FALSE,FALSE,FALSE,FALSE,FALSE,FALSE,TRUE,SA,N,SA,A,A,A,A,A,A,A,A,A,A,N,A,A,SA,A,A,A,A,Female,61 or older,,,,,
788,Resignation-Other employer,01/2014,1994,2008,Teacher,Secondary,Darling Downs South West,,Permanent Full-time,FALSE,TRUE,FALSE,TRUE,FALSE,FALSE,FALSE,TRUE,FALSE,FALSE,FALSE,FALSE,FALSE,FALSE,FALSE,FALSE,FALSE,FALSE,N,N,N,D,A,N,N,D,A,N,SD,D,N,N,A,N,D,A,N,D,A,Female,41-45,,,,,
789,Age Retirement,01/2014,1977,Not Stated,Teacher,Secondary,Metropolitan,,Permanent Full-time,FALSE,FALSE,FALSE,FALSE,FALSE,FALSE,FALSE,FALSE,FALSE,FALSE,FALSE,FALSE,FALSE,FALSE,FALSE,TRUE,FALSE,FALSE,A,A,A,A,SA,N,N,A,A,A,A,N,N,A,A,A,N,SA,SA,D,A,Female,56-60,,,,,
790,Resignation-Other employer,Not Stated,1990,2010,Teacher,Secondary,Metropolitan,,Permanent Full-time,FALSE,TRUE,FALSE,FALSE,FALSE,FALSE,FALSE,FALSE,FALSE,FALSE,FALSE,FALSE,FALSE,FALSE,FALSE,FALSE,FALSE,FALSE,D,D,SD,A,D,N,N,A,A,A,A,A,D,D,D,D,D,N,D,SD,D,Female,41-45,,,,,
791,Resignation-Other reasons,01/2014,1983,1999,"School Based Professional Staff (Therapist, nurse, etc)",,Metropolitan,,Permanent Part-time,FALSE,FALSE,FALSE,FALSE,FALSE,FALSE,FALSE,FALSE,FALSE,FALSE,FALSE,FALSE,FALSE,FALSE,FALSE,FALSE,FALSE,TRUE,SA,D,N,A,A,A,A,A,A,A,A,A,A,A,SA,N,A,A,A,N,A,Female,51-55,,,,,
792,Resignation-Other reasons,01/2014,2008,2008,Teacher,Secondary,North Coast,,Permanent Full-time,FALSE,FALSE,FALSE,FALSE,FALSE,FALSE,TRUE,FALSE,FALSE,TRUE,FALSE,FALSE,FALSE,FALSE,FALSE,FALSE,TRUE,FALSE,A,A,SD,SD,D,SA,D,D,SA,D,SA,SA,SD,D,A,D,SD,SD,SA,SD,A,Male,36-40,,,,,
793,Resignation-Other reasons,Not Stated,2007,2007,Public Servant,A01-A04,Metropolitan,,Permanent Part-time,FALSE,FALSE,FALSE,FALSE,FALSE,FALSE,TRUE,FALSE,FALSE,FALSE,FALSE,FALSE,FALSE,FALSE,FALSE,FALSE,FALSE,FALSE,D,N/A,N,SA,SA,SA,A,A,N/A,SA,SA,A,A,A,D,A,A,A,A,D,A,Female,46-50,,,,,
794,Other,Not Stated,1996,2006,Teacher Aide,,Metropolitan,,Permanent Part-time,FALSE,FALSE,FALSE,FALSE,TRUE,FALSE,TRUE,FALSE,FALSE,TRUE,FALSE,FALSE,FALSE,TRUE,FALSE,FALSE,FALSE,FALSE,D,D,D,SD,SD,SD,SD,D,D,SD,D,N,N,N,SD,N,SD,D,SD,SD,SD,Female,61 or older,,,,Yes,
795,Ill Health Retirement,12/2013,2003,2006,Teacher,Primary,Metropolitan,,Temporary Part-time,FALSE,FALSE,FALSE,FALSE,FALSE,FALSE,FALSE,FALSE,FALSE,FALSE,FALSE,FALSE,FALSE,TRUE,FALSE,FALSE,FALSE,FALSE,SA,SA,A,SA,SA,SA,SA,SA,SA,SA,SA,SA,A,A,SA,A,SA,SA,SA,A,SA,Male,61 or older,,,,,
796,Resignation-Move overseas/interstate,11/2013,Not Stated,Not Stated,Cleaner,,Not Stated,,Permanent Part-time,TRUE,FALSE,FALSE,FALSE,FALSE,FALSE,FALSE,FALSE,FALSE,FALSE,FALSE,TRUE,FALSE,FALSE,FALSE,FALSE,FALSE,FALSE,SA,SA,SA,N/A,SA,SA,A,SA,SA,SA,SA,SA,A,SA,N,A,A,A,A,,A,Female,36-40,,,,,
797,Age Retirement,Not Stated,1977,2011,Teacher,Primary,North Coast,,Permanent Part-time,FALSE,FALSE,FALSE,FALSE,FALSE,FALSE,FALSE,FALSE,FALSE,FALSE,FALSE,FALSE,FALSE,FALSE,FALSE,TRUE,FALSE,FALSE,A,N,A,SA,A,N,N,SA,A,SA,SA,D,SA,SA,SA,A,SA,SA,SA,A,SA,Male,56-60,,,,,
798,Age Retirement,Not Stated,1970,1975,Teacher,Secondary,Far North Queensland,,Permanent Full-time,FALSE,FALSE,FALSE,FALSE,FALSE,FALSE,FALSE,FALSE,FALSE,FALSE,FALSE,FALSE,FALSE,FALSE,FALSE,TRUE,FALSE,FALSE,A,A,N,N,A,A,A,A,A,A,A,A,SA,SA,A,N,A,A,A,N,A,Male,56-60,,,,,
799,Resignation-Move overseas/interstate,Not Stated,2000,2013,Public Servant,A01-A04,South East,,Permanent Part-time,FALSE,FALSE,FALSE,FALSE,FALSE,FALSE,FALSE,FALSE,FALSE,FALSE,TRUE,TRUE,FALSE,FALSE,FALSE,FALSE,FALSE,FALSE,A,N,A,A,N,SA,A,A,A,SA,N,SA,N,N,N,A,A,A,A,N/A,A,Female,36-40,,,,,
800,Resignation-Move overseas/interstate,Not Stated,1995,Not Stated,Teacher Aide,,Darling Downs South West,,Permanent Part-time,FALSE,FALSE,FALSE,FALSE,FALSE,FALSE,FALSE,FALSE,FALSE,FALSE,FALSE,FALSE,FALSE,FALSE,FALSE,FALSE,FALSE,FALSE,A,N,A,N,SA,SA,SA,SA,SA,SA,SA,N,A,SA,SA,A,A,SA,A,N,N,Female,36-40,,,,,
801,Other,Not Stated,1981,2003,Teacher,Special Education,North Coast,,Permanent Full-time,FALSE,FALSE,FALSE,FALSE,FALSE,FALSE,FALSE,FALSE,FALSE,FALSE,FALSE,FALSE,FALSE,TRUE,FALSE,FALSE,FALSE,FALSE,SA,N,D,A,A,D,D,A,SA,SA,SA,A,D,SD,SA,A,SA,SA,A,D,A,Female,51-55,,,,,
802,Other,01/2014,2011,2011,Teacher,Primary,Not Stated,,Permanent Full-time,FALSE,FALSE,FALSE,FALSE,FALSE,FALSE,FALSE,FALSE,FALSE,FALSE,FALSE,FALSE,FALSE,TRUE,FALSE,TRUE,FALSE,FALSE,A,N,SA,A,A,N,N,A,SA,A,SA,A,A,A,A,A,A,A,A,N,A,Female,21-25,,,,,
803,Ill Health Retirement,01/2014,1972,1976,Teacher,Primary,Far North Queensland,,Permanent Full-time,FALSE,FALSE,FALSE,FALSE,FALSE,FALSE,FALSE,FALSE,FALSE,FALSE,FALSE,FALSE,FALSE,TRUE,FALSE,FALSE,FALSE,FALSE,A,A,A,A,A,N,A,A,A,A,A,A,N,A,A,SA,SA,SA,SA,SA,SA,Male,56-60,,,,,
804,Resignation-Move overseas/interstate,12/2013,Not Stated,Not Stated,Teacher Aide,,Metropolitan,,Permanent Part-time,FALSE,FALSE,FALSE,FALSE,FALSE,FALSE,FALSE,FALSE,FALSE,FALSE,FALSE,TRUE,FALSE,FALSE,FALSE,FALSE,FALSE,FALSE,SA,SA,SA,SA,SA,SA,SA,SA,SA,SA,SA,SA,SA,SA,SA,SA,SA,SA,SA,SA,SA,,,,,,,
805,Resignation-Other employer,01/2014,2004,2007,Teacher,Primary,Darling Downs South West,,Permanent Full-time,FALSE,TRUE,FALSE,FALSE,FALSE,FALSE,FALSE,FALSE,FALSE,FALSE,FALSE,FALSE,FALSE,FALSE,FALSE,FALSE,FALSE,FALSE,A,A,A,A,A,N,N,A,A,A,N,SA,A,A,A,A,N,A,A,A,A,Female,46-50,,,,,
806,Resignation-Other employer,01/2014,2008,2013,Teacher,Primary,Darling Downs South West,,Permanent Part-time,FALSE,TRUE,FALSE,FALSE,FALSE,FALSE,FALSE,FALSE,FALSE,FALSE,FALSE,FALSE,FALSE,FALSE,FALSE,FALSE,FALSE,FALSE,A,N,N,A,A,N,N,A,A,A,A,A,A,A,A,N,N,A,A,D,A,Female,26-30,,,,,
807,Age Retirement,Not Stated,1990,1990,Teacher Aide,,South East,,Permanent Part-time,FALSE,FALSE,FALSE,FALSE,FALSE,FALSE,FALSE,FALSE,FALSE,FALSE,FALSE,FALSE,FALSE,FALSE,FALSE,TRUE,FALSE,FALSE,N,N,A,A,A,A,A,A,A,A,A,A,A,N,A,A,A,A,N,N,N,Female,61 or older,,,,,
808,Resignation-Other employer,12/2013,2005,2005,Cleaner,,Central Queensland,,Permanent Part-time,FALSE,FALSE,FALSE,FALSE,FALSE,FALSE,FALSE,FALSE,FALSE,FALSE,FALSE,TRUE,FALSE,FALSE,FALSE,FALSE,FALSE,FALSE,SA,N,SA,N,SA,A,A,SA,SA,SA,SA,A,N,SA,A,SA,SA,SA,N,A,A,Female,41-45,,,,,
809,Resignation-Other reasons,12/2013,2004,2004,Teacher,Primary,Central Queensland,,Permanent Full-time,FALSE,FALSE,FALSE,FALSE,TRUE,FALSE,FALSE,FALSE,FALSE,FALSE,FALSE,FALSE,FALSE,FALSE,FALSE,TRUE,FALSE,FALSE,D,SD,D,N,A,SD,D,SA,SD,A,A,A,D,N,N,A,A,A,A,D,A,Female,36-40,,,,,
810,Resignation-Other reasons,12/2013,2010,2010,Teacher Aide,,Not Stated,,Permanent Part-time,FALSE,FALSE,FALSE,FALSE,FALSE,FALSE,FALSE,FALSE,FALSE,FALSE,TRUE,FALSE,FALSE,FALSE,FALSE,FALSE,FALSE,FALSE,A,A,A,A,A,A,A,A,A,A,A,A,A,A,A,A,A,A,A,A,A,Female,26-30,,,,,
811,Age Retirement,01/2014,1979,2006,Teacher,Primary,Far North Queensland,,Permanent Full-time,FALSE,FALSE,FALSE,FALSE,FALSE,FALSE,FALSE,FALSE,FALSE,FALSE,FALSE,FALSE,FALSE,FALSE,FALSE,TRUE,TRUE,FALSE,A,N,A,A,A,N,D,A,SA,A,A,A,D,A,A,A,A,A,A,A,A,Female,51-55,,,,,
812,Age Retirement,Not Stated,1972,1991,Teacher,Primary,Metropolitan,,Permanent Full-time,FALSE,FALSE,FALSE,FALSE,FALSE,FALSE,FALSE,FALSE,FALSE,FALSE,FALSE,FALSE,FALSE,FALSE,FALSE,FALSE,FALSE,TRUE,A,N,A,A,N,A,A,A,A,A,A,A,A,A,A,A,A,A,A,A,A,Male,61 or older,,,,,
813,Contract Expired,12/2013,2008,2010,School Administrative Staff,A01-A04,South East,,Temporary Full-time,FALSE,FALSE,TRUE,FALSE,FALSE,FALSE,FALSE,FALSE,FALSE,FALSE,FALSE,FALSE,FALSE,FALSE,FALSE,TRUE,TRUE,FALSE,A,N,D,D,N,SD,N,SD,A,A,A,SD,SD,SD,N,D,D,A,N,D,SA,Female,41-45,,,,Yes,
814,Age Retirement,01/2014,1998,2005,Teacher,Secondary,Not Stated,,Permanent Full-time,FALSE,FALSE,FALSE,FALSE,FALSE,FALSE,FALSE,FALSE,FALSE,FALSE,FALSE,FALSE,FALSE,FALSE,FALSE,FALSE,FALSE,TRUE,A,A,N,N,A,A,A,A,SA,A,A,A,A,A,A,A,A,A,A,N,SA,Male,61 or older,,,,,
815,Age Retirement,11/2013,1995,2007,Public Servant,AO5-AO7,North Coast,,Permanent Full-time,FALSE,FALSE,FALSE,FALSE,FALSE,FALSE,FALSE,FALSE,FALSE,FALSE,FALSE,FALSE,FALSE,FALSE,FALSE,TRUE,TRUE,FALSE,,A,D,N,A,A,A,A,SA,SA,A,D,D,D,A,A,A,A,D,D,A,Female,56-60,,,,,
816,Age Retirement,11/2013,Not Stated,Not Stated,Cleaner,,Not Stated,,Permanent Full-time,FALSE,FALSE,FALSE,FALSE,FALSE,FALSE,FALSE,FALSE,FALSE,FALSE,FALSE,FALSE,FALSE,FALSE,FALSE,FALSE,FALSE,TRUE,SA,,SA,SA,SA,SA,SA,SA,SA,SA,SA,SA,,,,SA,SA,SA,SA,SA,SA,Female,61 or older,,,,,
817,Resignation-Other employer,01/2014,2012,2012,Teacher,Primary,Far North Queensland,,Permanent Full-time,FALSE,TRUE,FALSE,FALSE,FALSE,FALSE,FALSE,FALSE,FALSE,FALSE,FALSE,FALSE,FALSE,FALSE,FALSE,FALSE,FALSE,FALSE,A,N,A,A,A,A,A,A,A,A,A,N,SA,SA,SA,A,SA,SA,SA,SA,SA,Male,21-25,,,,,
818,Resignation-Move overseas/interstate,01/2014,2012,2012,Teacher,Secondary,North Coast,,Permanent Full-time,FALSE,FALSE,FALSE,FALSE,FALSE,FALSE,FALSE,FALSE,FALSE,FALSE,FALSE,FALSE,TRUE,FALSE,FALSE,FALSE,FALSE,FALSE,SA,SA,A,A,SA,SA,N,N,A,A,A,A,A,N,N,N,A,N,A,N,A,Female,21-25,,,,,
819,Age Retirement,02/2014,1977,1999,Teacher,Primary,Central Queensland,,Permanent Part-time,FALSE,FALSE,FALSE,FALSE,FALSE,FALSE,FALSE,FALSE,FALSE,FALSE,TRUE,FALSE,FALSE,TRUE,FALSE,FALSE,TRUE,FALSE,SA,N,D,D,A,N,N,D,A,N,A,A,N,SA,SA,N,D,A,A,A,SA,Female,56-60,,,,,
820,Age Retirement,01/2014,1980,1980,Teacher,Secondary,North Coast,,Permanent Full-time,FALSE,FALSE,FALSE,FALSE,FALSE,FALSE,FALSE,FALSE,FALSE,FALSE,FALSE,FALSE,FALSE,FALSE,FALSE,FALSE,FALSE,TRUE,A,SA,D,D,D,A,A,N,A,N,A,A,N,A,N,N,A,A,N,N,N,Male,51-55,,,,,
821,Resignation-Move overseas/interstate,01/2014,2009,2009,Public Servant,A01-A04,Central Office,Education Queensland,Permanent Full-time,FALSE,FALSE,FALSE,FALSE,FALSE,FALSE,FALSE,FALSE,FALSE,FALSE,TRUE,TRUE,FALSE,FALSE,FALSE,TRUE,FALSE,FALSE,A,A,A,A,A,D,N,A,A,A,A,A,A,A,A,A,A,A,A,N,A,Female,31-35,,,,,
822,Ill Health Retirement,12/2013,2001,2009,Teacher,Secondary,Darling Downs South West,,Permanent Full-time,FALSE,FALSE,FALSE,FALSE,FALSE,FALSE,FALSE,FALSE,FALSE,FALSE,FALSE,FALSE,FALSE,TRUE,FALSE,FALSE,FALSE,FALSE,A,D,D,A,SD,SD,SD,A,D,SD,SD,D,A,A,N,N,N,SD,A,N,A,Female,41-45,,,,,
823,Resignation-Move overseas/interstate,12/2013,Not Stated,Not Stated,Teacher Aide,,Metropolitan,,,FALSE,FALSE,FALSE,FALSE,FALSE,FALSE,FALSE,FALSE,FALSE,FALSE,FALSE,FALSE,FALSE,FALSE,FALSE,FALSE,FALSE,FALSE,,,,,,,,,,,,,,,,,,,,,,,,,,,,
tafe_survey.csv0000777000175000000000000131024100000000000013475 0ustar  dqroot00000000000000Record ID,Institute,WorkArea,CESSATION YEAR,Reason for ceasing employment,Contributing Factors. Career Move - Public Sector ,Contributing Factors. Career Move - Private Sector ,Contributing Factors. Career Move - Self-employment,Contributing Factors. Ill Health,Contributing Factors. Maternity/Family,Contributing Factors. Dissatisfaction,Contributing Factors. Job Dissatisfaction,Contributing Factors. Interpersonal Conflict,Contributing Factors. Study,Contributing Factors. Travel,Contributing Factors. Other,Contributing Factors. NONE,Main Factor. Which of these was the main factor for leaving?,InstituteViews. Topic:1. I feel the senior leadership had a clear vision and direction,InstituteViews. Topic:2. I was given access to skills training to help me do my job better,InstituteViews. Topic:3. I was given adequate opportunities for personal development,InstituteViews. Topic:4. I was given adequate opportunities for promotion within %Institute]Q25LBL%,InstituteViews. Topic:5. I felt the salary for the job was right for the responsibilities I had,InstituteViews. Topic:6. The organisation recognised when staff did good work,InstituteViews. Topic:7. Management was generally supportive of me,InstituteViews. Topic:8. Management was generally supportive of my team,InstituteViews. Topic:9. I was kept informed of the changes in the organisation which would affect me,InstituteViews. Topic:10. Staff morale was positive within the Institute,InstituteViews. Topic:11. If I had a workplace issue it was dealt with quickly,InstituteViews. Topic:12. If I had a workplace issue it was dealt with efficiently,InstituteViews. Topic:13. If I had a workplace issue it was dealt with discreetly,WorkUnitViews. Topic:14. I was satisfied with the quality of the management and supervision within my work unit,WorkUnitViews. Topic:15. I worked well with my colleagues,WorkUnitViews. Topic:16. My job was challenging and interesting,WorkUnitViews. Topic:17. I was encouraged to use my initiative in the course of my work,WorkUnitViews. Topic:18. I had sufficient contact with other people in my job,WorkUnitViews. Topic:19. I was given adequate support and co-operation by my peers to enable me to do my job,WorkUnitViews. Topic:20. I was able to use the full range of my skills in my job,WorkUnitViews. Topic:21. I was able to use the full range of my abilities in my job. ; Category:Level of Agreement; Question:YOUR VIEWS ABOUT YOUR WORK UNIT],WorkUnitViews. Topic:22. I was able to use the full range of my knowledge in my job,WorkUnitViews. Topic:23. My job provided sufficient variety,WorkUnitViews. Topic:24. I was able to cope with the level of stress and pressure in my job,WorkUnitViews. Topic:25. My job allowed me to balance the demands of work and family to my satisfaction,WorkUnitViews. Topic:26. My supervisor gave me adequate personal recognition and feedback on my performance,"WorkUnitViews. Topic:27. My working environment was satisfactory e.g. sufficient space, good lighting, suitable seating and working area",WorkUnitViews. Topic:28. I was given the opportunity to mentor and coach others in order for me to pass on my skills and knowledge prior to my cessation date,WorkUnitViews. Topic:29. There was adequate communication between staff in my unit,WorkUnitViews. Topic:30. Staff morale was positive within my work unit,Induction. Did you undertake Workplace Induction?,InductionInfo. Topic:Did you undertake a Corporate Induction?,InductionInfo. Topic:Did you undertake a Institute Induction?,InductionInfo. Topic: Did you undertake Team Induction?,InductionInfo. Face to Face Topic:Did you undertake a Corporate Induction; Category:How it was conducted?,InductionInfo. On-line Topic:Did you undertake a Corporate Induction; Category:How it was conducted?,InductionInfo. Induction Manual Topic:Did you undertake a Corporate Induction?,InductionInfo. Face to Face Topic:Did you undertake a Institute Induction?,InductionInfo. On-line Topic:Did you undertake a Institute Induction?,InductionInfo. Induction Manual Topic:Did you undertake a Institute Induction?,InductionInfo. Face to Face Topic: Did you undertake Team Induction; Category?,InductionInfo. On-line Topic: Did you undertake Team Induction?process you undertook and how it was conducted.],InductionInfo. Induction Manual Topic: Did you undertake Team Induction?,Workplace. Topic:Did you and your Manager develop a Performance and Professional Development Plan (PPDP)?,Workplace. Topic:Does your workplace promote a work culture free from all forms of unlawful discrimination?,Workplace. Topic:Does your workplace promote and practice the principles of employment equity?,Workplace. Topic:Does your workplace value the diversity of its employees?,Workplace. Topic:Would you recommend the Institute as an employer to others?,Gender. What is your Gender?,CurrentAge. Current Age,Employment Type. Employment Type,Classification. Classification,LengthofServiceOverall. Overall Length of Service at Institute (in years),LengthofServiceCurrent. Length of Service at current workplace (in years)
6.34133009996094E+017,Southern Queensland Institute of TAFE,Non-Delivery (corporate),2010,Contract Expired,,,,,,,,,,,,,,Agree,Agree,Agree,Neutral,Agree,Agree,Agree,Agree,Agree,Agree,Agree,Agree,Agree,Agree,Agree,Agree,Strongly Agree,Agree,Agree,Agree,Agree,Agree,Agree,Agree,Agree,Agree,Agree,Neutral,Agree,Agree,Yes,Yes,Yes,Yes,Face to Face,-,-,Face to Face,-,-,Face to Face,-,-,Yes,Yes,Yes,Yes,Yes,Female,26  30,Temporary Full-time,Administration (AO),1-2,1-2
6.34133654064531E+017,Mount Isa Institute of TAFE,Non-Delivery (corporate),2010,Retirement,-,-,-,-,-,-,-,-,-,Travel,-,-,,Agree,Agree,Agree,Agree,Agree,Strongly Agree,Strongly Agree,Agree,Strongly Agree,Agree,Agree,Agree,Disagree,Strongly Agree,Strongly Agree,Strongly Agree,Agree,Agree,Agree,Strongly Agree,Agree,Agree,Agree,Strongly Agree,Agree,Strongly Agree,Strongly Agree,Agree,Agree,Strongly Agree,No,,,,,,,,,,,,,Yes,Yes,Yes,Yes,Yes,,,,,,
6.34138845606563E+017,Mount Isa Institute of TAFE,Delivery (teaching),2010,Retirement,-,-,-,-,-,-,-,-,-,-,-,NONE,,Agree,Agree,Agree,Agree,Agree,Agree,Strongly Agree,Agree,Agree,Agree,Agree,Neutral,Neutral,Strongly Agree,Strongly Agree,Agree,Agree,Agree,Agree,Agree,Agree,Agree,Agree,Agree,Agree,Agree,Agree,Agree,Agree,Agree,No,,,,,,,,,,,,,Yes,Yes,Yes,Yes,Yes,,,,,,
6.3413990335E+017,Mount Isa Institute of TAFE,Non-Delivery (corporate),2010,Resignation,-,-,-,-,-,-,-,-,-,Travel,-,-,,Agree,Agree,Agree,Agree,Agree,Agree,Agree,Agree,Agree,Agree,Agree,Agree,Agree,Strongly Agree,Strongly Agree,Strongly Agree,Strongly Agree,Strongly Agree,Strongly Agree,Strongly Agree,Strongly Agree,Strongly Agree,Strongly Agree,Strongly Agree,Strongly Agree,Strongly Agree,Strongly Agree,Strongly Agree,Strongly Agree,Strongly Agree,Yes,No,Yes,Yes,-,-,-,,-,-,-,-,-,Yes,Yes,Yes,Yes,Yes,,,,,,
6.34146578511788E+017,Southern Queensland Institute of TAFE,Delivery (teaching),2010,Resignation,-,Career Move - Private Sector,-,-,-,-,-,-,-,-,-,-,,Agree,Agree,Strongly Agree,Agree,Strongly Agree,Strongly Agree,Strongly Agree,Strongly Agree,Agree,Strongly Agree,Strongly Agree,Agree,Strongly Agree,Strongly Agree,Strongly Agree,Strongly Agree,Strongly Agree,Strongly Agree,Strongly Agree,Strongly Agree,Strongly Agree,Strongly Agree,Strongly Agree,Strongly Agree,Strongly Agree,Strongly Agree,Strongly Agree,Strongly Agree,Strongly Agree,Strongly Agree,Yes,Yes,Yes,Yes,-,-,Induction Manual,Face to Face,-,-,Face to Face,-,-,Yes,Yes,Yes,Yes,Yes,Male,41  45,Permanent Full-time,Teacher (including LVT),3-4,3-4
6.34147506906311E+017,Southern Queensland Institute of TAFE,Delivery (teaching),2010,Resignation,-,-,-,-,-,-,-,-,-,-,Other,-,,Neutral,Neutral,Neutral,Neutral,Agree,Neutral,Neutral,Neutral,Neutral,Neutral,Neutral,Neutral,Neutral,Neutral,Neutral,,Neutral,Neutral,Neutral,Neutral,Neutral,Neutral,Neutral,Neutral,Disagree,Neutral,Disagree,Neutral,Neutral,Neutral,Yes,Yes,Yes,,-,On-line,-,Face to Face,-,-,-,-,-,Yes,,,,,Female,56 or older,Contract/casual,Teacher (including LVT),7-10,7-10
6.34152007975694E+017,Barrier Reef Institute of TAFE,Non-Delivery (corporate),2010,Resignation,-,Career Move - Private Sector,-,-,Maternity/Family,-,-,-,-,-,Other,-,Career Move - Private Sector,Strongly Agree,Strongly Agree,Strongly Agree,Strongly Agree,Strongly Agree,Strongly Agree,Strongly Agree,Strongly Agree,Strongly Agree,Strongly Agree,Strongly Agree,Strongly Agree,Strongly Agree,Strongly Agree,Strongly Agree,Strongly Agree,Strongly Agree,Strongly Agree,Strongly Agree,Strongly Agree,Strongly Agree,Strongly Agree,Strongly Agree,Strongly Agree,Strongly Agree,Strongly Agree,Strongly Agree,Strongly Agree,Strongly Agree,Strongly Agree,Yes,Yes,Yes,Yes,Face to Face,-,-,,-,-,-,-,-,No,Yes,Yes,Yes,Yes,Male,20 or younger,Temporary Full-time,Administration (AO),3-4,3-4
6.34153745310374E+017,Southern Queensland Institute of TAFE,Delivery (teaching),2010,Resignation,-,-,-,-,-,-,-,-,-,-,Other,-,,Disagree,Agree,Agree,Disagree,Strongly Disagree,Neutral,Agree,Neutral,Agree,Strongly Disagree,Disagree,Disagree,Disagree,Disagree,Agree,Agree,Agree,Agree,Disagree,Disagree,Disagree,Disagree,Neutral,Disagree,Disagree,Neutral,Neutral,Neutral,Strongly Disagree,Strongly Disagree,Yes,Yes,Yes,No,Face to Face,-,-,Face to Face,-,-,-,-,-,Yes,Yes,Yes,Yes,No,Male,46  50,Permanent Full-time,Teacher (including LVT),3-4,3-4
6.34157899735969E+017,Southern Queensland Institute of TAFE,Delivery (teaching),2009,Resignation,-,-,-,-,-,-,-,-,-,-,Other,-,,Strongly Agree,Strongly Agree,Strongly Agree,Strongly Agree,Strongly Agree,Strongly Agree,Strongly Agree,Strongly Agree,Strongly Agree,Strongly Agree,Strongly Agree,Strongly Agree,Strongly Agree,Strongly Agree,Strongly Agree,Strongly Agree,Strongly Agree,Strongly Agree,Strongly Agree,Strongly Agree,Strongly Agree,Strongly Agree,Strongly Agree,Strongly Agree,Strongly Agree,Strongly Agree,Strongly Agree,Strongly Agree,Strongly Agree,Strongly Agree,Yes,Yes,Yes,Yes,Face to Face,-,-,,-,-,-,-,-,Yes,Yes,Yes,Yes,Yes,Female,36  40,Temporary Full-time,Tutor,3-4,3-4
6.34158812168312E+017,Barrier Reef Institute of TAFE,Non-Delivery (corporate),2010,Resignation,Career Move - Public Sector,-,-,-,-,-,-,-,-,-,Other,-,Career Move - Public Sector,Agree,Agree,Agree,Neutral,Agree,Agree,Strongly Agree,Strongly Agree,Strongly Agree,Agree,Strongly Agree,Strongly Agree,Strongly Agree,Strongly Agree,Strongly Agree,Strongly Agree,Strongly Agree,Strongly Agree,Strongly Agree,Agree,Agree,Agree,Strongly Agree,Strongly Agree,Agree,Strongly Agree,Strongly Agree,Agree,Strongly Agree,Strongly Agree,Yes,,Yes,,-,-,-,Face to Face,-,-,-,-,-,No,Yes,Yes,Yes,Yes,Female,21  25,Permanent Full-time,Administration (AO),1-2,1-2
6.34158825838625E+017,Barrier Reef Institute of TAFE,Non-Delivery (corporate),2010,Resignation,Career Move - Public Sector,-,-,-,-,-,-,-,-,-,-,-,,Neutral,Strongly Agree,Strongly Agree,Agree,Neutral,Neutral,Agree,Neutral,Agree,Disagree,Agree,Agree,Agree,Agree,Strongly Agree,Neutral,Strongly Agree,Strongly Agree,Strongly Agree,Disagree,Neutral,Disagree,Agree,Strongly Agree,Strongly Agree,Strongly Agree,Strongly Agree,Agree,Strongly Agree,Agree,Yes,No,Yes,Yes,-,-,-,,-,-,-,-,-,No,Yes,Yes,Yes,Yes,Female,41  45,Temporary Part-time,Administration (AO),Less than 1 year,Less than 1 year
6.34171926251752E+017,Barrier Reef Institute of TAFE,Delivery (teaching),2010,Retrenchment/ Redundancy,,,,,,,,,,,,,,Agree,Strongly Agree,Strongly Agree,Not Applicable,Strongly Agree,Strongly Agree,Strongly Agree,Agree,Agree,Agree,Agree,Agree,Agree,Strongly Agree,Agree,Strongly Agree,Strongly Agree,Strongly Agree,Strongly Agree,Agree,Neutral,Strongly Agree,Strongly Agree,Agree,Agree,Agree,Strongly Agree,Strongly Agree,Agree,Agree,No,,,,,,,,,,,,,No,No,No,Yes,Yes,Male,56 or older,Permanent Part-time,Tutor,11-20,11-20
6.34171929735346E+017,Barrier Reef Institute of TAFE,Delivery (teaching),2010,Retrenchment/ Redundancy,,,,,,,,,,,,,,Strongly Agree,Strongly Agree,Strongly Agree,Neutral,Agree,Strongly Agree,Agree,Agree,Strongly Agree,Agree,Agree,Agree,Agree,Agree,Agree,Strongly Agree,Agree,Strongly Agree,Agree,Strongly Agree,Agree,Strongly Agree,Strongly Agree,Agree,Agree,Agree,Strongly Agree,Agree,Agree,Agree,Yes,,,,-,-,-,Face to Face,-,Induction Manual,-,-,-,Yes,Yes,Yes,Yes,Yes,Male,51-55,Permanent Full-time,Teacher (including LVT),3-4,3-4
6.3417252283144E+017,Barrier Reef Institute of TAFE,Non-Delivery (corporate),2010,Resignation,-,Career Move - Private Sector,-,-,-,-,-,-,-,-,-,-,,Agree,Neutral,Neutral,Disagree,Agree,Neutral,Agree,Agree,Agree,Neutral,Agree,Agree,Disagree,Neutral,Agree,Disagree,Disagree,Agree,Agree,Strongly Disagree,Strongly Disagree,Strongly Disagree,Strongly Disagree,Agree,Agree,Agree,Disagree,Strongly Disagree,Agree,Agree,No,,,,,,,,,,,,,Yes,Yes,Yes,Yes,Yes,Female,31  35,Temporary Full-time,Administration (AO),11-20,Less than 1 year
6.34172609223344E+017,Central Queensland Institute of TAFE,Delivery (teaching),2010,Resignation,-,Career Move - Private Sector,-,-,-,Contributing Factors. Dissatisfaction ,Job Dissatisfaction,-,-,-,-,-,Career Move - Private Sector,Neutral,Agree,Agree,Neutral,Agree,Neutral,Neutral,Disagree,Agree,Strongly Disagree,Disagree,Disagree,Agree,,Disagree,Strongly Agree,Agree,Agree,Agree,Agree,Agree,Agree,Agree,Disagree,Agree,Strongly Disagree,Agree,Agree,Agree,Agree,Yes,Yes,No,No,-,-,-,-,-,-,-,-,-,No,Yes,Yes,Yes,No,Female,31  35,Permanent Part-time,Teacher (including LVT),7-10,7-10
6.34176076134409E+017,Southern Queensland Institute of TAFE,Non-Delivery (corporate),2010,Resignation,-,-,-,-,-,-,-,-,-,-,Other,-,,Strongly Disagree,Agree,Agree,Not Applicable,Agree,Strongly Disagree,Strongly Agree,Strongly Disagree,Agree,Strongly Disagree,Agree,Agree,Strongly Agree,Strongly Agree,Strongly Agree,Strongly Agree,Strongly Agree,Strongly Agree,Strongly Agree,Strongly Agree,Strongly Agree,Strongly Agree,Strongly Agree,Strongly Agree,Strongly Agree,,Strongly Agree,Strongly Agree,Strongly Agree,Strongly Agree,No,,,,,,,,,,,,,Yes,Yes,Yes,Yes,No,Female,46  50,Permanent Part-time,Technical Officer (TO),11-20,11-20
6.34177007457719E+017,Brisbane North Institute of TAFE,Non-Delivery (corporate),2010,Resignation,,,,,,,,,,,,,,,,,,,,,,,,,,,,,,,,,,,,,,,,,,,,,,,,,,,,,,,,,,,,,,,,,,,
6.34177053480062E+017,Brisbane North Institute of TAFE,Non-Delivery (corporate),2010,Resignation,Career Move - Public Sector,-,-,-,-,-,Job Dissatisfaction,-,-,-,-,-,Job Dissatisfaction,Agree,Agree,Neutral,Neutral,Disagree,Neutral,Agree,Agree,Agree,Strongly Disagree,Neutral,Neutral,Neutral,Disagree,Agree,Disagree,Disagree,Disagree,Disagree,Disagree,Disagree,Disagree,Disagree,Neutral,Neutral,Neutral,Disagree,Agree,Agree,Strongly Disagree,Yes,No,Yes,No,-,-,-,Face to Face,-,-,-,-,-,Yes,Yes,Yes,Yes,No,Female,31  35,Permanent Full-time,Administration (AO),7-10,1-2
6.34177938010971E+017,Brisbane North Institute of TAFE,Delivery (teaching),2010,Resignation,,,,,,,,,,,,,,,,,,,,,,,,,,,,,,,,,,,,,,,,,,,,,,,,,,,,,,,,,,,,,,,,,,,
6.3418197264725E+017,Southbank Institute of Technology,Non-Delivery (corporate),2010,Resignation,-,-,-,-,-,-,-,-,-,-,-,NONE,,,,,,,,,,,,,,,,,,,,,,,,,,,,,,,,,,,,,,,,,,,,,,,,,,,,,,,
6.34182099183434E+017,Brisbane North Institute of TAFE,Non-Delivery (corporate),2010,Resignation,-,-,-,-,-,Contributing Factors. Dissatisfaction ,Job Dissatisfaction,-,-,-,-,-,Job Dissatisfaction,Neutral,Strongly Disagree,Strongly Disagree,Strongly Disagree,Strongly Disagree,Neutral,Agree,Not Applicable,Disagree,Disagree,Neutral,Neutral,Neutral,Neutral,Agree,Disagree,Strongly Disagree,Strongly Disagree,Agree,Strongly Disagree,Strongly Disagree,Strongly Disagree,Strongly Disagree,Neutral,Agree,Neutral,Agree,Strongly Disagree,Strongly Disagree,Neutral,No,,,,,,,,,,,,,No,Yes,Yes,Yes,No,,,,,,
6.34183070751313E+017,Brisbane North Institute of TAFE,Non-Delivery (corporate),2010,Resignation,-,Career Move - Private Sector,-,-,-,-,-,-,-,-,-,-,,,,,,,,,,,,,,,,,,,,,,,,,,,,,,,,,,,,,,,,,,,,,,,,,,,,,,,
6.34184748867652E+017,Southern Queensland Institute of TAFE,Non-Delivery (corporate),2010,Resignation,Career Move - Public Sector,-,-,-,-,-,-,-,-,-,Other,-,Other,Strongly Disagree,Agree,Agree,Strongly Disagree,Strongly Disagree,Neutral,Agree,Agree,Agree,Disagree,Agree,Neutral,Neutral,Strongly Agree,Strongly Agree,Strongly Agree,Strongly Agree,Strongly Agree,Strongly Agree,Strongly Agree,Strongly Agree,Strongly Agree,Strongly Agree,Neutral,Disagree,Agree,Strongly Agree,Agree,Strongly Agree,Strongly Agree,Yes,Yes,Yes,Yes,-,-,-,-,-,-,-,-,-,Yes,Yes,Yes,Yes,No,Male,26  30,Temporary Full-time,Administration (AO),5-6,5-6
6.34190678592028E+017,Central Queensland Institute of TAFE,Non-Delivery (corporate),2010,Resignation,-,-,-,-,-,-,-,-,-,-,-,-,,Agree,Neutral,Neutral,Neutral,Neutral,Neutral,Neutral,Neutral,Neutral,Agree,Neutral,Neutral,Neutral,Strongly Agree,Strongly Agree,Agree,Agree,Agree,Agree,Agree,Agree,Agree,Agree,Agree,Agree,Agree,Strongly Agree,Neutral,Agree,Strongly Agree,Yes,,,,-,On-line,-,-,On-line,-,-,-,-,No,Yes,Yes,Yes,Yes,Female,26  30,Contract/casual,Administration (AO),Less than 1 year,Less than 1 year
6.34190743855375E+017,Central Queensland Institute of TAFE,Delivery (teaching),2010,Resignation,-,Career Move - Private Sector,-,-,-,-,-,-,-,-,-,-,,Agree,Agree,Agree,Neutral,Agree,Disagree,Neutral,Neutral,Disagree,Disagree,Neutral,Neutral,Neutral,Neutral,Strongly Agree,Agree,Agree,Agree,Agree,Agree,Agree,Agree,Agree,Disagree,Disagree,Disagree,Agree,Neutral,Agree,Disagree,Yes,Yes,No,Yes,-,On-line,-,Face to Face,-,-,-,-,-,No,Yes,Yes,Yes,No,Female,31  35,Permanent Part-time,Teacher (including LVT),7-10,7-10
6.34190913957094E+017,Brisbane North Institute of TAFE,Non-Delivery (corporate),2010,Contract Expired,,,,,,,,,,,,,,Agree,Strongly Agree,Strongly Agree,Agree,Neutral,Agree,Strongly Agree,Strongly Agree,Neutral,Agree,Agree,Agree,Neutral,Agree,Agree,Strongly Agree,Strongly Agree,Strongly Agree,Agree,Agree,Agree,Agree,Strongly Agree,Neutral,Neutral,Agree,Neutral,Strongly Agree,Neutral,Agree,No,,,,,,,,,,,,,No,Yes,Yes,Yes,Yes,Female,41  45,Temporary Full-time,Administration (AO),Less than 1 year,Less than 1 year
6.34193418130687E+017,Mount Isa Institute of TAFE,Non-Delivery (corporate),2010,Resignation,-,Career Move - Private Sector,-,-,-,Contributing Factors. Dissatisfaction ,Job Dissatisfaction,-,-,-,-,-,Dissatisfaction with %[Institute]Q25LBL%,Strongly Disagree,Neutral,Disagree,Strongly Disagree,Strongly Disagree,Strongly Disagree,Strongly Disagree,Strongly Disagree,Agree,Strongly Disagree,Strongly Disagree,Strongly Disagree,Strongly Disagree,Strongly Disagree,Agree,Neutral,Agree,Neutral,Disagree,Agree,Agree,Agree,Agree,Agree,Agree,Strongly Disagree,Strongly Agree,Not Applicable,Strongly Disagree,Strongly Disagree,Yes,Yes,Yes,Yes,Face to Face,-,-,,-,-,-,-,-,Yes,Yes,No,No,No,,,,,,
6.34193458894281E+017,Brisbane North Institute of TAFE,Non-Delivery (corporate),2010,Resignation,Career Move - Public Sector,-,-,-,-,-,-,-,-,-,-,-,,Agree,Agree,Agree,Neutral,Agree,Agree,Agree,Agree,Agree,Neutral,Agree,Agree,Agree,Strongly Agree,Agree,Agree,Agree,Agree,Agree,Disagree,Disagree,Disagree,Agree,Agree,Agree,Strongly Agree,Strongly Agree,Agree,Agree,Strongly Agree,Yes,Yes,Yes,Yes,Face to Face,-,-,,-,-,-,-,-,Yes,Yes,Yes,Yes,Yes,Male,56 or older,Temporary Full-time,Administration (AO),More than 20 years,7-10
6.34195084065465E+017,Central Queensland Institute of TAFE,Delivery (teaching),2010,Retirement,-,-,-,-,-,-,-,-,-,-,-,-,,,,,,,,,,,,,,,,,,,,,,,,,,,,,,,,,,,,,,,,,,,,,,,,,,,,,,,
6.341993935285E+017,Barrier Reef Institute of TAFE,Non-Delivery (corporate),2010,Resignation,-,Career Move - Private Sector,-,-,-,-,-,-,-,-,-,-,,Agree,Neutral,Neutral,Disagree,Strongly Agree,Strongly Agree,Strongly Agree,Agree,Agree,Neutral,Agree,Agree,Agree,Agree,Agree,Agree,Disagree,Neutral,Agree,Disagree,Disagree,Disagree,Disagree,Neutral,Neutral,Neutral,Strongly Disagree,Neutral,Agree,Agree,No,,,,,,,,,,,,,Yes,Yes,Yes,Yes,Yes,Female,31  35,Temporary Full-time,Administration (AO),Less than 1 year,Less than 1 year
6.34199520161313E+017,Southbank Institute of Technology,Non-Delivery (corporate),2010,Contract Expired,,,,,,,,,,,,,,Agree,Agree,Agree,Neutral,Disagree,Neutral,Agree,Agree,Agree,Agree,Neutral,Neutral,Neutral,Disagree,Agree,Agree,Agree,Agree,Agree,Agree,Agree,Agree,Agree,Agree,Agree,Agree,Agree,Neutral,Agree,Agree,Yes,,Yes,Yes,-,-,-,,-,Induction Manual,-,-,-,No,Yes,Yes,Yes,Yes,,,,,,
6.34199595826715E+017,Southern Queensland Institute of TAFE,Non-Delivery (corporate),2010,Contract Expired,,,,,,,,,,,,,,Strongly Agree,Strongly Agree,Strongly Agree,Agree,Strongly Agree,Agree,Strongly Agree,Strongly Agree,Agree,Strongly Agree,Strongly Agree,Strongly Agree,Strongly Agree,Strongly Agree,Strongly Agree,Strongly Agree,Strongly Agree,Strongly Agree,Strongly Agree,Agree,Agree,Agree,Agree,Agree,Agree,Agree,Strongly Agree,Agree,Strongly Agree,Strongly Agree,Yes,Yes,No,Yes,Face to Face,-,-,Face to Face,-,-,-,-,-,No,Yes,Yes,Yes,Yes,Female,26  30,Temporary Full-time,Tutor,Less than 1 year,Less than 1 year
6.34200229589215E+017,Brisbane North Institute of TAFE,Non-Delivery (corporate),2010,Resignation,-,Career Move - Private Sector,-,-,-,-,-,-,-,-,-,-,,Agree,Agree,Agree,Neutral,Disagree,Agree,Neutral,Agree,Agree,Neutral,Disagree,Disagree,Neutral,Neutral,Agree,Neutral,Neutral,Agree,Strongly Agree,Disagree,Disagree,Disagree,Neutral,Agree,Neutral,Neutral,Agree,Neutral,Agree,Agree,No,,,,,,,,,,,,,Yes,Yes,Yes,Yes,Yes,Female,46  50,Temporary Part-time,Professional Officer (PO),Less than 1 year,Less than 1 year
6.3420113743107E+017,Tropical North Institute of TAFE,Non-Delivery (corporate),2010,Retirement,-,-,-,-,-,-,-,-,-,Travel,-,-,,,,,,,,,,,,,,,,,,,,,,,,,,,,,,,,,,,,,,,,,,,,,,,,,,,,,,,
6.34201997218101E+017,Central Queensland Institute of TAFE,Delivery (teaching),2010,Retirement,-,-,-,-,-,-,-,-,-,-,-,NONE,,Agree,Agree,Agree,Agree,Agree,Agree,Agree,Agree,Agree,Neutral,Not Applicable,Not Applicable,Not Applicable,Agree,Agree,Agree,Agree,Agree,Agree,Agree,Agree,Agree,Agree,Agree,Agree,Agree,Agree,Strongly Agree,Agree,Neutral,Yes,No,Yes,No,-,-,-,-,-,,-,-,-,No,Yes,Yes,Yes,Yes,Male,56 or older,Permanent Full-time,Teacher (including LVT),More than 20 years,More than 20 years
6.34205577322164E+017,Central Queensland Institute of TAFE,Delivery (teaching),2010,Retirement,-,-,Career Move - Self-employment,-,-,-,-,-,-,-,-,-,,Agree,Agree,Agree,Not Applicable,Disagree,Strongly Disagree,Neutral,Neutral,Agree,Disagree,Neutral,Neutral,Neutral,Neutral,Strongly Agree,Strongly Agree,Agree,Agree,Agree,Agree,Agree,Agree,Agree,Agree,Neutral,Neutral,Agree,Agree,Agree,Neutral,,No,Yes,No,-,-,-,-,On-line,-,-,-,-,Yes,Yes,Yes,Yes,No,Female,56 or older,Permanent Part-time,Teacher (including LVT),11-20,11-20
6.34206210361383E+017,Sunshine Coast Institute of TAFE,Non-Delivery (corporate),2010,Resignation,Career Move - Public Sector,Career Move - Private Sector,-,-,-,-,-,-,-,-,Other,-,Career Move - Private Sector,,,,,,,,,,,,,,,,,,,,,,,,,,,,,,,,,,,,,,,,,,,,,,,,,,,,,,
6.34207964363344E+017,Southbank Institute of Technology,Non-Delivery (corporate),2010,Resignation,-,-,-,-,-,-,-,-,-,Travel,-,-,,Not Applicable,Not Applicable,Not Applicable,Not Applicable,Not Applicable,Not Applicable,Not Applicable,Not Applicable,Not Applicable,Not Applicable,Not Applicable,Not Applicable,Not Applicable,Not Applicable,Not Applicable,Not Applicable,Not Applicable,Not Applicable,Not Applicable,Not Applicable,Not Applicable,Not Applicable,Not Applicable,Not Applicable,Not Applicable,Not Applicable,Not Applicable,Not Applicable,Not Applicable,Not Applicable,Yes,No,Yes,No,-,-,-,Face to Face,-,-,-,-,-,Yes,Yes,Yes,Yes,Yes,,,,,,
6.3420797198725E+017,The Bremer Institute of TAFE,Delivery (teaching),2010,Termination,,,,,,,,,,,,,,Not Applicable,Not Applicable,Not Applicable,Not Applicable,Not Applicable,Not Applicable,Not Applicable,Not Applicable,Not Applicable,Not Applicable,Not Applicable,Not Applicable,Not Applicable,Not Applicable,Not Applicable,Not Applicable,Not Applicable,Not Applicable,Not Applicable,Not Applicable,Not Applicable,Not Applicable,Not Applicable,Not Applicable,Not Applicable,Not Applicable,Not Applicable,Not Applicable,Not Applicable,Not Applicable,,,,,,,,,,,,,,,,,,,,,,,,
6.34208063783969E+017,Southbank Institute of Technology,Non-Delivery (corporate),2010,Resignation,Career Move - Public Sector,-,-,-,-,-,-,-,-,-,-,-,,Strongly Agree,Strongly Agree,Strongly Agree,Strongly Agree,Strongly Agree,Strongly Agree,Strongly Agree,Strongly Agree,Strongly Agree,Strongly Agree,Strongly Agree,Strongly Agree,Strongly Agree,Strongly Agree,Strongly Agree,Strongly Agree,Strongly Agree,Strongly Agree,Strongly Agree,Strongly Agree,Strongly Agree,Strongly Agree,Strongly Agree,Strongly Agree,Strongly Agree,Strongly Agree,Strongly Agree,Strongly Agree,Strongly Agree,Strongly Agree,Yes,Yes,Yes,Yes,Face to Face,-,-,,-,-,-,-,-,Yes,Yes,Yes,Yes,Yes,,,,,,
6.34208993864195E+017,Sunshine Coast Institute of TAFE,Non-Delivery (corporate),2010,Resignation,-,-,-,-,-,Contributing Factors. Dissatisfaction ,-,-,-,-,-,-,,Disagree,Disagree,Disagree,Disagree,Neutral,,Disagree,,,,Disagree,Disagree,Disagree,,,,,,,,,,,,,,,,,,No,,,,,,,,,,,,,Yes,No,Yes,,No,Female,26  30,Temporary Part-time,Administration (AO),Less than 1 year,Less than 1 year
6.34209003247164E+017,Sunshine Coast Institute of TAFE,Delivery (teaching),2010,Resignation,-,-,Career Move - Self-employment,-,-,-,-,-,-,-,-,-,,Disagree,Strongly Disagree,Neutral,Neutral,,Disagree,Neutral,Neutral,Disagree,Neutral,Strongly Disagree,,,Neutral,Strongly Disagree,Strongly Disagree,Strongly Disagree,Strongly Disagree,Strongly Disagree,Strongly Disagree,Strongly Disagree,Strongly Disagree,Strongly Disagree,Strongly Disagree,Strongly Disagree,,Disagree,Neutral,Not Applicable,Neutral,Yes,,,Yes,-,-,-,-,-,-,-,-,-,Yes,,,,,Female,36  40,Permanent Full-time,Teacher (including LVT),11-20,11-20
6.34209012525289E+017,Sunshine Coast Institute of TAFE,Delivery (teaching),2010,Resignation,-,-,Career Move - Self-employment,-,-,-,-,-,-,-,-,-,,Agree,Neutral,Disagree,Not Applicable,Disagree,Disagree,Neutral,Disagree,,,,,,,,,,,,,,,,,Agree,Neutral,Agree,Not Applicable,,,Yes,,,,-,-,-,-,-,-,-,-,-,Yes,,,,,Male,31  35,Permanent Full-time,Teacher (including LVT),3-4,3-4
6.34209019387633E+017,Sunshine Coast Institute of TAFE,Non-Delivery (corporate),2010,Contract Expired,,,,,,,,,,,,,,Neutral,Agree,Strongly Agree,Agree,Disagree,Disagree,Disagree,Strongly Disagree,Disagree,,,,,Neutral,Strongly Agree,Agree,Agree,Agree,Strongly Agree,Neutral,Neutral,Neutral,Neutral,Agree,Agree,Agree,Agree,Agree,Agree,Agree,Yes,,,,-,-,-,-,-,-,-,-,-,Yes,,,,,Male,56 or older,Permanent Full-time,Administration (AO),More than 20 years,More than 20 years
6.34209026016695E+017,Sunshine Coast Institute of TAFE,Delivery (teaching),2010,Contract Expired,,,,,,,,,,,,,,Agree,Agree,Agree,Agree,Agree,Agree,Agree,Agree,Agree,Agree,Agree,Agree,Agree,Agree,Agree,Agree,Agree,Agree,Agree,Agree,Agree,Agree,Agree,Agree,Agree,Agree,Agree,Agree,Agree,Agree,Yes,,,,-,-,-,-,-,-,-,-,-,Yes,,,,,Male,36  40,Permanent Full-time,Teacher (including LVT),11-20,11-20
6.34209027931539E+017,Sunshine Coast Institute of TAFE,Delivery (teaching),2010,Resignation,Career Move - Public Sector,Career Move - Private Sector,-,-,-,-,-,-,-,-,Other,-,Other,Neutral,Disagree,Neutral,Strongly Disagree,Strongly Disagree,Disagree,Agree,Agree,Agree,,,,,Agree,Agree,Agree,Agree,Agree,Neutral,Disagree,Agree,Agree,,,,,,,,,No,,,,,,,,,,,,,No,,,,,Male,51-55,Permanent Full-time,Teacher (including LVT),11-20,11-20
6.34209037420601E+017,Sunshine Coast Institute of TAFE,Delivery (teaching),2010,Resignation,-,-,-,-,-,-,-,-,-,-,Other,-,,Neutral,Neutral,Neutral,Agree,Agree,Neutral,Neutral,Neutral,Neutral,,,,,Neutral,Strongly Agree,Strongly Agree,Neutral,Neutral,Agree,Agree,,,Agree,Agree,Disagree,Neutral,Agree,Neutral,,,Yes,,,,-,-,-,-,-,-,-,-,-,Yes,,,,,Female,56 or older,Permanent Part-time,Teacher (including LVT),More than 20 years,More than 20 years
6.34211542757094E+017,Tropical North Institute of TAFE,Delivery (teaching),2010,Resignation,-,Career Move - Private Sector,-,-,-,Contributing Factors. Dissatisfaction ,-,-,-,-,-,-,Dissatisfaction with %[Institute]Q25LBL%,Disagree,Disagree,Disagree,Neutral,Neutral,Neutral,Disagree,Disagree,Strongly Disagree,Disagree,Neutral,Neutral,Disagree,Disagree,Disagree,Strongly Agree,Disagree,Disagree,Strongly Disagree,Disagree,Disagree,Disagree,Agree,Strongly Agree,Neutral,Strongly Disagree,Disagree,Disagree,Strongly Disagree,Disagree,Yes,No,Yes,No,-,-,-,Face to Face,On-line,-,-,-,-,No,Yes,Yes,No,No,Male,31  35,Permanent Full-time,Teacher (including LVT),Less than 1 year,Less than 1 year
6.34212412239976E+017,Brisbane North Institute of TAFE,Non-Delivery (corporate),2010,Transfer,Career Move - Public Sector,-,-,-,Maternity/Family,-,Job Dissatisfaction,-,-,-,-,-,Maternity/Family,Agree,Neutral,Neutral,Neutral,Agree,Disagree,Agree,Agree,Agree,Neutral,Neutral,Neutral,Agree,Agree,Agree,Agree,Agree,Agree,Agree,Agree,Agree,Agree,Agree,Neutral,Strongly Agree,Strongly Agree,Agree,,Neutral,Neutral,Yes,No,Yes,No,-,-,-,Face to Face,-,-,-,-,-,Yes,Yes,Yes,Yes,Yes,Female,31  35,Permanent Part-time,Administration (AO),7-10,7-10
6.3421319649857E+017,Barrier Reef Institute of TAFE,Non-Delivery (corporate),2010,Resignation,-,Career Move - Private Sector,-,-,-,-,-,-,-,-,-,-,,Agree,Strongly Agree,Strongly Agree,Neutral,Disagree,Agree,Strongly Agree,Agree,Strongly Agree,Neutral,Agree,Agree,Agree,Agree,Strongly Agree,Strongly Agree,Strongly Agree,Strongly Agree,Agree,Strongly Agree,Agree,Agree,Agree,Strongly Agree,Neutral,Agree,Disagree,Agree,Strongly Agree,Strongly Agree,Yes,Yes,Yes,No,Face to Face,-,-,Face to Face,-,-,-,-,-,No,Yes,Yes,Yes,Yes,Male,56 or older,Permanent Full-time,Administration (AO),3-4,3-4
6.34214004205914E+017,Southbank Institute of Technology,Non-Delivery (corporate),2010,Contract Expired,,,,,,,,,,,,,,,,,,,,,,,,,,,,,,,,,,,,,,,,,,,,,,,,,,,,,,,,,,,,,,,,,,,
6.34214138447945E+017,Southbank Institute of Technology,Non-Delivery (corporate),2010,Resignation,,,,,,,,,,,,,,,,,,,,,,,,,,,,,,,,,,,,,,,,,,,,,,,,,,,,,,,,,,,,,,,,,,,
6.34214156864906E+017,Mount Isa Institute of TAFE,Non-Delivery (corporate),2010,Resignation,-,Career Move - Private Sector,-,-,-,-,Job Dissatisfaction,-,-,-,-,-,Job Dissatisfaction,Agree,Agree,Neutral,Disagree,Disagree,Agree,Agree,Agree,Disagree,Neutral,Agree,Agree,Agree,Disagree,Agree,Agree,Agree,Agree,Disagree,Neutral,Neutral,Neutral,Disagree,Agree,Agree,Neutral,Strongly Agree,Disagree,Agree,Agree,Yes,No,Yes,No,-,-,-,Face to Face,-,-,-,-,-,Yes,Yes,Yes,Yes,Yes,Female,41  45,Permanent Full-time,Administration (AO),3-4,3-4
6.34214849407633E+017,Brisbane North Institute of TAFE,Non-Delivery (corporate),2010,Resignation,Career Move - Public Sector,-,-,-,-,-,-,-,-,-,-,-,,,,,,,,,,,,,,,,,,,,,,,,,,,,,,Strongly Agree,,Yes,,Yes,Yes,-,-,-,Face to Face,-,-,Face to Face,-,-,,,,,,,,,,,
6.34217422828726E+017,Mount Isa Institute of TAFE,Non-Delivery (corporate),2010,Resignation,-,-,-,-,-,Contributing Factors. Dissatisfaction ,-,-,-,-,Other,-,,,,,,,,,,,,,,,,,,,,,,,,,,,,,,,,,,,,,,,,,,,,,,,,,,,,,,,
6.34218492665219E+017,Southbank Institute of Technology,Non-Delivery (corporate),2010,Resignation,-,Career Move - Private Sector,-,-,-,-,-,-,-,-,-,-,,Agree,Agree,Agree,Agree,Agree,Agree,Agree,Agree,Agree,Neutral,Agree,Agree,Agree,Strongly Agree,Strongly Agree,Strongly Agree,Strongly Agree,Strongly Agree,Strongly Agree,Strongly Agree,Strongly Agree,Strongly Agree,Strongly Agree,Strongly Agree,Strongly Agree,Strongly Agree,Strongly Agree,Strongly Agree,,Strongly Agree,Yes,Yes,No,Yes,Face to Face,-,-,-,-,-,Face to Face,-,-,Yes,Yes,Yes,Yes,Yes,Female,31  35,Temporary Full-time,Administration (AO),Less than 1 year,Less than 1 year
6.34219251646781E+017,Sunshine Coast Institute of TAFE,Non-Delivery (corporate),2010,Resignation,-,Career Move - Private Sector,-,-,-,-,-,-,-,-,-,-,,Agree,Agree,Agree,Agree,Disagree,Agree,Agree,Agree,Agree,,,,,Agree,Agree,Disagree,Disagree,Agree,Agree,Agree,Agree,Agree,Agree,Agree,Agree,Agree,Agree,Agree,Agree,,Yes,,,,-,-,-,-,-,-,-,-,-,No,,,,,Female,26  30,Temporary Full-time,Administration (AO),3-4,3-4
6.34219263224125E+017,Sunshine Coast Institute of TAFE,Non-Delivery (corporate),2010,Contract Expired,,,,,,,,,,,,,,Neutral,Agree,Neutral,Disagree,Disagree,Strongly Disagree,Strongly Disagree,Disagree,Strongly Disagree,Neutral,Disagree,Disagree,Agree,Disagree,Strongly Agree,Agree,Neutral,Neutral,Agree,Agree,Agree,Agree,Neutral,Agree,Neutral,Strongly Disagree,Disagree,Agree,Disagree,Neutral,Yes,No,Yes,No,-,-,-,-,-,-,-,-,-,Yes,Yes,Yes,No,No,Female,26  30,Permanent Full-time,Tutor,3-4,1-2
6.34219274566469E+017,Southbank Institute of Technology,Non-Delivery (corporate),2010,Resignation,-,-,-,-,-,-,Job Dissatisfaction,-,-,-,-,-,,Disagree,Strongly Disagree,,Strongly Disagree,Agree,Strongly Disagree,Strongly Disagree,Strongly Disagree,Strongly Disagree,Disagree,Agree,Disagree,Strongly Disagree,Disagree,Strongly Agree,Strongly Disagree,Strongly Disagree,Strongly Agree,Strongly Agree,Strongly Disagree,Strongly Disagree,Strongly Disagree,Strongly Disagree,Strongly Agree,Strongly Disagree,Disagree,Agree,Strongly Disagree,Strongly Agree,Disagree,Yes,,Yes,,-,-,-,Face to Face,-,-,-,-,-,Yes,Yes,No,No,No,Female,56 or older,Permanent Full-time,Administration (AO),3-4,3-4
6.34219394328258E+017,Sunshine Coast Institute of TAFE,Non-Delivery (corporate),2010,Contract Expired,,,,,,,,,,,,,,,,,,,,,,,,,,,,,,,,,,,,,,,,,,,,,,,,,,,,,,,,,,,,,,,,,,,
6.34219407445375E+017,Sunshine Coast Institute of TAFE,Non-Delivery (corporate),2010,Retirement,-,-,-,-,-,-,-,-,-,-,Other,-,,Agree,Strongly Agree,Strongly Agree,Strongly Agree,Strongly Agree,Strongly Agree,Strongly Agree,Strongly Agree,Strongly Agree,Strongly Agree,,,,Agree,Agree,Agree,Agree,Agree,Agree,Agree,Agree,Agree,Agree,Agree,Agree,Agree,Agree,Agree,Agree,Agree,Yes,,,,-,-,-,-,-,-,-,-,-,Yes,,,,,Female,56 or older,Permanent Full-time,Administration (AO),3-4,3-4
6.34219413623344E+017,Sunshine Coast Institute of TAFE,Delivery (teaching),2009,Contract Expired,,,,,,,,,,,,,,Strongly Agree,Strongly Agree,Strongly Agree,Strongly Agree,Strongly Agree,Strongly Agree,Strongly Agree,Strongly Agree,Strongly Agree,Strongly Agree,Strongly Agree,Strongly Agree,Strongly Agree,Strongly Agree,Strongly Agree,Strongly Agree,Strongly Agree,Strongly Agree,Strongly Agree,Strongly Agree,Strongly Agree,Strongly Agree,Strongly Agree,Strongly Agree,Strongly Agree,Strongly Agree,Strongly Agree,Strongly Agree,Strongly Agree,Strongly Agree,Yes,,,,-,-,-,-,-,-,-,-,-,Yes,Yes,,,Yes,Male,26  30,Permanent Full-time,Tutor,3-4,3-4
6.34219425466156E+017,Sunshine Coast Institute of TAFE,Non-Delivery (corporate),2009,Contract Expired,,,,,,,,,,,,,,Agree,Strongly Agree,Agree,Agree,Disagree,Disagree,Agree,Agree,Agree,Agree,,,,Agree,Agree,Strongly Agree,Strongly Agree,Strongly Agree,Agree,,Strongly Agree,,Strongly Agree,Strongly Agree,Strongly Agree,Agree,Agree,Agree,Agree,Agree,Yes,,,,-,-,-,-,-,-,-,-,-,No,,,,,Female,51-55,Permanent Full-time,Administration (AO),11-20,11-20
6.34220006275757E+017,Sunshine Coast Institute of TAFE,Non-Delivery (corporate),2009,Resignation,-,-,-,-,-,-,-,-,-,-,Other,-,,Agree,Strongly Agree,Strongly Agree,Strongly Agree,Strongly Agree,Agree,Agree,Strongly Agree,Agree,,,,,Agree,Agree,Agree,Strongly Agree,Strongly Agree,Agree,,,,Agree,Agree,Agree,Agree,Neutral,Agree,Agree,Agree,Yes,,,,-,-,-,-,-,-,-,-,-,No,No,,,,Male,51-55,Permanent Full-time,Operational (OO),3-4,3-4
6.34220145175757E+017,Sunshine Coast Institute of TAFE,Non-Delivery (corporate),2010,Resignation,-,-,-,-,-,Contributing Factors. Dissatisfaction ,-,Interpersonal Conflict,-,-,-,-,Interpersonal Conflict,Neutral,Neutral,Neutral,Neutral,Agree,Disagree,Disagree,Disagree,Neutral,Strongly Disagree,Strongly Disagree,Strongly Disagree,Strongly Disagree,Disagree,Strongly Agree,Strongly Agree,Strongly Disagree,Neutral,Neutral,Neutral,Neutral,Neutral,Neutral,Agree,Agree,Strongly Disagree,Neutral,Agree,Neutral,Strongly Disagree,Yes,No,Yes,No,-,-,-,Face to Face,-,-,-,-,-,Yes,Yes,Yes,Yes,No,Male,46  50,Permanent Full-time,Operational (OO),11-20,Less than 1 year
6.34221044292008E+017,Mount Isa Institute of TAFE,Non-Delivery (corporate),2010,Resignation,-,-,-,-,-,Contributing Factors. Dissatisfaction ,-,-,-,-,Other,-,Other,Strongly Agree,Agree,Neutral,Neutral,Neutral,Strongly Agree,Strongly Agree,Strongly Agree,Strongly Agree,Agree,Strongly Agree,Strongly Agree,Strongly Agree,Strongly Agree,Neutral,Neutral,Neutral,Agree,Strongly Agree,Disagree,Disagree,Neutral,Neutral,Neutral,Strongly Agree,Strongly Agree,Strongly Agree,Neutral,Agree,Strongly Disagree,Yes,Yes,Yes,Yes,Face to Face,-,-,Face to Face,-,-,Face to Face,-,-,No,Yes,Yes,Yes,Yes,Female,21  25,Permanent Full-time,Administration (AO),Less than 1 year,Less than 1 year
6.34223513490601E+017,Barrier Reef Institute of TAFE,Non-Delivery (corporate),2010,Resignation,-,-,-,-,Maternity/Family,-,-,-,-,-,-,-,,Strongly Agree,Strongly Agree,Strongly Agree,Strongly Agree,Strongly Agree,Strongly Agree,Agree,Agree,Agree,Agree,Disagree,Disagree,Disagree,Agree,Agree,Agree,Neutral,Agree,Agree,Agree,Agree,Agree,Agree,Agree,Strongly Agree,Agree,Strongly Agree,Disagree,Agree,Agree,Yes,No,Yes,Yes,-,-,-,Face to Face,-,-,Face to Face,-,-,Yes,Yes,Yes,Yes,Yes,Female,31  35,Temporary Full-time,Administration (AO),1-2,1-2
6.34224469051226E+017,Tropical North Institute of TAFE,Non-Delivery (corporate),2010,Contract Expired,,,,,,,,,,,,,,Agree,Agree,Strongly Agree,Strongly Agree,Agree,Strongly Agree,Strongly Agree,Agree,Agree,Agree,Strongly Agree,Strongly Agree,Strongly Agree,Strongly Agree,Strongly Agree,Strongly Agree,Strongly Agree,Strongly Agree,Agree,Strongly Agree,Strongly Agree,Strongly Agree,Agree,Agree,Strongly Agree,Strongly Agree,Agree,Agree,Agree,Agree,Yes,No,No,Yes,-,-,-,-,-,-,-,-,-,Yes,Yes,Yes,Yes,Yes,Female,31  35,Temporary Full-time,Administration (AO),Less than 1 year,Less than 1 year
6.34225251664195E+017,Sunshine Coast Institute of TAFE,Delivery (teaching),2010,Contract Expired,,,,,,,,,,,,,,,,,,,,,,,,,,,,,,,,,,,,,,,,,,,,,,,,,,,,,,,,,,,,,,,,,,,
6.34226171903257E+017,Central Queensland Institute of TAFE,Delivery (teaching),2010,Resignation,-,Career Move - Private Sector,-,-,-,-,-,-,-,-,-,-,,Agree,Neutral,Agree,Neutral,Agree,Neutral,Agree,Agree,Agree,Strongly Agree,Neutral,Disagree,Neutral,Agree,Neutral,Agree,Agree,Agree,Agree,Agree,Agree,Agree,Agree,Agree,Agree,Strongly Agree,Strongly Agree,Neutral,Agree,Agree,Yes,No,Yes,Yes,-,-,-,Face to Face,-,-,Face to Face,-,-,Yes,Yes,Yes,Yes,Yes,Male,51-55,Permanent Full-time,Teacher (including LVT),3-4,3-4
6.34227157286851E+017,Brisbane North Institute of TAFE,Non-Delivery (corporate),2010,Transfer,-,-,-,-,-,-,Job Dissatisfaction,-,-,-,-,-,,,,,,,,,,,,,,,Strongly Disagree,Strongly Agree,Neutral,Neutral,Strongly Agree,Strongly Agree,Disagree,Disagree,Disagree,Neutral,Strongly Agree,Agree,Strongly Disagree,Strongly Disagree,Neutral,Strongly Agree,Strongly Disagree,Yes,,Yes,,-,-,-,Face to Face,-,-,-,-,-,Yes,Yes,Yes,,No,Female,51-55,Permanent Full-time,Administration (AO),3-4,3-4
6.3422718506975E+017,Central Queensland Institute of TAFE,Non-Delivery (corporate),2010,Resignation,Career Move - Public Sector,-,-,-,-,Contributing Factors. Dissatisfaction ,-,-,-,-,-,-,Career Move - Public Sector,Disagree,Agree,Neutral,Strongly Disagree,Disagree,Disagree,Disagree,Disagree,Neutral,Strongly Disagree,Disagree,Disagree,Disagree,Agree,Agree,Strongly Agree,Neutral,Agree,Agree,Disagree,Disagree,Disagree,Agree,Neutral,Neutral,Agree,Neutral,Neutral,Agree,Agree,No,,,,,,,,,,,,,No,Yes,Yes,No,No,Female,36  40,Permanent Full-time,Professional Officer (PO),7-10,7-10
6.34227207368969E+017,Central Queensland Institute of TAFE,Non-Delivery (corporate),2010,Resignation,-,-,-,-,-,-,-,-,-,-,Other,-,,Agree,Disagree,Disagree,Disagree,Agree,Disagree,Agree,Disagree,Neutral,Disagree,Disagree,Disagree,Disagree,Agree,Agree,Strongly Agree,Strongly Agree,Strongly Agree,Neutral,Agree,Agree,Agree,Agree,Disagree,Disagree,Disagree,Agree,Agree,Agree,Neutral,No,,,,-,-,-,-,-,-,-,-,-,No,Yes,Yes,No,Yes,Female,51-55,Permanent Full-time,Administration (AO),5-6,5-6
6.34227222513344E+017,Southern Queensland Institute of TAFE,Delivery (teaching),2010,Contract Expired,,,,,,,,,,,,,,Strongly Agree,Strongly Agree,Strongly Agree,Strongly Agree,Strongly Agree,Strongly Agree,Strongly Agree,Strongly Agree,Strongly Agree,Strongly Agree,Strongly Agree,Strongly Agree,Strongly Agree,Strongly Agree,Strongly Agree,Strongly Agree,Strongly Agree,Strongly Agree,Strongly Agree,Strongly Agree,Strongly Agree,Strongly Agree,Strongly Agree,Strongly Agree,Strongly Agree,Strongly Agree,Strongly Agree,Strongly Agree,Strongly Agree,Strongly Agree,Yes,No,Yes,Yes,-,-,-,Face to Face,-,-,Face to Face,-,Induction Manual,No,Yes,Yes,Yes,Yes,Female,41  45,Contract/casual,Teacher (including LVT),Less than 1 year,11-20
6.34231466668883E+017,Sunshine Coast Institute of TAFE,Non-Delivery (corporate),2010,Resignation,-,-,-,-,-,-,Job Dissatisfaction,-,-,-,-,-,,Agree,Agree,Disagree,Disagree,Disagree,Agree,Neutral,Neutral,Disagree,Disagree,Strongly Disagree,Strongly Disagree,Strongly Disagree,Disagree,Agree,Neutral,Agree,Neutral,Agree,Strongly Disagree,Strongly Disagree,Strongly Disagree,Strongly Disagree,Agree,Neutral,Neutral,Strongly Disagree,Strongly Disagree,Strongly Disagree,Strongly Disagree,Yes,No,Yes,Yes,-,-,-,Face to Face,-,-,Face to Face,-,-,No,Yes,No,No,No,Female,20 or younger,Temporary Full-time,Administration (AO),Less than 1 year,1-2
6.34232185219039E+017,Southern Queensland Institute of TAFE,Delivery (teaching),2010,Contract Expired,,,,,,,,,,,,,,Agree,Agree,Agree,Neutral,Agree,Neutral,Agree,Agree,Agree,Agree,Neutral,Neutral,Neutral,Agree,Agree,Agree,Strongly Agree,Strongly Agree,Strongly Agree,Agree,Neutral,Neutral,Neutral,Neutral,Agree,Agree,Agree,Neutral,Agree,Neutral,Yes,Yes,Yes,Yes,Face to Face,-,Induction Manual,Face to Face,-,Induction Manual,Face to Face,-,-,Yes,Yes,Yes,Yes,Yes,,,,,,
6.34235863003594E+017,Barrier Reef Institute of TAFE,Delivery (teaching),2010,Transfer,Career Move - Public Sector,-,-,-,-,-,-,-,-,-,-,-,,Agree,Agree,Agree,Neutral,Disagree,Disagree,Agree,Strongly Agree,Agree,Disagree,Disagree,Disagree,Disagree,Agree,Strongly Agree,Strongly Agree,Strongly Agree,Strongly Agree,Strongly Agree,Strongly Agree,Strongly Agree,Strongly Agree,Strongly Agree,Disagree,Strongly Disagree,Strongly Agree,Agree,Agree,Agree,Agree,Yes,Yes,Yes,Yes,Face to Face,-,-,Face to Face,-,-,Face to Face,-,-,Yes,Yes,Yes,Yes,Yes,Female,51-55,Temporary Full-time,Teacher (including LVT),3-4,1-2
6.34238426001094E+017,Brisbane North Institute of TAFE,Non-Delivery (corporate),2010,Retrenchment/ Redundancy,,,,,,,,,,,,,,Agree,Agree,Strongly Disagree,Strongly Disagree,Agree,Strongly Disagree,Disagree,Disagree,Strongly Disagree,Strongly Disagree,Disagree,Disagree,Disagree,Strongly Disagree,Agree,Agree,Agree,Agree,Agree,Disagree,Disagree,Disagree,Agree,Agree,Strongly Disagree,Disagree,Agree,Strongly Disagree,Disagree,Strongly Disagree,Yes,Yes,Yes,Yes,Face to Face,-,-,Face to Face,-,-,Face to Face,-,-,Yes,Yes,Yes,Yes,No,Female,51-55,Temporary Full-time,Administration (AO),1-2,1-2
6.342393039825E+017,Brisbane North Institute of TAFE,Non-Delivery (corporate),2010,Transfer,-,-,-,Ill Health,-,-,-,-,-,-,-,-,,Agree,Disagree,Disagree,Neutral,Agree,Agree,Strongly Agree,Strongly Agree,Agree,Agree,Agree,Agree,Agree,Agree,Strongly Agree,Disagree,Disagree,Strongly Disagree,Neutral,Disagree,Disagree,Disagree,Disagree,Agree,Agree,Strongly Agree,Neutral,Not Applicable,Neutral,Agree,Yes,No,Yes,Yes,-,-,-,Face to Face,-,-,Face to Face,-,-,Yes,Yes,Yes,Yes,Yes,Female,31  35,Temporary Full-time,Administration (AO),1-2,1-2
6.34241795347656E+017,Central Queensland Institute of TAFE,Delivery (teaching),2010,Resignation,-,-,-,-,-,-,Job Dissatisfaction,-,-,-,-,-,,Neutral,Neutral,Strongly Disagree,Strongly Disagree,Strongly Disagree,Disagree,Neutral,Neutral,Neutral,Neutral,Disagree,Disagree,Agree,Disagree,Agree,Disagree,Disagree,Neutral,Neutral,Strongly Disagree,Disagree,Strongly Disagree,Strongly Disagree,Agree,Neutral,Disagree,Disagree,Agree,Agree,Agree,Yes,Yes,Yes,No,-,On-line,-,-,On-line,-,-,-,-,No,Yes,Yes,Yes,No,Male,41  45,Contract/casual,Teacher (including LVT),Less than 1 year,Less than 1 year
6.34243628858726E+017,Central Queensland Institute of TAFE,Non-Delivery (corporate),2010,Resignation,-,-,-,-,-,-,-,-,-,-,Other,-,,Agree,Agree,Agree,Agree,Agree,Agree,Agree,Agree,Agree,Agree,Agree,Agree,Agree,Agree,Agree,Agree,Agree,Agree,Agree,Agree,Agree,Agree,Agree,Agree,Agree,Agree,Agree,Agree,Agree,Agree,Yes,No,Yes,No,-,-,-,-,-,-,-,-,-,Yes,Yes,Yes,Yes,Yes,Female,46  50,Permanent Full-time,Administration (AO),7-10,7-10
6.34243664081406E+017,Barrier Reef Institute of TAFE,Delivery (teaching),2010,Resignation,-,-,-,-,Maternity/Family,-,-,-,-,-,-,-,,Agree,Agree,Disagree,Agree,Agree,Neutral,Agree,Agree,Agree,Neutral,Agree,Agree,Agree,Agree,Agree,Agree,Strongly Agree,Disagree,Agree,Agree,Agree,Agree,Agree,Agree,Neutral,Agree,Agree,Agree,Agree,Agree,Yes,No,Yes,No,-,-,-,Face to Face,-,-,-,-,-,Yes,Yes,Yes,Yes,Yes,Male,41  45,Temporary Part-time,Teacher (including LVT),5-6,5-6
6.34245133689063E+017,Barrier Reef Institute of TAFE,Non-Delivery (corporate),2010,Resignation,-,-,-,-,-,-,-,-,-,-,-,NONE,,Agree,Strongly Agree,Strongly Agree,Strongly Agree,Neutral,Neutral,Agree,Agree,Agree,Agree,Agree,Agree,Agree,Strongly Agree,Agree,Strongly Agree,Strongly Agree,Strongly Agree,Strongly Agree,Strongly Agree,Strongly Agree,Strongly Agree,Strongly Agree,Strongly Agree,Strongly Agree,Strongly Agree,Strongly Agree,Strongly Agree,Strongly Agree,Strongly Agree,Yes,No,Yes,Yes,-,-,-,-,-,-,-,-,-,Yes,Yes,Yes,Yes,Yes,Female,41  45,Permanent Full-time,Administration (AO),5-6,3-4
6.34250266309976E+017,Southern Queensland Institute of TAFE,Non-Delivery (corporate),2010,Contract Expired,,,,,,,,,,,,,,Agree,Agree,Agree,Agree,Agree,Agree,Agree,Agree,Agree,Agree,Agree,Agree,Agree,Agree,Strongly Agree,Agree,Agree,Agree,Agree,Agree,Agree,Agree,Agree,Agree,Agree,Agree,Agree,Neutral,Agree,Agree,Yes,Yes,No,No,-,On-line,-,-,-,-,-,-,-,No,Yes,Yes,Yes,Yes,Female,20 or younger,Contract/casual,Administration (AO),Less than 1 year,Less than 1 year
6.34250409172945E+017,Southern Queensland Institute of TAFE,Delivery (teaching),2010,Resignation,-,-,-,-,Maternity/Family,-,-,-,-,-,-,-,,,Agree,Agree,Not Applicable,Neutral,Disagree,Neutral,Neutral,Strongly Agree,Neutral,Agree,Agree,Agree,Strongly Agree,Strongly Agree,Agree,Neutral,Agree,Strongly Agree,Agree,Agree,Agree,Agree,Neutral,Neutral,Agree,Agree,Agree,Agree,Agree,Yes,Yes,Yes,Yes,-,On-line,-,-,On-line,-,Face to Face,-,-,Yes,Yes,Yes,Yes,Yes,Female,56 or older,Contract/casual,Teacher (including LVT),3-4,3-4
6.34251116016226E+017,Central Queensland Institute of TAFE,Non-Delivery (corporate),2010,Resignation,Career Move - Public Sector,-,-,-,-,-,-,-,-,-,-,-,,Neutral,Disagree,Disagree,Strongly Disagree,Disagree,Disagree,Disagree,Agree,Agree,Neutral,Disagree,Disagree,Strongly Disagree,Disagree,Agree,Disagree,Agree,Agree,Agree,Disagree,Disagree,Disagree,Disagree,Agree,Neutral,Strongly Disagree,Neutral,Disagree,Neutral,Disagree,Yes,Yes,Yes,Yes,-,On-line,-,-,On-line,-,Face to Face,-,-,Yes,Yes,Yes,Yes,No,Female,26  30,Permanent Full-time,Administration (AO),7-10,1-2
6.34251290130132E+017,Southern Queensland Institute of TAFE,Non-Delivery (corporate),2010,Resignation,-,Career Move - Private Sector,-,Ill Health,-,Contributing Factors. Dissatisfaction ,Job Dissatisfaction,Interpersonal Conflict,-,-,-,-,Dissatisfaction with %[Institute]Q25LBL%,Neutral,Strongly Disagree,Disagree,Strongly Disagree,Agree,Strongly Disagree,Strongly Disagree,Disagree,Strongly Disagree,Strongly Disagree,Strongly Disagree,Strongly Disagree,Strongly Disagree,Strongly Disagree,Agree,Strongly Agree,Agree,Strongly Agree,Strongly Disagree,Strongly Disagree,Strongly Disagree,Strongly Disagree,Strongly Agree,Strongly Disagree,Strongly Disagree,Strongly Disagree,Strongly Agree,Agree,Strongly Disagree,Strongly Disagree,Yes,Yes,Yes,Yes,-,-,Induction Manual,-,-,Induction Manual,Face to Face,-,-,Yes,No,No,No,No,Female,41  45,Permanent Part-time,Administration (AO),3-4,3-4
6.34257448030289E+017,Central Queensland Institute of TAFE,Non-Delivery (corporate),2010,Resignation,Career Move - Public Sector,-,-,-,-,-,-,-,-,-,-,-,,,,,,,,,,,,,,,,,,,,,,,,,,,,,,,,,,,,,,,,,,,,,,,,,,,,,,,
6.3425975246732E+017,Central Queensland Institute of TAFE,Non-Delivery (corporate),2010,Resignation,-,Career Move - Private Sector,-,-,-,-,-,-,-,-,-,-,,Agree,Agree,Neutral,Agree,Agree,Strongly Agree,Strongly Agree,Strongly Agree,Agree,Neutral,Agree,Neutral,Neutral,Strongly Agree,Strongly Agree,Agree,Agree,Agree,Strongly Agree,Agree,Agree,Agree,Neutral,Agree,Agree,Strongly Agree,Strongly Agree,Disagree,Strongly Agree,Strongly Agree,Yes,Yes,Yes,Yes,-,On-line,-,-,On-line,-,Face to Face,-,-,No,Yes,Yes,Yes,Yes,Female,31  35,Contract/casual,Administration (AO),Less than 1 year,Less than 1 year
6.34260719918915E+017,Southern Queensland Institute of TAFE,Non-Delivery (corporate),2010,Resignation,Career Move - Public Sector,-,-,-,-,-,-,-,-,-,-,-,,Agree,Disagree,Neutral,Strongly Disagree,Disagree,Neutral,Agree,Agree,Agree,Neutral,Neutral,Neutral,Neutral,Strongly Agree,Strongly Agree,Disagree,Agree,Neutral,Agree,Strongly Disagree,Disagree,Disagree,Neutral,Agree,Agree,Strongly Agree,Strongly Agree,Disagree,Strongly Agree,Strongly Agree,Yes,Yes,Yes,Yes,Face to Face,-,-,Face to Face,-,-,Face to Face,-,-,Yes,Yes,Yes,Yes,Yes,Female,41  45,Temporary Full-time,Administration (AO),Less than 1 year,Less than 1 year
6.34263394624001E+017,Southern Queensland Institute of TAFE,Non-Delivery (corporate),,Contract Expired,,,,,,,,,,,,,,,,,,,,,,,,,,,,,,,,,,,,,,,,,,,,,,,,,,,,,,,,,,,,,,,,,,,
6.34266079365634E+017,Southern Queensland Institute of TAFE,Non-Delivery (corporate),2010,Resignation,-,Career Move - Private Sector,-,Ill Health,-,-,-,-,-,-,-,-,,,,,,,,,,,,,,,,,,,,,,,,,,,,,,,,,,,,,,,,,,,,,,,,,,,,,,,
6.34266938733603E+017,Southern Queensland Institute of TAFE,Non-Delivery (corporate),2010,Resignation,Career Move - Public Sector,-,-,-,-,-,-,-,-,-,-,-,,Neutral,Agree,Neutral,Disagree,Disagree,Agree,Neutral,Neutral,Agree,Disagree,Agree,Agree,Agree,Agree,Agree,Agree,Agree,Agree,Agree,Disagree,Disagree,Disagree,Neutral,Agree,Agree,Strongly Agree,Agree,Not Applicable,Agree,Agree,Yes,Yes,Yes,Yes,Face to Face,-,-,Face to Face,-,-,Face to Face,-,-,Yes,Yes,Yes,Yes,Yes,Female,31  35,Permanent Full-time,Administration (AO),11-20,11-20
6.3426772590329E+017,Central Queensland Institute of TAFE,Delivery (teaching),,Resignation,-,Career Move - Private Sector,-,-,-,-,-,-,-,-,-,-,,Neutral,Disagree,Agree,Strongly Agree,Neutral,Agree,Agree,Agree,Disagree,Neutral,Agree,Agree,Agree,Neutral,Agree,Agree,Strongly Agree,Agree,Strongly Agree,Strongly Agree,Strongly Agree,Strongly Agree,Agree,Neutral,Neutral,Agree,Neutral,Agree,Agree,Neutral,Yes,No,Yes,Yes,-,-,-,-,On-line,-,Face to Face,-,-,Yes,Yes,Yes,Yes,Yes,Male,56 or older,Permanent Full-time,Teacher (including LVT),11-20,11-20
6.34267873855009E+017,Sunshine Coast Institute of TAFE,Non-Delivery (corporate),2011,Resignation,-,-,-,-,-,-,-,-,-,-,-,-,,,,,,,,,,,,,,,,,,,,,,,,,,,,,,,,,,,,-,-,-,-,-,-,-,-,-,,,,,,,,,,,
6.34268423021657E+017,Central Queensland Institute of TAFE,Delivery (teaching),2010,Contract Expired,,,,,,,,,,,,,,Strongly Agree,Disagree,,Neutral,Agree,Neutral,Strongly Agree,Strongly Agree,Strongly Agree,Neutral,Agree,Agree,Agree,Agree,Neutral,Strongly Agree,Strongly Agree,Agree,Neutral,Agree,Agree,Agree,Agree,Agree,Agree,Agree,Agree,Agree,Agree,Disagree,Yes,No,Yes,No,-,-,-,-,-,-,-,-,-,,,,,,Male,51-55,Contract/casual,Teacher (including LVT),Less than 1 year,Less than 1 year
6.34268446707283E+017,Sunshine Coast Institute of TAFE,Non-Delivery (corporate),2010,Resignation,-,Career Move - Private Sector,-,-,-,-,Job Dissatisfaction,-,-,-,Other,-,Career Move - Private Sector,Strongly Agree,Disagree,Disagree,Disagree,Neutral,Disagree,Disagree,Neutral,Disagree,Strongly Disagree,Strongly Disagree,Strongly Disagree,Strongly Disagree,Strongly Agree,Strongly Agree,Disagree,Neutral,Disagree,Agree,Strongly Disagree,Strongly Disagree,Strongly Disagree,Strongly Disagree,Agree,Agree,Agree,Strongly Disagree,Strongly Disagree,Strongly Disagree,Strongly Disagree,Yes,Yes,Yes,No,Face to Face,-,-,Face to Face,-,-,-,-,-,No,No,No,No,No,Female,31  35,Temporary Part-time,Administration (AO),Less than 1 year,Less than 1 year
6.34268641051884E+017,Sunshine Coast Institute of TAFE,Non-Delivery (corporate),2011,Resignation,Career Move - Public Sector,-,-,-,-,Contributing Factors. Dissatisfaction ,Job Dissatisfaction,Interpersonal Conflict,-,-,-,-,,,,,,,,,,,,,,,,,,,,,,,,,,,,,,,,,,,,,,,,,,,,,,,,,,,,,,,
6.34269438105095E+017,Brisbane North Institute of TAFE,Non-Delivery (corporate),2010,Resignation,-,-,-,-,-,-,Job Dissatisfaction,-,Study,-,-,-,Study,Neutral,Disagree,Strongly Disagree,Strongly Disagree,Agree,Neutral,Agree,Strongly Agree,Disagree,Agree,Neutral,Neutral,Strongly Agree,Disagree,Strongly Agree,Strongly Disagree,Disagree,Strongly Disagree,Agree,Strongly Disagree,Strongly Disagree,Agree,Strongly Disagree,Agree,Strongly Agree,Disagree,Strongly Agree,Not Applicable,Agree,Agree,Yes,,Yes,,-,-,-,Face to Face,-,-,-,-,-,Yes,Yes,Yes,Yes,Yes,Male,21  25,Contract/casual,Administration (AO),1-2,1-2
6.34272910039626E+017,Brisbane North Institute of TAFE,Non-Delivery (corporate),2010,Retirement,-,-,-,-,-,-,-,-,-,-,-,NONE,,Agree,Agree,,Agree,Neutral,Agree,Agree,Agree,Agree,Agree,Agree,Agree,Agree,Strongly Agree,Strongly Agree,Strongly Agree,Strongly Agree,Strongly Agree,Strongly Agree,Strongly Agree,Strongly Agree,Strongly Agree,Strongly Agree,Agree,Agree,Strongly Agree,Agree,Strongly Agree,Strongly Agree,Agree,Yes,Yes,Yes,Yes,Face to Face,-,-,Face to Face,-,-,Face to Face,-,-,Yes,Yes,Yes,Yes,Yes,Female,56 or older,Permanent Part-time,Administration (AO),11-20,11-20
6.34273756721501E+017,Southbank Institute of Technology,Non-Delivery (corporate),2011,Resignation,Career Move - Public Sector,-,-,-,-,Contributing Factors. Dissatisfaction ,-,-,-,-,-,-,Dissatisfaction with %[Institute]Q25LBL%,Strongly Disagree,Agree,Disagree,Strongly Disagree,Strongly Disagree,Strongly Disagree,Disagree,Strongly Disagree,Strongly Disagree,Strongly Disagree,Strongly Disagree,Strongly Disagree,Strongly Disagree,Disagree,Strongly Agree,Agree,Agree,Agree,Strongly Agree,Neutral,Neutral,Neutral,Neutral,Disagree,Disagree,Disagree,Disagree,Agree,Agree,Strongly Disagree,Yes,No,Yes,No,-,-,-,Face to Face,-,-,-,-,-,No,Yes,Yes,No,No,Female,46  50,Permanent Full-time,Professional Officer (PO),5-6,5-6
6.34274542281501E+017,Sunshine Coast Institute of TAFE,Non-Delivery (corporate),2010,Resignation,-,-,-,Ill Health,-,Contributing Factors. Dissatisfaction ,-,Interpersonal Conflict,-,-,-,-,,,,,,,,,,,,,,,,,,,,,,,,,,,,,,,,,,,,,,,,,,,,,,,,,,,,,,,
6.34274566132353E+017,Sunshine Coast Institute of TAFE,Non-Delivery (corporate),2010,Resignation,-,-,-,Ill Health,-,Contributing Factors. Dissatisfaction ,-,Interpersonal Conflict,-,-,-,-,Dissatisfaction with %[Institute]Q25LBL%,,,,,,,,,,,,,,,,,,,,,,,,,,,,,,,Yes,,,,-,-,-,-,-,-,-,-,-,,,,,,,,,,,
6.34275489048845E+017,Southern Queensland Institute of TAFE,Delivery (teaching),2010,Resignation,-,-,-,-,Maternity/Family,Contributing Factors. Dissatisfaction ,Job Dissatisfaction,Interpersonal Conflict,-,-,-,-,Dissatisfaction with %[Institute]Q25LBL%,Disagree,Disagree,Disagree,Disagree,Strongly Disagree,Strongly Disagree,Disagree,Agree,Strongly Disagree,Strongly Disagree,Strongly Disagree,Strongly Disagree,Strongly Agree,Disagree,Disagree,Strongly Agree,Strongly Agree,Strongly Agree,Strongly Disagree,Agree,Strongly Agree,Agree,Strongly Agree,Agree,Agree,Neutral,Neutral,Strongly Agree,Strongly Disagree,Strongly Disagree,Yes,Yes,No,No,Face to Face,-,-,-,-,-,-,-,-,Yes,Yes,Yes,Yes,No,Female,36  40,Temporary Full-time,Teacher (including LVT),Less than 1 year,Less than 1 year
6.34280719819371E+017,Wide Bay Institute of TAFE,Non-Delivery (corporate),,Resignation,Career Move - Public Sector,-,-,-,-,-,-,-,-,-,-,-,,Agree,Agree,Agree,Neutral,Neutral,Agree,Agree,Agree,Neutral,Neutral,Neutral,Neutral,Neutral,Agree,Agree,Neutral,Agree,Agree,Agree,Agree,Agree,Agree,Neutral,Agree,Neutral,Neutral,Neutral,Agree,Disagree,Neutral,Yes,No,Yes,No,-,-,-,Face to Face,-,-,-,-,-,Yes,Yes,Yes,Yes,Yes,Female,36  40,Permanent Full-time,Administration (AO),11-20,11-20
6.34281400568746E+017,Brisbane North Institute of TAFE,Non-Delivery (corporate),2010,Resignation,-,Career Move - Private Sector,-,-,-,-,-,-,-,-,-,-,,Strongly Agree,Disagree,Disagree,Agree,Neutral,Agree,Agree,Agree,Agree,Neutral,Neutral,Neutral,Neutral,Agree,Agree,Disagree,Neutral,Agree,Agree,Disagree,Disagree,Disagree,Disagree,Agree,Agree,Neutral,Agree,Neutral,Neutral,Neutral,Yes,No,Yes,Yes,-,-,-,Face to Face,-,-,Face to Face,-,-,Yes,Yes,Yes,Yes,Yes,Male,41  45,Permanent Full-time,Professional Officer (PO),3-4,3-4
6.34281450090309E+017,Mount Isa Institute of TAFE,Non-Delivery (corporate),2010,Termination,,,,,,,,,,,,,,Agree,Agree,Agree,Agree,Agree,Strongly Agree,Strongly Agree,Strongly Agree,Strongly Agree,Agree,Not Applicable,Not Applicable,Not Applicable,Strongly Agree,Strongly Agree,Strongly Agree,Strongly Agree,Strongly Agree,Strongly Agree,Strongly Agree,Strongly Agree,Strongly Agree,Strongly Agree,Strongly Agree,Strongly Agree,Agree,Strongly Agree,Agree,Agree,Agree,Yes,No,Yes,Yes,-,-,-,-,-,-,-,-,-,No,Yes,Yes,Yes,Yes,Female,51-55,Temporary Full-time,Administration (AO),1-2,1-2
6.34284989401715E+017,Southbank Institute of Technology,Non-Delivery (corporate),2010,Resignation,-,Career Move - Private Sector,-,-,-,-,-,-,-,-,-,-,,Agree,Neutral,Neutral,Agree,Agree,Agree,Agree,Disagree,Agree,Strongly Disagree,Not Applicable,Not Applicable,Not Applicable,Agree,Agree,Agree,Agree,Agree,Agree,Neutral,Disagree,Disagree,Agree,Neutral,Disagree,Neutral,Agree,Agree,Agree,Disagree,Yes,Yes,No,No,Face to Face,-,-,-,-,-,-,-,-,No,Yes,Yes,Yes,No,Male,36  40,Contract/casual,Executive (SES/SO),Less than 1 year,Less than 1 year
6.34285674608023E+017,Brisbane North Institute of TAFE,Delivery (teaching),2010,Contract Expired,,,,,,,,,,,,,,Neutral,Agree,Agree,Disagree,Disagree,Strongly Disagree,Agree,Neutral,Agree,Disagree,Disagree,Disagree,Disagree,Neutral,Strongly Disagree,Strongly Disagree,Strongly Disagree,Neutral,Disagree,Strongly Disagree,Strongly Disagree,Strongly Disagree,Strongly Disagree,Agree,Agree,Disagree,Agree,Strongly Disagree,Disagree,Strongly Disagree,Yes,,Yes,,-,-,-,Face to Face,-,-,-,-,-,No,Yes,Yes,No,No,Male,41  45,Temporary Full-time,Workplace Training Officer,1-2,1-2
6.34285909851304E+017,Southbank Institute of Technology,Non-Delivery (corporate),2011,Resignation,Career Move - Public Sector,-,-,-,-,-,-,-,-,-,Other,-,Other,Agree,Neutral,Agree,Agree,Agree,Agree,Agree,Agree,Strongly Disagree,Neutral,Strongly Agree,Agree,Strongly Agree,Strongly Agree,Strongly Agree,Strongly Agree,Strongly Agree,Strongly Agree,Agree,Agree,Agree,Agree,Agree,Agree,Strongly Agree,Strongly Agree,Strongly Agree,Agree,Strongly Agree,Strongly Agree,Yes,No,Yes,Yes,-,-,-,Face to Face,-,-,Face to Face,-,-,Yes,Yes,Yes,Yes,Yes,Female,26  30,Temporary Full-time,Administration (AO),Less than 1 year,Less than 1 year
6.34285952710835E+017,Southbank Institute of Technology,Non-Delivery (corporate),2011,Transfer,Career Move - Public Sector,-,-,-,-,-,-,-,-,-,-,-,,,,,,,,,,,,,,,,,,,,,,,,,,,,,,,,,,,,,,,,,,,,,,,,,,,,,,,
6.34286548594429E+017,Sunshine Coast Institute of TAFE,Non-Delivery (corporate),2010,Contract Expired,,,,,,,,,,,,,,,,,,,,,,,,,,,,,,,,,,,,,,,,,,,,,,,,,,,,,,,,,,,,,,,,,,,
6.34286658782965E+017,Southbank Institute of Technology,Non-Delivery (corporate),2011,Contract Expired,,,,,,,,,,,,,,,,,,,,,,,,,,,,,,,,,,,,,,,,,,,,,,,,,,,,,,,,,,,,,,,,,,,
6.34297824199371E+017,Brisbane North Institute of TAFE,Non-Delivery (corporate),,Resignation,-,-,-,-,-,Contributing Factors. Dissatisfaction ,-,-,-,Travel,-,-,,,,,,,,,,,,,,,,,,,,,,,,,,,,,,,,,,,,,,,,,,,,,,,,,,,,,,,
6.34298884567184E+017,Central Queensland Institute of TAFE,Non-Delivery (corporate),2011,Resignation,-,Career Move - Private Sector,-,-,-,-,Job Dissatisfaction,-,-,-,-,-,Job Dissatisfaction,Neutral,Agree,Agree,Agree,Disagree,Disagree,Strongly Agree,Agree,Agree,Disagree,Disagree,Disagree,Disagree,Neutral,Strongly Agree,Neutral,Agree,Agree,Neutral,Disagree,Neutral,Agree,Agree,Disagree,Strongly Agree,Strongly Agree,Strongly Disagree,Disagree,Neutral,Strongly Disagree,Yes,Yes,Yes,No,Face to Face,-,-,Face to Face,-,-,-,-,-,No,Yes,Yes,No,Yes,Female,26  30,Permanent Full-time,Administration (AO),7-10,7-10
6.34304735958746E+017,Sunshine Coast Institute of TAFE,Non-Delivery (corporate),2011,Contract Expired,,,,,,,,,,,,,,Disagree,Strongly Disagree,Strongly Disagree,Strongly Disagree,Strongly Disagree,Disagree,Neutral,Disagree,Disagree,Strongly Disagree,Neutral,Disagree,Neutral,Strongly Disagree,Agree,Neutral,Agree,Agree,Strongly Disagree,Neutral,Neutral,Agree,Agree,Disagree,Neutral,Agree,Agree,Agree,Strongly Disagree,Strongly Disagree,Yes,No,Yes,Yes,-,-,-,Face to Face,-,-,Face to Face,-,-,No,Yes,Yes,Yes,No,Male,21  25,Contract/casual,Technical Officer (TO),Less than 1 year,Less than 1 year
6.34309981362554E+017,Central Queensland Institute of TAFE,Delivery (teaching),2011,Resignation,-,-,-,-,-,-,-,-,-,-,-,NONE,,Agree,Agree,Agree,Agree,Agree,Neutral,Agree,Agree,Agree,Agree,Agree,Agree,Agree,Agree,Agree,Agree,Agree,Agree,Agree,Agree,Agree,Agree,Agree,Neutral,Agree,Agree,Agree,Agree,Agree,Agree,Yes,No,Yes,Yes,-,-,-,Face to Face,-,-,Face to Face,-,-,Yes,Yes,Yes,Yes,Yes,Male,56 or older,Permanent Full-time,Teacher (including LVT),11-20,More than 20 years
6.3431012128271E+017,Southern Queensland Institute of TAFE,Non-Delivery (corporate),2011,Contract Expired,,,,,,,,,,,,,,Agree,Not Applicable,Not Applicable,Not Applicable,Agree,Agree,Strongly Agree,Agree,Agree,Agree,Not Applicable,Not Applicable,Not Applicable,Agree,Agree,Agree,Agree,Agree,Agree,Not Applicable,Not Applicable,Not Applicable,Not Applicable,Agree,Strongly Agree,Strongly Agree,Agree,Not Applicable,Agree,Agree,No,,,,,,,,,,,,,No,Yes,Yes,Yes,Yes,Female,41  45,Temporary Part-time,Administration (AO),Less than 1 year,Less than 1 year
6.34310942921246E+017,Brisbane North Institute of TAFE,Non-Delivery (corporate),2011,Resignation,-,-,-,-,-,-,-,-,-,Travel,-,-,,Neutral,Agree,Neutral,Neutral,Strongly Disagree,Neutral,Neutral,Neutral,Disagree,Neutral,Neutral,Neutral,Neutral,Neutral,Agree,Agree,Agree,Agree,Neutral,Agree,Agree,Agree,Neutral,Neutral,Neutral,Neutral,Neutral,Neutral,Neutral,Neutral,Yes,No,Yes,No,-,-,-,-,On-line,-,-,-,-,No,Yes,Yes,No,Yes,Male,41  45,Temporary Full-time,Operational (OO),11-20,11-20
6.34314358367965E+017,Brisbane North Institute of TAFE,Non-Delivery (corporate),2011,Resignation,-,-,-,-,-,-,-,-,-,-,Other,-,,Strongly Agree,Agree,Agree,Neutral,Agree,Strongly Agree,Strongly Agree,Strongly Agree,Agree,Strongly Agree,Strongly Agree,Strongly Agree,Strongly Agree,Strongly Agree,Strongly Agree,Agree,Agree,Agree,Agree,Agree,Agree,Agree,Agree,Agree,Agree,Agree,Agree,Agree,Agree,Strongly Agree,Yes,Yes,Yes,Yes,Face to Face,-,-,Face to Face,-,-,Face to Face,-,-,Yes,Yes,Yes,Yes,Yes,Female,31  35,Temporary Full-time,Administration (AO),Less than 1 year,Less than 1 year
6.34315046486772E+017,Central Queensland Institute of TAFE,Non-Delivery (corporate),2011,Contract Expired,,,,,,,,,,,,,,Disagree,Agree,Agree,Agree,Agree,Agree,Neutral,Neutral,Agree,Neutral,Neutral,Neutral,Strongly Disagree,Disagree,Strongly Agree,Strongly Agree,Strongly Agree,Strongly Agree,Strongly Agree,Strongly Agree,Strongly Agree,Strongly Agree,Strongly Agree,Strongly Agree,Strongly Agree,Strongly Agree,Strongly Agree,Strongly Agree,Strongly Agree,Disagree,Yes,,Yes,,-,-,-,Face to Face,-,-,-,-,-,Yes,No,No,No,Yes,Female,36  40,Contract/casual,Administration (AO),1-2,Less than 1 year
6.34316886387496E+017,Southern Queensland Institute of TAFE,Delivery (teaching),2011,Resignation,-,Career Move - Private Sector,-,-,Maternity/Family,-,-,-,-,-,-,-,Career Move - Private Sector,Agree,Neutral,Neutral,Disagree,Agree,Agree,Agree,Agree,Agree,Neutral,Neutral,Neutral,Neutral,Neutral,Agree,Agree,Strongly Agree,Agree,Neutral,Neutral,Neutral,Agree,Agree,Disagree,Disagree,Agree,Disagree,Neutral,Neutral,Neutral,Yes,Yes,Yes,Yes,Face to Face,-,-,Face to Face,-,-,Face to Face,-,-,Yes,Yes,,,,Male,46  50,Permanent Full-time,Teacher (including LVT),3-4,3-4
6.34317688380679E+017,Sunshine Coast Institute of TAFE,Non-Delivery (corporate),2011,Resignation,-,Career Move - Private Sector,-,-,-,-,-,-,Study,-,-,-,Career Move - Private Sector,Agree,Neutral,Agree,Agree,Agree,Agree,Agree,Agree,Agree,Agree,Agree,Agree,Agree,Agree,Agree,Agree,Agree,Agree,Agree,Agree,Agree,Agree,Agree,Agree,Agree,Agree,Agree,Agree,Agree,Agree,No,,,,,,,,,,,,,No,Yes,Yes,Yes,Yes,Female,26  30,Permanent Full-time,Administration (AO),3-4,Less than 1 year
6.34317845042866E+017,Brisbane North Institute of TAFE,Non-Delivery (corporate),2011,Transfer,-,-,-,-,Maternity/Family,-,-,-,-,-,-,-,,Strongly Agree,Agree,Strongly Agree,Neutral,Strongly Agree,Strongly Agree,Agree,Agree,Neutral,Strongly Agree,Agree,Neutral,Strongly Agree,Strongly Agree,Strongly Agree,Strongly Agree,Strongly Agree,Strongly Agree,Agree,Strongly Agree,Strongly Agree,Strongly Agree,Strongly Agree,Agree,Disagree,Strongly Agree,Neutral,Agree,Strongly Agree,Strongly Agree,Yes,Yes,Yes,Yes,Face to Face,-,-,,-,-,-,-,-,Yes,Yes,Yes,Yes,Yes,Female,56 or older,Permanent Full-time,Teacher (including LVT),5-6,1-2
6.34322927651559E+017,Southern Queensland Institute of TAFE,Delivery (teaching),2011,Resignation,-,-,-,-,-,-,Job Dissatisfaction,-,-,-,-,-,,Disagree,Agree,Disagree,Neutral,Agree,Neutral,Disagree,Agree,Agree,Disagree,Strongly Disagree,Strongly Disagree,Neutral,Disagree,Strongly Agree,Agree,Agree,Agree,Agree,Strongly Disagree,Strongly Disagree,Strongly Disagree,Disagree,Agree,Agree,Strongly Disagree,Disagree,Neutral,Agree,Agree,Yes,Yes,Yes,Yes,Face to Face,-,-,,-,-,-,-,-,No,No,Yes,No,Yes,Male,51-55,Temporary Full-time,Teacher (including LVT),Less than 1 year,Less than 1 year
6.3432311502146E+017,Southern Queensland Institute of TAFE,Delivery (teaching),2011,Resignation,-,-,-,-,-,-,Job Dissatisfaction,-,-,-,-,-,,Disagree,Agree,Strongly Disagree,Neutral,Agree,Neutral,Disagree,Agree,Agree,Disagree,Strongly Disagree,Strongly Disagree,Neutral,Disagree,Strongly Agree,Agree,Agree,Agree,Agree,Strongly Disagree,Strongly Disagree,Strongly Disagree,Disagree,Agree,Agree,Strongly Disagree,Disagree,Neutral,Agree,Agree,Yes,Yes,Yes,Yes,Face to Face,-,-,,-,-,-,-,-,No,No,Yes,No,Yes,Male,51-55,Temporary Full-time,Teacher (including LVT),Less than 1 year,Less than 1 year
6.34323709021402E+017,Southern Queensland Institute of TAFE,Delivery (teaching),2011,Resignation,-,-,-,-,-,-,Job Dissatisfaction,-,-,-,-,-,,Disagree,Agree,Strongly Disagree,Neutral,Agree,Neutral,Disagree,Agree,Agree,Disagree,Strongly Disagree,Strongly Disagree,Neutral,Disagree,Strongly Agree,Agree,Agree,Agree,Agree,Strongly Disagree,Strongly Disagree,Strongly Disagree,Disagree,Agree,Agree,Strongly Disagree,Disagree,Neutral,Agree,Agree,Yes,Yes,Yes,Yes,Face to Face,-,-,,-,-,-,-,-,No,No,Yes,No,Yes,Male,51-55,Temporary Full-time,Teacher (including LVT),Less than 1 year,Less than 1 year
6.34323732465523E+017,Southern Queensland Institute of TAFE,Delivery (teaching),2011,Termination,,,,,,,,,,,,,,Strongly Agree,Agree,Neutral,Disagree,Strongly Disagree,Not Applicable,Strongly Agree,Agree,Neutral,Disagree,Strongly Disagree,Not Applicable,,Strongly Agree,Agree,Neutral,Disagree,Strongly Disagree,Not Applicable,Strongly Agree,Agree,Neutral,Disagree,Strongly Disagree,Not Applicable,Strongly Agree,Agree,Disagree,,Strongly Disagree,Yes,Yes,Yes,Yes,Face to Face,On-line,Induction Manual,,On-line,,-,-,-,Yes,Yes,Yes,Yes,Yes,Female,46  50,Permanent Full-time,Administration (AO),7-10,7-10
6.34323806434371E+017,Brisbane North Institute of TAFE,Non-Delivery (corporate),2011,Resignation,-,Career Move - Private Sector,-,-,-,-,-,-,-,-,-,-,,Agree,Agree,Agree,Disagree,Agree,Agree,Agree,Disagree,Strongly Disagree,Disagree,Neutral,Neutral,Agree,Strongly Agree,Strongly Agree,Agree,Agree,Agree,Agree,Agree,Agree,Agree,Agree,Agree,Agree,Strongly Agree,Agree,Agree,Strongly Agree,Agree,Yes,No,Yes,Yes,-,-,-,,-,-,-,-,-,Yes,Yes,Yes,Yes,Yes,Female,46  50,Contract/casual,Administration (AO),3-4,3-4
6.34326352243491E+017,Southbank Institute of Technology,Non-Delivery (corporate),2011,Resignation,-,Career Move - Private Sector,-,-,-,-,-,-,-,-,Other,-,Other,Agree,Agree,Agree,Agree,Agree,Neutral,Agree,Agree,Agree,Agree,Agree,Agree,Agree,Agree,Agree,Agree,Agree,Agree,Agree,Neutral,Neutral,Neutral,Agree,Agree,Agree,Agree,Agree,Agree,Agree,Agree,Yes,No,Yes,Yes,-,-,-,,-,-,-,-,-,Yes,Yes,Yes,Yes,Yes,Female,21  25,Temporary Full-time,Administration (AO),1-2,1-2
6.3432637818396E+017,Southbank Institute of Technology,Non-Delivery (corporate),2011,Resignation,-,-,-,-,Maternity/Family,-,-,-,-,-,-,-,,,,,,,,,,,,,,,,,,,,,,,,,,,,,,,,,,,,-,-,-,-,-,-,-,-,-,,,,,,,,,,,
6.3432645414859E+017,Southern Queensland Institute of TAFE,Non-Delivery (corporate),2011,Resignation,-,-,-,Ill Health,-,-,-,-,-,-,Other,-,Ill Health,Strongly Agree,Strongly Agree,Strongly Agree,Strongly Agree,Strongly Agree,Strongly Agree,Strongly Agree,Strongly Agree,Strongly Agree,Strongly Agree,Strongly Agree,Strongly Agree,Strongly Agree,Strongly Agree,Strongly Agree,Strongly Agree,Strongly Agree,Strongly Agree,Strongly Agree,Strongly Agree,Strongly Agree,Strongly Agree,Strongly Agree,,Strongly Agree,Strongly Agree,Strongly Agree,Strongly Agree,Strongly Agree,Strongly Agree,Yes,Yes,Yes,Yes,Face to Face,-,-,,-,-,-,-,-,Yes,Yes,Yes,Yes,Yes,Female,41  45,Temporary Part-time,Operational (OO),1-2,1-2
6.34328087765991E+017,Southern Queensland Institute of TAFE,Non-Delivery (corporate),2011,Resignation,-,-,-,Ill Health,-,-,-,-,-,-,-,-,,Agree,Strongly Agree,Strongly Agree,Strongly Agree,Strongly Agree,Strongly Agree,Strongly Agree,Not Applicable,Strongly Agree,Not Applicable,Strongly Agree,Strongly Agree,Not Applicable,Strongly Agree,Strongly Agree,Not Applicable,Strongly Agree,Strongly Agree,Strongly Agree,Strongly Agree,Strongly Agree,Strongly Agree,Not Applicable,Not Applicable,Neutral,Strongly Agree,Strongly Agree,Not Applicable,Strongly Agree,Not Applicable,Yes,Yes,Yes,Yes,-,On-line,-,,-,-,-,-,-,No,Yes,Yes,Yes,Yes,Female,51-55,Temporary Part-time,Operational (OO),Less than 1 year,Less than 1 year
6.34328171329844E+017,Brisbane North Institute of TAFE,Non-Delivery (corporate),2011,Resignation,-,-,-,-,-,-,-,-,Study,-,-,-,,Neutral,Disagree,Disagree,Disagree,Agree,Disagree,Disagree,Disagree,Strongly Disagree,Disagree,Disagree,Disagree,Neutral,Strongly Agree,Strongly Agree,Strongly Agree,Agree,Agree,Agree,Disagree,Disagree,Agree,Agree,Agree,Disagree,Agree,Agree,Disagree,Agree,Agree,Yes,No,Yes,Yes,-,-,-,,-,-,-,-,-,Yes,Yes,Yes,Yes,Yes,Female,36  40,Temporary Full-time,Administration (AO),3-4,3-4
6.34328202850835E+017,Brisbane North Institute of TAFE,Delivery (teaching),2011,Resignation,-,-,-,-,-,Contributing Factors. Dissatisfaction ,Job Dissatisfaction,-,-,-,-,-,Dissatisfaction with %[Institute]Q25LBL%,Strongly Disagree,Agree,Strongly Disagree,Strongly Disagree,Disagree,Strongly Disagree,Strongly Disagree,Strongly Disagree,Strongly Disagree,Strongly Disagree,Strongly Disagree,Strongly Disagree,Strongly Disagree,Strongly Disagree,Agree,Agree,Strongly Disagree,Neutral,Agree,Disagree,Disagree,Disagree,Agree,Agree,Strongly Disagree,Strongly Disagree,Neutral,Strongly Disagree,Agree,Strongly Disagree,Yes,No,Yes,Yes,-,-,-,,-,-,-,-,-,Yes,No,No,No,No,Female,51-55,Temporary Full-time,Teacher (including LVT),3-4,3-4
6.3432828844021E+017,Brisbane North Institute of TAFE,Delivery (teaching),,Resignation,-,-,-,-,-,Contributing Factors. Dissatisfaction ,-,-,-,-,-,-,,,,,,,,,,,,,,,,,,,,,,,,,,,,,,,,,,,,,,,,,,,,,,,,,,,,,,,
6.34329804601719E+017,Southern Queensland Institute of TAFE,Delivery (teaching),2011,Resignation,-,Career Move - Private Sector,-,-,-,-,-,-,-,-,-,-,,Strongly Agree,Agree,Strongly Agree,Strongly Agree,Strongly Agree,Strongly Agree,Strongly Agree,Agree,Neutral,Strongly Agree,Strongly Agree,Strongly Agree,Strongly Agree,Strongly Agree,Strongly Agree,Strongly Agree,Strongly Agree,Strongly Agree,Strongly Agree,Strongly Agree,Strongly Agree,Strongly Agree,Strongly Agree,Strongly Agree,Strongly Agree,Strongly Agree,Strongly Agree,Strongly Agree,Strongly Agree,Strongly Agree,Yes,Yes,Yes,Yes,Face to Face,-,-,,-,-,-,-,-,Yes,Yes,Yes,Yes,Yes,Male,46  50,Permanent Full-time,Teacher (including LVT),5-6,Less than 1 year
6.34329959592554E+017,Brisbane North Institute of TAFE,Non-Delivery (corporate),2011,Resignation,-,-,-,-,-,-,-,-,Study,-,-,-,,Disagree,Agree,Neutral,Disagree,Neutral,Agree,Agree,Agree,Agree,Neutral,Agree,Agree,Agree,Agree,Strongly Agree,Strongly Agree,Agree,Agree,Agree,Agree,Agree,Agree,Disagree,Agree,Agree,Agree,Agree,Agree,Agree,Agree,Yes,No,Yes,Yes,-,-,-,,-,-,-,-,-,Yes,Yes,Yes,Yes,Yes,Male,21  25,Permanent Full-time,Administration (AO),3-4,3-4
6.34333279253906E+017,Southbank Institute of Technology,Non-Delivery (corporate),2011,Resignation,-,Career Move - Private Sector,-,-,-,-,-,-,-,-,-,-,,Neutral,Neutral,Neutral,Neutral,Agree,Disagree,Neutral,,,,,,,,,,,,,,,,,,,,,,,,,,,,,,,,,,,,,,,,,,,,,,,
6.34333408714687E+017,Southbank Institute of Technology,Non-Delivery (corporate),2011,Transfer,Career Move - Public Sector,-,-,-,-,-,-,-,-,-,-,-,,Disagree,Agree,Agree,Disagree,Disagree,Disagree,Disagree,Disagree,Disagree,Disagree,Neutral,Neutral,Neutral,Agree,Agree,Agree,Disagree,Disagree,Agree,Agree,Agree,Agree,Agree,Agree,Agree,Disagree,Agree,Agree,Agree,Neutral,Yes,Yes,Yes,Yes,Face to Face,-,-,,-,-,-,-,-,Yes,Yes,Yes,Yes,Yes,Female,51-55,Permanent Full-time,Professional Officer (PO),11-20,11-20
6.34335805202554E+017,Metropolitan South Institute of TAFE,Non-Delivery (corporate),2011,Contract Expired,,,,,,,,,,,,,,,,,,,,,,Strongly Agree,,,,,,,,,,,,Strongly Disagree,,,Strongly Agree,,,,,,,No,,,,,,,,,,,,,Yes,Yes,Yes,Yes,Yes,Female,41  45,Temporary Full-time,Teacher (including LVT),3-4,5-6
6.34340388349585E+017,Central Queensland Institute of TAFE,Non-Delivery (corporate),2011,Retirement,-,-,-,Ill Health,-,-,-,Interpersonal Conflict,-,-,-,-,Interpersonal Conflict,Neutral,Neutral,Agree,Neutral,Agree,Neutral,Neutral,Agree,Agree,Disagree,Neutral,Disagree,Neutral,Neutral,Agree,Agree,Agree,Agree,Neutral,Agree,Agree,Agree,Agree,Disagree,Neutral,Neutral,Agree,Agree,Agree,Agree,Yes,Yes,Yes,Yes,-,On-line,-,,-,-,-,-,-,Yes,Yes,Yes,Yes,Yes,Female,51-55,Permanent Full-time,Administration (AO),More than 20 years,More than 20 years
6.34340978789585E+017,Southbank Institute of Technology,Non-Delivery (corporate),2011,Contract Expired,,,,,,,,,,,,,,Agree,Agree,Neutral,Neutral,Disagree,Agree,Agree,Agree,Agree,Disagree,Agree,Agree,Agree,Neutral,Neutral,Neutral,Agree,Agree,Neutral,Strongly Disagree,Strongly Disagree,Strongly Disagree,Neutral,Strongly Agree,Strongly Disagree,Disagree,Strongly Disagree,Strongly Disagree,Neutral,Strongly Disagree,Yes,Yes,Yes,Yes,-,-,Induction Manual,,-,-,-,-,-,No,Yes,Yes,Yes,Yes,Female,31  35,Contract/casual,Administration (AO),Less than 1 year,Less than 1 year
6.34344511160937E+017,Brisbane North Institute of TAFE,Delivery (teaching),2011,Retirement,-,-,-,-,-,Contributing Factors. Dissatisfaction ,-,-,-,-,-,-,,Neutral,,Strongly Disagree,Neutral,Neutral,Disagree,Disagree,Strongly Disagree,Neutral,Strongly Disagree,Neutral,Neutral,Neutral,Disagree,Agree,Disagree,Strongly Disagree,Neutral,Neutral,Disagree,Disagree,Disagree,Neutral,Neutral,Neutral,Disagree,Disagree,Disagree,Disagree,Strongly Disagree,Yes,Yes,Yes,Yes,Face to Face,-,-,,-,-,-,-,-,No,Yes,Yes,No,No,Male,56 or older,Permanent Full-time,Teacher (including LVT),More than 20 years,More than 20 years
6.34345415831406E+017,Southbank Institute of Technology,Delivery (teaching),2011,Transfer,Career Move - Public Sector,-,-,-,-,Contributing Factors. Dissatisfaction ,-,Interpersonal Conflict,-,-,-,-,Dissatisfaction with %[Institute]Q25LBL%,,,,,,,,,,,,,,,,,,,,,,,,,,,,,,,,,,,,,,,,,,,,,,,,,,,,,,
6.34346271723281E+017,Sunshine Coast Institute of TAFE,Non-Delivery (corporate),2011,Resignation,-,-,Career Move - Self-employment,-,-,-,-,-,-,-,-,-,,Neutral,Disagree,Disagree,Neutral,Disagree,Neutral,Neutral,Neutral,Disagree,Disagree,Disagree,Disagree,Strongly Disagree,Disagree,Agree,Disagree,Agree,Agree,Agree,Disagree,Disagree,Disagree,Disagree,Agree,Agree,Agree,Agree,Agree,Disagree,Disagree,Yes,No,Yes,Yes,-,-,-,Face to Face,-,-,-,-,-,No,Yes,Yes,Yes,Yes,Male,31  35,Temporary Full-time,Administration (AO),1-2,Less than 1 year
6.34346401168125E+017,Brisbane North Institute of TAFE,Non-Delivery (corporate),2011,Contract Expired,,,,,,,,,,,,,,Strongly Agree,Agree,Agree,Agree,Neutral,Agree,Strongly Agree,Strongly Agree,Agree,Agree,Agree,Agree,Agree,Agree,Agree,Agree,Agree,Agree,Agree,Agree,Agree,Agree,Agree,Agree,Agree,Agree,Agree,Agree,Agree,Agree,Yes,No,Yes,No,-,-,-,Face to Face,-,-,-,-,-,No,Yes,Yes,Yes,Yes,Male,31  35,Temporary Full-time,Professional Officer (PO),Less than 1 year,Less than 1 year
6.34352308949688E+017,Southern Queensland Institute of TAFE,Delivery (teaching),2011,Retirement,-,-,Career Move - Self-employment,-,-,-,-,-,-,-,-,-,,Agree,Neutral,Agree,Agree,Agree,Agree,Agree,Agree,Agree,Neutral,Agree,Agree,Agree,Agree,Agree,Agree,Agree,Agree,Agree,Agree,Agree,Agree,Agree,Agree,Neutral,Agree,Neutral,Disagree,Agree,Agree,Yes,No,Yes,Yes,-,-,-,Face to Face,-,-,Face to Face,-,-,Yes,Yes,Yes,Yes,Yes,Male,56 or older,Permanent Full-time,Teacher (including LVT),More than 20 years,More than 20 years
6.34353285189063E+017,Sunshine Coast Institute of TAFE,Non-Delivery (corporate),2011,Resignation,-,Career Move - Private Sector,Career Move - Self-employment,-,-,-,-,-,Study,Travel,-,-,Career Move - Private Sector,Neutral,Agree,Agree,Agree,Agree,Neutral,Agree,Agree,Neutral,Disagree,Agree,Agree,Agree,Agree,Agree,Neutral,Agree,Agree,Agree,Strongly Disagree,Strongly Disagree,Strongly Disagree,Neutral,Agree,Agree,Agree,Neutral,Disagree,Neutral,Neutral,Yes,Yes,Yes,Yes,Face to Face,-,-,Face to Face,-,-,Face to Face,-,-,Yes,Yes,Yes,Yes,Yes,Female,26  30,Temporary Full-time,Administration (AO),Less than 1 year,Less than 1 year
6.34356555160312E+017,Central Queensland Institute of TAFE,Delivery (teaching),2011,Resignation,-,-,-,-,-,-,-,-,-,-,Other,-,,Neutral,Strongly Agree,Strongly Agree,Strongly Agree,Neutral,Agree,Strongly Agree,Strongly Agree,Strongly Agree,Neutral,Neutral,Neutral,Neutral,Agree,Neutral,Neutral,Agree,Agree,Agree,Neutral,Neutral,Neutral,Neutral,Agree,Neutral,Neutral,Strongly Agree,Strongly Agree,Neutral,Neutral,Yes,No,Yes,Yes,-,-,-,-,-,-,-,-,-,Yes,Yes,Yes,Yes,Yes,Female,51-55,Permanent Full-time,Teacher (including LVT),Less than 1 year,11-20
6.34356560392188E+017,Central Queensland Institute of TAFE,Delivery (teaching),2011,Resignation,-,Career Move - Private Sector,-,-,-,-,-,-,-,-,-,-,,Neutral,Agree,Agree,Neutral,Agree,Agree,Neutral,Agree,Agree,Neutral,Agree,Neutral,Agree,Agree,Agree,Agree,Agree,Strongly Agree,Strongly Agree,Strongly Agree,Strongly Agree,Strongly Agree,Strongly Agree,Neutral,Agree,Agree,Strongly Agree,Strongly Agree,Agree,Neutral,Yes,No,Yes,Yes,-,-,-,-,-,-,-,-,-,Yes,Yes,Yes,Yes,Yes,Female,36  40,Permanent Part-time,Teacher (including LVT),3-4,3-4
6.34356641434062E+017,Brisbane North Institute of TAFE,Delivery (teaching),2011,Resignation,-,-,-,-,-,-,-,-,-,-,Other,-,,Strongly Agree,Strongly Agree,Strongly Agree,,Strongly Agree,,Strongly Agree,Strongly Agree,,Strongly Agree,Strongly Agree,Strongly Agree,Strongly Agree,Strongly Agree,Strongly Agree,Strongly Agree,Strongly Agree,Strongly Agree,Strongly Agree,Strongly Agree,Strongly Agree,Strongly Agree,Strongly Agree,Disagree,Disagree,Strongly Agree,Strongly Agree,,Strongly Agree,Strongly Agree,Yes,,Yes,Yes,-,-,-,-,-,-,-,-,-,No,Yes,,,Yes,Male,56 or older,Contract/casual,Workplace Training Officer,Less than 1 year,Less than 1 year
6.34356731460781E+017,Southern Queensland Institute of TAFE,Non-Delivery (corporate),2011,Resignation,-,Career Move - Private Sector,-,-,-,-,-,-,-,-,-,-,,Strongly Agree,Agree,Agree,Disagree,Neutral,Agree,Strongly Agree,Strongly Agree,Strongly Agree,Strongly Agree,Strongly Agree,Strongly Agree,Strongly Agree,Strongly Agree,Strongly Agree,Agree,Agree,Strongly Agree,Strongly Agree,Agree,Agree,Agree,Agree,Strongly Agree,Strongly Agree,Strongly Agree,Strongly Agree,Agree,Strongly Agree,Strongly Agree,Yes,Yes,Yes,Yes,-,-,-,-,-,-,-,-,-,Yes,,Yes,Yes,Yes,Female,21  25,Temporary Part-time,Administration (AO),Less than 1 year,Less than 1 year
6.34358247777344E+017,Brisbane North Institute of TAFE,Non-Delivery (corporate),2011,Resignation,Career Move - Public Sector,-,-,-,-,-,-,-,-,-,-,-,,Strongly Agree,Strongly Agree,Strongly Agree,Strongly Agree,Strongly Agree,Strongly Agree,Strongly Agree,Strongly Agree,Strongly Agree,Strongly Agree,Strongly Agree,Strongly Agree,Strongly Agree,Strongly Agree,Strongly Agree,Strongly Agree,Strongly Agree,Strongly Agree,Agree,Agree,Agree,Strongly Agree,Strongly Agree,Strongly Agree,Agree,Strongly Agree,Strongly Agree,Agree,Neutral,Agree,Yes,,Yes,,-,-,-,Face to Face,-,-,-,-,-,Yes,Yes,Yes,Yes,Yes,Male,20 or younger,Temporary Full-time,Administration (AO),Less than 1 year,Less than 1 year
6.34358414389688E+017,Barrier Reef Institute of TAFE,Non-Delivery (corporate),2011,Contract Expired,,,,,,,,,,,,,,Neutral,Agree,Neutral,Agree,Disagree,Neutral,Agree,Agree,Disagree,Strongly Disagree,Neutral,Neutral,Neutral,Agree,Strongly Agree,Strongly Agree,Strongly Agree,Strongly Agree,Agree,Strongly Agree,Strongly Agree,Strongly Agree,Agree,Strongly Agree,Strongly Agree,Strongly Agree,Strongly Agree,Strongly Agree,Neutral,Strongly Disagree,Yes,No,Yes,No,-,-,-,Face to Face,-,-,-,-,-,No,Yes,Yes,Yes,Yes,Female,51-55,Temporary Full-time,Administration (AO),Less than 1 year,Less than 1 year
6.34358731384062E+017,Sunshine Coast Institute of TAFE,Delivery (teaching),2011,Retirement,-,-,-,-,-,Contributing Factors. Dissatisfaction ,-,-,-,-,-,-,,Strongly Disagree,Neutral,Strongly Disagree,Strongly Disagree,Agree,Strongly Disagree,Disagree,Disagree,Strongly Disagree,Disagree,Disagree,Disagree,Strongly Disagree,Strongly Disagree,Strongly Agree,Strongly Agree,Strongly Disagree,Agree,Agree,Disagree,Disagree,Disagree,Neutral,Strongly Disagree,Strongly Disagree,Neutral,Agree,Strongly Disagree,Strongly Disagree,Strongly Disagree,Yes,No,No,No,-,-,-,-,-,-,-,-,-,No,Yes,Yes,No,No,Male,56 or older,Permanent Full-time,Teacher (including LVT),11-20,11-20
6.34359251421562E+017,Sunshine Coast Institute of TAFE,Non-Delivery (corporate),2011,Retirement,-,-,-,-,-,-,-,-,-,-,-,NONE,,,,,,,,,,,,,,,,,,,,,,,,,,,,,,,,,,,,,,,,,,,,,,,,,,,,,,,
6.34360008438438E+017,Southern Queensland Institute of TAFE,Delivery (teaching),2011,Retirement,-,-,Career Move - Self-employment,-,-,-,Job Dissatisfaction,-,-,-,-,-,Career Move - Self-employment,Strongly Disagree,Agree,Agree,Agree,Agree,Disagree,Agree,Agree,Neutral,Neutral,Agree,Neutral,Neutral,Disagree,Strongly Agree,Agree,Agree,Agree,Agree,Disagree,Disagree,Agree,Agree,Neutral,Agree,Neutral,Agree,Disagree,Strongly Agree,Agree,Yes,Yes,Yes,Yes,-,-,-,-,-,-,-,-,-,Yes,Yes,Yes,Yes,Yes,Male,56 or older,Permanent Full-time,Teacher (including LVT),More than 20 years,More than 20 years
6.34362639709063E+017,Sunshine Coast Institute of TAFE,Non-Delivery (corporate),2011,Retirement,-,-,-,Ill Health,Maternity/Family,-,-,-,-,-,-,-,Maternity/Family,Agree,Agree,Agree,Agree,Agree,Agree,Agree,Neutral,Disagree,,Agree,Agree,Agree,Agree,Strongly Agree,Strongly Agree,Agree,Strongly Agree,Strongly Agree,Strongly Agree,Strongly Agree,Strongly Agree,Strongly Agree,Agree,Agree,Agree,Strongly Agree,Strongly Agree,Agree,Agree,Yes,,Yes,Yes,-,-,-,Face to Face,-,Induction Manual,Face to Face,-,Induction Manual,Yes,Yes,Yes,Yes,Yes,Female,56 or older,Permanent Full-time,Administration (AO),7-10,3-4
6.34365142728281E+017,Brisbane North Institute of TAFE,Non-Delivery (corporate),2011,Resignation,Career Move - Public Sector,-,-,-,-,Contributing Factors. Dissatisfaction ,-,-,-,Travel,-,-,Travel,Neutral,Agree,Strongly Agree,Strongly Disagree,Agree,Neutral,Neutral,Disagree,Strongly Disagree,Neutral,Strongly Disagree,Strongly Disagree,Strongly Disagree,Agree,Strongly Agree,Agree,Disagree,Agree,Strongly Agree,Strongly Disagree,Strongly Disagree,Disagree,Neutral,Agree,Strongly Disagree,Neutral,Neutral,Disagree,Strongly Agree,Neutral,Yes,No,Yes,No,-,-,-,Face to Face,-,-,-,-,-,Yes,Yes,No,No,No,Female,21  25,Contract/casual,Technical Officer (TO),Less than 1 year,Less than 1 year
6.3436545961125E+017,Sunshine Coast Institute of TAFE,Delivery (teaching),2011,Resignation,-,-,-,-,-,-,-,-,-,-,Other,-,,Agree,Agree,Agree,Neutral,Disagree,Disagree,Agree,Agree,Agree,Agree,Agree,Agree,Agree,Neutral,Agree,Neutral,Agree,Agree,Neutral,Neutral,Agree,Agree,Neutral,Strongly Disagree,Strongly Disagree,Strongly Agree,Disagree,Agree,Agree,Agree,Yes,Yes,Yes,Yes,Face to Face,-,-,Face to Face,-,-,-,-,Induction Manual,Yes,Yes,Yes,Yes,Yes,Female,41  45,Temporary Part-time,Teacher (including LVT),Less than 1 year,Less than 1 year
6.34366032016094E+017,Central Queensland Institute of TAFE,Non-Delivery (corporate),2011,Resignation,-,-,-,-,-,-,-,-,-,-,Other,-,,Neutral,Neutral,Agree,Neutral,Agree,Neutral,Agree,Agree,Agree,Agree,Not Applicable,Not Applicable,Not Applicable,Agree,Strongly Agree,Agree,Strongly Agree,Strongly Agree,Strongly Agree,Agree,Agree,Agree,Agree,Agree,Strongly Agree,Strongly Agree,Strongly Agree,Agree,Strongly Agree,Strongly Agree,Yes,Yes,Yes,Yes,-,On-line,-,-,On-line,-,-,-,-,Yes,Yes,Yes,Yes,Yes,Female,20 or younger,Temporary Full-time,Administration (AO),Less than 1 year,Less than 1 year
6.34366171489688E+017,Central Queensland Institute of TAFE,Non-Delivery (corporate),2011,Contract Expired,,,,,,,,,,,,,,Neutral,Agree,Neutral,Strongly Disagree,Strongly Agree,Neutral,Neutral,Neutral,Neutral,Neutral,Agree,Agree,Strongly Disagree,Disagree,Agree,Strongly Agree,Strongly Agree,Strongly Agree,Agree,Strongly Agree,Strongly Agree,Strongly Agree,Strongly Agree,Strongly Agree,Strongly Agree,Strongly Agree,Strongly Agree,Agree,Disagree,Neutral,No,,Yes,,-,-,-,-,-,-,-,-,-,No,Yes,Yes,Yes,Yes,Female,21  25,Contract/casual,Administration (AO),1-2,Less than 1 year
6.34370412543594E+017,Sunshine Coast Institute of TAFE,Non-Delivery (corporate),2011,Contract Expired,,,,,,,,,,,,,,Agree,Disagree,Disagree,Disagree,Strongly Agree,Agree,Neutral,Neutral,Disagree,Disagree,Agree,Strongly Disagree,Strongly Disagree,Disagree,Agree,Agree,Neutral,Disagree,Agree,Disagree,Disagree,Disagree,Neutral,Agree,Agree,Agree,Strongly Disagree,Neutral,Disagree,Disagree,Yes,No,Yes,No,-,-,-,Face to Face,-,-,-,-,-,Yes,Yes,No,Yes,Yes,Female,41  45,Temporary Full-time,Administration (AO),Less than 1 year,Less than 1 year
6.34370483668125E+017,Southern Queensland Institute of TAFE,Delivery (teaching),2011,Resignation,-,-,-,-,-,Contributing Factors. Dissatisfaction ,Job Dissatisfaction,Interpersonal Conflict,-,-,-,-,Interpersonal Conflict,Disagree,Agree,Neutral,Neutral,Agree,Strongly Disagree,Strongly Disagree,Strongly Disagree,Strongly Disagree,Strongly Disagree,Strongly Disagree,Strongly Disagree,Agree,Disagree,Agree,Agree,Strongly Disagree,Agree,Agree,Strongly Disagree,Strongly Disagree,Strongly Disagree,Agree,Agree,Agree,Strongly Disagree,Agree,Strongly Disagree,Agree,Disagree,Yes,Yes,Yes,Yes,Face to Face,-,-,Face to Face,-,-,Face to Face,-,-,Yes,No,Yes,No,No,Female,51-55,Permanent Part-time,Teacher (including LVT),More than 20 years,11-20
6.34370606168281E+017,Southern Queensland Institute of TAFE,Delivery (teaching),2011,Contract Expired,,,,,,,,,,,,,,Strongly Disagree,Strongly Disagree,Strongly Disagree,Strongly Disagree,Strongly Disagree,Strongly Disagree,Strongly Disagree,Strongly Disagree,Disagree,Strongly Disagree,Strongly Disagree,Strongly Disagree,Strongly Agree,Strongly Disagree,Agree,Agree,Agree,Strongly Disagree,Strongly Disagree,Agree,Agree,Agree,Agree,Strongly Disagree,Strongly Disagree,Strongly Disagree,Agree,Strongly Disagree,Strongly Disagree,Strongly Disagree,No,,,,,,,,,,,,,No,No,No,No,No,Female,51-55,Contract/casual,Teacher (including LVT),11-20,Less than 1 year
6.34372114428281E+017,Brisbane North Institute of TAFE,Non-Delivery (corporate),2011,Retirement,-,-,-,-,-,Contributing Factors. Dissatisfaction ,Job Dissatisfaction,-,-,-,-,-,Dissatisfaction with %[Institute]Q25LBL%,Disagree,Agree,Agree,Disagree,Disagree,Neutral,Disagree,Disagree,Disagree,Disagree,Neutral,Neutral,Agree,Strongly Agree,Strongly Agree,Strongly Agree,Strongly Agree,Strongly Agree,Strongly Agree,Strongly Agree,Strongly Agree,Strongly Agree,Strongly Agree,Agree,Agree,Strongly Agree,Agree,Agree,Strongly Agree,Strongly Agree,Yes,Yes,Yes,Yes,Face to Face,-,-,Face to Face,-,-,Face to Face,-,-,Yes,Yes,Yes,Yes,No,Male,56 or older,Permanent Full-time,Administration (AO),11-20,11-20
6.34376433396563E+017,Central Queensland Institute of TAFE,Non-Delivery (corporate),2011,Resignation,Career Move - Public Sector,-,-,-,-,-,-,-,-,-,-,-,,Agree,Agree,Agree,Neutral,Agree,Neutral,Agree,Neutral,Agree,Agree,Agree,Agree,Agree,Agree,Agree,Agree,Agree,Agree,Agree,Agree,Agree,Agree,Agree,Agree,Strongly Agree,Strongly Agree,Agree,Not Applicable,Agree,Agree,Yes,Yes,Yes,Yes,-,On-line,-,Face to Face,-,-,Face to Face,-,-,No,Yes,Yes,Yes,Yes,Female,41  45,Contract/casual,Technical Officer (TO),5-6,5-6
6.34377507269688E+017,Southern Queensland Institute of TAFE,Delivery (teaching),2011,Resignation,-,-,-,-,-,-,-,-,-,-,Other,-,,,,Not Applicable,Not Applicable,Agree,Strongly Agree,Strongly Agree,Strongly Agree,Agree,Agree,Strongly Agree,Not Applicable,Not Applicable,Strongly Agree,Strongly Agree,Agree,Agree,Agree,,Agree,,Strongly Agree,Agree,Strongly Disagree,Strongly Disagree,Strongly Agree,Neutral,Not Applicable,Strongly Agree,Strongly Agree,Yes,Yes,Yes,Yes,-,On-line,-,-,On-line,-,Face to Face,-,-,No,Yes,Yes,Yes,,Female,51-55,Temporary Part-time,Teacher (including LVT),Less than 1 year,Less than 1 year
6.34381134640312E+017,Tropical North Institute of TAFE,Non-Delivery (corporate),2011,Resignation,-,-,-,-,-,Contributing Factors. Dissatisfaction ,Job Dissatisfaction,-,-,-,-,-,Job Dissatisfaction,Agree,,,,,,,,,,,,,,,,,,,,,,,,,,,,,,,,,,,,,,,,,,,,,,,,,,,,,
6.34383335357969E+017,Central Queensland Institute of TAFE,Delivery (teaching),2011,Retirement,-,-,-,-,-,-,-,-,-,Travel,-,-,,Agree,Agree,Agree,Agree,Agree,Agree,Agree,Agree,Agree,Agree,Strongly Agree,Strongly Agree,Strongly Agree,Strongly Agree,Agree,Agree,Agree,Agree,Agree,Agree,Agree,Agree,Strongly Agree,Agree,Agree,Agree,Agree,Strongly Agree,Agree,Agree,Yes,No,No,No,-,-,-,-,-,-,-,-,-,No,Yes,Yes,Yes,Yes,Male,56 or older,Permanent Full-time,Teacher (including LVT),1-2,1-2
6.34388595410156E+017,Southbank Institute of Technology,Non-Delivery (corporate),2011,Contract Expired,,,,,,,,,,,,,,Neutral,Neutral,Agree,Agree,Agree,Agree,Agree,Agree,Disagree,Neutral,Agree,Agree,Agree,Agree,Agree,Agree,Agree,Agree,Agree,Agree,Agree,Agree,Agree,Agree,Agree,Agree,Agree,Agree,Agree,Agree,Yes,,Yes,,-,-,-,Face to Face,-,-,-,-,-,Yes,Yes,Yes,Yes,Yes,Female,36  40,Permanent Full-time,Administration (AO),Less than 1 year,Less than 1 year
6.34388661685E+017,Sunshine Coast Institute of TAFE,Non-Delivery (corporate),2011,Resignation,-,Career Move - Private Sector,-,-,-,-,-,-,-,-,-,-,,Agree,Strongly Agree,Agree,Neutral,Agree,Agree,Strongly Agree,Agree,Agree,Neutral,Neutral,Neutral,Neutral,Agree,Strongly Agree,Strongly Agree,Strongly Agree,Agree,Neutral,Agree,Agree,Agree,Strongly Agree,Agree,Agree,Strongly Agree,Neutral,Agree,Agree,Neutral,Yes,Yes,Yes,No,-,On-line,-,Face to Face,-,-,-,-,-,No,Yes,Yes,Yes,,Female,46  50,Temporary Full-time,Administration (AO),1-2,Less than 1 year
6.34388739792188E+017,Sunshine Coast Institute of TAFE,Delivery (teaching),2011,Retirement,-,-,-,-,-,-,Job Dissatisfaction,-,-,-,-,-,,,,,,,,,,,,,,,,,,,,,,,,,,,,,,,,,,,,,,,,,,,,,,,,,,,,,,,
6.34389476488906E+017,Central Queensland Institute of TAFE,Non-Delivery (corporate),2011,Resignation,-,-,-,-,-,-,-,-,-,-,-,NONE,,Strongly Disagree,Neutral,Neutral,Neutral,Strongly Disagree,Disagree,Neutral,Neutral,Neutral,Neutral,Neutral,Neutral,Neutral,Strongly Agree,Strongly Agree,Strongly Agree,Strongly Agree,Strongly Agree,Strongly Agree,Strongly Agree,Strongly Agree,Strongly Agree,Agree,Agree,Agree,Strongly Agree,Strongly Agree,Strongly Agree,Strongly Agree,Strongly Agree,Yes,No,No,Yes,-,-,-,-,-,-,Face to Face,-,-,Yes,Yes,Yes,Yes,Yes,Female,21  25,Permanent Full-time,Administration (AO),3-4,3-4
6.3439543481625E+017,Sunshine Coast Institute of TAFE,Non-Delivery (corporate),2011,Resignation,Career Move - Public Sector,-,-,-,-,-,-,-,-,-,-,-,,Strongly Agree,Not Applicable,Agree,Disagree,Neutral,Strongly Agree,Strongly Agree,Strongly Agree,Strongly Agree,Agree,Strongly Agree,Strongly Agree,Neutral,Strongly Agree,Strongly Agree,Neutral,Strongly Agree,Strongly Agree,Strongly Agree,Strongly Agree,Strongly Agree,Strongly Agree,Neutral,Strongly Agree,Strongly Agree,Agree,Agree,Strongly Agree,Strongly Agree,Strongly Agree,Yes,No,Yes,No,-,-,-,Face to Face,-,-,-,-,-,Yes,Yes,Yes,Yes,Yes,Male,21  25,Permanent Part-time,Operational (OO),1-2,1-2
6.34395453810469E+017,Brisbane North Institute of TAFE,Delivery (teaching),2011,Retirement,-,-,-,-,-,-,-,-,-,-,-,NONE,,Neutral,Agree,Disagree,Neutral,Agree,Disagree,Strongly Agree,Strongly Agree,Agree,Neutral,Disagree,Disagree,Agree,Strongly Agree,Strongly Agree,Strongly Agree,Agree,Agree,Strongly Agree,Strongly Agree,Strongly Agree,Strongly Agree,Agree,Agree,Disagree,Strongly Agree,Disagree,Agree,Agree,Agree,Yes,No,Yes,Yes,-,-,-,Face to Face,-,-,Face to Face,-,-,Yes,Yes,Yes,Yes,,Female,56 or older,Permanent Part-time,Teacher (including LVT),11-20,11-20
6.34395566956406E+017,Brisbane North Institute of TAFE,Non-Delivery (corporate),2011,Contract Expired,,,,,,,,,,,,,,Agree,Strongly Agree,Agree,Agree,Agree,Strongly Agree,Strongly Agree,Strongly Agree,Strongly Agree,Agree,Strongly Agree,Strongly Agree,Strongly Agree,Agree,Agree,Neutral,Agree,Agree,Strongly Agree,Neutral,Neutral,Neutral,Agree,Agree,Agree,Agree,Agree,Neutral,Strongly Agree,Strongly Agree,Yes,No,Yes,Yes,-,-,-,Face to Face,-,-,Face to Face,-,-,Yes,Yes,Yes,Yes,Yes,Female,41  45,Temporary Part-time,Administration (AO),1-2,1-2
6.34399738233281E+017,Tropical North Institute of TAFE,Non-Delivery (corporate),2011,Resignation,-,-,-,-,-,-,-,-,-,-,Other,-,,Agree,Strongly Agree,Strongly Agree,Strongly Agree,Agree,Agree,Agree,Agree,Agree,Neutral,Neutral,Neutral,Agree,Neutral,Strongly Agree,Neutral,Neutral,Strongly Agree,Agree,Neutral,Neutral,Neutral,Agree,Strongly Agree,Strongly Agree,Neutral,Strongly Agree,Disagree,Disagree,Agree,Yes,Yes,Yes,No,Face to Face,-,-,Face to Face,-,Induction Manual,-,-,-,No,Yes,Yes,Yes,Yes,Female,21  25,Permanent Part-time,Administration (AO),5-6,3-4
6.34407548427969E+017,Southern Queensland Institute of TAFE,Non-Delivery (corporate),2011,Resignation,-,-,-,-,-,-,-,-,-,-,Other,-,,Agree,Strongly Agree,Strongly Agree,Neutral,Disagree,Neutral,Agree,Neutral,Agree,,Agree,Agree,Agree,Agree,Strongly Agree,Strongly Agree,Strongly Agree,Strongly Agree,Agree,Strongly Agree,Strongly Agree,Strongly Agree,Strongly Agree,Neutral,Agree,Agree,Neutral,Strongly Agree,Neutral,Agree,,,,,-,-,-,-,-,-,-,-,-,Yes,Yes,Yes,Yes,Yes,Female,31  35,Temporary Part-time,Administration (AO),3-4,3-4
6.34411016475156E+017,Tropical North Institute of TAFE,Non-Delivery (corporate),2011,Resignation,-,Career Move - Private Sector,-,-,-,-,Job Dissatisfaction,-,-,-,-,-,Job Dissatisfaction,Agree,Neutral,Neutral,Strongly Disagree,Neutral,Strongly Disagree,Neutral,Neutral,Agree,Neutral,Neutral,Neutral,Neutral,Neutral,Agree,Disagree,Neutral,Agree,Agree,Disagree,Disagree,Disagree,Strongly Disagree,Neutral,Neutral,Disagree,Agree,Disagree,Neutral,Neutral,Yes,Yes,Yes,No,Face to Face,-,Induction Manual,Face to Face,-,Induction Manual,-,-,-,Yes,Yes,Yes,Yes,Yes,Female,21  25,Permanent Full-time,Administration (AO),3-4,3-4
6.34412849002344E+017,Southern Queensland Institute of TAFE,Non-Delivery (corporate),2011,Resignation,-,-,-,-,-,Contributing Factors. Dissatisfaction ,-,-,-,-,-,-,,Neutral,Neutral,Disagree,Disagree,Neutral,Neutral,Disagree,Neutral,Neutral,Disagree,Strongly Disagree,Strongly Disagree,Neutral,Disagree,Agree,Agree,Agree,Agree,Neutral,Disagree,Disagree,Disagree,Neutral,Agree,Disagree,Neutral,Agree,Agree,Disagree,Disagree,Yes,Yes,Yes,No,Face to Face,-,-,Face to Face,-,-,-,-,-,Yes,Yes,No,Yes,No,Male,41  45,Permanent Full-time,Operational (OO),3-4,3-4
6.344138709125E+017,Sunshine Coast Institute of TAFE,Delivery (teaching),2011,Termination,,,,,,,,,,,,,,Strongly Agree,Strongly Agree,Strongly Agree,Strongly Agree,Strongly Agree,Strongly Agree,Strongly Agree,Strongly Agree,Strongly Agree,Agree,Not Applicable,Not Applicable,Not Applicable,Strongly Agree,Strongly Agree,Strongly Agree,Strongly Agree,Strongly Agree,Strongly Agree,Strongly Agree,Strongly Agree,Strongly Agree,Strongly Agree,Strongly Agree,Strongly Agree,Strongly Agree,Strongly Agree,Strongly Agree,Strongly Agree,Agree,Yes,No,Yes,No,-,-,-,-,On-line,-,-,-,-,Yes,Yes,Yes,Yes,Yes,Female,56 or older,Temporary Part-time,Teacher (including LVT),3-4,Less than 1 year
6.34417864506406E+017,Central Queensland Institute of TAFE,Non-Delivery (corporate),2011,Resignation,-,-,-,-,-,-,Job Dissatisfaction,Interpersonal Conflict,-,-,-,-,Interpersonal Conflict,Agree,Strongly Disagree,Strongly Disagree,Not Applicable,Neutral,Agree,Strongly Disagree,Strongly Disagree,Neutral,Neutral,Neutral,Neutral,Neutral,Strongly Disagree,Agree,Disagree,Strongly Disagree,Neutral,,Strongly Disagree,Strongly Disagree,Strongly Disagree,Strongly Disagree,Agree,Agree,Neutral,Neutral,Neutral,Strongly Disagree,Strongly Disagree,No,,,,,,,,,,,,,No,No,Yes,Yes,No,Female,46  50,Temporary Full-time,Administration (AO),Less than 1 year,Less than 1 year
6.34418043788438E+017,Brisbane North Institute of TAFE,Delivery (teaching),2011,Resignation,-,-,-,-,-,Contributing Factors. Dissatisfaction ,Job Dissatisfaction,-,-,-,-,-,Dissatisfaction with %[Institute]Q25LBL%,Neutral,Agree,Agree,Disagree,Strongly Disagree,Strongly Disagree,Strongly Disagree,Strongly Disagree,Neutral,Disagree,Strongly Disagree,Strongly Disagree,Neutral,Strongly Disagree,Strongly Agree,Agree,Agree,Agree,Disagree,Disagree,Disagree,Agree,Agree,Strongly Disagree,Strongly Disagree,Strongly Disagree,Agree,Agree,Disagree,Disagree,Yes,Yes,Yes,Yes,-,-,-,-,-,-,-,-,-,Yes,Yes,Yes,Yes,No,Female,26  30,Temporary Full-time,Teacher (including LVT),1-2,1-2
6.34419660420156E+017,SkillsTech Australia,Non-Delivery (corporate),2011,Resignation,-,Career Move - Private Sector,-,-,-,Contributing Factors. Dissatisfaction ,Job Dissatisfaction,-,-,-,-,-,Dissatisfaction with %[Institute]Q25LBL%,Strongly Disagree,Neutral,Agree,Not Applicable,Strongly Disagree,Disagree,Disagree,Disagree,Disagree,Disagree,Neutral,Neutral,Neutral,Strongly Disagree,Agree,Agree,Neutral,Strongly Agree,Disagree,Disagree,Disagree,Disagree,Agree,Strongly Agree,Agree,Disagree,Neutral,Agree,Disagree,Disagree,Yes,Yes,,,Face to Face,-,-,-,-,-,-,-,-,No,No,No,Yes,No,Male,46  50,Temporary Full-time,Executive (SES/SO),1-2,1-2
6.34419812329531E+017,Tropical North Institute of TAFE,Delivery (teaching),2011,Resignation,-,Career Move - Private Sector,-,-,-,-,-,-,-,-,-,-,,Strongly Agree,Strongly Agree,Strongly Agree,Strongly Agree,Neutral,Strongly Agree,Strongly Agree,Strongly Agree,Strongly Agree,Strongly Agree,Agree,Strongly Agree,Strongly Agree,Strongly Agree,Strongly Agree,Strongly Agree,Strongly Agree,Strongly Agree,Strongly Agree,Strongly Agree,Strongly Agree,Strongly Agree,Strongly Agree,Agree,Strongly Agree,Strongly Agree,Strongly Agree,Strongly Agree,Strongly Agree,Strongly Agree,Yes,Yes,Yes,Yes,-,-,-,-,-,-,-,-,-,Yes,Yes,Yes,Yes,Yes,Male,46  50,Permanent Full-time,Teacher (including LVT),1-2,1-2
6.34420617024687E+017,Brisbane North Institute of TAFE,Non-Delivery (corporate),2011,Retrenchment/ Redundancy,,,,,,,,,,,,,,Agree,Agree,Agree,Agree,Agree,Agree,Agree,Agree,Agree,Agree,Not Applicable,Not Applicable,Not Applicable,Agree,Agree,Agree,Agree,Agree,Agree,Agree,Agree,Agree,Agree,Agree,Agree,Agree,Agree,Agree,Agree,Agree,Yes,,Yes,Yes,-,-,-,Face to Face,On-line,-,Face to Face,-,-,Yes,Yes,Yes,Yes,Yes,Female,56 or older,Permanent Full-time,Administration (AO),5-6,1-2
6.34423305341562E+017,Brisbane North Institute of TAFE,Delivery (teaching),2011,Retirement,-,-,-,-,Maternity/Family,-,-,-,-,-,-,-,,Agree,Agree,Agree,Not Applicable,Not Applicable,Agree,Agree,Agree,Agree,Agree,Agree,Agree,Agree,Strongly Agree,Strongly Agree,Agree,Agree,Agree,Agree,Agree,Agree,Agree,Agree,Agree,Agree,Agree,Agree,Agree,Agree,Agree,Yes,,Yes,,-,-,-,Face to Face,-,-,-,-,-,Yes,Yes,Yes,Yes,Yes,Female,56 or older,Permanent Part-time,Tutor,11-20,3-4
6.344250437875E+017,Sunshine Coast Institute of TAFE,Non-Delivery (corporate),2011,Resignation,-,-,-,-,Maternity/Family,-,-,-,-,-,-,-,,Neutral,Neutral,Neutral,Neutral,Neutral,Neutral,Neutral,Neutral,Neutral,Disagree,Neutral,Neutral,Neutral,Disagree,Neutral,Agree,Agree,Agree,Agree,Agree,Agree,Agree,Agree,Disagree,Disagree,Agree,Agree,Neutral,Agree,Disagree,Yes,No,Yes,,-,-,-,Face to Face,-,-,-,-,-,Yes,,,,Yes,Female,46  50,Contract/casual,Administration (AO),5-6,5-6
6.34425831321094E+017,Southbank Institute of Technology,Non-Delivery (corporate),2011,Contract Expired,,,,,,,,,,,,,,Disagree,Agree,Agree,Agree,Agree,Neutral,Agree,Agree,Agree,Neutral,Neutral,Neutral,Neutral,Agree,Agree,Agree,Agree,Agree,Agree,Agree,Agree,Agree,Agree,Agree,Agree,Agree,Agree,Agree,Agree,Agree,Yes,No,Yes,Yes,-,-,-,Face to Face,-,Induction Manual,Face to Face,-,Induction Manual,Yes,Yes,Yes,Yes,No,Female,21  25,Temporary Full-time,Professional Officer (PO),1-2,1-2
6.34429978393906E+017,Central Queensland Institute of TAFE,Non-Delivery (corporate),2011,Resignation,-,-,-,-,-,-,-,-,-,-,Other,-,Other,Not Applicable,Not Applicable,Not Applicable,Not Applicable,Not Applicable,Not Applicable,Not Applicable,Not Applicable,Not Applicable,Not Applicable,Not Applicable,Not Applicable,Not Applicable,Not Applicable,Not Applicable,Not Applicable,Not Applicable,Not Applicable,Not Applicable,Not Applicable,Not Applicable,Not Applicable,Not Applicable,Not Applicable,Not Applicable,Not Applicable,Not Applicable,Not Applicable,Not Applicable,Not Applicable,Yes,Yes,Yes,Yes,-,On-line,-,-,On-line,-,Face to Face,-,-,No,Yes,No,Yes,,Female,41  45,Temporary Full-time,Administration (AO),1-2,1-2
6.34430196933125E+017,Southern Queensland Institute of TAFE,Delivery (teaching),2011,Resignation,-,-,-,-,-,-,-,-,-,-,-,NONE,,Agree,Neutral,Agree,Not Applicable,Disagree,Agree,Agree,Agree,Agree,Agree,Not Applicable,Not Applicable,Not Applicable,Agree,Agree,Strongly Disagree,Agree,Disagree,Agree,Strongly Disagree,Strongly Disagree,Strongly Disagree,Strongly Disagree,Strongly Agree,Strongly Agree,Agree,Agree,Not Applicable,Agree,Agree,Yes,Yes,Yes,Yes,Face to Face,-,-,Face to Face,-,-,Face to Face,-,-,No,Yes,Yes,Yes,Yes,Female,36  40,Permanent Full-time,Teacher (including LVT),Less than 1 year,Less than 1 year
6.34431906734219E+017,Central Queensland Institute of TAFE,Non-Delivery (corporate),2011,Resignation,-,Career Move - Private Sector,-,-,-,-,-,-,-,-,-,-,,Agree,Strongly Agree,Strongly Agree,Strongly Agree,Strongly Disagree,Strongly Disagree,Strongly Agree,Strongly Agree,Agree,Agree,Agree,Agree,Agree,Agree,Agree,Agree,Strongly Agree,Strongly Agree,Strongly Agree,Strongly Agree,Strongly Agree,Strongly Agree,Strongly Agree,Agree,Agree,Agree,Agree,Neutral,Strongly Agree,Strongly Agree,Yes,,Yes,,-,-,-,Face to Face,-,-,-,-,-,No,Yes,Yes,Yes,Yes,Male,36  40,Permanent Full-time,Administration (AO),5-6,5-6
6.34436080180469E+017,Southern Queensland Institute of TAFE,Non-Delivery (corporate),2011,Resignation,-,-,-,-,-,-,Job Dissatisfaction,-,-,-,-,-,,Agree,Agree,Agree,Neutral,Neutral,Agree,Agree,Agree,Agree,Neutral,Neutral,Agree,Neutral,Agree,Strongly Agree,Strongly Disagree,Neutral,Agree,Agree,Disagree,Neutral,Agree,Neutral,Strongly Agree,Agree,Agree,Strongly Disagree,Agree,Agree,Agree,Yes,Yes,Yes,Yes,Face to Face,-,-,Face to Face,-,-,Face to Face,-,-,Yes,Yes,Yes,Yes,Yes,Male,26  30,Temporary Full-time,Operational (OO),Less than 1 year,Less than 1 year
6.34438675485469E+017,Southbank Institute of Technology,Delivery (teaching),2011,Retirement,-,-,-,-,Maternity/Family,-,Job Dissatisfaction,-,-,-,-,-,Job Dissatisfaction,Agree,Disagree,Disagree,Agree,Disagree,Disagree,Disagree,Disagree,Agree,Strongly Disagree,Neutral,Neutral,Agree,Disagree,Agree,Agree,Agree,Agree,Agree,Agree,Agree,Disagree,Agree,Agree,Disagree,Neutral,Disagree,Disagree,Neutral,Neutral,Yes,Yes,No,No,Face to Face,-,-,-,-,-,-,-,-,Yes,Yes,Yes,Yes,Yes,Female,51-55,Permanent Full-time,Teacher (including LVT),More than 20 years,3-4
6.34443964450156E+017,Tropical North Institute of TAFE,Delivery (teaching),2011,Resignation,-,-,Career Move - Self-employment,-,-,-,-,-,-,-,-,-,,Disagree,Agree,Agree,Disagree,Strongly Disagree,Strongly Disagree,Neutral,Strongly Disagree,Disagree,Strongly Disagree,Strongly Disagree,Strongly Disagree,Disagree,Neutral,Neutral,Agree,Agree,Neutral,Strongly Disagree,Neutral,Neutral,Neutral,Agree,Agree,Agree,Neutral,Disagree,Disagree,Disagree,Strongly Disagree,No,,,,,,,,,,,,,No,No,No,Yes,Yes,Male,41  45,Contract/casual,Teacher (including LVT),1-2,1-2
6.34444676214219E+017,Brisbane North Institute of TAFE,Non-Delivery (corporate),2011,Resignation,Career Move - Public Sector,-,-,-,-,-,-,-,-,-,Other,-,Other,Agree,Strongly Disagree,Strongly Disagree,Not Applicable,Disagree,Neutral,Agree,Agree,Neutral,Disagree,Disagree,Neutral,Agree,Neutral,Strongly Agree,Agree,Strongly Agree,Disagree,Agree,Agree,Agree,Agree,Neutral,Neutral,Agree,Disagree,Agree,Strongly Disagree,Disagree,Disagree,Yes,No,Yes,No,-,-,-,Face to Face,-,-,-,-,-,Yes,Yes,Yes,Yes,No,Female,41  45,Contract/casual,Administration (AO),3-4,5-6
6.34447301250156E+017,Sunshine Coast Institute of TAFE,Delivery (teaching),2011,Contract Expired,,,,,,,,,,,,,,,,,,,,,,,,,,,,,,,,,,,,,,,,,,,,,,,,,,,,,,,,,,,,,,,,,,,
6.34450781262969E+017,Sunshine Coast Institute of TAFE,Non-Delivery (corporate),2011,Contract Expired,,,,,,,,,,,,,,Agree,Strongly Agree,Agree,Agree,Agree,Agree,Strongly Agree,Agree,Agree,Agree,Agree,Agree,Neutral,Strongly Agree,Strongly Agree,Agree,Strongly Agree,Agree,Agree,Agree,Agree,Agree,Agree,Strongly Agree,Agree,Strongly Agree,Strongly Agree,Strongly Agree,Strongly Agree,Agree,Yes,Yes,Yes,Yes,Face to Face,-,-,Face to Face,-,-,Face to Face,-,-,No,Yes,Yes,Yes,No,Female,26  30,Temporary Full-time,Administration (AO),1-2,Less than 1 year
6.34454356619531E+017,Southern Queensland Institute of TAFE,Non-Delivery (corporate),2011,Resignation,-,-,-,-,-,-,-,-,-,-,Other,-,,Neutral,Agree,Neutral,Disagree,Neutral,Neutral,Agree,Neutral,Agree,Agree,Neutral,Neutral,Neutral,Disagree,Agree,Agree,Agree,Agree,Agree,Agree,Agree,Agree,Agree,Agree,Agree,Neutral,Agree,Neutral,Agree,Agree,Yes,,Yes,,-,-,-,-,On-line,-,-,-,-,Yes,Yes,Yes,,,Female,21  25,Temporary Full-time,Administration (AO),Less than 1 year,Less than 1 year
6.34454362346563E+017,Southern Queensland Institute of TAFE,Non-Delivery (corporate),2011,Contract Expired,,,,,,,,,,,,,,Agree,Neutral,Neutral,Disagree,Neutral,Neutral,Neutral,Agree,Agree,Neutral,Neutral,Neutral,Agree,Agree,Agree,Neutral,Neutral,Agree,Agree,Neutral,Neutral,Agree,Agree,Agree,Neutral,Strongly Agree,Agree,Strongly Disagree,Agree,Agree,Yes,Yes,Yes,No,Face to Face,-,-,Face to Face,-,-,-,-,-,No,Yes,Yes,Yes,Yes,Female,26  30,Temporary Full-time,Administration (AO),3-4,Less than 1 year
6.34455107975313E+017,Brisbane North Institute of TAFE,Non-Delivery (corporate),2011,Retirement,-,-,-,Ill Health,-,-,-,-,-,-,Other,-,Ill Health,Neutral,Neutral,Neutral,Neutral,Agree,Agree,Agree,Agree,Agree,Neutral,Agree,Agree,Agree,Agree,Agree,Agree,Agree,Neutral,Agree,Agree,Agree,Neutral,Agree,Agree,Agree,Neutral,Neutral,Neutral,Agree,Agree,Yes,,Yes,,-,-,-,Face to Face,On-line,-,-,-,-,Yes,Yes,Yes,Yes,Yes,Female,56 or older,Temporary Part-time,Administration (AO),7-10,7-10
6.34456033339688E+017,Central Queensland Institute of TAFE,Delivery (teaching),2011,Resignation,-,-,-,-,-,-,Job Dissatisfaction,-,-,-,-,-,,Neutral,Disagree,Neutral,Not Applicable,Neutral,Neutral,Agree,Disagree,Neutral,Disagree,Disagree,Disagree,Not Applicable,Neutral,Agree,Agree,Agree,Neutral,Disagree,Agree,Agree,Agree,Agree,Disagree,Strongly Disagree,Disagree,Agree,Neutral,Neutral,Disagree,Yes,Yes,No,No,-,On-line,-,-,-,-,-,-,-,No,Yes,Yes,Yes,No,Female,41  45,Contract/casual,Teacher (including LVT),Less than 1 year,Less than 1 year
6.3445681099E+017,Southbank Institute of Technology,Non-Delivery (corporate),2010,Resignation,-,-,-,-,-,Contributing Factors. Dissatisfaction ,-,Interpersonal Conflict,-,-,-,-,Interpersonal Conflict,,,,,,,,,,,,,,,,,,,,,,,,,,,,,,,,,,,,,,,,,,,,,,,,,,,,,,
6.34461102971094E+017,Central Queensland Institute of TAFE,Non-Delivery (corporate),2011,Retrenchment/ Redundancy,,,,,,,,,,,,,,Strongly Disagree,Strongly Disagree,Strongly Disagree,Disagree,Disagree,Strongly Disagree,Neutral,Neutral,Neutral,Disagree,Disagree,Disagree,Strongly Disagree,Strongly Agree,Strongly Agree,Neutral,Neutral,Neutral,Neutral,Strongly Agree,Strongly Agree,Strongly Agree,Strongly Agree,Agree,Agree,Strongly Agree,Neutral,Agree,Strongly Agree,Strongly Agree,Yes,No,Yes,No,-,-,-,-,On-line,-,-,-,-,No,No,No,No,No,,,,,,
6.34461110095938E+017,Central Queensland Institute of TAFE,Non-Delivery (corporate),2011,Retrenchment/ Redundancy,,,,,,,,,,,,,,Disagree,Disagree,Disagree,Neutral,Disagree,Disagree,Disagree,Disagree,Disagree,Strongly Disagree,Strongly Disagree,Strongly Disagree,Strongly Disagree,Strongly Agree,Agree,Disagree,Neutral,Neutral,Disagree,Disagree,Disagree,Disagree,Disagree,Agree,Agree,Strongly Disagree,Agree,Agree,Strongly Agree,Strongly Agree,No,,,,-,-,-,-,-,-,-,-,-,No,No,No,Yes,No,Female,56 or older,Permanent Full-time,Administration (AO),11-20,11-20
6.34462838669219E+017,Tropical North Institute of TAFE,Non-Delivery (corporate),2011,Resignation,Career Move - Public Sector,-,-,-,-,-,-,-,-,-,Other,-,Career Move - Public Sector,Strongly Agree,Strongly Agree,Strongly Agree,Neutral,Disagree,Strongly Agree,Strongly Agree,Strongly Agree,Agree,Strongly Agree,Strongly Agree,Strongly Agree,Strongly Agree,Strongly Agree,Strongly Agree,Strongly Agree,Strongly Agree,Strongly Agree,Strongly Agree,Disagree,Disagree,Disagree,Strongly Agree,Strongly Agree,Strongly Agree,Strongly Agree,Agree,Strongly Agree,Strongly Agree,Strongly Agree,Yes,,,,Face to Face,-,-,-,On-line,-,Face to Face,-,-,No,Yes,Yes,Yes,Yes,Female,31  35,Temporary Full-time,Administration (AO),1-2,1-2
6.34465408262031E+017,Southbank Institute of Technology,Non-Delivery (corporate),2011,Resignation,-,Career Move - Private Sector,-,-,-,-,Job Dissatisfaction,-,Study,-,-,-,Job Dissatisfaction,Neutral,Neutral,Strongly Disagree,Strongly Disagree,Agree,Neutral,Neutral,Agree,Agree,Agree,Neutral,Neutral,Neutral,Agree,Agree,Strongly Disagree,Disagree,Agree,Agree,Strongly Disagree,Strongly Disagree,Strongly Disagree,Strongly Disagree,Agree,Agree,Agree,Agree,Agree,Agree,Agree,Yes,,,,-,-,-,-,-,-,-,-,-,Yes,Yes,Yes,Yes,No,Female,21  25,Temporary Full-time,Administration (AO),1-2,1-2
6.34466325765938E+017,Southern Queensland Institute of TAFE,Delivery (teaching),2011,Contract Expired,,,,,,,,,,,,,,Strongly Agree,Strongly Agree,Agree,Not Applicable,Agree,Agree,Agree,Strongly Agree,Agree,Agree,Strongly Agree,Strongly Agree,Neutral,Strongly Agree,Strongly Agree,Strongly Agree,Strongly Agree,Strongly Agree,Strongly Agree,Strongly Agree,Strongly Agree,Strongly Agree,Strongly Agree,Neutral,Neutral,Agree,Agree,Neutral,Strongly Agree,Agree,Yes,Yes,Yes,Yes,Face to Face,-,-,Face to Face,-,-,Face to Face,-,-,No,Yes,Yes,Yes,Yes,Female,36  40,Temporary Full-time,Teacher (including LVT),1-2,11-20
6.34466334830781E+017,Southern Queensland Institute of TAFE,Delivery (teaching),2011,Contract Expired,,,,,,,,,,,,,,Agree,Agree,Strongly Agree,Neutral,Agree,Agree,Agree,Agree,Agree,Agree,Neutral,Agree,Agree,Agree,Agree,Agree,Agree,Agree,Agree,Agree,Agree,Agree,Agree,Agree,Agree,Agree,Agree,Agree,Agree,Agree,Yes,No,No,No,Face to Face,-,-,Face to Face,-,-,Face to Face,-,-,Yes,Yes,Yes,Yes,Yes,Female,26  30,Temporary Part-time,Teacher (including LVT),Less than 1 year,7-10
6.34466338996094E+017,Central Queensland Institute of TAFE,Delivery (teaching),2011,Resignation,-,-,-,-,Maternity/Family,-,-,-,-,-,-,-,,Agree,Agree,Agree,Agree,Agree,Agree,Agree,Agree,Disagree,Agree,Agree,Agree,Agree,Agree,Agree,Agree,Agree,Agree,Agree,Agree,Agree,Agree,Agree,Agree,Disagree,Agree,Agree,Agree,Agree,Agree,Yes,Yes,Yes,Yes,-,-,-,-,-,-,-,-,-,No,Yes,Yes,Yes,Yes,Male,41  45,Temporary Full-time,Technical Officer (TO),1-2,Less than 1 year
6.3446806352125E+017,Southern Queensland Institute of TAFE,Delivery (teaching),2011,Contract Expired,,,,,,,,,,,,,,Disagree,Neutral,Disagree,Disagree,Strongly Disagree,Disagree,Neutral,Neutral,Agree,Disagree,Disagree,Disagree,Disagree,Agree,Agree,Agree,Agree,Agree,Agree,Agree,Agree,Agree,Agree,Disagree,Disagree,Agree,Agree,Not Applicable,Agree,Agree,Yes,Yes,Yes,Yes,-,-,-,-,-,-,-,-,-,No,Yes,Yes,Yes,No,Female,46  50,Temporary Full-time,Teacher (including LVT),Less than 1 year,Less than 1 year
6.34468104798125E+017,Southern Queensland Institute of TAFE,Non-Delivery (corporate),2011,Contract Expired,,,,,,,,,,,,,,Agree,Agree,Neutral,Neutral,Agree,Agree,Agree,Agree,Agree,Agree,Agree,Agree,Agree,Agree,Strongly Agree,Agree,Agree,Agree,Agree,Neutral,Neutral,Neutral,Agree,Strongly Agree,Strongly Agree,Neutral,Agree,Neutral,Agree,Agree,No,,,,,,,,,,,,,No,Yes,Yes,Yes,Yes,Female,20 or younger,Temporary Full-time,Administration (AO),Less than 1 year,Less than 1 year
6.34468237201562E+017,Central Queensland Institute of TAFE,Delivery (teaching),2011,Contract Expired,,,,,,,,,,,,,,Agree,Agree,Agree,Neutral,Neutral,Agree,Agree,Agree,Agree,Agree,Agree,Agree,Agree,Neutral,Agree,Agree,Agree,Agree,Agree,Agree,Agree,Agree,Agree,Agree,Agree,Agree,Agree,Agree,Agree,Neutral,Yes,,Yes,,-,-,-,-,On-line,-,-,-,-,No,Yes,Yes,Yes,Yes,Male,51-55,Contract/casual,Teacher (including LVT),Less than 1 year,Less than 1 year
6.3446906019125E+017,Southbank Institute of Technology,Non-Delivery (corporate),2011,Resignation,-,Career Move - Private Sector,-,-,-,-,-,-,-,-,-,-,,Agree,Neutral,Agree,Not Applicable,Disagree,Agree,Agree,Agree,Agree,Agree,Agree,Agree,Agree,Neutral,Agree,Strongly Agree,Strongly Agree,Agree,Strongly Agree,Agree,Agree,Agree,Strongly Agree,Agree,Agree,Agree,Agree,Agree,Neutral,Agree,Yes,Yes,,Yes,Face to Face,On-line,-,-,-,-,-,-,-,No,Yes,Yes,Yes,Yes,Male,36  40,Temporary Full-time,Executive (SES/SO),Less than 1 year,Less than 1 year
6.34471580533906E+017,Brisbane North Institute of TAFE,Non-Delivery (corporate),2011,Retirement,-,-,-,-,-,-,-,-,-,-,Other,-,,,,,,,,,,,,,,,,,,,,,,,,,,,,,,,,,,,,,,,,,,,,,,,,,,,,,,,
6.34474119730625E+017,Brisbane North Institute of TAFE,Non-Delivery (corporate),2011,Resignation,-,-,-,-,-,-,-,-,-,-,Other,-,,Agree,Agree,Agree,Agree,Neutral,Neutral,Agree,Agree,Agree,Neutral,Neutral,Neutral,Agree,Agree,Strongly Agree,Neutral,Agree,Agree,Agree,Neutral,Neutral,Agree,Neutral,Strongly Agree,Agree,Agree,Strongly Agree,Agree,Agree,Agree,Yes,No,Yes,No,-,-,-,Face to Face,-,-,-,-,-,Yes,Yes,Yes,Yes,Yes,Female,21  25,Contract/casual,Administration (AO),1-2,Less than 1 year
6.34474960259219E+017,Sunshine Coast Institute of TAFE,Non-Delivery (corporate),2011,Retrenchment/ Redundancy,,,,,,,,,,,,,,Disagree,Not Applicable,Agree,Not Applicable,Neutral,Disagree,Neutral,Neutral,Agree,Strongly Disagree,Not Applicable,Not Applicable,Not Applicable,Neutral,Strongly Agree,Agree,Agree,Agree,Strongly Agree,Agree,Agree,Agree,Agree,Agree,Agree,Agree,Agree,Disagree,Agree,Agree,Yes,No,Yes,No,-,-,-,-,-,-,-,-,-,No,Yes,Yes,No,No,Female,51-55,Contract/casual,Administration (AO),1-2,1-2
6.34475001702969E+017,Southbank Institute of Technology,Delivery (teaching),2011,Retrenchment/ Redundancy,,,,,,,,,,,,,,Strongly Disagree,Agree,Disagree,Strongly Disagree,Agree,Strongly Disagree,Disagree,Strongly Disagree,Agree,Strongly Disagree,Disagree,Strongly Disagree,Agree,Strongly Disagree,Strongly Agree,Agree,Neutral,Strongly Agree,Agree,Strongly Disagree,Strongly Disagree,Strongly Disagree,Agree,Disagree,Neutral,Strongly Disagree,Agree,Agree,Agree,Strongly Disagree,Yes,Yes,Yes,No,Face to Face,-,-,Face to Face,-,-,-,-,-,No,Yes,Yes,No,No,Female,56 or older,Permanent Part-time,Tutor,7-10,7-10
6.344801538575E+017,SkillsTech Australia,Non-Delivery (corporate),2011,Resignation,-,Career Move - Private Sector,-,-,-,-,Job Dissatisfaction,-,-,-,-,-,Career Move - Private Sector,Neutral,Disagree,Agree,Strongly Disagree,Strongly Disagree,Strongly Disagree,Disagree,Disagree,Disagree,Neutral,Strongly Disagree,Strongly Disagree,Strongly Disagree,Strongly Agree,Strongly Agree,Strongly Agree,Strongly Agree,Strongly Agree,Strongly Agree,Neutral,Neutral,Neutral,Strongly Agree,Strongly Agree,Strongly Agree,Strongly Agree,Neutral,Strongly Disagree,Strongly Agree,Strongly Agree,Yes,Yes,Yes,Yes,-,-,-,-,-,-,-,-,-,No,Yes,No,Yes,Yes,Female,26  30,Temporary Full-time,Administration (AO),1-2,1-2
6.34480996232969E+017,Southern Queensland Institute of TAFE,Delivery (teaching),2011,Resignation,-,-,-,-,-,Contributing Factors. Dissatisfaction ,Job Dissatisfaction,-,-,-,-,-,Dissatisfaction with %[Institute]Q25LBL%,Agree,Strongly Disagree,Strongly Disagree,Strongly Disagree,Strongly Disagree,Strongly Disagree,Strongly Disagree,Strongly Disagree,Agree,Strongly Disagree,Strongly Disagree,Strongly Disagree,Strongly Disagree,Strongly Disagree,Strongly Agree,Strongly Agree,Strongly Agree,Strongly Agree,Strongly Agree,Strongly Agree,Strongly Disagree,Strongly Disagree,Strongly Disagree,Strongly Disagree,Strongly Disagree,Strongly Disagree,Disagree,Strongly Disagree,Strongly Agree,Strongly Agree,Yes,Yes,Yes,Yes,-,-,-,-,-,-,-,-,-,Yes,Yes,No,No,No,Female,41  45,Temporary Full-time,Teacher (including LVT),11-20,1-2
6.34483759524219E+017,Tropical North Institute of TAFE,Delivery (teaching),2012,Retirement,-,-,-,-,-,-,-,-,-,-,-,NONE,,Strongly Agree,Strongly Agree,Strongly Agree,Agree,Strongly Agree,Strongly Agree,Strongly Agree,Strongly Agree,Strongly Agree,Strongly Agree,Strongly Agree,Strongly Agree,Strongly Agree,Strongly Agree,Strongly Agree,Strongly Agree,Strongly Agree,Strongly Agree,Strongly Agree,Strongly Agree,Strongly Agree,Strongly Agree,Strongly Agree,Agree,Agree,Strongly Agree,Strongly Agree,Strongly Agree,Strongly Agree,Strongly Agree,Yes,,Yes,Yes,-,-,-,-,-,-,-,-,-,Yes,Yes,Yes,Yes,Yes,Female,56 or older,Permanent Part-time,Teacher (including LVT),3-4,3-4
6.34485432981094E+017,Brisbane North Institute of TAFE,Non-Delivery (corporate),2011,Retirement,-,-,-,-,-,-,-,-,-,-,-,NONE,,Agree,Agree,Agree,Strongly Disagree,Strongly Disagree,Strongly Disagree,Agree,Agree,Agree,Disagree,Agree,Agree,Agree,Agree,Strongly Agree,Agree,Agree,Strongly Agree,Agree,,Agree,Agree,Agree,Agree,Agree,Agree,Agree,Agree,Agree,Agree,Yes,,Yes,Yes,-,-,-,Face to Face,-,-,-,-,-,No,Yes,Yes,Yes,Yes,Female,56 or older,Permanent Full-time,Operational (OO),More than 20 years,More than 20 years
6.3448707873875E+017,Southern Queensland Institute of TAFE,Non-Delivery (corporate),2011,Resignation,-,-,-,-,Maternity/Family,-,-,-,-,-,Other,-,Other,,Agree,Agree,,Disagree,Agree,Agree,Agree,Agree,Neutral,Agree,Agree,Agree,Agree,Agree,Agree,Agree,Agree,Agree,Agree,Agree,Agree,Agree,Agree,Agree,Agree,Agree,Agree,Agree,Neutral,Yes,Yes,Yes,Yes,Face to Face,-,-,Face to Face,-,-,Face to Face,-,-,Yes,Yes,Yes,Yes,Yes,Female,46  50,Permanent Full-time,Administration (AO),5-6,5-6
6.34491780096563E+017,SkillsTech Australia,Non-Delivery (corporate),2011,Retirement,-,-,-,-,-,-,-,-,-,-,Other,-,,Agree,Neutral,Neutral,Neutral,Agree,Agree,Agree,Agree,Neutral,Neutral,Agree,Agree,Agree,Neutral,Agree,Agree,Agree,Agree,Agree,Agree,Neutral,Neutral,Agree,Agree,Neutral,Agree,Strongly Agree,Agree,Agree,Agree,Yes,Yes,Yes,Yes,-,-,-,-,-,-,-,-,-,Yes,Yes,Yes,Yes,Yes,Female,56 or older,Temporary Full-time,Administration (AO),3-4,3-4
6.34492389417187E+017,Southern Queensland Institute of TAFE,Non-Delivery (corporate),2011,Contract Expired,,,,,,,,,,,,,,Agree,Not Applicable,Not Applicable,Not Applicable,Agree,Agree,Agree,Agree,Neutral,Strongly Disagree,Not Applicable,Not Applicable,Not Applicable,Agree,Disagree,Disagree,Disagree,Not Applicable,Disagree,Disagree,Disagree,Disagree,Disagree,Strongly Agree,Strongly Agree,Agree,Agree,Not Applicable,Strongly Disagree,Strongly Disagree,No,,,,,,,,,,,,,No,Yes,Yes,Yes,,Female,36  40,Temporary Part-time,Administration (AO),Less than 1 year,Less than 1 year
6.34492399751406E+017,Brisbane North Institute of TAFE,Non-Delivery (corporate),2011,Contract Expired,,,,,,,,,,,,,,Strongly Agree,Not Applicable,Not Applicable,Not Applicable,Agree,Agree,Agree,Agree,Neutral,Agree,Not Applicable,Not Applicable,Not Applicable,Strongly Agree,Strongly Agree,Agree,Neutral,Agree,Agree,Disagree,Disagree,Disagree,Agree,Strongly Agree,Strongly Agree,Not Applicable,Agree,Agree,Agree,Agree,No,,,,,,,,,,,,,No,Yes,Yes,Yes,Yes,Female,36  40,Contract/casual,Administration (AO),3-4,Less than 1 year
6.34495664096406E+017,Southern Queensland Institute of TAFE,Non-Delivery (corporate),2011,Resignation,-,Career Move - Private Sector,-,-,-,-,-,-,-,-,-,-,,Agree,Strongly Agree,Agree,Agree,Agree,Agree,Strongly Agree,Agree,Agree,Neutral,Agree,Agree,Agree,Agree,Agree,Neutral,Agree,Agree,Agree,Neutral,Neutral,Neutral,Agree,Agree,Agree,Strongly Agree,Neutral,Agree,Agree,Agree,Yes,Yes,Yes,Yes,Face to Face,-,-,Face to Face,-,-,Face to Face,-,-,Yes,Yes,Yes,Yes,Yes,Female,26  30,Permanent Full-time,Professional Officer (PO),3-4,1-2
6.34496573562969E+017,Brisbane North Institute of TAFE,Delivery (teaching),2011,Resignation,-,Career Move - Private Sector,-,-,-,-,-,-,-,-,-,-,,Agree,Agree,Agree,Agree,Disagree,Disagree,Agree,Agree,Disagree,Disagree,Agree,Agree,Agree,Disagree,Strongly Agree,Agree,Agree,Agree,Agree,Disagree,Disagree,Disagree,Disagree,Agree,Agree,Disagree,Agree,Agree,Strongly Agree,Disagree,Yes,No,Yes,Yes,-,-,-,Face to Face,-,-,Face to Face,-,-,Yes,Yes,Yes,Yes,Yes,Female,51-55,Temporary Full-time,Administration (AO),1-2,1-2
6.34496661404062E+017,Brisbane North Institute of TAFE,Non-Delivery (corporate),2011,Retrenchment/ Redundancy,,,,,,,,,,,,,,,,,,,,,,,,,,,,,,,,,,,,,,,,,,,,,,,,,,,,,,,,,,,,,,,,,,,
6.34497559461719E+017,Central Queensland Institute of TAFE,Delivery (teaching),2011,Resignation,-,-,-,-,-,-,-,-,-,Travel,-,-,,Disagree,Agree,Agree,Neutral,Disagree,Disagree,Agree,Not Applicable,Neutral,Disagree,Strongly Disagree,Strongly Disagree,Neutral,Agree,Not Applicable,Neutral,Strongly Agree,Agree,Neutral,Agree,Agree,Agree,Neutral,Strongly Agree,Strongly Disagree,Strongly Agree,Disagree,Not Applicable,Not Applicable,Not Applicable,Yes,Yes,Yes,No,-,On-line,-,-,On-line,-,-,-,-,Yes,Yes,Yes,Yes,Yes,Male,31  35,Contract/casual,Teacher (including LVT),1-2,1-2
6.34497651258125E+017,Tropical North Institute of TAFE,Delivery (teaching),2011,Termination,,,,,,,,,,,,,,Agree,Agree,Agree,Agree,Agree,Neutral,Agree,Neutral,Agree,Agree,Agree,Agree,Agree,Agree,Strongly Agree,Strongly Agree,Strongly Agree,Strongly Agree,Strongly Agree,Strongly Agree,Strongly Agree,Strongly Agree,Agree,Disagree,Disagree,Neutral,Agree,Agree,Strongly Agree,Strongly Agree,Yes,,Yes,,-,-,-,Face to Face,-,-,-,-,-,Yes,Yes,Yes,Yes,Yes,Female,51-55,Contract/casual,Teacher (including LVT),Less than 1 year,Less than 1 year
6.34498298127969E+017,Central Queensland Institute of TAFE,Non-Delivery (corporate),2011,Resignation,-,-,-,-,-,-,-,-,Study,-,-,-,,Strongly Agree,Strongly Agree,Strongly Agree,Not Applicable,Strongly Agree,Neutral,Strongly Agree,Strongly Agree,Strongly Agree,Strongly Agree,Agree,Agree,Agree,Strongly Agree,Strongly Agree,Strongly Agree,Strongly Agree,Strongly Agree,Strongly Agree,Strongly Agree,Strongly Agree,Strongly Agree,Strongly Agree,Neutral,Strongly Agree,Agree,Strongly Agree,Agree,Strongly Agree,Strongly Agree,Yes,Yes,Yes,Yes,-,On-line,-,-,On-line,-,Face to Face,-,-,No,Yes,Yes,Yes,Yes,Female,20 or younger,Temporary Full-time,Administration (AO),Less than 1 year,Less than 1 year
6.34499252882656E+017,SkillsTech Australia,Non-Delivery (corporate),2010,Resignation,-,-,-,-,-,-,Job Dissatisfaction,-,-,-,-,-,,Agree,Agree,Agree,Agree,Strongly Disagree,Agree,Agree,Agree,Neutral,Neutral,Agree,Neutral,Agree,Agree,Agree,Agree,Agree,Agree,Agree,Disagree,Disagree,Disagree,Agree,Agree,Neutral,Agree,Neutral,Neutral,Agree,Agree,Yes,Yes,Yes,Yes,Face to Face,-,-,-,On-line,-,Face to Face,-,-,Yes,Yes,Yes,Yes,Yes,,,,,,
6.34508607117812E+017,Brisbane North Institute of TAFE,Non-Delivery (corporate),2011,Resignation,-,-,-,-,-,-,-,-,Study,-,-,-,,Agree,Agree,Agree,Neutral,Neutral,Agree,Strongly Agree,Agree,Disagree,Neutral,Neutral,Neutral,Neutral,Agree,Strongly Agree,Neutral,Agree,Agree,Agree,Disagree,Disagree,Agree,Agree,Agree,Agree,Agree,Agree,Agree,Neutral,Agree,Yes,Yes,Yes,Yes,Face to Face,-,-,Face to Face,-,-,Face to Face,-,-,Yes,Yes,Yes,Yes,Yes,Male,21  25,Permanent Full-time,Administration (AO),3-4,3-4
6.34509621647969E+017,Southbank Institute of Technology,Non-Delivery (corporate),2011,Resignation,-,-,-,-,-,-,-,-,-,Travel,-,-,,Strongly Agree,Strongly Agree,Strongly Agree,Strongly Agree,Strongly Agree,Strongly Agree,Strongly Agree,Strongly Agree,Strongly Agree,Strongly Agree,Strongly Agree,Strongly Agree,Strongly Agree,Strongly Agree,Strongly Agree,Strongly Agree,Strongly Agree,Strongly Agree,Strongly Agree,Strongly Agree,Strongly Agree,Strongly Agree,Strongly Agree,Strongly Agree,Disagree,Strongly Agree,Strongly Agree,Not Applicable,Strongly Agree,Strongly Agree,Yes,No,Yes,Yes,-,-,-,Face to Face,-,-,Face to Face,-,-,Yes,Yes,Yes,Yes,Yes,Female,51-55,Temporary Full-time,Administration (AO),Less than 1 year,Less than 1 year
6.34515603225E+017,Sunshine Coast Institute of TAFE,Non-Delivery (corporate),2011,Resignation,-,-,-,-,-,Contributing Factors. Dissatisfaction ,Job Dissatisfaction,Interpersonal Conflict,Study,-,-,-,Dissatisfaction with %[Institute]Q25LBL%,Strongly Disagree,Disagree,Neutral,Strongly Agree,Strongly Agree,Strongly Disagree,Strongly Disagree,Disagree,Strongly Disagree,Strongly Disagree,Strongly Disagree,Strongly Disagree,Strongly Disagree,Disagree,Agree,Agree,Disagree,Neutral,Agree,Disagree,Disagree,Disagree,Disagree,Disagree,Disagree,Strongly Disagree,Strongly Disagree,Disagree,Strongly Disagree,Strongly Disagree,Yes,Yes,Yes,Yes,Face to Face,-,-,Face to Face,-,-,Face to Face,-,-,Yes,No,No,No,No,Female,36  40,Temporary Full-time,Administration (AO),1-2,1-2
6.34517445885469E+017,Southern Queensland Institute of TAFE,Non-Delivery (corporate),2011,Resignation,Career Move - Public Sector,-,-,-,-,-,-,-,-,-,-,-,,Neutral,Neutral,Agree,Disagree,Neutral,Neutral,Agree,Agree,Neutral,Neutral,Neutral,Neutral,Agree,Strongly Agree,Strongly Agree,Disagree,Neutral,Agree,Strongly Agree,Disagree,Disagree,Disagree,Disagree,Agree,Strongly Agree,Agree,Disagree,Agree,Strongly Agree,Neutral,Yes,Yes,Yes,Yes,Face to Face,-,-,Face to Face,-,-,Face to Face,-,-,Yes,Yes,Yes,Yes,Yes,Female,41  45,Permanent Part-time,Professional Officer (PO),11-20,11-20
6.34519977362813E+017,Southern Queensland Institute of TAFE,Delivery (teaching),2011,Contract Expired,,,,,,,,,,,,,,Neutral,Agree,Agree,Neutral,Strongly Agree,Neutral,Agree,Strongly Agree,Strongly Agree,Strongly Agree,Agree,Strongly Agree,Strongly Agree,Strongly Agree,Strongly Agree,Strongly Agree,Strongly Agree,Strongly Agree,Strongly Agree,Strongly Agree,Agree,Agree,Strongly Agree,Agree,Strongly Agree,Agree,Strongly Agree,Strongly Agree,Strongly Agree,Strongly Agree,Yes,Yes,Yes,Yes,-,On-line,-,-,On-line,-,Face to Face,-,-,Yes,Yes,Yes,Yes,Yes,Female,46  50,Temporary Part-time,Teacher (including LVT),Less than 1 year,3-4
6.34520852160469E+017,Brisbane North Institute of TAFE,Delivery (teaching),2011,Resignation,-,-,-,-,Maternity/Family,-,-,-,-,-,-,-,,Agree,Agree,Agree,Agree,Agree,Neutral,Neutral,Neutral,Neutral,Neutral,Neutral,Disagree,Neutral,Neutral,Neutral,Agree,Neutral,Neutral,Neutral,Neutral,Neutral,Neutral,Neutral,Neutral,Neutral,Neutral,Neutral,Neutral,Neutral,Neutral,Yes,Yes,Yes,Yes,-,-,-,-,-,-,-,-,-,Yes,Yes,Yes,Yes,Yes,Female,51-55,Temporary Full-time,Teacher (including LVT),Less than 1 year,Less than 1 year
6.34521642169688E+017,SkillsTech Australia,Delivery (teaching),2011,Resignation,-,Career Move - Private Sector,-,-,-,-,Job Dissatisfaction,-,-,-,-,-,Job Dissatisfaction,,,,,,,,,,,,,,,,,,,,,,,,,,,,,,,Yes,No,Yes,Yes,-,-,-,-,-,-,-,-,-,Yes,,,,,Female,21  25,Permanent Full-time,Administration (AO),3-4,3-4
6.34522371755781E+017,SkillsTech Australia,Non-Delivery (corporate),2011,Resignation,-,-,-,-,-,-,-,-,-,-,Other,-,,Strongly Disagree,Agree,Agree,Neutral,Agree,Disagree,Neutral,Disagree,Strongly Disagree,,Not Applicable,Not Applicable,Not Applicable,Disagree,Strongly Agree,Strongly Agree,Strongly Agree,Strongly Agree,Agree,Strongly Agree,Strongly Agree,Strongly Agree,Strongly Agree,Agree,Agree,Agree,Agree,Not Applicable,Neutral,Disagree,Yes,Yes,No,Yes,Face to Face,-,-,-,-,-,Face to Face,-,-,No,Yes,Yes,Yes,No,Female,36  40,Temporary Full-time,Administration (AO),Less than 1 year,Less than 1 year
6.34523409759688E+017,Sunshine Coast Institute of TAFE,Non-Delivery (corporate),2011,Resignation,-,-,-,-,-,-,-,-,-,-,Other,-,,,,,,,,,,,,,,,,,,,,,,,,,,,,,,,,,,,,,,,,,,,,,,,,,,,,,,,
6.34525935995156E+017,Central Queensland Institute of TAFE,Non-Delivery (corporate),2011,Termination,,,,,,,,,,,,,,Neutral,Strongly Agree,Agree,Neutral,Strongly Agree,Neutral,Neutral,Neutral,Agree,Neutral,Neutral,Neutral,Neutral,Neutral,Agree,Neutral,Neutral,Agree,Neutral,Neutral,Neutral,Neutral,Neutral,Strongly Agree,Neutral,Neutral,Agree,Neutral,Neutral,Agree,Yes,Yes,Yes,Yes,-,On-line,-,-,On-line,-,-,-,Induction Manual,No,Yes,Yes,Yes,Yes,Female,20 or younger,Temporary Full-time,Administration (AO),Less than 1 year,Less than 1 year
6.34526057042656E+017,Brisbane North Institute of TAFE,Non-Delivery (corporate),2011,Resignation,-,Career Move - Private Sector,-,-,-,-,-,-,-,-,-,-,,Agree,Neutral,Neutral,Strongly Disagree,Neutral,,Agree,Agree,Agree,Neutral,Not Applicable,Not Applicable,Not Applicable,Agree,Agree,Disagree,Disagree,Neutral,Agree,Strongly Disagree,Strongly Disagree,Strongly Disagree,Disagree,Agree,Agree,Neutral,Neutral,Neutral,Agree,Agree,Yes,,Yes,,-,-,-,Face to Face,-,-,-,-,-,Yes,Yes,Yes,Yes,Yes,Female,41  45,Temporary Part-time,Administration (AO),Less than 1 year,Less than 1 year
6.34527641594062E+017,Central Queensland Institute of TAFE,Non-Delivery (corporate),2011,Resignation,-,-,-,-,-,-,-,Interpersonal Conflict,-,-,-,-,,Neutral,Disagree,Disagree,Neutral,Agree,Strongly Disagree,Neutral,Neutral,Strongly Disagree,Strongly Disagree,Strongly Disagree,Strongly Disagree,Strongly Disagree,Disagree,Strongly Disagree,Strongly Disagree,Strongly Disagree,Neutral,Neutral,Disagree,Disagree,Neutral,Neutral,Neutral,Agree,Neutral,Neutral,Neutral,Agree,Disagree,Yes,No,Yes,Yes,-,-,-,Face to Face,On-line,-,Face to Face,-,Induction Manual,No,Yes,Yes,No,No,Female,20 or younger,Temporary Full-time,Administration (AO),1-2,1-2
6.34527818866563E+017,Sunshine Coast Institute of TAFE,Delivery (teaching),2011,Contract Expired,,,,,,,,,,,,,,Agree,Strongly Agree,Agree,Not Applicable,Agree,Agree,Strongly Agree,Strongly Agree,Agree,Agree,Agree,Agree,Neutral,Strongly Agree,Strongly Agree,Strongly Agree,Strongly Agree,Strongly Agree,Strongly Agree,Strongly Agree,Strongly Agree,Strongly Agree,Strongly Agree,Strongly Agree,Agree,Strongly Agree,Strongly Agree,Strongly Agree,Strongly Agree,Strongly Agree,Yes,,Yes,,-,-,-,Face to Face,-,-,-,-,-,No,Yes,Yes,Yes,Yes,Female,56 or older,Contract/casual,Professional Officer (PO),5-6,Less than 1 year
6.34528575096719E+017,Southbank Institute of Technology,Non-Delivery (corporate),2011,Contract Expired,,,,,,,,,,,,,,Strongly Disagree,Agree,Agree,Not Applicable,Agree,Strongly Disagree,Agree,Agree,Disagree,Disagree,Agree,Agree,Agree,Agree,Strongly Agree,Agree,Agree,Agree,Strongly Agree,Disagree,Disagree,Disagree,Agree,Agree,Agree,Agree,Disagree,Agree,Strongly Agree,Agree,Yes,No,Yes,No,-,-,-,Face to Face,-,-,-,-,-,Yes,Yes,Yes,Yes,Yes,Male,56 or older,Temporary Full-time,Professional Officer (PO),3-4,More than 20 years
6.34528748789219E+017,SkillsTech Australia,Non-Delivery (corporate),2011,Contract Expired,,,,,,,,,,,,,,Strongly Agree,Strongly Agree,Strongly Agree,Strongly Agree,Strongly Agree,Strongly Agree,Strongly Agree,Strongly Agree,Strongly Agree,Strongly Agree,Strongly Agree,Strongly Agree,Strongly Agree,Strongly Agree,Strongly Agree,Strongly Agree,Strongly Agree,Strongly Agree,Strongly Agree,Strongly Agree,Strongly Agree,Strongly Agree,Strongly Agree,Strongly Agree,Strongly Agree,Strongly Agree,Strongly Agree,Strongly Agree,Strongly Agree,Strongly Agree,Yes,Yes,Yes,Yes,-,-,-,-,-,-,-,-,-,Yes,Yes,Yes,Yes,Yes,Female,56 or older,Permanent Full-time,Administration (AO),1-2,5-6
6.34529403585E+017,Brisbane North Institute of TAFE,Non-Delivery (corporate),2011,Retrenchment/ Redundancy,,,,,,,,,,,,,,Agree,Agree,Agree,Neutral,Agree,Agree,Agree,Neutral,Agree,Agree,Agree,Agree,Agree,Agree,Agree,Agree,Agree,Neutral,Agree,Agree,Agree,Agree,Agree,Agree,Agree,Agree,Agree,Agree,Agree,Agree,Yes,Yes,Yes,Yes,Face to Face,-,-,Face to Face,-,-,Face to Face,-,-,Yes,Yes,Yes,Yes,Yes,Male,41  45,Temporary Full-time,Professional Officer (PO),7-10,7-10
6.34533959365625E+017,Southern Queensland Institute of TAFE,Delivery (teaching),2011,Contract Expired,,,,,,,,,,,,,,Agree,Strongly Agree,Strongly Agree,Agree,Agree,Agree,Agree,,,,,,,,,,,,,,,,,,,,,,,,,,,,,,,,,,,,,,,,,,,,,,,
6.34535441639531E+017,Southbank Institute of Technology,Delivery (teaching),2011,Termination,,,,,,,,,,,,,,Strongly Agree,Strongly Disagree,Disagree,Strongly Disagree,Strongly Agree,Strongly Agree,Strongly Agree,Strongly Agree,Strongly Agree,Strongly Disagree,Disagree,Disagree,Disagree,Strongly Agree,Disagree,Strongly Agree,Strongly Agree,Disagree,Disagree,Neutral,Neutral,Neutral,Strongly Agree,Strongly Agree,Strongly Agree,Strongly Agree,Strongly Agree,Disagree,Disagree,,Yes,No,No,No,-,-,-,-,-,-,-,-,-,No,Yes,Yes,Yes,No,Female,41  45,Contract/casual,Teacher (including LVT),Less than 1 year,3-4
6.34540823178594E+017,Southern Queensland Institute of TAFE,Delivery (teaching),2011,Contract Expired,,,,,,,,,,,,,,Neutral,Neutral,Neutral,Neutral,Neutral,Agree,Agree,Neutral,Neutral,Neutral,Not Applicable,Not Applicable,Agree,Agree,Agree,Agree,Agree,Agree,Agree,Neutral,Neutral,Neutral,Agree,Agree,Agree,Agree,Agree,Not Applicable,Agree,Agree,Yes,,,,-,-,-,-,-,-,-,-,-,,,,Yes,Yes,Female,41  45,Temporary Full-time,Teacher (including LVT),Less than 1 year,Less than 1 year
6.34541462557656E+017,Central Queensland Institute of TAFE,Non-Delivery (corporate),2011,Resignation,Career Move - Public Sector,-,-,-,-,-,-,-,-,-,-,-,,Disagree,Neutral,Agree,Agree,Neutral,Agree,Agree,Agree,Disagree,Neutral,Agree,Agree,Agree,Strongly Agree,Strongly Agree,Agree,Agree,Agree,Neutral,Agree,Agree,Agree,Neutral,Agree,Agree,Strongly Agree,Strongly Agree,Neutral,Strongly Agree,Strongly Agree,Yes,No,Yes,Yes,-,-,-,-,On-line,-,Face to Face,-,-,No,Yes,Yes,Yes,Yes,Female,21  25,Temporary Full-time,Administration (AO),3-4,Less than 1 year
6.34549611075156E+017,Sunshine Coast Institute of TAFE,Non-Delivery (corporate),2011,Transfer,-,-,-,-,-,-,-,-,-,-,Other,-,,Neutral,Neutral,Agree,Agree,Disagree,Agree,Strongly Agree,Strongly Agree,Strongly Disagree,Strongly Disagree,Strongly Disagree,Strongly Disagree,Strongly Disagree,Agree,Strongly Agree,Strongly Agree,Strongly Agree,Agree,Disagree,Neutral,Neutral,Neutral,Agree,Agree,Agree,Strongly Agree,Agree,Strongly Disagree,Disagree,Disagree,Yes,No,Yes,No,-,-,-,Face to Face,-,-,-,-,-,Yes,Yes,Yes,Yes,Yes,Female,36  40,Temporary Full-time,Administration (AO),1-2,1-2
6.34550190071875E+017,Southern Queensland Institute of TAFE,Non-Delivery (corporate),2011,Resignation,Career Move - Public Sector,-,-,-,-,-,-,-,-,-,-,-,,Agree,Agree,Agree,Disagree,Disagree,Agree,Agree,Agree,,Agree,Agree,Agree,Not Applicable,Agree,Agree,Agree,,Agree,Agree,Agree,Agree,Agree,Agree,Strongly Agree,Strongly Agree,Agree,Strongly Agree,Neutral,Neutral,Neutral,Yes,Yes,Yes,Yes,-,On-line,-,-,-,Induction Manual,Face to Face,-,-,Yes,Yes,Yes,Yes,,Female,51-55,Temporary Part-time,Professional Officer (PO),1-2,1-2
6.34550359425E+017,Southern Queensland Institute of TAFE,Non-Delivery (corporate),2011,Contract Expired,,,,,,,,,,,,,,Not Applicable,Not Applicable,Not Applicable,Not Applicable,Not Applicable,Not Applicable,Not Applicable,Not Applicable,Not Applicable,Not Applicable,Not Applicable,Not Applicable,Not Applicable,Not Applicable,Agree,Not Applicable,Not Applicable,Not Applicable,Not Applicable,Not Applicable,Not Applicable,Not Applicable,Not Applicable,Agree,Agree,Not Applicable,Not Applicable,Not Applicable,Not Applicable,Not Applicable,No,,,,-,-,-,-,-,-,-,-,-,Yes,Yes,Yes,Yes,Yes,,,,,,
6.34551034294687E+017,Tropical North Institute of TAFE,Non-Delivery (corporate),2011,Resignation,,,,,,,,,,,,,,,,,,,,,,,,,,,,,,,,,,,,,,,,,,,,,,,,,,,,,,,,,,,,,,,,,,,
6.34551070180781E+017,Brisbane North Institute of TAFE,Delivery (teaching),2011,Resignation,-,-,-,-,-,-,-,Interpersonal Conflict,-,-,-,-,,Neutral,Neutral,Agree,Agree,Agree,Neutral,Neutral,Neutral,Agree,Neutral,Neutral,Neutral,Neutral,Neutral,Agree,Neutral,Neutral,Neutral,Neutral,Neutral,Neutral,Neutral,Neutral,Disagree,Neutral,Agree,Neutral,Neutral,Neutral,Strongly Disagree,Yes,,Yes,,-,-,-,-,-,-,-,-,-,Yes,Yes,Yes,Yes,Yes,Female,36  40,Permanent Part-time,Workplace Training Officer,5-6,5-6
6.34551832315938E+017,SkillsTech Australia,Non-Delivery (corporate),2011,Transfer,-,-,-,-,-,Contributing Factors. Dissatisfaction ,-,-,-,-,-,-,,Disagree,Agree,Agree,Strongly Disagree,Agree,Agree,Agree,Agree,Agree,Disagree,Agree,Agree,Agree,Agree,Strongly Agree,Agree,Agree,Agree,Agree,Disagree,Disagree,Disagree,Agree,Agree,Agree,Agree,Agree,Agree,Agree,Agree,Yes,Yes,Yes,Yes,-,-,-,-,-,-,-,-,-,Yes,Yes,Yes,No,No,Female,46  50,Permanent Full-time,Administration (AO),3-4,1-2
6.34552014788281E+017,Southern Queensland Institute of TAFE,Non-Delivery (corporate),2011,Contract Expired,,,,,,,,,,,,,,Agree,Agree,Agree,Agree,Agree,Agree,Agree,Agree,Agree,Agree,Agree,Agree,Agree,Agree,Agree,Neutral,Neutral,Agree,Agree,Agree,Agree,Agree,Agree,Agree,Agree,Agree,Agree,Agree,Agree,Agree,Yes,,,,-,On-line,-,-,-,-,-,-,-,No,Yes,Yes,Yes,Yes,Female,46  50,Contract/casual,Operational (OO),Less than 1 year,Less than 1 year
6.3455271177625E+017,Brisbane North Institute of TAFE,Delivery (teaching),2011,Retirement,-,-,-,-,-,-,-,-,-,-,-,NONE,,Agree,Agree,Agree,Disagree,Neutral,Agree,Agree,Agree,Agree,Agree,Agree,Agree,Agree,Strongly Agree,Strongly Agree,Strongly Agree,Strongly Agree,Strongly Agree,Strongly Agree,Strongly Agree,Strongly Agree,Strongly Agree,Strongly Agree,Agree,Agree,Strongly Agree,Neutral,Agree,Agree,Agree,Yes,No,Yes,Yes,-,-,-,-,On-line,-,Face to Face,-,-,Yes,Yes,Yes,Yes,Yes,Female,56 or older,Permanent Full-time,Teacher (including LVT),7-10,7-10
6.3455287020625E+017,Brisbane North Institute of TAFE,Non-Delivery (corporate),2011,Resignation,-,-,-,-,-,-,-,-,-,-,Other,-,,Agree,Disagree,Neutral,Neutral,Neutral,Neutral,Disagree,Disagree,Neutral,Disagree,Neutral,Neutral,Neutral,Disagree,Agree,Agree,Agree,Neutral,Disagree,Neutral,Neutral,Neutral,Agree,Neutral,Disagree,Disagree,Strongly Disagree,Agree,Agree,Disagree,Yes,,Yes,,-,-,-,Face to Face,-,-,-,-,-,Yes,No,No,Yes,No,Male,36  40,Permanent Full-time,Professional Officer (PO),3-4,3-4
6.34552909616094E+017,SkillsTech Australia,Non-Delivery (corporate),2012,Retrenchment/ Redundancy,,,,,,,,,,,,,,Agree,Agree,Neutral,Neutral,Agree,Agree,Agree,Agree,Agree,Agree,Agree,Agree,Agree,Agree,Agree,,Agree,Agree,Agree,Agree,Agree,Agree,Agree,Agree,Agree,Agree,Agree,Agree,Agree,Agree,Yes,Yes,,,Face to Face,-,-,Face to Face,-,-,Face to Face,-,-,Yes,Yes,,Yes,Yes,Female,51-55,Permanent Full-time,Administration (AO),11-20,5-6
6.34553547935261E+017,SkillsTech Australia,Non-Delivery (corporate),2011,Retrenchment/ Redundancy,,,,,,,,,,,,,,Agree,Agree,Strongly Agree,Agree,Neutral,Strongly Agree,Strongly Agree,Strongly Agree,Agree,Agree,Strongly Agree,Strongly Agree,Strongly Agree,Strongly Agree,Strongly Agree,Strongly Agree,Strongly Agree,Agree,Strongly Agree,Strongly Agree,Strongly Agree,Strongly Agree,Strongly Agree,Agree,Strongly Agree,Strongly Agree,Agree,Agree,Strongly Agree,Strongly Agree,Yes,No,Yes,No,-,-,-,-,-,-,-,-,-,Yes,Yes,Yes,Yes,Yes,Female,51-55,Permanent Full-time,Administration (AO),3-4,11-20
6.34553571408906E+017,SkillsTech Australia,Delivery (teaching),2011,Retirement,-,-,-,Ill Health,-,-,Job Dissatisfaction,-,-,-,-,-,Job Dissatisfaction,Agree,Agree,Agree,Agree,Agree,Agree,Agree,Agree,Agree,Neutral,Neutral,Neutral,Neutral,Agree,,Neutral,Agree,Agree,Agree,Agree,Agree,Agree,Agree,,Neutral,Agree,Neutral,Agree,,Neutral,Yes,No,Yes,Yes,-,-,-,Face to Face,-,-,Face to Face,-,-,No,Yes,Yes,Yes,Yes,Male,56 or older,Permanent Full-time,Teacher (including LVT),More than 20 years,More than 20 years
6.34553808149844E+017,Southbank Institute of Technology,Delivery (teaching),2011,Contract Expired,,,,,,,,,,,,,,Strongly Agree,Strongly Agree,Strongly Agree,Strongly Agree,Strongly Agree,Strongly Agree,Strongly Agree,Strongly Agree,Strongly Agree,Strongly Agree,Strongly Agree,Strongly Agree,Strongly Agree,Strongly Agree,Strongly Agree,Strongly Agree,Strongly Agree,Strongly Agree,Strongly Agree,Strongly Agree,Strongly Agree,Strongly Agree,Strongly Agree,Strongly Agree,Strongly Agree,Strongly Agree,Strongly Agree,Strongly Agree,Strongly Agree,Strongly Agree,Yes,Yes,Yes,Yes,-,-,-,-,-,-,-,-,-,No,Yes,Yes,Yes,Yes,Female,31  35,Temporary Full-time,Administration (AO),Less than 1 year,Less than 1 year
6.34556211676511E+017,SkillsTech Australia,Delivery (teaching),2011,Retirement,-,-,-,-,-,-,-,-,-,-,-,NONE,,Agree,Strongly Agree,Agree,Agree,Agree,Agree,Agree,Agree,Agree,Neutral,Agree,Agree,Agree,Agree,Agree,Agree,Agree,Agree,Agree,Agree,Agree,Agree,Agree,Agree,Agree,Agree,Agree,Agree,Agree,Agree,Yes,No,Yes,Yes,-,-,-,-,-,-,-,-,-,Yes,Yes,Yes,Yes,Yes,Male,56 or older,Permanent Full-time,Teacher (including LVT),11-20,11-20
6.345562181325E+017,SkillsTech Australia,Delivery (teaching),2011,Retirement,-,-,-,Ill Health,-,-,-,-,-,-,-,-,,Strongly Agree,Strongly Agree,Strongly Agree,Agree,Agree,Agree,Strongly Agree,Strongly Agree,Strongly Agree,Agree,Not Applicable,Not Applicable,Not Applicable,Strongly Agree,Strongly Agree,,Strongly Agree,Strongly Agree,Strongly Agree,Agree,Agree,Agree,Agree,Agree,Agree,Strongly Agree,Strongly Agree,Agree,Strongly Agree,Agree,Yes,,Yes,Yes,-,-,-,Face to Face,On-line,-,Face to Face,-,-,Yes,Yes,Yes,Yes,Yes,Male,56 or older,Permanent Full-time,Administration (AO),11-20,11-20
6.34556300304062E+017,Tropical North Institute of TAFE,Non-Delivery (corporate),2011,Resignation,Career Move - Public Sector,-,-,-,-,-,-,-,-,-,-,-,,Strongly Agree,Agree,Agree,Neutral,Agree,Agree,Strongly Agree,Agree,Agree,Neutral,Agree,Agree,Agree,Agree,Agree,Agree,Agree,Agree,Agree,Agree,Agree,Agree,Strongly Agree,Agree,Strongly Agree,Strongly Agree,Agree,Agree,Agree,Neutral,No,,,,,,,,,,,,,No,Yes,Yes,Yes,Yes,Female,41  45,Permanent Full-time,Operational (OO),1-2,1-2
6.34556943700261E+017,SkillsTech Australia,Non-Delivery (corporate),2011,Retirement,-,-,-,Ill Health,-,Contributing Factors. Dissatisfaction ,-,-,-,-,-,-,Dissatisfaction with %[Institute]Q25LBL%,,Agree,Neutral,Disagree,Strongly Disagree,,Disagree,Agree,,Disagree,Neutral,Neutral,Neutral,Disagree,Neutral,,Disagree,Agree,Agree,Disagree,Disagree,Disagree,Neutral,Neutral,Neutral,Disagree,Agree,Agree,Agree,Neutral,Yes,No,Yes,No,-,-,-,-,On-line,-,-,-,-,No,Yes,No,Yes,Yes,Male,56 or older,Permanent Full-time,Tutor,7-10,5-6
6.345570077075E+017,SkillsTech Australia,Delivery (teaching),2011,Retrenchment/ Redundancy,,,,,,,,,,,,,,Agree,Agree,Agree,Disagree,Disagree,Neutral,Agree,Agree,Agree,Agree,Agree,Agree,Agree,Strongly Agree,Strongly Agree,Strongly Agree,Strongly Agree,Strongly Agree,Strongly Agree,Strongly Agree,Strongly Agree,Strongly Agree,Strongly Agree,Agree,Neutral,Agree,Neutral,Agree,Strongly Agree,Strongly Agree,Yes,Yes,Yes,No,Face to Face,-,-,-,On-line,-,-,-,-,Yes,Yes,Yes,Yes,Yes,Male,56 or older,Permanent Full-time,Teacher (including LVT),More than 20 years,5-6
6.34557157627136E+017,SkillsTech Australia,Delivery (teaching),2011,Termination,,,,,,,,,,,,,,Disagree,Neutral,Neutral,Neutral,Strongly Disagree,Disagree,Strongly Disagree,Disagree,Strongly Disagree,Strongly Disagree,Strongly Disagree,Strongly Disagree,Neutral,Neutral,Neutral,Agree,Agree,Neutral,Agree,Neutral,Agree,Agree,Agree,Neutral,Strongly Disagree,Neutral,Agree,Agree,Strongly Disagree,Strongly Disagree,No,,,,,,,,,,,,,Yes,No,No,No,No,Male,56 or older,Permanent Full-time,Teacher (including LVT),5-6,11-20
6.345578604725E+017,Southern Queensland Institute of TAFE,Non-Delivery (corporate),2012,Resignation,-,Career Move - Private Sector,-,-,-,-,-,-,-,-,-,-,,Neutral,Neutral,Disagree,Disagree,Strongly Disagree,Disagree,Neutral,Neutral,Disagree,Disagree,Disagree,Neutral,Disagree,Disagree,Agree,Agree,Neutral,Agree,Disagree,Neutral,Neutral,Neutral,Neutral,Agree,Agree,Disagree,Agree,Neutral,Agree,Neutral,Yes,Yes,Yes,Yes,-,-,Induction Manual,Face to Face,-,-,Face to Face,-,-,Yes,Yes,Yes,No,Yes,Male,46  50,Permanent Full-time,Administration (AO),11-20,11-20
6.3455802800948E+017,SkillsTech Australia,Non-Delivery (corporate),2011,Resignation,-,Career Move - Private Sector,-,-,-,-,-,-,-,-,-,-,,Agree,Neutral,Agree,Agree,Neutral,Agree,Neutral,Agree,Agree,Neutral,Agree,Agree,Agree,Agree,Agree,Agree,Agree,Agree,Agree,Agree,Agree,Neutral,Agree,Agree,Agree,Agree,Agree,Agree,Agree,Agree,Yes,Yes,Yes,Yes,-,-,-,-,-,-,-,-,-,Yes,Yes,Yes,Yes,Yes,Male,26  30,Temporary Full-time,Administration (AO),1-2,1-2
6.34558122915156E+017,SkillsTech Australia,Delivery (teaching),2011,Resignation,,,,,,,,,,,,,,,,,,,,,,,,,,,,,,,,,,,,,,,,,,,,,,,,,,,,,,,,,,,,,,,,,,,
6.3455895140073E+017,Tropical North Institute of TAFE,Delivery (teaching),2011,Resignation,-,Career Move - Private Sector,-,-,-,-,-,-,-,-,-,-,,Agree,Agree,Strongly Agree,Agree,Agree,Disagree,Agree,Neutral,Neutral,Strongly Disagree,Strongly Disagree,Strongly Disagree,Neutral,Agree,Strongly Agree,Strongly Agree,Strongly Agree,Strongly Agree,Strongly Agree,Strongly Agree,Agree,Agree,Neutral,Agree,Agree,Agree,Agree,Agree,Agree,Agree,Yes,No,Yes,Yes,-,-,-,-,-,-,-,-,-,Yes,Yes,Yes,Yes,Yes,Female,56 or older,Permanent Part-time,Professional Officer (PO),More than 20 years,Less than 1 year
6.34558972484324E+017,Brisbane North Institute of TAFE,Non-Delivery (corporate),2011,Retrenchment/ Redundancy,,,,,,,,,,,,,,Strongly Agree,Strongly Agree,Strongly Agree,Strongly Agree,Strongly Agree,Strongly Agree,Strongly Agree,Strongly Agree,Strongly Agree,Neutral,Strongly Agree,Strongly Agree,Strongly Agree,Strongly Agree,Strongly Agree,Strongly Agree,Strongly Agree,Strongly Agree,Strongly Agree,Strongly Agree,Strongly Agree,Strongly Agree,Strongly Agree,Strongly Agree,Strongly Agree,Strongly Agree,Strongly Agree,Strongly Agree,Strongly Agree,Strongly Agree,Yes,Yes,Yes,Yes,-,-,-,-,-,-,-,-,-,Yes,Yes,Yes,Yes,Yes,Female,51-55,Permanent Full-time,Administration (AO),11-20,11-20
6.34563192324844E+017,Brisbane North Institute of TAFE,Non-Delivery (corporate),2011,Resignation,-,-,-,Ill Health,-,-,-,-,-,-,-,-,,,,,,,,,,,,,,,,,,,,,,,,,,,,,,,,,,,,,,,,,,,,,,,,,,,,,,,
6.34563904634531E+017,Sunshine Coast Institute of TAFE,Delivery (teaching),2011,Resignation,-,-,-,-,Maternity/Family,-,-,-,-,-,Other,-,,Agree,Agree,Agree,Neutral,Disagree,Neutral,Agree,Agree,Agree,Neutral,Neutral,Neutral,Neutral,Agree,Agree,Agree,Agree,Agree,Agree,Agree,Agree,Agree,Agree,Agree,Agree,Agree,Neutral,Agree,Agree,Agree,Yes,No,Yes,Yes,-,-,-,-,-,-,-,-,-,Yes,Yes,Yes,Yes,Yes,Female,56 or older,Permanent Full-time,Tutor,5-6,5-6
6.34563927869375E+017,SkillsTech Australia,Non-Delivery (corporate),2011,Retirement,-,-,-,-,-,-,-,-,-,-,Other,-,,Strongly Agree,Strongly Agree,Strongly Agree,Strongly Disagree,Strongly Disagree,Disagree,Disagree,Disagree,Disagree,Disagree,Neutral,Neutral,Neutral,Disagree,Strongly Agree,Strongly Agree,Strongly Agree,Strongly Agree,Neutral,Agree,Agree,Agree,Neutral,Neutral,Agree,Disagree,Disagree,Not Applicable,Neutral,Disagree,Yes,No,Yes,No,-,-,-,-,-,-,-,-,-,No,Yes,Yes,Yes,Yes,Female,56 or older,Permanent Full-time,Administration (AO),11-20,3-4
6.34564000928438E+017,SkillsTech Australia,Non-Delivery (corporate),2011,Retirement,-,-,-,-,-,Contributing Factors. Dissatisfaction ,Job Dissatisfaction,Interpersonal Conflict,-,-,-,-,Dissatisfaction with %[Institute]Q25LBL%,Neutral,Neutral,Neutral,Neutral,Neutral,Neutral,Neutral,Neutral,Neutral,Neutral,Neutral,Neutral,Neutral,Neutral,Neutral,Neutral,Neutral,Neutral,Neutral,Neutral,Neutral,Neutral,Neutral,Neutral,Neutral,Neutral,Neutral,Neutral,Neutral,Neutral,Yes,,,,-,-,-,-,On-line,-,-,-,-,Yes,No,No,No,No,Female,56 or older,Permanent Full-time,Administration (AO),7-10,7-10
6.34564018384531E+017,SkillsTech Australia,Delivery (teaching),2011,Retrenchment/ Redundancy,,,,,,,,,,,,,,Agree,Agree,Agree,,Disagree,Disagree,Agree,Agree,Neutral,Disagree,Strongly Disagree,,,Neutral,Agree,Neutral,Neutral,Agree,Agree,Agree,Agree,Agree,Agree,Neutral,Agree,Disagree,Agree,Disagree,Strongly Agree,Neutral,Yes,No,No,No,-,-,-,-,-,-,-,-,-,No,Yes,Yes,Yes,Yes,Male,56 or older,Permanent Full-time,Teacher (including LVT),More than 20 years,More than 20 years
6.3456406360125E+017,SkillsTech Australia,Delivery (teaching),2011,Retirement,-,-,-,Ill Health,-,-,-,-,-,-,-,-,,Neutral,Disagree,Disagree,,Strongly Disagree,Strongly Disagree,Neutral,Neutral,Neutral,Disagree,Neutral,Neutral,Neutral,Agree,Strongly Agree,Agree,Strongly Disagree,Strongly Disagree,Agree,Neutral,Neutral,Agree,Agree,Disagree,Disagree,Agree,Disagree,Disagree,Agree,Agree,Yes,No,No,Yes,-,-,-,-,-,-,Face to Face,-,-,Yes,Yes,Yes,No,No,Male,56 or older,Permanent Full-time,Teacher (including LVT),More than 20 years,More than 20 years
6.34564078365469E+017,SkillsTech Australia,Delivery (teaching),2011,Retirement,-,-,-,-,-,-,-,-,-,-,-,NONE,,Agree,Neutral,Neutral,Strongly Disagree,Agree,Neutral,Agree,Agree,Agree,Strongly Disagree,Disagree,Neutral,Agree,Agree,Strongly Agree,Agree,Neutral,Agree,Agree,Agree,Agree,Agree,Strongly Agree,Agree,Agree,Agree,Strongly Agree,Agree,Agree,Agree,Yes,,Yes,,-,-,-,Face to Face,-,-,-,-,-,Yes,Yes,Yes,Yes,Yes,Male,56 or older,Permanent Full-time,Teacher (including LVT),More than 20 years,1-2
6.34564089906719E+017,SkillsTech Australia,Non-Delivery (corporate),2011,Retirement,-,-,-,-,-,-,-,-,-,-,-,NONE,,Neutral,Agree,Agree,Strongly Disagree,Strongly Disagree,Disagree,Neutral,Neutral,Neutral,Disagree,Disagree,Disagree,Disagree,Strongly Agree,Strongly Agree,Strongly Agree,Agree,Agree,Neutral,Disagree,Disagree,Disagree,Agree,Strongly Agree,Agree,Agree,Disagree,Disagree,Disagree,Neutral,Yes,Yes,Yes,No,Face to Face,-,-,-,On-line,-,-,-,-,Yes,Yes,No,No,Yes,Female,51-55,Permanent Full-time,Administration (AO),11-20,11-20
6.34564734197031E+017,SkillsTech Australia,Delivery (teaching),2011,Resignation,-,-,-,-,-,-,-,-,-,-,-,-,,,,,,,,,,,,,,,,,,,,,,,,,,,,,,,,,,,,,,,,,,,,,,,,,,,,,,,
6.34564737601875E+017,SkillsTech Australia,Delivery (teaching),2011,Resignation,-,-,-,-,-,-,Job Dissatisfaction,-,-,-,-,-,,Strongly Disagree,Agree,Strongly Disagree,Strongly Disagree,Strongly Disagree,Strongly Disagree,Strongly Disagree,Disagree,Neutral,Neutral,Strongly Disagree,Strongly Disagree,Neutral,Strongly Disagree,,Neutral,Neutral,Neutral,Strongly Disagree,Strongly Disagree,Strongly Disagree,Strongly Disagree,Neutral,Neutral,Strongly Agree,Agree,Strongly Agree,Neutral,Disagree,Neutral,Yes,No,No,Yes,-,-,-,-,-,-,-,-,-,No,Yes,No,No,No,Male,46  50,Temporary Full-time,Teacher (including LVT),Less than 1 year,Less than 1 year
6.34564781161406E+017,SkillsTech Australia,Delivery (teaching),2011,Retrenchment/ Redundancy,,,,,,,,,,,,,,Strongly Agree,Agree,Disagree,Neutral,Agree,Agree,Agree,Agree,Agree,Disagree,Neutral,Neutral,Neutral,Disagree,Neutral,Agree,Neutral,Agree,Neutral,Strongly Disagree,Strongly Disagree,Strongly Disagree,Strongly Disagree,Disagree,Neutral,Neutral,Agree,Disagree,Disagree,Strongly Disagree,Yes,,Yes,,-,-,-,-,-,-,-,-,-,Yes,Yes,Yes,Yes,Yes,Male,41  45,Permanent Full-time,Teacher (including LVT),3-4,3-4
6.3456478518625E+017,Brisbane North Institute of TAFE,Non-Delivery (corporate),,Retirement,,,,,,,,,,,,,,,,,,,,,,,,,,,,,,,,,,,,,,,,,,,,,,,,,,,,,,,,,,,,,,,,,,,
6.34564786657344E+017,SkillsTech Australia,Delivery (teaching),2011,Retrenchment/ Redundancy,,,,,,,,,,,,,,Neutral,Strongly Agree,Strongly Agree,Agree,Agree,Agree,Agree,Agree,Neutral,Neutral,Neutral,Neutral,Agree,Strongly Agree,Strongly Agree,Strongly Agree,Strongly Agree,Strongly Agree,Strongly Agree,Strongly Agree,Agree,Strongly Agree,Strongly Agree,Strongly Agree,Agree,Agree,Agree,Agree,Agree,Agree,Yes,No,Yes,No,-,-,-,-,On-line,-,-,-,-,Yes,Yes,Yes,Yes,Yes,Male,56 or older,Permanent Full-time,Teacher (including LVT),More than 20 years,5-6
6.34564899012031E+017,SkillsTech Australia,Delivery (teaching),2011,Retrenchment/ Redundancy,,,,,,,,,,,,,,Disagree,Neutral,Neutral,Strongly Disagree,Strongly Disagree,Disagree,Agree,Agree,Disagree,Strongly Disagree,Disagree,Disagree,Agree,Neutral,Agree,Agree,Neutral,Agree,Agree,Agree,Neutral,Neutral,Disagree,Agree,Agree,Agree,Disagree,Neutral,Agree,Disagree,Yes,No,Yes,Yes,-,-,-,-,-,-,-,-,-,Yes,Yes,No,Yes,No,Male,56 or older,Permanent Full-time,Teacher (including LVT),More than 20 years,More than 20 years
6.34565719506875E+017,Brisbane North Institute of TAFE,Delivery (teaching),2011,Resignation,-,-,-,-,-,-,-,-,-,-,-,NONE,,Not Applicable,Not Applicable,Not Applicable,Not Applicable,Not Applicable,Not Applicable,Not Applicable,Not Applicable,Not Applicable,Not Applicable,Not Applicable,Not Applicable,Not Applicable,Not Applicable,Not Applicable,Not Applicable,Not Applicable,Not Applicable,Not Applicable,Not Applicable,Not Applicable,Not Applicable,Not Applicable,Not Applicable,Not Applicable,Not Applicable,Not Applicable,Not Applicable,Not Applicable,Not Applicable,Yes,Yes,Yes,No,Face to Face,-,-,Face to Face,-,-,-,-,-,Yes,Yes,Yes,Yes,No,Male,46  50,Temporary Full-time,Tutor,Less than 1 year,Less than 1 year
6.34568278370781E+017,SkillsTech Australia,Delivery (teaching),2011,Resignation,-,-,-,-,-,Contributing Factors. Dissatisfaction ,Job Dissatisfaction,-,-,Travel,-,-,Dissatisfaction with %[Institute]Q25LBL%,Disagree,Agree,Agree,Agree,Agree,Disagree,Strongly Disagree,Strongly Disagree,Strongly Disagree,Strongly Disagree,Neutral,Neutral,Neutral,Agree,Agree,Neutral,Disagree,Agree,Agree,Neutral,Neutral,Neutral,Neutral,Agree,Agree,Neutral,Neutral,Neutral,Agree,Neutral,Yes,,,,Face to Face,-,-,Face to Face,-,-,Face to Face,-,-,Yes,Yes,Yes,Yes,No,Male,51-55,Permanent Full-time,Teacher (including LVT),More than 20 years,More than 20 years
6.34568317773125E+017,SkillsTech Australia,Delivery (teaching),2011,Resignation,-,-,-,-,-,-,-,-,-,-,-,NONE,,Agree,Agree,Strongly Agree,Neutral,Agree,Agree,Agree,Agree,Strongly Agree,Neutral,Agree,Agree,Agree,Strongly Agree,Strongly Agree,Agree,Strongly Agree,Agree,Strongly Agree,Agree,Agree,Agree,Agree,Agree,Agree,Strongly Agree,Disagree,Agree,Agree,Agree,Yes,No,Yes,No,-,-,-,Face to Face,-,-,-,-,-,Yes,Yes,Yes,Yes,Yes,Male,56 or older,Permanent Full-time,Teacher (including LVT),More than 20 years,More than 20 years
6.34568388536875E+017,SkillsTech Australia,Delivery (teaching),2011,Retrenchment/ Redundancy,,,,,,,,,,,,,,Neutral,Agree,Agree,Agree,Disagree,Disagree,Agree,Neutral,Neutral,Disagree,Strongly Disagree,Disagree,Neutral,Neutral,Strongly Agree,Agree,Agree,Agree,Strongly Agree,Agree,Agree,Agree,Agree,Agree,Agree,Agree,Agree,Agree,Strongly Agree,Neutral,Yes,Yes,,,Face to Face,-,-,-,-,-,-,-,-,,,,,,Male,56 or older,Permanent Full-time,Teacher (including LVT),More than 20 years,3-4
6.34568471579063E+017,Brisbane North Institute of TAFE,Delivery (teaching),2011,Retirement,-,-,-,-,-,-,-,-,-,-,-,NONE,,Disagree,Disagree,Disagree,Neutral,Strongly Disagree,Strongly Disagree,Agree,Disagree,Disagree,Strongly Disagree,Disagree,Disagree,Neutral,Agree,Strongly Agree,Strongly Agree,Agree,Agree,Agree,Agree,Agree,Disagree,Agree,Disagree,Disagree,Disagree,Disagree,Disagree,Agree,Agree,Yes,No,Yes,No,-,-,-,Face to Face,-,-,-,-,-,Yes,Yes,Yes,Yes,No,Male,56 or older,Permanent Full-time,Teacher (including LVT),More than 20 years,7-10
6.34570010768125E+017,SkillsTech Australia,Non-Delivery (corporate),2011,Retrenchment/ Redundancy,,,,,,,,,,,,,,Disagree,Strongly Disagree,Disagree,Strongly Disagree,Neutral,Disagree,Neutral,Disagree,Neutral,Strongly Disagree,Disagree,Disagree,Neutral,Agree,,Disagree,Neutral,Agree,Neutral,Disagree,Neutral,Neutral,Neutral,Agree,Neutral,Neutral,Agree,Neutral,Agree,Agree,Yes,No,,No,-,-,-,-,On-line,-,-,-,-,No,Yes,No,No,No,Female,51-55,Permanent Full-time,Administration (AO),7-10,7-10
6.34570247249322E+017,Tropical North Institute of TAFE,Delivery (teaching),2011,Resignation,-,-,-,-,-,-,-,-,Study,-,-,-,,Strongly Agree,Strongly Agree,Strongly Agree,Strongly Agree,Strongly Agree,Strongly Agree,Agree,,Strongly Agree,Neutral,Strongly Agree,Strongly Agree,Strongly Agree,Strongly Agree,Strongly Agree,Strongly Agree,Strongly Agree,Strongly Agree,Strongly Agree,Strongly Agree,Strongly Agree,Strongly Agree,Strongly Agree,Strongly Agree,Strongly Agree,Strongly Agree,Strongly Agree,Strongly Agree,Strongly Agree,Strongly Agree,Yes,Yes,Yes,Yes,-,-,-,-,-,-,-,-,-,Yes,Yes,Yes,Yes,Yes,Female,56 or older,Permanent Full-time,Teacher (including LVT),11-20,11-20
6.34570821134531E+017,SkillsTech Australia,Non-Delivery (corporate),2011,Transfer,Career Move - Public Sector,-,-,-,-,-,-,-,-,-,-,-,,Neutral,Agree,Agree,Not Applicable,Neutral,Agree,Agree,Agree,Agree,Agree,Agree,Agree,Agree,Agree,Agree,Neutral,Agree,Agree,Agree,Neutral,Neutral,Neutral,Neutral,Agree,Agree,Agree,Agree,Agree,Agree,Agree,Yes,No,Yes,No,-,-,-,-,-,-,-,-,-,No,Yes,Yes,Yes,Yes,Female,26  30,Temporary Full-time,Administration (AO),Less than 1 year,Less than 1 year
6.34570842998906E+017,SkillsTech Australia,Non-Delivery (corporate),2011,Resignation,-,-,-,-,-,Contributing Factors. Dissatisfaction ,Job Dissatisfaction,Interpersonal Conflict,-,-,Other,-,Other,Strongly Disagree,Neutral,Neutral,Strongly Disagree,Strongly Disagree,Strongly Disagree,Strongly Disagree,Neutral,Strongly Disagree,Strongly Disagree,Strongly Disagree,Strongly Disagree,Strongly Disagree,Strongly Disagree,Disagree,Neutral,Neutral,Neutral,Neutral,Strongly Disagree,Strongly Disagree,Strongly Disagree,Disagree,Neutral,Neutral,Strongly Disagree,Neutral,Strongly Disagree,Neutral,Disagree,Yes,No,,No,-,-,-,-,On-line,-,-,-,-,No,No,No,No,No,Female,46  50,Permanent Full-time,Executive (SES/SO),5-6,5-6
6.34570881452188E+017,SkillsTech Australia,Delivery (teaching),2011,Retirement,-,-,-,-,-,-,-,-,-,-,Other,-,,Neutral,Agree,Agree,Agree,Neutral,Neutral,Agree,Agree,Agree,Neutral,Agree,Agree,Agree,Strongly Agree,Strongly Agree,Agree,Agree,Strongly Agree,Agree,Agree,Agree,Agree,Agree,Agree,Agree,Strongly Agree,Strongly Agree,Agree,Agree,Agree,Yes,Yes,Yes,Yes,-,-,-,-,-,-,-,-,-,Yes,Yes,Yes,Yes,Yes,Male,56 or older,Permanent Full-time,Teacher (including LVT),More than 20 years,More than 20 years
6.34574339025156E+017,Southern Queensland Institute of TAFE,Delivery (teaching),2011,Resignation,-,-,-,-,-,Contributing Factors. Dissatisfaction ,Job Dissatisfaction,-,-,-,-,-,Job Dissatisfaction,Strongly Disagree,Neutral,Agree,Strongly Disagree,Disagree,Neutral,Disagree,Disagree,Disagree,Strongly Disagree,Disagree,Neutral,Agree,Disagree,Agree,Agree,Disagree,Agree,,Disagree,Agree,Neutral,Agree,Disagree,Agree,Disagree,,Agree,Agree,Disagree,No,,,,-,-,-,-,-,-,-,-,-,Yes,Yes,Yes,Yes,No,Male,51-55,Permanent Full-time,Teacher (including LVT),More than 20 years,11-20
6.34574528552031E+017,SkillsTech Australia,Delivery (teaching),2011,Retirement,-,-,-,-,-,-,-,-,-,-,-,-,,Agree,Agree,Agree,Neutral,Disagree,Agree,Agree,Agree,Agree,Strongly Disagree,Agree,Agree,Agree,Agree,Strongly Agree,Agree,Agree,Agree,Agree,Agree,Agree,Agree,Agree,Agree,Agree,Strongly Agree,Agree,Agree,Agree,Agree,Yes,No,Yes,No,-,-,-,-,On-line,-,-,-,-,Yes,Yes,Yes,No,No,Male,56 or older,Permanent Full-time,Teacher (including LVT),More than 20 years,More than 20 years
6.34574540544844E+017,Sunshine Coast Institute of TAFE,Non-Delivery (corporate),2011,Retrenchment/ Redundancy,,,,,,,,,,,,,,,,,,,,,,,,,,,,,,,,,,,,,,,,,,,,,,,,,,,,,,,,,,,,,,,,,,,
6.34575147671875E+017,Sunshine Coast Institute of TAFE,Non-Delivery (corporate),2011,Retrenchment/ Redundancy,,,,,,,,,,,,,,Agree,Agree,Agree,,Disagree,Agree,Agree,Agree,Agree,Agree,Agree,Agree,Agree,Agree,Agree,Agree,Agree,Agree,Agree,Agree,Agree,Agree,Agree,Agree,Agree,Agree,Disagree,Agree,Agree,Agree,Yes,,,Yes,-,-,-,-,-,-,Face to Face,-,-,Yes,Yes,Yes,Yes,Yes,Male,56 or older,Permanent Full-time,Administration (AO),11-20,11-20
6.3457516073125E+017,Sunshine Coast Institute of TAFE,Delivery (teaching),2011,Resignation,-,-,-,-,Maternity/Family,-,-,-,-,Travel,-,-,Maternity/Family,Neutral,Agree,Agree,Agree,Agree,Disagree,Neutral,Disagree,Neutral,Disagree,Neutral,Neutral,Agree,Disagree,Agree,Agree,Agree,Agree,Agree,Agree,Agree,Agree,Agree,Agree,Agree,Disagree,Agree,Strongly Agree,Neutral,Disagree,Yes,,Yes,Yes,-,-,-,-,-,-,-,-,-,Yes,Yes,Yes,Yes,Yes,Male,51-55,Permanent Full-time,Teacher (including LVT),11-20,11-20
6.34575215740156E+017,Sunshine Coast Institute of TAFE,Non-Delivery (corporate),2011,Retrenchment/ Redundancy,,,,,,,,,,,,,,Agree,Agree,Agree,Not Applicable,Neutral,Agree,Agree,Agree,Agree,Neutral,Neutral,Not Applicable,Not Applicable,Agree,Agree,Agree,Agree,Agree,Agree,Agree,Agree,Agree,Agree,Neutral,Neutral,Neutral,Neutral,Neutral,Neutral,Neutral,No,,,,,,,,,,,,,Yes,Yes,Yes,Yes,Yes,,,,,,
6.34575365172344E+017,Sunshine Coast Institute of TAFE,Delivery (teaching),2011,Retrenchment/ Redundancy,,,,,,,,,,,,,,Agree,Neutral,Neutral,Disagree,Disagree,Disagree,Neutral,Neutral,Agree,Neutral,Neutral,Neutral,Agree,Agree,Agree,Agree,Agree,Agree,Agree,Neutral,Neutral,Neutral,Neutral,Disagree,Disagree,Neutral,Neutral,Neutral,Agree,Agree,Yes,No,Yes,No,-,-,-,-,-,-,-,-,-,Yes,Yes,Yes,No,Yes,Male,56 or older,Permanent Full-time,Teacher (including LVT),11-20,11-20
6.345754127925E+017,Sunshine Coast Institute of TAFE,Non-Delivery (corporate),2011,Resignation,-,-,-,-,-,Contributing Factors. Dissatisfaction ,-,-,-,-,-,-,,Disagree,Agree,Agree,Agree,Agree,Disagree,Disagree,Neutral,Disagree,Strongly Disagree,Disagree,Disagree,Disagree,Agree,Agree,Agree,Neutral,Agree,Neutral,Neutral,Neutral,Neutral,Agree,Agree,Agree,Agree,Neutral,Agree,Agree,Disagree,Yes,No,Yes,,-,-,-,-,-,-,Face to Face,-,Induction Manual,No,No,No,No,No,Female,56 or older,Permanent Part-time,Administration (AO),More than 20 years,More than 20 years
6.34575998028125E+017,Brisbane North Institute of TAFE,Delivery (teaching),2011,Retrenchment/ Redundancy,,,,,,,,,,,,,,Neutral,Disagree,Agree,Strongly Disagree,Agree,Disagree,Agree,Agree,Neutral,Agree,Strongly Disagree,Strongly Disagree,Agree,Agree,Agree,Strongly Agree,Strongly Agree,Agree,Agree,Agree,Agree,Agree,Agree,Agree,Agree,Agree,Agree,Agree,Agree,Agree,Yes,,,,Face to Face,-,-,Face to Face,-,-,Face to Face,-,-,Yes,No,Yes,Yes,Yes,Male,56 or older,Permanent Full-time,Teacher (including LVT),More than 20 years,More than 20 years
6.34576020012813E+017,Sunshine Coast Institute of TAFE,Non-Delivery (corporate),2011,Resignation,-,-,-,-,-,-,-,-,-,-,Other,-,,Disagree,Agree,Strongly Disagree,Neutral,Agree,Strongly Disagree,Strongly Disagree,Disagree,Strongly Disagree,Strongly Disagree,Strongly Disagree,Strongly Disagree,Agree,Strongly Disagree,Strongly Agree,Strongly Disagree,Disagree,Strongly Agree,Strongly Agree,Strongly Disagree,Disagree,Strongly Disagree,Agree,Strongly Agree,Disagree,Strongly Disagree,Agree,Strongly Disagree,Strongly Disagree,Strongly Disagree,No,,,,,,,,,,,,,Yes,Yes,No,No,No,Female,56 or older,Permanent Part-time,Professional Officer (PO),11-20,3-4
6.34576068194844E+017,Sunshine Coast Institute of TAFE,Delivery (teaching),2011,Retrenchment/ Redundancy,,,,,,,,,,,,,,Agree,Agree,Strongly Agree,Agree,Strongly Disagree,Strongly Disagree,Agree,Agree,Neutral,Neutral,Neutral,Agree,Agree,Neutral,Strongly Agree,Strongly Agree,Agree,Strongly Agree,Strongly Agree,Agree,Agree,Agree,Agree,Agree,Agree,Strongly Disagree,Agree,Agree,Strongly Agree,Disagree,Yes,No,Yes,No,-,-,-,Face to Face,-,Induction Manual,-,-,-,Yes,Yes,Yes,Yes,Yes,Male,51-55,Permanent Full-time,Teacher (including LVT),11-20,11-20
6.34576230941875E+017,Southern Queensland Institute of TAFE,Delivery (teaching),2011,Contract Expired,,,,,,,,,,,,,,Neutral,Neutral,Neutral,Not Applicable,Agree,Disagree,Neutral,Neutral,Agree,Agree,Not Applicable,,Not Applicable,Neutral,,Agree,Agree,Neutral,,Agree,Agree,Agree,Agree,Agree,,Neutral,Agree,Agree,Agree,Agree,Yes,Yes,Yes,No,-,On-line,-,-,On-line,-,-,-,-,No,Yes,Yes,Yes,Yes,Male,56 or older,Contract/casual,Teacher (including LVT),1-2,1-2
6.34576957824062E+017,SkillsTech Australia,Non-Delivery (corporate),2011,Resignation,-,-,-,-,-,-,-,-,-,-,Other,-,,Strongly Agree,Strongly Agree,Strongly Agree,Neutral,Strongly Disagree,Strongly Agree,Strongly Agree,Strongly Agree,Strongly Agree,Strongly Agree,Agree,Agree,Agree,Strongly Agree,Strongly Agree,Strongly Agree,Strongly Agree,Strongly Agree,Strongly Agree,Strongly Agree,Strongly Agree,Strongly Agree,Strongly Agree,Strongly Agree,Strongly Agree,Strongly Agree,Strongly Agree,Strongly Agree,Strongly Agree,Strongly Agree,Yes,No,Yes,Yes,-,-,-,-,-,-,Face to Face,-,-,Yes,Yes,Yes,Yes,Yes,Female,56 or older,Permanent Full-time,Administration (AO),11-20,1-2
6.34577056474375E+017,Brisbane North Institute of TAFE,Non-Delivery (corporate),2011,Resignation,Career Move - Public Sector,-,-,-,-,-,-,-,-,Travel,-,-,Career Move - Public Sector,Agree,Agree,Not Applicable,Not Applicable,Agree,Strongly Agree,Strongly Agree,Strongly Agree,Strongly Agree,Agree,Strongly Agree,Strongly Agree,Strongly Agree,Strongly Agree,Strongly Agree,Agree,Agree,Strongly Agree,Strongly Agree,Agree,Agree,Agree,Agree,Strongly Agree,Strongly Agree,Strongly Agree,Strongly Agree,Not Applicable,Strongly Agree,Strongly Agree,Yes,No,Yes,Yes,-,-,-,Face to Face,-,-,Face to Face,-,-,Yes,Yes,Yes,Yes,Yes,Female,21  25,Permanent Full-time,Administration (AO),Less than 1 year,Less than 1 year
6.34577068502656E+017,Brisbane North Institute of TAFE,Non-Delivery (corporate),2011,Retirement,-,-,-,-,-,-,-,-,-,-,Other,-,,Agree,Agree,Agree,Agree,Agree,Agree,Agree,Agree,Agree,Agree,Agree,Agree,Agree,Agree,Agree,Agree,Agree,Agree,Agree,Agree,Agree,Agree,Agree,Agree,Agree,Agree,Agree,Agree,Agree,Agree,Yes,,Yes,,-,-,-,Face to Face,-,-,-,-,-,Yes,Yes,Yes,Yes,Yes,Male,56 or older,Permanent Full-time,Administration (AO),3-4,11-20
6.34577125839844E+017,Sunshine Coast Institute of TAFE,Delivery (teaching),2011,Retirement,-,-,-,-,-,-,-,-,-,-,Other,-,,Disagree,Disagree,Neutral,Strongly Disagree,Disagree,Disagree,Disagree,Disagree,Disagree,Strongly Disagree,Disagree,Disagree,Disagree,Disagree,Strongly Agree,Neutral,Neutral,Agree,Agree,Neutral,Neutral,Neutral,Disagree,Strongly Disagree,Strongly Disagree,Strongly Disagree,Strongly Disagree,Strongly Disagree,Agree,Strongly Disagree,No,,,,,,,,,,,,,Yes,Yes,Yes,No,No,Male,56 or older,Permanent Full-time,Teacher (including LVT),More than 20 years,7-10
6.34577814504531E+017,Tropical North Institute of TAFE,Non-Delivery (corporate),2011,Retirement,-,-,-,-,-,-,-,-,-,-,-,NONE,,Agree,Agree,Neutral,Disagree,Disagree,Neutral,Disagree,Agree,Agree,Neutral,Agree,Neutral,Disagree,Disagree,Agree,Agree,Strongly Agree,Agree,Disagree,Agree,Agree,Strongly Agree,Agree,Agree,Agree,Neutral,Disagree,Agree,Disagree,Neutral,Yes,No,Yes,No,-,-,-,Face to Face,-,-,-,-,-,Yes,Yes,Yes,Yes,Yes,Male,56 or older,Permanent Full-time,Administration (AO),More than 20 years,More than 20 years
6.34577945776563E+017,Tropical North Institute of TAFE,Delivery (teaching),2011,Resignation,-,-,-,-,-,-,-,-,-,-,Other,-,,Agree,Agree,Agree,Neutral,Neutral,Agree,Strongly Agree,Strongly Agree,Agree,Neutral,Agree,Agree,Strongly Agree,Agree,Agree,Agree,Agree,Agree,Agree,Neutral,Neutral,Neutral,Neutral,Neutral,Neutral,Agree,Agree,Neutral,Agree,Agree,Yes,,,Yes,-,-,-,-,-,-,Face to Face,-,Induction Manual,No,No,No,No,No,Female,51-55,Contract/casual,Teacher (including LVT),3-4,1-2
6.34577978929375E+017,Southern Queensland Institute of TAFE,Non-Delivery (corporate),2011,Resignation,-,-,-,-,-,-,-,-,-,-,Other,-,,Agree,Strongly Agree,Strongly Agree,Neutral,Neutral,Agree,Agree,Strongly Agree,Strongly Agree,Agree,Not Applicable,Not Applicable,Not Applicable,Strongly Agree,Strongly Agree,Strongly Agree,Strongly Agree,Strongly Agree,Strongly Agree,Strongly Agree,Strongly Agree,Strongly Agree,Strongly Agree,Strongly Agree,Strongly Agree,Strongly Agree,Strongly Agree,Agree,Strongly Agree,Strongly Agree,Yes,Yes,Yes,Yes,Face to Face,-,-,Face to Face,-,-,Face to Face,-,-,No,Yes,Yes,Yes,Yes,Female,31  35,Temporary Part-time,Administration (AO),3-4,1-2
6.34580376657969E+017,Southern Queensland Institute of TAFE,Delivery (teaching),2011,Retrenchment/ Redundancy,,,,,,,,,,,,,,Neutral,Agree,Strongly Agree,Agree,Agree,Neutral,Neutral,Neutral,Neutral,Disagree,Neutral,Neutral,Agree,Neutral,Agree,Agree,Agree,Agree,Agree,Agree,Agree,Agree,Agree,Agree,Strongly Agree,Agree,Strongly Agree,Neutral,Strongly Disagree,Strongly Disagree,Yes,Yes,Yes,Yes,Face to Face,-,-,Face to Face,-,-,Face to Face,-,-,Yes,Yes,Yes,Yes,Yes,Male,41  45,Permanent Part-time,Teacher (including LVT),7-10,7-10
6.34580402580937E+017,Central Queensland Institute of TAFE,Non-Delivery (corporate),2011,Retrenchment/ Redundancy,,,,,,,,,,,,,,Neutral,Agree,Agree,Agree,Agree,Neutral,Agree,Agree,Disagree,Neutral,Neutral,Neutral,Agree,Agree,Agree,Agree,Strongly Agree,Agree,Agree,Agree,Agree,Agree,Agree,Agree,Agree,Agree,Agree,Agree,Agree,Neutral,No,,,,,,,,,,,,,No,Yes,Yes,Yes,Yes,Male,56 or older,Permanent Full-time,Administration (AO),11-20,3-4
6.34580449107031E+017,Sunshine Coast Institute of TAFE,Non-Delivery (corporate),2011,,,,,,,,,,,,,,,,,,,,,,,,,,,,,,,,,,,,,,,,,,,,,,,,,,,,,,,,,,,,,,,,,,,,
6.34580584676406E+017,Sunshine Coast Institute of TAFE,Non-Delivery (corporate),2011,Retirement,-,-,-,-,-,-,-,-,-,-,Other,-,,Agree,Strongly Agree,Strongly Agree,Agree,Agree,Agree,Agree,Agree,Strongly Agree,Agree,Agree,Agree,Neutral,Agree,Agree,Agree,Agree,Agree,Agree,Agree,Agree,Agree,Agree,Neutral,Strongly Agree,,Agree,Agree,Agree,Agree,Yes,Yes,Yes,Yes,Face to Face,-,-,Face to Face,-,-,Face to Face,-,-,Yes,Yes,Yes,Yes,Yes,Female,56 or older,Permanent Full-time,Executive (SES/SO),More than 20 years,More than 20 years
6.3458117411625E+017,SkillsTech Australia,Delivery (teaching),2011,Resignation,-,-,-,-,-,Contributing Factors. Dissatisfaction ,Job Dissatisfaction,Interpersonal Conflict,-,-,-,-,Interpersonal Conflict,Neutral,Disagree,Strongly Disagree,Strongly Disagree,Disagree,Strongly Disagree,Strongly Disagree,Disagree,Disagree,Strongly Disagree,Strongly Disagree,Strongly Disagree,Strongly Disagree,Strongly Disagree,Strongly Agree,Strongly Agree,Strongly Disagree,Agree,Agree,Strongly Disagree,Strongly Disagree,Strongly Disagree,Agree,Strongly Disagree,Agree,Strongly Disagree,Strongly Agree,Strongly Disagree,Strongly Agree,Strongly Disagree,No,,,,,,,,,,,,,No,No,No,No,No,Male,51-55,Permanent Full-time,Teacher (including LVT),More than 20 years,More than 20 years
6.34581193524375E+017,Central Queensland Institute of TAFE,Delivery (teaching),2011,Retirement,-,Career Move - Private Sector,-,-,-,-,Job Dissatisfaction,-,-,-,-,-,Job Dissatisfaction,Disagree,Disagree,Disagree,Neutral,Neutral,Disagree,Neutral,Neutral,Neutral,Disagree,Disagree,Disagree,Neutral,Neutral,Strongly Agree,Neutral,Disagree,Agree,Neutral,Neutral,Neutral,Neutral,Neutral,Neutral,Neutral,Neutral,Neutral,Neutral,Neutral,Neutral,Yes,No,Yes,No,-,-,-,-,-,-,-,-,-,Yes,Yes,Yes,Yes,Yes,Male,46  50,Permanent Full-time,Teacher (including LVT),11-20,11-20
6.34581200570937E+017,SkillsTech Australia,Delivery (teaching),2011,Retrenchment/ Redundancy,,,,,,,,,,,,,,Neutral,Neutral,Neutral,Disagree,Disagree,Neutral,Agree,Agree,Agree,Disagree,Neutral,Neutral,Neutral,Agree,Strongly Agree,Strongly Agree,Agree,Agree,Strongly Agree,Agree,Agree,Neutral,Agree,Disagree,Agree,Agree,Disagree,Disagree,Agree,Neutral,Yes,Yes,Yes,Yes,Face to Face,-,-,Face to Face,-,-,Face to Face,-,-,Yes,Yes,Yes,Yes,Yes,Male,56 or older,Permanent Full-time,Teacher (including LVT),More than 20 years,3-4
6.34581205982188E+017,Brisbane North Institute of TAFE,Delivery (teaching),2012,Transfer,-,-,-,-,-,-,-,-,-,-,-,NONE,,,,,,,,,,,,,,,,,,,,,,,,,,,,,,,,,,,,-,-,-,-,-,-,-,-,-,,,,,,,,,,,
6.34581219297344E+017,Sunshine Coast Institute of TAFE,Non-Delivery (corporate),2011,Retrenchment/ Redundancy,,,,,,,,,,,,,,Disagree,Agree,Agree,Strongly Disagree,Disagree,Disagree,Disagree,Disagree,Strongly Disagree,Strongly Disagree,Disagree,Disagree,Disagree,Disagree,Strongly Agree,Agree,Agree,Agree,Agree,Neutral,Neutral,Neutral,Disagree,Strongly Agree,Agree,Disagree,Agree,Neutral,Agree,Agree,No,,,,,,,,,,,,,No,No,No,No,No,Male,56 or older,Permanent Full-time,Administration (AO),11-20,11-20
6.3458122753E+017,Brisbane North Institute of TAFE,Delivery (teaching),2011,Retrenchment/ Redundancy,,,,,,,,,,,,,,Agree,Agree,Disagree,Disagree,Disagree,Strongly Disagree,Disagree,Strongly Disagree,Agree,Strongly Disagree,Strongly Disagree,Strongly Disagree,Strongly Disagree,Disagree,Agree,Agree,Disagree,Agree,Agree,Disagree,Agree,Disagree,Agree,Strongly Disagree,Disagree,Neutral,Strongly Disagree,Neutral,Disagree,Disagree,Yes,Yes,Yes,No,Face to Face,On-line,-,Face to Face,-,Induction Manual,-,-,-,Yes,No,No,No,No,Female,56 or older,Permanent Full-time,Teacher (including LVT),7-10,7-10
6.34581240039844E+017,Sunshine Coast Institute of TAFE,Delivery (teaching),2011,Retrenchment/ Redundancy,,,,,,,,,,,,,,Disagree,Strongly Disagree,Neutral,Strongly Disagree,Agree,Strongly Disagree,Strongly Disagree,Strongly Disagree,Neutral,Strongly Disagree,Neutral,Neutral,Neutral,Strongly Disagree,Neutral,,Strongly Disagree,Disagree,Neutral,Disagree,Disagree,Disagree,Agree,Agree,Agree,Strongly Disagree,Strongly Disagree,Disagree,Disagree,Disagree,Yes,No,No,No,-,-,-,-,-,-,-,-,-,No,No,Yes,No,No,Male,51-55,Permanent Full-time,Teacher (including LVT),More than 20 years,More than 20 years
6.34581287875E+017,Central Queensland Institute of TAFE,Delivery (teaching),2011,Retirement,-,-,-,-,-,-,Job Dissatisfaction,-,-,-,-,-,,Neutral,Disagree,Disagree,Neutral,Agree,Neutral,Neutral,Neutral,Agree,Disagree,Disagree,Disagree,Disagree,Disagree,Neutral,Neutral,Neutral,Neutral,Agree,Neutral,Neutral,Neutral,Neutral,Neutral,Agree,Neutral,Agree,Neutral,Neutral,Disagree,Yes,,Yes,,-,-,-,Face to Face,-,Induction Manual,-,-,-,No,Yes,Yes,Yes,Yes,Female,56 or older,Permanent Part-time,Teacher (including LVT),11-20,11-20
6.3458137435375E+017,Brisbane North Institute of TAFE,Non-Delivery (corporate),2011,Retirement,-,-,-,-,-,-,-,-,-,-,-,NONE,,Agree,Agree,Agree,Agree,Disagree,Disagree,Agree,Agree,Agree,Agree,Disagree,Disagree,Neutral,Agree,Agree,Strongly Agree,Agree,Agree,Agree,Disagree,Disagree,Disagree,Agree,Agree,Agree,Agree,Agree,Agree,Agree,Agree,No,,,,,,,,,,,,,Yes,Yes,Yes,Yes,Yes,Male,56 or older,Permanent Full-time,Administration (AO),More than 20 years,More than 20 years
6.34581382832188E+017,Brisbane North Institute of TAFE,Non-Delivery (corporate),2011,Retrenchment/ Redundancy,,,,,,,,,,,,,,Disagree,Agree,Neutral,Neutral,Agree,Strongly Disagree,Strongly Disagree,Neutral,Neutral,Neutral,Strongly Disagree,Strongly Disagree,Disagree,Strongly Disagree,Neutral,Agree,Disagree,Strongly Agree,Strongly Disagree,Strongly Disagree,Strongly Disagree,Strongly Disagree,Agree,Strongly Disagree,Neutral,Strongly Disagree,Disagree,Agree,Strongly Disagree,Disagree,Yes,No,Yes,No,-,-,-,Face to Face,-,-,-,-,-,Yes,No,No,No,Yes,Female,56 or older,Permanent Full-time,Administration (AO),11-20,Less than 1 year
6.34581395871562E+017,Sunshine Coast Institute of TAFE,Non-Delivery (corporate),2011,Retrenchment/ Redundancy,,,,,,,,,,,,,,Disagree,Neutral,Agree,Strongly Disagree,Agree,Strongly Disagree,Neutral,Neutral,Disagree,Neutral,Neutral,Neutral,Neutral,Neutral,Strongly Agree,Strongly Agree,Strongly Agree,Strongly Agree,Agree,Strongly Agree,Strongly Agree,Strongly Agree,Strongly Agree,Neutral,Neutral,Neutral,Neutral,Strongly Disagree,Agree,Neutral,Yes,,Yes,,-,-,-,-,-,Induction Manual,-,-,-,Yes,Yes,Yes,Yes,No,Female,56 or older,Permanent Full-time,Administration (AO),11-20,1-2
6.34582037492969E+017,SkillsTech Australia,Delivery (teaching),2011,Contract Expired,,,,,,,,,,,,,,Agree,Agree,Not Applicable,Not Applicable,Agree,Agree,Agree,Agree,Agree,Strongly Agree,Agree,Agree,Not Applicable,Agree,Strongly Agree,Agree,Agree,Agree,Agree,Neutral,Neutral,Neutral,Agree,Agree,Agree,Agree,Agree,Not Applicable,Agree,Strongly Agree,No,,,,,,,,,,,,,No,Yes,Yes,Yes,Yes,Female,36  40,Temporary Full-time,Administration (AO),Less than 1 year,Less than 1 year
6.34582074204062E+017,Sunshine Coast Institute of TAFE,Non-Delivery (corporate),2011,Resignation,-,-,-,-,-,-,-,-,-,-,-,NONE,,Neutral,Disagree,Disagree,Not Applicable,Neutral,Disagree,Agree,Disagree,Agree,Disagree,Disagree,Disagree,Disagree,Not Applicable,Agree,Disagree,Neutral,Agree,Strongly Agree,Strongly Disagree,Strongly Disagree,Strongly Disagree,Disagree,Neutral,Neutral,Neutral,Agree,Neutral,Agree,Neutral,Yes,No,Yes,Yes,-,-,-,Face to Face,-,-,Face to Face,-,-,No,Yes,Yes,Yes,No,Female,26  30,Temporary Full-time,Professional Officer (PO),Less than 1 year,Less than 1 year
6.34582107325625E+017,Sunshine Coast Institute of TAFE,Delivery (teaching),2011,Retirement,-,-,-,-,-,Contributing Factors. Dissatisfaction ,-,-,-,-,-,-,,Strongly Disagree,Agree,Agree,Neutral,Strongly Disagree,Strongly Disagree,Disagree,Strongly Disagree,Strongly Disagree,Strongly Disagree,Disagree,Disagree,Neutral,Neutral,Agree,Agree,Agree,Agree,Neutral,Agree,Agree,Agree,Agree,Neutral,Agree,Disagree,Strongly Disagree,Disagree,Strongly Agree,Neutral,No,,,,,,,,,,,,,Yes,Yes,Yes,Yes,No,Male,56 or older,Permanent Full-time,Teacher (including LVT),More than 20 years,More than 20 years
6.34582121700937E+017,Brisbane North Institute of TAFE,Delivery (teaching),2011,Retrenchment/ Redundancy,,,,,,,,,,,,,,Agree,Agree,Neutral,Disagree,Disagree,Disagree,Agree,Neutral,Agree,Disagree,,Neutral,Neutral,Agree,Agree,Agree,Neutral,Strongly Agree,Agree,Neutral,Neutral,Neutral,Agree,Neutral,Neutral,Agree,Agree,Strongly Disagree,Agree,Strongly Disagree,Yes,,Yes,,-,-,-,Face to Face,-,-,-,-,-,Yes,Yes,No,Yes,No,Female,56 or older,Permanent Part-time,Tutor,11-20,11-20
6.34582155813125E+017,Central Queensland Institute of TAFE,Delivery (teaching),2011,Resignation,-,-,Career Move - Self-employment,-,-,-,-,-,-,-,-,-,,Neutral,Agree,Agree,Neutral,Neutral,Disagree,Agree,Agree,Agree,Disagree,Disagree,Disagree,Disagree,Agree,Agree,Agree,Agree,Agree,Agree,Agree,Agree,Agree,Agree,Agree,Agree,Neutral,Strongly Agree,Neutral,Strongly Agree,Agree,Yes,Yes,Yes,Yes,-,On-line,-,-,On-line,-,-,-,-,Yes,No,No,Yes,No,Female,46  50,Temporary Part-time,Teacher (including LVT),1-2,1-2
6.34582194805469E+017,Brisbane North Institute of TAFE,Delivery (teaching),2011,Retrenchment/ Redundancy,,,,,,,,,,,,,,,,,,,,,,,,,,,,,,,,,,,,,,,,,,,,No,,,,,,,,,,,,,,No,No,,,,,,,,
6.34582239753594E+017,Brisbane North Institute of TAFE,Delivery (teaching),2011,Retrenchment/ Redundancy,,,,,,,,,,,,,,Strongly Disagree,Strongly Disagree,Strongly Disagree,Strongly Disagree,Neutral,Strongly Disagree,Strongly Disagree,Strongly Disagree,Disagree,Strongly Disagree,Strongly Disagree,Strongly Disagree,Strongly Disagree,Strongly Disagree,Neutral,Agree,Disagree,Strongly Disagree,Strongly Disagree,Strongly Disagree,Strongly Disagree,Strongly Disagree,Disagree,Disagree,Neutral,Strongly Disagree,Strongly Disagree,Strongly Disagree,Strongly Disagree,Strongly Disagree,Yes,,,No,-,-,Induction Manual,Face to Face,-,-,-,-,-,No,No,No,No,No,Female,51-55,Permanent Part-time,Teacher (including LVT),More than 20 years,More than 20 years
6.34582296244062E+017,Central Queensland Institute of TAFE,Non-Delivery (corporate),2011,Retrenchment/ Redundancy,,,,,,,,,,,,,,Disagree,Agree,Agree,Agree,Agree,Neutral,Neutral,Disagree,Disagree,Disagree,Neutral,Neutral,Neutral,Agree,Agree,Agree,Agree,Agree,Agree,Agree,Agree,Agree,Agree,Agree,Agree,Agree,Agree,Agree,Agree,,Yes,Yes,Yes,Yes,Face to Face,-,Induction Manual,Face to Face,-,Induction Manual,Face to Face,-,-,No,Yes,Yes,Yes,Yes,Female,56 or older,Permanent Full-time,Administration (AO),11-20,11-20
6.3458231357125E+017,Sunshine Coast Institute of TAFE,Non-Delivery (corporate),2011,Retrenchment/ Redundancy,,,,,,,,,,,,,,Agree,Agree,Agree,Neutral,Agree,Agree,Agree,Agree,Disagree,Neutral,Agree,Agree,Agree,Neutral,Agree,Agree,Agree,Agree,Agree,Agree,Agree,Agree,Agree,Agree,Agree,Disagree,Agree,Disagree,Neutral,Neutral,Yes,No,Yes,No,-,-,-,Face to Face,-,Induction Manual,-,-,-,Yes,Yes,Yes,Yes,Yes,Female,41  45,Permanent Part-time,Administration (AO),11-20,11-20
6.3458303174875E+017,Brisbane North Institute of TAFE,Delivery (teaching),2011,Retrenchment/ Redundancy,,,,,,,,,,,,,,Disagree,Agree,Agree,Disagree,Disagree,Disagree,Disagree,,Neutral,Strongly Disagree,Strongly Disagree,Strongly Disagree,Strongly Disagree,Disagree,Agree,Agree,Agree,Agree,Disagree,Agree,Agree,Agree,Agree,Agree,Neutral,Disagree,Agree,Disagree,Disagree,Strongly Disagree,Yes,No,Yes,No,-,-,-,-,-,-,-,-,-,Yes,No,No,No,No,Female,51-55,Permanent Full-time,Apprentice,5-6,11-20
6.34583077875781E+017,Brisbane North Institute of TAFE,Delivery (teaching),2011,Retrenchment/ Redundancy,,,,,,,,,,,,,,Strongly Disagree,Disagree,Neutral,Neutral,Agree,Disagree,Neutral,Disagree,Disagree,Strongly Disagree,Neutral,Neutral,Neutral,Neutral,Strongly Agree,Agree,Agree,Agree,Strongly Agree,Agree,Agree,Disagree,Agree,Neutral,Neutral,Disagree,Disagree,Agree,Agree,Disagree,Yes,Yes,Yes,Yes,-,-,-,-,-,-,-,-,-,No,Yes,Yes,No,No,Male,56 or older,Permanent Full-time,Teacher (including LVT),More than 20 years,11-20
6.34583118693437E+017,Sunshine Coast Institute of TAFE,Non-Delivery (corporate),2011,Retrenchment/ Redundancy,,,,,,,,,,,,,,Agree,Agree,Agree,Disagree,Neutral,Disagree,Neutral,Neutral,Agree,Disagree,Not Applicable,Not Applicable,Not Applicable,Strongly Agree,Strongly Agree,Agree,Agree,Agree,Strongly Agree,Neutral,Neutral,Neutral,Agree,Agree,Agree,Agree,Agree,Neutral,Agree,Agree,Yes,,Yes,,-,-,-,Face to Face,-,-,-,-,-,Yes,Yes,Yes,Yes,Yes,Female,56 or older,Permanent Full-time,Professional Officer (PO),11-20,11-20
6.34583146836094E+017,Tropical North Institute of TAFE,Delivery (teaching),2011,Retrenchment/ Redundancy,,,,,,,,,,,,,,Strongly Agree,Strongly Agree,Strongly Agree,Strongly Agree,Strongly Agree,Agree,Strongly Agree,Strongly Agree,Strongly Agree,Neutral,Agree,Agree,Agree,Agree,Agree,Agree,Agree,Agree,Agree,Agree,Agree,Agree,Agree,Agree,Agree,Agree,Agree,Agree,Agree,Agree,Yes,Yes,Yes,No,-,On-line,-,Face to Face,-,-,-,-,-,No,Yes,Yes,Yes,Yes,Female,56 or older,Permanent Full-time,Teacher (including LVT),More than 20 years,More than 20 years
6.34583178702344E+017,Central Queensland Institute of TAFE,Non-Delivery (corporate),2011,Retrenchment/ Redundancy,,,,,,,,,,,,,,Disagree,Neutral,Neutral,Disagree,Neutral,Disagree,Neutral,Disagree,Disagree,Strongly Disagree,Neutral,,Neutral,Disagree,Neutral,Agree,Neutral,Agree,Neutral,Neutral,Disagree,Neutral,Neutral,Neutral,Neutral,Disagree,Agree,Neutral,Agree,Neutral,Yes,No,Yes,No,-,-,-,-,-,-,-,-,-,Yes,Yes,Yes,No,No,Male,56 or older,Permanent Full-time,Administration (AO),7-10,7-10
6.34583834033437E+017,Southern Queensland Institute of TAFE,Delivery (teaching),2011,Retirement,-,-,-,-,-,-,-,-,-,-,Other,-,,Agree,Strongly Agree,Strongly Agree,Neutral,Agree,Agree,Agree,Agree,Agree,Agree,Neutral,Neutral,Agree,Agree,Strongly Agree,Agree,Strongly Agree,Strongly Agree,Strongly Agree,Agree,Agree,Agree,Agree,Neutral,Agree,Agree,Neutral,Agree,Agree,Agree,Yes,,Yes,Yes,-,-,-,-,-,-,-,-,-,Yes,Yes,Yes,Yes,Yes,Female,56 or older,Permanent Full-time,Teacher (including LVT),11-20,11-20
6.34583841789688E+017,Southern Queensland Institute of TAFE,Delivery (teaching),2011,Contract Expired,,,,,,,,,,,,,,Disagree,Strongly Disagree,Neutral,Not Applicable,Agree,Neutral,Agree,Agree,Disagree,Disagree,Strongly Disagree,Strongly Disagree,Strongly Disagree,Strongly Disagree,Strongly Agree,Agree,Agree,Strongly Disagree,Strongly Disagree,Disagree,Disagree,Agree,Agree,Disagree,Disagree,Strongly Disagree,Strongly Disagree,Strongly Disagree,Disagree,Disagree,Yes,Yes,Yes,No,Face to Face,-,-,Face to Face,-,-,-,-,-,No,Yes,Yes,Yes,No,Female,36  40,Contract/casual,Teacher (including LVT),Less than 1 year,Less than 1 year
6.34583921802031E+017,Central Queensland Institute of TAFE,Non-Delivery (corporate),2011,Retrenchment/ Redundancy,,,,,,,,,,,,,,,,,,,,,,,,,,,,,,,,,,,,,,,,,,,,,,,,,,,,,,,,,,,,,,,,,,,
6.34583953717969E+017,Central Queensland Institute of TAFE,Non-Delivery (corporate),2011,Retirement,-,-,-,-,-,Contributing Factors. Dissatisfaction ,-,-,-,-,-,-,,Strongly Disagree,Strongly Disagree,Strongly Disagree,Strongly Disagree,Strongly Agree,Strongly Disagree,Strongly Disagree,,Neutral,Strongly Disagree,Strongly Disagree,Strongly Disagree,Disagree,Strongly Disagree,Strongly Agree,Neutral,Strongly Disagree,Strongly Agree,Strongly Agree,Strongly Disagree,Strongly Disagree,Strongly Disagree,Strongly Disagree,Strongly Agree,Strongly Agree,Strongly Disagree,Disagree,Strongly Agree,Disagree,Strongly Disagree,Yes,No,Yes,No,-,-,-,-,-,-,-,-,-,Yes,Yes,No,No,No,Female,56 or older,Permanent Full-time,Administration (AO),More than 20 years,More than 20 years
6.34583967086406E+017,Central Queensland Institute of TAFE,Non-Delivery (corporate),2011,Retrenchment/ Redundancy,,,,,,,,,,,,,,Neutral,Agree,Agree,Agree,Agree,Neutral,Neutral,Disagree,Agree,Disagree,Agree,Agree,Neutral,Agree,Agree,Agree,Agree,Disagree,Agree,Agree,Agree,Agree,Strongly Agree,Strongly Agree,Agree,Disagree,Agree,Strongly Disagree,Agree,Disagree,Yes,No,Yes,No,-,-,-,Face to Face,-,-,-,-,-,No,Yes,Yes,Yes,No,Female,31  35,Permanent Part-time,Technical Officer (TO),5-6,5-6
6.34583968718906E+017,Tropical North Institute of TAFE,Delivery (teaching),2011,Contract Expired,,,,,,,,,,,,,,Agree,Strongly Agree,Not Applicable,,Agree,Agree,Strongly Agree,Agree,Agree,Agree,Strongly Agree,Strongly Agree,Strongly Agree,Strongly Agree,Strongly Agree,Strongly Agree,Strongly Agree,Strongly Agree,Strongly Agree,Strongly Agree,Strongly Agree,Strongly Agree,Strongly Agree,Strongly Agree,Strongly Agree,,,Agree,Strongly Agree,Agree,Yes,,Yes,Yes,-,-,-,Face to Face,-,-,Face to Face,-,-,Yes,Yes,Yes,Yes,Yes,Female,56 or older,Temporary Part-time,Teacher (including LVT),3-4,3-4
6.34584008886406E+017,Brisbane North Institute of TAFE,Non-Delivery (corporate),2011,Transfer,Career Move - Public Sector,-,-,-,-,-,Job Dissatisfaction,-,-,-,-,-,Job Dissatisfaction,Disagree,Disagree,Disagree,Strongly Disagree,Strongly Disagree,Strongly Disagree,Disagree,Disagree,Disagree,Disagree,Disagree,Disagree,Disagree,Disagree,Agree,Neutral,Disagree,Neutral,Agree,Disagree,Disagree,Disagree,Disagree,Agree,Neutral,Disagree,Neutral,Neutral,Neutral,Neutral,Yes,No,Yes,Yes,-,-,-,Face to Face,-,-,Face to Face,-,-,No,Yes,Yes,Yes,No,Male,21  25,Temporary Full-time,Administration (AO),1-2,Less than 1 year
6.34586368436563E+017,Southern Queensland Institute of TAFE,Non-Delivery (corporate),2011,Retirement,-,-,-,-,-,-,-,-,-,-,Other,-,,Disagree,Strongly Agree,Agree,Disagree,Agree,Neutral,Agree,Neutral,Neutral,Disagree,Agree,Neutral,Neutral,Strongly Agree,Strongly Agree,Strongly Agree,Strongly Agree,Strongly Agree,Strongly Agree,Strongly Agree,Strongly Agree,Strongly Agree,Strongly Agree,Agree,Agree,Strongly Agree,Strongly Agree,Agree,Strongly Agree,Strongly Agree,No,,,,,,,,,,,,,Yes,Yes,Yes,,,Female,56 or older,Permanent Part-time,Administration (AO),More than 20 years,More than 20 years
6.34587255819219E+017,Tropical North Institute of TAFE,Non-Delivery (corporate),2011,Retrenchment/ Redundancy,,,,,,,,,,,,,,Agree,Agree,Agree,Strongly Agree,Disagree,Agree,Agree,Agree,Agree,Neutral,Agree,,Agree,Agree,Strongly Agree,Agree,Agree,Strongly Agree,Agree,Agree,Agree,Agree,Agree,Neutral,Agree,Agree,Agree,Agree,Strongly Agree,Agree,No,,,,,,,,,,,,,Yes,Yes,Yes,Yes,Yes,Female,51-55,Permanent Full-time,Administration (AO),More than 20 years,More than 20 years
6.34587282300781E+017,Tropical North Institute of TAFE,Non-Delivery (corporate),2011,Retrenchment/ Redundancy,,,,,,,,,,,,,,Agree,Agree,Agree,Agree,Agree,Disagree,Disagree,Disagree,Agree,Disagree,Disagree,Disagree,Neutral,Agree,Strongly Agree,Strongly Agree,Disagree,Agree,Agree,Agree,Agree,Agree,Agree,Strongly Agree,Strongly Agree,Agree,Agree,Strongly Agree,Strongly Agree,Strongly Agree,Yes,Yes,Yes,Yes,-,-,-,-,-,-,-,-,-,No,Yes,Yes,Yes,Yes,Female,51-55,Permanent Full-time,Professional Officer (PO),11-20,11-20
6.34587326853281E+017,Tropical North Institute of TAFE,Non-Delivery (corporate),2011,Retrenchment/ Redundancy,,,,,,,,,,,,,,Strongly Agree,Strongly Agree,,Agree,Agree,,Strongly Agree,Agree,Agree,Agree,Strongly Agree,Agree,Agree,Agree,Agree,Agree,Agree,Agree,Agree,Agree,Agree,Agree,Agree,Agree,Agree,Agree,Agree,Agree,Agree,Agree,Yes,No,Yes,No,-,-,-,-,-,-,-,-,-,Yes,Yes,Yes,Yes,Yes,Female,56 or older,Permanent Full-time,Administration (AO),11-20,11-20
6.34587358750312E+017,Southbank Institute of Technology,Non-Delivery (corporate),2011,Retrenchment/ Redundancy,,,,,,,,,,,,,,Strongly Disagree,Strongly Disagree,Strongly Disagree,Strongly Disagree,Neutral,Neutral,Strongly Disagree,Agree,Agree,Strongly Disagree,Disagree,Agree,Strongly Disagree,Disagree,Strongly Agree,Agree,Strongly Disagree,Agree,Agree,Disagree,Disagree,Disagree,Agree,Strongly Agree,Agree,Neutral,Strongly Disagree,Agree,Agree,Neutral,Yes,No,Yes,No,-,-,-,Face to Face,-,-,-,-,-,Yes,Yes,Yes,Yes,Yes,Male,56 or older,Permanent Full-time,Administration (AO),3-4,3-4
6.34587368215469E+017,Southbank Institute of Technology,Non-Delivery (corporate),2011,Retrenchment/ Redundancy,,,,,,,,,,,,,,Disagree,Disagree,Strongly Disagree,Disagree,Strongly Disagree,Strongly Disagree,Disagree,Disagree,Strongly Disagree,Strongly Disagree,Strongly Disagree,Strongly Disagree,Disagree,Disagree,Strongly Agree,Neutral,Neutral,Neutral,Strongly Agree,Strongly Disagree,Strongly Disagree,Strongly Disagree,Disagree,Neutral,Neutral,Strongly Disagree,Strongly Disagree,Disagree,Strongly Disagree,Strongly Disagree,No,,,,,,,,,,,,,Yes,No,No,No,No,Female,46  50,Permanent Full-time,Operational (OO),11-20,11-20
6.3458743964875E+017,Tropical North Institute of TAFE,Delivery (teaching),2011,Retrenchment/ Redundancy,,,,,,,,,,,,,,Agree,Strongly Agree,Strongly Agree,Agree,Strongly Agree,Agree,Agree,Agree,Agree,Neutral,Agree,Agree,Agree,Agree,Strongly Agree,Strongly Agree,Strongly Agree,Strongly Agree,Agree,Strongly Agree,Strongly Agree,Strongly Agree,Strongly Agree,Agree,Agree,Agree,Agree,Strongly Agree,Strongly Agree,Agree,Yes,Yes,Yes,Yes,-,-,-,-,-,-,-,-,-,Yes,Yes,Yes,Yes,Yes,Female,56 or older,Permanent Full-time,Teacher (including LVT),11-20,11-20
6.34588118119375E+017,Tropical North Institute of TAFE,Delivery (teaching),2011,Retrenchment/ Redundancy,,,,,,,,,,,,,,Neutral,Strongly Agree,Strongly Agree,Agree,Agree,Neutral,Agree,Agree,Neutral,Agree,Neutral,Neutral,Agree,Agree,Agree,Agree,Agree,Agree,Agree,Agree,Agree,Agree,Agree,Disagree,Disagree,Agree,Disagree,Neutral,Neutral,Agree,Yes,No,Yes,Yes,-,-,-,Face to Face,-,-,Face to Face,-,-,Yes,Yes,Yes,Yes,Yes,Female,41  45,Permanent Part-time,Teacher (including LVT),11-20,1-2
6.34588206563125E+017,Tropical North Institute of TAFE,Non-Delivery (corporate),2011,Retrenchment/ Redundancy,,,,,,,,,,,,,,,,,,,,,,,,,,,,,,,,,,,,,,,,,,,,,,,,-,-,-,-,-,-,-,-,-,,,,,,,,,,,
6.34588972696719E+017,SkillsTech Australia,Delivery (teaching),2011,Retirement,-,-,-,-,-,-,-,-,-,-,-,NONE,,,,,,,,,,,,,,,,,,,,,,,,,,,,,,,,,,,,-,-,-,-,-,-,-,-,-,,,,,,,,,,,
6.34589004859375E+017,Tropical North Institute of TAFE,Non-Delivery (corporate),2011,Retrenchment/ Redundancy,,,,,,,,,,,,,,Neutral,Agree,Neutral,Strongly Disagree,Agree,Neutral,Neutral,Neutral,Disagree,Disagree,Disagree,Disagree,Agree,Agree,Agree,Agree,Agree,Agree,Agree,Agree,Agree,Agree,Agree,Neutral,Neutral,Agree,Agree,Agree,Agree,Neutral,Yes,Yes,Yes,No,Face to Face,-,-,Face to Face,-,-,-,-,-,Yes,Yes,Yes,Yes,Yes,Male,51-55,Permanent Full-time,Administration (AO),11-20,5-6
6.34589056926875E+017,SkillsTech Australia,Delivery (teaching),2011,Retirement,-,-,-,-,-,-,-,-,-,-,-,NONE,,Neutral,Neutral,Agree,Not Applicable,Agree,Neutral,Neutral,Neutral,Agree,Neutral,Neutral,Neutral,Neutral,Neutral,Agree,Neutral,Neutral,Neutral,Agree,Agree,Agree,Agree,Agree,Agree,Agree,Neutral,Neutral,Neutral,Agree,Neutral,Yes,,Yes,,-,-,-,-,On-line,-,-,-,-,No,Yes,Yes,Yes,Yes,Male,51-55,Permanent Full-time,Teacher (including LVT),More than 20 years,More than 20 years
6.34589124148906E+017,Tropical North Institute of TAFE,Non-Delivery (corporate),2011,Retrenchment/ Redundancy,,,,,,,,,,,,,,Agree,Agree,Agree,Neutral,Neutral,Agree,Agree,Agree,Agree,Agree,Agree,Agree,Agree,Agree,Agree,Agree,Neutral,Agree,Agree,Neutral,Neutral,Neutral,Agree,Agree,Agree,Agree,Agree,Agree,Agree,Agree,Yes,No,No,,-,-,-,-,-,-,Face to Face,-,-,Yes,Yes,Yes,Yes,Yes,Male,56 or older,Permanent Full-time,Technical Officer (TO),5-6,5-6
6.34589153179219E+017,Southern Queensland Institute of TAFE,Delivery (teaching),2011,Resignation,-,-,-,-,-,-,-,-,-,-,Other,-,,Strongly Agree,Strongly Agree,Strongly Agree,Neutral,Agree,Strongly Agree,Strongly Agree,Strongly Agree,Strongly Agree,Strongly Agree,Agree,Agree,Agree,Strongly Agree,Strongly Agree,Strongly Agree,Strongly Agree,Strongly Agree,Strongly Agree,Strongly Agree,Strongly Agree,Strongly Agree,Strongly Agree,Agree,Agree,Strongly Agree,Strongly Agree,Strongly Agree,Strongly Agree,Strongly Agree,Yes,Yes,Yes,Yes,Face to Face,-,-,Face to Face,-,-,Face to Face,-,-,No,Yes,Yes,Yes,Yes,Female,51-55,Contract/casual,Teacher (including LVT),Less than 1 year,Less than 1 year
6.34589971216563E+017,Tropical North Institute of TAFE,Delivery (teaching),2011,Retrenchment/ Redundancy,,,,,,,,,,,,,,Neutral,Neutral,Neutral,Disagree,Agree,Agree,Agree,Agree,Agree,Disagree,Disagree,Disagree,Agree,Agree,Strongly Agree,Agree,Strongly Agree,Strongly Agree,Agree,Strongly Agree,Strongly Agree,Strongly Agree,Agree,Agree,Strongly Agree,Agree,Disagree,Agree,Strongly Agree,Agree,No,,,,,,,,,,,,,Yes,Yes,Yes,Yes,Yes,Male,56 or older,Permanent Full-time,Teacher (including LVT),More than 20 years,More than 20 years
6.3459250085375E+017,Sunshine Coast Institute of TAFE,Non-Delivery (corporate),2011,Resignation,-,-,-,-,-,Contributing Factors. Dissatisfaction ,Job Dissatisfaction,Interpersonal Conflict,-,-,-,-,,,,,,,,,,,,,,,,,,,,,,,,,,,,,,,,,,,,,,,,,,,,,,,,,,,,,,,
6.34592549493281E+017,Southern Queensland Institute of TAFE,Non-Delivery (corporate),2011,Resignation,-,-,-,-,-,-,-,-,-,-,Other,-,,Agree,Neutral,Neutral,Neutral,Disagree,Agree,Agree,Agree,Neutral,Neutral,Agree,Agree,Agree,Agree,Agree,Agree,Agree,Agree,Agree,Agree,Agree,Agree,Agree,Agree,Agree,Agree,Agree,Disagree,Agree,Neutral,Yes,,Yes,,-,-,-,Face to Face,-,Induction Manual,-,-,-,No,Yes,Yes,Yes,Yes,Female,46  50,Temporary Part-time,Administration (AO),3-4,3-4
6.34593386107187E+017,Southern Queensland Institute of TAFE,Non-Delivery (corporate),2011,Resignation,-,-,-,-,-,-,-,-,-,-,Other,-,,Agree,Strongly Agree,Neutral,Agree,Neutral,Strongly Agree,Strongly Agree,Strongly Agree,Strongly Agree,Agree,Not Applicable,Not Applicable,Not Applicable,Strongly Agree,Strongly Agree,Agree,Strongly Agree,Strongly Agree,Strongly Agree,Disagree,Disagree,Disagree,Neutral,Agree,Agree,Strongly Agree,Strongly Agree,Agree,Strongly Agree,Strongly Agree,Yes,Yes,No,No,Face to Face,-,-,-,-,-,-,-,-,Yes,Yes,Yes,Yes,Yes,Female,41  45,Temporary Full-time,Administration (AO),1-2,1-2
6.34595096448594E+017,Southern Queensland Institute of TAFE,Non-Delivery (corporate),2011,Retirement,-,-,-,Ill Health,-,-,-,-,-,-,-,-,,Agree,Strongly Agree,Strongly Agree,Neutral,Agree,Agree,Agree,Agree,Neutral,Agree,Agree,Agree,Not Applicable,Strongly Agree,Strongly Agree,Agree,Agree,Strongly Agree,Strongly Agree,Agree,Agree,Agree,Neutral,Strongly Agree,Strongly Agree,Strongly Agree,Strongly Agree,,Strongly Agree,Strongly Agree,Yes,Yes,,,-,-,Induction Manual,-,-,-,-,-,-,Yes,Yes,Yes,Yes,Yes,Female,56 or older,Permanent Part-time,Administration (AO),7-10,7-10
6.34595867098906E+017,Central Queensland Institute of TAFE,Non-Delivery (corporate),2011,Resignation,-,Career Move - Private Sector,-,-,-,-,-,-,-,-,-,-,,Neutral,Neutral,Neutral,Neutral,Agree,Agree,Neutral,Neutral,Neutral,Disagree,Neutral,Neutral,Neutral,Neutral,Agree,Agree,Agree,Agree,Agree,Agree,Agree,Agree,Agree,Neutral,Neutral,Agree,Agree,Not Applicable,Agree,Agree,Yes,,Yes,,-,-,-,-,On-line,-,-,-,-,No,Yes,Yes,Yes,Yes,Female,41  45,Temporary Full-time,Administration (AO),3-4,3-4
6.34596021056875E+017,Brisbane North Institute of TAFE,Non-Delivery (corporate),2011,Contract Expired,,,,,,,,,,,,,,Agree,Agree,Agree,Not Applicable,Agree,Strongly Agree,Strongly Agree,Strongly Agree,Agree,Agree,Agree,Agree,Agree,Strongly Agree,Strongly Agree,Strongly Agree,Strongly Agree,Agree,Agree,Agree,Agree,Agree,Agree,Disagree,Neutral,Strongly Agree,Agree,Agree,Agree,Agree,Yes,No,Yes,Yes,-,-,-,Face to Face,-,-,Face to Face,-,-,Yes,Yes,Yes,Yes,Yes,Female,26  30,Temporary Full-time,Technical Officer (TO),Less than 1 year,Less than 1 year
6.34596058346875E+017,Brisbane North Institute of TAFE,Non-Delivery (corporate),2012,Contract Expired,,,,,,,,,,,,,,Strongly Agree,Neutral,Agree,Neutral,Strongly Agree,Strongly Agree,Strongly Agree,Strongly Agree,Strongly Agree,Strongly Agree,Neutral,Neutral,Neutral,Agree,Strongly Agree,Agree,Strongly Agree,Strongly Agree,Strongly Agree,Neutral,Neutral,Neutral,Agree,Agree,Neutral,Agree,Strongly Agree,Neutral,Agree,Strongly Agree,No,,,,,,,,,,,,,No,Yes,Yes,Yes,Yes,,,,,,
6.34598712269375E+017,Brisbane North Institute of TAFE,Non-Delivery (corporate),2012,Contract Expired,,,,,,,,,,,,,,Neutral,Strongly Agree,Strongly Agree,Neutral,Agree,Disagree,Agree,Neutral,Strongly Disagree,Disagree,Disagree,Disagree,Disagree,Agree,Agree,Agree,Neutral,Neutral,Neutral,Neutral,Neutral,Neutral,Neutral,Agree,Agree,Neutral,Agree,Strongly Agree,Agree,Agree,Yes,Yes,Yes,Yes,-,-,-,-,-,-,-,-,-,Yes,Yes,Yes,Yes,Yes,Male,46  50,Permanent Full-time,Teacher (including LVT),Less than 1 year,Less than 1 year
6.34599352590156E+017,Central Queensland Institute of TAFE,Non-Delivery (corporate),2011,Contract Expired,,,,,,,,,,,,,,Neutral,Agree,Agree,Agree,Agree,Disagree,Agree,Agree,Disagree,Disagree,Disagree,Neutral,Agree,Agree,Strongly Agree,Strongly Agree,Strongly Agree,Strongly Agree,Strongly Agree,Strongly Agree,Strongly Agree,Strongly Agree,Strongly Agree,Strongly Agree,Strongly Agree,Neutral,Strongly Agree,Strongly Agree,Strongly Agree,Strongly Agree,Yes,,Yes,,-,-,-,-,-,-,-,-,-,No,Yes,Yes,Yes,Yes,Female,51-55,Temporary Part-time,Professional Officer (PO),3-4,Less than 1 year
6.34600207124687E+017,Brisbane North Institute of TAFE,Delivery (teaching),2011,Contract Expired,,,,,,,,,,,,,,Strongly Disagree,Strongly Disagree,Strongly Disagree,Strongly Disagree,Strongly Disagree,Disagree,Neutral,Strongly Disagree,Neutral,Disagree,Strongly Disagree,Strongly Disagree,Strongly Disagree,Disagree,Agree,Strongly Agree,Agree,Strongly Agree,Strongly Agree,Neutral,Neutral,Neutral,Agree,Agree,Agree,Strongly Disagree,Agree,Strongly Disagree,Agree,Strongly Disagree,Yes,,Yes,Yes,-,-,-,-,-,-,Face to Face,-,-,No,No,Yes,Yes,,Female,41  45,Temporary Part-time,Workplace Training Officer,3-4,3-4
6.34600285342656E+017,Central Queensland Institute of TAFE,Non-Delivery (corporate),2011,Resignation,-,-,-,Ill Health,-,-,-,-,-,-,Other,-,Other,Strongly Agree,Strongly Agree,Strongly Agree,Strongly Agree,Strongly Agree,Strongly Agree,Strongly Agree,Strongly Agree,Strongly Agree,Strongly Agree,Strongly Agree,Strongly Agree,Strongly Agree,Strongly Agree,Strongly Agree,Strongly Agree,Strongly Agree,Strongly Agree,Strongly Agree,Strongly Agree,Strongly Agree,Strongly Agree,Strongly Agree,Strongly Agree,Strongly Agree,Strongly Agree,Strongly Agree,Strongly Agree,Strongly Agree,Strongly Agree,Yes,No,Yes,No,-,-,-,Face to Face,-,-,-,-,-,No,Yes,Yes,Yes,Yes,Female,41  45,Temporary Full-time,Administration (AO),Less than 1 year,Less than 1 year
6.34601227926094E+017,Brisbane North Institute of TAFE,Non-Delivery (corporate),2012,Transfer,-,-,-,-,-,-,-,-,-,-,Other,-,,Agree,Agree,Neutral,Agree,Agree,Agree,Strongly Agree,Agree,Agree,Neutral,Agree,Agree,Agree,Agree,Agree,Agree,Neutral,Agree,Agree,Agree,Agree,Agree,Neutral,Agree,Neutral,Neutral,Strongly Agree,Disagree,Agree,Neutral,Yes,No,Yes,Yes,-,-,-,Face to Face,-,-,Face to Face,-,-,Yes,Yes,Yes,Yes,Yes,Female,31  35,Permanent Full-time,Administration (AO),3-4,1-2
6.34612373906875E+017,Brisbane North Institute of TAFE,Non-Delivery (corporate),2012,Retirement,-,-,-,-,-,-,-,-,-,-,-,NONE,,Disagree,Neutral,Disagree,Disagree,Agree,Disagree,Agree,Agree,Agree,Strongly Disagree,Agree,Agree,Agree,Agree,Strongly Agree,Disagree,Disagree,Agree,Strongly Agree,Disagree,Agree,Agree,Agree,Agree,Agree,Agree,Agree,Agree,Agree,Agree,Yes,No,Yes,No,-,-,-,-,-,-,-,-,-,Yes,Yes,Yes,Yes,No,Female,56 or older,Permanent Full-time,Administration (AO),More than 20 years,More than 20 years
6.34617650635469E+017,Southern Queensland Institute of TAFE,Delivery (teaching),2012,Resignation,-,-,-,-,Maternity/Family,Contributing Factors. Dissatisfaction ,-,-,-,-,-,-,,Disagree,Neutral,Neutral,Neutral,Neutral,Strongly Disagree,Neutral,Disagree,Neutral,Disagree,Neutral,Neutral,Agree,Agree,Strongly Agree,Strongly Agree,Neutral,Agree,Agree,Neutral,Neutral,,Agree,Agree,Strongly Disagree,Agree,Disagree,Strongly Disagree,Strongly Agree,Neutral,,,,,-,-,-,-,-,-,-,-,-,,,,,,Male,41  45,Permanent Full-time,Teacher (including LVT),3-4,3-4
6.34619453818281E+017,Tropical North Institute of TAFE,Delivery (teaching),2012,Contract Expired,,,,,,,,,,,,,,Strongly Agree,Strongly Agree,Strongly Agree,Strongly Agree,Agree,Agree,Agree,Agree,Agree,Agree,Agree,Agree,Agree,Agree,Agree,Agree,Agree,Agree,Agree,Agree,Agree,Agree,Agree,Neutral,Neutral,Neutral,Neutral,Neutral,Neutral,Neutral,No,,,,,,,,,,,,,No,No,No,No,No,Male,31  35,Permanent Full-time,Executive (SES/SO),Less than 1 year,More than 20 years
6.34620112502188E+017,Brisbane North Institute of TAFE,Non-Delivery (corporate),2012,Transfer,-,-,-,-,-,-,-,-,-,-,-,NONE,,Agree,Neutral,Neutral,Neutral,Neutral,Agree,Agree,Agree,Agree,Neutral,Agree,Neutral,Disagree,Agree,Agree,Agree,Agree,Agree,Agree,Agree,Agree,Neutral,Agree,Agree,Agree,Agree,Agree,Agree,Agree,Agree,Yes,Yes,Yes,Yes,Face to Face,-,-,Face to Face,-,-,Face to Face,-,-,Yes,Yes,Yes,Yes,Yes,Male,51-55,Permanent Full-time,Professional Officer (PO),Less than 1 year,11-20
6.34620134299688E+017,Sunshine Coast Institute of TAFE,Non-Delivery (corporate),2012,Resignation,Career Move - Public Sector,-,-,-,Maternity/Family,-,-,-,-,-,-,-,Maternity/Family,Agree,Agree,Agree,Strongly Disagree,Agree,Disagree,Agree,Agree,Agree,Agree,Agree,Disagree,Agree,Disagree,Agree,Agree,Agree,Strongly Disagree,Agree,Agree,Agree,Agree,Agree,Neutral,,Disagree,Agree,Strongly Disagree,,Neutral,Yes,,Yes,,-,-,-,Face to Face,-,Induction Manual,-,-,-,Yes,Yes,Yes,Yes,Yes,Female,36  40,Temporary Full-time,Administration (AO),5-6,1-2
6.34623528068438E+017,Brisbane North Institute of TAFE,Non-Delivery (corporate),2012,Contract Expired,,,,,,,,,,,,,,Strongly Agree,Strongly Agree,Strongly Agree,Neutral,Strongly Agree,Strongly Agree,Strongly Agree,Strongly Agree,Strongly Agree,Agree,Strongly Agree,Strongly Agree,Strongly Agree,Strongly Agree,Strongly Agree,Strongly Agree,Strongly Agree,Strongly Agree,Strongly Agree,Agree,Agree,Agree,Agree,Strongly Agree,Strongly Agree,Strongly Agree,Strongly Agree,Neutral,Strongly Agree,Strongly Agree,Yes,No,Yes,Yes,-,-,-,Face to Face,-,-,Face to Face,-,-,Yes,Yes,Yes,Yes,Yes,Female,20 or younger,Temporary Full-time,Administration (AO),Less than 1 year,Less than 1 year
6.34623599234844E+017,Southern Queensland Institute of TAFE,Non-Delivery (corporate),2012,Resignation,-,-,-,Ill Health,-,-,-,-,-,-,-,-,,Agree,Agree,Neutral,Neutral,Agree,Neutral,Agree,Agree,Agree,Neutral,Neutral,Neutral,Agree,Neutral,Agree,Neutral,Neutral,Agree,Neutral,Neutral,Agree,Neutral,Neutral,Neutral,Neutral,Neutral,Agree,Neutral,Neutral,Neutral,Yes,Yes,Yes,Yes,Face to Face,-,-,Face to Face,-,-,Face to Face,-,-,Yes,Yes,Yes,Yes,Yes,Female,56 or older,Permanent Full-time,Administration (AO),11-20,1-2
6.34625490994219E+017,Brisbane North Institute of TAFE,Delivery (teaching),2012,Retirement,,,,,,,,,,,,,,,,,,,,,,,,,,,,,,,,,,,,,,,,,,,,,,,,,,,,,,,,,,,,,,,,,,,
6.34625548923437E+017,Brisbane North Institute of TAFE,Delivery (teaching),2012,Retirement,-,-,Career Move - Self-employment,-,-,-,-,-,-,-,-,-,,Agree,Neutral,Neutral,Neutral,Neutral,Disagree,Neutral,Neutral,Agree,Strongly Disagree,Agree,Agree,Neutral,Agree,Disagree,Neutral,,Disagree,Disagree,Disagree,Disagree,Disagree,Neutral,,Neutral,Agree,Agree,Neutral,Disagree,Disagree,Yes,No,No,No,-,-,-,-,-,-,-,-,-,No,No,No,Yes,Yes,Male,56 or older,Permanent Full-time,Teacher (including LVT),11-20,3-4
6.34628700820312E+017,Brisbane North Institute of TAFE,Non-Delivery (corporate),2012,Contract Expired,,,,,,,,,,,,,,Agree,Strongly Agree,Strongly Agree,Neutral,Agree,Agree,Agree,Agree,Agree,Neutral,Agree,Agree,Agree,Strongly Agree,Strongly Agree,Strongly Agree,Strongly Agree,Strongly Agree,Strongly Agree,Agree,Agree,Agree,Strongly Agree,Strongly Agree,Strongly Agree,Strongly Agree,Strongly Agree,Strongly Agree,Strongly Agree,Strongly Agree,Yes,Yes,Yes,Yes,-,-,-,-,-,-,-,-,-,Yes,Yes,Yes,Yes,Yes,Male,41  45,Permanent Full-time,Teacher (including LVT),1-2,11-20
6.34634833429063E+017,Brisbane North Institute of TAFE,Delivery (teaching),2012,Resignation,-,-,-,-,-,Contributing Factors. Dissatisfaction ,-,-,-,-,-,-,,Disagree,Neutral,Agree,Disagree,Disagree,Strongly Disagree,Strongly Disagree,Strongly Disagree,Strongly Disagree,Strongly Disagree,Strongly Disagree,Strongly Disagree,Strongly Disagree,Disagree,Agree,Neutral,Neutral,Neutral,Disagree,Strongly Agree,Strongly Agree,Neutral,Neutral,Disagree,Disagree,Strongly Disagree,Disagree,Disagree,Neutral,Disagree,Yes,Yes,Yes,Yes,-,-,-,-,-,-,-,-,-,No,No,No,No,No,Female,31  35,Permanent Full-time,Teacher (including LVT),1-2,1-2
6.34635009354531E+017,Central Queensland Institute of TAFE,Non-Delivery (corporate),2012,Resignation,-,Career Move - Private Sector,-,-,-,-,-,-,-,-,-,-,,Agree,Agree,Strongly Agree,Agree,Agree,Agree,Strongly Agree,Strongly Agree,Strongly Agree,Strongly Agree,Strongly Agree,Strongly Agree,Strongly Agree,Strongly Agree,Strongly Agree,Agree,Strongly Agree,Strongly Agree,Strongly Agree,Strongly Agree,Strongly Agree,Strongly Agree,Agree,Strongly Agree,Strongly Agree,Strongly Agree,Strongly Agree,Agree,Strongly Agree,Strongly Agree,Yes,,,Yes,-,-,-,-,-,-,Face to Face,-,-,No,Yes,Yes,Yes,Yes,Female,31  35,Temporary Part-time,Administration (AO),Less than 1 year,Less than 1 year
6.34635670462188E+017,Southern Queensland Institute of TAFE,Non-Delivery (corporate),2012,Termination,,,,,,,,,,,,,,Disagree,Strongly Agree,Strongly Agree,Strongly Agree,Strongly Agree,Agree,Strongly Agree,Disagree,Strongly Disagree,Neutral,Strongly Agree,Strongly Agree,Strongly Agree,Strongly Agree,Strongly Agree,Strongly Agree,Strongly Agree,Strongly Agree,Strongly Agree,Strongly Agree,Strongly Agree,Strongly Agree,Strongly Agree,Strongly Agree,Strongly Agree,Strongly Agree,Strongly Agree,Strongly Disagree,Agree,Neutral,Yes,Yes,,,-,-,Induction Manual,-,-,-,-,-,-,No,Yes,Yes,Yes,Yes,Female,41  45,Temporary Full-time,Administration (AO),Less than 1 year,Less than 1 year
6.34638198687656E+017,Southern Queensland Institute of TAFE,Delivery (teaching),2012,Resignation,-,Career Move - Private Sector,-,-,-,-,-,-,-,-,-,-,,Neutral,Strongly Agree,Strongly Agree,Neutral,Disagree,Agree,Agree,,Agree,Neutral,Neutral,Neutral,Neutral,Strongly Agree,Strongly Agree,Agree,Agree,Strongly Agree,Agree,Agree,Neutral,Neutral,Agree,Agree,Agree,Strongly Agree,Agree,Agree,Agree,Neutral,No,,,,,,,,,,,,,,,,,,Male,36  40,Permanent Full-time,Teacher (including LVT),7-10,7-10
6.3463826696125E+017,Southern Queensland Institute of TAFE,Delivery (teaching),2012,Resignation,Career Move - Public Sector,-,-,-,-,-,Job Dissatisfaction,-,-,-,-,-,Career Move - Public Sector,Agree,Strongly Agree,Strongly Agree,Not Applicable,Agree,Strongly Agree,Strongly Agree,Strongly Agree,Strongly Agree,Agree,Agree,Agree,Strongly Agree,Strongly Agree,Strongly Agree,Disagree,Strongly Agree,Agree,Strongly Agree,Strongly Disagree,Strongly Disagree,Strongly Disagree,Strongly Disagree,Agree,Agree,Strongly Agree,Strongly Agree,Agree,Strongly Agree,Agree,Yes,,Yes,Yes,-,-,-,Face to Face,-,Induction Manual,Face to Face,-,-,Yes,Yes,Yes,Yes,Yes,Male,41  45,Temporary Full-time,Teacher (including LVT),1-2,1-2
6.34638274154219E+017,Brisbane North Institute of TAFE,Non-Delivery (corporate),2012,Resignation,Career Move - Public Sector,Career Move - Private Sector,-,-,-,-,-,-,-,-,Other,-,Other,Agree,Strongly Agree,Strongly Agree,Neutral,Agree,Agree,Agree,Agree,Neutral,Neutral,Disagree,Disagree,Strongly Agree,Agree,Strongly Agree,Strongly Agree,Strongly Agree,Strongly Agree,Strongly Agree,Agree,Agree,Agree,Agree,Strongly Agree,Strongly Agree,Agree,Strongly Agree,Strongly Agree,Agree,Neutral,Yes,No,Yes,No,-,-,-,Face to Face,-,-,-,-,-,Yes,Yes,Yes,Yes,Yes,Female,26  30,Temporary Full-time,Administration (AO),1-2,1-2
6.34638401683906E+017,Central Queensland Institute of TAFE,Delivery (teaching),2012,Resignation,-,-,-,-,-,Contributing Factors. Dissatisfaction ,-,-,-,-,-,-,,Neutral,Strongly Disagree,Strongly Disagree,Neutral,Agree,Disagree,Disagree,Disagree,Agree,Strongly Disagree,Strongly Disagree,Strongly Disagree,Not Applicable,Agree,Strongly Agree,Disagree,Disagree,Agree,Agree,Disagree,Disagree,Disagree,Agree,Agree,Agree,Agree,Strongly Disagree,Neutral,Strongly Disagree,Strongly Disagree,No,,,,,,,,,,,,,No,Yes,Yes,No,No,Male,56 or older,Permanent Full-time,Teacher (including LVT),11-20,11-20
6.34640883155625E+017,Brisbane North Institute of TAFE,Non-Delivery (corporate),2012,Retirement,-,-,-,-,-,-,-,-,-,-,-,NONE,,Neutral,Agree,Agree,Agree,Agree,Agree,Agree,Agree,Agree,Neutral,Agree,Agree,Agree,Strongly Agree,Agree,Agree,Agree,Agree,Agree,Agree,Agree,Agree,Agree,Agree,Agree,Agree,Agree,Agree,Agree,Agree,Yes,,Yes,,-,-,-,-,-,-,-,-,-,Yes,Yes,Yes,Yes,Yes,Female,56 or older,Permanent Part-time,Administration (AO),11-20,1-2
6.34647786128438E+017,Sunshine Coast Institute of TAFE,Non-Delivery (corporate),2012,Termination,,,,,,,,,,,,,,Agree,Neutral,Neutral,Neutral,Agree,Agree,Agree,Agree,Agree,Disagree,Not Applicable,Not Applicable,Not Applicable,Disagree,Agree,Strongly Disagree,Disagree,Agree,Neutral,Strongly Disagree,Strongly Disagree,Strongly Disagree,Strongly Disagree,Neutral,Agree,Strongly Disagree,Strongly Disagree,Neutral,Agree,Agree,Yes,No,No,No,-,-,-,-,-,-,-,-,-,Yes,Yes,Yes,Yes,Yes,Female,41  45,Contract/casual,Administration (AO),Less than 1 year,Less than 1 year
6.34648744738906E+017,Brisbane North Institute of TAFE,Delivery (teaching),2012,Resignation,Career Move - Public Sector,-,-,-,-,-,-,Interpersonal Conflict,-,-,-,-,Interpersonal Conflict,Strongly Agree,Strongly Agree,Strongly Agree,Disagree,Disagree,Agree,Strongly Agree,Strongly Agree,Strongly Agree,Agree,Agree,Agree,Strongly Agree,Strongly Agree,Agree,Agree,Neutral,Agree,Neutral,Neutral,Neutral,Neutral,Agree,Agree,Strongly Agree,Strongly Agree,Disagree,Disagree,Neutral,Agree,Yes,Yes,Yes,Yes,Face to Face,-,-,Face to Face,-,-,Face to Face,-,-,No,Yes,Yes,Yes,Yes,Female,51-55,Temporary Full-time,Teacher (including LVT),1-2,1-2
6.34648747047187E+017,Central Queensland Institute of TAFE,Non-Delivery (corporate),2012,Resignation,-,Career Move - Private Sector,-,-,-,-,-,-,-,-,-,-,,Disagree,Agree,Agree,Neutral,Strongly Disagree,Agree,Neutral,Neutral,Agree,Disagree,Strongly Disagree,Strongly Disagree,Agree,Disagree,Strongly Agree,Strongly Agree,Strongly Agree,Strongly Agree,Strongly Agree,Strongly Agree,Strongly Agree,Strongly Agree,Strongly Agree,Disagree,Disagree,Neutral,Neutral,Strongly Agree,Strongly Agree,Strongly Agree,Yes,No,Yes,No,-,-,-,Face to Face,-,-,-,-,-,Yes,Yes,Yes,Yes,Yes,Male,51-55,Permanent Full-time,Workplace Training Officer,11-20,11-20
6.34650545650312E+017,Southern Queensland Institute of TAFE,Non-Delivery (corporate),2012,Retirement,-,-,-,-,-,-,-,-,-,-,Other,-,,Agree,Agree,Agree,Disagree,Agree,Agree,Agree,Agree,Agree,Neutral,Agree,Agree,Agree,Agree,Strongly Agree,Disagree,Agree,Neutral,Agree,Disagree,Disagree,Disagree,Disagree,Strongly Agree,Strongly Agree,Strongly Agree,Strongly Agree,Disagree,Agree,Agree,Yes,,Yes,,-,-,-,Face to Face,-,-,-,-,-,Yes,Yes,Yes,Yes,Yes,Female,56 or older,Permanent Full-time,Administration (AO),11-20,11-20
6.34653126293281E+017,Brisbane North Institute of TAFE,Delivery (teaching),2012,Resignation,-,-,-,-,-,-,-,-,Study,-,-,-,,Neutral,Agree,Strongly Agree,Disagree,Agree,Disagree,Agree,Neutral,Agree,Disagree,Neutral,Neutral,Neutral,Disagree,Agree,Disagree,Agree,Agree,Agree,Disagree,Disagree,Disagree,Disagree,Agree,Strongly Agree,Disagree,Agree,Disagree,Agree,Disagree,Yes,No,Yes,Yes,-,-,-,Face to Face,-,-,Face to Face,-,-,Yes,Yes,Yes,Yes,No,Male,26  30,Permanent Full-time,Administration (AO),7-10,7-10
6.34654936843281E+017,Sunshine Coast Institute of TAFE,Delivery (teaching),2012,Contract Expired,,,,,,,,,,,,,,Strongly Disagree,Strongly Disagree,Agree,Strongly Disagree,Agree,Strongly Disagree,Strongly Disagree,Strongly Disagree,Strongly Disagree,Strongly Disagree,Strongly Disagree,Strongly Disagree,Neutral,Strongly Disagree,Strongly Agree,Strongly Agree,Neutral,Agree,Agree,Strongly Agree,Strongly Agree,Strongly Agree,Neutral,Strongly Agree,Strongly Agree,Disagree,Strongly Agree,Strongly Disagree,Neutral,Strongly Disagree,No,,,,,,,,,,,,,Yes,No,No,No,No,Male,41  45,Temporary Full-time,Tutor,5-6,5-6
6.34662477490156E+017,Brisbane North Institute of TAFE,Delivery (teaching),2012,Resignation,-,Career Move - Private Sector,-,-,-,-,-,-,-,-,-,-,,Neutral,Disagree,Agree,Neutral,Agree,Neutral,Disagree,Disagree,Disagree,Strongly Disagree,Disagree,Disagree,Disagree,Strongly Disagree,Strongly Agree,Agree,Agree,Agree,Agree,Agree,Agree,Agree,Neutral,Agree,Disagree,Disagree,Neutral,Neutral,Agree,Strongly Disagree,Yes,No,Yes,No,-,-,-,Face to Face,-,-,-,-,-,No,Yes,Yes,No,No,Female,31  35,Temporary Full-time,Workplace Training Officer,Less than 1 year,Less than 1 year
6.34665151952656E+017,Central Queensland Institute of TAFE,Delivery (teaching),2012,Retrenchment/ Redundancy,,,,,,,,,,,,,,Neutral,Agree,Agree,Agree,Agree,Neutral,Neutral,Neutral,Neutral,Strongly Disagree,Disagree,Disagree,Neutral,Agree,Neutral,Agree,Agree,Agree,Agree,Agree,Agree,Agree,Agree,Neutral,Agree,Disagree,Disagree,Disagree,Neutral,Neutral,Yes,No,Yes,No,-,-,-,Face to Face,-,-,-,-,-,Yes,Yes,Yes,Yes,Yes,Female,51-55,Permanent Full-time,Administration (AO),7-10,7-10
6.34665190018906E+017,Central Queensland Institute of TAFE,Delivery (teaching),2012,Retirement,-,-,-,-,-,Contributing Factors. Dissatisfaction ,-,-,-,-,-,-,,Strongly Disagree,Neutral,Neutral,Disagree,Disagree,Strongly Disagree,Neutral,Disagree,Agree,Strongly Disagree,Disagree,Disagree,Neutral,Disagree,Agree,Agree,Agree,Agree,Agree,Neutral,Agree,Neutral,Neutral,Neutral,Agree,Disagree,Agree,Disagree,Strongly Agree,Disagree,Yes,,Yes,,-,-,-,Face to Face,-,Induction Manual,-,-,-,Yes,Yes,Yes,No,No,Male,56 or older,Permanent Full-time,Teacher (including LVT),5-6,5-6
6.34666828449688E+017,Brisbane North Institute of TAFE,Delivery (teaching),2012,Resignation,-,-,-,-,-,-,Job Dissatisfaction,-,-,-,-,-,,,,,,,,,,,,,,,,,,,,,,,,,,,,,,,,,,,,,,,,,,,,,,,,,,,,,,,
6.34666854789531E+017,Brisbane North Institute of TAFE,Non-Delivery (corporate),2012,Resignation,Career Move - Public Sector,-,-,-,-,-,-,-,-,-,-,-,,Agree,Strongly Agree,Agree,Agree,Agree,Agree,Strongly Agree,Strongly Agree,Agree,Agree,Agree,Agree,Agree,Strongly Agree,Strongly Agree,Strongly Agree,Strongly Agree,Strongly Agree,Strongly Agree,Strongly Agree,Strongly Agree,Strongly Agree,Strongly Agree,Strongly Agree,Agree,Strongly Agree,Strongly Agree,Strongly Agree,Strongly Agree,Strongly Agree,Yes,No,Yes,Yes,-,-,-,Face to Face,-,-,Face to Face,-,-,Yes,Yes,Yes,Yes,Yes,Female,41  45,Permanent Full-time,Professional Officer (PO),11-20,11-20
6.34667551458125E+017,Brisbane North Institute of TAFE,Non-Delivery (corporate),2012,Retirement,-,-,-,-,-,-,-,-,-,-,Other,-,,Agree,Strongly Agree,Strongly Agree,Strongly Agree,Strongly Agree,Agree,Agree,Agree,Disagree,Disagree,Agree,Agree,Agree,Strongly Agree,Strongly Agree,Agree,Strongly Agree,Strongly Agree,Strongly Agree,Strongly Agree,Strongly Agree,Strongly Agree,Strongly Agree,Agree,Strongly Agree,Strongly Agree,Strongly Agree,Agree,Strongly Agree,Agree,Yes,Yes,,,-,-,-,-,-,-,-,-,-,Yes,Yes,Yes,Yes,Yes,Female,56 or older,Permanent Full-time,Administration (AO),11-20,11-20
6.34667782794219E+017,Brisbane North Institute of TAFE,Non-Delivery (corporate),2012,Contract Expired,,,,,,,,,,,,,,,,,,,,,,,,,,,,,,,,,,,,,,,,,,,,,,,,,,,,,,,,,,,,,,,,,,,
6.34668611537031E+017,Southern Queensland Institute of TAFE,Non-Delivery (corporate),2012,Resignation,-,-,-,-,-,-,-,-,-,-,Other,-,,Agree,Agree,Agree,Agree,Agree,Agree,Agree,Agree,Agree,Disagree,Agree,Agree,Agree,Strongly Agree,Strongly Agree,Strongly Agree,Strongly Agree,Strongly Agree,Strongly Agree,Strongly Agree,Strongly Agree,Strongly Agree,Strongly Agree,Strongly Agree,Strongly Agree,Strongly Agree,Strongly Agree,Strongly Agree,Strongly Agree,Disagree,Yes,Yes,Yes,No,Face to Face,-,-,Face to Face,On-line,-,-,-,-,Yes,Yes,Yes,Yes,Yes,Female,31  35,Temporary Full-time,Administration (AO),3-4,3-4
6.346686393775E+017,Brisbane North Institute of TAFE,Non-Delivery (corporate),2012,Contract Expired,,,,,,,,,,,,,,Disagree,Disagree,Disagree,Strongly Disagree,Disagree,Agree,Disagree,Agree,Disagree,Neutral,Disagree,Disagree,Agree,Disagree,Agree,Strongly Agree,Disagree,Agree,Neutral,Disagree,Disagree,Agree,Agree,Strongly Agree,Agree,Neutral,Strongly Agree,Agree,Disagree,Disagree,Yes,Yes,Yes,No,Face to Face,-,-,Face to Face,-,-,-,-,-,Yes,Yes,No,No,,Female,26  30,Temporary Full-time,Administration (AO),Less than 1 year,Less than 1 year
6.34671038100781E+017,Southern Queensland Institute of TAFE,Non-Delivery (corporate),2012,Contract Expired,,,,,,,,,,,,,,Strongly Disagree,Strongly Disagree,Strongly Disagree,Strongly Disagree,Strongly Disagree,Strongly Disagree,Strongly Disagree,Strongly Disagree,Disagree,Disagree,Not Applicable,Not Applicable,Agree,Agree,Agree,Strongly Agree,Strongly Agree,Agree,Strongly Agree,Agree,Agree,Agree,Agree,Agree,Strongly Agree,Agree,Agree,Strongly Disagree,Agree,Agree,Yes,Yes,,,Face to Face,-,-,-,-,-,-,-,-,No,Yes,No,Yes,No,Female,31  35,Temporary Full-time,Administration (AO),Less than 1 year,Less than 1 year
6.34671263031094E+017,Brisbane North Institute of TAFE,Non-Delivery (corporate),2012,Resignation,-,-,-,-,-,Contributing Factors. Dissatisfaction ,Job Dissatisfaction,-,Study,-,-,-,Study,Strongly Disagree,Disagree,Strongly Disagree,Strongly Disagree,Agree,Strongly Disagree,Disagree,Disagree,Disagree,Strongly Disagree,Strongly Disagree,Disagree,Disagree,Disagree,Agree,Disagree,Strongly Disagree,Agree,Agree,Neutral,Neutral,Strongly Disagree,Strongly Disagree,Neutral,Agree,Strongly Disagree,Neutral,Disagree,Strongly Disagree,Strongly Disagree,Yes,No,Yes,Yes,-,-,-,Face to Face,-,-,Face to Face,-,-,Yes,Yes,Yes,Yes,No,Female,26  30,Permanent Full-time,Administration (AO),5-6,5-6
6.34671297286719E+017,Central Queensland Institute of TAFE,Delivery (teaching),2012,Resignation,-,-,-,-,-,-,-,-,-,-,Other,-,,Strongly Disagree,Agree,Agree,Neutral,Neutral,Neutral,Neutral,Neutral,Neutral,Neutral,Neutral,Neutral,Neutral,Neutral,Agree,Neutral,Neutral,Agree,Agree,Disagree,Disagree,Disagree,Neutral,Agree,Agree,Neutral,Neutral,Disagree,Agree,Agree,Yes,No,Yes,Yes,-,-,-,-,On-line,-,Face to Face,-,-,Yes,Yes,Yes,Yes,Yes,Female,51-55,Contract/casual,Teacher (including LVT),1-2,1-2
6.34674515660156E+017,Brisbane North Institute of TAFE,Delivery (teaching),2012,Resignation,-,Career Move - Private Sector,Career Move - Self-employment,-,-,-,Job Dissatisfaction,-,-,-,-,-,Career Move - Self-employment,Neutral,Agree,Disagree,Strongly Disagree,Neutral,Disagree,Agree,Agree,Neutral,Disagree,Neutral,Neutral,Agree,Agree,Strongly Agree,Disagree,Agree,Strongly Agree,Agree,Disagree,Disagree,Disagree,Disagree,Agree,Neutral,Agree,Agree,Not Applicable,Agree,Neutral,Yes,,Yes,,-,-,-,Face to Face,-,-,-,-,-,Yes,Yes,Yes,Yes,No,Male,36  40,Permanent Full-time,Teacher (including LVT),11-20,11-20
6.34679850935469E+017,Brisbane North Institute of TAFE,Non-Delivery (corporate),2012,Retirement,-,-,-,-,-,-,-,-,-,-,-,NONE,,Agree,Agree,Agree,Neutral,Disagree,Agree,Agree,Agree,Agree,Neutral,Agree,Agree,Agree,Agree,Strongly Agree,Strongly Agree,Strongly Agree,Strongly Agree,Strongly Agree,Agree,Agree,Agree,Agree,Strongly Agree,Neutral,Agree,Agree,Agree,Agree,Agree,No,,,,,,,,,,,,,Yes,Yes,Yes,Yes,Yes,Female,56 or older,Permanent Part-time,Administration (AO),11-20,7-10
6.3468315402E+017,Central Queensland Institute of TAFE,Non-Delivery (corporate),2012,Resignation,-,-,-,-,-,-,-,-,-,-,Other,-,,,,,,,,,,,,,,,,,,,,,,,,,,,,,,,,,,,,,,,,,,,,,,,,,,,,,,,
6.34683356744531E+017,Central Queensland Institute of TAFE,Non-Delivery (corporate),2012,Resignation,-,-,-,-,-,-,-,-,-,-,Other,-,,Disagree,Strongly Agree,Strongly Agree,Neutral,Strongly Disagree,Disagree,Strongly Disagree,Strongly Disagree,Strongly Disagree,Strongly Disagree,Strongly Disagree,Strongly Disagree,Strongly Disagree,Strongly Disagree,Agree,Neutral,Strongly Agree,Strongly Agree,Strongly Disagree,Strongly Agree,Strongly Agree,Strongly Agree,Neutral,Strongly Disagree,Strongly Disagree,Strongly Disagree,Strongly Agree,Neutral,Strongly Disagree,Strongly Disagree,Yes,No,No,No,-,-,-,-,-,-,-,-,-,No,Yes,Yes,Yes,Yes,Female,20 or younger,Permanent Full-time,Administration (AO),3-4,1-2
6.34683398688906E+017,Sunshine Coast Institute of TAFE,Non-Delivery (corporate),2012,Retirement,-,-,-,-,-,-,-,-,-,-,Other,-,,,,,,,,,,,,,,,,,,,,,,,,,,,,,,,,,,,,,,,,,,,,,,,,,,,,,,,
6.34683991923437E+017,Brisbane North Institute of TAFE,Non-Delivery (corporate),2012,Contract Expired,,,,,,,,,,,,,,Agree,Agree,Agree,Neutral,Agree,Agree,Strongly Agree,Strongly Agree,Agree,Agree,Agree,Agree,Agree,Strongly Agree,Strongly Agree,Neutral,Agree,Agree,Agree,Neutral,Neutral,Neutral,Neutral,Strongly Agree,Strongly Agree,Strongly Agree,Strongly Agree,Strongly Agree,Strongly Agree,Neutral,Yes,,Yes,,-,-,-,Face to Face,-,-,-,-,-,No,Yes,Yes,Yes,Yes,Male,56 or older,Temporary Full-time,Operational (OO),Less than 1 year,Less than 1 year
6.34684858305469E+017,Southern Queensland Institute of TAFE,Non-Delivery (corporate),2012,Contract Expired,,,,,,,,,,,,,,Strongly Agree,Agree,Agree,Not Applicable,Strongly Agree,Agree,Strongly Agree,Strongly Agree,Agree,Neutral,Agree,Agree,Agree,Strongly Agree,Strongly Agree,Agree,Strongly Agree,Strongly Agree,Strongly Agree,Disagree,Disagree,Disagree,Agree,Strongly Agree,Strongly Agree,Agree,Strongly Agree,Not Applicable,Agree,Agree,Yes,Yes,Yes,Yes,Face to Face,-,-,Face to Face,-,-,Face to Face,-,-,Yes,Yes,Yes,Yes,Yes,Female,51-55,Temporary Full-time,Professional Officer (PO),3-4,1-2
6.346858082725E+017,Brisbane North Institute of TAFE,Non-Delivery (corporate),2012,Contract Expired,,,,,,,,,,,,,,Agree,Strongly Agree,Neutral,Neutral,Agree,Strongly Agree,Strongly Agree,Strongly Agree,Agree,Agree,Neutral,Neutral,Neutral,Strongly Agree,Strongly Agree,Strongly Agree,Strongly Agree,Strongly Agree,Strongly Agree,,Strongly Agree,Strongly Agree,Strongly Agree,Strongly Agree,Strongly Agree,Strongly Agree,Strongly Agree,Neutral,Strongly Agree,Strongly Agree,Yes,,Yes,Yes,-,-,-,Face to Face,-,-,Face to Face,-,-,No,Yes,Yes,Yes,Yes,Female,41  45,Temporary Full-time,Administration (AO),Less than 1 year,Less than 1 year
6.34685820372813E+017,Sunshine Coast Institute of TAFE,Non-Delivery (corporate),2012,Contract Expired,,,,,,,,,,,,,,Neutral,Strongly Agree,Strongly Agree,Strongly Agree,Strongly Agree,Agree,Strongly Agree,Strongly Agree,Strongly Agree,Agree,Strongly Agree,Strongly Agree,Strongly Agree,Strongly Agree,Strongly Agree,Agree,Strongly Agree,Strongly Agree,Strongly Agree,Strongly Agree,Strongly Agree,Strongly Agree,Strongly Agree,Strongly Agree,Strongly Agree,Strongly Agree,Strongly Agree,Strongly Agree,Strongly Agree,Strongly Agree,Yes,,Yes,,-,-,-,Face to Face,On-line,Induction Manual,-,-,-,No,Yes,Yes,Yes,Yes,Female,36  40,Temporary Full-time,Administration (AO),Less than 1 year,Less than 1 year
6.34686574706563E+017,Central Queensland Institute of TAFE,Non-Delivery (corporate),2012,Contract Expired,,,,,,,,,,,,,,Neutral,Disagree,Neutral,Disagree,Neutral,Agree,Agree,Agree,Agree,Neutral,Agree,Agree,Agree,Agree,Agree,Agree,Agree,Agree,Agree,Agree,Agree,Agree,Agree,Agree,Agree,Agree,Agree,Agree,Agree,Agree,Yes,No,Yes,No,-,-,-,-,On-line,-,-,-,-,No,Yes,Yes,Yes,Yes,Female,36  40,Contract/casual,Administration (AO),Less than 1 year,Less than 1 year
6.34686807219219E+017,Brisbane North Institute of TAFE,Non-Delivery (corporate),2012,Termination,,,,,,,,,,,,,,Agree,Agree,Agree,Agree,Agree,Agree,Agree,Agree,Agree,Agree,Agree,Agree,Agree,Agree,Agree,Agree,Agree,Agree,Agree,Agree,Agree,Agree,Agree,Agree,Agree,Agree,Agree,Agree,Agree,Agree,Yes,Yes,,Yes,Face to Face,-,-,-,-,-,Face to Face,-,-,Yes,Yes,Yes,Yes,Yes,Female,26  30,Contract/casual,Administration (AO),Less than 1 year,Less than 1 year
6.3468922272375E+017,Southern Queensland Institute of TAFE,Non-Delivery (corporate),2012,Contract Expired,,,,,,,,,,,,,,,Disagree,Disagree,Disagree,Neutral,Disagree,Neutral,Agree,Neutral,Agree,Neutral,Neutral,Not Applicable,Disagree,Agree,Agree,Agree,Neutral,Disagree,Neutral,Neutral,Neutral,Neutral,Agree,Agree,Agree,Agree,Neutral,Disagree,Agree,Yes,Yes,No,No,-,-,-,-,-,-,-,-,-,No,Yes,,,,Female,46  50,Temporary Full-time,Administration (AO),1-2,1-2
6.34689360748125E+017,Sunshine Coast Institute of TAFE,Non-Delivery (corporate),2012,Retirement,-,-,-,-,-,-,-,-,-,-,-,-,,Neutral,Strongly Disagree,Strongly Disagree,Strongly Disagree,Neutral,Neutral,Neutral,Neutral,Strongly Disagree,Agree,Not Applicable,,,Strongly Disagree,Agree,Agree,Neutral,Agree,Neutral,Agree,,,Strongly Agree,Agree,Agree,Strongly Disagree,Disagree,Disagree,,,No,,,,-,-,-,-,-,-,-,-,-,No,,,,,Male,56 or older,Permanent Part-time,Operational (OO),More than 20 years,7-10
6.34691779624687E+017,Brisbane North Institute of TAFE,Non-Delivery (corporate),2012,Resignation,-,-,-,-,Maternity/Family,-,-,-,-,Travel,-,-,Maternity/Family,,,Strongly Disagree,Disagree,Strongly Disagree,Neutral,Agree,Agree,Agree,Neutral,Disagree,Disagree,Disagree,Neutral,Strongly Agree,Agree,Agree,Agree,Agree,Agree,Agree,Agree,Neutral,Neutral,Disagree,Strongly Agree,Disagree,Neutral,Agree,Agree,Yes,Yes,Yes,Yes,Face to Face,-,-,Face to Face,-,-,Face to Face,-,-,Yes,Yes,Yes,Yes,Yes,Female,21  25,Temporary Full-time,Administration (AO),1-2,1-2
6.34691969682969E+017,Central Queensland Institute of TAFE,Non-Delivery (corporate),2012,Contract Expired,,,,,,,,,,,,,,Strongly Disagree,Agree,Neutral,Neutral,Agree,Neutral,Agree,Disagree,Disagree,Disagree,Neutral,Agree,Neutral,Agree,Strongly Agree,Neutral,Agree,Agree,Agree,Neutral,Neutral,Neutral,Agree,Strongly Agree,Strongly Agree,Agree,Strongly Agree,Not Applicable,Strongly Agree,Agree,Yes,No,No,Yes,-,-,-,-,-,-,Face to Face,-,-,Yes,Yes,Yes,Yes,No,Male,20 or younger,Temporary Full-time,Administration (AO),1-2,1-2
6.34696179014844E+017,Central Queensland Institute of TAFE,Non-Delivery (corporate),2012,Resignation,-,-,-,-,-,-,-,-,-,-,Other,-,,Neutral,Agree,Agree,Neutral,Neutral,Disagree,Agree,Neutral,Neutral,Strongly Disagree,Not Applicable,Not Applicable,Not Applicable,,Agree,Agree,Agree,Agree,Agree,Neutral,Neutral,Neutral,Neutral,Neutral,Agree,Agree,Neutral,Agree,Agree,Strongly Disagree,Yes,Yes,Yes,Yes,-,-,-,-,-,-,-,-,-,No,Yes,Yes,Yes,Yes,Female,26  30,Temporary Full-time,Administration (AO),7-10,Less than 1 year
6.34696327235313E+017,Tropical North Institute of TAFE,Non-Delivery (corporate),2012,Resignation,,,,,,,,,,,,,,,,,,,,,,,,,,,,,,,,,,,,,,,,,,,,,,,,,,,,,,,,,,,,,,,,,,,
6.34697120680156E+017,Brisbane North Institute of TAFE,Non-Delivery (corporate),2012,Termination,,,,,,,,,,,,,,Agree,Agree,Agree,Agree,Disagree,Agree,Agree,Agree,Agree,Agree,Agree,Agree,Agree,Agree,Agree,Agree,Agree,Agree,Agree,Agree,Agree,Agree,Agree,Agree,Agree,Agree,Agree,Agree,Agree,Agree,Yes,No,Yes,No,Face to Face,-,-,-,-,-,-,-,-,No,Yes,Yes,Yes,Yes,Female,26  30,Temporary Part-time,Administration (AO),3-4,Less than 1 year
6.34697816674062E+017,Central Queensland Institute of TAFE,Delivery (teaching),2012,Resignation,-,Career Move - Private Sector,-,-,-,-,-,-,-,-,-,-,,Neutral,Agree,Neutral,Agree,Agree,Agree,Strongly Agree,Strongly Agree,Strongly Agree,Agree,Agree,Agree,Neutral,Agree,Agree,Disagree,Neutral,Agree,Strongly Agree,Neutral,Neutral,Neutral,Disagree,Agree,Neutral,Agree,Disagree,Neutral,Agree,Neutral,No,,,,,,,,,,,,,No,Yes,Yes,Yes,Yes,Female,26  30,Permanent Full-time,Administration (AO),Less than 1 year,5-6
6.34698719508125E+017,Brisbane North Institute of TAFE,Delivery (teaching),2012,Retrenchment/ Redundancy,,,,,,,,,,,,,,Agree,Agree,Agree,Disagree,Neutral,Disagree,Neutral,Neutral,Neutral,Agree,Agree,Agree,Agree,Agree,Strongly Agree,Strongly Agree,Strongly Agree,Strongly Agree,Strongly Agree,Strongly Agree,Strongly Agree,Strongly Agree,Strongly Agree,Agree,Agree,,Agree,Agree,Agree,Agree,Yes,No,Yes,No,-,-,-,Face to Face,-,-,-,-,-,Yes,Yes,Yes,Yes,Yes,Female,21  25,Contract/casual,Tutor,3-4,3-4
6.347023585025E+017,Central Queensland Institute of TAFE,Delivery (teaching),2011,Resignation,-,-,-,-,Maternity/Family,Contributing Factors. Dissatisfaction ,-,Interpersonal Conflict,-,-,-,-,Interpersonal Conflict,Strongly Disagree,Disagree,Strongly Agree,Strongly Disagree,Strongly Disagree,Strongly Disagree,Strongly Agree,Strongly Agree,Strongly Agree,Disagree,Strongly Agree,Strongly Agree,Strongly Agree,Strongly Agree,Disagree,Strongly Agree,Strongly Agree,Strongly Agree,Disagree,Strongly Agree,Strongly Agree,Strongly Agree,Strongly Agree,Disagree,Disagree,Agree,Neutral,Strongly Agree,Strongly Disagree,Strongly Disagree,Yes,No,Yes,Yes,-,-,-,-,On-line,-,-,-,Induction Manual,Yes,Yes,No,Yes,Yes,Male,36  40,Permanent Full-time,Teacher (including LVT),3-4,3-4
6.34702366178594E+017,Central Queensland Institute of TAFE,Delivery (teaching),2011,Resignation,-,Career Move - Private Sector,-,-,-,-,-,Interpersonal Conflict,-,-,-,-,Interpersonal Conflict,Agree,Neutral,Neutral,Neutral,Disagree,Neutral,Agree,Neutral,Agree,Disagree,Neutral,Neutral,Agree,Agree,Agree,Agree,Agree,Agree,Agree,Neutral,Neutral,Agree,Agree,Agree,Agree,Agree,Agree,Agree,Strongly Disagree,Disagree,Yes,No,Yes,No,-,-,-,-,On-line,-,-,-,-,Yes,No,No,Yes,Yes,Male,31  35,Permanent Full-time,Teacher (including LVT),5-6,1-2
6.34703091309531E+017,Central Queensland Institute of TAFE,Delivery (teaching),2012,Retirement,-,-,-,Ill Health,-,-,Job Dissatisfaction,-,-,-,-,-,Job Dissatisfaction,Disagree,Agree,Neutral,Neutral,Agree,Neutral,Neutral,Neutral,Agree,Disagree,Disagree,Disagree,Neutral,Neutral,Agree,Agree,Neutral,Agree,Neutral,Agree,Agree,Neutral,Neutral,Agree,Agree,Neutral,Strongly Disagree,Agree,Agree,Neutral,Yes,No,Yes,Yes,-,-,-,Face to Face,-,-,Face to Face,-,-,Yes,Yes,Yes,Yes,Yes,Male,56 or older,Permanent Full-time,Teacher (including LVT),More than 20 years,11-20
6.34704871846406E+017,Southern Queensland Institute of TAFE,Non-Delivery (corporate),2012,Contract Expired,,,,,,,,,,,,,,Strongly Disagree,Neutral,Neutral,Strongly Disagree,Neutral,Disagree,Agree,Agree,Neutral,Agree,Disagree,Disagree,Neutral,Disagree,Agree,Agree,Agree,Agree,Strongly Agree,Neutral,Neutral,Disagree,Agree,Agree,Agree,Agree,Agree,Neutral,Agree,Agree,Yes,No,No,No,-,-,-,-,-,-,-,-,-,No,Yes,Yes,Yes,Yes,Female,31  35,Temporary Full-time,Administration (AO),Less than 1 year,Less than 1 year
6.34704924682031E+017,Brisbane North Institute of TAFE,Delivery (teaching),2012,Retirement,-,-,-,-,-,-,-,-,-,Travel,-,-,,Disagree,Strongly Agree,Strongly Agree,Strongly Agree,Strongly Agree,Strongly Agree,Strongly Agree,Strongly Agree,Agree,Neutral,Strongly Agree,Strongly Agree,Strongly Agree,Agree,Strongly Agree,Strongly Agree,Strongly Agree,Strongly Agree,Strongly Agree,Strongly Agree,Strongly Agree,Strongly Agree,Strongly Agree,Strongly Agree,Strongly Agree,Strongly Agree,Strongly Agree,Strongly Agree,Strongly Agree,Strongly Agree,Yes,No,Yes,Yes,-,-,-,Face to Face,-,-,Face to Face,-,-,Yes,Yes,Yes,Yes,Yes,Female,56 or older,Permanent Part-time,Teacher (including LVT),11-20,11-20
6.34707388560312E+017,Tropical North Institute of TAFE,Non-Delivery (corporate),2012,Contract Expired,,,,,,,,,,,,,,,,,,,,,,,,,,,,,,,,,,,,,,,,,,,,,,,,,,,,,,,,,,,,,,,,,,,
6.34707564443167E+017,Southern Queensland Institute of TAFE,Non-Delivery (corporate),2012,Contract Expired,,,,,,,,,,,,,,Strongly Disagree,Neutral,Neutral,Disagree,Strongly Disagree,Strongly Disagree,Disagree,Disagree,Agree,Neutral,Agree,Agree,Disagree,Disagree,Strongly Agree,Agree,Strongly Disagree,Agree,Agree,Strongly Disagree,Strongly Disagree,Strongly Disagree,Neutral,Agree,Agree,Neutral,Agree,Disagree,Agree,Agree,Yes,Yes,Yes,Yes,Face to Face,-,-,Face to Face,-,-,Face to Face,-,-,No,No,Yes,Yes,No,Female,46  50,Temporary Full-time,Administration (AO),Less than 1 year,Less than 1 year
6.34713425884844E+017,Central Queensland Institute of TAFE,Delivery (teaching),2012,Resignation,-,-,-,-,-,-,-,-,-,-,Other,-,,Agree,Strongly Agree,Strongly Agree,Strongly Agree,Neutral,Disagree,Strongly Agree,Strongly Agree,Strongly Agree,Disagree,Agree,Agree,Agree,Strongly Agree,Strongly Agree,Strongly Agree,Strongly Agree,Strongly Agree,Strongly Agree,Strongly Agree,Strongly Agree,Strongly Agree,Strongly Agree,Agree,Strongly Agree,Strongly Agree,Strongly Agree,Agree,Strongly Agree,Strongly Agree,Yes,,Yes,Yes,-,-,-,Face to Face,On-line,-,Face to Face,-,-,No,Yes,Yes,Yes,Yes,Female,56 or older,Permanent Full-time,Workplace Training Officer,1-2,1-2
6.34715994894531E+017,Tropical North Institute of TAFE,Non-Delivery (corporate),2012,Retrenchment/ Redundancy,,,,,,,,,,,,,,Neutral,Agree,Agree,Neutral,Agree,Agree,Agree,Agree,Agree,Agree,Strongly Agree,Strongly Agree,Strongly Agree,Strongly Agree,Strongly Agree,Agree,Agree,Strongly Agree,Agree,Agree,Agree,Agree,Agree,Agree,Agree,Agree,Agree,Neutral,Agree,Agree,Yes,Yes,Yes,Yes,Face to Face,-,-,Face to Face,-,-,Face to Face,-,-,Yes,Yes,Yes,Yes,Yes,Male,31  35,Temporary Full-time,Administration (AO),Less than 1 year,Less than 1 year
6.34716874887187E+017,Tropical North Institute of TAFE,Non-Delivery (corporate),2012,Contract Expired,,,,,,,,,,,,,,Strongly Agree,Strongly Agree,Strongly Agree,Neutral,Strongly Agree,Agree,,Strongly Agree,Strongly Agree,Agree,Neutral,Neutral,Neutral,Agree,Agree,Strongly Agree,Strongly Agree,Strongly Agree,Strongly Agree,Agree,Strongly Agree,Strongly Agree,Strongly Agree,Strongly Agree,Strongly Agree,Strongly Agree,Strongly Agree,Not Applicable,Agree,Agree,Yes,,Yes,,-,-,-,-,On-line,-,-,-,-,Yes,Yes,Yes,Yes,Yes,Female,46  50,Temporary Part-time,Administration (AO),1-2,1-2
6.34722082133437E+017,Brisbane North Institute of TAFE,Non-Delivery (corporate),2012,Resignation,-,-,-,-,-,-,-,-,Study,Travel,-,-,Travel,Strongly Agree,Neutral,Neutral,Neutral,Agree,Agree,Strongly Agree,Strongly Agree,Strongly Agree,Neutral,Agree,Agree,Neutral,Strongly Agree,,Strongly Agree,Strongly Agree,Strongly Agree,Strongly Agree,Strongly Agree,Strongly Agree,Strongly Agree,Agree,Agree,Strongly Agree,Strongly Agree,Strongly Agree,Agree,Strongly Agree,Neutral,Yes,No,Yes,No,-,-,-,Face to Face,-,-,-,-,-,Yes,Yes,Yes,Yes,Yes,Male,21  25,Temporary Full-time,Administration (AO),1-2,1-2
6.34722949292074E+017,Central Queensland Institute of TAFE,Non-Delivery (corporate),2012,Resignation,-,-,-,-,-,Contributing Factors. Dissatisfaction ,-,-,-,-,-,-,,Strongly Disagree,Strongly Disagree,Strongly Disagree,Strongly Disagree,Strongly Disagree,Strongly Disagree,Strongly Disagree,Strongly Disagree,Strongly Disagree,Strongly Disagree,Strongly Disagree,Strongly Disagree,Strongly Disagree,Agree,Agree,Agree,Neutral,Agree,Agree,Strongly Disagree,Strongly Disagree,Strongly Disagree,Strongly Disagree,Agree,Agree,Agree,Agree,Agree,Agree,Neutral,Yes,No,No,No,-,-,-,-,-,-,-,-,-,No,Yes,Yes,No,No,Male,41  45,Temporary Full-time,Administration (AO),1-2,1-2
6.34722992951406E+017,Central Queensland Institute of TAFE,Non-Delivery (corporate),2012,Resignation,-,Career Move - Private Sector,-,-,-,Contributing Factors. Dissatisfaction ,Job Dissatisfaction,-,-,-,-,-,Dissatisfaction with %[Institute]Q25LBL%,Strongly Disagree,Disagree,Disagree,Strongly Disagree,Neutral,Disagree,Disagree,Disagree,Disagree,Strongly Disagree,Disagree,Disagree,Strongly Disagree,Disagree,Agree,Agree,Disagree,Agree,Agree,Disagree,Disagree,Disagree,Neutral,Strongly Agree,Disagree,Disagree,Disagree,Disagree,Agree,Neutral,Yes,Yes,Yes,Yes,-,On-line,-,-,On-line,-,Face to Face,-,-,No,Yes,Yes,Yes,No,Female,31  35,Permanent Full-time,Administration (AO),1-2,1-2
6.34729130865938E+017,Southern Queensland Institute of TAFE,Non-Delivery (corporate),2012,Contract Expired,,,,,,,,,,,,,,Agree,Strongly Agree,Strongly Agree,Neutral,Strongly Agree,Agree,Agree,Agree,Agree,Agree,Agree,Agree,Agree,Agree,Strongly Agree,Agree,Strongly Agree,Strongly Agree,Agree,Strongly Agree,Strongly Agree,Strongly Agree,Strongly Agree,Agree,Agree,Agree,Strongly Agree,Agree,Agree,Agree,Yes,Yes,Yes,Yes,Face to Face,-,-,Face to Face,-,-,Face to Face,-,-,Yes,Yes,Yes,Yes,Yes,Female,21  25,Temporary Full-time,Administration (AO),7-10,7-10
6.34731736579172E+017,Sunshine Coast Institute of TAFE,Non-Delivery (corporate),2012,Retirement,-,-,-,-,-,-,-,-,-,-,-,NONE,,Agree,Agree,Agree,Agree,Neutral,Agree,Agree,Agree,Neutral,Disagree,Agree,Agree,Agree,Strongly Agree,Strongly Agree,Strongly Agree,Strongly Agree,Agree,Agree,Agree,Agree,Agree,Strongly Agree,Agree,Agree,Strongly Agree,Agree,Strongly Agree,Agree,Neutral,Yes,No,Yes,Yes,-,-,-,-,-,-,-,-,-,Yes,Yes,Yes,Yes,Yes,Female,56 or older,Permanent Full-time,Administration (AO),More than 20 years,More than 20 years
6.34733451073235E+017,Brisbane North Institute of TAFE,Non-Delivery (corporate),2012,Contract Expired,,,,,,,,,,,,,,Agree,Agree,Disagree,Agree,Agree,Neutral,Agree,Agree,Agree,Strongly Disagree,Agree,Agree,Agree,Disagree,Strongly Agree,Strongly Disagree,Agree,Strongly Agree,Strongly Agree,Strongly Disagree,Strongly Disagree,Strongly Disagree,Strongly Disagree,Strongly Agree,Strongly Agree,Neutral,Strongly Agree,Agree,Strongly Agree,Disagree,Yes,Yes,No,Yes,-,-,-,-,-,-,-,-,-,No,Yes,Yes,Yes,No,Female,31  35,Temporary Part-time,Administration (AO),Less than 1 year,Less than 1 year
6.34734330047525E+017,Southern Queensland Institute of TAFE,Non-Delivery (corporate),2012,Transfer,Career Move - Public Sector,-,-,-,-,-,-,-,-,-,-,-,,Agree,Agree,Agree,Neutral,Disagree,Agree,Agree,Agree,Agree,Agree,Agree,Agree,Neutral,Agree,Agree,Agree,Agree,Agree,Agree,Agree,Agree,Agree,Agree,Agree,Agree,Agree,Agree,Agree,Agree,Strongly Agree,Yes,Yes,Yes,Yes,-,On-line,-,-,On-line,-,Face to Face,-,-,No,Yes,Yes,Yes,Yes,Female,36  40,Temporary Full-time,Administration (AO),Less than 1 year,Less than 1 year
6.34735049954641E+017,Southern Queensland Institute of TAFE,Non-Delivery (corporate),2012,Contract Expired,,,,,,,,,,,,,,Strongly Disagree,Disagree,Disagree,Agree,Agree,Strongly Disagree,Disagree,Disagree,Strongly Disagree,Strongly Disagree,Disagree,Disagree,Strongly Disagree,Agree,Strongly Agree,Strongly Agree,Agree,Agree,Strongly Agree,Agree,Agree,Agree,Agree,Strongly Agree,Strongly Agree,Strongly Agree,Strongly Agree,Agree,Agree,Agree,Yes,No,Yes,No,-,-,-,Face to Face,-,-,-,-,-,Yes,Yes,Yes,Yes,No,Female,46  50,Temporary Part-time,Workplace Training Officer,3-4,3-4
6.34735216223306E+017,Brisbane North Institute of TAFE,Non-Delivery (corporate),2012,Contract Expired,,,,,,,,,,,,,,Strongly Agree,Agree,Agree,Agree,Agree,Strongly Agree,Strongly Agree,Strongly Agree,Strongly Agree,Strongly Agree,Strongly Agree,Strongly Agree,Strongly Agree,Strongly Agree,Strongly Agree,Strongly Agree,Strongly Agree,Strongly Agree,Strongly Agree,Strongly Agree,Strongly Agree,Strongly Agree,Strongly Agree,Strongly Agree,Strongly Agree,Strongly Agree,Strongly Agree,Strongly Agree,Strongly Agree,Strongly Agree,Yes,No,Yes,Yes,-,-,-,Face to Face,-,Induction Manual,Face to Face,-,Induction Manual,Yes,Yes,Yes,Yes,Yes,Female,51-55,Temporary Full-time,Administration (AO),Less than 1 year,Less than 1 year
6.347410964069E+017,Southern Queensland Institute of TAFE,Non-Delivery (corporate),2012,Contract Expired,,,,,,,,,,,,,,Neutral,Agree,Agree,Agree,Agree,Agree,Agree,Agree,Agree,Disagree,Agree,Agree,Agree,Agree,Agree,Agree,Agree,Agree,Agree,Agree,Neutral,Agree,Agree,Agree,Agree,Agree,Agree,Agree,Agree,Agree,Yes,Yes,,Yes,-,On-line,-,-,-,-,Face to Face,-,-,No,Yes,Yes,Yes,Yes,Female,46  50,Temporary Part-time,Administration (AO),1-2,Less than 1 year
6.34741133763931E+017,Southern Queensland Institute of TAFE,Non-Delivery (corporate),2012,Contract Expired,,,,,,,,,,,,,,Agree,Agree,Agree,Strongly Disagree,Agree,Neutral,Agree,Agree,Strongly Disagree,Neutral,Agree,Neutral,Agree,Neutral,Agree,Agree,Agree,Agree,Agree,Agree,Agree,Neutral,Agree,Agree,Agree,Agree,Agree,Neutral,Agree,Agree,Yes,Yes,No,Yes,Face to Face,-,-,-,-,-,Face to Face,-,-,Yes,Yes,Yes,Yes,Yes,Female,41  45,Temporary Full-time,Administration (AO),1-2,1-2
6.3474115202386E+017,Southern Queensland Institute of TAFE,Non-Delivery (corporate),2012,Transfer,Career Move - Public Sector,-,-,-,-,-,-,-,-,-,Other,-,Career Move - Public Sector,Strongly Agree,Agree,Agree,Strongly Disagree,Neutral,Agree,Agree,Agree,Agree,Neutral,Agree,Agree,Agree,Strongly Agree,Strongly Agree,Strongly Agree,Strongly Agree,Strongly Agree,Agree,Strongly Agree,Agree,Agree,Strongly Agree,Strongly Agree,Strongly Agree,Agree,Strongly Agree,Agree,Agree,Agree,Yes,Yes,Yes,Yes,-,-,-,-,-,-,-,-,-,Yes,Yes,Yes,Yes,Yes,Female,41  45,Permanent Full-time,Administration (AO),7-10,7-10
6.34743600339485E+017,Central Queensland Institute of TAFE,Delivery (teaching),2012,Resignation,-,-,-,-,-,-,-,-,-,-,-,NONE,,Agree,Strongly Agree,Agree,Strongly Agree,Agree,Strongly Agree,Agree,Strongly Agree,Agree,Strongly Agree,Strongly Agree,Agree,Strongly Agree,Strongly Agree,Neutral,,Agree,Strongly Agree,Agree,Strongly Agree,,Neutral,Strongly Agree,Agree,Strongly Agree,Neutral,Agree,Agree,Strongly Agree,Neutral,Yes,Yes,Yes,Yes,-,-,-,-,-,-,-,-,-,Yes,Yes,Yes,Yes,Yes,Male,56 or older,Permanent Full-time,Teacher (including LVT),More than 20 years,11-20
6.34744466673931E+017,Southern Queensland Institute of TAFE,Non-Delivery (corporate),2012,Termination,,,,,,,,,,,,,,Disagree,Strongly Agree,Agree,Agree,Agree,Strongly Disagree,Agree,Agree,Strongly Disagree,Disagree,Agree,Agree,Agree,Agree,Strongly Agree,Strongly Agree,Strongly Agree,Strongly Agree,Strongly Agree,Strongly Agree,Strongly Agree,Strongly Agree,Strongly Agree,Agree,Agree,Disagree,Disagree,Agree,Agree,Strongly Disagree,Yes,Yes,Yes,No,Face to Face,-,-,Face to Face,-,-,-,-,-,Yes,Yes,Yes,Yes,No,Female,21  25,Temporary Full-time,Workplace Training Officer,3-4,1-2
6.34744567729869E+017,Southern Queensland Institute of TAFE,Delivery (teaching),2012,Termination,,,,,,,,,,,,,,Disagree,Disagree,Neutral,Disagree,Neutral,Neutral,Neutral,Neutral,Neutral,Disagree,Neutral,Neutral,Neutral,Neutral,Neutral,Neutral,Neutral,Neutral,Neutral,Neutral,Neutral,Neutral,Neutral,Neutral,Neutral,Neutral,Neutral,Neutral,Neutral,Neutral,Yes,Yes,Yes,Yes,Face to Face,-,-,Face to Face,-,-,Face to Face,-,-,Yes,,,No,No,Female,41  45,Temporary Part-time,Teacher (including LVT),Less than 1 year,Less than 1 year
6.34745331056829E+017,Brisbane North Institute of TAFE,Non-Delivery (corporate),2012,Termination,,,,,,,,,,,,,,Neutral,Neutral,Strongly Disagree,Agree,Strongly Disagree,Strongly Disagree,Strongly Agree,Neutral,Strongly Disagree,Strongly Disagree,Disagree,Disagree,Disagree,Agree,Agree,Agree,Neutral,Neutral,Agree,Strongly Disagree,Strongly Disagree,Strongly Disagree,Agree,Agree,Agree,Strongly Agree,Strongly Agree,Neutral,Strongly Agree,Neutral,Yes,No,Yes,No,-,-,-,Face to Face,-,-,-,-,-,Yes,Yes,No,No,No,Female,31  35,Temporary Full-time,Operational (OO),3-4,3-4
6.34747238918391E+017,Brisbane North Institute of TAFE,Non-Delivery (corporate),2012,Transfer,Career Move - Public Sector,-,-,-,-,-,-,-,-,-,-,-,,Agree,Agree,Agree,Neutral,Neutral,Neutral,Neutral,Agree,Neutral,Neutral,Agree,Agree,Neutral,Neutral,Neutral,Agree,Agree,Neutral,Strongly Agree,Strongly Agree,Strongly Agree,Strongly Agree,Strongly Agree,Strongly Agree,Agree,Agree,Strongly Agree,Agree,Agree,Neutral,Yes,Yes,Yes,Yes,-,-,-,-,-,-,-,-,-,Yes,Yes,Yes,Yes,Yes,Female,51-55,Permanent Full-time,Administration (AO),More than 20 years,Less than 1 year
6.34747251670266E+017,Brisbane North Institute of TAFE,Non-Delivery (corporate),2012,Contract Expired,,,,,,,,,,,,,,Strongly Agree,Strongly Agree,Strongly Agree,Strongly Agree,Strongly Agree,Strongly Agree,Strongly Agree,Strongly Agree,Strongly Agree,Strongly Agree,Strongly Agree,Strongly Agree,Strongly Agree,Strongly Agree,Strongly Agree,Strongly Agree,Strongly Agree,Strongly Agree,Strongly Agree,Strongly Agree,Strongly Agree,Strongly Agree,Strongly Agree,Strongly Agree,Strongly Agree,Strongly Agree,Strongly Agree,Strongly Agree,Strongly Agree,Strongly Agree,Yes,Yes,No,No,Face to Face,-,-,-,-,-,-,-,-,No,Yes,Yes,Yes,Yes,Female,26  30,Permanent Full-time,Administration (AO),Less than 1 year,Less than 1 year
6.3475061227315E+017,SkillsTech Australia,Non-Delivery (corporate),2012,Resignation,Career Move - Public Sector,-,-,-,-,-,-,-,-,-,-,-,,Agree,Agree,Agree,Agree,Agree,Disagree,Agree,Agree,Agree,Strongly Disagree,Agree,Agree,Agree,Disagree,Neutral,Agree,Agree,Agree,Agree,Agree,Disagree,Agree,Agree,Strongly Agree,Agree,Agree,Agree,Not Applicable,Disagree,Strongly Disagree,Yes,Yes,Yes,Yes,-,On-line,-,Face to Face,-,-,Face to Face,-,-,Yes,Yes,Yes,Yes,No,Female,46  50,Temporary Full-time,Administration (AO),Less than 1 year,Less than 1 year
6.34753321028079E+017,Southern Queensland Institute of TAFE,Delivery (teaching),2012,Retirement,-,-,-,-,-,-,Job Dissatisfaction,-,-,-,-,-,,Neutral,Neutral,Neutral,Agree,Disagree,Disagree,Disagree,Disagree,Agree,Neutral,Neutral,Neutral,Neutral,Neutral,Agree,Agree,Agree,Agree,Agree,Neutral,Neutral,Neutral,Neutral,Agree,Agree,Disagree,Agree,Strongly Disagree,Agree,Agree,No,,,,,,,,,,,,,Yes,Yes,Yes,Yes,Yes,Male,56 or older,Permanent Full-time,Teacher (including LVT),More than 20 years,More than 20 years
6.34753384952766E+017,Brisbane North Institute of TAFE,Delivery (teaching),2012,Resignation,Career Move - Public Sector,-,-,-,-,-,-,-,-,-,-,-,,Strongly Agree,Strongly Agree,Strongly Agree,Not Applicable,Strongly Agree,Strongly Agree,Strongly Agree,Strongly Agree,Strongly Agree,Agree,Strongly Agree,Strongly Agree,Strongly Agree,Strongly Agree,Strongly Agree,Strongly Agree,Strongly Agree,Strongly Agree,Strongly Agree,Agree,Agree,Agree,Agree,Strongly Agree,Strongly Agree,Strongly Agree,Agree,Strongly Agree,Strongly Agree,Strongly Agree,Yes,Yes,Yes,Yes,Face to Face,-,-,Face to Face,-,-,Face to Face,-,-,No,Yes,Yes,Yes,Yes,Female,51-55,Temporary Full-time,Teacher (including LVT),Less than 1 year,Less than 1 year
6.34757681589172E+017,Brisbane North Institute of TAFE,Non-Delivery (corporate),2012,Contract Expired,,,,,,,,,,,,,,,,,,,,,,,,,,,,,,,,,,,,,,,,,,,,,,,,,,,,,,,,,,,,,,,,,,,
6.34757720169172E+017,Brisbane North Institute of TAFE,Delivery (teaching),2012,Termination,,,,,,,,,,,,,,Agree,Agree,Agree,Disagree,Agree,Agree,Agree,Agree,Disagree,Strongly Agree,Agree,Agree,Agree,Agree,Agree,Agree,Agree,Agree,Agree,Agree,Agree,Agree,Agree,Agree,Agree,Agree,Agree,Agree,Agree,Agree,Yes,No,,No,-,-,-,Face to Face,-,-,-,-,-,No,Yes,Yes,Yes,No,Male,46  50,Temporary Part-time,Teacher (including LVT),1-2,1-2
6.3475829391511E+017,Brisbane North Institute of TAFE,Non-Delivery (corporate),2012,Contract Expired,,,,,,,,,,,,,,Agree,Disagree,Disagree,Not Applicable,Agree,Neutral,Disagree,Agree,Agree,Neutral,Agree,Agree,Agree,Agree,Neutral,Neutral,Agree,Agree,Disagree,Neutral,Neutral,Neutral,Agree,Agree,Strongly Agree,Agree,Agree,Neutral,Agree,Neutral,Yes,No,Yes,Yes,-,-,-,Face to Face,-,-,Face to Face,-,-,No,Yes,Yes,No,Yes,Male,36  40,Temporary Full-time,Administration (AO),Less than 1 year,Less than 1 year
6.34758331076119E+017,Southern Queensland Institute of TAFE,Delivery (teaching),2012,Termination,,,,,,,,,,,,,,Disagree,Strongly Disagree,Agree,Strongly Disagree,Disagree,Disagree,Disagree,Agree,Agree,Disagree,Agree,Neutral,Agree,Strongly Disagree,Strongly Agree,Agree,Strongly Agree,Agree,Agree,Agree,Neutral,Agree,Agree,Agree,Agree,Disagree,Disagree,Strongly Disagree,Agree,Agree,Yes,Yes,Yes,Yes,-,On-line,Induction Manual,Face to Face,-,Induction Manual,Face to Face,-,-,No,Yes,Yes,Yes,No,Female,31  35,Temporary Part-time,Teacher (including LVT),Less than 1 year,Less than 1 year
6.3475927847386E+017,Central Queensland Institute of TAFE,Delivery (teaching),2012,Retrenchment/ Redundancy,,,,,,,,,,,,,,,,,,,,,,,,,,,,,,,,,,,,,,,,,,,,,,,,,,,,,,,,,,,,,,,,,,,
6.34759279560735E+017,Central Queensland Institute of TAFE,Delivery (teaching),2012,Contract Expired,,,,,,,,,,,,,,Agree,Agree,Agree,Neutral,Agree,,Strongly Agree,Strongly Agree,Agree,Neutral,Agree,Agree,Strongly Agree,Strongly Agree,Strongly Agree,Agree,Strongly Agree,Agree,Agree,Agree,Agree,Strongly Agree,Neutral,Agree,Agree,Strongly Agree,Agree,Not Applicable,Agree,Agree,Yes,,,Yes,-,-,-,-,-,-,Face to Face,-,-,Yes,Yes,Yes,Yes,Yes,Female,41  45,Contract/casual,Teacher (including LVT),1-2,1-2
6.34760046003775E+017,SkillsTech Australia,Non-Delivery (corporate),2012,Resignation,-,-,-,-,-,-,Job Dissatisfaction,-,-,-,Other,-,Job Dissatisfaction,Neutral,Agree,Neutral,Neutral,Neutral,Disagree,Agree,Neutral,Agree,Strongly Disagree,Neutral,Agree,Neutral,Neutral,Agree,Disagree,Neutral,Neutral,Neutral,Neutral,Neutral,Neutral,Disagree,Neutral,Disagree,Agree,Agree,Neutral,Agree,Neutral,Yes,No,Yes,No,-,-,-,-,On-line,-,-,-,-,Yes,Yes,Yes,Yes,No,Female,36  40,Permanent Full-time,Administration (AO),5-6,Less than 1 year
6.34761889415494E+017,Sunshine Coast Institute of TAFE,Non-Delivery (corporate),2012,Contract Expired,,,,,,,,,,,,,,,Agree,Agree,Disagree,Agree,Neutral,Agree,Agree,Agree,Disagree,Neutral,Neutral,Neutral,Neutral,Agree,Disagree,Disagree,Agree,Agree,Strongly Disagree,Strongly Disagree,Strongly Disagree,Strongly Disagree,Strongly Agree,Strongly Agree,Neutral,Disagree,Neutral,Agree,Disagree,No,,,,,,,,,,,,,Yes,No,No,No,No,,,,,,
6.34761898333619E+017,Sunshine Coast Institute of TAFE,Non-Delivery (corporate),2012,Contract Expired,,,,,,,,,,,,,,Agree,Strongly Agree,Strongly Agree,Strongly Agree,Neutral,Agree,Strongly Agree,Strongly Agree,Agree,Neutral,Agree,Agree,Agree,Strongly Agree,Strongly Agree,Strongly Agree,Strongly Agree,Strongly Agree,Strongly Agree,Agree,Agree,Agree,Agree,Strongly Agree,Strongly Agree,Strongly Agree,Agree,Strongly Disagree,Agree,Agree,Yes,Yes,Yes,Yes,Face to Face,-,-,Face to Face,-,-,Face to Face,-,-,Yes,Yes,Yes,Yes,Yes,Female,26  30,Contract/casual,Administration (AO),Less than 1 year,Less than 1 year
6.34761902772212E+017,Sunshine Coast Institute of TAFE,Delivery (teaching),2012,Contract Expired,,,,,,,,,,,,,,Agree,Strongly Agree,Strongly Agree,Neutral,Agree,Agree,Strongly Agree,Agree,Agree,Disagree,Agree,Agree,Agree,Agree,Agree,Agree,Agree,Agree,Agree,Agree,Agree,Agree,Agree,Agree,Strongly Agree,Agree,Agree,Not Applicable,Agree,Disagree,Yes,No,Yes,No,-,-,-,Face to Face,-,-,-,-,-,Yes,Yes,Yes,Yes,Yes,Male,56 or older,Contract/casual,Teacher (including LVT),11-20,1-2
6.34761907884088E+017,Sunshine Coast Institute of TAFE,Non-Delivery (corporate),2012,Contract Expired,,,,,,,,,,,,,,Agree,Agree,Agree,Disagree,Agree,Neutral,Neutral,Agree,Agree,Strongly Disagree,Agree,Agree,Agree,Neutral,Agree,Strongly Disagree,Strongly Disagree,Agree,Neutral,Strongly Disagree,Strongly Disagree,Strongly Disagree,Disagree,Strongly Agree,Strongly Agree,Agree,Disagree,Disagree,Neutral,Strongly Disagree,No,,,,,,,,,,,,,Yes,No,No,No,No,Female,41  45,Contract/casual,Administration (AO),1-2,Less than 1 year
6.34761952688281E+017,Sunshine Coast Institute of TAFE,Delivery (teaching),2012,Contract Expired,,,,,,,,,,,,,,Disagree,Strongly Disagree,Disagree,Not Applicable,Agree,Strongly Agree,Strongly Agree,Strongly Agree,Agree,Strongly Disagree,Agree,Agree,Agree,Agree,Agree,Neutral,Agree,Agree,Agree,Neutral,Disagree,Disagree,Disagree,Neutral,Neutral,Strongly Agree,Strongly Disagree,Agree,Agree,Agree,No,,,,,,,,,,,,,No,Yes,Yes,No,Yes,Male,41  45,Contract/casual,Tutor,1-2,1-2
6.34761961458594E+017,Sunshine Coast Institute of TAFE,Delivery (teaching),2012,Contract Expired,,,,,,,,,,,,,,Agree,Agree,Agree,Agree,Agree,Agree,Agree,Agree,Agree,Agree,Agree,Agree,Agree,Agree,Agree,Agree,Agree,Agree,Agree,Agree,Agree,Agree,Agree,Agree,Agree,Agree,Agree,Agree,Agree,Agree,Yes,No,No,Yes,-,-,-,-,-,-,-,-,-,No,Yes,Yes,Yes,Yes,Female,41  45,Contract/casual,Teacher (including LVT),Less than 1 year,5-6
6.34761977288594E+017,Sunshine Coast Institute of TAFE,Non-Delivery (corporate),2012,Contract Expired,,,,,,,,,,,,,,Disagree,Disagree,Disagree,Neutral,Neutral,Neutral,Agree,Disagree,Disagree,Strongly Disagree,Not Applicable,Not Applicable,Not Applicable,Strongly Agree,Strongly Agree,Strongly Agree,Strongly Agree,Agree,Strongly Agree,Disagree,Disagree,Disagree,Agree,Strongly Agree,Strongly Agree,Agree,Disagree,Disagree,Strongly Agree,Disagree,Yes,No,Yes,No,-,-,-,Face to Face,-,Induction Manual,-,-,-,No,Yes,Yes,Yes,Yes,Female,46  50,Temporary Part-time,Administration (AO),Less than 1 year,Less than 1 year
6.34761989628619E+017,Sunshine Coast Institute of TAFE,Delivery (teaching),2012,Contract Expired,,,,,,,,,,,,,,,,,,,,,,,,,,,,,,,,,,,,,,,,,,,,,,,,,,,,,,,,,,,,,,,,,,,
6.34762562611094E+017,Sunshine Coast Institute of TAFE,Delivery (teaching),2012,Contract Expired,,,,,,,,,,,,,,Disagree,Disagree,Disagree,Disagree,Neutral,Disagree,Disagree,Disagree,Strongly Disagree,Disagree,Neutral,Neutral,Neutral,Agree,Agree,Agree,Neutral,Agree,Disagree,Disagree,Neutral,Neutral,Agree,Agree,Agree,Disagree,Agree,Disagree,Disagree,Strongly Disagree,Yes,No,Yes,No,-,-,-,-,-,Induction Manual,-,-,-,Yes,Yes,Yes,No,No,Male,56 or older,Contract/casual,Teacher (including LVT),1-2,Less than 1 year
6.34762639225E+017,Southern Queensland Institute of TAFE,Delivery (teaching),2012,Termination,,,,,,,,,,,,,,Disagree,Agree,Neutral,Strongly Disagree,Strongly Disagree,Disagree,Strongly Disagree,Strongly Disagree,Neutral,Neutral,Strongly Disagree,Strongly Disagree,Neutral,Disagree,Strongly Disagree,Strongly Agree,Strongly Disagree,Strongly Agree,Strongly Disagree,Strongly Agree,Strongly Agree,Strongly Agree,Strongly Agree,Strongly Disagree,Strongly Disagree,Strongly Disagree,Agree,Agree,Strongly Disagree,Neutral,Yes,Yes,Yes,,Face to Face,-,-,Face to Face,-,-,-,-,-,,,,Yes,No,Female,41  45,Temporary Part-time,Tutor,5-6,5-6
6.34762651950963E+017,Brisbane North Institute of TAFE,Delivery (teaching),2012,Contract Expired,,,,,,,,,,,,,,Neutral,Neutral,Agree,Neutral,Neutral,Agree,Agree,Agree,Agree,Strongly Disagree,Not Applicable,Not Applicable,Not Applicable,Agree,Agree,Agree,Agree,Agree,Neutral,Agree,Agree,Strongly Agree,Agree,Strongly Agree,Strongly Agree,Disagree,Agree,Not Applicable,,Disagree,Yes,,,,-,-,-,-,-,Induction Manual,-,-,-,No,Yes,Yes,Yes,Yes,Female,56 or older,Contract/casual,Tutor,Less than 1 year,Less than 1 year
6.34762652611406E+017,Brisbane North Institute of TAFE,Delivery (teaching),2012,Termination,,,,,,,,,,,,,,,Strongly Agree,Strongly Agree,Strongly Agree,Disagree,Disagree,Neutral,Agree,Disagree,Strongly Disagree,Disagree,Disagree,Disagree,Disagree,Agree,Agree,Agree,Agree,Strongly Disagree,Neutral,Neutral,Neutral,Agree,Neutral,Neutral,Neutral,Agree,Neutral,Strongly Disagree,Not Applicable,No,,,,,,,,,,,,,Yes,Yes,No,No,No,Female,56 or older,Contract/casual,Teacher (including LVT),Less than 1 year,5-6
6.34762679684244E+017,Sunshine Coast Institute of TAFE,Delivery (teaching),2012,Retrenchment/ Redundancy,,,,,,,,,,,,,,Neutral,Agree,Agree,Neutral,Disagree,Neutral,Agree,Agree,Agree,Disagree,Neutral,Neutral,Neutral,Agree,Strongly Agree,Strongly Agree,Strongly Agree,Agree,Agree,Agree,Agree,Agree,Agree,Strongly Agree,Agree,Agree,Agree,Agree,Strongly Agree,Agree,Yes,No,Yes,Yes,-,-,-,Face to Face,-,-,Face to Face,-,-,Yes,Yes,Yes,Yes,Yes,Male,56 or older,Permanent Full-time,Teacher (including LVT),11-20,11-20
6.34762760512656E+017,Brisbane North Institute of TAFE,Delivery (teaching),2012,Contract Expired,,,,,,,,,,,,,,Neutral,Agree,Agree,Agree,Agree,Neutral,Neutral,Neutral,Agree,Disagree,Neutral,Neutral,Neutral,Agree,Agree,Neutral,Agree,Agree,Neutral,Agree,Agree,Agree,Agree,Agree,Agree,Neutral,Agree,Agree,Agree,Agree,Yes,No,Yes,No,-,-,-,-,On-line,-,-,-,-,No,Yes,Yes,Yes,Yes,Male,46  50,Permanent Full-time,Teacher (including LVT),3-4,3-4
6.34763621955806E+017,Central Queensland Institute of TAFE,Non-Delivery (corporate),2012,Contract Expired,,,,,,,,,,,,,,Neutral,Strongly Agree,Agree,Strongly Agree,Neutral,,Strongly Agree,Strongly Agree,Strongly Agree,Strongly Disagree,Strongly Agree,Strongly Agree,Strongly Agree,Strongly Agree,Strongly Agree,Strongly Agree,Strongly Agree,Strongly Agree,Agree,Agree,Agree,Agree,Strongly Agree,Strongly Agree,Strongly Agree,Strongly Agree,Strongly Agree,Not Applicable,Strongly Agree,Neutral,No,,,,,,,,,,,,,No,Yes,Yes,Yes,Yes,Female,31  35,Temporary Part-time,Administration (AO),1-2,1-2
6.347636940725E+017,Brisbane North Institute of TAFE,Delivery (teaching),2012,Contract Expired,,,,,,,,,,,,,,Disagree,Strongly Agree,Strongly Agree,Neutral,Agree,Neutral,Agree,Agree,Agree,Neutral,Neutral,Neutral,Neutral,Agree,Agree,Agree,Strongly Agree,Strongly Agree,Strongly Agree,Agree,Agree,Agree,Agree,Strongly Agree,Strongly Agree,Strongly Agree,Strongly Agree,Agree,Agree,Agree,Yes,No,Yes,No,-,-,-,-,-,-,-,-,-,Yes,Yes,Yes,Yes,Yes,Male,56 or older,Temporary Full-time,Teacher (including LVT),1-2,Less than 1 year
6.34763735587969E+017,Central Queensland Institute of TAFE,Non-Delivery (corporate),2012,Resignation,-,Career Move - Private Sector,-,-,-,-,-,-,-,-,-,-,,Neutral,Neutral,Neutral,Neutral,Agree,Neutral,Agree,Agree,Neutral,Disagree,Neutral,Neutral,Neutral,Agree,Agree,Agree,Agree,Agree,Agree,Agree,Agree,Agree,Agree,Agree,Agree,Agree,Agree,Neutral,Agree,Neutral,Yes,Yes,Yes,No,-,On-line,-,Face to Face,-,-,-,-,-,No,Yes,Yes,Yes,Yes,Female,31  35,Contract/casual,Administration (AO),Less than 1 year,Less than 1 year
6.3476455024875E+017,Central Queensland Institute of TAFE,Non-Delivery (corporate),2012,Retrenchment/ Redundancy,,,,,,,,,,,,,,Strongly Disagree,Strongly Disagree,Neutral,Strongly Disagree,Strongly Agree,Agree,Neutral,Neutral,Disagree,Strongly Disagree,Not Applicable,Not Applicable,Not Applicable,Disagree,Strongly Agree,Agree,Strongly Agree,Neutral,Agree,Strongly Agree,Strongly Agree,Strongly Agree,Agree,Neutral,Agree,Strongly Disagree,Strongly Disagree,Neutral,Agree,Neutral,Yes,Yes,Yes,Yes,-,On-line,-,-,On-line,-,Face to Face,-,-,No,Yes,Yes,Yes,No,Male,41  45,Permanent Full-time,Administration (AO),1-2,Less than 1 year
6.34764565809556E+017,SkillsTech Australia,Non-Delivery (corporate),2012,Contract Expired,,,,,,,,,,,,,,Neutral,Agree,Agree,Neutral,Agree,Disagree,Disagree,Neutral,Strongly Disagree,Strongly Disagree,Strongly Disagree,Strongly Disagree,Strongly Disagree,Strongly Disagree,,Neutral,Neutral,Neutral,Neutral,Disagree,Disagree,Disagree,Disagree,Neutral,Neutral,Strongly Disagree,Neutral,Disagree,Strongly Disagree,Strongly Disagree,Yes,Yes,Yes,Yes,-,-,-,-,-,-,-,-,-,Yes,Yes,No,No,No,Female,26  30,Contract/casual,Administration (AO),Less than 1 year,Less than 1 year
6.34765328565337E+017,Brisbane North Institute of TAFE,Non-Delivery (corporate),2012,Contract Expired,,,,,,,,,,,,,,Neutral,Neutral,Neutral,Disagree,Neutral,Agree,Agree,Agree,Neutral,Disagree,Neutral,Neutral,Neutral,Agree,Strongly Agree,Neutral,Neutral,Agree,Strongly Agree,Neutral,Neutral,Disagree,Disagree,Agree,Agree,Neutral,Disagree,Neutral,Agree,Neutral,Yes,Yes,,No,Face to Face,-,-,-,-,-,-,-,-,No,Yes,Yes,Yes,Yes,Female,21  25,Temporary Full-time,Administration (AO),Less than 1 year,Less than 1 year
6.34765334307187E+017,Central Queensland Institute of TAFE,Non-Delivery (corporate),2012,Contract Expired,,,,,,,,,,,,,,Strongly Agree,Strongly Agree,Strongly Agree,Neutral,Agree,Strongly Agree,Strongly Agree,Strongly Agree,Strongly Agree,Strongly Agree,Neutral,Neutral,Neutral,Strongly Agree,Strongly Agree,Strongly Agree,Strongly Agree,Strongly Agree,Strongly Agree,Strongly Agree,Strongly Agree,Strongly Agree,Strongly Agree,Strongly Agree,Strongly Agree,Strongly Agree,Strongly Agree,Neutral,Strongly Agree,Strongly Agree,Yes,Yes,Yes,Yes,-,On-line,-,-,On-line,-,Face to Face,-,-,No,Yes,Yes,Yes,Yes,Female,36  40,Contract/casual,Administration (AO),Less than 1 year,Less than 1 year
6.34765399956275E+017,Brisbane North Institute of TAFE,Non-Delivery (corporate),2012,Contract Expired,,,,,,,,,,,,,,Strongly Agree,Strongly Agree,Strongly Agree,Not Applicable,Strongly Agree,Agree,Strongly Agree,Strongly Agree,Strongly Agree,Agree,Neutral,Strongly Agree,Strongly Agree,Strongly Agree,Strongly Agree,Strongly Agree,Strongly Agree,Agree,Strongly Agree,Strongly Agree,Strongly Agree,Strongly Agree,Strongly Agree,Strongly Agree,Strongly Agree,Strongly Agree,Strongly Agree,Strongly Agree,Agree,Agree,Yes,Yes,Yes,Yes,Face to Face,-,-,Face to Face,-,-,Face to Face,-,-,Yes,Yes,Yes,Yes,Yes,Male,46  50,Contract/casual,Administration (AO),3-4,Less than 1 year
6.34765421370181E+017,Sunshine Coast Institute of TAFE,Delivery (teaching),2012,Contract Expired,,,,,,,,,,,,,,,,,,,,,,,,,,,,,,,,,,,,,,,,,,,Strongly Disagree,No,,,,,,,,,,,,,Yes,Yes,,No,No,Male,56 or older,Temporary Full-time,Teacher (including LVT),7-10,7-10
6.34768690087369E+017,Southbank Institute of Technology,Non-Delivery (corporate),2012,Retirement,-,-,-,-,-,-,-,-,-,-,-,NONE,,Agree,Strongly Agree,Agree,Strongly Agree,Neutral,Agree,Agree,Agree,Agree,Agree,Agree,Agree,Agree,Agree,Strongly Agree,Strongly Agree,Strongly Agree,Strongly Agree,Strongly Agree,Strongly Agree,Strongly Agree,Strongly Agree,Strongly Agree,Agree,Disagree,Strongly Agree,Agree,Strongly Agree,Strongly Agree,Agree,Yes,No,Yes,Yes,-,-,-,-,-,-,-,-,-,Yes,Yes,Yes,Yes,Yes,Female,56 or older,Permanent Part-time,Professional Officer (PO),More than 20 years,5-6
6.34774030826094E+017,Brisbane North Institute of TAFE,Non-Delivery (corporate),2012,Resignation,-,Career Move - Private Sector,-,-,-,-,-,-,-,-,Other,-,Other,Agree,Agree,Agree,Agree,Neutral,Agree,Agree,Agree,Agree,Disagree,Neutral,Neutral,Agree,Agree,Agree,Neutral,Neutral,Agree,Agree,Neutral,Neutral,Agree,Neutral,Agree,Agree,Agree,Agree,Agree,Agree,Neutral,Yes,Yes,,Yes,Face to Face,-,-,-,-,-,Face to Face,-,-,Yes,Yes,Yes,Yes,Yes,Female,46  50,Temporary Part-time,Professional Officer (PO),Less than 1 year,Less than 1 year
6.34774048206094E+017,SkillsTech Australia,Delivery (teaching),2012,Contract Expired,,,,,,,,,,,,,,Disagree,Neutral,Neutral,Neutral,Neutral,Strongly Disagree,Strongly Disagree,Neutral,Strongly Disagree,Disagree,Strongly Disagree,Strongly Disagree,Strongly Disagree,Strongly Disagree,Agree,Agree,Strongly Agree,Strongly Agree,Agree,Disagree,Disagree,Disagree,Agree,Agree,Neutral,Neutral,Agree,Neutral,Neutral,Disagree,No,,,,,,,,,,,,,No,Yes,No,Yes,No,Male,31  35,Temporary Full-time,Teacher (including LVT),Less than 1 year,5-6
6.34774723180937E+017,Southern Queensland Institute of TAFE,Delivery (teaching),2012,Resignation,-,Career Move - Private Sector,-,-,-,-,-,-,-,-,Other,-,Career Move - Private Sector,Strongly Agree,Agree,Agree,Neutral,Disagree,Agree,Agree,Agree,Agree,Neutral,,,Agree,Agree,Agree,Agree,Agree,Agree,Agree,Neutral,Neutral,Neutral,Agree,Agree,Neutral,Agree,Agree,Agree,Strongly Agree,Agree,No,,,,,,,,,,,,,Yes,Yes,Yes,Yes,Yes,Male,46  50,Permanent Full-time,Teacher (including LVT),11-20,Less than 1 year
6.34775905600156E+017,Central Queensland Institute of TAFE,Delivery (teaching),2012,Resignation,-,Career Move - Private Sector,-,-,-,Contributing Factors. Dissatisfaction ,-,-,-,-,-,-,Dissatisfaction with %[Institute]Q25LBL%,Strongly Agree,Agree,Neutral,Neutral,Disagree,Neutral,Neutral,Neutral,Neutral,Neutral,Neutral,Neutral,Neutral,Neutral,Agree,Neutral,Agree,Neutral,Agree,Neutral,Neutral,Neutral,Neutral,Neutral,Neutral,Neutral,Neutral,Neutral,Neutral,Neutral,Yes,,Yes,,-,-,-,-,On-line,-,-,-,-,Yes,Yes,Yes,Yes,Yes,Male,36  40,Temporary Full-time,Teacher (including LVT),Less than 1 year,Less than 1 year
6.34776478226875E+017,Southbank Institute of Technology,Non-Delivery (corporate),2012,Resignation,-,-,-,-,-,-,-,-,-,Travel,-,-,,Neutral,Agree,Agree,Agree,Agree,Agree,Strongly Agree,Strongly Agree,Agree,Agree,Agree,Agree,Neutral,Strongly Agree,Strongly Agree,Agree,Agree,Agree,Strongly Agree,Disagree,Agree,Agree,Agree,Agree,Agree,Strongly Agree,Neutral,Agree,Agree,Agree,No,,,,,,,,,,,,,No,Yes,Yes,Yes,Yes,Male,21  25,Temporary Full-time,Administration (AO),1-2,Less than 1 year
6.34779998192656E+017,Central Queensland Institute of TAFE,Non-Delivery (corporate),2012,Resignation,-,-,-,-,-,-,Job Dissatisfaction,-,-,-,Other,-,,Neutral,Neutral,Disagree,Disagree,Agree,Neutral,Agree,Agree,Agree,Agree,Agree,Agree,Agree,Agree,Agree,Agree,Agree,Agree,Agree,Agree,Agree,Agree,Agree,Agree,Neutral,Agree,Agree,Agree,Agree,Agree,No,,,,,,,,,,,,,No,Yes,Yes,Yes,Yes,Female,36  40,Temporary Full-time,Administration (AO),1-2,1-2
6.34781625247656E+017,Brisbane North Institute of TAFE,Non-Delivery (corporate),2012,Resignation,Career Move - Public Sector,-,-,-,-,-,-,-,-,-,-,-,,Strongly Agree,Agree,Agree,Neutral,Agree,Strongly Agree,Strongly Agree,Strongly Agree,Strongly Agree,Neutral,Agree,Strongly Agree,Strongly Agree,Strongly Agree,Strongly Agree,Agree,Strongly Agree,Strongly Agree,Strongly Agree,Agree,Neutral,Strongly Agree,Neutral,Strongly Agree,Strongly Agree,Strongly Agree,Strongly Agree,Agree,Strongly Agree,Agree,Yes,Yes,Yes,Yes,-,-,-,-,-,-,-,-,-,Yes,Yes,Yes,Yes,Yes,Female,21  25,Temporary Full-time,Administration (AO),Less than 1 year,Less than 1 year
6.34781649658281E+017,SkillsTech Australia,Non-Delivery (corporate),2012,Contract Expired,,,,,,,,,,,,,,Agree,Agree,Agree,Neutral,Agree,Agree,Agree,Agree,Agree,Agree,Agree,Agree,Agree,Agree,Agree,Agree,Agree,Agree,Agree,Agree,Agree,Agree,Agree,Agree,Strongly Agree,Strongly Agree,Strongly Agree,Disagree,Agree,Agree,Yes,No,Yes,Yes,-,-,-,-,On-line,-,Face to Face,-,-,No,Yes,Yes,Yes,Yes,Female,31  35,Temporary Full-time,Administration (AO),Less than 1 year,Less than 1 year
6.34781660507187E+017,SkillsTech Australia,Delivery (teaching),2012,Retirement,-,-,-,-,-,-,-,-,-,-,-,NONE,,Strongly Agree,Strongly Agree,Strongly Agree,Strongly Agree,Strongly Agree,Agree,Strongly Agree,Strongly Agree,Strongly Agree,Agree,Strongly Agree,Strongly Agree,Strongly Agree,Strongly Agree,Strongly Agree,Strongly Agree,Strongly Agree,Strongly Agree,Strongly Agree,Strongly Agree,Strongly Agree,Strongly Agree,Strongly Agree,Strongly Agree,Strongly Agree,Strongly Agree,Agree,Strongly Agree,Strongly Agree,Strongly Agree,Yes,No,Yes,Yes,-,-,-,-,-,-,-,-,-,Yes,Yes,Yes,Yes,Yes,Male,56 or older,Permanent Full-time,Teacher (including LVT),More than 20 years,More than 20 years
6.34781843688125E+017,Central Queensland Institute of TAFE,Delivery (teaching),2012,Resignation,-,-,-,Ill Health,-,Contributing Factors. Dissatisfaction ,-,-,-,-,-,-,,Neutral,Disagree,Agree,Disagree,Disagree,Neutral,Agree,Agree,Neutral,Neutral,Disagree,Disagree,Agree,Disagree,Strongly Agree,Strongly Agree,Strongly Agree,Agree,Strongly Agree,Strongly Agree,Strongly Agree,Strongly Agree,Strongly Agree,Neutral,Disagree,Neutral,Disagree,Disagree,Neutral,Neutral,Yes,Yes,No,No,-,On-line,-,-,-,-,-,-,-,No,Yes,Yes,Yes,Yes,Female,51-55,Permanent Part-time,Teacher (including LVT),5-6,1-2
6.34782721630781E+017,Southbank Institute of Technology,Non-Delivery (corporate),,Resignation,,,,,,,,,,,,,,,,,,,,,,,,,,,,,,,,,,,,,,,,,,,,,,,,,,,,,,,,,,,,,,,,,,,
6.34783353732656E+017,Southbank Institute of Technology,Delivery (teaching),2012,Contract Expired,,,,,,,,,,,,,,,,,,,,,,,,,,,,,,,,,,,,,,,,,,,,,,,,,,,,,,,,,,,,,,,,,,,
6.34786164810312E+017,Tropical North Institute of TAFE,Non-Delivery (corporate),2012,Retrenchment/ Redundancy,,,,,,,,,,,,,,Strongly Agree,Strongly Agree,Strongly Agree,Strongly Agree,Strongly Agree,Strongly Agree,Strongly Agree,Strongly Agree,Strongly Agree,Strongly Agree,Strongly Agree,Strongly Agree,Strongly Agree,Strongly Agree,Strongly Agree,Strongly Agree,Strongly Agree,Strongly Agree,Strongly Agree,Strongly Agree,Strongly Agree,Strongly Agree,Strongly Agree,Strongly Agree,Strongly Agree,Strongly Agree,Strongly Agree,Strongly Agree,Strongly Agree,Strongly Agree,Yes,No,Yes,Yes,-,-,-,-,-,-,-,-,-,Yes,Yes,Yes,Yes,Yes,Female,51-55,Contract/casual,Administration (AO),1-2,Less than 1 year
6.34786182825625E+017,Central Queensland Institute of TAFE,Non-Delivery (corporate),2012,Resignation,-,-,-,-,-,-,-,-,-,-,Other,-,,Agree,Agree,Strongly Agree,Strongly Agree,Agree,Agree,Agree,Agree,Agree,Neutral,Agree,Agree,Agree,Agree,Agree,Agree,Agree,Agree,Agree,Agree,Neutral,Agree,Agree,Agree,Agree,Agree,Agree,Neutral,Agree,Neutral,No,,,,,,,,,,,,,Yes,Yes,Yes,Yes,Yes,Female,21  25,Permanent Full-time,Administration (AO),1-2,Less than 1 year
6.34786910427969E+017,Central Queensland Institute of TAFE,Non-Delivery (corporate),2012,Resignation,-,-,-,-,-,-,-,-,-,-,Other,-,,Strongly Disagree,Agree,Agree,Agree,Agree,Strongly Agree,Strongly Agree,Agree,Agree,Strongly Disagree,Agree,Agree,Agree,Strongly Agree,Strongly Agree,Agree,Strongly Agree,Strongly Agree,Strongly Agree,Agree,Agree,Agree,Agree,Strongly Agree,Strongly Agree,Strongly Agree,Strongly Agree,Strongly Disagree,Strongly Agree,Agree,Yes,No,Yes,Yes,-,-,-,-,On-line,-,Face to Face,-,-,No,Yes,Yes,Yes,Yes,Female,41  45,Temporary Full-time,Administration (AO),11-20,11-20
6.3478773004125E+017,Brisbane North Institute of TAFE,Non-Delivery (corporate),2012,Transfer,Career Move - Public Sector,-,-,-,-,Contributing Factors. Dissatisfaction ,-,-,-,-,-,-,Career Move - Public Sector,Neutral,Neutral,Strongly Agree,Neutral,Strongly Disagree,Neutral,Strongly Agree,Agree,Disagree,Disagree,Agree,Agree,Disagree,Strongly Agree,Agree,Neutral,Strongly Agree,Strongly Agree,Strongly Agree,Strongly Agree,Disagree,Disagree,Agree,Strongly Agree,Agree,Agree,Strongly Agree,Agree,Agree,Agree,Yes,No,Yes,Yes,-,-,-,Face to Face,-,-,Face to Face,-,-,Yes,Yes,Yes,Yes,No,Female,26  30,Temporary Full-time,Administration (AO),Less than 1 year,Less than 1 year
6.34788542900625E+017,Brisbane North Institute of TAFE,Non-Delivery (corporate),2012,Resignation,-,-,-,-,Maternity/Family,-,-,-,-,-,-,-,,Agree,Strongly Agree,Agree,Strongly Agree,Agree,Strongly Agree,Agree,Agree,Agree,Neutral,Agree,Agree,Agree,Strongly Agree,Strongly Agree,Strongly Agree,Strongly Agree,Strongly Agree,Agree,Strongly Agree,Strongly Agree,Strongly Agree,Agree,Strongly Agree,Neutral,Agree,Agree,Agree,Strongly Agree,Agree,Yes,No,Yes,Yes,-,-,-,Face to Face,-,-,Face to Face,-,-,No,Yes,Yes,Yes,Yes,Male,31  35,Temporary Full-time,Administration (AO),1-2,Less than 1 year
6.34789421680312E+017,Southern Queensland Institute of TAFE,Non-Delivery (corporate),2012,Resignation,-,Career Move - Private Sector,-,-,-,Contributing Factors. Dissatisfaction ,-,-,-,-,-,-,Career Move - Private Sector,Neutral,Disagree,Disagree,Disagree,Disagree,Agree,Neutral,Agree,Neutral,Disagree,Neutral,Agree,Disagree,Neutral,Agree,Agree,Agree,Agree,Neutral,Disagree,Disagree,Neutral,Neutral,Neutral,Disagree,Neutral,Strongly Agree,Strongly Disagree,Agree,Agree,Yes,Yes,Yes,Yes,Face to Face,-,-,Face to Face,-,-,Face to Face,-,-,Yes,Yes,No,Yes,,Female,41  45,Permanent Full-time,Administration (AO),5-6,More than 20 years
6.34792964190156E+017,Southern Queensland Institute of TAFE,Non-Delivery (corporate),2012,Transfer,Career Move - Public Sector,-,-,-,-,-,-,-,-,-,-,-,,Agree,Agree,Agree,Neutral,Agree,Agree,Agree,Agree,Agree,Strongly Agree,Agree,Agree,Agree,Agree,Agree,Strongly Agree,Agree,Agree,Strongly Agree,Agree,Strongly Agree,Strongly Agree,Strongly Agree,Strongly Agree,Agree,Agree,Strongly Agree,Agree,Agree,Strongly Agree,Yes,Yes,Yes,Yes,Face to Face,-,-,Face to Face,-,-,Face to Face,-,-,Yes,Yes,Yes,Yes,Yes,Female,51-55,Permanent Full-time,Administration (AO),More than 20 years,3-4
6.34793871139219E+017,Brisbane North Institute of TAFE,Non-Delivery (corporate),2012,Resignation,-,-,-,-,-,-,-,-,-,-,-,NONE,,Strongly Agree,Strongly Agree,Strongly Agree,Strongly Agree,Strongly Agree,Strongly Agree,Strongly Agree,Strongly Agree,Strongly Agree,Strongly Agree,Strongly Agree,Strongly Agree,Strongly Agree,Strongly Agree,Strongly Agree,Strongly Agree,Strongly Agree,Strongly Agree,Strongly Agree,Strongly Agree,Strongly Agree,Strongly Agree,Strongly Agree,Strongly Agree,Strongly Agree,Strongly Agree,Strongly Agree,Strongly Agree,Strongly Agree,Strongly Agree,Yes,,,,Face to Face,-,-,Face to Face,-,-,Face to Face,-,-,Yes,Yes,Yes,Yes,Yes,Female,21  25,Contract/casual,Administration (AO),3-4,3-4
6.34794639635781E+017,Tropical North Institute of TAFE,Non-Delivery (corporate),2012,Resignation,-,Career Move - Private Sector,-,-,-,-,-,-,-,-,-,-,,Agree,Agree,Neutral,Neutral,Agree,Agree,Agree,Agree,Neutral,Neutral,Neutral,Neutral,Disagree,Agree,Agree,Neutral,Neutral,Agree,Agree,Neutral,Neutral,Neutral,Neutral,Agree,Agree,Agree,Neutral,Agree,Neutral,Neutral,Yes,Yes,Yes,Yes,Face to Face,-,-,Face to Face,-,-,Face to Face,-,-,Yes,Yes,Yes,Yes,Yes,Female,21  25,Temporary Full-time,Administration (AO),Less than 1 year,Less than 1 year
6.34794857718438E+017,Tropical North Institute of TAFE,Delivery (teaching),2012,Resignation,-,-,-,-,-,Contributing Factors. Dissatisfaction ,-,-,-,-,-,-,,Neutral,Agree,Agree,Strongly Disagree,Neutral,Strongly Disagree,Strongly Disagree,Neutral,Strongly Disagree,Disagree,Strongly Disagree,Strongly Disagree,Strongly Disagree,Neutral,Strongly Agree,Agree,Disagree,Agree,Disagree,Strongly Disagree,Strongly Disagree,Strongly Disagree,Neutral,Strongly Agree,Strongly Agree,Strongly Disagree,Strongly Agree,Strongly Disagree,Neutral,Strongly Disagree,Yes,No,No,Yes,-,-,-,-,-,-,Face to Face,-,-,Yes,Yes,Yes,Yes,No,Male,56 or older,Permanent Part-time,Teacher (including LVT),1-2,1-2
6.34799770843437E+017,Southern Queensland Institute of TAFE,Delivery (teaching),2012,Resignation,-,-,-,Ill Health,-,Contributing Factors. Dissatisfaction ,-,-,-,-,-,-,Dissatisfaction with %[Institute]Q25LBL%,Agree,Agree,Strongly Disagree,Strongly Disagree,Strongly Agree,Strongly Disagree,Strongly Disagree,Disagree,Strongly Disagree,Strongly Disagree,Strongly Disagree,Strongly Disagree,Strongly Disagree,Strongly Disagree,Neutral,Agree,Agree,Strongly Disagree,Strongly Disagree,Disagree,Disagree,Neutral,Agree,Strongly Disagree,Agree,Strongly Disagree,Disagree,Strongly Disagree,Disagree,Strongly Disagree,Yes,No,Yes,No,-,-,-,-,On-line,-,-,-,-,No,No,No,No,No,Female,46  50,Temporary Full-time,Teacher (including LVT),1-2,1-2
6.3480076201625E+017,Southbank Institute of Technology,Non-Delivery (corporate),2012,Resignation,-,-,-,-,-,-,-,-,-,-,Other,-,,Agree,Neutral,Agree,Agree,Agree,Agree,Agree,Agree,Agree,Disagree,Neutral,Neutral,Neutral,Agree,Strongly Agree,Strongly Agree,Agree,Strongly Agree,Agree,Agree,Agree,Agree,Agree,Agree,Agree,Agree,Agree,Agree,Agree,Agree,Yes,Yes,Yes,Yes,Face to Face,-,-,Face to Face,-,Induction Manual,Face to Face,-,-,Yes,Yes,Yes,Yes,Yes,Male,26  30,Temporary Full-time,Administration (AO),3-4,3-4
6.34806706577344E+017,Brisbane North Institute of TAFE,Non-Delivery (corporate),2012,Retirement,-,-,-,-,-,-,Job Dissatisfaction,-,-,-,-,-,,Agree,Agree,Agree,Agree,Disagree,Neutral,Disagree,Disagree,Disagree,Neutral,Disagree,Neutral,Agree,Strongly Disagree,Strongly Agree,Agree,Neutral,Agree,Agree,Agree,Agree,Agree,Agree,Agree,Agree,Neutral,Agree,Neutral,Neutral,Neutral,Yes,No,Yes,No,-,-,-,Face to Face,-,-,-,-,-,No,Yes,Yes,Yes,Yes,Male,56 or older,Permanent Full-time,Operational (OO),More than 20 years,11-20
6.34807637421719E+017,Central Queensland Institute of TAFE,Non-Delivery (corporate),2012,Resignation,-,-,-,-,-,-,Job Dissatisfaction,Interpersonal Conflict,-,-,-,-,Job Dissatisfaction,Strongly Disagree,Disagree,Disagree,Disagree,Neutral,Strongly Disagree,Strongly Disagree,Strongly Disagree,Neutral,Strongly Disagree,Strongly Disagree,Strongly Disagree,Strongly Disagree,Strongly Disagree,Agree,Agree,Agree,Agree,Disagree,Disagree,Disagree,Disagree,Agree,Neutral,Neutral,Disagree,Disagree,Disagree,Disagree,Strongly Disagree,Yes,Yes,Yes,No,Face to Face,-,-,-,On-line,-,-,-,-,No,Yes,Yes,No,No,Female,46  50,Permanent Full-time,Administration (AO),7-10,7-10
6.348103446E+017,Wide Bay Institute of TAFE,Delivery (teaching),2012,Retirement,-,-,-,Ill Health,-,-,-,-,-,-,-,-,,Agree,Agree,Agree,Neutral,Agree,Agree,Strongly Agree,Agree,Strongly Agree,Disagree,Agree,Agree,Agree,Agree,Strongly Agree,Strongly Agree,Strongly Agree,Strongly Agree,Strongly Agree,Disagree,Disagree,Disagree,Agree,Agree,Agree,Agree,Agree,Neutral,Strongly Agree,Agree,Yes,Yes,Yes,No,Face to Face,-,-,Face to Face,-,-,-,-,-,Yes,Yes,Yes,Yes,No,Female,56 or older,Permanent Full-time,Teacher (including LVT),11-20,11-20
6.34811041501719E+017,Tropical North Institute of TAFE,Delivery (teaching),2012,Resignation,-,-,-,-,-,-,-,-,-,-,-,NONE,,,,,,,,,,,,,,,,,,,,,,,,,,,,,,,,,,,,,,,,,,,,,,,,,,,,,,,
6.34811063824844E+017,Tropical North Institute of TAFE,Delivery (teaching),2012,Resignation,-,Career Move - Private Sector,-,-,-,-,-,-,-,-,-,-,,Neutral,Disagree,Disagree,Not Applicable,Strongly Disagree,Strongly Disagree,Agree,Agree,Agree,Disagree,Neutral,Disagree,Neutral,Strongly Disagree,Agree,Agree,Strongly Agree,Neutral,Strongly Disagree,Neutral,Agree,Agree,Agree,Disagree,Disagree,Strongly Disagree,Agree,Neutral,Strongly Disagree,Strongly Disagree,Yes,,,,-,On-line,-,-,On-line,-,Face to Face,-,-,Yes,Yes,Yes,Yes,Yes,Male,41  45,Temporary Full-time,Teacher (including LVT),Less than 1 year,Less than 1 year
6.34811069432813E+017,Southbank Institute of Technology,Non-Delivery (corporate),2012,Transfer,-,-,-,-,-,-,-,-,-,-,Other,-,,Strongly Agree,Strongly Agree,Strongly Agree,Neutral,Disagree,Strongly Agree,Strongly Agree,Strongly Agree,Agree,Strongly Agree,Agree,Agree,Agree,,Strongly Agree,Strongly Agree,Strongly Agree,Strongly Agree,Strongly Agree,Strongly Agree,Strongly Agree,Strongly Agree,Strongly Agree,Strongly Agree,Strongly Agree,,Strongly Agree,Agree,Strongly Agree,Strongly Agree,Yes,No,Yes,Yes,-,-,-,Face to Face,-,-,Face to Face,-,-,Yes,Yes,Yes,Yes,Yes,Male,26  30,Temporary Full-time,Administration (AO),3-4,3-4
6.34811182139844E+017,Southbank Institute of Technology,Delivery (teaching),2012,Resignation,-,-,-,-,-,-,-,-,-,-,-,-,,,,,,,,,,,,,,,,,,,,,,,,,,,,,,,,Yes,,,,-,-,-,-,-,-,-,-,-,,,,,,,,,,,
6.34812805553281E+017,Tropical North Institute of TAFE,Non-Delivery (corporate),2012,Resignation,-,-,-,-,-,-,Job Dissatisfaction,-,Study,-,-,-,Job Dissatisfaction,Strongly Agree,Agree,Strongly Agree,Strongly Agree,Neutral,Agree,Strongly Agree,Strongly Agree,Neutral,Neutral,Agree,Agree,Agree,Strongly Agree,Strongly Agree,Disagree,Agree,Agree,Neutral,Disagree,Agree,Disagree,Neutral,Disagree,Agree,Agree,Agree,Agree,Agree,Agree,Yes,,Yes,,-,-,-,Face to Face,-,-,-,-,-,Yes,Yes,Yes,Yes,Yes,Female,21  25,Permanent Full-time,Administration (AO),1-2,3-4
6.348129412025E+017,Tropical North Institute of TAFE,Delivery (teaching),2012,Resignation,-,-,-,-,-,-,-,-,-,-,-,-,,,,,,,,,,,,,,,,,,,,,,,,,,,,,,,,,,,,,,,,,,,,,,,,,,,,,,,
6.34813581041094E+017,Brisbane North Institute of TAFE,Non-Delivery (corporate),2012,Resignation,-,Career Move - Private Sector,-,-,-,-,-,-,-,-,-,-,,Strongly Agree,Strongly Agree,Strongly Agree,Neutral,Neutral,Agree,Agree,Neutral,Agree,Disagree,Strongly Agree,Strongly Agree,Strongly Agree,Agree,Strongly Agree,Strongly Agree,Strongly Agree,Agree,Strongly Disagree,Strongly Agree,Strongly Agree,Strongly Agree,Strongly Agree,Strongly Agree,Strongly Agree,Strongly Agree,Strongly Agree,Strongly Agree,Strongly Agree,Neutral,Yes,No,Yes,No,Face to Face,-,-,-,-,-,-,-,-,Yes,Yes,Yes,Yes,Yes,Female,26  30,Temporary Full-time,Administration (AO),1-2,1-2
6.34816502884375E+017,Sunshine Coast Institute of TAFE,Delivery (teaching),2012,Resignation,-,Career Move - Private Sector,-,-,-,-,-,-,-,-,-,-,,Agree,Agree,Agree,Agree,Agree,Agree,Agree,Agree,Agree,Neutral,Agree,Agree,Agree,Strongly Agree,Agree,Neutral,Strongly Agree,Agree,Agree,Disagree,Disagree,Disagree,Neutral,Agree,Strongly Agree,Strongly Agree,Strongly Agree,Strongly Agree,Strongly Agree,Strongly Agree,Yes,,,,-,-,-,-,-,-,-,-,-,Yes,Yes,Yes,Yes,Yes,Male,36  40,Temporary Full-time,Administration (AO),1-2,1-2
6.3481720866375E+017,Brisbane North Institute of TAFE,Non-Delivery (corporate),2012,Resignation,-,Career Move - Private Sector,-,-,-,-,Job Dissatisfaction,-,-,-,Other,-,Job Dissatisfaction,Strongly Disagree,Agree,Strongly Disagree,Strongly Disagree,Strongly Disagree,Strongly Disagree,Neutral,Agree,Strongly Disagree,Strongly Disagree,Strongly Disagree,Strongly Disagree,Strongly Disagree,Strongly Disagree,Strongly Agree,Agree,Strongly Disagree,Agree,Strongly Disagree,Disagree,Disagree,Agree,Agree,Strongly Disagree,Strongly Disagree,Strongly Disagree,Strongly Agree,Agree,Strongly Disagree,Strongly Disagree,Yes,,Yes,,-,-,-,Face to Face,-,-,-,-,-,No,Yes,Yes,Yes,No,Female,21  25,Temporary Full-time,Administration (AO),1-2,1-2
6.34818651570937E+017,Southbank Institute of Technology,Non-Delivery (corporate),2012,Resignation,-,-,-,Ill Health,-,-,-,-,-,-,-,-,,Disagree,,,,,,,,,Disagree,,,,,,,,,,,,,,,,,,,,,,,,,,,,,,,,,,,,,,,,,,,,
6.34819687984062E+017,Central Queensland Institute of TAFE,Non-Delivery (corporate),2012,Retrenchment/ Redundancy,,,,,,,,,,,,,,Agree,Agree,Agree,Strongly Agree,Agree,Agree,Agree,Agree,Agree,Agree,Agree,Agree,Strongly Agree,Agree,Agree,Agree,Agree,Strongly Agree,Agree,Strongly Agree,Strongly Agree,Strongly Agree,Strongly Agree,Neutral,Agree,Agree,Agree,Agree,Agree,Agree,Yes,No,Yes,Yes,-,-,-,-,-,-,-,-,-,No,Yes,Yes,Yes,Yes,Female,56 or older,Permanent Full-time,Administration (AO),More than 20 years,More than 20 years
6.34819735079219E+017,Southbank Institute of Technology,Non-Delivery (corporate),2012,Contract Expired,,,,,,,,,,,,,,Strongly Agree,Agree,Strongly Agree,Agree,Agree,Agree,Strongly Agree,Strongly Agree,Agree,Agree,Agree,Agree,Agree,Strongly Agree,Strongly Agree,Neutral,Agree,Agree,Strongly Agree,Neutral,Neutral,Neutral,Neutral,Strongly Agree,Strongly Agree,Strongly Agree,Strongly Agree,Agree,Strongly Agree,Strongly Agree,No,,,,,,,,,,,,,No,Yes,Yes,Yes,Yes,Female,26  30,Temporary Full-time,Administration (AO),Less than 1 year,Less than 1 year
6.34823973840625E+017,Central Queensland Institute of TAFE,Non-Delivery (corporate),2012,Resignation,-,Career Move - Private Sector,-,-,-,-,-,-,-,-,-,-,,Strongly Agree,Strongly Agree,Strongly Agree,Strongly Agree,Strongly Agree,Strongly Agree,Strongly Agree,Strongly Agree,Strongly Agree,Strongly Agree,Strongly Agree,Strongly Agree,Strongly Agree,Strongly Agree,Strongly Agree,Strongly Agree,Strongly Agree,Strongly Agree,Strongly Agree,Strongly Agree,Strongly Agree,Strongly Agree,Strongly Agree,Strongly Agree,Strongly Agree,Strongly Agree,Strongly Agree,Strongly Agree,Strongly Agree,Strongly Agree,Yes,Yes,Yes,Yes,-,On-line,-,-,On-line,-,-,-,-,No,Yes,Yes,Yes,Yes,Male,21  25,Contract/casual,Administration (AO),1-2,Less than 1 year
6.34825003759375E+017,Tropical North Institute of TAFE,Delivery (teaching),2013,Resignation,-,-,Career Move - Self-employment,-,-,-,-,-,-,-,-,-,,Strongly Agree,Strongly Agree,Agree,Neutral,Strongly Agree,Disagree,Agree,Strongly Agree,Strongly Agree,Disagree,Agree,Agree,Disagree,Agree,Agree,Strongly Agree,Strongly Agree,Agree,Neutral,Agree,Agree,Agree,Agree,Agree,Neutral,Neutral,Neutral,Agree,Agree,Agree,Yes,No,,No,-,-,-,-,On-line,-,-,-,-,Yes,Yes,Yes,Yes,Yes,Female,31  35,Permanent Part-time,Teacher (including LVT),3-4,3-4
6.348250791775E+017,Central Queensland Institute of TAFE,Non-Delivery (corporate),2012,Resignation,-,-,-,Ill Health,-,Contributing Factors. Dissatisfaction ,Job Dissatisfaction,-,-,-,-,-,,Neutral,Agree,Neutral,Agree,Agree,Strongly Disagree,Agree,Agree,Agree,Disagree,Neutral,Neutral,Strongly Disagree,Neutral,Agree,Strongly Disagree,Neutral,Agree,Neutral,Disagree,Disagree,Disagree,Strongly Disagree,Disagree,Neutral,Neutral,Neutral,Disagree,Neutral,Neutral,Yes,No,Yes,Yes,-,-,-,Face to Face,-,-,Face to Face,-,-,No,Yes,No,No,No,Female,20 or younger,Temporary Full-time,Administration (AO),3-4,Less than 1 year
6.34825691015156E+017,Brisbane North Institute of TAFE,Non-Delivery (corporate),2012,Resignation,-,Career Move - Private Sector,-,-,-,-,-,-,-,-,Other,-,Career Move - Private Sector,Agree,Agree,Agree,Agree,Disagree,Neutral,Strongly Agree,Agree,Strongly Agree,Not Applicable,Neutral,Agree,Strongly Agree,Strongly Agree,Agree,Strongly Agree,Strongly Agree,Agree,Strongly Agree,Strongly Agree,Agree,Strongly Agree,Strongly Agree,Agree,Agree,Strongly Agree,Strongly Agree,Agree,Agree,Disagree,Yes,Yes,Yes,Yes,Face to Face,-,-,Face to Face,-,-,Face to Face,-,-,No,Yes,Yes,Yes,Yes,Male,51-55,Temporary Full-time,Administration (AO),1-2,1-2
6.34831756059375E+017,Tropical North Institute of TAFE,Non-Delivery (corporate),2012,Resignation,-,Career Move - Private Sector,-,-,-,-,-,-,-,-,-,-,,Agree,Agree,Agree,Neutral,Disagree,Agree,Agree,Agree,Agree,Neutral,,Agree,Agree,Agree,Agree,Agree,Agree,Agree,Agree,Agree,Agree,Agree,Agree,Agree,Agree,Agree,Agree,Neutral,Agree,Agree,Yes,No,Yes,Yes,-,-,-,-,-,-,-,-,-,Yes,Yes,Yes,Yes,Yes,Male,56 or older,Temporary Full-time,Administration (AO),3-4,1-2
6.34834298665156E+017,Central Queensland Institute of TAFE,Non-Delivery (corporate),2012,Contract Expired,,,,,,,,,,,,,,Neutral,Agree,Agree,Not Applicable,Agree,Not Applicable,Agree,Neutral,Agree,Neutral,Not Applicable,Not Applicable,Not Applicable,Not Applicable,Strongly Agree,Strongly Agree,Strongly Agree,Strongly Agree,Strongly Agree,Strongly Agree,Strongly Agree,Strongly Agree,Strongly Agree,Agree,Strongly Agree,Agree,Agree,Agree,Strongly Agree,Neutral,Yes,Yes,Yes,Yes,-,On-line,-,-,On-line,-,Face to Face,-,-,Yes,Yes,Yes,Yes,Yes,Female,36  40,Contract/casual,Workplace Training Officer,Less than 1 year,Less than 1 year
6.34837806454531E+017,Central Queensland Institute of TAFE,Delivery (teaching),2012,Retrenchment/ Redundancy,,,,,,,,,,,,,,Neutral,Neutral,Neutral,Disagree,Agree,Neutral,Neutral,Disagree,Neutral,Disagree,Neutral,Neutral,Agree,Disagree,Neutral,Agree,Neutral,Agree,Neutral,Agree,Agree,Agree,Agree,Agree,Agree,Disagree,Agree,Disagree,Neutral,Neutral,,,,,,,,,,,,,,,,,,,,,,,,
6.34837810948906E+017,Central Queensland Institute of TAFE,Delivery (teaching),2012,Retrenchment/ Redundancy,,,,,,,,,,,,,,Neutral,Neutral,Neutral,Strongly Disagree,Agree,Disagree,Neutral,Neutral,Disagree,Neutral,Neutral,Neutral,Agree,Disagree,Neutral,Agree,Neutral,Agree,Agree,Agree,Agree,Agree,Agree,Agree,Agree,Neutral,Agree,Disagree,Neutral,Neutral,Yes,,,Yes,-,-,-,-,-,-,Face to Face,-,-,No,Yes,Yes,Yes,No,Male,56 or older,Permanent Full-time,Teacher (including LVT),11-20,11-20
6.3483795741875E+017,SkillsTech Australia,Non-Delivery (corporate),2012,Resignation,-,Career Move - Private Sector,-,-,-,-,Job Dissatisfaction,-,-,Travel,Other,-,Other,Neutral,Neutral,Disagree,Disagree,Neutral,Neutral,Neutral,Neutral,Neutral,Neutral,Neutral,Neutral,Neutral,Neutral,Agree,Disagree,Disagree,Agree,Neutral,Disagree,Disagree,Neutral,Disagree,Neutral,Neutral,Neutral,Neutral,Disagree,Disagree,Disagree,Yes,No,Yes,No,Face to Face,-,-,-,-,-,-,-,-,Yes,Yes,Yes,Yes,Yes,Female,26  30,Permanent Full-time,Administration (AO),3-4,3-4
6.34837984851406E+017,Tropical North Institute of TAFE,Delivery (teaching),2012,Resignation,-,-,-,-,-,-,-,-,-,-,Other,-,,Neutral,Agree,Agree,Strongly Disagree,Strongly Disagree,Disagree,Neutral,Neutral,Disagree,Disagree,Agree,Agree,Neutral,Disagree,Agree,Agree,Agree,Agree,Neutral,Neutral,Agree,Agree,Agree,Agree,Disagree,Agree,Disagree,Agree,Disagree,Disagree,Yes,No,Yes,Yes,-,-,-,-,-,-,-,-,-,Yes,Yes,Yes,Yes,Yes,Female,56 or older,Temporary Part-time,Teacher (including LVT),3-4,3-4
6.34837985192031E+017,Brisbane North Institute of TAFE,Non-Delivery (corporate),2012,Retrenchment/ Redundancy,,,,,,,,,,,,,,Agree,Neutral,Neutral,Agree,Disagree,Neutral,Agree,Agree,Neutral,Disagree,Agree,Agree,Agree,Agree,Strongly Agree,Agree,Neutral,Strongly Agree,Agree,Agree,Agree,Agree,Agree,Neutral,Agree,Disagree,Agree,Agree,Agree,Agree,Yes,Yes,Yes,Yes,-,-,-,-,-,-,-,-,-,Yes,Yes,Yes,Yes,Yes,Female,31  35,Permanent Full-time,Administration (AO),11-20,11-20
6.3484061865625E+017,Brisbane North Institute of TAFE,Non-Delivery (corporate),2012,Retrenchment/ Redundancy,,,,,,,,,,,,,,,,,,,,,,,,,,,,,,,,,,,,,,,,,,,,,,,,,,,,,,,,,,,,,,,,,,,
6.34841254135625E+017,Tropical North Institute of TAFE,Non-Delivery (corporate),2012,Contract Expired,,,,,,,,,,,,,,Agree,Agree,Strongly Agree,Neutral,Agree,Neutral,Agree,Agree,Agree,Agree,Agree,Agree,Agree,Agree,Agree,Agree,Agree,Agree,Agree,Agree,Agree,Agree,Agree,Agree,Agree,Neutral,Agree,Neutral,Agree,Agree,Yes,No,Yes,Yes,-,-,-,Face to Face,-,-,Face to Face,-,-,Yes,Yes,Yes,Yes,Yes,Female,21  25,Contract/casual,Administration (AO),1-2,3-4
6.348438490525E+017,Brisbane North Institute of TAFE,Non-Delivery (corporate),2012,Resignation,-,-,-,-,-,-,-,-,-,-,Other,-,,Strongly Agree,Strongly Agree,Strongly Agree,Agree,Strongly Agree,Strongly Agree,Strongly Agree,Strongly Agree,Neutral,Agree,Strongly Agree,Strongly Agree,Strongly Agree,Strongly Agree,Strongly Agree,Strongly Agree,Strongly Agree,Strongly Agree,Strongly Agree,Strongly Agree,Strongly Agree,Strongly Agree,Strongly Agree,Strongly Agree,Strongly Agree,Strongly Agree,Strongly Agree,Neutral,Strongly Agree,Agree,Yes,No,Yes,Yes,-,-,-,Face to Face,-,-,Face to Face,-,-,Yes,Yes,Yes,Yes,Yes,Female,36  40,Temporary Part-time,Administration (AO),11-20,Less than 1 year
6.34843856027656E+017,Southern Queensland Institute of TAFE,Non-Delivery (corporate),2012,Contract Expired,,,,,,,,,,,,,,Neutral,Agree,Neutral,Neutral,Neutral,Neutral,Agree,Agree,Neutral,Strongly Disagree,Neutral,Neutral,Neutral,Agree,Agree,Neutral,Neutral,Agree,Agree,Agree,Agree,Agree,Agree,Agree,Agree,Agree,Agree,Neutral,Agree,Neutral,No,,,,,,,,,,,,,No,Yes,,,,Female,56 or older,Temporary Full-time,Administration (AO),Less than 1 year,More than 20 years
6.34847509224219E+017,Brisbane North Institute of TAFE,Delivery (teaching),2012,Retrenchment/ Redundancy,,,,,,,,,,,,,,Agree,Agree,Agree,Neutral,Agree,Disagree,Agree,Agree,Neutral,Strongly Disagree,Agree,Agree,Agree,Agree,Strongly Agree,Agree,Agree,Agree,Agree,Agree,Agree,Agree,Agree,Agree,Agree,Disagree,Agree,Strongly Agree,Agree,Strongly Disagree,Yes,No,Yes,Yes,-,-,-,-,-,-,-,-,-,Yes,Yes,Yes,Yes,No,Female,56 or older,Permanent Full-time,Professional Officer (PO),11-20,11-20
6.34849101152813E+017,Southern Queensland Institute of TAFE,Delivery (teaching),2012,Resignation,-,Career Move - Private Sector,-,-,-,-,-,-,-,-,-,-,,Neutral,Neutral,Neutral,Neutral,Neutral,Strongly Agree,Strongly Agree,Strongly Agree,Strongly Agree,Neutral,Strongly Agree,Strongly Agree,Strongly Agree,Strongly Agree,Strongly Agree,Strongly Agree,Strongly Agree,Strongly Agree,Strongly Agree,Strongly Agree,Strongly Agree,Strongly Agree,Strongly Agree,Strongly Agree,Strongly Agree,Strongly Agree,Neutral,Neutral,Agree,Agree,Yes,,,,-,-,-,-,-,-,-,-,-,Yes,Yes,Yes,Yes,Yes,Female,41  45,Temporary Part-time,Teacher (including LVT),1-2,1-2
6.34849850334844E+017,Brisbane North Institute of TAFE,Non-Delivery (corporate),2012,Retrenchment/ Redundancy,,,,,,,,,,,,,,Neutral,Disagree,Disagree,Disagree,Neutral,Disagree,Neutral,Neutral,Neutral,Disagree,Neutral,Neutral,Neutral,Agree,Agree,Agree,Agree,Agree,Agree,Agree,Agree,Agree,Agree,Neutral,Neutral,Neutral,Agree,Neutral,Agree,Neutral,Yes,Yes,No,No,Face to Face,-,-,-,-,-,-,-,-,Yes,Yes,Yes,Yes,Yes,Male,56 or older,Permanent Full-time,Administration (AO),5-6,5-6
6.34852503880156E+017,Brisbane North Institute of TAFE,Delivery (teaching),2012,Retrenchment/ Redundancy,,,,,,,,,,,,,,Neutral,Neutral,Disagree,Disagree,Agree,Disagree,Disagree,Disagree,Disagree,Strongly Disagree,,,Strongly Disagree,Disagree,Strongly Agree,Agree,Disagree,Agree,Agree,Disagree,Disagree,Disagree,Disagree,Neutral,Disagree,Strongly Disagree,Strongly Agree,Agree,Agree,Disagree,Yes,No,Yes,No,-,-,-,-,On-line,-,-,-,-,Yes,Yes,Yes,No,No,Male,56 or older,Permanent Full-time,Teacher (including LVT),More than 20 years,More than 20 years
6.34852685801719E+017,Brisbane North Institute of TAFE,Non-Delivery (corporate),2012,Resignation,-,-,Career Move - Self-employment,-,-,-,-,-,-,-,-,-,,Disagree,Agree,Neutral,Agree,Strongly Agree,Agree,Strongly Agree,Strongly Agree,Strongly Agree,Disagree,Agree,Agree,Agree,Strongly Agree,Strongly Agree,Agree,Strongly Agree,Strongly Agree,Strongly Agree,Agree,Agree,Agree,Agree,Agree,Agree,Agree,Strongly Agree,Strongly Agree,Strongly Agree,Neutral,Yes,Yes,Yes,Yes,Face to Face,-,-,Face to Face,-,-,Face to Face,-,-,Yes,Yes,Yes,Yes,Yes,Male,21  25,Temporary Full-time,Administration (AO),1-2,1-2
6.34854303307656E+017,Central Queensland Institute of TAFE,Delivery (teaching),2012,Retirement,-,-,-,-,-,-,-,-,-,-,-,NONE,,Agree,Agree,Agree,Neutral,Disagree,Agree,Strongly Agree,Agree,Agree,Neutral,Agree,Agree,Not Applicable,Agree,Agree,Agree,Agree,Agree,Agree,Agree,Agree,Neutral,Agree,Agree,Agree,Strongly Agree,Strongly Agree,Not Applicable,Agree,Neutral,Yes,Yes,Yes,Yes,-,-,-,-,-,-,-,-,-,Yes,Yes,Yes,Yes,Yes,Male,56 or older,Contract/casual,Teacher (including LVT),More than 20 years,11-20
6.34854316269063E+017,Brisbane North Institute of TAFE,Non-Delivery (corporate),2012,Resignation,-,Career Move - Private Sector,-,-,-,-,-,-,-,-,Other,-,Career Move - Private Sector,Strongly Agree,Agree,,,Disagree,Strongly Agree,Agree,Neutral,Agree,Neutral,Disagree,Disagree,Agree,Strongly Agree,Strongly Agree,Strongly Agree,Strongly Agree,Agree,Neutral,Disagree,Disagree,Disagree,Agree,Strongly Agree,Strongly Agree,Strongly Agree,Strongly Agree,Strongly Agree,Strongly Agree,Strongly Agree,Yes,,Yes,,-,-,-,-,-,-,-,-,-,No,Yes,Yes,No,Yes,Male,46  50,Temporary Full-time,Operational (OO),Less than 1 year,Less than 1 year
6.348543995725E+017,Southern Queensland Institute of TAFE,Non-Delivery (corporate),2012,Resignation,-,-,-,-,-,-,-,-,-,-,Other,-,,,Agree,Agree,Agree,Neutral,Agree,Agree,Agree,Agree,Agree,Agree,Agree,Agree,Agree,Agree,Neutral,Agree,Disagree,Agree,Agree,Agree,Agree,Disagree,Neutral,Agree,Agree,Neutral,Agree,Agree,Agree,No,,,,,,,,,,,,,Yes,Yes,Yes,Yes,Yes,Female,56 or older,Permanent Part-time,Professional Officer (PO),5-6,3-4
6.34856190317969E+017,Southbank Institute of Technology,Non-Delivery (corporate),2012,Transfer,Career Move - Public Sector,-,-,-,-,-,-,-,-,-,-,-,,,,,,,,,,,,,,,,,,,,,,,,,,,,,,,,,,,,,,,,,,,,,,,,,,,,,,,
6.34858682290312E+017,Brisbane North Institute of TAFE,Non-Delivery (corporate),2012,Retirement,-,-,-,-,-,-,-,-,-,-,-,NONE,,Neutral,Disagree,Disagree,Disagree,Strongly Disagree,Strongly Disagree,Disagree,Disagree,Neutral,Disagree,Neutral,Neutral,Neutral,Neutral,Neutral,Agree,Agree,Agree,Neutral,Agree,Agree,Agree,Agree,Agree,Agree,Neutral,Neutral,Disagree,Agree,Neutral,Yes,,,,-,-,-,-,-,-,-,-,-,Yes,Yes,Yes,Yes,No,Female,56 or older,Permanent Part-time,Administration (AO),More than 20 years,More than 20 years
6.34860279552344E+017,Central Queensland Institute of TAFE,Non-Delivery (corporate),2012,Resignation,-,-,-,-,Maternity/Family,-,-,-,-,-,-,-,,Strongly Agree,Agree,Neutral,Neutral,Agree,Agree,Agree,Agree,Agree,Agree,Neutral,Neutral,Agree,Agree,Agree,Agree,Agree,Agree,Agree,Agree,Agree,Agree,Agree,Agree,Neutral,Neutral,Agree,Agree,Neutral,Neutral,Yes,Yes,Yes,Yes,Face to Face,-,-,Face to Face,-,-,Face to Face,-,-,Yes,Yes,Yes,Yes,Yes,Male,51-55,Permanent Full-time,Administration (AO),7-10,7-10
6.34860371426719E+017,Brisbane North Institute of TAFE,Non-Delivery (corporate),2010,Retrenchment/ Redundancy,,,,,,,,,,,,,,Agree,Strongly Agree,Strongly Agree,Strongly Agree,Strongly Agree,Strongly Agree,Strongly Agree,Strongly Agree,Strongly Agree,Neutral,Agree,Agree,Strongly Agree,Strongly Agree,Strongly Agree,Strongly Agree,Strongly Agree,Strongly Agree,Strongly Agree,Strongly Agree,Strongly Agree,Strongly Agree,Strongly Agree,Strongly Agree,Strongly Agree,Strongly Agree,Strongly Agree,Strongly Agree,Strongly Agree,Strongly Agree,Yes,,Yes,,-,-,-,-,-,-,-,-,-,Yes,Yes,Yes,Yes,Yes,Female,56 or older,Permanent Full-time,Professional Officer (PO),11-20,More than 20 years
6.34862107110312E+017,Brisbane North Institute of TAFE,Non-Delivery (corporate),2012,Retrenchment/ Redundancy,,,,,,,,,,,,,,Neutral,Agree,Agree,Disagree,Agree,Agree,Agree,Agree,Agree,Disagree,Agree,Agree,Agree,Agree,Agree,Agree,Strongly Agree,Strongly Agree,Strongly Agree,Agree,Agree,Strongly Agree,Neutral,Neutral,Agree,Agree,Agree,Strongly Agree,Strongly Agree,Strongly Agree,Yes,Yes,No,Yes,Face to Face,-,-,-,-,-,Face to Face,-,-,Yes,Yes,Yes,Yes,Yes,Female,41  45,Permanent Full-time,Administration (AO),5-6,3-4
6.34865520912813E+017,Southern Queensland Institute of TAFE,Non-Delivery (corporate),2012,Retrenchment/ Redundancy,,,,,,,,,,,,,,Neutral,Agree,Agree,Not Applicable,Strongly Disagree,Neutral,Neutral,Neutral,Disagree,Neutral,Neutral,Neutral,Agree,Neutral,Agree,Agree,Agree,Agree,Agree,Agree,Agree,Agree,Agree,Agree,Agree,Neutral,Disagree,Disagree,Agree,Agree,Yes,Yes,Yes,Yes,-,-,-,-,-,-,-,-,-,Yes,Yes,Yes,Yes,Yes,Female,56 or older,Permanent Part-time,Administration (AO),More than 20 years,More than 20 years
6.34865649878438E+017,Southern Queensland Institute of TAFE,Non-Delivery (corporate),2012,Retrenchment/ Redundancy,,,,,,,,,,,,,,,,,,,,,,,,,,,,,,,,,,,,,,,,,,,,,,,,,,,,,,,,,,,,,,,,,,,
6.34866378202813E+017,Southern Queensland Institute of TAFE,Delivery (teaching),2012,Retrenchment/ Redundancy,,,,,,,,,,,,,,Agree,Strongly Agree,Agree,Neutral,Strongly Disagree,Agree,Agree,Agree,Agree,Neutral,Neutral,Agree,Agree,Agree,Agree,Strongly Agree,Strongly Agree,Agree,Neutral,Agree,Agree,Agree,Strongly Agree,Disagree,Agree,Agree,,Neutral,Agree,Neutral,Yes,Yes,Yes,No,Face to Face,-,-,Face to Face,-,-,-,-,-,Yes,Yes,Yes,Yes,Yes,Male,56 or older,Permanent Full-time,Teacher (including LVT),More than 20 years,11-20
6.34866546778594E+017,Central Queensland Institute of TAFE,Delivery (teaching),2012,Resignation,-,-,-,Ill Health,-,-,-,-,-,-,-,-,,Agree,Strongly Agree,Strongly Agree,Agree,Agree,Strongly Agree,Agree,Agree,Agree,Neutral,Agree,Agree,Agree,Agree,Agree,Agree,Agree,Agree,Agree,Agree,Agree,Agree,Agree,Agree,Agree,Agree,Agree,Agree,Agree,Agree,Yes,,Yes,,-,-,-,Face to Face,-,-,-,-,-,Yes,Yes,Yes,Yes,Yes,Male,36  40,Permanent Full-time,Teacher (including LVT),7-10,7-10
6.34867257481719E+017,Brisbane North Institute of TAFE,Non-Delivery (corporate),2012,Resignation,-,-,-,-,-,-,-,-,-,-,-,NONE,,Disagree,Agree,Not Applicable,Not Applicable,Agree,Disagree,Neutral,Disagree,Disagree,Disagree,Not Applicable,Not Applicable,Not Applicable,Neutral,Agree,Agree,Agree,Agree,Agree,Neutral,Neutral,Neutral,Agree,Agree,Agree,Disagree,Agree,Agree,Agree,Disagree,Yes,No,Yes,No,-,-,-,Face to Face,-,-,-,-,-,Yes,Yes,Yes,Yes,No,Female,31  35,Temporary Full-time,Professional Officer (PO),Less than 1 year,Less than 1 year
6.34871701250312E+017,Southern Queensland Institute of TAFE,Delivery (teaching),2012,Contract Expired,,,,,,,,,,,,,,Neutral,Agree,Agree,Neutral,Neutral,Neutral,Agree,Agree,Agree,Agree,Agree,Agree,Agree,Agree,Agree,Agree,Agree,Agree,Strongly Agree,Agree,Agree,Agree,Agree,Agree,Agree,Agree,Strongly Agree,Neutral,Agree,Agree,Yes,Yes,Yes,Yes,Face to Face,-,-,Face to Face,-,-,Face to Face,-,-,Yes,Yes,Yes,Yes,Yes,Female,41  45,Contract/casual,Teacher (including LVT),Less than 1 year,Less than 1 year
6.34873325422656E+017,Southern Queensland Institute of TAFE,Non-Delivery (corporate),2012,Resignation,-,Career Move - Private Sector,-,-,-,-,-,-,-,-,-,-,,Strongly Disagree,Neutral,Agree,Strongly Disagree,Strongly Disagree,Disagree,Disagree,Disagree,Neutral,Disagree,Disagree,Disagree,Disagree,Disagree,Strongly Agree,Strongly Agree,Strongly Agree,Agree,Disagree,Agree,Agree,Agree,Agree,Agree,Agree,Agree,Agree,Agree,Agree,Neutral,Yes,,,,Face to Face,-,-,Face to Face,-,-,Face to Face,-,-,Yes,Yes,Yes,Yes,No,Female,36  40,Permanent Full-time,Administration (AO),7-10,7-10
6.34874537800469E+017,Southern Queensland Institute of TAFE,Non-Delivery (corporate),2012,Resignation,-,-,-,-,-,-,-,Interpersonal Conflict,-,-,Other,-,Other,Strongly Agree,Neutral,Agree,Neutral,Agree,Agree,Neutral,Strongly Agree,Strongly Agree,Agree,Agree,Agree,Disagree,Neutral,Disagree,Strongly Agree,Strongly Agree,Strongly Agree,Disagree,Strongly Agree,Strongly Agree,Strongly Agree,Strongly Agree,Disagree,Disagree,Agree,Agree,Disagree,Disagree,Disagree,Yes,Yes,Yes,No,Face to Face,-,-,Face to Face,-,-,-,-,-,No,Yes,Yes,Yes,Yes,Female,36  40,Temporary Full-time,Administration (AO),Less than 1 year,Less than 1 year
6.34878466942188E+017,Southern Queensland Institute of TAFE,Non-Delivery (corporate),2012,Resignation,-,-,-,-,-,-,-,-,-,-,-,NONE,,Agree,Agree,Agree,Agree,Agree,Agree,Agree,Agree,Agree,Agree,Agree,Agree,Agree,Agree,Agree,Agree,Agree,Agree,Agree,Agree,Agree,Agree,Agree,Agree,Agree,Agree,Agree,Agree,Agree,Agree,Yes,Yes,,,-,On-line,-,-,-,-,-,-,-,Yes,Yes,Yes,Yes,Yes,Female,26  30,Temporary Part-time,Administration (AO),1-2,1-2
6.34878467049844E+017,Southern Queensland Institute of TAFE,Non-Delivery (corporate),2012,Resignation,-,-,-,-,-,-,-,-,-,-,-,NONE,,,,,,,,,,,,,,,,,,,,,,,,,,,,,,,,,,,,,,,,,,,,,,,,,,,,,,,
6.34880266652344E+017,Central Queensland Institute of TAFE,Non-Delivery (corporate),2012,Resignation,-,-,-,-,-,-,-,-,-,-,Other,-,,Agree,Agree,Agree,Agree,Agree,Agree,Strongly Agree,Strongly Agree,Strongly Agree,Neutral,Agree,Agree,Agree,Strongly Agree,Strongly Agree,Strongly Agree,Strongly Agree,Strongly Agree,Strongly Agree,Strongly Agree,Strongly Agree,Strongly Agree,Strongly Agree,Strongly Agree,Strongly Agree,Strongly Agree,Strongly Agree,Agree,Strongly Agree,Agree,Yes,No,No,Yes,-,-,-,-,-,-,Face to Face,-,-,Yes,Yes,Yes,Yes,Yes,Female,31  35,Temporary Full-time,Administration (AO),Less than 1 year,Less than 1 year
6.34882843171406E+017,Tropical North Institute of TAFE,Non-Delivery (corporate),2012,Retrenchment/ Redundancy,,,,,,,,,,,,,,,,,,,,,,,,,,,,,,,,,,,,,,,,,,,,Yes,,,,,,,,,,,,,,,,,,,,,,,
6.34883154717187E+017,Southern Queensland Institute of TAFE,Delivery (teaching),2012,Termination,,,,,,,,,,,,,,Neutral,Agree,Strongly Agree,Agree,Agree,Strongly Agree,Strongly Agree,Strongly Agree,Agree,Strongly Agree,Agree,Agree,Agree,Agree,Strongly Agree,Strongly Agree,Strongly Agree,Strongly Agree,Strongly Agree,Strongly Agree,Strongly Agree,Strongly Agree,Agree,Strongly Agree,Neutral,Agree,Agree,Agree,Strongly Agree,Strongly Agree,No,,,,,,,,,,,,,No,No,Yes,Yes,No,Female,20 or younger,Contract/casual,Teacher (including LVT),7-10,7-10
6.34883666203906E+017,Tropical North Institute of TAFE,Non-Delivery (corporate),2012,Retrenchment/ Redundancy,,,,,,,,,,,,,,,Agree,Agree,Strongly Agree,Strongly Agree,Neutral,Neutral,Agree,Neutral,Neutral,Neutral,Neutral,Disagree,Agree,,Agree,Strongly Agree,Strongly Agree,Strongly Agree,Strongly Agree,Strongly Agree,Strongly Agree,Agree,Strongly Agree,Agree,Neutral,Neutral,Agree,Strongly Agree,Agree,Yes,Yes,Yes,Yes,Face to Face,-,-,Face to Face,-,-,Face to Face,-,-,Yes,Yes,Yes,Yes,Yes,Male,51-55,Permanent Full-time,Administration (AO),7-10,More than 20 years
6.3488371796875E+017,Tropical North Institute of TAFE,Non-Delivery (corporate),2012,Retrenchment/ Redundancy,,,,,,,,,,,,,,Neutral,Agree,Agree,Neutral,Agree,Neutral,Agree,Agree,Neutral,Neutral,Neutral,Neutral,Disagree,Neutral,Agree,Agree,Agree,Agree,Neutral,Agree,Agree,Agree,Agree,Agree,Agree,Agree,Agree,Agree,Agree,Agree,Yes,No,Yes,No,-,-,-,Face to Face,-,-,-,-,-,Yes,Yes,Yes,Yes,,Male,20 or younger,Permanent Part-time,Apprentice,11-20,11-20
6.34883750980156E+017,SkillsTech Australia,Delivery (teaching),2012,Retrenchment/ Redundancy,,,,,,,,,,,,,,Agree,Neutral,Disagree,Disagree,Neutral,Disagree,Neutral,Neutral,Neutral,Strongly Disagree,Neutral,Disagree,Neutral,Disagree,Agree,Neutral,Neutral,Neutral,Neutral,Disagree,Disagree,Disagree,Neutral,Neutral,Strongly Disagree,Disagree,Disagree,Neutral,Agree,Strongly Disagree,Yes,,Yes,,-,-,-,-,On-line,-,-,-,-,No,Yes,No,No,Yes,Male,41  45,Permanent Full-time,Teacher (including LVT),Less than 1 year,Less than 1 year
6.34884416485938E+017,Tropical North Institute of TAFE,Delivery (teaching),2012,Resignation,-,-,-,-,-,-,Job Dissatisfaction,-,-,-,-,-,,Strongly Disagree,Agree,Agree,Strongly Disagree,Neutral,Strongly Disagree,Neutral,Neutral,Agree,Strongly Disagree,Agree,Agree,Agree,Agree,Strongly Agree,Strongly Agree,Strongly Agree,Disagree,Strongly Disagree,Strongly Disagree,Strongly Disagree,Strongly Disagree,Strongly Disagree,Strongly Disagree,Strongly Agree,Strongly Disagree,Agree,Strongly Disagree,Strongly Agree,Agree,Yes,No,Yes,No,Face to Face,-,-,Face to Face,-,-,-,-,-,No,Yes,No,Yes,No,Female,46  50,Permanent Full-time,Teacher (including LVT),5-6,5-6
6.34885367273906E+017,Southern Queensland Institute of TAFE,Non-Delivery (corporate),2012,Retrenchment/ Redundancy,,,,,,,,,,,,,,Agree,Strongly Agree,,Not Applicable,Not Applicable,Strongly Agree,Strongly Agree,Strongly Agree,Strongly Agree,Agree,Agree,Agree,Agree,Strongly Agree,Strongly Agree,Strongly Agree,Strongly Agree,Strongly Agree,Strongly Agree,Strongly Agree,Strongly Agree,Strongly Agree,Strongly Agree,Agree,Agree,Strongly Agree,Agree,Neutral,Strongly Agree,Strongly Agree,Yes,No,No,Yes,-,-,-,-,-,-,-,-,-,Yes,Yes,Yes,Yes,Yes,Female,56 or older,Permanent Full-time,Operational (OO),11-20,11-20
6.3488615834625E+017,SkillsTech Australia,Delivery (teaching),2012,Resignation,-,-,-,-,-,Contributing Factors. Dissatisfaction ,Job Dissatisfaction,-,-,-,-,-,Dissatisfaction with %[Institute]Q25LBL%,Disagree,Disagree,Disagree,Neutral,Disagree,Strongly Disagree,Neutral,Disagree,Strongly Disagree,Strongly Disagree,Disagree,Disagree,Strongly Disagree,Strongly Disagree,Agree,Neutral,Disagree,Agree,Neutral,Neutral,Neutral,Disagree,Neutral,Agree,Agree,Disagree,Neutral,Not Applicable,Strongly Disagree,Strongly Disagree,Yes,Yes,Yes,,-,On-line,-,-,On-line,-,-,-,-,Yes,No,No,No,No,Male,31  35,Temporary Full-time,Teacher (including LVT),3-4,3-4
6.3488880224E+017,SkillsTech Australia,Non-Delivery (corporate),2012,Resignation,Career Move - Public Sector,-,-,-,-,-,Job Dissatisfaction,-,-,-,-,-,Career Move - Public Sector,Agree,Agree,Agree,Agree,Disagree,Agree,Agree,Neutral,Agree,Agree,Agree,Agree,Agree,Neutral,Agree,Neutral,Strongly Agree,Agree,Agree,Disagree,Disagree,Disagree,Agree,Neutral,Agree,Agree,Neutral,Neutral,Agree,Neutral,Yes,No,Yes,No,-,-,-,Face to Face,On-line,-,-,-,-,Yes,Yes,Yes,Yes,No,Female,56 or older,Temporary Full-time,Administration (AO),3-4,3-4
6.348897669125E+017,SkillsTech Australia,Delivery (teaching),2013,Transfer,-,Career Move - Private Sector,-,-,-,-,-,-,-,-,-,-,,Agree,Agree,Agree,Neutral,Agree,Agree,Agree,Agree,Agree,Agree,Agree,Agree,Neutral,Agree,Agree,Agree,Neutral,Agree,Strongly Agree,Agree,Agree,Agree,Agree,Agree,Agree,Strongly Agree,Neutral,Agree,Agree,Agree,Yes,No,Yes,Yes,-,-,-,Face to Face,-,-,Face to Face,-,-,Yes,Yes,Yes,Yes,Yes,Male,46  50,Permanent Full-time,Teacher (including LVT),11-20,7-10
6.34889851025469E+017,Tropical North Institute of TAFE,Delivery (teaching),2013,Resignation,-,-,Career Move - Self-employment,-,-,-,-,-,-,-,-,-,,Disagree,Agree,Neutral,Disagree,Neutral,Neutral,Agree,Agree,Agree,Disagree,Neutral,Disagree,Strongly Disagree,Neutral,Agree,Disagree,Neutral,Neutral,Neutral,Strongly Disagree,Disagree,Disagree,Neutral,Agree,Agree,Agree,Neutral,Neutral,Neutral,Disagree,No,,,,,,,,,,,,,No,No,Yes,No,No,Male,36  40,Permanent Full-time,Teacher (including LVT),7-10,7-10
6.34890472281094E+017,Southern Queensland Institute of TAFE,Delivery (teaching),2012,Resignation,-,Career Move - Private Sector,-,-,-,-,-,-,-,-,-,-,,Neutral,Agree,Agree,Agree,Neutral,Neutral,Agree,Agree,Neutral,Neutral,Neutral,Neutral,Agree,Agree,Agree,Strongly Agree,Strongly Agree,Strongly Agree,Strongly Agree,Strongly Agree,Strongly Agree,Strongly Agree,Agree,Strongly Agree,Agree,Neutral,Strongly Agree,Strongly Agree,Agree,Neutral,Yes,Yes,Yes,,Face to Face,On-line,-,Face to Face,On-line,-,-,-,-,Yes,Yes,Yes,Yes,Yes,Male,46  50,Permanent Full-time,Teacher (including LVT),7-10,7-10
6.3489055184875E+017,Southern Queensland Institute of TAFE,Delivery (teaching),2012,Resignation,-,Career Move - Private Sector,-,-,-,-,-,-,-,-,-,-,,Disagree,Strongly Agree,Strongly Agree,Agree,Agree,Agree,Agree,Neutral,Agree,Neutral,Agree,Agree,Agree,Strongly Agree,Strongly Agree,Strongly Agree,Strongly Agree,Strongly Agree,Strongly Agree,Strongly Agree,Strongly Agree,Strongly Agree,Strongly Agree,Strongly Agree,Strongly Agree,Agree,Strongly Agree,Neutral,Strongly Agree,Agree,Yes,Yes,Yes,Yes,-,On-line,Induction Manual,-,On-line,Induction Manual,Face to Face,-,-,Yes,Yes,Yes,Yes,Yes,Male,41  45,Temporary Full-time,Teacher (including LVT),1-2,1-2
6.34891433962031E+017,Sunshine Coast Institute of TAFE,Non-Delivery (corporate),2012,Contract Expired,,,,,,,,,,,,,,Neutral,Agree,Disagree,Agree,Disagree,Agree,Strongly Agree,Agree,Agree,Disagree,Neutral,Neutral,Neutral,Disagree,Agree,Strongly Disagree,Agree,Strongly Disagree,Agree,Strongly Disagree,Strongly Disagree,Strongly Disagree,Strongly Disagree,Agree,Strongly Agree,Agree,Strongly Disagree,Disagree,Agree,Neutral,Yes,No,Yes,No,-,-,-,Face to Face,-,-,-,-,-,No,Yes,Yes,Yes,Yes,Female,36  40,Contract/casual,Administration (AO),Less than 1 year,Less than 1 year
6.34892336760312E+017,Central Queensland Institute of TAFE,Non-Delivery (corporate),2012,Resignation,-,Career Move - Private Sector,-,-,-,Contributing Factors. Dissatisfaction ,Job Dissatisfaction,-,-,-,-,-,Job Dissatisfaction,Disagree,Neutral,Strongly Disagree,Strongly Disagree,Disagree,,Neutral,Neutral,Disagree,Strongly Disagree,Neutral,Neutral,Disagree,Neutral,Strongly Agree,Strongly Disagree,Strongly Disagree,Disagree,Neutral,Strongly Disagree,Strongly Disagree,Strongly Disagree,Strongly Disagree,Strongly Agree,Strongly Agree,Agree,Strongly Agree,Disagree,Strongly Agree,Strongly Agree,Yes,No,Yes,No,-,-,-,-,On-line,-,-,-,-,No,Yes,No,Yes,No,Female,21  25,Temporary Full-time,Administration (AO),3-4,1-2
6.34892361974219E+017,Tropical North Institute of TAFE,Non-Delivery (corporate),2012,Resignation,-,-,-,-,-,-,-,-,-,-,Other,-,,Agree,Agree,Agree,Agree,Strongly Agree,Agree,Strongly Agree,Strongly Agree,Agree,Agree,Agree,Agree,Agree,Strongly Agree,Strongly Agree,Strongly Agree,Strongly Agree,Strongly Agree,Strongly Agree,Agree,Agree,Agree,Agree,Agree,Strongly Agree,Strongly Agree,Disagree,Disagree,,Agree,No,,,,,,,,,,,,,Yes,Yes,Yes,Yes,Yes,Female,31  35,Temporary Part-time,Administration (AO),1-2,1-2
6.34892367870937E+017,Sunshine Coast Institute of TAFE,Non-Delivery (corporate),2012,Retrenchment/ Redundancy,,,,,,,,,,,,,,Strongly Agree,Agree,Agree,Not Applicable,Agree,Neutral,Agree,Agree,Agree,,,,,Agree,,Agree,Strongly Agree,Strongly Agree,Strongly Agree,Strongly Agree,Strongly Agree,Strongly Agree,Strongly Agree,Strongly Agree,Agree,Strongly Agree,Agree,,,,No,,,,,,,,,,,,,No,Yes,Yes,Yes,,Female,56 or older,Permanent Part-time,Administration (AO),More than 20 years,1-2
6.34896725094062E+017,Sunshine Coast Institute of TAFE,Non-Delivery (corporate),2012,Retrenchment/ Redundancy,,,,,,,,,,,,,,Disagree,Disagree,Disagree,Neutral,Neutral,Neutral,Disagree,Disagree,Disagree,Disagree,Disagree,Disagree,Disagree,Disagree,Strongly Agree,Disagree,Disagree,Agree,Agree,Agree,Disagree,Disagree,Disagree,Disagree,Disagree,Disagree,Disagree,Disagree,Agree,Disagree,Yes,,Yes,,-,-,-,Face to Face,-,-,-,-,-,No,No,No,No,No,Female,51-55,Permanent Full-time,Administration (AO),11-20,11-20
6.34896807785938E+017,Sunshine Coast Institute of TAFE,Non-Delivery (corporate),2012,Retrenchment/ Redundancy,,,,,,,,,,,,,,Neutral,Agree,Agree,Agree,Agree,Neutral,Agree,Agree,Agree,Disagree,Agree,Agree,Neutral,Agree,Agree,Agree,Agree,Agree,Agree,Agree,Agree,Agree,Agree,Agree,Agree,Agree,Agree,Neutral,Agree,Agree,Yes,No,Yes,No,-,-,-,-,-,Induction Manual,-,-,-,Yes,Yes,Yes,Yes,Yes,Male,51-55,Permanent Part-time,Technical Officer (TO),11-20,11-20
6.3489743046875E+017,Sunshine Coast Institute of TAFE,Non-Delivery (corporate),2012,Retrenchment/ Redundancy,,,,,,,,,,,,,,Neutral,Neutral,Disagree,Neutral,Agree,Disagree,Disagree,Disagree,Strongly Disagree,Strongly Disagree,Neutral,Neutral,Neutral,Agree,Agree,Agree,Agree,Agree,Neutral,Disagree,Disagree,Disagree,Neutral,Agree,Agree,Agree,Disagree,Agree,Strongly Agree,Strongly Agree,No,,,,,,,,,,,,,No,Yes,Yes,No,No,Female,56 or older,Permanent Full-time,Administration (AO),More than 20 years,Less than 1 year
6.34897699783281E+017,Tropical North Institute of TAFE,Delivery (teaching),2012,Contract Expired,,,,,,,,,,,,,,Neutral,Strongly Disagree,Strongly Disagree,Strongly Disagree,Strongly Disagree,Strongly Disagree,Strongly Disagree,Strongly Disagree,Strongly Disagree,Strongly Disagree,Strongly Disagree,Strongly Disagree,Strongly Disagree,Strongly Disagree,Strongly Disagree,Agree,Strongly Disagree,Neutral,Neutral,Strongly Disagree,Strongly Disagree,Strongly Disagree,Agree,Agree,Strongly Disagree,Strongly Disagree,Strongly Agree,Neutral,Strongly Disagree,Strongly Disagree,Yes,No,Yes,No,-,-,-,Face to Face,-,-,-,-,-,No,No,No,No,No,Male,56 or older,Temporary Full-time,Operational (OO),1-2,1-2
6.34902770430459E+017,Southern Queensland Institute of TAFE,Delivery (teaching),2013,Resignation,-,Career Move - Private Sector,-,-,-,-,-,-,-,-,-,-,,Agree,Strongly Agree,Strongly Agree,Agree,Agree,Agree,Neutral,Agree,Agree,Agree,Neutral,Neutral,Neutral,Agree,Strongly Agree,Strongly Agree,Strongly Agree,Strongly Agree,Agree,Agree,Agree,Agree,Agree,Agree,Agree,Agree,Agree,Agree,Agree,Agree,Yes,Yes,,,-,-,Induction Manual,-,On-line,-,Face to Face,-,-,Yes,Yes,Yes,Yes,Yes,Male,41  45,Temporary Full-time,Teacher (including LVT),1-2,1-2
6.34903651349219E+017,Tropical North Institute of TAFE,Delivery (teaching),2012,Resignation,-,-,-,-,-,-,-,-,-,-,Other,-,,Agree,Agree,Agree,Agree,Agree,Agree,Agree,Agree,Agree,Agree,Agree,Agree,Agree,Agree,Agree,Agree,Agree,Agree,Agree,Agree,Agree,Agree,Agree,Agree,Neutral,Agree,Agree,Agree,Agree,Neutral,Yes,,Yes,Yes,-,-,-,Face to Face,On-line,Induction Manual,Face to Face,-,-,Yes,Yes,Yes,Yes,Yes,Male,51-55,Permanent Part-time,Teacher (including LVT),3-4,3-4
6.34904350033281E+017,Central Queensland Institute of TAFE,Delivery (teaching),2012,Contract Expired,,,,,,,,,,,,,,,,,,,,,,,,,,,,,,,,,,,,,,,,,,,,,,,,,,,,,,,,,,,,,,,,,,,
6.34907090363594E+017,Southern Queensland Institute of TAFE,Non-Delivery (corporate),2012,Contract Expired,,,,,,,,,,,,,,Disagree,Disagree,Disagree,Disagree,Strongly Agree,Disagree,Neutral,Agree,Agree,Strongly Disagree,Neutral,Neutral,Neutral,Neutral,Agree,Neutral,Agree,Agree,Agree,Neutral,Disagree,Agree,Neutral,Strongly Agree,Strongly Agree,Neutral,Strongly Agree,Strongly Disagree,Neutral,Neutral,Yes,Yes,Yes,Yes,-,On-line,-,-,-,Induction Manual,-,-,Induction Manual,No,Yes,Yes,No,Yes,Female,36  40,Contract/casual,Administration (AO),Less than 1 year,Less than 1 year
6.34907124987812E+017,Southern Queensland Institute of TAFE,Delivery (teaching),2012,Resignation,-,Career Move - Private Sector,-,-,-,-,Job Dissatisfaction,-,-,-,-,-,Career Move - Private Sector,Neutral,Agree,Neutral,Neutral,Agree,Neutral,Neutral,Disagree,Strongly Disagree,Strongly Disagree,Disagree,Disagree,Disagree,Disagree,Agree,Disagree,Disagree,Agree,Agree,Neutral,Neutral,Agree,Neutral,Neutral,Disagree,Neutral,Disagree,Neutral,Agree,Strongly Disagree,Yes,Yes,Yes,Yes,Face to Face,-,-,Face to Face,-,-,Face to Face,-,-,No,Yes,Yes,No,No,Female,51-55,Permanent Full-time,Teacher (including LVT),7-10,7-10
6.34907791983427E+017,Southern Queensland Institute of TAFE,Non-Delivery (corporate),2012,Retrenchment/ Redundancy,,,,,,,,,,,,,,Disagree,Neutral,Neutral,Disagree,Disagree,Disagree,Agree,Neutral,Strongly Disagree,Disagree,Neutral,Neutral,Neutral,Agree,Agree,Strongly Agree,Agree,Agree,Neutral,Disagree,Disagree,Neutral,Agree,Neutral,Agree,Neutral,Strongly Agree,Agree,Agree,Agree,Yes,Yes,Yes,No,-,-,-,-,-,-,-,-,-,Yes,Yes,Yes,Yes,Yes,Male,56 or older,Permanent Full-time,Administration (AO),11-20,11-20
6.34907915528428E+017,Southern Queensland Institute of TAFE,Delivery (teaching),2013,Retirement,-,-,-,-,-,-,-,-,-,-,-,NONE,,Neutral,Agree,Neutral,Agree,Agree,Neutral,Agree,Agree,Agree,Disagree,Neutral,Neutral,Neutral,Agree,Agree,Agree,Agree,Agree,Agree,Agree,Agree,Agree,Agree,Neutral,Disagree,Neutral,Agree,Agree,Agree,Neutral,No,,,,,,,,,,,,,Yes,Yes,Yes,Yes,Yes,Female,56 or older,Permanent Full-time,Teacher (including LVT),More than 20 years,More than 20 years
6.34907979681875E+017,Southern Queensland Institute of TAFE,Non-Delivery (corporate),2012,Retrenchment/ Redundancy,,,,,,,,,,,,,,Agree,Agree,Agree,Strongly Agree,Strongly Agree,Agree,Agree,Agree,Agree,Agree,Agree,Agree,Agree,Strongly Agree,Strongly Agree,Strongly Agree,Strongly Agree,Strongly Agree,Strongly Agree,Strongly Agree,Strongly Agree,Strongly Agree,Strongly Agree,Strongly Agree,Agree,Strongly Agree,Strongly Agree,Strongly Agree,Strongly Agree,Agree,Yes,Yes,Yes,Yes,-,-,-,-,-,-,-,-,-,Yes,Yes,Yes,Yes,Yes,Female,46  50,Permanent Full-time,Administration (AO),11-20,11-20
6.34908638162969E+017,Southern Queensland Institute of TAFE,Non-Delivery (corporate),2012,Resignation,-,Career Move - Private Sector,-,-,-,Contributing Factors. Dissatisfaction ,-,Interpersonal Conflict,-,-,-,-,Career Move - Private Sector,Disagree,Agree,Agree,Agree,Agree,Strongly Disagree,Agree,Agree,Neutral,Strongly Disagree,Disagree,Disagree,Strongly Disagree,Agree,Agree,Agree,Agree,Agree,Agree,Disagree,Disagree,Agree,Disagree,Disagree,Strongly Agree,Disagree,Agree,Disagree,Agree,Strongly Disagree,No,,,,,,,,,,,,,Yes,No,Yes,Yes,Yes,Female,21  25,Contract/casual,Administration (AO),3-4,1-2
6.34908664012656E+017,Brisbane North Institute of TAFE,Non-Delivery (corporate),2013,Retirement,-,-,-,-,-,-,Job Dissatisfaction,-,-,-,-,-,,Strongly Disagree,Disagree,Disagree,Disagree,Strongly Disagree,Disagree,Disagree,Disagree,Disagree,Disagree,Neutral,Neutral,Neutral,Strongly Disagree,Agree,Agree,Agree,Agree,Strongly Agree,Agree,Agree,Agree,Agree,Neutral,Agree,Strongly Agree,Agree,Agree,Agree,Agree,Yes,No,Yes,No,-,-,-,Face to Face,-,-,-,-,-,Yes,Yes,Yes,Yes,No,Female,56 or older,Permanent Part-time,Administration (AO),More than 20 years,More than 20 years
6.34908792602334E+017,Brisbane North Institute of TAFE,Non-Delivery (corporate),2013,Transfer,-,-,-,-,-,-,-,-,-,-,Other,-,,Agree,Neutral,Neutral,Disagree,Neutral,Agree,Agree,Agree,Agree,Neutral,Agree,Agree,Agree,Agree,Agree,Agree,Agree,Agree,Agree,Agree,Agree,Agree,Agree,Agree,Agree,Agree,Agree,Agree,Agree,Neutral,Yes,Yes,Yes,Yes,Face to Face,-,-,Face to Face,-,-,Face to Face,-,-,Yes,Yes,Yes,Yes,Yes,Female,36  40,Permanent Part-time,Administration (AO),7-10,3-4
6.34908806102646E+017,Southern Queensland Institute of TAFE,Non-Delivery (corporate),2013,Retirement,-,-,-,-,-,-,-,-,-,-,-,NONE,,Agree,Agree,Neutral,Neutral,Agree,Neutral,Agree,Agree,Agree,Agree,Agree,Agree,Agree,Strongly Agree,Strongly Agree,Agree,Strongly Agree,Agree,Strongly Agree,Agree,Agree,Agree,Agree,Agree,Agree,Agree,Disagree,Agree,Strongly Agree,Strongly Agree,Yes,Yes,Yes,Yes,Face to Face,-,-,Face to Face,-,-,Face to Face,-,-,Yes,Yes,Yes,Yes,Yes,Male,56 or older,Permanent Part-time,Professional Officer (PO),11-20,11-20
6.34908831659365E+017,Brisbane North Institute of TAFE,Delivery (teaching),2012,Resignation,-,-,Career Move - Self-employment,-,-,-,-,-,-,-,-,-,,Agree,Disagree,Neutral,Neutral,Agree,Neutral,Agree,Agree,Agree,Disagree,Disagree,Disagree,Agree,Disagree,Agree,Agree,Neutral,Agree,Disagree,Disagree,Disagree,Disagree,Disagree,Agree,Agree,Agree,Neutral,Neutral,Disagree,Disagree,Yes,Yes,Yes,Yes,Face to Face,-,-,Face to Face,-,-,Face to Face,-,-,Yes,Yes,Yes,Yes,Yes,Female,46  50,Temporary Part-time,Workplace Training Officer,1-2,1-2
6.3490952044375E+017,Southern Queensland Institute of TAFE,Delivery (teaching),2012,Retrenchment/ Redundancy,,,,,,,,,,,,,,Agree,Neutral,Disagree,Neutral,Disagree,Agree,Agree,Strongly Disagree,Strongly Disagree,,Disagree,Disagree,Agree,Neutral,Agree,Agree,Agree,Agree,Agree,Neutral,Neutral,Neutral,Agree,Strongly Disagree,Strongly Disagree,Strongly Agree,Strongly Agree,Disagree,Agree,Strongly Disagree,No,,,,,,,,,,,,,No,Yes,Yes,Yes,Yes,Female,56 or older,Permanent Full-time,Teacher (including LVT),11-20,11-20
6.34909553840625E+017,Southern Queensland Institute of TAFE,Non-Delivery (corporate),2013,Retrenchment/ Redundancy,,,,,,,,,,,,,,,,,,,,,,,,,,,,,,,,,,,,,,,,,,,,,,,,,,,,,,,,,,,,,,,,,,,
6.34910338362021E+017,Central Queensland Institute of TAFE,Delivery (teaching),2012,Retrenchment/ Redundancy,,,,,,,,,,,,,,Agree,Strongly Agree,Strongly Agree,Strongly Agree,Agree,Neutral,Strongly Agree,Agree,Agree,Neutral,Agree,Agree,Agree,Agree,Strongly Agree,Strongly Agree,Strongly Agree,Strongly Agree,Agree,Strongly Agree,Strongly Agree,Strongly Agree,Agree,Neutral,Neutral,Agree,Agree,Strongly Agree,Strongly Agree,Neutral,Yes,No,No,Yes,-,-,-,-,-,-,Face to Face,-,-,Yes,Yes,Yes,Yes,Yes,Female,56 or older,Permanent Part-time,Teacher (including LVT),11-20,11-20
6.34910521751084E+017,Southern Queensland Institute of TAFE,Non-Delivery (corporate),2012,Retrenchment/ Redundancy,,,,,,,,,,,,,,Agree,Strongly Agree,Strongly Agree,Agree,Agree,Neutral,Agree,Agree,Agree,Neutral,Agree,Agree,Neutral,Agree,Strongly Agree,Strongly Agree,Agree,Strongly Agree,Strongly Agree,Agree,Agree,Agree,Agree,Strongly Agree,Agree,Neutral,Agree,Agree,Agree,Agree,Yes,Yes,Yes,Yes,-,-,-,-,-,-,-,-,-,Yes,Yes,Yes,Yes,Yes,Male,31  35,Temporary Full-time,Operational (OO),3-4,3-4
6.34912966024531E+017,Central Queensland Institute of TAFE,Delivery (teaching),2012,Retrenchment/ Redundancy,,,,,,,,,,,,,,,,,,,,,,,,,,,,,,,,,,,,,,,,,,,,,,,,,,,,,,,,,,,,,,,,,,,
6.34914735879219E+017,Tropical North Institute of TAFE,Non-Delivery (corporate),2012,Retrenchment/ Redundancy,,,,,,,,,,,,,,Neutral,Agree,Neutral,Disagree,Agree,Agree,Agree,Neutral,Agree,Neutral,Neutral,Neutral,Neutral,Neutral,Agree,Disagree,Disagree,Agree,Neutral,Strongly Disagree,Strongly Disagree,Strongly Disagree,Disagree,Agree,Neutral,Neutral,Neutral,Agree,Agree,Agree,Yes,Yes,Yes,Yes,Face to Face,-,-,Face to Face,-,-,Face to Face,-,-,Yes,Yes,No,Yes,Yes,Female,56 or older,Permanent Full-time,Administration (AO),11-20,11-20
6.34915560890625E+017,Central Queensland Institute of TAFE,Non-Delivery (corporate),2013,Resignation,Career Move - Public Sector,-,-,-,-,-,-,-,-,-,-,-,,Agree,Agree,Agree,Neutral,Agree,Agree,Strongly Agree,Strongly Agree,Strongly Agree,Disagree,Not Applicable,Not Applicable,Not Applicable,Strongly Agree,Strongly Agree,Agree,Strongly Agree,Strongly Agree,Strongly Agree,Agree,Agree,Agree,Agree,Strongly Agree,Strongly Agree,Strongly Agree,Agree,Agree,Agree,Agree,Yes,Yes,Yes,Yes,Face to Face,-,-,Face to Face,-,-,Face to Face,-,-,No,Yes,Yes,Yes,Yes,,,,,,
6.34932864696524E+017,Southern Queensland Institute of TAFE,Delivery (teaching),2012,Resignation,-,Career Move - Private Sector,Career Move - Self-employment,-,-,-,-,-,-,-,-,-,Career Move - Self-employment,Strongly Agree,Strongly Agree,Agree,Strongly Agree,Agree,Agree,Agree,Agree,Agree,Agree,Agree,Agree,Agree,Agree,Agree,Strongly Agree,Agree,Strongly Agree,Agree,Agree,Neutral,Strongly Agree,Agree,Strongly Agree,Strongly Agree,Neutral,Strongly Agree,Agree,Agree,Agree,Yes,Yes,Yes,Yes,Face to Face,-,-,Face to Face,-,-,Face to Face,-,-,No,Yes,Yes,Yes,Yes,Male,36  40,Permanent Full-time,Teacher (including LVT),5-6,3-4
6.34933010519531E+017,Southern Queensland Institute of TAFE,Non-Delivery (corporate),2013,Resignation,-,-,-,-,-,-,-,-,-,-,Other,-,,Disagree,Disagree,Neutral,Neutral,Neutral,Disagree,Neutral,Disagree,Strongly Disagree,Disagree,Disagree,Disagree,Disagree,Disagree,Agree,Neutral,Disagree,Agree,Disagree,Disagree,Disagree,Disagree,Agree,Agree,Agree,Disagree,Agree,Disagree,Agree,Neutral,Yes,No,Yes,Yes,-,-,-,Face to Face,-,-,Face to Face,-,-,No,Yes,Yes,No,No,Female,46  50,Permanent Full-time,Administration (AO),7-10,7-10
6.34937260824531E+017,Central Queensland Institute of TAFE,Delivery (teaching),2012,Contract Expired,,,,,,,,,,,,,,Disagree,Strongly Disagree,Strongly Disagree,Strongly Disagree,Agree,Strongly Disagree,Strongly Disagree,Strongly Disagree,Strongly Disagree,Strongly Disagree,Strongly Disagree,Strongly Disagree,Strongly Disagree,Strongly Disagree,Agree,Agree,Strongly Disagree,Disagree,Strongly Disagree,Agree,Strongly Disagree,Agree,Agree,Disagree,Disagree,Strongly Disagree,Agree,Strongly Disagree,Strongly Disagree,Strongly Disagree,No,,,,,,,,,,,,,No,Yes,No,,No,Female,51-55,Permanent Part-time,Teacher (including LVT),Less than 1 year,Less than 1 year
6.34937512037812E+017,Southern Queensland Institute of TAFE,Delivery (teaching),2013,Resignation,Career Move - Public Sector,-,-,-,-,Contributing Factors. Dissatisfaction ,-,-,-,-,-,-,Dissatisfaction with %[Institute]Q25LBL%,Strongly Disagree,Strongly Agree,Strongly Agree,Disagree,Disagree,Neutral,Agree,Agree,Agree,Strongly Disagree,Neutral,Neutral,Neutral,Neutral,Agree,Agree,Agree,Agree,Strongly Disagree,Disagree,Strongly Disagree,Agree,Agree,Neutral,Agree,Agree,Strongly Disagree,Disagree,Agree,Disagree,Yes,Yes,Yes,Yes,Face to Face,-,Induction Manual,Face to Face,-,Induction Manual,Face to Face,-,-,Yes,Yes,Yes,Yes,No,,,,,,
6.34938047980781E+017,Southern Queensland Institute of TAFE,Non-Delivery (corporate),2013,Resignation,-,-,-,Ill Health,-,-,-,-,-,-,Other,-,Ill Health,Agree,Agree,Agree,Agree,Strongly Disagree,Agree,Agree,Agree,Agree,Agree,Agree,Agree,Agree,Agree,Agree,Agree,Agree,Agree,Agree,Agree,Agree,Agree,Agree,Neutral,Agree,Agree,Agree,Neutral,Agree,Agree,Yes,Yes,Yes,Yes,Face to Face,-,-,Face to Face,-,-,Face to Face,-,-,Yes,Yes,Yes,Yes,Yes,Female,41  45,Contract/casual,Administration (AO),3-4,3-4
6.34938094787656E+017,Southern Queensland Institute of TAFE,Delivery (teaching),2012,Resignation,-,-,-,-,-,Contributing Factors. Dissatisfaction ,-,-,-,-,-,-,,Strongly Disagree,Agree,Agree,Neutral,Neutral,Strongly Disagree,Disagree,Disagree,Disagree,Strongly Disagree,Disagree,Disagree,Disagree,Disagree,Agree,Agree,Agree,Agree,Agree,Agree,Agree,Agree,Agree,Neutral,Neutral,Strongly Disagree,Neutral,Disagree,Agree,Disagree,Yes,No,Yes,No,-,-,-,-,-,-,-,-,-,Yes,Yes,Yes,Yes,No,Male,41  45,Permanent Full-time,Teacher (including LVT),5-6,5-6
6.34938351431992E+017,Tropical North Institute of TAFE,Delivery (teaching),2013,Resignation,-,Career Move - Private Sector,-,-,-,-,-,-,-,-,Other,-,Other,,,,,,,,,,,,,,,,,,,,,,,,,,,,,,,,,,,,,,,,,,,,,,,,,,,,,,
6.34939029600274E+017,Brisbane North Institute of TAFE,Non-Delivery (corporate),2013,Retrenchment/ Redundancy,,,,,,,,,,,,,,,,,,,,,,,,,,,,,,,,,,,,,,,,,,,,,,,,,,,,,,,,,,,,,,,,,,,
6.34940601409024E+017,Southern Queensland Institute of TAFE,Delivery (teaching),2013,Resignation,-,Career Move - Private Sector,-,-,-,-,-,-,-,-,-,-,,Agree,Agree,Neutral,Disagree,Agree,Agree,Strongly Agree,Agree,Agree,Disagree,Agree,Agree,Agree,Agree,Strongly Agree,Agree,Neutral,Agree,Agree,Agree,,Agree,Agree,Agree,Agree,Agree,Agree,Not Applicable,Strongly Agree,Strongly Agree,Yes,,Yes,No,-,-,-,Face to Face,On-line,-,-,-,-,Yes,Yes,Yes,No,No,Female,56 or older,Permanent Full-time,Teacher (including LVT),5-6,5-6
6.34940705807812E+017,Brisbane North Institute of TAFE,Non-Delivery (corporate),2013,Retrenchment/ Redundancy,,,,,,,,,,,,,,Disagree,Neutral,Neutral,Disagree,Agree,Neutral,Disagree,Agree,Neutral,Strongly Disagree,Disagree,Disagree,Neutral,Agree,Strongly Agree,Agree,Agree,Agree,Agree,Neutral,Agree,Neutral,Agree,Agree,Agree,Agree,Agree,Disagree,Agree,Agree,Yes,,Yes,,-,-,-,-,-,-,-,-,-,Yes,Yes,Yes,Yes,No,,,,,,
6.34940842995156E+017,Tropical North Institute of TAFE,Non-Delivery (corporate),2013,Retrenchment/ Redundancy,,,,,,,,,,,,,,Strongly Agree,Strongly Agree,Strongly Agree,Agree,Agree,Strongly Agree,Strongly Agree,Strongly Agree,Strongly Agree,Strongly Agree,Strongly Agree,Strongly Agree,Strongly Agree,Strongly Agree,Strongly Agree,Strongly Agree,Strongly Agree,Strongly Agree,Strongly Agree,Strongly Agree,Strongly Agree,Strongly Agree,Strongly Agree,Strongly Agree,Strongly Agree,Strongly Agree,Strongly Agree,Strongly Agree,Strongly Agree,Strongly Agree,Yes,Yes,Yes,Yes,-,On-line,-,Face to Face,-,-,Face to Face,-,-,Yes,Yes,Yes,Yes,Yes,Female,56 or older,Permanent Full-time,Administration (AO),11-20,11-20
6.34944345534531E+017,Southern Queensland Institute of TAFE,Delivery (teaching),2013,Retrenchment/ Redundancy,,,,,,,,,,,,,,Neutral,Agree,Agree,Disagree,Disagree,Agree,Agree,Agree,Agree,Agree,Agree,Agree,Agree,Agree,Agree,Agree,Agree,Agree,Agree,Agree,Agree,Agree,Agree,Agree,Agree,Agree,Agree,Agree,Agree,Agree,Yes,,Yes,,-,-,-,Face to Face,-,-,-,-,-,,,,,,Male,56 or older,Permanent Part-time,Teacher (including LVT),7-10,7-10
6.34945048175625E+017,Brisbane North Institute of TAFE,Delivery (teaching),2013,Resignation,-,-,-,-,Maternity/Family,-,-,-,-,-,Other,-,Maternity/Family,Agree,Agree,Agree,Disagree,Agree,Agree,Agree,Agree,Agree,Agree,Agree,Agree,Agree,Strongly Agree,Strongly Agree,Agree,Strongly Agree,Agree,Strongly Agree,Strongly Agree,Strongly Agree,Strongly Agree,Agree,Agree,Disagree,Agree,Disagree,Agree,Agree,Agree,Yes,,,,Face to Face,-,-,Face to Face,-,-,Face to Face,-,-,No,Yes,Yes,Yes,Yes,Female,41  45,Permanent Part-time,Teacher (including LVT),3-4,3-4
6.34945136067187E+017,Brisbane North Institute of TAFE,Delivery (teaching),2013,Resignation,Career Move - Public Sector,-,-,-,-,-,-,-,-,-,Other,-,Other,Agree,Strongly Agree,Strongly Agree,Neutral,Strongly Disagree,Agree,Agree,Agree,Agree,Agree,Agree,Agree,Agree,Agree,Strongly Agree,Strongly Agree,Strongly Agree,Strongly Agree,Strongly Agree,Strongly Agree,Strongly Agree,Strongly Agree,Strongly Agree,Neutral,Disagree,Agree,Agree,Agree,Strongly Agree,Agree,Yes,No,Yes,No,-,-,-,Face to Face,-,-,-,-,-,Yes,Yes,Yes,Yes,Yes,Female,36  40,Temporary Full-time,Teacher (including LVT),5-6,5-6
6.34951129892031E+017,Central Queensland Institute of TAFE,Delivery (teaching),2013,Resignation,-,-,-,-,-,-,-,-,-,-,-,NONE,,Neutral,Neutral,Neutral,Neutral,Neutral,Neutral,Neutral,Neutral,Neutral,Neutral,Neutral,Neutral,Neutral,Neutral,Neutral,Neutral,Neutral,Neutral,Neutral,Neutral,Neutral,Neutral,Neutral,Neutral,Neutral,Neutral,Neutral,Neutral,Neutral,Neutral,Yes,Yes,Yes,Yes,-,On-line,-,-,On-line,-,Face to Face,-,-,Yes,Yes,Yes,Yes,Yes,Male,31  35,Permanent Full-time,Teacher (including LVT),3-4,1-2
6.34951997495625E+017,Brisbane North Institute of TAFE,Delivery (teaching),2013,Resignation,-,Career Move - Private Sector,-,-,-,-,-,-,-,-,-,-,,Agree,Agree,Agree,Agree,Agree,Agree,Agree,Agree,Agree,Agree,Agree,Agree,Agree,Agree,Agree,Agree,Agree,Agree,Agree,Agree,Agree,Agree,Agree,Agree,Agree,Agree,Agree,Agree,Agree,Agree,Yes,No,Yes,No,-,-,-,-,-,-,-,-,-,No,Yes,Yes,Yes,Yes,Female,46  50,Temporary Full-time,Teacher (including LVT),5-6,5-6
6.34957134796993E+017,Brisbane North Institute of TAFE,Non-Delivery (corporate),2013,Transfer,Career Move - Public Sector,-,-,-,-,-,-,-,-,-,-,-,,,,,,,,,,,,,,,,,,,,,,,,,,,,,,,,,,,,,,,,,,,,,,,,,,,,,,,
6.34958140455899E+017,Tropical North Institute of TAFE,Non-Delivery (corporate),2013,Resignation,-,Career Move - Private Sector,-,-,-,-,-,-,-,-,-,-,,Disagree,Strongly Agree,Agree,Strongly Disagree,Strongly Disagree,Disagree,Neutral,Disagree,Disagree,Strongly Disagree,Disagree,Disagree,Disagree,Neutral,Strongly Agree,Strongly Agree,Strongly Agree,Strongly Agree,Neutral,Disagree,Disagree,Disagree,Strongly Agree,Strongly Agree,Neutral,Disagree,Strongly Agree,Strongly Disagree,Disagree,Neutral,Yes,No,Yes,No,-,-,-,-,On-line,-,-,-,-,Yes,Yes,Yes,No,Yes,Male,46  50,Temporary Full-time,Administration (AO),3-4,3-4
6.34964112426563E+017,Brisbane North Institute of TAFE,Non-Delivery (corporate),2013,Resignation,-,Career Move - Private Sector,-,-,-,-,-,-,-,-,-,-,,Strongly Agree,Strongly Agree,Strongly Agree,Strongly Agree,Strongly Agree,Strongly Agree,Strongly Agree,Strongly Agree,Strongly Agree,Agree,Strongly Agree,Strongly Agree,Strongly Agree,Strongly Agree,Strongly Agree,Strongly Agree,Strongly Agree,Strongly Agree,Strongly Agree,Strongly Agree,Strongly Agree,Strongly Agree,Strongly Agree,Strongly Agree,Strongly Agree,Strongly Agree,Strongly Agree,Strongly Agree,Strongly Agree,Strongly Agree,Yes,Yes,Yes,Yes,Face to Face,-,-,Face to Face,-,-,Face to Face,-,-,No,Yes,Yes,Yes,Yes,Female,21  25,Temporary Full-time,Administration (AO),3-4,1-2
6.34969167674375E+017,Brisbane North Institute of TAFE,Delivery (teaching),2013,Resignation,-,-,-,Ill Health,-,Contributing Factors. Dissatisfaction ,-,-,-,Travel,Other,-,Other,Neutral,Neutral,Neutral,Neutral,Agree,Disagree,Neutral,Neutral,Agree,Strongly Disagree,Disagree,Disagree,Neutral,Neutral,Strongly Agree,Strongly Agree,Neutral,Strongly Agree,Strongly Agree,Strongly Agree,Strongly Agree,Strongly Agree,Strongly Agree,Disagree,Neutral,Disagree,Disagree,Agree,Agree,Disagree,Yes,No,Yes,No,-,-,-,Face to Face,-,-,-,-,-,Yes,Yes,Yes,Yes,Yes,Female,56 or older,Permanent Part-time,Teacher (including LVT),11-20,11-20
6.34970182194493E+017,Mount Isa Institute of TAFE,Delivery (teaching),2013,Resignation,-,-,-,-,-,-,-,-,-,-,Other,-,,Agree,Agree,Agree,Neutral,Agree,Neutral,Agree,Agree,Agree,Neutral,Neutral,Neutral,Agree,Agree,Agree,Neutral,Agree,Agree,Agree,Agree,Agree,Agree,Neutral,Agree,Agree,Agree,Agree,Neutral,Neutral,Neutral,Yes,Yes,Yes,No,Face to Face,-,-,Face to Face,-,-,-,-,-,No,Yes,Yes,Yes,Yes,Male,51-55,Permanent Full-time,Teacher (including LVT),1-2,1-2
6.34973559823868E+017,Central Queensland Institute of TAFE,Non-Delivery (corporate),2013,Retrenchment/ Redundancy,,,,,,,,,,,,,,Strongly Disagree,Neutral,Agree,Agree,Disagree,Strongly Disagree,Disagree,Strongly Disagree,Strongly Disagree,Strongly Disagree,Disagree,Disagree,Strongly Disagree,Not Applicable,Agree,Agree,Neutral,Agree,Disagree,Neutral,Neutral,Agree,Agree,Agree,Agree,Strongly Disagree,Agree,Disagree,Agree,Agree,Yes,Yes,Yes,Yes,-,-,Induction Manual,-,-,Induction Manual,-,-,Induction Manual,No,No,No,No,No,Male,51-55,Permanent Full-time,Administration (AO),More than 20 years,More than 20 years
6.34975184457305E+017,Brisbane North Institute of TAFE,Non-Delivery (corporate),2013,Resignation,-,-,-,-,-,-,-,-,Study,-,-,-,,Neutral,Strongly Disagree,Strongly Disagree,Neutral,Strongly Disagree,Neutral,Disagree,Neutral,Disagree,Agree,Disagree,Disagree,Disagree,Disagree,Agree,Neutral,Agree,Disagree,Strongly Disagree,Disagree,Disagree,Neutral,Neutral,Disagree,Neutral,Disagree,Strongly Disagree,Disagree,Disagree,Agree,Yes,Yes,Yes,Yes,-,-,-,-,-,-,-,-,-,No,Yes,Yes,Yes,Yes,Female,26  30,Contract/casual,Administration (AO),Less than 1 year,Less than 1 year
6.34975203429336E+017,Central Queensland Institute of TAFE,Non-Delivery (corporate),2013,Resignation,-,Career Move - Private Sector,-,-,-,-,-,-,-,-,-,-,,Strongly Agree,Strongly Agree,Strongly Agree,Strongly Agree,Strongly Agree,Strongly Agree,Strongly Agree,Strongly Agree,Strongly Agree,Strongly Agree,Strongly Agree,Strongly Agree,Strongly Agree,Strongly Agree,Strongly Agree,Strongly Agree,Strongly Agree,Strongly Agree,Strongly Agree,Strongly Agree,Strongly Agree,Strongly Agree,Strongly Agree,Strongly Agree,Strongly Agree,Strongly Agree,Strongly Agree,Strongly Agree,Strongly Agree,Strongly Agree,Yes,Yes,Yes,No,-,-,-,-,-,-,-,-,-,No,Yes,Yes,Yes,Yes,Male,20 or younger,Temporary Full-time,Administration (AO),Less than 1 year,Less than 1 year
6.34975260386719E+017,Central Queensland Institute of TAFE,Non-Delivery (corporate),2013,Retrenchment/ Redundancy,,,,,,,,,,,,,,Strongly Disagree,Agree,Agree,Agree,Disagree,Strongly Disagree,Disagree,Strongly Disagree,Strongly Disagree,Strongly Disagree,Disagree,Disagree,Strongly Disagree,Agree,Agree,Agree,Neutral,Agree,Disagree,Neutral,Neutral,Neutral,Agree,Agree,Agree,Strongly Disagree,Agree,Agree,Agree,Agree,Yes,Yes,Yes,Yes,-,-,-,-,-,-,-,-,-,No,No,Yes,No,No,Male,51-55,Permanent Full-time,Administration (AO),More than 20 years,More than 20 years
6.3497631483625E+017,SkillsTech Australia,Delivery (teaching),2012,Resignation,-,Career Move - Private Sector,-,-,-,Contributing Factors. Dissatisfaction ,Job Dissatisfaction,-,-,-,-,-,Dissatisfaction with %[Institute]Q25LBL%,Strongly Disagree,Neutral,Neutral,Strongly Disagree,Neutral,Disagree,Strongly Disagree,Strongly Disagree,Strongly Disagree,Strongly Disagree,Strongly Disagree,Strongly Disagree,Disagree,Strongly Disagree,Agree,Agree,Strongly Disagree,Agree,Agree,Disagree,Disagree,Disagree,Neutral,Agree,Neutral,Disagree,Agree,Neutral,Agree,Strongly Disagree,Yes,No,Yes,No,-,-,-,-,On-line,-,-,-,-,Yes,No,No,No,No,Male,46  50,Permanent Full-time,Teacher (including LVT),7-10,Less than 1 year
6.34977079348281E+017,Brisbane North Institute of TAFE,Non-Delivery (corporate),2013,Resignation,Career Move - Public Sector,-,-,-,-,-,-,-,-,-,-,-,,Agree,Strongly Agree,Neutral,Not Applicable,Disagree,Agree,Strongly Agree,Strongly Agree,Strongly Agree,Agree,Not Applicable,Not Applicable,Not Applicable,Agree,Agree,Neutral,Neutral,Agree,Agree,Disagree,Disagree,Disagree,Neutral,Strongly Agree,Agree,Agree,Strongly Agree,Not Applicable,Agree,Agree,Yes,Yes,Yes,Yes,Face to Face,-,-,Face to Face,-,-,Face to Face,-,-,No,Yes,Yes,Yes,Yes,Female,46  50,Temporary Full-time,Administration (AO),5-6,Less than 1 year
6.34977844954805E+017,SkillsTech Australia,Delivery (teaching),2012,Contract Expired,,,,,,,,,,,,,,Agree,Agree,Agree,Agree,Agree,Agree,Agree,Agree,Agree,Agree,Agree,Agree,Agree,Agree,Agree,Agree,Agree,Agree,Agree,Agree,Agree,Agree,Agree,Strongly Agree,Agree,Agree,Agree,Agree,Agree,Agree,Yes,No,Yes,Yes,-,-,-,Face to Face,On-line,-,Face to Face,-,-,Yes,Yes,Yes,Yes,Yes,Female,21  25,Temporary Part-time,Administration (AO),Less than 1 year,Less than 1 year
6.34982066598317E+017,Southern Queensland Institute of TAFE,Delivery (teaching),2013,Resignation,-,Career Move - Private Sector,-,-,-,-,-,-,-,-,-,-,,Agree,Strongly Agree,Agree,Strongly Agree,Agree,Agree,Strongly Agree,Strongly Agree,Agree,Neutral,Strongly Agree,Strongly Agree,Strongly Agree,Strongly Agree,Agree,Agree,Agree,Agree,Agree,Agree,Agree,Agree,Strongly Agree,Strongly Agree,Agree,Strongly Agree,Strongly Agree,Strongly Agree,Agree,Agree,Yes,Yes,Yes,Yes,-,-,-,-,-,-,-,-,-,Yes,Yes,Yes,Yes,Yes,Male,51-55,Permanent Full-time,Teacher (including LVT),7-10,7-10
6.34982246838125E+017,Tropical North Institute of TAFE,Non-Delivery (corporate),2013,Retirement,-,-,-,-,Maternity/Family,-,-,-,-,Travel,Other,-,Other,Agree,Agree,Agree,Agree,Agree,Agree,Agree,Agree,Agree,Agree,Agree,Agree,Agree,Agree,Agree,Agree,Agree,Agree,Agree,Agree,Agree,Agree,Agree,Agree,Agree,Agree,Agree,Agree,Agree,Agree,Yes,No,Yes,Yes,-,-,-,Face to Face,-,-,Face to Face,-,Induction Manual,Yes,Yes,Yes,Yes,Yes,Female,56 or older,Permanent Part-time,Professional Officer (PO),5-6,1-2
6.34985719186563E+017,Mount Isa Institute of TAFE,Delivery (teaching),2013,Resignation,-,-,-,-,-,-,-,-,-,-,Other,-,,Agree,Agree,Agree,Agree,Disagree,Agree,Agree,Agree,Agree,Agree,Agree,Agree,Agree,Agree,Agree,Agree,Agree,Neutral,Agree,Agree,Agree,Agree,Agree,Agree,Agree,Agree,Agree,Agree,Agree,Agree,Yes,,,,Face to Face,-,-,Face to Face,-,-,Face to Face,-,-,Yes,Yes,Yes,Yes,Yes,Male,51-55,Temporary Full-time,Teacher (including LVT),3-4,3-4
6.34988299157536E+017,Southern Queensland Institute of TAFE,Delivery (teaching),2013,Contract Expired,,,,,,,,,,,,,,Disagree,Agree,Neutral,Neutral,Agree,Disagree,Disagree,Disagree,Disagree,Disagree,Neutral,Neutral,Agree,Neutral,Strongly Agree,Agree,Agree,Disagree,Strongly Agree,Agree,Agree,Agree,Agree,Disagree,Agree,Strongly Agree,Agree,Neutral,Agree,Agree,Yes,No,Yes,Yes,-,-,-,Face to Face,-,Induction Manual,Face to Face,-,-,Yes,Yes,Yes,Yes,,Female,46  50,Temporary Part-time,Teacher (including LVT),1-2,1-2
6.3499166642113E+017,SkillsTech Australia,Delivery (teaching),2013,Resignation,-,Career Move - Private Sector,-,-,-,-,Job Dissatisfaction,Interpersonal Conflict,-,-,-,-,Career Move - Private Sector,Neutral,Neutral,Neutral,Disagree,Disagree,Neutral,Neutral,Neutral,Disagree,Disagree,Neutral,Agree,Agree,Disagree,Neutral,Agree,Agree,Neutral,Neutral,Disagree,Disagree,Disagree,Neutral,Neutral,Agree,Neutral,Agree,Neutral,Neutral,Disagree,Yes,,Yes,,-,-,-,-,-,-,-,-,-,Yes,Yes,Yes,No,Yes,Male,36  40,Temporary Full-time,Teacher (including LVT),1-2,1-2
6.3499269435863E+017,Southern Queensland Institute of TAFE,Delivery (teaching),2013,Resignation,-,Career Move - Private Sector,-,-,-,-,-,-,-,-,-,-,,Strongly Agree,Strongly Agree,Strongly Agree,Strongly Agree,Strongly Agree,Strongly Agree,Strongly Agree,Strongly Agree,Strongly Agree,Strongly Agree,Agree,Strongly Agree,Strongly Agree,Strongly Agree,Strongly Agree,Strongly Agree,Strongly Agree,Strongly Agree,Strongly Agree,Strongly Agree,Strongly Agree,Strongly Agree,Strongly Agree,Strongly Agree,Strongly Agree,Strongly Agree,Strongly Agree,Strongly Agree,Strongly Agree,Strongly Agree,Yes,,Yes,Yes,-,-,-,-,-,-,-,-,-,Yes,Yes,Yes,Yes,Yes,Female,26  30,Temporary Part-time,Teacher (including LVT),Less than 1 year,7-10
6.34992856383005E+017,Southern Queensland Institute of TAFE,Delivery (teaching),2013,Termination,,,,,,,,,,,,,,Disagree,Disagree,Disagree,Disagree,Agree,Disagree,Disagree,Disagree,Disagree,Disagree,Not Applicable,Not Applicable,Not Applicable,Strongly Agree,Strongly Agree,Strongly Agree,Strongly Agree,Strongly Agree,Strongly Agree,Disagree,Disagree,Disagree,Disagree,Agree,Disagree,Agree,Agree,Not Applicable,Agree,Disagree,No,,,,,,,,,,,,,No,No,No,No,No,Female,56 or older,Contract/casual,Teacher (including LVT),5-6,5-6
6.34992898379375E+017,Southern Queensland Institute of TAFE,Delivery (teaching),2013,Termination,,,,,,,,,,,,,,Disagree,Disagree,Disagree,Disagree,Agree,Disagree,Disagree,Disagree,Disagree,Disagree,Not Applicable,Not Applicable,Not Applicable,Agree,Agree,Agree,Agree,Agree,Agree,Disagree,Disagree,Disagree,,Agree,Disagree,Agree,Agree,Disagree,Agree,Disagree,No,,,,,,,,,,,,,No,No,No,No,No,,,,,,
6.34995296716719E+017,Tropical North Institute of TAFE,Non-Delivery (corporate),2013,Resignation,-,-,-,-,-,-,-,Interpersonal Conflict,-,-,-,-,,Strongly Agree,Agree,Agree,Agree,Agree,Agree,Strongly Agree,Strongly Agree,Agree,Agree,Agree,Agree,Agree,Strongly Agree,Agree,Agree,Agree,Agree,Agree,Agree,Agree,Agree,Agree,Not Applicable,Agree,Agree,Agree,Agree,Agree,Agree,Yes,Yes,Yes,Yes,-,-,-,-,-,-,-,-,-,No,Yes,Yes,Yes,Yes,Female,51-55,Temporary Full-time,Administration (AO),Less than 1 year,Less than 1 year
6.34998528620661E+017,Southern Queensland Institute of TAFE,Non-Delivery (corporate),2013,Resignation,-,Career Move - Private Sector,-,-,-,-,-,-,Study,-,-,-,Career Move - Private Sector,Agree,Neutral,Neutral,Neutral,Agree,Neutral,Agree,Neutral,Agree,Disagree,Agree,Agree,Agree,Agree,Agree,Neutral,Agree,Agree,Neutral,Neutral,Neutral,Neutral,Neutral,Agree,Agree,Agree,Disagree,Agree,Agree,Neutral,Yes,Yes,Yes,Yes,-,-,-,-,-,-,-,-,-,Yes,Yes,Yes,Yes,No,Female,46  50,Temporary Part-time,Administration (AO),1-2,1-2
6.34999429878281E+017,Central Queensland Institute of TAFE,Non-Delivery (corporate),2013,Resignation,-,-,-,-,-,-,-,-,-,-,Other,-,,Neutral,Agree,Agree,Disagree,Disagree,Neutral,Agree,Agree,Agree,Agree,Agree,Agree,Agree,Agree,Agree,Agree,Agree,Agree,Agree,Neutral,Neutral,Neutral,Agree,Agree,Agree,Agree,Agree,Not Applicable,Agree,Agree,Yes,Yes,Yes,Yes,-,On-line,-,-,On-line,-,-,-,-,No,Yes,Yes,Yes,Yes,Female,41  45,Permanent Part-time,Administration (AO),3-4,3-4
6.35000251520036E+017,Brisbane North Institute of TAFE,Non-Delivery (corporate),2013,Resignation,-,Career Move - Private Sector,-,-,-,-,Job Dissatisfaction,-,-,-,-,-,Job Dissatisfaction,Agree,Neutral,Neutral,Strongly Disagree,Disagree,Neutral,Agree,Agree,Agree,Neutral,Agree,Agree,Agree,Agree,Agree,Disagree,Agree,Agree,Agree,Strongly Disagree,Strongly Disagree,Strongly Disagree,Strongly Disagree,Neutral,Strongly Disagree,Agree,Neutral,Strongly Disagree,Agree,Neutral,Yes,Yes,Yes,Yes,Face to Face,-,-,Face to Face,-,-,Face to Face,-,-,Yes,Yes,Yes,Yes,Yes,Female,46  50,Permanent Full-time,Administration (AO),5-6,More than 20 years
6.35000261847849E+017,Tropical North Institute of TAFE,Delivery (teaching),2013,Retrenchment/ Redundancy,,,,,,,,,,,,,,Disagree,Strongly Disagree,Disagree,Disagree,Agree,Strongly Disagree,Strongly Disagree,Strongly Disagree,Agree,Disagree,Strongly Disagree,Disagree,Disagree,Disagree,Strongly Disagree,Strongly Disagree,,Agree,Strongly Disagree,Neutral,Neutral,Disagree,Disagree,Strongly Disagree,Strongly Disagree,Strongly Disagree,Agree,Strongly Disagree,Strongly Disagree,Disagree,Yes,No,Yes,No,-,-,-,Face to Face,-,Induction Manual,Face to Face,-,Induction Manual,No,No,No,No,No,Male,56 or older,Permanent Full-time,Teacher (including LVT),More than 20 years,7-10
6.35000328156094E+017,Brisbane North Institute of TAFE,Non-Delivery (corporate),2013,Contract Expired,,,,,,,,,,,,,,Neutral,Neutral,Disagree,Neutral,Neutral,Neutral,Strongly Agree,Strongly Agree,Neutral,Neutral,Agree,Agree,Agree,Strongly Agree,Strongly Agree,Neutral,Neutral,Agree,Strongly Agree,Agree,Agree,Agree,Neutral,Strongly Agree,Strongly Agree,Agree,Agree,Disagree,Strongly Agree,Agree,Yes,Yes,Yes,Yes,Face to Face,-,-,Face to Face,-,-,Face to Face,-,-,No,Yes,Yes,Yes,Yes,Female,21  25,Temporary Full-time,Administration (AO),1-2,1-2
6.35004545579724E+017,Southern Queensland Institute of TAFE,Delivery (teaching),2013,Retirement,-,-,-,-,-,-,-,-,-,-,-,NONE,,Neutral,Agree,Agree,Agree,Strongly Agree,Agree,Agree,Neutral,Disagree,Neutral,Neutral,Neutral,Disagree,Neutral,Strongly Agree,Strongly Agree,Strongly Agree,Strongly Agree,Strongly Agree,Strongly Agree,Strongly Agree,Strongly Agree,Strongly Agree,Strongly Agree,Strongly Agree,Neutral,Strongly Agree,Strongly Agree,Strongly Agree,Agree,Yes,Yes,Yes,Yes,Face to Face,-,-,Face to Face,-,-,Face to Face,-,-,Yes,Yes,Yes,Yes,Yes,Female,56 or older,Permanent Full-time,Teacher (including LVT),More than 20 years,More than 20 years
6.35005511729063E+017,Tropical North Institute of TAFE,Delivery (teaching),2013,Resignation,-,-,-,Ill Health,-,-,-,-,-,-,-,-,,Strongly Agree,Agree,Agree,Not Applicable,Disagree,Agree,Agree,Agree,Agree,Agree,Agree,Agree,Agree,Agree,Agree,Strongly Agree,Agree,Agree,Neutral,Agree,Agree,Agree,Agree,Disagree,Agree,Disagree,Agree,Agree,Disagree,Neutral,Yes,No,Yes,No,-,-,-,Face to Face,On-line,-,-,-,-,No,Yes,Yes,Yes,Yes,,,,,,
6.3500553279375E+017,Tropical North Institute of TAFE,Delivery (teaching),2013,Resignation,-,-,-,-,-,-,-,-,-,-,-,-,,,,,,,,,,,,,,,,,,,,,,,,,,,,,,,,,,,,,,,,,,,,,,,,,,,,,,,
6.35005552776094E+017,Tropical North Institute of TAFE,Delivery (teaching),2013,Retirement,-,-,-,-,-,-,-,-,-,-,-,NONE,,Neutral,Agree,Agree,Agree,Agree,Neutral,Agree,Agree,Agree,Agree,Agree,Neutral,Agree,Strongly Agree,Strongly Agree,Strongly Agree,Strongly Agree,Strongly Agree,Agree,Strongly Agree,Strongly Agree,Agree,Agree,Agree,Agree,Agree,Strongly Agree,Agree,Agree,Agree,Yes,Yes,Yes,Yes,Face to Face,-,-,Face to Face,-,-,Face to Face,-,-,Yes,Yes,Yes,Yes,Yes,Female,56 or older,Permanent Full-time,Teacher (including LVT),More than 20 years,More than 20 years
6.35010751412813E+017,Central Queensland Institute of TAFE,Delivery (teaching),2013,Retirement,-,-,-,Ill Health,-,-,-,-,-,-,-,-,,Neutral,Agree,Agree,Disagree,Neutral,Agree,Agree,Agree,Strongly Agree,Agree,Neutral,Neutral,Neutral,Neutral,Strongly Agree,Strongly Agree,Agree,Strongly Agree,Strongly Agree,Strongly Agree,Strongly Agree,Strongly Agree,Agree,Neutral,Neutral,Agree,Strongly Agree,Strongly Agree,Agree,Agree,Yes,Yes,Yes,Yes,Face to Face,On-line,-,Face to Face,-,-,Face to Face,-,-,Yes,Yes,Yes,Yes,Yes,Male,56 or older,Permanent Full-time,Teacher (including LVT),More than 20 years,More than 20 years
6.35010822773594E+017,Brisbane North Institute of TAFE,Non-Delivery (corporate),2013,Resignation,-,-,-,-,-,-,-,-,-,-,Other,-,,Strongly Disagree,Strongly Disagree,Strongly Disagree,Strongly Disagree,Strongly Disagree,Strongly Disagree,Strongly Disagree,Strongly Disagree,Strongly Disagree,Strongly Disagree,Strongly Disagree,Strongly Disagree,Strongly Disagree,Strongly Disagree,Strongly Disagree,Strongly Disagree,Strongly Disagree,Strongly Disagree,Strongly Disagree,Strongly Disagree,Strongly Disagree,Strongly Disagree,Strongly Disagree,Strongly Disagree,Strongly Disagree,Strongly Disagree,Strongly Disagree,Strongly Disagree,Strongly Disagree,Strongly Disagree,Yes,,,,Face to Face,-,-,Face to Face,-,-,Face to Face,-,-,Yes,Yes,Yes,Yes,Yes,Female,26  30,Temporary Full-time,Administration (AO),3-4,3-4
6.35012419902813E+017,Tropical North Institute of TAFE,Delivery (teaching),2013,Resignation,,,,,,,,,,,,,,,,,,,,,,,,,,,,,,,,,,,,,,,,,,,,,,,,,,,,,,,,,,,,,,,,,,,
6.35012661372849E+017,Tropical North Institute of TAFE,Delivery (teaching),2013,Resignation,-,-,-,-,-,-,Job Dissatisfaction,-,-,-,-,-,,Neutral,Disagree,Disagree,Disagree,Disagree,Agree,Disagree,Neutral,Agree,Neutral,Disagree,Disagree,Neutral,Disagree,Agree,Strongly Agree,Neutral,Neutral,Disagree,Agree,Agree,Neutral,Strongly Agree,Disagree,Disagree,Neutral,Neutral,Neutral,Neutral,Disagree,Yes,,Yes,No,-,On-line,-,Face to Face,On-line,-,-,-,-,No,Yes,Yes,Yes,Yes,Female,46  50,Temporary Full-time,Teacher (including LVT),Less than 1 year,Less than 1 year
6.35013239645781E+017,Tropical North Institute of TAFE,Non-Delivery (corporate),2013,Retirement,-,-,-,Ill Health,-,-,-,-,-,-,-,-,,,,,,,,,,,,,,,,,,,,,,,,,,,,,,,,,,,,,,,,,,,,,,,,,,,,,,,
6.35016601672188E+017,Southern Queensland Institute of TAFE,Non-Delivery (corporate),2013,Retrenchment/ Redundancy,,,,,,,,,,,,,,Agree,Disagree,Disagree,Strongly Disagree,Strongly Disagree,Neutral,Agree,Strongly Disagree,Strongly Disagree,Strongly Disagree,Neutral,Disagree,Neutral,Agree,Strongly Agree,Strongly Agree,Strongly Agree,Strongly Agree,Agree,Agree,Agree,Agree,Strongly Agree,Strongly Agree,Agree,Strongly Agree,Strongly Agree,Neutral,Disagree,Disagree,Yes,Yes,Yes,Yes,Face to Face,-,-,Face to Face,-,-,Face to Face,-,-,Yes,Yes,Yes,Yes,Yes,Male,41  45,Temporary Full-time,Administration (AO),1-2,1-2
6.350170168575E+017,Sunshine Coast Institute of TAFE,Non-Delivery (corporate),2013,Retrenchment/ Redundancy,,,,,,,,,,,,,,Agree,Not Applicable,Strongly Disagree,,Neutral,Strongly Disagree,Agree,Disagree,Strongly Disagree,Neutral,Neutral,Neutral,Neutral,Strongly Disagree,Strongly Agree,Strongly Disagree,Not Applicable,Strongly Agree,Strongly Disagree,Agree,Agree,Agree,Strongly Disagree,Agree,Neutral,Strongly Disagree,Agree,Not Applicable,Strongly Disagree,Strongly Disagree,Yes,No,No,No,-,-,-,-,-,-,-,-,-,No,Yes,Yes,Yes,Yes,Female,51-55,Temporary Part-time,Operational (OO),Less than 1 year,Less than 1 year
6.35017508419688E+017,Tropical North Institute of TAFE,Delivery (teaching),2013,Resignation,-,-,-,-,-,Contributing Factors. Dissatisfaction ,Job Dissatisfaction,Interpersonal Conflict,-,-,Other,-,Dissatisfaction with %[Institute]Q25LBL%,Disagree,Strongly Disagree,Disagree,Not Applicable,Strongly Disagree,Neutral,Neutral,Neutral,Agree,Disagree,Strongly Disagree,Strongly Disagree,Strongly Disagree,Strongly Disagree,Neutral,Agree,Disagree,Agree,Disagree,Neutral,Neutral,Agree,Agree,Agree,Agree,Strongly Disagree,Disagree,Neutral,Neutral,Neutral,Yes,Yes,Yes,No,-,-,-,-,-,-,-,-,-,No,Yes,Yes,Yes,No,Male,51-55,Temporary Full-time,Teacher (including LVT),Less than 1 year,Less than 1 year
6.35019417764844E+017,Southern Queensland Institute of TAFE,Non-Delivery (corporate),2013,Resignation,Career Move - Public Sector,-,-,-,-,-,-,-,-,-,-,-,,Neutral,Neutral,Neutral,Neutral,Strongly Disagree,Agree,Agree,Agree,Strongly Disagree,Strongly Disagree,Neutral,Neutral,Neutral,Agree,Strongly Agree,Agree,Agree,Agree,Strongly Agree,Neutral,Neutral,Agree,Agree,Agree,Agree,Strongly Agree,Strongly Agree,Not Applicable,Agree,Strongly Disagree,No,,,,-,-,-,-,-,-,-,-,-,No,Yes,Yes,No,No,Female,41  45,Contract/casual,Administration (AO),1-2,Less than 1 year
6.35021852425625E+017,Brisbane North Institute of TAFE,Non-Delivery (corporate),2013,Resignation,-,-,-,-,-,-,-,-,-,-,Other,-,,Strongly Agree,Neutral,Neutral,Neutral,Disagree,Neutral,Neutral,Agree,Strongly Agree,Disagree,Neutral,Neutral,Disagree,Agree,Agree,Neutral,Agree,Disagree,Neutral,Neutral,Neutral,Neutral,Neutral,Agree,Agree,Agree,Agree,Disagree,Agree,Disagree,Yes,No,Yes,No,-,-,-,Face to Face,-,-,-,-,-,No,Yes,Yes,Yes,No,Female,36  40,Temporary Full-time,Administration (AO),Less than 1 year,Less than 1 year
6.35025280694687E+017,Brisbane North Institute of TAFE,Non-Delivery (corporate),2013,Resignation,-,Career Move - Private Sector,-,-,-,-,-,-,-,-,-,-,,Neutral,Agree,Agree,Neutral,Agree,Agree,Agree,Agree,Neutral,Agree,Agree,Neutral,Agree,Neutral,Strongly Agree,Agree,Agree,Agree,Agree,Neutral,Neutral,Neutral,Agree,Agree,Agree,Agree,Agree,Agree,Strongly Agree,Agree,Yes,Yes,Yes,Yes,Face to Face,-,-,Face to Face,-,-,Face to Face,-,-,Yes,Yes,Yes,Yes,Yes,Male,51-55,Permanent Full-time,Administration (AO),3-4,3-4
6.35027942448125E+017,Southern Queensland Institute of TAFE,Non-Delivery (corporate),2013,Resignation,-,-,-,Ill Health,-,-,-,-,-,-,-,-,,Neutral,Neutral,Agree,Disagree,Neutral,Agree,Strongly Agree,Agree,Agree,Strongly Agree,Agree,Agree,Neutral,Agree,Agree,Agree,Strongly Agree,Agree,Strongly Agree,Strongly Agree,Strongly Agree,Strongly Agree,Agree,Agree,Strongly Agree,Strongly Agree,Strongly Agree,Agree,Strongly Agree,Strongly Agree,Yes,,,,-,-,-,-,-,-,-,-,-,,,,,Yes,Female,56 or older,Temporary Part-time,Operational (OO),1-2,1-2
6.35030575197812E+017,Brisbane North Institute of TAFE,Delivery (teaching),2013,Retrenchment/ Redundancy,,,,,,,,,,,,,,Neutral,Agree,Agree,Agree,Agree,Agree,Agree,Agree,Disagree,Disagree,Agree,Agree,Agree,Neutral,Agree,Agree,Agree,Agree,Agree,Agree,Agree,Agree,Agree,Agree,Agree,Neutral,Agree,Agree,Agree,Agree,Yes,Yes,Yes,Yes,Face to Face,-,-,Face to Face,-,-,Face to Face,-,-,Yes,Yes,Yes,Yes,Yes,Male,41  45,Permanent Full-time,Administration (AO),5-6,3-4
6.35031425678438E+017,Central Queensland Institute of TAFE,Non-Delivery (corporate),2013,Resignation,-,-,-,-,-,-,-,-,-,-,Other,-,,Neutral,Strongly Disagree,Disagree,Neutral,Strongly Disagree,Neutral,Agree,Agree,Agree,Neutral,Neutral,Neutral,Neutral,Disagree,Agree,Disagree,Agree,Agree,Agree,Strongly Disagree,Strongly Disagree,Strongly Disagree,Strongly Disagree,Agree,Agree,Agree,Agree,Neutral,Agree,Agree,Yes,No,Yes,No,-,-,-,-,-,-,-,-,-,Yes,Yes,Yes,Yes,Yes,Female,26  30,Temporary Full-time,Administration (AO),Less than 1 year,Less than 1 year
6.35035655232813E+017,Mount Isa Institute of TAFE,Non-Delivery (corporate),2013,Resignation,Career Move - Public Sector,-,-,-,-,-,-,-,-,-,-,-,,Agree,Agree,Agree,Agree,Agree,Agree,Agree,Agree,Agree,Agree,Agree,Agree,Agree,Agree,Agree,Agree,Agree,Agree,Agree,Agree,Agree,Agree,Agree,Agree,Agree,Agree,Agree,Agree,Agree,Agree,Yes,,Yes,,-,-,-,Face to Face,-,-,-,-,-,Yes,Yes,Yes,Yes,Yes,Female,26  30,Permanent Part-time,Administration (AO),Less than 1 year,Less than 1 year
6.35037423338906E+017,Central Queensland Institute of TAFE,Non-Delivery (corporate),2013,Resignation,-,-,-,-,-,-,-,-,-,-,Other,-,,Strongly Agree,Strongly Agree,Strongly Agree,Strongly Agree,Strongly Agree,Strongly Agree,Strongly Agree,Strongly Agree,Strongly Agree,Strongly Agree,Strongly Agree,Strongly Agree,Strongly Agree,Strongly Agree,Strongly Agree,Strongly Agree,Strongly Agree,Strongly Agree,Strongly Agree,Strongly Agree,Strongly Agree,Strongly Agree,Strongly Agree,Strongly Agree,Strongly Agree,Strongly Agree,Strongly Agree,Strongly Agree,Strongly Agree,Strongly Agree,Yes,,Yes,,-,-,-,-,-,-,-,-,-,Yes,Yes,Yes,Yes,Yes,Female,41  45,Temporary Full-time,Administration (AO),Less than 1 year,Less than 1 year
6.35037453598125E+017,Brisbane North Institute of TAFE,Non-Delivery (corporate),2013,Resignation,Career Move - Public Sector,-,-,-,-,-,-,-,-,-,-,-,,Disagree,Agree,Agree,Disagree,Disagree,Disagree,Agree,Agree,Agree,Disagree,Disagree,Disagree,Disagree,Strongly Agree,Strongly Agree,Agree,Strongly Agree,Agree,Agree,Agree,Agree,Neutral,Neutral,Strongly Agree,Agree,Strongly Agree,Strongly Agree,Strongly Agree,Strongly Agree,Strongly Agree,Yes,,,,-,-,-,-,-,-,-,-,-,Yes,Yes,No,No,No,Male,41  45,Contract/casual,Administration (AO),3-4,Less than 1 year
6.35040151398125E+017,Brisbane North Institute of TAFE,Non-Delivery (corporate),2013,Resignation,-,-,-,-,-,Contributing Factors. Dissatisfaction ,Job Dissatisfaction,-,-,-,-,-,Job Dissatisfaction,Neutral,Neutral,Strongly Disagree,Strongly Disagree,Disagree,,,,Neutral,,Not Applicable,Not Applicable,Not Applicable,,Agree,Disagree,Strongly Disagree,Neutral,Disagree,Strongly Disagree,Strongly Disagree,Strongly Disagree,Neutral,Agree,Neutral,,Neutral,Not Applicable,,,Yes,,Yes,,-,-,-,Face to Face,-,-,-,-,-,Yes,Yes,Yes,Yes,No,Female,26  30,Temporary Full-time,Technical Officer (TO),1-2,1-2
6.3504256585625E+017,Brisbane North Institute of TAFE,Non-Delivery (corporate),2013,Resignation,Career Move - Public Sector,-,-,-,-,-,-,-,-,-,-,-,,Neutral,Disagree,Strongly Disagree,Disagree,Strongly Agree,Agree,Agree,Neutral,Strongly Disagree,Agree,Agree,Agree,Agree,Agree,Agree,Neutral,Neutral,Agree,Agree,Disagree,Disagree,Disagree,Disagree,Strongly Agree,Agree,Agree,Disagree,Neutral,Agree,Agree,Yes,Yes,Yes,Yes,Face to Face,-,-,Face to Face,-,-,Face to Face,-,-,Yes,Yes,Yes,Yes,Yes,Female,41  45,Temporary Full-time,Administration (AO),5-6,5-6
6.35042809083906E+017,Southern Queensland Institute of TAFE,Non-Delivery (corporate),2013,Termination,,,,,,,,,,,,,,Disagree,Strongly Agree,Agree,Disagree,Disagree,Neutral,Neutral,Neutral,Disagree,Neutral,Neutral,Neutral,Neutral,Disagree,Agree,Agree,Neutral,Agree,Neutral,Neutral,Neutral,Neutral,Neutral,Strongly Agree,Agree,Neutral,Neutral,Agree,Neutral,Disagree,Yes,Yes,Yes,Yes,-,-,-,-,-,-,-,-,-,Yes,Yes,Yes,Yes,Yes,Female,36  40,Temporary Full-time,Administration (AO),3-4,3-4
6.35047878104375E+017,Tropical North Institute of TAFE,Non-Delivery (corporate),2013,Resignation,-,-,-,-,-,-,-,-,-,-,-,NONE,,Agree,Agree,Neutral,Agree,Disagree,Agree,Agree,Neutral,Agree,Agree,Agree,Agree,Agree,Agree,Strongly Agree,Agree,Agree,Neutral,Agree,Agree,Agree,Agree,Agree,Agree,Agree,Strongly Agree,Agree,Neutral,Agree,Agree,Yes,Yes,Yes,Yes,-,-,-,-,-,-,-,-,-,Yes,Yes,Yes,Yes,Yes,Female,46  50,Permanent Part-time,Professional Officer (PO),5-6,5-6
6.3504798376125E+017,Central Queensland Institute of TAFE,Delivery (teaching),2013,Resignation,-,-,-,Ill Health,-,-,Job Dissatisfaction,-,-,-,-,-,Job Dissatisfaction,Neutral,Disagree,Disagree,Disagree,Neutral,Neutral,Neutral,Neutral,Agree,Neutral,Neutral,Neutral,Neutral,Disagree,Strongly Agree,Neutral,Neutral,Agree,Strongly Agree,Disagree,Disagree,Strongly Disagree,Neutral,Disagree,Disagree,Neutral,Disagree,Neutral,Agree,Neutral,Yes,Yes,No,No,-,On-line,-,-,-,-,-,-,-,No,Yes,Yes,Yes,Yes,Male,41  45,Permanent Full-time,Teacher (including LVT),Less than 1 year,Less than 1 year
6.35049577295469E+017,Southern Queensland Institute of TAFE,Non-Delivery (corporate),2013,Resignation,-,-,-,Ill Health,-,-,-,-,-,-,-,-,,,,,,,,,,,,,,,,,,,,,,,,,,,,,,,,Yes,Yes,Yes,Yes,-,-,-,-,-,-,-,-,-,,,,,,,,,,,
6.35049585605E+017,Southern Queensland Institute of TAFE,Non-Delivery (corporate),2013,Resignation,-,-,-,Ill Health,-,-,-,-,-,-,-,-,,Strongly Agree,Strongly Agree,Strongly Agree,Strongly Agree,Strongly Agree,Strongly Agree,Strongly Agree,Strongly Agree,Strongly Agree,Agree,Strongly Agree,Strongly Agree,Strongly Agree,Strongly Agree,Strongly Agree,Strongly Agree,Strongly Agree,Strongly Agree,Strongly Agree,Agree,Strongly Agree,Strongly Agree,Strongly Agree,Agree,Strongly Agree,Strongly Agree,Agree,Strongly Agree,Agree,Agree,Yes,Yes,,,-,On-line,-,-,-,-,-,-,-,Yes,Yes,Yes,Yes,Yes,Female,56 or older,Permanent Part-time,Operational (OO),3-4,3-4
6.35059151164844E+017,Mount Isa Institute of TAFE,Delivery (teaching),2013,Contract Expired,,,,,,,,,,,,,,,,,,,,,,,,,,,,,,,,,,,,,,,,,,,,,,,,,,,,,,,,,,,,,,,,,,,
6.35059949710781E+017,Tropical North Institute of TAFE,Non-Delivery (corporate),2013,Resignation,-,Career Move - Private Sector,-,-,-,-,-,-,-,-,-,-,,Neutral,Neutral,Agree,Disagree,Disagree,Agree,Agree,Neutral,Neutral,Disagree,Agree,Agree,Agree,Neutral,Strongly Agree,Agree,Strongly Agree,Agree,Strongly Agree,Strongly Agree,Strongly Agree,Strongly Agree,Agree,Neutral,Neutral,Agree,Neutral,Agree,Strongly Agree,Disagree,Yes,No,Yes,No,-,-,-,-,On-line,-,-,-,-,Yes,Yes,Yes,Yes,Yes,Female,26  30,Temporary Full-time,Administration (AO),1-2,1-2
6.35065177031604E+017,Sunshine Coast Institute of TAFE,Non-Delivery (corporate),2013,Resignation,-,Career Move - Private Sector,-,-,-,-,-,-,-,-,-,-,,,,,,,,,,,,,,,,,,,,,,,,,,,,,,,,,,,,,,,,,,,,,,,,,,,,,,,
6.35065277683125E+017,Southern Queensland Institute of TAFE,Delivery (teaching),2013,Contract Expired,,,,,,,,,,,,,,Strongly Agree,Strongly Agree,Strongly Agree,Neutral,Neutral,Agree,Strongly Agree,Strongly Agree,Strongly Agree,Strongly Agree,Strongly Agree,Strongly Agree,Strongly Agree,Strongly Agree,Strongly Agree,Strongly Agree,Strongly Agree,Strongly Agree,Strongly Agree,Strongly Agree,Strongly Agree,Strongly Agree,Strongly Agree,Strongly Agree,Strongly Agree,Strongly Agree,Strongly Agree,Strongly Agree,Strongly Agree,Strongly Agree,Yes,No,Yes,Yes,-,-,-,-,-,-,-,-,-,No,Yes,Yes,Yes,Yes,Female,56 or older,Temporary Part-time,Teacher (including LVT),Less than 1 year,Less than 1 year
6.35065973820625E+017,Southern Queensland Institute of TAFE,Non-Delivery (corporate),2013,Resignation,-,Career Move - Private Sector,-,-,-,-,-,-,-,-,-,-,,Neutral,Strongly Disagree,Strongly Disagree,Not Applicable,Disagree,Agree,Agree,Agree,Agree,Neutral,Neutral,Neutral,Neutral,Agree,Agree,Agree,Agree,Agree,Agree,Agree,Agree,Agree,Agree,Agree,Agree,Agree,Agree,Agree,Agree,Agree,Yes,No,,,-,-,-,Face to Face,-,-,Face to Face,-,-,Yes,Yes,Yes,Yes,Yes,Male,21  25,Temporary Full-time,Operational (OO),5-6,5-6
6.35066785175197E+017,Barrier Reef Institute of TAFE,Delivery (teaching),2013,Resignation,Career Move - Public Sector,-,-,-,-,-,-,-,-,-,-,-,,Neutral,Agree,Agree,Neutral,Disagree,Neutral,Agree,Agree,Agree,Disagree,Agree,Agree,Agree,Agree,Strongly Agree,Strongly Agree,Strongly Agree,Strongly Agree,Strongly Agree,Neutral,Neutral,Neutral,Agree,Agree,Neutral,Neutral,Agree,Neutral,Neutral,Neutral,No,,,,,,,,,,,,,Yes,Yes,Yes,Yes,Yes,Male,51-55,Temporary Full-time,Teacher (including LVT),1-2,1-2
6.35067716405666E+017,Southern Queensland Institute of TAFE,Non-Delivery (corporate),2013,Resignation,Career Move - Public Sector,-,-,-,-,-,-,-,-,-,-,-,,,,,,,,,,,,,,,,,,,,,,,,,,,,,,,,,,,,,,,,,,,,,,,,,,,,,,,
6.35070442972541E+017,Tropical North Institute of TAFE,Delivery (teaching),2013,Resignation,-,-,-,-,-,-,-,-,-,-,Other,-,,Agree,Strongly Agree,Strongly Agree,Neutral,Agree,Agree,Agree,Agree,Agree,Neutral,Agree,Agree,Agree,Agree,Agree,Strongly Agree,Strongly Agree,Agree,Agree,Agree,Agree,Agree,Strongly Agree,Agree,Strongly Agree,Strongly Agree,Strongly Agree,Agree,Agree,Agree,Yes,No,Yes,Yes,-,-,-,-,-,Induction Manual,Face to Face,-,-,Yes,Yes,Yes,Yes,Yes,Female,51-55,Permanent Full-time,Teacher (including LVT),5-6,1-2
6.35071153170979E+017,Southbank Institute of Technology,Non-Delivery (corporate),2013,Contract Expired,,,,,,,,,,,,,,Strongly Agree,Strongly Disagree,Strongly Disagree,Strongly Disagree,Disagree,Agree,Neutral,Neutral,Strongly Agree,Agree,Strongly Disagree,Strongly Disagree,Strongly Disagree,Strongly Disagree,Agree,Strongly Agree,Neutral,Agree,Disagree,Strongly Agree,Strongly Agree,Strongly Agree,Strongly Agree,Strongly Disagree,Strongly Disagree,Disagree,Agree,Strongly Agree,Agree,Neutral,Yes,No,Yes,Yes,-,On-line,-,Face to Face,-,-,Face to Face,-,-,No,No,No,Yes,No,Female,41  45,Temporary Full-time,Professional Officer (PO),1-2,1-2
6.35073030973791E+017,Tropical North Institute of TAFE,Non-Delivery (corporate),2013,Resignation,-,-,Career Move - Self-employment,-,-,-,-,-,-,Travel,-,-,Career Move - Self-employment,Strongly Agree,Strongly Agree,Strongly Agree,Strongly Agree,Strongly Agree,Strongly Agree,Strongly Agree,Strongly Agree,Strongly Agree,Agree,Strongly Agree,Strongly Agree,Strongly Agree,Strongly Agree,Strongly Agree,Neutral,Strongly Agree,Strongly Agree,Agree,Disagree,Strongly Agree,Strongly Agree,Strongly Agree,Strongly Agree,Strongly Agree,Strongly Agree,Strongly Agree,Neutral,Strongly Agree,Strongly Agree,Yes,Yes,Yes,Yes,-,-,-,-,-,-,-,-,-,Yes,Yes,Yes,Yes,Yes,Female,26  30,Contract/casual,Administration (AO),3-4,1-2
